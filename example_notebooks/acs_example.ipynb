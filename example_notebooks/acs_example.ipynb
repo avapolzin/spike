{
 "cells": [
  {
   "cell_type": "markdown",
   "id": "7f5ebab3-edf3-4fc4-b6fc-4260d8edc52b",
   "metadata": {},
   "source": [
    "# Drizzled PSFs from _HST_/ACS Imaging\n",
    "\n",
    "This example notebook shows how `spike` interacts with _HST_/ACS imaging to generate a drizzled PSF. This notebook uses observations from [this program](https://archive.stsci.edu/cgi-bin/mastpreview?mission=hst&amp;dataid=J8PU42010). The easiest way to find these data in the MAST archive is by searching for observation ID j8pu42010. `spike` uses calibrated, but not-yet co-added images (i.e., \"Level 2\" data products), so be sure that your download includes 'flc' files. If you download all of the files associated with this program, your working directory will include:\n",
    "- j8pu42ecq_flc.fits\n",
    "- j8pu42egq_flc.fits\n",
    "- j8pu42esq_flc.fits\n",
    "- j8pu42evq_flc.fits\n",
    "\n",
    "The principle of this example notebook is the same regardless of dataset, though, so it can be used as a direct guide for use with other data, too.\n",
    "\n",
    "_NOTE: Environment variables are not always read in properly within Jupyter notebooks/JupyterLab -- see [here](https://github.com/avapolzin/spike/blob/master/example_notebooks/README.md) for some additional details of how to access them._"
   ]
  },
  {
   "cell_type": "code",
   "execution_count": 1,
   "id": "7e572886-ef3b-4485-843f-97d1e48c3052",
   "metadata": {},
   "outputs": [],
   "source": [
    "from spike.psf import hst # import the relevant top-level module from spike\n",
    "\n",
    "datapath = '/path/to/acs/data'\n",
    "outputpath = 'psfs' #default is /psfs, defined from your working directory"
   ]
  },
  {
   "cell_type": "markdown",
   "id": "b3d835e3-fec8-4473-a69a-50ec2052c472",
   "metadata": {},
   "source": [
    "Note that if you choose to create drizzled PSFs for the same data and object location using multiple PSF generation methods, you will want to define a new 'savedir' each time to avoid conflicts between files with the same name.\n",
    "\n",
    "We'll also define an object -- in this case, a set of coordinates -- for which the PSF will be generated."
   ]
  },
  {
   "cell_type": "code",
   "execution_count": 2,
   "id": "02bdaba4-5523-4324-8c87-dd3cb3633384",
   "metadata": {},
   "outputs": [],
   "source": [
    "obj = '10:00:33.0178 +02:09:52.304' #can also be a resolvable name or coordinates in decimal degress"
   ]
  },
  {
   "cell_type": "markdown",
   "id": "7c8e698f-2486-47ea-9aea-b675bafd313a",
   "metadata": {},
   "source": [
    "Now, we can call `spike.psf.hst` -- as an initial example we'll use the most minimal inputs. By default, in addition to saving drizzled PSFs and any intermediate products in the directory given by 'savedir' (here the argument will be the outputpath variable we definied), this function will return a dictionary that stores model PSFs indexed by filter and object. \n",
    "\n",
    "If `returnpsf = 'full'` (default), the arrays in the dictionary will be the full drizzled image field of view. If `returnpsf = 'crop'`, the arrays in the dictionary will be the cutout region around the object location with the size of the cutout determined by the 'cutout_fov' argument; the cropped region around the drizzled PSF will also be saved as a FITS file, including its WCS information (can be toggled off with `savecutout = False`).\n",
    "\n",
    "`spike` assumes that the input files have not yet been \"tweaked\" and handles that step for you. If your input images have been tweaked _or_ if you would like to skip this step for other reasons, specify `pretweaked = True` in calling `spike.psf.hst`.\n",
    "\n",
    "The outputs are very long due to all of the print statements from the tweak, PSF generation, and drizzling steps. Outputs have been cleared for cells where `spike.psf.hst` was run."
   ]
  },
  {
   "cell_type": "code",
   "execution_count": null,
   "id": "d65cf833-c5e6-4d94-9816-ed11313c93d1",
   "metadata": {
    "scrolled": true
   },
   "outputs": [],
   "source": [
    "dpsf = hst(img_dir = datapath, obj = obj, img_type = 'flc', inst = 'ACS', camera = 'WFC', savedir = outputpath, pretweaked = True)"
   ]
  },
  {
   "cell_type": "markdown",
   "id": "9c7bd87a-a275-4bf2-b93e-5322a077c750",
   "metadata": {},
   "source": [
    "In this case dpsf will be very simple, since we are only looking at one set of coordinates and one filter:"
   ]
  },
  {
   "cell_type": "code",
   "execution_count": 4,
   "id": "d4c42e0d-a6db-4eb2-9449-57daff8903d7",
   "metadata": {},
   "outputs": [
    {
     "data": {
      "text/plain": [
       "{'10:00:33.0178 +02:09:52.304': {'F475W': array([[ 0.,  0.,  0., ..., nan, nan, nan],\n",
       "         [ 0.,  0.,  0., ..., nan, nan, nan],\n",
       "         [ 0.,  0.,  0., ..., nan, nan, nan],\n",
       "         ...,\n",
       "         [nan, nan, nan, ...,  0.,  0.,  0.],\n",
       "         [nan, nan, nan, ...,  0.,  0.,  0.],\n",
       "         [nan, nan, nan, ...,  0.,  0.,  0.]],\n",
       "        shape=(2359, 4162), dtype='>f4')}}"
      ]
     },
     "execution_count": 4,
     "metadata": {},
     "output_type": "execute_result"
    }
   ],
   "source": [
    "dpsf"
   ]
  },
  {
   "cell_type": "markdown",
   "id": "0cd20cec-c153-4bbc-9912-3d477a3cc809",
   "metadata": {},
   "source": [
    "By default, PSFs are generated for `spike.psf.hst` by `TinyTim` using a blackbody model of a G5V star at 6000 K, but users have complete control over the specifics of the PSF generation. To change the parameters within a method (e.g., updating model arguments, setting different detection thresholds for the empirical PSFs, ...), `spike.psf.hst` directly takes keyword arguments for specified 'method'. Details of allowed arguments are available in the `spike.psfgen` [documentation](https://spike-psf.readthedocs.io/en/latest/psfgen.html). As an example, we will change the `TinyTim` model inputs to use an O6 star at 45000 K:"
   ]
  },
  {
   "cell_type": "code",
   "execution_count": null,
   "id": "768e0107-e831-4bca-9fe2-6af5c3a367e6",
   "metadata": {
    "scrolled": true
   },
   "outputs": [],
   "source": [
    "dpsf = hst(img_dir = datapath, obj = obj, img_type = 'flc', inst = 'ACS', camera = 'WFC', savedir = outputpath, pretweaked = True, \n",
    "          listchoice = 'O6', temp = 45000)"
   ]
  },
  {
   "cell_type": "markdown",
   "id": "24ee0df8-d757-4d83-a079-620ee19564f8",
   "metadata": {},
   "source": [
    "`spike` can also be used to generate PSFs for multiple objects/coordinates simultaneously."
   ]
  },
  {
   "cell_type": "code",
   "execution_count": null,
   "id": "ad0b682a-8d60-4922-8d07-d9a694e0434b",
   "metadata": {
    "scrolled": true
   },
   "outputs": [],
   "source": [
    "obj = ['10:00:33.0178 +02:09:52.304', '10:00:28.1798 +02:08:40.507']\n",
    "\n",
    "dpsf = hst(img_dir = datapath, obj = obj, img_type = 'flc', inst = 'ACS', camera = 'WFC', savedir = outputpath, pretweaked = True)"
   ]
  },
  {
   "cell_type": "code",
   "execution_count": 7,
   "id": "1b4543e1-1228-493c-bb6e-8678cd6e59bc",
   "metadata": {},
   "outputs": [
    {
     "data": {
      "text/plain": [
       "{'10:00:33.0178 +02:09:52.304': {'F475W': array([[ 0.,  0.,  0., ..., nan, nan, nan],\n",
       "         [ 0.,  0.,  0., ..., nan, nan, nan],\n",
       "         [ 0.,  0.,  0., ..., nan, nan, nan],\n",
       "         ...,\n",
       "         [nan, nan, nan, ...,  0.,  0.,  0.],\n",
       "         [nan, nan, nan, ...,  0.,  0.,  0.],\n",
       "         [nan, nan, nan, ...,  0.,  0.,  0.]],\n",
       "        shape=(2359, 4162), dtype='>f4')},\n",
       " '10:00:28.1798 +02:08:40.507': {'F475W': array([[ 0.,  0.,  0., ..., nan, nan, nan],\n",
       "         [ 0.,  0.,  0., ..., nan, nan, nan],\n",
       "         [ 0.,  0.,  0., ..., nan, nan, nan],\n",
       "         ...,\n",
       "         [nan, nan, nan, ...,  0.,  0.,  0.],\n",
       "         [nan, nan, nan, ...,  0.,  0.,  0.],\n",
       "         [nan, nan, nan, ...,  0.,  0.,  0.]],\n",
       "        shape=(2359, 4162), dtype='>f4')}}"
      ]
     },
     "execution_count": 7,
     "metadata": {},
     "output_type": "execute_result"
    }
   ],
   "source": [
    "dpsf"
   ]
  },
  {
   "cell_type": "markdown",
   "id": "36ea0019-54c5-4ced-9544-cc10e20a36e6",
   "metadata": {},
   "source": [
    "One advantage of `spike` is that it can be used flexibly with a variety of different PSF generation methods -- to change which one is used, simply use the 'method' argument. Built-in options are:\n",
    "- 'TinyTim’\n",
    "- ‘TinyTim_Gillis’\n",
    "- ‘STDPSF’\n",
    "- ‘epsf’\n",
    "- ‘PSFEx’\n",
    "\n",
    "If `method = 'USER'`, then the keyword argument 'usermethod' must also be specified, pointing to either a function or a directory that houses model PSFs that follow the \\[imgprefix]\\_\\[coords]\\_\\[band]\\_topsf.fits, e.g., imgprefix_23.31+30.12_F814W_topsf.fits or imgprefix_195.78-46.52_F555W_topsf.fits naming scheme.\n",
    "\n",
    "We'll use STDPSFs below and have `spike` output cutouts around the drizzled PSF."
   ]
  },
  {
   "cell_type": "code",
   "execution_count": null,
   "id": "f34f3665-39e6-490e-b111-baa637f9e7f5",
   "metadata": {},
   "outputs": [],
   "source": [
    "obj = '10:00:33.0178 +02:09:52.304'\n",
    "\n",
    "dpsf = hst(img_dir = datapath, obj = obj, img_type = 'flc', inst = 'ACS', camera = 'WFC', \n",
    "           savedir = outputpath, pretweaked = True, method = 'STDPSF', returnpsf = 'crop')"
   ]
  },
  {
   "cell_type": "code",
   "execution_count": 10,
   "id": "f712962c-7d1a-4ffe-8cb4-9f47cfc9383c",
   "metadata": {},
   "outputs": [
    {
     "data": {
      "text/plain": [
       "{'10:00:33.0178 +02:09:52.304': {'F475W': array([[0., 0., 0., ..., 0., 0., 0.],\n",
       "         [0., 0., 0., ..., 0., 0., 0.],\n",
       "         [0., 0., 0., ..., 0., 0., 0.],\n",
       "         ...,\n",
       "         [0., 0., 0., ..., 0., 0., 0.],\n",
       "         [0., 0., 0., ..., 0., 0., 0.],\n",
       "         [0., 0., 0., ..., 0., 0., 0.]], shape=(151, 151), dtype='>f4')}}"
      ]
     },
     "execution_count": 10,
     "metadata": {},
     "output_type": "execute_result"
    }
   ],
   "source": [
    "dpsf"
   ]
  },
  {
   "cell_type": "markdown",
   "id": "cd2df098-9285-498f-b429-b9a3d90a21d6",
   "metadata": {},
   "source": [
    "`spike` can handle most plotting automatically and generates PSFs regardless of whether they are plotted. In most cases, `spike` is the only package you'll actually need to both create and visualize your PSFs."
   ]
  }
 ],
 "metadata": {
  "kernelspec": {
   "display_name": "Python 3 (ipykernel)",
   "language": "python",
   "name": "python3"
  },
  "language_info": {
   "codemirror_mode": {
    "name": "ipython",
    "version": 3
   },
   "file_extension": ".py",
   "mimetype": "text/x-python",
   "name": "python",
   "nbconvert_exporter": "python",
   "pygments_lexer": "ipython3",
   "version": "3.9.12"
  }
 },
 "nbformat": 4,
 "nbformat_minor": 5
}
