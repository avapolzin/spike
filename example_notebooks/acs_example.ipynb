{
 "cells": [
  {
   "cell_type": "markdown",
   "id": "7f5ebab3-edf3-4fc4-b6fc-4260d8edc52b",
   "metadata": {},
   "source": [
    "# Drizzled PSFs from _HST_/ACS Imaging\n",
    "\n",
    "This example notebook shows how `spike` interacts with _HST_/ACS imaging to generate a drizzled PSF. This notebook uses observations from [this program](https://archive.stsci.edu/cgi-bin/mastpreview?mission=hst&amp;dataid=J8PU42010). The easiest way to find these data in the MAST archive is by searching for observation ID j8pu42010. `spike` uses calibrated, but not-yet co-added images (i.e., \"Level 2\" data products), so be sure that your download includes 'flc' files. If you download all of the files associated with this program, your working directory will include:\n",
    "- j8pu42ecq_flc.fits\n",
    "- j8pu42egq_flc.fits\n",
    "- j8pu42esq_flc.fits\n",
    "- j8pu42evq_flc.fits\n",
    "\n",
    "The principle of this example notebook is the same regardless of dataset, though, so it can be used as a direct guide for use with other data, too.\n",
    "\n",
    "_NOTE: Environment variables are not always read in properly within Jupyter notebooks/JupyterLab -- see [here](https://github.com/avapolzin/spike/blob/master/example_notebooks/README.md) for some additional details of how to access them._"
   ]
  },
  {
   "cell_type": "code",
   "execution_count": 1,
   "id": "7e572886-ef3b-4485-843f-97d1e48c3052",
   "metadata": {},
   "outputs": [],
   "source": [
    "from spike.psf import hst # import the relevant top-level module from spike\n",
    "\n",
    "datapath = '/Users/avapolzin/Desktop/psf_testoutputs/acs' #'/path/to/acs/data'\n",
    "outputpath = 'psfs' #default is /psfs, defined from your working directory"
   ]
  },
  {
   "cell_type": "markdown",
   "id": "b3d835e3-fec8-4473-a69a-50ec2052c472",
   "metadata": {},
   "source": [
    "Note that if you choose to create drizzled PSFs for the same data and object location using multiple PSF generation methods, you will want to define a new 'savedir' each time to avoid conflicts between files with the same name.\n",
    "\n",
    "We'll also define an object -- in this case, a set of coordinates -- for which the PSF will be generated."
   ]
  },
  {
   "cell_type": "code",
   "execution_count": 2,
   "id": "02bdaba4-5523-4324-8c87-dd3cb3633384",
   "metadata": {},
   "outputs": [],
   "source": [
    "obj = '10:00:33.0178 +02:09:52.304' #can also be a resolvable name or coordinates in decimal degress"
   ]
  },
  {
   "cell_type": "markdown",
   "id": "7c8e698f-2486-47ea-9aea-b675bafd313a",
   "metadata": {},
   "source": [
    "Now, we can call `spike.psf.hst` -- as an initial example we'll use the most minimal inputs. By default, in addition to saving drizzled PSFs and any intermediate products in the directory given by 'savedir' (here the argument will be the outputpath variable we definied), this function will return a dictionary that stores model PSFs indexed by filter and object. \n",
    "\n",
    "If `returnpsf = 'full'` (default), the arrays in the dictionary will be the full drizzled image field of view. If `returnpsf = 'crop'`, the arrays in the dictionary will be the cutout region around the object location with the size of the cutout determined by the 'cutout_fov' argument; the cropped region around the drizzled PSF will also be saved as a FITS file, including its WCS information (can be toggled off with `savecutout = False`).\n",
    "\n",
    "`spike` assumes that the input files have not yet been \"tweaked\" and handles that step for you. If your input images have been tweaked _or_ if you would like to skip this step for other reasons, specify `pretweaked = True` in calling `spike.psf.hst`."
   ]
  },
  {
   "cell_type": "code",
   "execution_count": 3,
   "id": "d65cf833-c5e6-4d94-9816-ed11313c93d1",
   "metadata": {
    "scrolled": true
   },
   "outputs": [
    {
     "name": "stdout",
     "output_type": "stream",
     "text": [
      "\n",
      "\n",
      "The following task in the stsci.skypac package can be run with TEAL:\n",
      "                                    skymatch                                    \n"
     ]
    },
    {
     "name": "stderr",
     "output_type": "stream",
     "text": [
      "2025-05-09 09:52:51,404 - stpipe - WARNING - /Users/avapolzin/opt/anaconda3/envs/spike/lib/python3.10/site-packages/spike/psf/psf.py:185: Warning: All of major, minor, and angle must be specified to be applied. Proceeding with no elliptical jitter.\n",
      "\n"
     ]
    },
    {
     "name": "stdout",
     "output_type": "stream",
     "text": [
      "The following tasks in the drizzlepac package can be run with TEAL:\n",
      "    astrodrizzle       config_testbed      imagefindpars           mapreg       \n",
      "       photeq            pixreplace           pixtopix            pixtosky      \n",
      "  refimagefindpars       resetbits          runastrodriz          skytopix      \n",
      "     tweakback            tweakreg           updatenpol\n",
      "Tiny Tim v7.5\n",
      "Intermediate PSF dimensions are 464 by 464\n",
      "\n",
      "Computing PSF for position 1/1 (x,y) = 1020 181\n",
      "   Computing PSF 1/18 for wavelength 393.82 nm (weight=0.008917)\n",
      "   Computing PSF 2/18 for wavelength 402.92 nm (weight=0.024755)\n",
      "   Computing PSF 3/18 for wavelength 412.02 nm (weight=0.037561)\n",
      "   Computing PSF 4/18 for wavelength 421.11 nm (weight=0.045079)\n",
      "   Computing PSF 5/18 for wavelength 430.21 nm (weight=0.052658)\n",
      "   Computing PSF 6/18 for wavelength 439.31 nm (weight=0.056584)\n",
      "   Computing PSF 7/18 for wavelength 448.41 nm (weight=0.059373)\n",
      "   Computing PSF 8/18 for wavelength 457.51 nm (weight=0.061140)\n",
      "   Computing PSF 9/18 for wavelength 466.61 nm (weight=0.064193)\n",
      "   Computing PSF 10/18 for wavelength 475.70 nm (weight=0.065803)\n",
      "   Computing PSF 11/18 for wavelength 484.80 nm (weight=0.067198)\n",
      "   Computing PSF 12/18 for wavelength 493.90 nm (weight=0.069242)\n",
      "   Computing PSF 13/18 for wavelength 503.00 nm (weight=0.070478)\n",
      "   Computing PSF 14/18 for wavelength 512.10 nm (weight=0.072073)\n",
      "   Computing PSF 15/18 for wavelength 521.20 nm (weight=0.071785)\n",
      "   Computing PSF 16/18 for wavelength 530.30 nm (weight=0.070366)\n",
      "   Computing PSF 17/18 for wavelength 539.39 nm (weight=0.069026)\n",
      "   Computing PSF 18/18 for wavelength 548.49 nm (weight=0.033769)\n",
      "   Writing PSF to /Users/avapolzin/Desktop/psf_testoutputs/acs/j8pu42ecq_flc_150d08m15.267s+2d09m52.304s_F475W_psf00_psf.fits\n",
      "\n",
      "Started at  Fri May  9 09:52:51 2025\n",
      "Finished at Fri May  9 09:52:54 2025\n",
      "\n",
      "Writing template optional parameter file for tiny3 to /Users/avapolzin/Desktop/psf_testoutputs/acs/j8pu42ecq_flc_150d08m15.267s+2d09m52.304s_F475W_psf.tt3.\n",
      "\n",
      "To continue PSF processing for ACS and WFC3, you must run tiny3 to resample\n",
      "and distort the PSF.  You may also process a simulated scene (see\n",
      "the manual for details).\n",
      "\n",
      "Just to distort the PSF, issue this command :\n",
      "\n",
      "        tiny3 tiny.param\n",
      "\n"
     ]
    },
    {
     "name": "stderr",
     "output_type": "stream",
     "text": [
      "2025-05-09 09:52:54,776 - stpipe - WARNING - /Users/avapolzin/opt/anaconda3/envs/spike/lib/python3.10/site-packages/spike/psf/psf.py:185: Warning: All of major, minor, and angle must be specified to be applied. Proceeding with no elliptical jitter.\n",
      "\n"
     ]
    },
    {
     "name": "stdout",
     "output_type": "stream",
     "text": [
      "Tiny Tim v7.5\n",
      "Processing PSF for position 1/1 : (x,y) = 1020 181\n",
      "Reading input PSF from /Users/avapolzin/Desktop/psf_testoutputs/acs/j8pu42ecq_flc_150d08m15.267s+2d09m52.304s_F475W_psf00_psf.fits.\n",
      "  Input critically-sampled undistorted PSF dimensions are 464 by 464 (0.013018 arcsec/pixel).\n",
      "  Mapping PSF onto distorted grid.\n",
      "  Convolving PSF with charge diffusion kernel.\n",
      "  Writing distorted PSF to /Users/avapolzin/Desktop/psf_testoutputs/acs/j8pu42ecq_flc_150d08m15.267s+2d09m52.304s_F475W_psf00.fits (146 by 146 pixels)\n",
      "\n",
      "Started at  Fri May  9 09:52:54 2025\n",
      "Finished at Fri May  9 09:52:54 2025\n",
      "Tiny Tim v7.5\n",
      "Intermediate PSF dimensions are 464 by 464\n",
      "\n",
      "Computing PSF for position 1/1 (x,y) = 1025 242\n",
      "   Computing PSF 1/18 for wavelength 393.82 nm (weight=0.008917)\n",
      "   Computing PSF 2/18 for wavelength 402.92 nm (weight=0.024755)\n",
      "   Computing PSF 3/18 for wavelength 412.02 nm (weight=0.037561)\n",
      "   Computing PSF 4/18 for wavelength 421.11 nm (weight=0.045079)\n",
      "   Computing PSF 5/18 for wavelength 430.21 nm (weight=0.052658)\n",
      "   Computing PSF 6/18 for wavelength 439.31 nm (weight=0.056584)\n",
      "   Computing PSF 7/18 for wavelength 448.41 nm (weight=0.059373)\n",
      "   Computing PSF 8/18 for wavelength 457.51 nm (weight=0.061140)\n",
      "   Computing PSF 9/18 for wavelength 466.61 nm (weight=0.064193)\n",
      "   Computing PSF 10/18 for wavelength 475.70 nm (weight=0.065803)\n",
      "   Computing PSF 11/18 for wavelength 484.80 nm (weight=0.067198)\n",
      "   Computing PSF 12/18 for wavelength 493.90 nm (weight=0.069242)\n",
      "   Computing PSF 13/18 for wavelength 503.00 nm (weight=0.070478)\n",
      "   Computing PSF 14/18 for wavelength 512.10 nm (weight=0.072073)\n",
      "   Computing PSF 15/18 for wavelength 521.20 nm (weight=0.071785)\n",
      "   Computing PSF 16/18 for wavelength 530.30 nm (weight=0.070366)\n",
      "   Computing PSF 17/18 for wavelength 539.39 nm (weight=0.069026)\n",
      "   Computing PSF 18/18 for wavelength 548.49 nm (weight=0.033769)\n",
      "   Writing PSF to /Users/avapolzin/Desktop/psf_testoutputs/acs/j8pu42egq_flc_150d08m15.267s+2d09m52.304s_F475W_psf00_psf.fits\n",
      "\n",
      "Started at  Fri May  9 09:52:54 2025\n",
      "Finished at Fri May  9 09:52:57 2025\n",
      "\n",
      "Writing template optional parameter file for tiny3 to /Users/avapolzin/Desktop/psf_testoutputs/acs/j8pu42egq_flc_150d08m15.267s+2d09m52.304s_F475W_psf.tt3.\n",
      "\n",
      "To continue PSF processing for ACS and WFC3, you must run tiny3 to resample\n",
      "and distort the PSF.  You may also process a simulated scene (see\n",
      "the manual for details).\n",
      "\n",
      "Just to distort the PSF, issue this command :\n",
      "\n",
      "        tiny3 tiny.param\n",
      "\n"
     ]
    },
    {
     "name": "stderr",
     "output_type": "stream",
     "text": [
      "2025-05-09 09:52:58,053 - stpipe - WARNING - /Users/avapolzin/opt/anaconda3/envs/spike/lib/python3.10/site-packages/spike/psf/psf.py:185: Warning: All of major, minor, and angle must be specified to be applied. Proceeding with no elliptical jitter.\n",
      "\n"
     ]
    },
    {
     "name": "stdout",
     "output_type": "stream",
     "text": [
      "Tiny Tim v7.5\n",
      "Processing PSF for position 1/1 : (x,y) = 1025 242\n",
      "Reading input PSF from /Users/avapolzin/Desktop/psf_testoutputs/acs/j8pu42egq_flc_150d08m15.267s+2d09m52.304s_F475W_psf00_psf.fits.\n",
      "  Input critically-sampled undistorted PSF dimensions are 464 by 464 (0.013018 arcsec/pixel).\n",
      "  Mapping PSF onto distorted grid.\n",
      "  Convolving PSF with charge diffusion kernel.\n",
      "  Writing distorted PSF to /Users/avapolzin/Desktop/psf_testoutputs/acs/j8pu42egq_flc_150d08m15.267s+2d09m52.304s_F475W_psf00.fits (146 by 146 pixels)\n",
      "\n",
      "Started at  Fri May  9 09:52:57 2025\n",
      "Finished at Fri May  9 09:52:57 2025\n",
      "Tiny Tim v7.5\n",
      "Intermediate PSF dimensions are 464 by 464\n",
      "\n",
      "Computing PSF for position 1/1 (x,y) = 1025 242\n",
      "   Computing PSF 1/18 for wavelength 393.82 nm (weight=0.008917)\n",
      "   Computing PSF 2/18 for wavelength 402.92 nm (weight=0.024755)\n",
      "   Computing PSF 3/18 for wavelength 412.02 nm (weight=0.037561)\n",
      "   Computing PSF 4/18 for wavelength 421.11 nm (weight=0.045079)\n",
      "   Computing PSF 5/18 for wavelength 430.21 nm (weight=0.052658)\n",
      "   Computing PSF 6/18 for wavelength 439.31 nm (weight=0.056584)\n",
      "   Computing PSF 7/18 for wavelength 448.41 nm (weight=0.059373)\n",
      "   Computing PSF 8/18 for wavelength 457.51 nm (weight=0.061140)\n",
      "   Computing PSF 9/18 for wavelength 466.61 nm (weight=0.064193)\n",
      "   Computing PSF 10/18 for wavelength 475.70 nm (weight=0.065803)\n",
      "   Computing PSF 11/18 for wavelength 484.80 nm (weight=0.067198)\n",
      "   Computing PSF 12/18 for wavelength 493.90 nm (weight=0.069242)\n",
      "   Computing PSF 13/18 for wavelength 503.00 nm (weight=0.070478)\n",
      "   Computing PSF 14/18 for wavelength 512.10 nm (weight=0.072073)\n",
      "   Computing PSF 15/18 for wavelength 521.20 nm (weight=0.071785)\n",
      "   Computing PSF 16/18 for wavelength 530.30 nm (weight=0.070366)\n",
      "   Computing PSF 17/18 for wavelength 539.39 nm (weight=0.069026)\n",
      "   Computing PSF 18/18 for wavelength 548.49 nm (weight=0.033769)\n",
      "   Writing PSF to /Users/avapolzin/Desktop/psf_testoutputs/acs/j8pu42esq_flc_150d08m15.267s+2d09m52.304s_F475W_psf00_psf.fits\n",
      "\n",
      "Started at  Fri May  9 09:52:58 2025\n",
      "Finished at Fri May  9 09:53:00 2025\n",
      "\n",
      "Writing template optional parameter file for tiny3 to /Users/avapolzin/Desktop/psf_testoutputs/acs/j8pu42esq_flc_150d08m15.267s+2d09m52.304s_F475W_psf.tt3.\n",
      "\n",
      "To continue PSF processing for ACS and WFC3, you must run tiny3 to resample\n",
      "and distort the PSF.  You may also process a simulated scene (see\n",
      "the manual for details).\n",
      "\n",
      "Just to distort the PSF, issue this command :\n",
      "\n",
      "        tiny3 tiny.param\n",
      "\n",
      "Tiny Tim v7.5\n",
      "Processing PSF for position 1/1 : (x,y) = 1025 242\n",
      "Reading input PSF from /Users/avapolzin/Desktop/psf_testoutputs/acs/j8pu42esq_flc_150d08m15.267s+2d09m52.304s_F475W_psf00_psf.fits.\n",
      "  Input critically-sampled undistorted PSF dimensions are 464 by 464 (0.013018 arcsec/pixel).\n",
      "  Mapping PSF onto distorted grid.\n",
      "  Convolving PSF with charge diffusion kernel.\n",
      "  Writing distorted PSF to /Users/avapolzin/Desktop/psf_testoutputs/acs/j8pu42esq_flc_150d08m15.267s+2d09m52.304s_F475W_psf00.fits (146 by 146 pixels)\n",
      "\n",
      "Started at  Fri May  9 09:53:00 2025\n",
      "Finished at Fri May  9 09:53:01 2025\n"
     ]
    },
    {
     "name": "stderr",
     "output_type": "stream",
     "text": [
      "2025-05-09 09:53:01,413 - stpipe - WARNING - /Users/avapolzin/opt/anaconda3/envs/spike/lib/python3.10/site-packages/spike/psf/psf.py:185: Warning: All of major, minor, and angle must be specified to be applied. Proceeding with no elliptical jitter.\n",
      "\n"
     ]
    },
    {
     "name": "stdout",
     "output_type": "stream",
     "text": [
      "Tiny Tim v7.5\n",
      "Intermediate PSF dimensions are 464 by 464\n",
      "\n",
      "Computing PSF for position 1/1 (x,y) = 1023 363\n",
      "   Computing PSF 1/18 for wavelength 393.82 nm (weight=0.008917)\n",
      "   Computing PSF 2/18 for wavelength 402.92 nm (weight=0.024755)\n",
      "   Computing PSF 3/18 for wavelength 412.02 nm (weight=0.037561)\n",
      "   Computing PSF 4/18 for wavelength 421.11 nm (weight=0.045079)\n",
      "   Computing PSF 5/18 for wavelength 430.21 nm (weight=0.052658)\n",
      "   Computing PSF 6/18 for wavelength 439.31 nm (weight=0.056584)\n",
      "   Computing PSF 7/18 for wavelength 448.41 nm (weight=0.059373)\n",
      "   Computing PSF 8/18 for wavelength 457.51 nm (weight=0.061140)\n",
      "   Computing PSF 9/18 for wavelength 466.61 nm (weight=0.064193)\n",
      "   Computing PSF 10/18 for wavelength 475.70 nm (weight=0.065803)\n",
      "   Computing PSF 11/18 for wavelength 484.80 nm (weight=0.067198)\n",
      "   Computing PSF 12/18 for wavelength 493.90 nm (weight=0.069242)\n",
      "   Computing PSF 13/18 for wavelength 503.00 nm (weight=0.070478)\n",
      "   Computing PSF 14/18 for wavelength 512.10 nm (weight=0.072073)\n",
      "   Computing PSF 15/18 for wavelength 521.20 nm (weight=0.071785)\n",
      "   Computing PSF 16/18 for wavelength 530.30 nm (weight=0.070366)\n",
      "   Computing PSF 17/18 for wavelength 539.39 nm (weight=0.069026)\n",
      "   Computing PSF 18/18 for wavelength 548.49 nm (weight=0.033769)\n",
      "   Writing PSF to /Users/avapolzin/Desktop/psf_testoutputs/acs/j8pu42evq_flc_150d08m15.267s+2d09m52.304s_F475W_psf00_psf.fits\n",
      "\n",
      "Started at  Fri May  9 09:53:01 2025\n",
      "Finished at Fri May  9 09:53:04 2025\n",
      "\n",
      "Writing template optional parameter file for tiny3 to /Users/avapolzin/Desktop/psf_testoutputs/acs/j8pu42evq_flc_150d08m15.267s+2d09m52.304s_F475W_psf.tt3.\n",
      "\n",
      "To continue PSF processing for ACS and WFC3, you must run tiny3 to resample\n",
      "and distort the PSF.  You may also process a simulated scene (see\n",
      "the manual for details).\n",
      "\n",
      "Just to distort the PSF, issue this command :\n",
      "\n",
      "        tiny3 tiny.param\n",
      "\n",
      "Tiny Tim v7.5\n",
      "Processing PSF for position 1/1 : (x,y) = 1023 363\n",
      "Reading input PSF from /Users/avapolzin/Desktop/psf_testoutputs/acs/j8pu42evq_flc_150d08m15.267s+2d09m52.304s_F475W_psf00_psf.fits.\n",
      "  Input critically-sampled undistorted PSF dimensions are 464 by 464 (0.013018 arcsec/pixel).\n",
      "  Mapping PSF onto distorted grid.\n",
      "  Convolving PSF with charge diffusion kernel.\n",
      "  Writing distorted PSF to /Users/avapolzin/Desktop/psf_testoutputs/acs/j8pu42evq_flc_150d08m15.267s+2d09m52.304s_F475W_psf00.fits (146 by 146 pixels)\n",
      "\n",
      "Started at  Fri May  9 09:53:04 2025\n",
      "Finished at Fri May  9 09:53:04 2025\n"
     ]
    },
    {
     "name": "stderr",
     "output_type": "stream",
     "text": [
      "2025-05-09 09:53:04,706 - stpipe - INFO - Setting up logfile :  astrodrizzle.log\n"
     ]
    },
    {
     "name": "stdout",
     "output_type": "stream",
     "text": [
      "Setting up logfile :  astrodrizzle.log\n"
     ]
    },
    {
     "name": "stderr",
     "output_type": "stream",
     "text": [
      "2025-05-09 09:53:04,708 - stpipe - INFO - AstroDrizzle log file: astrodrizzle.log\n"
     ]
    },
    {
     "name": "stdout",
     "output_type": "stream",
     "text": [
      "AstroDrizzle log file: astrodrizzle.log\n"
     ]
    },
    {
     "name": "stderr",
     "output_type": "stream",
     "text": [
      "2025-05-09 09:53:04,710 - stpipe - INFO - AstroDrizzle Version 3.7.1rc1.dev56+g7951b66 started at: 09:53:04.710 (09/05/2025)\n"
     ]
    },
    {
     "name": "stdout",
     "output_type": "stream",
     "text": [
      "AstroDrizzle Version 3.7.1rc1.dev56+g7951b66 started at: 09:53:04.710 (09/05/2025)\n"
     ]
    },
    {
     "name": "stderr",
     "output_type": "stream",
     "text": [
      "2025-05-09 09:53:04,712 - stpipe - INFO - \n"
     ]
    },
    {
     "name": "stdout",
     "output_type": "stream",
     "text": [
      "\n"
     ]
    },
    {
     "name": "stderr",
     "output_type": "stream",
     "text": [
      "2025-05-09 09:53:04,713 - stpipe - INFO - Version Information\n",
      "2025-05-09 09:53:04,714 - stpipe - INFO - --------------------\n",
      "2025-05-09 09:53:04,715 - stpipe - INFO - Python Version 3.10.16 (main, Dec 11 2024, 10:24:41) [Clang 14.0.6 ]\n",
      "2025-05-09 09:53:04,715 - stpipe - INFO - numpy Version -> 2.2.1 \n",
      "2025-05-09 09:53:04,716 - stpipe - INFO - astropy Version -> 6.1.7 \n",
      "2025-05-09 09:53:04,716 - stpipe - INFO - stwcs Version -> 1.7.3 \n",
      "2025-05-09 09:53:04,717 - stpipe - INFO - photutils Version -> 2.0.2 \n",
      "2025-05-09 09:53:04,718 - stpipe - INFO - ==== Processing Step  Initialization  started at  09:53:04.718 (09/05/2025)\n"
     ]
    },
    {
     "name": "stdout",
     "output_type": "stream",
     "text": [
      "==== Processing Step  Initialization  started at  09:53:04.718 (09/05/2025)\n"
     ]
    },
    {
     "name": "stderr",
     "output_type": "stream",
     "text": [
      "2025-05-09 09:53:04,719 - stpipe - INFO - \n"
     ]
    },
    {
     "name": "stdout",
     "output_type": "stream",
     "text": [
      "\n"
     ]
    },
    {
     "name": "stderr",
     "output_type": "stream",
     "text": [
      "2025-05-09 09:53:04,722 - stpipe - INFO - Preserving original of:  /Users/avapolzin/Desktop/psf_testoutputs/acs/j8pu42ecq_flc_150d08m15.267s+2d09m52.304s_F475W_topsf.fits as  OrIg_files/j8pu42ecq_flc_150d08m15.267s+2d09m52.304s_F475W_topsf.fits\n"
     ]
    },
    {
     "name": "stdout",
     "output_type": "stream",
     "text": [
      "Preserving original of:  /Users/avapolzin/Desktop/psf_testoutputs/acs/j8pu42ecq_flc_150d08m15.267s+2d09m52.304s_F475W_topsf.fits as  OrIg_files/j8pu42ecq_flc_150d08m15.267s+2d09m52.304s_F475W_topsf.fits\n"
     ]
    },
    {
     "name": "stderr",
     "output_type": "stream",
     "text": [
      "2025-05-09 09:53:04,776 - stpipe - INFO - Preserving original of:  /Users/avapolzin/Desktop/psf_testoutputs/acs/j8pu42egq_flc_150d08m15.267s+2d09m52.304s_F475W_topsf.fits as  OrIg_files/j8pu42egq_flc_150d08m15.267s+2d09m52.304s_F475W_topsf.fits\n"
     ]
    },
    {
     "name": "stdout",
     "output_type": "stream",
     "text": [
      "Preserving original of:  /Users/avapolzin/Desktop/psf_testoutputs/acs/j8pu42egq_flc_150d08m15.267s+2d09m52.304s_F475W_topsf.fits as  OrIg_files/j8pu42egq_flc_150d08m15.267s+2d09m52.304s_F475W_topsf.fits\n"
     ]
    },
    {
     "name": "stderr",
     "output_type": "stream",
     "text": [
      "2025-05-09 09:53:04,849 - stpipe - INFO - Preserving original of:  /Users/avapolzin/Desktop/psf_testoutputs/acs/j8pu42esq_flc_150d08m15.267s+2d09m52.304s_F475W_topsf.fits as  OrIg_files/j8pu42esq_flc_150d08m15.267s+2d09m52.304s_F475W_topsf.fits\n"
     ]
    },
    {
     "name": "stdout",
     "output_type": "stream",
     "text": [
      "Preserving original of:  /Users/avapolzin/Desktop/psf_testoutputs/acs/j8pu42esq_flc_150d08m15.267s+2d09m52.304s_F475W_topsf.fits as  OrIg_files/j8pu42esq_flc_150d08m15.267s+2d09m52.304s_F475W_topsf.fits\n"
     ]
    },
    {
     "name": "stderr",
     "output_type": "stream",
     "text": [
      "2025-05-09 09:53:04,890 - stpipe - INFO - Preserving original of:  /Users/avapolzin/Desktop/psf_testoutputs/acs/j8pu42evq_flc_150d08m15.267s+2d09m52.304s_F475W_topsf.fits as  OrIg_files/j8pu42evq_flc_150d08m15.267s+2d09m52.304s_F475W_topsf.fits\n"
     ]
    },
    {
     "name": "stdout",
     "output_type": "stream",
     "text": [
      "Preserving original of:  /Users/avapolzin/Desktop/psf_testoutputs/acs/j8pu42evq_flc_150d08m15.267s+2d09m52.304s_F475W_topsf.fits as  OrIg_files/j8pu42evq_flc_150d08m15.267s+2d09m52.304s_F475W_topsf.fits\n"
     ]
    },
    {
     "name": "stderr",
     "output_type": "stream",
     "text": [
      "2025-05-09 09:53:04,972 - stpipe - INFO - Executing serially\n",
      "2025-05-09 09:53:05,046 - stpipe - INFO - Setting up output name: /Users/avapolzin/Desktop/psf_testoutputs/acs/150d08m15.267s+2d09m52.304s_F475W_psf_drz.fits\n",
      "2025-05-09 09:53:05,048 - stpipe - INFO - -Creating imageObject List as input for processing steps.\n",
      "2025-05-09 09:53:05,131 - stpipe - INFO - Reading in MDRIZSKY of 69.92457580566406\n",
      "2025-05-09 09:53:05,205 - stpipe - INFO - Reading in MDRIZSKY of 75.761962890625\n",
      "2025-05-09 09:53:05,277 - stpipe - INFO - Reading in MDRIZSKY of 68.4947509765625\n",
      "2025-05-09 09:53:05,350 - stpipe - INFO - Reading in MDRIZSKY of 68.80198669433594\n",
      "2025-05-09 09:53:05,371 - stpipe - INFO - Reset bit values of 4096 to a value of 0 in /Users/avapolzin/Desktop/psf_testoutputs/acs/j8pu42ecq_flc_150d08m15.267s+2d09m52.304s_F475W_topsf.fits[DQ,1]\n",
      "2025-05-09 09:53:05,395 - stpipe - INFO - Reset bit values of 4096 to a value of 0 in /Users/avapolzin/Desktop/psf_testoutputs/acs/j8pu42egq_flc_150d08m15.267s+2d09m52.304s_F475W_topsf.fits[DQ,1]\n",
      "2025-05-09 09:53:05,418 - stpipe - INFO - Reset bit values of 4096 to a value of 0 in /Users/avapolzin/Desktop/psf_testoutputs/acs/j8pu42esq_flc_150d08m15.267s+2d09m52.304s_F475W_topsf.fits[DQ,1]\n",
      "2025-05-09 09:53:05,441 - stpipe - INFO - Reset bit values of 4096 to a value of 0 in /Users/avapolzin/Desktop/psf_testoutputs/acs/j8pu42evq_flc_150d08m15.267s+2d09m52.304s_F475W_topsf.fits[DQ,1]\n",
      "2025-05-09 09:53:05,454 - stpipe - INFO - -Creating output WCS.\n",
      "2025-05-09 09:53:05,459 - stpipe - INFO - WCS Keywords\n"
     ]
    },
    {
     "name": "stdout",
     "output_type": "stream",
     "text": [
      "WCS Keywords\n"
     ]
    },
    {
     "name": "stderr",
     "output_type": "stream",
     "text": [
      "2025-05-09 09:53:05,460 - stpipe - INFO - \n"
     ]
    },
    {
     "name": "stdout",
     "output_type": "stream",
     "text": [
      "\n"
     ]
    },
    {
     "name": "stderr",
     "output_type": "stream",
     "text": [
      "2025-05-09 09:53:05,462 - stpipe - INFO - Number of WCS axes: 2\n"
     ]
    },
    {
     "name": "stdout",
     "output_type": "stream",
     "text": [
      "Number of WCS axes: 2\n"
     ]
    },
    {
     "name": "stderr",
     "output_type": "stream",
     "text": [
      "2025-05-09 09:53:05,463 - stpipe - INFO - CTYPE : 'RA---TAN' 'DEC--TAN' \n"
     ]
    },
    {
     "name": "stdout",
     "output_type": "stream",
     "text": [
      "CTYPE : 'RA---TAN' 'DEC--TAN' \n"
     ]
    },
    {
     "name": "stderr",
     "output_type": "stream",
     "text": [
      "2025-05-09 09:53:05,465 - stpipe - INFO - CRVAL : np.float64(150.1242636198465) np.float64(2.151761555110333) \n"
     ]
    },
    {
     "name": "stdout",
     "output_type": "stream",
     "text": [
      "CRVAL : np.float64(150.1242636198465) np.float64(2.151761555110333) \n"
     ]
    },
    {
     "name": "stderr",
     "output_type": "stream",
     "text": [
      "2025-05-09 09:53:05,466 - stpipe - INFO - CRPIX : np.float64(2081.0) np.float64(1179.5) \n"
     ]
    },
    {
     "name": "stdout",
     "output_type": "stream",
     "text": [
      "CRPIX : np.float64(2081.0) np.float64(1179.5) \n"
     ]
    },
    {
     "name": "stderr",
     "output_type": "stream",
     "text": [
      "2025-05-09 09:53:05,469 - stpipe - INFO - CD1_1 CD1_2  : np.float64(-2.4118726301966414e-06) np.float64(-1.3677869168244357e-05) \n"
     ]
    },
    {
     "name": "stdout",
     "output_type": "stream",
     "text": [
      "CD1_1 CD1_2  : np.float64(-2.4118726301966414e-06) np.float64(-1.3677869168244357e-05) \n"
     ]
    },
    {
     "name": "stderr",
     "output_type": "stream",
     "text": [
      "2025-05-09 09:53:05,470 - stpipe - INFO - CD2_1 CD2_2  : np.float64(-1.3677869168244357e-05) np.float64(2.4118726301966414e-06) \n"
     ]
    },
    {
     "name": "stdout",
     "output_type": "stream",
     "text": [
      "CD2_1 CD2_2  : np.float64(-1.3677869168244357e-05) np.float64(2.4118726301966414e-06) \n"
     ]
    },
    {
     "name": "stderr",
     "output_type": "stream",
     "text": [
      "2025-05-09 09:53:05,472 - stpipe - INFO - NAXIS : 4162  2359\n"
     ]
    },
    {
     "name": "stdout",
     "output_type": "stream",
     "text": [
      "NAXIS : 4162  2359\n"
     ]
    },
    {
     "name": "stderr",
     "output_type": "stream",
     "text": [
      "2025-05-09 09:53:05,473 - stpipe - INFO - ********************************************************************************\n"
     ]
    },
    {
     "name": "stdout",
     "output_type": "stream",
     "text": [
      "********************************************************************************\n"
     ]
    },
    {
     "name": "stderr",
     "output_type": "stream",
     "text": [
      "2025-05-09 09:53:05,474 - stpipe - INFO - *\n"
     ]
    },
    {
     "name": "stdout",
     "output_type": "stream",
     "text": [
      "*\n"
     ]
    },
    {
     "name": "stderr",
     "output_type": "stream",
     "text": [
      "2025-05-09 09:53:05,476 - stpipe - INFO - *  Estimated memory usage:  up to 705 Mb.\n"
     ]
    },
    {
     "name": "stdout",
     "output_type": "stream",
     "text": [
      "*  Estimated memory usage:  up to 705 Mb.\n"
     ]
    },
    {
     "name": "stderr",
     "output_type": "stream",
     "text": [
      "2025-05-09 09:53:05,478 - stpipe - INFO - *  Output image size:       4162 X 2359 pixels. \n"
     ]
    },
    {
     "name": "stdout",
     "output_type": "stream",
     "text": [
      "*  Output image size:       4162 X 2359 pixels. \n"
     ]
    },
    {
     "name": "stderr",
     "output_type": "stream",
     "text": [
      "2025-05-09 09:53:05,479 - stpipe - INFO - *  Output image file:       ~ 112 Mb. \n"
     ]
    },
    {
     "name": "stdout",
     "output_type": "stream",
     "text": [
      "*  Output image file:       ~ 112 Mb. \n"
     ]
    },
    {
     "name": "stderr",
     "output_type": "stream",
     "text": [
      "2025-05-09 09:53:05,481 - stpipe - INFO - *  Cores available:         4\n"
     ]
    },
    {
     "name": "stdout",
     "output_type": "stream",
     "text": [
      "*  Cores available:         4\n"
     ]
    },
    {
     "name": "stderr",
     "output_type": "stream",
     "text": [
      "2025-05-09 09:53:05,482 - stpipe - INFO - *\n"
     ]
    },
    {
     "name": "stdout",
     "output_type": "stream",
     "text": [
      "*\n"
     ]
    },
    {
     "name": "stderr",
     "output_type": "stream",
     "text": [
      "2025-05-09 09:53:05,484 - stpipe - INFO - ********************************************************************************\n"
     ]
    },
    {
     "name": "stdout",
     "output_type": "stream",
     "text": [
      "********************************************************************************\n"
     ]
    },
    {
     "name": "stderr",
     "output_type": "stream",
     "text": [
      "2025-05-09 09:53:05,495 - stpipe - INFO - ==== Processing Step Initialization finished at 09:53:05.486 (09/05/2025)\n"
     ]
    },
    {
     "name": "stdout",
     "output_type": "stream",
     "text": [
      "==== Processing Step Initialization finished at 09:53:05.486 (09/05/2025)\n"
     ]
    },
    {
     "name": "stderr",
     "output_type": "stream",
     "text": [
      "2025-05-09 09:53:05,512 - stpipe - INFO - USER INPUT PARAMETERS common to all Processing Steps:\n",
      "2025-05-09 09:53:05,513 - stpipe - INFO - \tbuild :\tTrue\n",
      "2025-05-09 09:53:05,514 - stpipe - INFO - \tcoeffs :\tTrue\n",
      "2025-05-09 09:53:05,514 - stpipe - INFO - \tcontext :\tTrue\n",
      "2025-05-09 09:53:05,515 - stpipe - INFO - \tcrbit :\t4096\n",
      "2025-05-09 09:53:05,516 - stpipe - INFO - \tgroup :\t\n",
      "2025-05-09 09:53:05,517 - stpipe - INFO - \tin_memory :\tFalse\n",
      "2025-05-09 09:53:05,519 - stpipe - INFO - \tinput :\t['/Users/avapolzin/Desktop/psf_testoutputs/acs/j8pu42ecq_flc_150d08m15.267s+2d09m52.304s_F475W_topsf.fits', '/Users/avapolzin/Desktop/psf_testoutputs/acs/j8pu42egq_flc_150d08m15.267s+2d09m52.304s_F475W_topsf.fits', '/Users/avapolzin/Desktop/psf_testoutputs/acs/j8pu42esq_flc_150d08m15.267s+2d09m52.304s_F475W_topsf.fits', '/Users/avapolzin/Desktop/psf_testoutputs/acs/j8pu42evq_flc_150d08m15.267s+2d09m52.304s_F475W_topsf.fits']\n",
      "2025-05-09 09:53:05,522 - stpipe - INFO - \tmdriztab :\tFalse\n",
      "2025-05-09 09:53:05,523 - stpipe - INFO - \tnum_cores :\tNone\n",
      "2025-05-09 09:53:05,524 - stpipe - INFO - \toutput :\t/Users/avapolzin/Desktop/psf_testoutputs/acs/150d08m15.267s+2d09m52.304s_F475W_psf\n",
      "2025-05-09 09:53:05,524 - stpipe - INFO - \tproc_unit :\tnative\n",
      "2025-05-09 09:53:05,525 - stpipe - INFO - \tresetbits :\t4096\n",
      "2025-05-09 09:53:05,525 - stpipe - INFO - \trules_file :\t\n",
      "2025-05-09 09:53:05,526 - stpipe - INFO - \trunfile :\tastrodrizzle.log\n",
      "2025-05-09 09:53:05,527 - stpipe - INFO - \tstepsize :\t10\n",
      "2025-05-09 09:53:05,528 - stpipe - INFO - \tupdatewcs :\tFalse\n",
      "2025-05-09 09:53:05,528 - stpipe - INFO - \twcskey :\t\n",
      "2025-05-09 09:53:05,529 - stpipe - INFO - ==== Processing Step  Static Mask  started at  09:53:05.529 (09/05/2025)\n"
     ]
    },
    {
     "name": "stdout",
     "output_type": "stream",
     "text": [
      "==== Processing Step  Static Mask  started at  09:53:05.529 (09/05/2025)\n"
     ]
    },
    {
     "name": "stderr",
     "output_type": "stream",
     "text": [
      "2025-05-09 09:53:05,531 - stpipe - INFO - \n"
     ]
    },
    {
     "name": "stdout",
     "output_type": "stream",
     "text": [
      "\n"
     ]
    },
    {
     "name": "stderr",
     "output_type": "stream",
     "text": [
      "2025-05-09 09:53:05,532 - stpipe - INFO - Static Mask step not performed.\n",
      "2025-05-09 09:53:05,534 - stpipe - INFO - ==== Processing Step Static Mask finished at 09:53:05.533 (09/05/2025)\n"
     ]
    },
    {
     "name": "stdout",
     "output_type": "stream",
     "text": [
      "==== Processing Step Static Mask finished at 09:53:05.533 (09/05/2025)\n"
     ]
    },
    {
     "name": "stderr",
     "output_type": "stream",
     "text": [
      "2025-05-09 09:53:05,535 - stpipe - INFO - ==== Processing Step  Subtract Sky  started at  09:53:05.535 (09/05/2025)\n"
     ]
    },
    {
     "name": "stdout",
     "output_type": "stream",
     "text": [
      "==== Processing Step  Subtract Sky  started at  09:53:05.535 (09/05/2025)\n"
     ]
    },
    {
     "name": "stderr",
     "output_type": "stream",
     "text": [
      "2025-05-09 09:53:05,536 - stpipe - INFO - \n"
     ]
    },
    {
     "name": "stdout",
     "output_type": "stream",
     "text": [
      "\n"
     ]
    },
    {
     "name": "stderr",
     "output_type": "stream",
     "text": [
      "2025-05-09 09:53:05,538 - stpipe - INFO - USER INPUT PARAMETERS for Sky Subtraction Step:\n",
      "2025-05-09 09:53:05,539 - stpipe - INFO - \tsky_bits :\t0\n",
      "2025-05-09 09:53:05,539 - stpipe - INFO - \tskyclip :\t5\n",
      "2025-05-09 09:53:05,540 - stpipe - INFO - \tskyfile :\t\n",
      "2025-05-09 09:53:05,541 - stpipe - INFO - \tskylower :\tNone\n",
      "2025-05-09 09:53:05,541 - stpipe - INFO - \tskylsigma :\t4.0\n",
      "2025-05-09 09:53:05,542 - stpipe - INFO - \tskymask_cat :\t\n",
      "2025-05-09 09:53:05,543 - stpipe - INFO - \tskymethod :\tlocalmin\n",
      "2025-05-09 09:53:05,543 - stpipe - INFO - \tskystat :\tmedian\n",
      "2025-05-09 09:53:05,544 - stpipe - INFO - \tskysub :\tTrue\n",
      "2025-05-09 09:53:05,544 - stpipe - INFO - \tskyupper :\tNone\n",
      "2025-05-09 09:53:05,545 - stpipe - INFO - \tskyuser :\t\n",
      "2025-05-09 09:53:05,545 - stpipe - INFO - \tskyusigma :\t4.0\n",
      "2025-05-09 09:53:05,546 - stpipe - INFO - \tskywidth :\t0.1\n",
      "2025-05-09 09:53:05,547 - stpipe - INFO - \tuse_static :\tTrue\n",
      "2025-05-09 09:53:05,564 - stpipe - WARNING - Static mask for file '/Users/avapolzin/Desktop/psf_testoutputs/acs/j8pu42ecq_flc_150d08m15.267s+2d09m52.304s_F475W_topsf.fits', ext=('SCI', 1) NOT FOUND.\n",
      "2025-05-09 09:53:05,596 - stpipe - WARNING - Static mask for file '/Users/avapolzin/Desktop/psf_testoutputs/acs/j8pu42egq_flc_150d08m15.267s+2d09m52.304s_F475W_topsf.fits', ext=('SCI', 1) NOT FOUND.\n",
      "2025-05-09 09:53:05,622 - stpipe - WARNING - Static mask for file '/Users/avapolzin/Desktop/psf_testoutputs/acs/j8pu42esq_flc_150d08m15.267s+2d09m52.304s_F475W_topsf.fits', ext=('SCI', 1) NOT FOUND.\n",
      "2025-05-09 09:53:05,657 - stpipe - WARNING - Static mask for file '/Users/avapolzin/Desktop/psf_testoutputs/acs/j8pu42evq_flc_150d08m15.267s+2d09m52.304s_F475W_topsf.fits', ext=('SCI', 1) NOT FOUND.\n",
      "2025-05-09 09:53:05,668 - stpipe - INFO - ***** skymatch started on 2025-05-09 09:53:05.668613\n"
     ]
    },
    {
     "name": "stdout",
     "output_type": "stream",
     "text": [
      "***** skymatch started on 2025-05-09 09:53:05.668613\n"
     ]
    },
    {
     "name": "stderr",
     "output_type": "stream",
     "text": [
      "2025-05-09 09:53:05,669 - stpipe - INFO -       Version 1.0.10\n"
     ]
    },
    {
     "name": "stdout",
     "output_type": "stream",
     "text": [
      "      Version 1.0.10\n"
     ]
    },
    {
     "name": "stderr",
     "output_type": "stream",
     "text": [
      "2025-05-09 09:53:05,671 - stpipe - INFO - \n"
     ]
    },
    {
     "name": "stdout",
     "output_type": "stream",
     "text": [
      "\n"
     ]
    },
    {
     "name": "stderr",
     "output_type": "stream",
     "text": [
      "2025-05-09 09:53:05,675 - stpipe - INFO - 'skymatch' task will apply computed sky differences to input image file(s).\n"
     ]
    },
    {
     "name": "stdout",
     "output_type": "stream",
     "text": [
      "'skymatch' task will apply computed sky differences to input image file(s).\n"
     ]
    },
    {
     "name": "stderr",
     "output_type": "stream",
     "text": [
      "2025-05-09 09:53:05,696 - stpipe - INFO - \n"
     ]
    },
    {
     "name": "stdout",
     "output_type": "stream",
     "text": [
      "\n"
     ]
    },
    {
     "name": "stderr",
     "output_type": "stream",
     "text": [
      "2025-05-09 09:53:05,698 - stpipe - INFO - NOTE: Computed sky values WILL NOT be subtracted from image data ('subtractsky'=False).\n"
     ]
    },
    {
     "name": "stdout",
     "output_type": "stream",
     "text": [
      "NOTE: Computed sky values WILL NOT be subtracted from image data ('subtractsky'=False).\n"
     ]
    },
    {
     "name": "stderr",
     "output_type": "stream",
     "text": [
      "2025-05-09 09:53:05,699 - stpipe - INFO - 'MDRIZSKY' header keyword will represent sky value *computed* from data.\n"
     ]
    },
    {
     "name": "stdout",
     "output_type": "stream",
     "text": [
      "'MDRIZSKY' header keyword will represent sky value *computed* from data.\n"
     ]
    },
    {
     "name": "stderr",
     "output_type": "stream",
     "text": [
      "2025-05-09 09:53:05,700 - stpipe - INFO - \n"
     ]
    },
    {
     "name": "stdout",
     "output_type": "stream",
     "text": [
      "\n"
     ]
    },
    {
     "name": "stderr",
     "output_type": "stream",
     "text": [
      "2025-05-09 09:53:05,706 - stpipe - INFO - -----  User specified keywords:  -----\n"
     ]
    },
    {
     "name": "stdout",
     "output_type": "stream",
     "text": [
      "-----  User specified keywords:  -----\n"
     ]
    },
    {
     "name": "stderr",
     "output_type": "stream",
     "text": [
      "2025-05-09 09:53:05,708 - stpipe - INFO -        Sky Value Keyword:  'MDRIZSKY'\n"
     ]
    },
    {
     "name": "stdout",
     "output_type": "stream",
     "text": [
      "       Sky Value Keyword:  'MDRIZSKY'\n"
     ]
    },
    {
     "name": "stderr",
     "output_type": "stream",
     "text": [
      "2025-05-09 09:53:05,709 - stpipe - INFO -        Data Units Keyword: 'BUNIT'\n"
     ]
    },
    {
     "name": "stdout",
     "output_type": "stream",
     "text": [
      "       Data Units Keyword: 'BUNIT'\n"
     ]
    },
    {
     "name": "stderr",
     "output_type": "stream",
     "text": [
      "2025-05-09 09:53:05,711 - stpipe - INFO - \n"
     ]
    },
    {
     "name": "stdout",
     "output_type": "stream",
     "text": [
      "\n"
     ]
    },
    {
     "name": "stderr",
     "output_type": "stream",
     "text": [
      "2025-05-09 09:53:05,713 - stpipe - INFO - \n"
     ]
    },
    {
     "name": "stdout",
     "output_type": "stream",
     "text": [
      "\n"
     ]
    },
    {
     "name": "stderr",
     "output_type": "stream",
     "text": [
      "2025-05-09 09:53:05,714 - stpipe - INFO - -----  Input file list:  -----\n"
     ]
    },
    {
     "name": "stdout",
     "output_type": "stream",
     "text": [
      "-----  Input file list:  -----\n"
     ]
    },
    {
     "name": "stderr",
     "output_type": "stream",
     "text": [
      "2025-05-09 09:53:05,716 - stpipe - INFO - \n"
     ]
    },
    {
     "name": "stdout",
     "output_type": "stream",
     "text": [
      "\n"
     ]
    },
    {
     "name": "stderr",
     "output_type": "stream",
     "text": [
      "2025-05-09 09:53:05,717 - stpipe - INFO -    **  Input image: 'j8pu42ecq_flc_150d08m15.267s+2d09m52.304s_F475W_topsf.fits'\n"
     ]
    },
    {
     "name": "stdout",
     "output_type": "stream",
     "text": [
      "   **  Input image: 'j8pu42ecq_flc_150d08m15.267s+2d09m52.304s_F475W_topsf.fits'\n"
     ]
    },
    {
     "name": "stderr",
     "output_type": "stream",
     "text": [
      "2025-05-09 09:53:05,718 - stpipe - INFO -        EXT: 'SCI',1;\tMASK: j8pu42ecq_flc_150d08m15.267s+2d09m52.304s_F475W_skymatch_mask_sci1.fits[0]\n"
     ]
    },
    {
     "name": "stdout",
     "output_type": "stream",
     "text": [
      "       EXT: 'SCI',1;\tMASK: j8pu42ecq_flc_150d08m15.267s+2d09m52.304s_F475W_skymatch_mask_sci1.fits[0]\n"
     ]
    },
    {
     "name": "stderr",
     "output_type": "stream",
     "text": [
      "2025-05-09 09:53:05,719 - stpipe - INFO - \n"
     ]
    },
    {
     "name": "stdout",
     "output_type": "stream",
     "text": [
      "\n"
     ]
    },
    {
     "name": "stderr",
     "output_type": "stream",
     "text": [
      "2025-05-09 09:53:05,721 - stpipe - INFO -    **  Input image: 'j8pu42egq_flc_150d08m15.267s+2d09m52.304s_F475W_topsf.fits'\n"
     ]
    },
    {
     "name": "stdout",
     "output_type": "stream",
     "text": [
      "   **  Input image: 'j8pu42egq_flc_150d08m15.267s+2d09m52.304s_F475W_topsf.fits'\n"
     ]
    },
    {
     "name": "stderr",
     "output_type": "stream",
     "text": [
      "2025-05-09 09:53:05,723 - stpipe - INFO -        EXT: 'SCI',1;\tMASK: j8pu42egq_flc_150d08m15.267s+2d09m52.304s_F475W_skymatch_mask_sci1.fits[0]\n"
     ]
    },
    {
     "name": "stdout",
     "output_type": "stream",
     "text": [
      "       EXT: 'SCI',1;\tMASK: j8pu42egq_flc_150d08m15.267s+2d09m52.304s_F475W_skymatch_mask_sci1.fits[0]\n"
     ]
    },
    {
     "name": "stderr",
     "output_type": "stream",
     "text": [
      "2025-05-09 09:53:05,724 - stpipe - INFO - \n"
     ]
    },
    {
     "name": "stdout",
     "output_type": "stream",
     "text": [
      "\n"
     ]
    },
    {
     "name": "stderr",
     "output_type": "stream",
     "text": [
      "2025-05-09 09:53:05,726 - stpipe - INFO -    **  Input image: 'j8pu42esq_flc_150d08m15.267s+2d09m52.304s_F475W_topsf.fits'\n"
     ]
    },
    {
     "name": "stdout",
     "output_type": "stream",
     "text": [
      "   **  Input image: 'j8pu42esq_flc_150d08m15.267s+2d09m52.304s_F475W_topsf.fits'\n"
     ]
    },
    {
     "name": "stderr",
     "output_type": "stream",
     "text": [
      "2025-05-09 09:53:05,727 - stpipe - INFO -        EXT: 'SCI',1;\tMASK: j8pu42esq_flc_150d08m15.267s+2d09m52.304s_F475W_skymatch_mask_sci1.fits[0]\n"
     ]
    },
    {
     "name": "stdout",
     "output_type": "stream",
     "text": [
      "       EXT: 'SCI',1;\tMASK: j8pu42esq_flc_150d08m15.267s+2d09m52.304s_F475W_skymatch_mask_sci1.fits[0]\n"
     ]
    },
    {
     "name": "stderr",
     "output_type": "stream",
     "text": [
      "2025-05-09 09:53:05,728 - stpipe - INFO - \n"
     ]
    },
    {
     "name": "stdout",
     "output_type": "stream",
     "text": [
      "\n"
     ]
    },
    {
     "name": "stderr",
     "output_type": "stream",
     "text": [
      "2025-05-09 09:53:05,730 - stpipe - INFO -    **  Input image: 'j8pu42evq_flc_150d08m15.267s+2d09m52.304s_F475W_topsf.fits'\n"
     ]
    },
    {
     "name": "stdout",
     "output_type": "stream",
     "text": [
      "   **  Input image: 'j8pu42evq_flc_150d08m15.267s+2d09m52.304s_F475W_topsf.fits'\n"
     ]
    },
    {
     "name": "stderr",
     "output_type": "stream",
     "text": [
      "2025-05-09 09:53:05,732 - stpipe - INFO -        EXT: 'SCI',1;\tMASK: j8pu42evq_flc_150d08m15.267s+2d09m52.304s_F475W_skymatch_mask_sci1.fits[0]\n"
     ]
    },
    {
     "name": "stdout",
     "output_type": "stream",
     "text": [
      "       EXT: 'SCI',1;\tMASK: j8pu42evq_flc_150d08m15.267s+2d09m52.304s_F475W_skymatch_mask_sci1.fits[0]\n"
     ]
    },
    {
     "name": "stderr",
     "output_type": "stream",
     "text": [
      "2025-05-09 09:53:05,733 - stpipe - INFO - \n"
     ]
    },
    {
     "name": "stdout",
     "output_type": "stream",
     "text": [
      "\n"
     ]
    },
    {
     "name": "stderr",
     "output_type": "stream",
     "text": [
      "2025-05-09 09:53:05,734 - stpipe - INFO - -----  Sky statistics parameters:  -----\n"
     ]
    },
    {
     "name": "stdout",
     "output_type": "stream",
     "text": [
      "-----  Sky statistics parameters:  -----\n"
     ]
    },
    {
     "name": "stderr",
     "output_type": "stream",
     "text": [
      "2025-05-09 09:53:05,736 - stpipe - INFO -        statistics function: 'median'\n"
     ]
    },
    {
     "name": "stdout",
     "output_type": "stream",
     "text": [
      "       statistics function: 'median'\n"
     ]
    },
    {
     "name": "stderr",
     "output_type": "stream",
     "text": [
      "2025-05-09 09:53:05,737 - stpipe - INFO -        lower = None\n"
     ]
    },
    {
     "name": "stdout",
     "output_type": "stream",
     "text": [
      "       lower = None\n"
     ]
    },
    {
     "name": "stderr",
     "output_type": "stream",
     "text": [
      "2025-05-09 09:53:05,738 - stpipe - INFO -        upper = None\n"
     ]
    },
    {
     "name": "stdout",
     "output_type": "stream",
     "text": [
      "       upper = None\n"
     ]
    },
    {
     "name": "stderr",
     "output_type": "stream",
     "text": [
      "2025-05-09 09:53:05,739 - stpipe - INFO -        nclip = 5\n"
     ]
    },
    {
     "name": "stdout",
     "output_type": "stream",
     "text": [
      "       nclip = 5\n"
     ]
    },
    {
     "name": "stderr",
     "output_type": "stream",
     "text": [
      "2025-05-09 09:53:05,762 - stpipe - INFO -        lsigma = 4.0\n"
     ]
    },
    {
     "name": "stdout",
     "output_type": "stream",
     "text": [
      "       lsigma = 4.0\n"
     ]
    },
    {
     "name": "stderr",
     "output_type": "stream",
     "text": [
      "2025-05-09 09:53:05,766 - stpipe - INFO -        usigma = 4.0\n"
     ]
    },
    {
     "name": "stdout",
     "output_type": "stream",
     "text": [
      "       usigma = 4.0\n"
     ]
    },
    {
     "name": "stderr",
     "output_type": "stream",
     "text": [
      "2025-05-09 09:53:05,768 - stpipe - INFO -        binwidth = 0.1\n"
     ]
    },
    {
     "name": "stdout",
     "output_type": "stream",
     "text": [
      "       binwidth = 0.1\n"
     ]
    },
    {
     "name": "stderr",
     "output_type": "stream",
     "text": [
      "2025-05-09 09:53:05,769 - stpipe - INFO - \n"
     ]
    },
    {
     "name": "stdout",
     "output_type": "stream",
     "text": [
      "\n"
     ]
    },
    {
     "name": "stderr",
     "output_type": "stream",
     "text": [
      "2025-05-09 09:53:05,774 - stpipe - INFO - -----  Data->Brightness conversion parameters for input files:  -----\n"
     ]
    },
    {
     "name": "stdout",
     "output_type": "stream",
     "text": [
      "-----  Data->Brightness conversion parameters for input files:  -----\n"
     ]
    },
    {
     "name": "stderr",
     "output_type": "stream",
     "text": [
      "2025-05-09 09:53:05,776 - stpipe - INFO - \n"
     ]
    },
    {
     "name": "stdout",
     "output_type": "stream",
     "text": [
      "\n"
     ]
    },
    {
     "name": "stderr",
     "output_type": "stream",
     "text": [
      "2025-05-09 09:53:05,778 - stpipe - INFO -    *   Image: j8pu42ecq_flc_150d08m15.267s+2d09m52.304s_F475W_topsf.fits\n"
     ]
    },
    {
     "name": "stdout",
     "output_type": "stream",
     "text": [
      "   *   Image: j8pu42ecq_flc_150d08m15.267s+2d09m52.304s_F475W_topsf.fits\n"
     ]
    },
    {
     "name": "stderr",
     "output_type": "stream",
     "text": [
      "2025-05-09 09:53:05,801 - stpipe - INFO -        EXT = 'SCI',1\n"
     ]
    },
    {
     "name": "stdout",
     "output_type": "stream",
     "text": [
      "       EXT = 'SCI',1\n"
     ]
    },
    {
     "name": "stderr",
     "output_type": "stream",
     "text": [
      "2025-05-09 09:53:05,802 - stpipe - INFO -              Data units type: COUNTS\n"
     ]
    },
    {
     "name": "stdout",
     "output_type": "stream",
     "text": [
      "             Data units type: COUNTS\n"
     ]
    },
    {
     "name": "stderr",
     "output_type": "stream",
     "text": [
      "2025-05-09 09:53:05,803 - stpipe - INFO -              EXPTIME: 507.0 [s]\n"
     ]
    },
    {
     "name": "stdout",
     "output_type": "stream",
     "text": [
      "             EXPTIME: 507.0 [s]\n"
     ]
    },
    {
     "name": "stderr",
     "output_type": "stream",
     "text": [
      "2025-05-09 09:53:05,805 - stpipe - INFO -              Conversion factor (data->brightness):  0.7889546351084812\n"
     ]
    },
    {
     "name": "stdout",
     "output_type": "stream",
     "text": [
      "             Conversion factor (data->brightness):  0.7889546351084812\n"
     ]
    },
    {
     "name": "stderr",
     "output_type": "stream",
     "text": [
      "2025-05-09 09:53:05,806 - stpipe - INFO - \n"
     ]
    },
    {
     "name": "stdout",
     "output_type": "stream",
     "text": [
      "\n"
     ]
    },
    {
     "name": "stderr",
     "output_type": "stream",
     "text": [
      "2025-05-09 09:53:05,808 - stpipe - INFO -    *   Image: j8pu42egq_flc_150d08m15.267s+2d09m52.304s_F475W_topsf.fits\n"
     ]
    },
    {
     "name": "stdout",
     "output_type": "stream",
     "text": [
      "   *   Image: j8pu42egq_flc_150d08m15.267s+2d09m52.304s_F475W_topsf.fits\n"
     ]
    },
    {
     "name": "stderr",
     "output_type": "stream",
     "text": [
      "2025-05-09 09:53:05,827 - stpipe - INFO -        EXT = 'SCI',1\n"
     ]
    },
    {
     "name": "stdout",
     "output_type": "stream",
     "text": [
      "       EXT = 'SCI',1\n"
     ]
    },
    {
     "name": "stderr",
     "output_type": "stream",
     "text": [
      "2025-05-09 09:53:05,830 - stpipe - INFO -              Data units type: COUNTS\n"
     ]
    },
    {
     "name": "stdout",
     "output_type": "stream",
     "text": [
      "             Data units type: COUNTS\n"
     ]
    },
    {
     "name": "stderr",
     "output_type": "stream",
     "text": [
      "2025-05-09 09:53:05,831 - stpipe - INFO -              EXPTIME: 507.0 [s]\n"
     ]
    },
    {
     "name": "stdout",
     "output_type": "stream",
     "text": [
      "             EXPTIME: 507.0 [s]\n"
     ]
    },
    {
     "name": "stderr",
     "output_type": "stream",
     "text": [
      "2025-05-09 09:53:05,833 - stpipe - INFO -              Conversion factor (data->brightness):  0.7889546351084812\n"
     ]
    },
    {
     "name": "stdout",
     "output_type": "stream",
     "text": [
      "             Conversion factor (data->brightness):  0.7889546351084812\n"
     ]
    },
    {
     "name": "stderr",
     "output_type": "stream",
     "text": [
      "2025-05-09 09:53:05,835 - stpipe - INFO - \n"
     ]
    },
    {
     "name": "stdout",
     "output_type": "stream",
     "text": [
      "\n"
     ]
    },
    {
     "name": "stderr",
     "output_type": "stream",
     "text": [
      "2025-05-09 09:53:05,836 - stpipe - INFO -    *   Image: j8pu42esq_flc_150d08m15.267s+2d09m52.304s_F475W_topsf.fits\n"
     ]
    },
    {
     "name": "stdout",
     "output_type": "stream",
     "text": [
      "   *   Image: j8pu42esq_flc_150d08m15.267s+2d09m52.304s_F475W_topsf.fits\n"
     ]
    },
    {
     "name": "stderr",
     "output_type": "stream",
     "text": [
      "2025-05-09 09:53:05,855 - stpipe - INFO -        EXT = 'SCI',1\n"
     ]
    },
    {
     "name": "stdout",
     "output_type": "stream",
     "text": [
      "       EXT = 'SCI',1\n"
     ]
    },
    {
     "name": "stderr",
     "output_type": "stream",
     "text": [
      "2025-05-09 09:53:05,857 - stpipe - INFO -              Data units type: COUNTS\n"
     ]
    },
    {
     "name": "stdout",
     "output_type": "stream",
     "text": [
      "             Data units type: COUNTS\n"
     ]
    },
    {
     "name": "stderr",
     "output_type": "stream",
     "text": [
      "2025-05-09 09:53:05,858 - stpipe - INFO -              EXPTIME: 507.0 [s]\n"
     ]
    },
    {
     "name": "stdout",
     "output_type": "stream",
     "text": [
      "             EXPTIME: 507.0 [s]\n"
     ]
    },
    {
     "name": "stderr",
     "output_type": "stream",
     "text": [
      "2025-05-09 09:53:05,860 - stpipe - INFO -              Conversion factor (data->brightness):  0.7889546351084812\n"
     ]
    },
    {
     "name": "stdout",
     "output_type": "stream",
     "text": [
      "             Conversion factor (data->brightness):  0.7889546351084812\n"
     ]
    },
    {
     "name": "stderr",
     "output_type": "stream",
     "text": [
      "2025-05-09 09:53:05,862 - stpipe - INFO - \n"
     ]
    },
    {
     "name": "stdout",
     "output_type": "stream",
     "text": [
      "\n"
     ]
    },
    {
     "name": "stderr",
     "output_type": "stream",
     "text": [
      "2025-05-09 09:53:05,864 - stpipe - INFO -    *   Image: j8pu42evq_flc_150d08m15.267s+2d09m52.304s_F475W_topsf.fits\n"
     ]
    },
    {
     "name": "stdout",
     "output_type": "stream",
     "text": [
      "   *   Image: j8pu42evq_flc_150d08m15.267s+2d09m52.304s_F475W_topsf.fits\n"
     ]
    },
    {
     "name": "stderr",
     "output_type": "stream",
     "text": [
      "2025-05-09 09:53:05,884 - stpipe - INFO -        EXT = 'SCI',1\n"
     ]
    },
    {
     "name": "stdout",
     "output_type": "stream",
     "text": [
      "       EXT = 'SCI',1\n"
     ]
    },
    {
     "name": "stderr",
     "output_type": "stream",
     "text": [
      "2025-05-09 09:53:05,885 - stpipe - INFO -              Data units type: COUNTS\n"
     ]
    },
    {
     "name": "stdout",
     "output_type": "stream",
     "text": [
      "             Data units type: COUNTS\n"
     ]
    },
    {
     "name": "stderr",
     "output_type": "stream",
     "text": [
      "2025-05-09 09:53:05,888 - stpipe - INFO -              EXPTIME: 507.0 [s]\n"
     ]
    },
    {
     "name": "stdout",
     "output_type": "stream",
     "text": [
      "             EXPTIME: 507.0 [s]\n"
     ]
    },
    {
     "name": "stderr",
     "output_type": "stream",
     "text": [
      "2025-05-09 09:53:05,912 - stpipe - INFO -              Conversion factor (data->brightness):  0.7889546351084812\n"
     ]
    },
    {
     "name": "stdout",
     "output_type": "stream",
     "text": [
      "             Conversion factor (data->brightness):  0.7889546351084812\n"
     ]
    },
    {
     "name": "stderr",
     "output_type": "stream",
     "text": [
      "2025-05-09 09:53:05,914 - stpipe - INFO - \n"
     ]
    },
    {
     "name": "stdout",
     "output_type": "stream",
     "text": [
      "\n"
     ]
    },
    {
     "name": "stderr",
     "output_type": "stream",
     "text": [
      "2025-05-09 09:53:05,923 - stpipe - INFO - \n"
     ]
    },
    {
     "name": "stdout",
     "output_type": "stream",
     "text": [
      "\n"
     ]
    },
    {
     "name": "stderr",
     "output_type": "stream",
     "text": [
      "2025-05-09 09:53:05,927 - stpipe - INFO - -----  Computing sky values requested image extensions (detector chips):  -----\n"
     ]
    },
    {
     "name": "stdout",
     "output_type": "stream",
     "text": [
      "-----  Computing sky values requested image extensions (detector chips):  -----\n"
     ]
    },
    {
     "name": "stderr",
     "output_type": "stream",
     "text": [
      "2025-05-09 09:53:05,929 - stpipe - INFO - \n"
     ]
    },
    {
     "name": "stdout",
     "output_type": "stream",
     "text": [
      "\n"
     ]
    },
    {
     "name": "stderr",
     "output_type": "stream",
     "text": [
      "2025-05-09 09:53:06,213 - stpipe - INFO -    *   Image:   'j8pu42ecq_flc_150d08m15.267s+2d09m52.304s_F475W_topsf.fits['SCI',1]'  --  SKY = 0.0 (brightness units)\n"
     ]
    },
    {
     "name": "stdout",
     "output_type": "stream",
     "text": [
      "   *   Image:   'j8pu42ecq_flc_150d08m15.267s+2d09m52.304s_F475W_topsf.fits['SCI',1]'  --  SKY = 0.0 (brightness units)\n"
     ]
    },
    {
     "name": "stderr",
     "output_type": "stream",
     "text": [
      "2025-05-09 09:53:06,214 - stpipe - INFO -        Sky change (data units):\n"
     ]
    },
    {
     "name": "stdout",
     "output_type": "stream",
     "text": [
      "       Sky change (data units):\n"
     ]
    },
    {
     "name": "stderr",
     "output_type": "stream",
     "text": [
      "2025-05-09 09:53:06,216 - stpipe - INFO -       - EXT = 'SCI',1   delta(MDRIZSKY) = 0   NEW MDRIZSKY = 0\n"
     ]
    },
    {
     "name": "stdout",
     "output_type": "stream",
     "text": [
      "      - EXT = 'SCI',1   delta(MDRIZSKY) = 0   NEW MDRIZSKY = 0\n"
     ]
    },
    {
     "name": "stderr",
     "output_type": "stream",
     "text": [
      "2025-05-09 09:53:06,465 - stpipe - INFO -    *   Image:   'j8pu42egq_flc_150d08m15.267s+2d09m52.304s_F475W_topsf.fits['SCI',1]'  --  SKY = 0.0 (brightness units)\n"
     ]
    },
    {
     "name": "stdout",
     "output_type": "stream",
     "text": [
      "   *   Image:   'j8pu42egq_flc_150d08m15.267s+2d09m52.304s_F475W_topsf.fits['SCI',1]'  --  SKY = 0.0 (brightness units)\n"
     ]
    },
    {
     "name": "stderr",
     "output_type": "stream",
     "text": [
      "2025-05-09 09:53:06,467 - stpipe - INFO -        Sky change (data units):\n"
     ]
    },
    {
     "name": "stdout",
     "output_type": "stream",
     "text": [
      "       Sky change (data units):\n"
     ]
    },
    {
     "name": "stderr",
     "output_type": "stream",
     "text": [
      "2025-05-09 09:53:06,468 - stpipe - INFO -       - EXT = 'SCI',1   delta(MDRIZSKY) = 0   NEW MDRIZSKY = 0\n"
     ]
    },
    {
     "name": "stdout",
     "output_type": "stream",
     "text": [
      "      - EXT = 'SCI',1   delta(MDRIZSKY) = 0   NEW MDRIZSKY = 0\n"
     ]
    },
    {
     "name": "stderr",
     "output_type": "stream",
     "text": [
      "2025-05-09 09:53:06,727 - stpipe - INFO -    *   Image:   'j8pu42esq_flc_150d08m15.267s+2d09m52.304s_F475W_topsf.fits['SCI',1]'  --  SKY = 0.0 (brightness units)\n"
     ]
    },
    {
     "name": "stdout",
     "output_type": "stream",
     "text": [
      "   *   Image:   'j8pu42esq_flc_150d08m15.267s+2d09m52.304s_F475W_topsf.fits['SCI',1]'  --  SKY = 0.0 (brightness units)\n"
     ]
    },
    {
     "name": "stderr",
     "output_type": "stream",
     "text": [
      "2025-05-09 09:53:06,728 - stpipe - INFO -        Sky change (data units):\n"
     ]
    },
    {
     "name": "stdout",
     "output_type": "stream",
     "text": [
      "       Sky change (data units):\n"
     ]
    },
    {
     "name": "stderr",
     "output_type": "stream",
     "text": [
      "2025-05-09 09:53:06,729 - stpipe - INFO -       - EXT = 'SCI',1   delta(MDRIZSKY) = 0   NEW MDRIZSKY = 0\n"
     ]
    },
    {
     "name": "stdout",
     "output_type": "stream",
     "text": [
      "      - EXT = 'SCI',1   delta(MDRIZSKY) = 0   NEW MDRIZSKY = 0\n"
     ]
    },
    {
     "name": "stderr",
     "output_type": "stream",
     "text": [
      "2025-05-09 09:53:06,978 - stpipe - INFO -    *   Image:   'j8pu42evq_flc_150d08m15.267s+2d09m52.304s_F475W_topsf.fits['SCI',1]'  --  SKY = 0.0 (brightness units)\n"
     ]
    },
    {
     "name": "stdout",
     "output_type": "stream",
     "text": [
      "   *   Image:   'j8pu42evq_flc_150d08m15.267s+2d09m52.304s_F475W_topsf.fits['SCI',1]'  --  SKY = 0.0 (brightness units)\n"
     ]
    },
    {
     "name": "stderr",
     "output_type": "stream",
     "text": [
      "2025-05-09 09:53:06,980 - stpipe - INFO -        Sky change (data units):\n"
     ]
    },
    {
     "name": "stdout",
     "output_type": "stream",
     "text": [
      "       Sky change (data units):\n"
     ]
    },
    {
     "name": "stderr",
     "output_type": "stream",
     "text": [
      "2025-05-09 09:53:06,981 - stpipe - INFO -       - EXT = 'SCI',1   delta(MDRIZSKY) = 0   NEW MDRIZSKY = 0\n"
     ]
    },
    {
     "name": "stdout",
     "output_type": "stream",
     "text": [
      "      - EXT = 'SCI',1   delta(MDRIZSKY) = 0   NEW MDRIZSKY = 0\n"
     ]
    },
    {
     "name": "stderr",
     "output_type": "stream",
     "text": [
      "2025-05-09 09:53:06,983 - stpipe - INFO - ***** skymatch ended on 2025-05-09 09:53:06.983165\n"
     ]
    },
    {
     "name": "stdout",
     "output_type": "stream",
     "text": [
      "***** skymatch ended on 2025-05-09 09:53:06.983165\n"
     ]
    },
    {
     "name": "stderr",
     "output_type": "stream",
     "text": [
      "2025-05-09 09:53:06,985 - stpipe - INFO - TOTAL RUN TIME: 0:00:01.314552\n"
     ]
    },
    {
     "name": "stdout",
     "output_type": "stream",
     "text": [
      "TOTAL RUN TIME: 0:00:01.314552\n"
     ]
    },
    {
     "name": "stderr",
     "output_type": "stream",
     "text": [
      "2025-05-09 09:53:07,050 - stpipe - INFO - ==== Processing Step Subtract Sky finished at 09:53:07.049 (09/05/2025)\n"
     ]
    },
    {
     "name": "stdout",
     "output_type": "stream",
     "text": [
      "==== Processing Step Subtract Sky finished at 09:53:07.049 (09/05/2025)\n"
     ]
    },
    {
     "name": "stderr",
     "output_type": "stream",
     "text": [
      "2025-05-09 09:53:07,051 - stpipe - INFO - ==== Processing Step  Separate Drizzle  started at  09:53:07.051 (09/05/2025)\n"
     ]
    },
    {
     "name": "stdout",
     "output_type": "stream",
     "text": [
      "==== Processing Step  Separate Drizzle  started at  09:53:07.051 (09/05/2025)\n"
     ]
    },
    {
     "name": "stderr",
     "output_type": "stream",
     "text": [
      "2025-05-09 09:53:07,052 - stpipe - INFO - \n"
     ]
    },
    {
     "name": "stdout",
     "output_type": "stream",
     "text": [
      "\n"
     ]
    },
    {
     "name": "stderr",
     "output_type": "stream",
     "text": [
      "2025-05-09 09:53:07,078 - stpipe - INFO - Interpreted paramDict with single=True as:\n",
      "{'build': True, 'stepsize': 10, 'coeffs': True, 'wcskey': '', 'kernel': 'turbo', 'wt_scl': 'exptime', 'pixfrac': 1.0, 'fillval': None, 'bits': 0, 'compress': False, 'units': 'cps'}\n",
      "2025-05-09 09:53:07,079 - stpipe - INFO - USER INPUT PARAMETERS for Separate Drizzle Step:\n",
      "2025-05-09 09:53:07,080 - stpipe - INFO - \tbits :\t0\n",
      "2025-05-09 09:53:07,081 - stpipe - INFO - \tbuild :\tFalse\n",
      "2025-05-09 09:53:07,081 - stpipe - INFO - \tclean :\tFalse\n",
      "2025-05-09 09:53:07,082 - stpipe - INFO - \tcoeffs :\tTrue\n",
      "2025-05-09 09:53:07,087 - stpipe - INFO - \tcompress :\tFalse\n",
      "2025-05-09 09:53:07,089 - stpipe - INFO - \tcrbit :\tNone\n",
      "2025-05-09 09:53:07,089 - stpipe - INFO - \tfillval :\tNone\n",
      "2025-05-09 09:53:07,090 - stpipe - INFO - \tkernel :\tturbo\n",
      "2025-05-09 09:53:07,091 - stpipe - INFO - \tnum_cores :\tNone\n",
      "2025-05-09 09:53:07,091 - stpipe - INFO - \tpixfrac :\t1.0\n",
      "2025-05-09 09:53:07,092 - stpipe - INFO - \tproc_unit :\telectrons\n",
      "2025-05-09 09:53:07,093 - stpipe - INFO - \trules_file :\tNone\n",
      "2025-05-09 09:53:07,094 - stpipe - INFO - \tstepsize :\t10\n",
      "2025-05-09 09:53:07,094 - stpipe - INFO - \tunits :\tcps\n",
      "2025-05-09 09:53:07,095 - stpipe - INFO - \twcskey :\t\n",
      "2025-05-09 09:53:07,096 - stpipe - INFO - \twht_type :\tNone\n",
      "2025-05-09 09:53:07,096 - stpipe - INFO - \twt_scl :\texptime\n",
      "2025-05-09 09:53:07,097 - stpipe - INFO -   **Using sub-sampling value of 10 for kernel turbo\n",
      "2025-05-09 09:53:07,098 - stpipe - INFO - Running Drizzle to create output frame with WCS of: \n",
      "2025-05-09 09:53:07,099 - stpipe - INFO - WCS Keywords\n"
     ]
    },
    {
     "name": "stdout",
     "output_type": "stream",
     "text": [
      "WCS Keywords\n"
     ]
    },
    {
     "name": "stderr",
     "output_type": "stream",
     "text": [
      "2025-05-09 09:53:07,100 - stpipe - INFO - \n"
     ]
    },
    {
     "name": "stdout",
     "output_type": "stream",
     "text": [
      "\n"
     ]
    },
    {
     "name": "stderr",
     "output_type": "stream",
     "text": [
      "2025-05-09 09:53:07,102 - stpipe - INFO - Number of WCS axes: 2\n"
     ]
    },
    {
     "name": "stdout",
     "output_type": "stream",
     "text": [
      "Number of WCS axes: 2\n"
     ]
    },
    {
     "name": "stderr",
     "output_type": "stream",
     "text": [
      "2025-05-09 09:53:07,103 - stpipe - INFO - CTYPE : 'RA---TAN' 'DEC--TAN' \n"
     ]
    },
    {
     "name": "stdout",
     "output_type": "stream",
     "text": [
      "CTYPE : 'RA---TAN' 'DEC--TAN' \n"
     ]
    },
    {
     "name": "stderr",
     "output_type": "stream",
     "text": [
      "2025-05-09 09:53:07,104 - stpipe - INFO - CRVAL : np.float64(150.1242636198465) np.float64(2.151761555110333) \n"
     ]
    },
    {
     "name": "stdout",
     "output_type": "stream",
     "text": [
      "CRVAL : np.float64(150.1242636198465) np.float64(2.151761555110333) \n"
     ]
    },
    {
     "name": "stderr",
     "output_type": "stream",
     "text": [
      "2025-05-09 09:53:07,105 - stpipe - INFO - CRPIX : np.float64(2081.0) np.float64(1179.5) \n"
     ]
    },
    {
     "name": "stdout",
     "output_type": "stream",
     "text": [
      "CRPIX : np.float64(2081.0) np.float64(1179.5) \n"
     ]
    },
    {
     "name": "stderr",
     "output_type": "stream",
     "text": [
      "2025-05-09 09:53:07,107 - stpipe - INFO - CD1_1 CD1_2  : np.float64(-2.4118726301966414e-06) np.float64(-1.3677869168244357e-05) \n"
     ]
    },
    {
     "name": "stdout",
     "output_type": "stream",
     "text": [
      "CD1_1 CD1_2  : np.float64(-2.4118726301966414e-06) np.float64(-1.3677869168244357e-05) \n"
     ]
    },
    {
     "name": "stderr",
     "output_type": "stream",
     "text": [
      "2025-05-09 09:53:07,108 - stpipe - INFO - CD2_1 CD2_2  : np.float64(-1.3677869168244357e-05) np.float64(2.4118726301966414e-06) \n"
     ]
    },
    {
     "name": "stdout",
     "output_type": "stream",
     "text": [
      "CD2_1 CD2_2  : np.float64(-1.3677869168244357e-05) np.float64(2.4118726301966414e-06) \n"
     ]
    },
    {
     "name": "stderr",
     "output_type": "stream",
     "text": [
      "2025-05-09 09:53:07,109 - stpipe - INFO - NAXIS : 4162  2359\n"
     ]
    },
    {
     "name": "stdout",
     "output_type": "stream",
     "text": [
      "NAXIS : 4162  2359\n"
     ]
    },
    {
     "name": "stderr",
     "output_type": "stream",
     "text": [
      "2025-05-09 09:53:07,110 - stpipe - INFO - Executing 4 parallel workers\n",
      "2025-05-09 09:53:07,149 - stpipe - INFO - -Drizzle input: /Users/avapolzin/Desktop/psf_testoutputs/acs/j8pu42ecq_flc_150d08m15.267s+2d09m52.304s_F475W_topsf.fits[sci,1]\n",
      "2025-05-09 09:53:07,191 - stpipe - INFO - Applying sky value of 0.000000 to /Users/avapolzin/Desktop/psf_testoutputs/acs/j8pu42ecq_flc_150d08m15.267s+2d09m52.304s_F475W_topsf.fits[sci,1]\n",
      "2025-05-09 09:53:07,166 - stpipe - INFO - -Drizzle input: /Users/avapolzin/Desktop/psf_testoutputs/acs/j8pu42egq_flc_150d08m15.267s+2d09m52.304s_F475W_topsf.fits[sci,1]\n",
      "2025-05-09 09:53:07,185 - stpipe - INFO - -Drizzle input: /Users/avapolzin/Desktop/psf_testoutputs/acs/j8pu42esq_flc_150d08m15.267s+2d09m52.304s_F475W_topsf.fits[sci,1]\n",
      "2025-05-09 09:53:07,219 - stpipe - INFO - -Drizzle input: /Users/avapolzin/Desktop/psf_testoutputs/acs/j8pu42evq_flc_150d08m15.267s+2d09m52.304s_F475W_topsf.fits[sci,1]\n",
      "2025-05-09 09:53:07,226 - stpipe - INFO - Applying sky value of 0.000000 to /Users/avapolzin/Desktop/psf_testoutputs/acs/j8pu42esq_flc_150d08m15.267s+2d09m52.304s_F475W_topsf.fits[sci,1]\n",
      "2025-05-09 09:53:07,227 - stpipe - INFO - Applying sky value of 0.000000 to /Users/avapolzin/Desktop/psf_testoutputs/acs/j8pu42egq_flc_150d08m15.267s+2d09m52.304s_F475W_topsf.fits[sci,1]\n",
      "2025-05-09 09:53:07,256 - stpipe - INFO - Applying sky value of 0.000000 to /Users/avapolzin/Desktop/psf_testoutputs/acs/j8pu42evq_flc_150d08m15.267s+2d09m52.304s_F475W_topsf.fits[sci,1]\n",
      "2025-05-09 09:53:07,409 - stpipe - INFO - Writing out mask file: /Users/avapolzin/Desktop/psf_testoutputs/acs/j8pu42ecq_flc_150d08m15.267s+2d09m52.304s_F475W_topsf_sci1_single_mask.fits\n",
      "2025-05-09 09:53:07,412 - stpipe - INFO - Using WCSLIB-based coordinate transformation...\n",
      "2025-05-09 09:53:07,414 - stpipe - INFO - stepsize = 10\n",
      "2025-05-09 09:53:07,439 - stpipe - INFO - Writing out mask file: /Users/avapolzin/Desktop/psf_testoutputs/acs/j8pu42egq_flc_150d08m15.267s+2d09m52.304s_F475W_topsf_sci1_single_mask.fits\n",
      "2025-05-09 09:53:07,441 - stpipe - INFO - Using WCSLIB-based coordinate transformation...\n",
      "2025-05-09 09:53:07,443 - stpipe - INFO - stepsize = 10\n",
      "2025-05-09 09:53:07,451 - stpipe - INFO - -Drizzling using kernel = turbo\n",
      "\n",
      "2025-05-09 09:53:07,453 - stpipe - INFO - Writing out mask file: /Users/avapolzin/Desktop/psf_testoutputs/acs/j8pu42esq_flc_150d08m15.267s+2d09m52.304s_F475W_topsf_sci1_single_mask.fits\n",
      "2025-05-09 09:53:07,455 - stpipe - INFO - Using WCSLIB-based coordinate transformation...\n",
      "2025-05-09 09:53:07,457 - stpipe - INFO - stepsize = 10\n",
      "2025-05-09 09:53:07,468 - stpipe - INFO - Writing out mask file: /Users/avapolzin/Desktop/psf_testoutputs/acs/j8pu42evq_flc_150d08m15.267s+2d09m52.304s_F475W_topsf_sci1_single_mask.fits\n",
      "2025-05-09 09:53:07,470 - stpipe - INFO - Using WCSLIB-based coordinate transformation...\n",
      "2025-05-09 09:53:07,472 - stpipe - INFO - stepsize = 10\n",
      "2025-05-09 09:53:07,479 - stpipe - INFO - -Drizzling using kernel = turbo\n",
      "\n",
      "2025-05-09 09:53:07,492 - stpipe - INFO - -Drizzling using kernel = turbo\n",
      "\n",
      "2025-05-09 09:53:07,506 - stpipe - INFO - -Drizzling using kernel = turbo\n",
      "\n",
      "2025-05-09 09:53:08,161 - stpipe - INFO - -Generating simple FITS output: /Users/avapolzin/Desktop/psf_testoutputs/acs/j8pu42ecq_flc_150d08m15.267s+2d09m52.304s_F475W_topsf_single_sci.fits\n"
     ]
    },
    {
     "name": "stdout",
     "output_type": "stream",
     "text": [
      "-Generating simple FITS output: /Users/avapolzin/Desktop/psf_testoutputs/acs/j8pu42ecq_flc_150d08m15.267s+2d09m52.304s_F475W_topsf_single_sci.fits\n"
     ]
    },
    {
     "name": "stderr",
     "output_type": "stream",
     "text": [
      "2025-05-09 09:53:08,184 - stpipe - WARNING - /Users/avapolzin/opt/anaconda3/envs/spike/lib/python3.10/site-packages/astropy/io/fits/card.py:1036: VerifyWarning: Card is too long, comment will be truncated.\n",
      "\n",
      "2025-05-09 09:53:08,188 - stpipe - INFO - -Generating simple FITS output: /Users/avapolzin/Desktop/psf_testoutputs/acs/j8pu42esq_flc_150d08m15.267s+2d09m52.304s_F475W_topsf_single_sci.fits\n",
      "2025-05-09 09:53:08,189 - stpipe - INFO - -Generating simple FITS output: /Users/avapolzin/Desktop/psf_testoutputs/acs/j8pu42egq_flc_150d08m15.267s+2d09m52.304s_F475W_topsf_single_sci.fits\n"
     ]
    },
    {
     "name": "stdout",
     "output_type": "stream",
     "text": [
      "-Generating simple FITS output: /Users/avapolzin/Desktop/psf_testoutputs/acs/j8pu42esq_flc_150d08m15.267s+2d09m52.304s_F475W_topsf_single_sci.fits\n",
      "-Generating simple FITS output: /Users/avapolzin/Desktop/psf_testoutputs/acs/j8pu42egq_flc_150d08m15.267s+2d09m52.304s_F475W_topsf_single_sci.fits\n"
     ]
    },
    {
     "name": "stderr",
     "output_type": "stream",
     "text": [
      "2025-05-09 09:53:08,198 - stpipe - INFO - -Generating simple FITS output: /Users/avapolzin/Desktop/psf_testoutputs/acs/j8pu42evq_flc_150d08m15.267s+2d09m52.304s_F475W_topsf_single_sci.fits\n"
     ]
    },
    {
     "name": "stdout",
     "output_type": "stream",
     "text": [
      "-Generating simple FITS output: /Users/avapolzin/Desktop/psf_testoutputs/acs/j8pu42evq_flc_150d08m15.267s+2d09m52.304s_F475W_topsf_single_sci.fits\n"
     ]
    },
    {
     "name": "stderr",
     "output_type": "stream",
     "text": [
      "2025-05-09 09:53:08,212 - stpipe - WARNING - /Users/avapolzin/opt/anaconda3/envs/spike/lib/python3.10/site-packages/astropy/io/fits/card.py:1036: VerifyWarning: Card is too long, comment will be truncated.\n",
      "\n",
      "2025-05-09 09:53:08,212 - stpipe - WARNING - /Users/avapolzin/opt/anaconda3/envs/spike/lib/python3.10/site-packages/astropy/io/fits/card.py:1036: VerifyWarning: Card is too long, comment will be truncated.\n",
      "\n",
      "2025-05-09 09:53:08,226 - stpipe - WARNING - /Users/avapolzin/opt/anaconda3/envs/spike/lib/python3.10/site-packages/astropy/io/fits/card.py:1036: VerifyWarning: Card is too long, comment will be truncated.\n",
      "\n",
      "2025-05-09 09:53:08,232 - stpipe - INFO - Writing out image to disk: /Users/avapolzin/Desktop/psf_testoutputs/acs/j8pu42ecq_flc_150d08m15.267s+2d09m52.304s_F475W_topsf_single_sci.fits\n"
     ]
    },
    {
     "name": "stdout",
     "output_type": "stream",
     "text": [
      "Writing out image to disk: /Users/avapolzin/Desktop/psf_testoutputs/acs/j8pu42ecq_flc_150d08m15.267s+2d09m52.304s_F475W_topsf_single_sci.fits\n"
     ]
    },
    {
     "name": "stderr",
     "output_type": "stream",
     "text": [
      "2025-05-09 09:53:08,258 - stpipe - INFO - Writing out image to disk: /Users/avapolzin/Desktop/psf_testoutputs/acs/j8pu42esq_flc_150d08m15.267s+2d09m52.304s_F475W_topsf_single_sci.fits\n",
      "2025-05-09 09:53:08,260 - stpipe - INFO - Writing out image to disk: /Users/avapolzin/Desktop/psf_testoutputs/acs/j8pu42egq_flc_150d08m15.267s+2d09m52.304s_F475W_topsf_single_sci.fits\n"
     ]
    },
    {
     "name": "stdout",
     "output_type": "stream",
     "text": [
      "Writing out image to disk: /Users/avapolzin/Desktop/psf_testoutputs/acs/j8pu42esq_flc_150d08m15.267s+2d09m52.304s_F475W_topsf_single_sci.fits\n",
      "Writing out image to disk: /Users/avapolzin/Desktop/psf_testoutputs/acs/j8pu42egq_flc_150d08m15.267s+2d09m52.304s_F475W_topsf_single_sci.fits\n"
     ]
    },
    {
     "name": "stderr",
     "output_type": "stream",
     "text": [
      "2025-05-09 09:53:08,271 - stpipe - INFO - Writing out image to disk: /Users/avapolzin/Desktop/psf_testoutputs/acs/j8pu42evq_flc_150d08m15.267s+2d09m52.304s_F475W_topsf_single_sci.fits\n"
     ]
    },
    {
     "name": "stdout",
     "output_type": "stream",
     "text": [
      "Writing out image to disk: /Users/avapolzin/Desktop/psf_testoutputs/acs/j8pu42evq_flc_150d08m15.267s+2d09m52.304s_F475W_topsf_single_sci.fits\n"
     ]
    },
    {
     "name": "stderr",
     "output_type": "stream",
     "text": [
      "2025-05-09 09:53:08,342 - stpipe - INFO - Writing out image to disk: /Users/avapolzin/Desktop/psf_testoutputs/acs/j8pu42ecq_flc_150d08m15.267s+2d09m52.304s_F475W_topsf_single_wht.fits\n"
     ]
    },
    {
     "name": "stdout",
     "output_type": "stream",
     "text": [
      "Writing out image to disk: /Users/avapolzin/Desktop/psf_testoutputs/acs/j8pu42ecq_flc_150d08m15.267s+2d09m52.304s_F475W_topsf_single_wht.fits\n"
     ]
    },
    {
     "name": "stderr",
     "output_type": "stream",
     "text": [
      "2025-05-09 09:53:08,392 - stpipe - INFO - Writing out image to disk: /Users/avapolzin/Desktop/psf_testoutputs/acs/j8pu42evq_flc_150d08m15.267s+2d09m52.304s_F475W_topsf_single_wht.fits\n"
     ]
    },
    {
     "name": "stdout",
     "output_type": "stream",
     "text": [
      "Writing out image to disk: /Users/avapolzin/Desktop/psf_testoutputs/acs/j8pu42evq_flc_150d08m15.267s+2d09m52.304s_F475W_topsf_single_wht.fits\n"
     ]
    },
    {
     "name": "stderr",
     "output_type": "stream",
     "text": [
      "2025-05-09 09:53:08,396 - stpipe - INFO - Writing out image to disk: /Users/avapolzin/Desktop/psf_testoutputs/acs/j8pu42esq_flc_150d08m15.267s+2d09m52.304s_F475W_topsf_single_wht.fits\n"
     ]
    },
    {
     "name": "stdout",
     "output_type": "stream",
     "text": [
      "Writing out image to disk: /Users/avapolzin/Desktop/psf_testoutputs/acs/j8pu42esq_flc_150d08m15.267s+2d09m52.304s_F475W_topsf_single_wht.fits\n"
     ]
    },
    {
     "name": "stderr",
     "output_type": "stream",
     "text": [
      "2025-05-09 09:53:08,460 - stpipe - INFO - Writing out image to disk: /Users/avapolzin/Desktop/psf_testoutputs/acs/j8pu42egq_flc_150d08m15.267s+2d09m52.304s_F475W_topsf_single_wht.fits\n"
     ]
    },
    {
     "name": "stdout",
     "output_type": "stream",
     "text": [
      "Writing out image to disk: /Users/avapolzin/Desktop/psf_testoutputs/acs/j8pu42egq_flc_150d08m15.267s+2d09m52.304s_F475W_topsf_single_wht.fits\n"
     ]
    },
    {
     "name": "stderr",
     "output_type": "stream",
     "text": [
      "2025-05-09 09:53:08,533 - stpipe - INFO - ==== Processing Step Separate Drizzle finished at 09:53:08.532 (09/05/2025)\n"
     ]
    },
    {
     "name": "stdout",
     "output_type": "stream",
     "text": [
      "==== Processing Step Separate Drizzle finished at 09:53:08.532 (09/05/2025)\n"
     ]
    },
    {
     "name": "stderr",
     "output_type": "stream",
     "text": [
      "2025-05-09 09:53:08,536 - stpipe - INFO - ==== Processing Step  Create Median  started at  09:53:08.535 (09/05/2025)\n"
     ]
    },
    {
     "name": "stdout",
     "output_type": "stream",
     "text": [
      "==== Processing Step  Create Median  started at  09:53:08.535 (09/05/2025)\n"
     ]
    },
    {
     "name": "stderr",
     "output_type": "stream",
     "text": [
      "2025-05-09 09:53:08,537 - stpipe - INFO - \n"
     ]
    },
    {
     "name": "stdout",
     "output_type": "stream",
     "text": [
      "\n"
     ]
    },
    {
     "name": "stderr",
     "output_type": "stream",
     "text": [
      "2025-05-09 09:53:08,539 - stpipe - INFO - USER INPUT PARAMETERS for Create Median Step:\n",
      "2025-05-09 09:53:08,540 - stpipe - INFO - \tcombine_bufsize :\tNone\n",
      "2025-05-09 09:53:08,540 - stpipe - INFO - \tcombine_grow :\t1\n",
      "2025-05-09 09:53:08,541 - stpipe - INFO - \tcombine_hthresh :\tNone\n",
      "2025-05-09 09:53:08,541 - stpipe - INFO - \tcombine_lthresh :\tNone\n",
      "2025-05-09 09:53:08,542 - stpipe - INFO - \tcombine_maskpt :\t0.3\n",
      "2025-05-09 09:53:08,543 - stpipe - INFO - \tcombine_nhigh :\t0\n",
      "2025-05-09 09:53:08,544 - stpipe - INFO - \tcombine_nlow :\t0\n",
      "2025-05-09 09:53:08,544 - stpipe - INFO - \tcombine_nsigma :\t4 3\n",
      "2025-05-09 09:53:08,545 - stpipe - INFO - \tcombine_type :\timedian\n",
      "2025-05-09 09:53:08,546 - stpipe - INFO - \tcompress :\tFalse\n",
      "2025-05-09 09:53:08,546 - stpipe - INFO - \tmedian :\tTrue\n",
      "2025-05-09 09:53:08,547 - stpipe - INFO - \tmedian_newmasks :\tTrue\n",
      "2025-05-09 09:53:08,547 - stpipe - INFO - \tproc_unit :\tnative\n",
      "2025-05-09 09:53:08,627 - stpipe - INFO - reference sky value for image '/Users/avapolzin/Desktop/psf_testoutputs/acs/j8pu42ecq_flc_150d08m15.267s+2d09m52.304s_F475W_topsf.fits' is 0.0\n"
     ]
    },
    {
     "name": "stdout",
     "output_type": "stream",
     "text": [
      "reference sky value for image '/Users/avapolzin/Desktop/psf_testoutputs/acs/j8pu42ecq_flc_150d08m15.267s+2d09m52.304s_F475W_topsf.fits' is 0.0\n"
     ]
    },
    {
     "name": "stderr",
     "output_type": "stream",
     "text": [
      "2025-05-09 09:53:08,690 - stpipe - INFO - reference sky value for image '/Users/avapolzin/Desktop/psf_testoutputs/acs/j8pu42egq_flc_150d08m15.267s+2d09m52.304s_F475W_topsf.fits' is 0.0\n"
     ]
    },
    {
     "name": "stdout",
     "output_type": "stream",
     "text": [
      "reference sky value for image '/Users/avapolzin/Desktop/psf_testoutputs/acs/j8pu42egq_flc_150d08m15.267s+2d09m52.304s_F475W_topsf.fits' is 0.0\n"
     ]
    },
    {
     "name": "stderr",
     "output_type": "stream",
     "text": [
      "2025-05-09 09:53:08,750 - stpipe - INFO - reference sky value for image '/Users/avapolzin/Desktop/psf_testoutputs/acs/j8pu42esq_flc_150d08m15.267s+2d09m52.304s_F475W_topsf.fits' is 0.0\n"
     ]
    },
    {
     "name": "stdout",
     "output_type": "stream",
     "text": [
      "reference sky value for image '/Users/avapolzin/Desktop/psf_testoutputs/acs/j8pu42esq_flc_150d08m15.267s+2d09m52.304s_F475W_topsf.fits' is 0.0\n"
     ]
    },
    {
     "name": "stderr",
     "output_type": "stream",
     "text": [
      "2025-05-09 09:53:08,833 - stpipe - INFO - reference sky value for image '/Users/avapolzin/Desktop/psf_testoutputs/acs/j8pu42evq_flc_150d08m15.267s+2d09m52.304s_F475W_topsf.fits' is 0.0\n"
     ]
    },
    {
     "name": "stdout",
     "output_type": "stream",
     "text": [
      "reference sky value for image '/Users/avapolzin/Desktop/psf_testoutputs/acs/j8pu42evq_flc_150d08m15.267s+2d09m52.304s_F475W_topsf.fits' is 0.0\n"
     ]
    },
    {
     "name": "stderr",
     "output_type": "stream",
     "text": [
      "2025-05-09 09:53:10,248 - stpipe - INFO - Saving output median image to: '/Users/avapolzin/Desktop/psf_testoutputs/acs/150d08m15.267s+2d09m52.304s_F475W_psf_med.fits'\n"
     ]
    },
    {
     "name": "stdout",
     "output_type": "stream",
     "text": [
      "Saving output median image to: '/Users/avapolzin/Desktop/psf_testoutputs/acs/150d08m15.267s+2d09m52.304s_F475W_psf_med.fits'\n"
     ]
    },
    {
     "name": "stderr",
     "output_type": "stream",
     "text": [
      "2025-05-09 09:53:10,275 - stpipe - INFO - ==== Processing Step Create Median finished at 09:53:10.275 (09/05/2025)\n"
     ]
    },
    {
     "name": "stdout",
     "output_type": "stream",
     "text": [
      "==== Processing Step Create Median finished at 09:53:10.275 (09/05/2025)\n"
     ]
    },
    {
     "name": "stderr",
     "output_type": "stream",
     "text": [
      "2025-05-09 09:53:10,276 - stpipe - INFO - ==== Processing Step  Blot  started at  09:53:10.276 (09/05/2025)\n"
     ]
    },
    {
     "name": "stdout",
     "output_type": "stream",
     "text": [
      "==== Processing Step  Blot  started at  09:53:10.276 (09/05/2025)\n"
     ]
    },
    {
     "name": "stderr",
     "output_type": "stream",
     "text": [
      "2025-05-09 09:53:10,277 - stpipe - INFO - \n"
     ]
    },
    {
     "name": "stdout",
     "output_type": "stream",
     "text": [
      "\n"
     ]
    },
    {
     "name": "stderr",
     "output_type": "stream",
     "text": [
      "2025-05-09 09:53:10,279 - stpipe - INFO - USER INPUT PARAMETERS for Blot Step:\n",
      "2025-05-09 09:53:10,280 - stpipe - INFO - \tblot_addsky :\tTrue\n",
      "2025-05-09 09:53:10,280 - stpipe - INFO - \tblot_interp :\tpoly5\n",
      "2025-05-09 09:53:10,281 - stpipe - INFO - \tblot_sinscl :\t1.0\n",
      "2025-05-09 09:53:10,282 - stpipe - INFO - \tblot_skyval :\t0.0\n",
      "2025-05-09 09:53:10,282 - stpipe - INFO - \tcoeffs :\tTrue\n",
      "2025-05-09 09:53:10,284 - stpipe - INFO -     Blot: creating blotted image:  /Users/avapolzin/Desktop/psf_testoutputs/acs/j8pu42ecq_flc_150d08m15.267s+2d09m52.304s_F475W_topsf.fits[sci,1]\n"
     ]
    },
    {
     "name": "stdout",
     "output_type": "stream",
     "text": [
      "    Blot: creating blotted image:  /Users/avapolzin/Desktop/psf_testoutputs/acs/j8pu42ecq_flc_150d08m15.267s+2d09m52.304s_F475W_topsf.fits[sci,1]\n"
     ]
    },
    {
     "name": "stderr",
     "output_type": "stream",
     "text": [
      "2025-05-09 09:53:10,322 - stpipe - INFO - Using default C-based coordinate transformation...\n"
     ]
    },
    {
     "name": "stdout",
     "output_type": "stream",
     "text": [
      "Using default C-based coordinate transformation...\n"
     ]
    },
    {
     "name": "stderr",
     "output_type": "stream",
     "text": [
      "2025-05-09 09:53:11,132 - stpipe - INFO - Applying sky value of 0.000000 to blotted image /Users/avapolzin/Desktop/psf_testoutputs/acs/j8pu42ecq_flc_150d08m15.267s+2d09m52.304s_F475W_topsf.fits[sci,1]\n",
      "2025-05-09 09:53:11,173 - stpipe - INFO - -Generating simple FITS output: /Users/avapolzin/Desktop/psf_testoutputs/acs/j8pu42ecq_flc_150d08m15.267s+2d09m52.304s_F475W_topsf_sci1_blt.fits\n"
     ]
    },
    {
     "name": "stdout",
     "output_type": "stream",
     "text": [
      "-Generating simple FITS output: /Users/avapolzin/Desktop/psf_testoutputs/acs/j8pu42ecq_flc_150d08m15.267s+2d09m52.304s_F475W_topsf_sci1_blt.fits\n"
     ]
    },
    {
     "name": "stderr",
     "output_type": "stream",
     "text": [
      "2025-05-09 09:53:11,188 - stpipe - INFO - Writing out image to disk: /Users/avapolzin/Desktop/psf_testoutputs/acs/j8pu42ecq_flc_150d08m15.267s+2d09m52.304s_F475W_topsf_sci1_blt.fits\n"
     ]
    },
    {
     "name": "stdout",
     "output_type": "stream",
     "text": [
      "Writing out image to disk: /Users/avapolzin/Desktop/psf_testoutputs/acs/j8pu42ecq_flc_150d08m15.267s+2d09m52.304s_F475W_topsf_sci1_blt.fits\n"
     ]
    },
    {
     "name": "stderr",
     "output_type": "stream",
     "text": [
      "2025-05-09 09:53:11,225 - stpipe - INFO -     Blot: creating blotted image:  /Users/avapolzin/Desktop/psf_testoutputs/acs/j8pu42egq_flc_150d08m15.267s+2d09m52.304s_F475W_topsf.fits[sci,1]\n"
     ]
    },
    {
     "name": "stdout",
     "output_type": "stream",
     "text": [
      "    Blot: creating blotted image:  /Users/avapolzin/Desktop/psf_testoutputs/acs/j8pu42egq_flc_150d08m15.267s+2d09m52.304s_F475W_topsf.fits[sci,1]\n"
     ]
    },
    {
     "name": "stderr",
     "output_type": "stream",
     "text": [
      "2025-05-09 09:53:11,266 - stpipe - INFO - Using default C-based coordinate transformation...\n"
     ]
    },
    {
     "name": "stdout",
     "output_type": "stream",
     "text": [
      "Using default C-based coordinate transformation...\n"
     ]
    },
    {
     "name": "stderr",
     "output_type": "stream",
     "text": [
      "2025-05-09 09:53:12,052 - stpipe - INFO - Applying sky value of 0.000000 to blotted image /Users/avapolzin/Desktop/psf_testoutputs/acs/j8pu42egq_flc_150d08m15.267s+2d09m52.304s_F475W_topsf.fits[sci,1]\n",
      "2025-05-09 09:53:12,093 - stpipe - INFO - -Generating simple FITS output: /Users/avapolzin/Desktop/psf_testoutputs/acs/j8pu42egq_flc_150d08m15.267s+2d09m52.304s_F475W_topsf_sci1_blt.fits\n"
     ]
    },
    {
     "name": "stdout",
     "output_type": "stream",
     "text": [
      "-Generating simple FITS output: /Users/avapolzin/Desktop/psf_testoutputs/acs/j8pu42egq_flc_150d08m15.267s+2d09m52.304s_F475W_topsf_sci1_blt.fits\n"
     ]
    },
    {
     "name": "stderr",
     "output_type": "stream",
     "text": [
      "2025-05-09 09:53:12,109 - stpipe - INFO - Writing out image to disk: /Users/avapolzin/Desktop/psf_testoutputs/acs/j8pu42egq_flc_150d08m15.267s+2d09m52.304s_F475W_topsf_sci1_blt.fits\n"
     ]
    },
    {
     "name": "stdout",
     "output_type": "stream",
     "text": [
      "Writing out image to disk: /Users/avapolzin/Desktop/psf_testoutputs/acs/j8pu42egq_flc_150d08m15.267s+2d09m52.304s_F475W_topsf_sci1_blt.fits\n"
     ]
    },
    {
     "name": "stderr",
     "output_type": "stream",
     "text": [
      "2025-05-09 09:53:12,154 - stpipe - INFO -     Blot: creating blotted image:  /Users/avapolzin/Desktop/psf_testoutputs/acs/j8pu42esq_flc_150d08m15.267s+2d09m52.304s_F475W_topsf.fits[sci,1]\n"
     ]
    },
    {
     "name": "stdout",
     "output_type": "stream",
     "text": [
      "    Blot: creating blotted image:  /Users/avapolzin/Desktop/psf_testoutputs/acs/j8pu42esq_flc_150d08m15.267s+2d09m52.304s_F475W_topsf.fits[sci,1]\n"
     ]
    },
    {
     "name": "stderr",
     "output_type": "stream",
     "text": [
      "2025-05-09 09:53:12,186 - stpipe - INFO - Using default C-based coordinate transformation...\n"
     ]
    },
    {
     "name": "stdout",
     "output_type": "stream",
     "text": [
      "Using default C-based coordinate transformation...\n"
     ]
    },
    {
     "name": "stderr",
     "output_type": "stream",
     "text": [
      "2025-05-09 09:53:12,965 - stpipe - INFO - Applying sky value of 0.000000 to blotted image /Users/avapolzin/Desktop/psf_testoutputs/acs/j8pu42esq_flc_150d08m15.267s+2d09m52.304s_F475W_topsf.fits[sci,1]\n",
      "2025-05-09 09:53:13,005 - stpipe - INFO - -Generating simple FITS output: /Users/avapolzin/Desktop/psf_testoutputs/acs/j8pu42esq_flc_150d08m15.267s+2d09m52.304s_F475W_topsf_sci1_blt.fits\n"
     ]
    },
    {
     "name": "stdout",
     "output_type": "stream",
     "text": [
      "-Generating simple FITS output: /Users/avapolzin/Desktop/psf_testoutputs/acs/j8pu42esq_flc_150d08m15.267s+2d09m52.304s_F475W_topsf_sci1_blt.fits\n"
     ]
    },
    {
     "name": "stderr",
     "output_type": "stream",
     "text": [
      "2025-05-09 09:53:13,021 - stpipe - INFO - Writing out image to disk: /Users/avapolzin/Desktop/psf_testoutputs/acs/j8pu42esq_flc_150d08m15.267s+2d09m52.304s_F475W_topsf_sci1_blt.fits\n"
     ]
    },
    {
     "name": "stdout",
     "output_type": "stream",
     "text": [
      "Writing out image to disk: /Users/avapolzin/Desktop/psf_testoutputs/acs/j8pu42esq_flc_150d08m15.267s+2d09m52.304s_F475W_topsf_sci1_blt.fits\n"
     ]
    },
    {
     "name": "stderr",
     "output_type": "stream",
     "text": [
      "2025-05-09 09:53:13,075 - stpipe - INFO -     Blot: creating blotted image:  /Users/avapolzin/Desktop/psf_testoutputs/acs/j8pu42evq_flc_150d08m15.267s+2d09m52.304s_F475W_topsf.fits[sci,1]\n"
     ]
    },
    {
     "name": "stdout",
     "output_type": "stream",
     "text": [
      "    Blot: creating blotted image:  /Users/avapolzin/Desktop/psf_testoutputs/acs/j8pu42evq_flc_150d08m15.267s+2d09m52.304s_F475W_topsf.fits[sci,1]\n"
     ]
    },
    {
     "name": "stderr",
     "output_type": "stream",
     "text": [
      "2025-05-09 09:53:13,102 - stpipe - INFO - Using default C-based coordinate transformation...\n"
     ]
    },
    {
     "name": "stdout",
     "output_type": "stream",
     "text": [
      "Using default C-based coordinate transformation...\n"
     ]
    },
    {
     "name": "stderr",
     "output_type": "stream",
     "text": [
      "2025-05-09 09:53:13,883 - stpipe - INFO - Applying sky value of 0.000000 to blotted image /Users/avapolzin/Desktop/psf_testoutputs/acs/j8pu42evq_flc_150d08m15.267s+2d09m52.304s_F475W_topsf.fits[sci,1]\n",
      "2025-05-09 09:53:13,924 - stpipe - INFO - -Generating simple FITS output: /Users/avapolzin/Desktop/psf_testoutputs/acs/j8pu42evq_flc_150d08m15.267s+2d09m52.304s_F475W_topsf_sci1_blt.fits\n"
     ]
    },
    {
     "name": "stdout",
     "output_type": "stream",
     "text": [
      "-Generating simple FITS output: /Users/avapolzin/Desktop/psf_testoutputs/acs/j8pu42evq_flc_150d08m15.267s+2d09m52.304s_F475W_topsf_sci1_blt.fits\n"
     ]
    },
    {
     "name": "stderr",
     "output_type": "stream",
     "text": [
      "2025-05-09 09:53:13,939 - stpipe - INFO - Writing out image to disk: /Users/avapolzin/Desktop/psf_testoutputs/acs/j8pu42evq_flc_150d08m15.267s+2d09m52.304s_F475W_topsf_sci1_blt.fits\n"
     ]
    },
    {
     "name": "stdout",
     "output_type": "stream",
     "text": [
      "Writing out image to disk: /Users/avapolzin/Desktop/psf_testoutputs/acs/j8pu42evq_flc_150d08m15.267s+2d09m52.304s_F475W_topsf_sci1_blt.fits\n"
     ]
    },
    {
     "name": "stderr",
     "output_type": "stream",
     "text": [
      "2025-05-09 09:53:13,979 - stpipe - INFO - ==== Processing Step Blot finished at 09:53:13.979 (09/05/2025)\n"
     ]
    },
    {
     "name": "stdout",
     "output_type": "stream",
     "text": [
      "==== Processing Step Blot finished at 09:53:13.979 (09/05/2025)\n"
     ]
    },
    {
     "name": "stderr",
     "output_type": "stream",
     "text": [
      "2025-05-09 09:53:13,981 - stpipe - INFO - ==== Processing Step  Driz_CR  started at  09:53:13.980 (09/05/2025)\n"
     ]
    },
    {
     "name": "stdout",
     "output_type": "stream",
     "text": [
      "==== Processing Step  Driz_CR  started at  09:53:13.980 (09/05/2025)\n"
     ]
    },
    {
     "name": "stderr",
     "output_type": "stream",
     "text": [
      "2025-05-09 09:53:13,982 - stpipe - INFO - \n"
     ]
    },
    {
     "name": "stdout",
     "output_type": "stream",
     "text": [
      "\n"
     ]
    },
    {
     "name": "stderr",
     "output_type": "stream",
     "text": [
      "2025-05-09 09:53:13,984 - stpipe - INFO - USER INPUT PARAMETERS for Driz_CR Step:\n",
      "2025-05-09 09:53:13,984 - stpipe - INFO - \tcrbit :\t4096\n",
      "2025-05-09 09:53:13,985 - stpipe - INFO - \tdriz_cr :\tTrue\n",
      "2025-05-09 09:53:13,985 - stpipe - INFO - \tdriz_cr_corr :\tFalse\n",
      "2025-05-09 09:53:13,986 - stpipe - INFO - \tdriz_cr_ctegrow :\t0\n",
      "2025-05-09 09:53:13,987 - stpipe - INFO - \tdriz_cr_grow :\t1\n",
      "2025-05-09 09:53:13,988 - stpipe - INFO - \tdriz_cr_scale :\t1.2 0.7\n",
      "2025-05-09 09:53:13,988 - stpipe - INFO - \tdriz_cr_snr :\t3.5 3.0\n",
      "2025-05-09 09:53:13,989 - stpipe - INFO - \tinmemory :\tFalse\n",
      "2025-05-09 09:53:13,989 - stpipe - INFO - Executing 4 parallel workers\n",
      "2025-05-09 09:53:15,631 - stpipe - INFO - Creating output: /Users/avapolzin/Desktop/psf_testoutputs/acs/j8pu42evq_flc_150d08m15.267s+2d09m52.304s_F475W_topsf_sci1_crmask.fits\n"
     ]
    },
    {
     "name": "stdout",
     "output_type": "stream",
     "text": [
      "Creating output: /Users/avapolzin/Desktop/psf_testoutputs/acs/j8pu42evq_flc_150d08m15.267s+2d09m52.304s_F475W_topsf_sci1_crmask.fits\n"
     ]
    },
    {
     "name": "stderr",
     "output_type": "stream",
     "text": [
      "2025-05-09 09:53:15,715 - stpipe - INFO - Creating output: /Users/avapolzin/Desktop/psf_testoutputs/acs/j8pu42esq_flc_150d08m15.267s+2d09m52.304s_F475W_topsf_sci1_crmask.fits\n"
     ]
    },
    {
     "name": "stdout",
     "output_type": "stream",
     "text": [
      "Creating output: /Users/avapolzin/Desktop/psf_testoutputs/acs/j8pu42esq_flc_150d08m15.267s+2d09m52.304s_F475W_topsf_sci1_crmask.fits\n"
     ]
    },
    {
     "name": "stderr",
     "output_type": "stream",
     "text": [
      "2025-05-09 09:53:15,726 - stpipe - INFO - Creating output: /Users/avapolzin/Desktop/psf_testoutputs/acs/j8pu42ecq_flc_150d08m15.267s+2d09m52.304s_F475W_topsf_sci1_crmask.fits\n"
     ]
    },
    {
     "name": "stdout",
     "output_type": "stream",
     "text": [
      "Creating output: /Users/avapolzin/Desktop/psf_testoutputs/acs/j8pu42ecq_flc_150d08m15.267s+2d09m52.304s_F475W_topsf_sci1_crmask.fits\n"
     ]
    },
    {
     "name": "stderr",
     "output_type": "stream",
     "text": [
      "2025-05-09 09:53:15,732 - stpipe - INFO - Creating output: /Users/avapolzin/Desktop/psf_testoutputs/acs/j8pu42egq_flc_150d08m15.267s+2d09m52.304s_F475W_topsf_sci1_crmask.fits\n"
     ]
    },
    {
     "name": "stdout",
     "output_type": "stream",
     "text": [
      "Creating output: /Users/avapolzin/Desktop/psf_testoutputs/acs/j8pu42egq_flc_150d08m15.267s+2d09m52.304s_F475W_topsf_sci1_crmask.fits\n"
     ]
    },
    {
     "name": "stderr",
     "output_type": "stream",
     "text": [
      "2025-05-09 09:53:15,785 - stpipe - INFO - ==== Processing Step Driz_CR finished at 09:53:15.784 (09/05/2025)\n"
     ]
    },
    {
     "name": "stdout",
     "output_type": "stream",
     "text": [
      "==== Processing Step Driz_CR finished at 09:53:15.784 (09/05/2025)\n"
     ]
    },
    {
     "name": "stderr",
     "output_type": "stream",
     "text": [
      "2025-05-09 09:53:15,795 - stpipe - INFO - ==== Processing Step  Final Drizzle  started at  09:53:15.7 (09/05/2025)\n"
     ]
    },
    {
     "name": "stdout",
     "output_type": "stream",
     "text": [
      "==== Processing Step  Final Drizzle  started at  09:53:15.7 (09/05/2025)\n"
     ]
    },
    {
     "name": "stderr",
     "output_type": "stream",
     "text": [
      "2025-05-09 09:53:15,797 - stpipe - INFO - \n"
     ]
    },
    {
     "name": "stdout",
     "output_type": "stream",
     "text": [
      "\n"
     ]
    },
    {
     "name": "stderr",
     "output_type": "stream",
     "text": [
      "2025-05-09 09:53:15,799 - stpipe - INFO - Interpreted paramDict with single=False as:\n",
      "{'build': True, 'stepsize': 10, 'coeffs': True, 'wcskey': '', 'wht_type': 'EXP', 'kernel': 'square', 'wt_scl': 'exptime', 'pixfrac': 0.8, 'fillval': None, 'maskval': None, 'bits': 0, 'units': 'cps'}\n",
      "2025-05-09 09:53:15,800 - stpipe - INFO - USER INPUT PARAMETERS for Final Drizzle Step:\n",
      "2025-05-09 09:53:15,801 - stpipe - INFO - \tbits :\t0\n",
      "2025-05-09 09:53:15,801 - stpipe - INFO - \tbuild :\tTrue\n",
      "2025-05-09 09:53:15,802 - stpipe - INFO - \tclean :\tFalse\n",
      "2025-05-09 09:53:15,803 - stpipe - INFO - \tcoeffs :\tTrue\n",
      "2025-05-09 09:53:15,804 - stpipe - INFO - \tcrbit :\t4096\n",
      "2025-05-09 09:53:15,804 - stpipe - INFO - \tfillval :\tNone\n",
      "2025-05-09 09:53:15,805 - stpipe - INFO - \tkernel :\tsquare\n",
      "2025-05-09 09:53:15,805 - stpipe - INFO - \tlogfile :\tastrodrizzle.log\n",
      "2025-05-09 09:53:15,806 - stpipe - INFO - \tmaskval :\tNone\n",
      "2025-05-09 09:53:15,808 - stpipe - INFO - \tpixfrac :\t0.8\n",
      "2025-05-09 09:53:15,808 - stpipe - INFO - \tproc_unit :\tnative\n",
      "2025-05-09 09:53:15,809 - stpipe - INFO - \trules_file :\tNone\n",
      "2025-05-09 09:53:15,810 - stpipe - INFO - \tstepsize :\t10\n",
      "2025-05-09 09:53:15,811 - stpipe - INFO - \tunits :\tcps\n",
      "2025-05-09 09:53:15,811 - stpipe - INFO - \twcskey :\t\n",
      "2025-05-09 09:53:15,812 - stpipe - INFO - \twht_type :\tEXP\n",
      "2025-05-09 09:53:15,813 - stpipe - INFO - \twt_scl :\texptime\n",
      "2025-05-09 09:53:15,813 - stpipe - INFO -   **Using sub-sampling value of 10 for kernel square\n",
      "2025-05-09 09:53:15,816 - stpipe - INFO - Running Drizzle to create output frame with WCS of: \n",
      "2025-05-09 09:53:15,817 - stpipe - INFO - WCS Keywords\n"
     ]
    },
    {
     "name": "stdout",
     "output_type": "stream",
     "text": [
      "WCS Keywords\n"
     ]
    },
    {
     "name": "stderr",
     "output_type": "stream",
     "text": [
      "2025-05-09 09:53:15,818 - stpipe - INFO - \n"
     ]
    },
    {
     "name": "stdout",
     "output_type": "stream",
     "text": [
      "\n"
     ]
    },
    {
     "name": "stderr",
     "output_type": "stream",
     "text": [
      "2025-05-09 09:53:15,820 - stpipe - INFO - Number of WCS axes: 2\n"
     ]
    },
    {
     "name": "stdout",
     "output_type": "stream",
     "text": [
      "Number of WCS axes: 2\n"
     ]
    },
    {
     "name": "stderr",
     "output_type": "stream",
     "text": [
      "2025-05-09 09:53:15,838 - stpipe - INFO - CTYPE : 'RA---TAN' 'DEC--TAN' \n"
     ]
    },
    {
     "name": "stdout",
     "output_type": "stream",
     "text": [
      "CTYPE : 'RA---TAN' 'DEC--TAN' \n"
     ]
    },
    {
     "name": "stderr",
     "output_type": "stream",
     "text": [
      "2025-05-09 09:53:15,847 - stpipe - INFO - CRVAL : np.float64(150.1242636198465) np.float64(2.151761555110333) \n"
     ]
    },
    {
     "name": "stdout",
     "output_type": "stream",
     "text": [
      "CRVAL : np.float64(150.1242636198465) np.float64(2.151761555110333) \n"
     ]
    },
    {
     "name": "stderr",
     "output_type": "stream",
     "text": [
      "2025-05-09 09:53:15,848 - stpipe - INFO - CRPIX : np.float64(2081.0) np.float64(1179.5) \n"
     ]
    },
    {
     "name": "stdout",
     "output_type": "stream",
     "text": [
      "CRPIX : np.float64(2081.0) np.float64(1179.5) \n"
     ]
    },
    {
     "name": "stderr",
     "output_type": "stream",
     "text": [
      "2025-05-09 09:53:15,849 - stpipe - INFO - CD1_1 CD1_2  : np.float64(-2.4118726301966414e-06) np.float64(-1.3677869168244357e-05) \n"
     ]
    },
    {
     "name": "stdout",
     "output_type": "stream",
     "text": [
      "CD1_1 CD1_2  : np.float64(-2.4118726301966414e-06) np.float64(-1.3677869168244357e-05) \n"
     ]
    },
    {
     "name": "stderr",
     "output_type": "stream",
     "text": [
      "2025-05-09 09:53:15,855 - stpipe - INFO - CD2_1 CD2_2  : np.float64(-1.3677869168244357e-05) np.float64(2.4118726301966414e-06) \n"
     ]
    },
    {
     "name": "stdout",
     "output_type": "stream",
     "text": [
      "CD2_1 CD2_2  : np.float64(-1.3677869168244357e-05) np.float64(2.4118726301966414e-06) \n"
     ]
    },
    {
     "name": "stderr",
     "output_type": "stream",
     "text": [
      "2025-05-09 09:53:15,857 - stpipe - INFO - NAXIS : 4162  2359\n"
     ]
    },
    {
     "name": "stdout",
     "output_type": "stream",
     "text": [
      "NAXIS : 4162  2359\n"
     ]
    },
    {
     "name": "stderr",
     "output_type": "stream",
     "text": [
      "2025-05-09 09:53:15,890 - stpipe - INFO - -Drizzle input: /Users/avapolzin/Desktop/psf_testoutputs/acs/j8pu42ecq_flc_150d08m15.267s+2d09m52.304s_F475W_topsf.fits[sci,1]\n",
      "2025-05-09 09:53:15,908 - stpipe - INFO - Applying sky value of 0.000000 to /Users/avapolzin/Desktop/psf_testoutputs/acs/j8pu42ecq_flc_150d08m15.267s+2d09m52.304s_F475W_topsf.fits[sci,1]\n",
      "2025-05-09 09:53:16,002 - stpipe - INFO - Applying EXPTIME weighting to DQ mask for chip 1\n",
      "2025-05-09 09:53:16,060 - stpipe - INFO - Writing out mask file: /Users/avapolzin/Desktop/psf_testoutputs/acs/j8pu42ecq_flc_150d08m15.267s+2d09m52.304s_F475W_topsf_sci1_final_mask.fits\n",
      "2025-05-09 09:53:16,061 - stpipe - INFO - Using WCSLIB-based coordinate transformation...\n",
      "2025-05-09 09:53:16,061 - stpipe - INFO - stepsize = 10\n",
      "2025-05-09 09:53:16,091 - stpipe - INFO - -Drizzling using kernel = square\n",
      "\n",
      "2025-05-09 09:53:17,248 - stpipe - INFO - -Drizzle input: /Users/avapolzin/Desktop/psf_testoutputs/acs/j8pu42egq_flc_150d08m15.267s+2d09m52.304s_F475W_topsf.fits[sci,1]\n",
      "2025-05-09 09:53:17,265 - stpipe - INFO - Applying sky value of 0.000000 to /Users/avapolzin/Desktop/psf_testoutputs/acs/j8pu42egq_flc_150d08m15.267s+2d09m52.304s_F475W_topsf.fits[sci,1]\n",
      "2025-05-09 09:53:17,327 - stpipe - INFO - Applying EXPTIME weighting to DQ mask for chip 1\n",
      "2025-05-09 09:53:17,361 - stpipe - INFO - Writing out mask file: /Users/avapolzin/Desktop/psf_testoutputs/acs/j8pu42egq_flc_150d08m15.267s+2d09m52.304s_F475W_topsf_sci1_final_mask.fits\n",
      "2025-05-09 09:53:17,362 - stpipe - INFO - Using WCSLIB-based coordinate transformation...\n",
      "2025-05-09 09:53:17,363 - stpipe - INFO - stepsize = 10\n",
      "2025-05-09 09:53:17,390 - stpipe - INFO - -Drizzling using kernel = square\n",
      "\n",
      "2025-05-09 09:53:18,548 - stpipe - INFO - -Drizzle input: /Users/avapolzin/Desktop/psf_testoutputs/acs/j8pu42esq_flc_150d08m15.267s+2d09m52.304s_F475W_topsf.fits[sci,1]\n",
      "2025-05-09 09:53:18,563 - stpipe - INFO - Applying sky value of 0.000000 to /Users/avapolzin/Desktop/psf_testoutputs/acs/j8pu42esq_flc_150d08m15.267s+2d09m52.304s_F475W_topsf.fits[sci,1]\n",
      "2025-05-09 09:53:18,624 - stpipe - INFO - Applying EXPTIME weighting to DQ mask for chip 1\n",
      "2025-05-09 09:53:18,658 - stpipe - INFO - Writing out mask file: /Users/avapolzin/Desktop/psf_testoutputs/acs/j8pu42esq_flc_150d08m15.267s+2d09m52.304s_F475W_topsf_sci1_final_mask.fits\n",
      "2025-05-09 09:53:18,659 - stpipe - INFO - Using WCSLIB-based coordinate transformation...\n",
      "2025-05-09 09:53:18,659 - stpipe - INFO - stepsize = 10\n",
      "2025-05-09 09:53:18,686 - stpipe - INFO - -Drizzling using kernel = square\n",
      "\n",
      "2025-05-09 09:53:19,824 - stpipe - INFO - -Drizzle input: /Users/avapolzin/Desktop/psf_testoutputs/acs/j8pu42evq_flc_150d08m15.267s+2d09m52.304s_F475W_topsf.fits[sci,1]\n",
      "2025-05-09 09:53:19,840 - stpipe - INFO - Applying sky value of 0.000000 to /Users/avapolzin/Desktop/psf_testoutputs/acs/j8pu42evq_flc_150d08m15.267s+2d09m52.304s_F475W_topsf.fits[sci,1]\n",
      "2025-05-09 09:53:19,923 - stpipe - INFO - Applying EXPTIME weighting to DQ mask for chip 1\n",
      "2025-05-09 09:53:19,957 - stpipe - INFO - Writing out mask file: /Users/avapolzin/Desktop/psf_testoutputs/acs/j8pu42evq_flc_150d08m15.267s+2d09m52.304s_F475W_topsf_sci1_final_mask.fits\n",
      "2025-05-09 09:53:19,958 - stpipe - INFO - Using WCSLIB-based coordinate transformation...\n",
      "2025-05-09 09:53:19,959 - stpipe - INFO - stepsize = 10\n",
      "2025-05-09 09:53:19,987 - stpipe - INFO - -Drizzling using kernel = square\n",
      "\n",
      "2025-05-09 09:53:21,698 - stpipe - INFO - -Generating multi-extension output file:  /Users/avapolzin/Desktop/psf_testoutputs/acs/150d08m15.267s+2d09m52.304s_F475W_psf_drz.fits\n"
     ]
    },
    {
     "name": "stdout",
     "output_type": "stream",
     "text": [
      "-Generating multi-extension output file:  /Users/avapolzin/Desktop/psf_testoutputs/acs/150d08m15.267s+2d09m52.304s_F475W_psf_drz.fits\n"
     ]
    },
    {
     "name": "stderr",
     "output_type": "stream",
     "text": [
      "2025-05-09 09:53:21,714 - stpipe - INFO - Deleted all instances of WCS with key A in extensions [1]\n"
     ]
    },
    {
     "name": "stdout",
     "output_type": "stream",
     "text": [
      "Deleted all instances of WCS with key A in extensions [1]\n"
     ]
    },
    {
     "name": "stderr",
     "output_type": "stream",
     "text": [
      "2025-05-09 09:53:21,720 - stpipe - INFO - Writing out to disk: /Users/avapolzin/Desktop/psf_testoutputs/acs/150d08m15.267s+2d09m52.304s_F475W_psf_drz.fits\n"
     ]
    },
    {
     "name": "stdout",
     "output_type": "stream",
     "text": [
      "Writing out to disk: /Users/avapolzin/Desktop/psf_testoutputs/acs/150d08m15.267s+2d09m52.304s_F475W_psf_drz.fits\n"
     ]
    },
    {
     "name": "stderr",
     "output_type": "stream",
     "text": [
      "2025-05-09 09:53:21,725 - stpipe - WARNING - /Users/avapolzin/opt/anaconda3/envs/spike/lib/python3.10/site-packages/astropy/io/fits/card.py:1036: VerifyWarning: Card is too long, comment will be truncated.\n",
      "\n",
      "2025-05-09 09:53:21,881 - stpipe - INFO - ==== Processing Step Final Drizzle finished at 09:53:21.881 (09/05/2025)\n"
     ]
    },
    {
     "name": "stdout",
     "output_type": "stream",
     "text": [
      "==== Processing Step Final Drizzle finished at 09:53:21.881 (09/05/2025)\n"
     ]
    },
    {
     "name": "stderr",
     "output_type": "stream",
     "text": [
      "2025-05-09 09:53:21,883 - stpipe - INFO - \n"
     ]
    },
    {
     "name": "stdout",
     "output_type": "stream",
     "text": [
      "\n"
     ]
    },
    {
     "name": "stderr",
     "output_type": "stream",
     "text": [
      "2025-05-09 09:53:21,884 - stpipe - INFO - AstroDrizzle Version 3.7.1rc1.dev56+g7951b66 is finished processing at 09:53:21.884 (09/05/2025).\n"
     ]
    },
    {
     "name": "stdout",
     "output_type": "stream",
     "text": [
      "AstroDrizzle Version 3.7.1rc1.dev56+g7951b66 is finished processing at 09:53:21.884 (09/05/2025).\n"
     ]
    },
    {
     "name": "stderr",
     "output_type": "stream",
     "text": [
      "2025-05-09 09:53:21,886 - stpipe - INFO - \n"
     ]
    },
    {
     "name": "stdout",
     "output_type": "stream",
     "text": [
      "\n"
     ]
    },
    {
     "name": "stderr",
     "output_type": "stream",
     "text": [
      "2025-05-09 09:53:21,887 - stpipe - INFO - \n"
     ]
    },
    {
     "name": "stdout",
     "output_type": "stream",
     "text": [
      "\n"
     ]
    },
    {
     "name": "stderr",
     "output_type": "stream",
     "text": [
      "2025-05-09 09:53:21,889 - stpipe - INFO - \n"
     ]
    },
    {
     "name": "stdout",
     "output_type": "stream",
     "text": [
      "\n"
     ]
    },
    {
     "name": "stderr",
     "output_type": "stream",
     "text": [
      "2025-05-09 09:53:21,890 - stpipe - INFO -    --------------------          --------------------\n"
     ]
    },
    {
     "name": "stdout",
     "output_type": "stream",
     "text": [
      "   --------------------          --------------------\n"
     ]
    },
    {
     "name": "stderr",
     "output_type": "stream",
     "text": [
      "2025-05-09 09:53:21,891 - stpipe - INFO -                    Step          Elapsed time\n"
     ]
    },
    {
     "name": "stdout",
     "output_type": "stream",
     "text": [
      "                   Step          Elapsed time\n"
     ]
    },
    {
     "name": "stderr",
     "output_type": "stream",
     "text": [
      "2025-05-09 09:53:21,893 - stpipe - INFO -    --------------------          --------------------\n"
     ]
    },
    {
     "name": "stdout",
     "output_type": "stream",
     "text": [
      "   --------------------          --------------------\n"
     ]
    },
    {
     "name": "stderr",
     "output_type": "stream",
     "text": [
      "2025-05-09 09:53:21,894 - stpipe - INFO - \n"
     ]
    },
    {
     "name": "stdout",
     "output_type": "stream",
     "text": [
      "\n"
     ]
    },
    {
     "name": "stderr",
     "output_type": "stream",
     "text": [
      "2025-05-09 09:53:21,896 - stpipe - INFO -          Initialization          0.7683 sec.\n"
     ]
    },
    {
     "name": "stdout",
     "output_type": "stream",
     "text": [
      "         Initialization          0.7683 sec.\n"
     ]
    },
    {
     "name": "stderr",
     "output_type": "stream",
     "text": [
      "2025-05-09 09:53:21,898 - stpipe - INFO -             Static Mask          0.0045 sec.\n"
     ]
    },
    {
     "name": "stdout",
     "output_type": "stream",
     "text": [
      "            Static Mask          0.0045 sec.\n"
     ]
    },
    {
     "name": "stderr",
     "output_type": "stream",
     "text": [
      "2025-05-09 09:53:21,899 - stpipe - INFO -            Subtract Sky          1.5145 sec.\n"
     ]
    },
    {
     "name": "stdout",
     "output_type": "stream",
     "text": [
      "           Subtract Sky          1.5145 sec.\n"
     ]
    },
    {
     "name": "stderr",
     "output_type": "stream",
     "text": [
      "2025-05-09 09:53:21,901 - stpipe - INFO -        Separate Drizzle          1.4816 sec.\n"
     ]
    },
    {
     "name": "stdout",
     "output_type": "stream",
     "text": [
      "       Separate Drizzle          1.4816 sec.\n"
     ]
    },
    {
     "name": "stderr",
     "output_type": "stream",
     "text": [
      "2025-05-09 09:53:21,902 - stpipe - INFO -           Create Median          1.7394 sec.\n"
     ]
    },
    {
     "name": "stdout",
     "output_type": "stream",
     "text": [
      "          Create Median          1.7394 sec.\n"
     ]
    },
    {
     "name": "stderr",
     "output_type": "stream",
     "text": [
      "2025-05-09 09:53:21,904 - stpipe - INFO -                    Blot          3.7030 sec.\n"
     ]
    },
    {
     "name": "stdout",
     "output_type": "stream",
     "text": [
      "                   Blot          3.7030 sec.\n"
     ]
    },
    {
     "name": "stderr",
     "output_type": "stream",
     "text": [
      "2025-05-09 09:53:21,905 - stpipe - INFO -                 Driz_CR          1.8033 sec.\n"
     ]
    },
    {
     "name": "stdout",
     "output_type": "stream",
     "text": [
      "                Driz_CR          1.8033 sec.\n"
     ]
    },
    {
     "name": "stderr",
     "output_type": "stream",
     "text": [
      "2025-05-09 09:53:21,906 - stpipe - INFO -           Final Drizzle          6.0860 sec.\n"
     ]
    },
    {
     "name": "stdout",
     "output_type": "stream",
     "text": [
      "          Final Drizzle          6.0860 sec.\n"
     ]
    },
    {
     "name": "stderr",
     "output_type": "stream",
     "text": [
      "2025-05-09 09:53:21,907 - stpipe - INFO -    ====================          ====================\n"
     ]
    },
    {
     "name": "stdout",
     "output_type": "stream",
     "text": [
      "   ====================          ====================\n"
     ]
    },
    {
     "name": "stderr",
     "output_type": "stream",
     "text": [
      "2025-05-09 09:53:21,933 - stpipe - INFO -                   Total          17.1006 sec.\n"
     ]
    },
    {
     "name": "stdout",
     "output_type": "stream",
     "text": [
      "                  Total          17.1006 sec.\n"
     ]
    },
    {
     "name": "stderr",
     "output_type": "stream",
     "text": [
      "2025-05-09 09:53:21,934 - stpipe - INFO - \n"
     ]
    },
    {
     "name": "stdout",
     "output_type": "stream",
     "text": [
      "\n"
     ]
    },
    {
     "name": "stderr",
     "output_type": "stream",
     "text": [
      "2025-05-09 09:53:21,949 - stpipe - INFO - Trailer file written to:  astrodrizzle.log\n"
     ]
    },
    {
     "name": "stdout",
     "output_type": "stream",
     "text": [
      "Trailer file written to:  astrodrizzle.log\n"
     ]
    },
    {
     "name": "stderr",
     "output_type": "stream",
     "text": [
      "mv: rename /Users/avapolzin/Desktop/psf_testoutputs/acs/150d08m15.267s+2d09m52.304s_F475W_psf_drz.fits to /Users/avapolzin/Desktop/psf_testoutputs/acs//Users/avapolzin/Desktop/psf_testoutputs/acs/150d08m15.267s+2d09m52.304s_psf_drz.fits: No such file or directory\n",
      "mv: rename /Users/avapolzin/Desktop/psf_testoutputs/acs/*.psf to psfs/*.psf: No such file or directory\n",
      "mv: rename /Users/avapolzin/Desktop/psf_testoutputs/acs/*.cat to psfs/*.cat: No such file or directory\n",
      "mv: rename /Users/avapolzin/Desktop/psf_testoutputs/acs/*_mask.fits to psfs/*_mask.fits: No such file or directory\n"
     ]
    }
   ],
   "source": [
    "dpsf = hst(img_dir = datapath, obj = obj, img_type = 'flc', inst = 'ACS', camera = 'WFC', savedir = outputpath, pretweaked = True)"
   ]
  },
  {
   "cell_type": "markdown",
   "id": "9c7bd87a-a275-4bf2-b93e-5322a077c750",
   "metadata": {},
   "source": [
    "In this case dpsf will be very simple, since we are only looking at one set of coordinates and one filter:"
   ]
  },
  {
   "cell_type": "code",
   "execution_count": 4,
   "id": "d4c42e0d-a6db-4eb2-9449-57daff8903d7",
   "metadata": {},
   "outputs": [
    {
     "data": {
      "text/plain": [
       "{'10:00:33.0178 +02:09:52.304': {'F475W': array([[ 0.,  0.,  0., ..., nan, nan, nan],\n",
       "         [ 0.,  0.,  0., ..., nan, nan, nan],\n",
       "         [ 0.,  0.,  0., ..., nan, nan, nan],\n",
       "         ...,\n",
       "         [nan, nan, nan, ...,  0.,  0.,  0.],\n",
       "         [nan, nan, nan, ...,  0.,  0.,  0.],\n",
       "         [nan, nan, nan, ...,  0.,  0.,  0.]],\n",
       "        shape=(2359, 4162), dtype='>f4')}}"
      ]
     },
     "execution_count": 4,
     "metadata": {},
     "output_type": "execute_result"
    }
   ],
   "source": [
    "dpsf"
   ]
  },
  {
   "cell_type": "markdown",
   "id": "0cd20cec-c153-4bbc-9912-3d477a3cc809",
   "metadata": {},
   "source": [
    "By default, PSFs are generated for `spike.psf.hst` by `TinyTim` using a blackbody model of a G5V star at 6000 K, but users have complete control over the specifics of the PSF generation. To change the parameters within a method (e.g., updating model arguments, setting different detection thresholds for the empirical PSFs, ...), `spike.psf.hst` directly takes keyword arguments for specified 'method'. Details of allowed arguments are available in the `spike.psfgen` [documentation](https://spike-psf.readthedocs.io/en/latest/psfgen.html). As an example, we will change the `TinyTim` model inputs to use an O6 star at 45000 K:"
   ]
  },
  {
   "cell_type": "code",
   "execution_count": 5,
   "id": "768e0107-e831-4bca-9fe2-6af5c3a367e6",
   "metadata": {
    "scrolled": true
   },
   "outputs": [
    {
     "name": "stderr",
     "output_type": "stream",
     "text": [
      "/Users/avapolzin/opt/anaconda3/envs/spike/lib/python3.10/site-packages/spike/psf/psf.py:185: Warning: All of major, minor, and angle must be specified to be applied. Proceeding with no elliptical jitter.\n"
     ]
    },
    {
     "name": "stdout",
     "output_type": "stream",
     "text": [
      "Tiny Tim v7.5\n",
      "Intermediate PSF dimensions are 464 by 464\n",
      "\n",
      "Computing PSF for position 1/1 (x,y) = 1020 181\n",
      "   Computing PSF 1/18 for wavelength 393.82 nm (weight=0.018692)\n",
      "   Computing PSF 2/18 for wavelength 402.92 nm (weight=0.046730)\n",
      "   Computing PSF 3/18 for wavelength 412.02 nm (weight=0.064174)\n",
      "   Computing PSF 4/18 for wavelength 421.11 nm (weight=0.070042)\n",
      "   Computing PSF 5/18 for wavelength 430.21 nm (weight=0.074734)\n",
      "   Computing PSF 6/18 for wavelength 439.31 nm (weight=0.073655)\n",
      "   Computing PSF 7/18 for wavelength 448.41 nm (weight=0.071159)\n",
      "   Computing PSF 8/18 for wavelength 457.51 nm (weight=0.067712)\n",
      "   Computing PSF 9/18 for wavelength 466.61 nm (weight=0.065917)\n",
      "   Computing PSF 10/18 for wavelength 475.70 nm (weight=0.062852)\n",
      "   Computing PSF 11/18 for wavelength 484.80 nm (weight=0.059882)\n",
      "   Computing PSF 12/18 for wavelength 493.90 nm (weight=0.057730)\n",
      "   Computing PSF 13/18 for wavelength 503.00 nm (weight=0.055124)\n",
      "   Computing PSF 14/18 for wavelength 512.10 nm (weight=0.053016)\n",
      "   Computing PSF 15/18 for wavelength 521.20 nm (weight=0.049779)\n",
      "   Computing PSF 16/18 for wavelength 530.30 nm (weight=0.046104)\n",
      "   Computing PSF 17/18 for wavelength 539.39 nm (weight=0.042822)\n",
      "   Computing PSF 18/18 for wavelength 548.49 nm (weight=0.019876)\n",
      "   Writing PSF to /Users/avapolzin/Desktop/psf_testoutputs/acs/j8pu42ecq_flc_150d08m15.267s+2d09m52.304s_F475W_psf00_psf.fits\n",
      "\n",
      "Started at  Fri May  9 09:54:04 2025\n",
      "Finished at Fri May  9 09:54:07 2025\n",
      "\n",
      "Writing template optional parameter file for tiny3 to /Users/avapolzin/Desktop/psf_testoutputs/acs/j8pu42ecq_flc_150d08m15.267s+2d09m52.304s_F475W_psf.tt3.\n",
      "\n",
      "To continue PSF processing for ACS and WFC3, you must run tiny3 to resample\n",
      "and distort the PSF.  You may also process a simulated scene (see\n",
      "the manual for details).\n",
      "\n",
      "Just to distort the PSF, issue this command :\n",
      "\n",
      "        tiny3 tiny.param\n",
      "\n",
      "Tiny Tim v7.5\n",
      "Processing PSF for position 1/1 : (x,y) = 1020 181\n",
      "Reading input PSF from /Users/avapolzin/Desktop/psf_testoutputs/acs/j8pu42ecq_flc_150d08m15.267s+2d09m52.304s_F475W_psf00_psf.fits.\n",
      "  Input critically-sampled undistorted PSF dimensions are 464 by 464 (0.013018 arcsec/pixel).\n",
      "  Mapping PSF onto distorted grid.\n",
      "  Convolving PSF with charge diffusion kernel.\n",
      "  Writing distorted PSF to /Users/avapolzin/Desktop/psf_testoutputs/acs/j8pu42ecq_flc_150d08m15.267s+2d09m52.304s_F475W_psf00.fits (146 by 146 pixels)\n",
      "\n",
      "Started at  Fri May  9 09:54:07 2025\n",
      "Finished at Fri May  9 09:54:08 2025\n"
     ]
    },
    {
     "name": "stderr",
     "output_type": "stream",
     "text": [
      "/Users/avapolzin/opt/anaconda3/envs/spike/lib/python3.10/site-packages/spike/psf/psf.py:185: Warning: All of major, minor, and angle must be specified to be applied. Proceeding with no elliptical jitter.\n"
     ]
    },
    {
     "name": "stdout",
     "output_type": "stream",
     "text": [
      "Tiny Tim v7.5\n",
      "Intermediate PSF dimensions are 464 by 464\n",
      "\n",
      "Computing PSF for position 1/1 (x,y) = 1025 242\n",
      "   Computing PSF 1/18 for wavelength 393.82 nm (weight=0.018692)\n",
      "   Computing PSF 2/18 for wavelength 402.92 nm (weight=0.046730)\n",
      "   Computing PSF 3/18 for wavelength 412.02 nm (weight=0.064174)\n",
      "   Computing PSF 4/18 for wavelength 421.11 nm (weight=0.070042)\n",
      "   Computing PSF 5/18 for wavelength 430.21 nm (weight=0.074734)\n",
      "   Computing PSF 6/18 for wavelength 439.31 nm (weight=0.073655)\n",
      "   Computing PSF 7/18 for wavelength 448.41 nm (weight=0.071159)\n",
      "   Computing PSF 8/18 for wavelength 457.51 nm (weight=0.067712)\n",
      "   Computing PSF 9/18 for wavelength 466.61 nm (weight=0.065917)\n",
      "   Computing PSF 10/18 for wavelength 475.70 nm (weight=0.062852)\n",
      "   Computing PSF 11/18 for wavelength 484.80 nm (weight=0.059882)\n",
      "   Computing PSF 12/18 for wavelength 493.90 nm (weight=0.057730)\n",
      "   Computing PSF 13/18 for wavelength 503.00 nm (weight=0.055124)\n",
      "   Computing PSF 14/18 for wavelength 512.10 nm (weight=0.053016)\n",
      "   Computing PSF 15/18 for wavelength 521.20 nm (weight=0.049779)\n",
      "   Computing PSF 16/18 for wavelength 530.30 nm (weight=0.046104)\n",
      "   Computing PSF 17/18 for wavelength 539.39 nm (weight=0.042822)\n",
      "   Computing PSF 18/18 for wavelength 548.49 nm (weight=0.019876)\n",
      "   Writing PSF to /Users/avapolzin/Desktop/psf_testoutputs/acs/j8pu42egq_flc_150d08m15.267s+2d09m52.304s_F475W_psf00_psf.fits\n",
      "\n",
      "Started at  Fri May  9 09:54:08 2025\n",
      "Finished at Fri May  9 09:54:11 2025\n",
      "\n",
      "Writing template optional parameter file for tiny3 to /Users/avapolzin/Desktop/psf_testoutputs/acs/j8pu42egq_flc_150d08m15.267s+2d09m52.304s_F475W_psf.tt3.\n",
      "\n",
      "To continue PSF processing for ACS and WFC3, you must run tiny3 to resample\n",
      "and distort the PSF.  You may also process a simulated scene (see\n",
      "the manual for details).\n",
      "\n",
      "Just to distort the PSF, issue this command :\n",
      "\n",
      "        tiny3 tiny.param\n",
      "\n",
      "Tiny Tim v7.5\n",
      "Processing PSF for position 1/1 : (x,y) = 1025 242\n",
      "Reading input PSF from /Users/avapolzin/Desktop/psf_testoutputs/acs/j8pu42egq_flc_150d08m15.267s+2d09m52.304s_F475W_psf00_psf.fits.\n",
      "  Input critically-sampled undistorted PSF dimensions are 464 by 464 (0.013018 arcsec/pixel).\n",
      "  Mapping PSF onto distorted grid.\n",
      "  Convolving PSF with charge diffusion kernel.\n",
      "  Writing distorted PSF to /Users/avapolzin/Desktop/psf_testoutputs/acs/j8pu42egq_flc_150d08m15.267s+2d09m52.304s_F475W_psf00.fits (146 by 146 pixels)\n",
      "\n",
      "Started at  Fri May  9 09:54:11 2025\n",
      "Finished at Fri May  9 09:54:11 2025\n"
     ]
    },
    {
     "name": "stderr",
     "output_type": "stream",
     "text": [
      "/Users/avapolzin/opt/anaconda3/envs/spike/lib/python3.10/site-packages/spike/psf/psf.py:185: Warning: All of major, minor, and angle must be specified to be applied. Proceeding with no elliptical jitter.\n"
     ]
    },
    {
     "name": "stdout",
     "output_type": "stream",
     "text": [
      "Tiny Tim v7.5\n",
      "Intermediate PSF dimensions are 464 by 464\n",
      "\n",
      "Computing PSF for position 1/1 (x,y) = 1025 242\n",
      "   Computing PSF 1/18 for wavelength 393.82 nm (weight=0.018692)\n",
      "   Computing PSF 2/18 for wavelength 402.92 nm (weight=0.046730)\n",
      "   Computing PSF 3/18 for wavelength 412.02 nm (weight=0.064174)\n",
      "   Computing PSF 4/18 for wavelength 421.11 nm (weight=0.070042)\n",
      "   Computing PSF 5/18 for wavelength 430.21 nm (weight=0.074734)\n",
      "   Computing PSF 6/18 for wavelength 439.31 nm (weight=0.073655)\n",
      "   Computing PSF 7/18 for wavelength 448.41 nm (weight=0.071159)\n",
      "   Computing PSF 8/18 for wavelength 457.51 nm (weight=0.067712)\n",
      "   Computing PSF 9/18 for wavelength 466.61 nm (weight=0.065917)\n",
      "   Computing PSF 10/18 for wavelength 475.70 nm (weight=0.062852)\n",
      "   Computing PSF 11/18 for wavelength 484.80 nm (weight=0.059882)\n",
      "   Computing PSF 12/18 for wavelength 493.90 nm (weight=0.057730)\n",
      "   Computing PSF 13/18 for wavelength 503.00 nm (weight=0.055124)\n",
      "   Computing PSF 14/18 for wavelength 512.10 nm (weight=0.053016)\n",
      "   Computing PSF 15/18 for wavelength 521.20 nm (weight=0.049779)\n",
      "   Computing PSF 16/18 for wavelength 530.30 nm (weight=0.046104)\n",
      "   Computing PSF 17/18 for wavelength 539.39 nm (weight=0.042822)\n",
      "   Computing PSF 18/18 for wavelength 548.49 nm (weight=0.019876)\n",
      "   Writing PSF to /Users/avapolzin/Desktop/psf_testoutputs/acs/j8pu42esq_flc_150d08m15.267s+2d09m52.304s_F475W_psf00_psf.fits\n",
      "\n",
      "Started at  Fri May  9 09:54:11 2025\n",
      "Finished at Fri May  9 09:54:14 2025\n",
      "\n",
      "Writing template optional parameter file for tiny3 to /Users/avapolzin/Desktop/psf_testoutputs/acs/j8pu42esq_flc_150d08m15.267s+2d09m52.304s_F475W_psf.tt3.\n",
      "\n",
      "To continue PSF processing for ACS and WFC3, you must run tiny3 to resample\n",
      "and distort the PSF.  You may also process a simulated scene (see\n",
      "the manual for details).\n",
      "\n",
      "Just to distort the PSF, issue this command :\n",
      "\n",
      "        tiny3 tiny.param\n",
      "\n",
      "Tiny Tim v7.5\n",
      "Processing PSF for position 1/1 : (x,y) = 1025 242\n",
      "Reading input PSF from /Users/avapolzin/Desktop/psf_testoutputs/acs/j8pu42esq_flc_150d08m15.267s+2d09m52.304s_F475W_psf00_psf.fits.\n",
      "  Input critically-sampled undistorted PSF dimensions are 464 by 464 (0.013018 arcsec/pixel).\n",
      "  Mapping PSF onto distorted grid.\n",
      "  Convolving PSF with charge diffusion kernel.\n",
      "  Writing distorted PSF to /Users/avapolzin/Desktop/psf_testoutputs/acs/j8pu42esq_flc_150d08m15.267s+2d09m52.304s_F475W_psf00.fits (146 by 146 pixels)\n",
      "\n",
      "Started at  Fri May  9 09:54:14 2025\n",
      "Finished at Fri May  9 09:54:14 2025\n"
     ]
    },
    {
     "name": "stderr",
     "output_type": "stream",
     "text": [
      "/Users/avapolzin/opt/anaconda3/envs/spike/lib/python3.10/site-packages/spike/psf/psf.py:185: Warning: All of major, minor, and angle must be specified to be applied. Proceeding with no elliptical jitter.\n"
     ]
    },
    {
     "name": "stdout",
     "output_type": "stream",
     "text": [
      "Tiny Tim v7.5\n",
      "Intermediate PSF dimensions are 464 by 464\n",
      "\n",
      "Computing PSF for position 1/1 (x,y) = 1023 363\n",
      "   Computing PSF 1/18 for wavelength 393.82 nm (weight=0.018692)\n",
      "   Computing PSF 2/18 for wavelength 402.92 nm (weight=0.046730)\n",
      "   Computing PSF 3/18 for wavelength 412.02 nm (weight=0.064174)\n",
      "   Computing PSF 4/18 for wavelength 421.11 nm (weight=0.070042)\n",
      "   Computing PSF 5/18 for wavelength 430.21 nm (weight=0.074734)\n",
      "   Computing PSF 6/18 for wavelength 439.31 nm (weight=0.073655)\n",
      "   Computing PSF 7/18 for wavelength 448.41 nm (weight=0.071159)\n",
      "   Computing PSF 8/18 for wavelength 457.51 nm (weight=0.067712)\n",
      "   Computing PSF 9/18 for wavelength 466.61 nm (weight=0.065917)\n",
      "   Computing PSF 10/18 for wavelength 475.70 nm (weight=0.062852)\n",
      "   Computing PSF 11/18 for wavelength 484.80 nm (weight=0.059882)\n",
      "   Computing PSF 12/18 for wavelength 493.90 nm (weight=0.057730)\n",
      "   Computing PSF 13/18 for wavelength 503.00 nm (weight=0.055124)\n",
      "   Computing PSF 14/18 for wavelength 512.10 nm (weight=0.053016)\n",
      "   Computing PSF 15/18 for wavelength 521.20 nm (weight=0.049779)\n",
      "   Computing PSF 16/18 for wavelength 530.30 nm (weight=0.046104)\n",
      "   Computing PSF 17/18 for wavelength 539.39 nm (weight=0.042822)\n",
      "   Computing PSF 18/18 for wavelength 548.49 nm (weight=0.019876)\n",
      "   Writing PSF to /Users/avapolzin/Desktop/psf_testoutputs/acs/j8pu42evq_flc_150d08m15.267s+2d09m52.304s_F475W_psf00_psf.fits\n",
      "\n",
      "Started at  Fri May  9 09:54:15 2025\n",
      "Finished at Fri May  9 09:54:17 2025\n",
      "\n",
      "Writing template optional parameter file for tiny3 to /Users/avapolzin/Desktop/psf_testoutputs/acs/j8pu42evq_flc_150d08m15.267s+2d09m52.304s_F475W_psf.tt3.\n",
      "\n",
      "To continue PSF processing for ACS and WFC3, you must run tiny3 to resample\n",
      "and distort the PSF.  You may also process a simulated scene (see\n",
      "the manual for details).\n",
      "\n",
      "Just to distort the PSF, issue this command :\n",
      "\n",
      "        tiny3 tiny.param\n",
      "\n"
     ]
    },
    {
     "name": "stderr",
     "output_type": "stream",
     "text": [
      "2025-05-09 09:54:18,213 - stpipe - INFO - Setting up logfile :  astrodrizzle.log\n"
     ]
    },
    {
     "name": "stdout",
     "output_type": "stream",
     "text": [
      "Tiny Tim v7.5\n",
      "Processing PSF for position 1/1 : (x,y) = 1023 363\n",
      "Reading input PSF from /Users/avapolzin/Desktop/psf_testoutputs/acs/j8pu42evq_flc_150d08m15.267s+2d09m52.304s_F475W_psf00_psf.fits.\n",
      "  Input critically-sampled undistorted PSF dimensions are 464 by 464 (0.013018 arcsec/pixel).\n",
      "  Mapping PSF onto distorted grid.\n",
      "  Convolving PSF with charge diffusion kernel.\n",
      "  Writing distorted PSF to /Users/avapolzin/Desktop/psf_testoutputs/acs/j8pu42evq_flc_150d08m15.267s+2d09m52.304s_F475W_psf00.fits (146 by 146 pixels)\n",
      "\n",
      "Started at  Fri May  9 09:54:17 2025\n",
      "Finished at Fri May  9 09:54:18 2025\n",
      "Setting up logfile :  astrodrizzle.log\n"
     ]
    },
    {
     "name": "stderr",
     "output_type": "stream",
     "text": [
      "2025-05-09 09:54:18,214 - stpipe - INFO - AstroDrizzle log file: astrodrizzle.log\n"
     ]
    },
    {
     "name": "stdout",
     "output_type": "stream",
     "text": [
      "AstroDrizzle log file: astrodrizzle.log\n"
     ]
    },
    {
     "name": "stderr",
     "output_type": "stream",
     "text": [
      "2025-05-09 09:54:18,216 - stpipe - INFO - AstroDrizzle Version 3.7.1rc1.dev56+g7951b66 started at: 09:54:18.216 (09/05/2025)\n"
     ]
    },
    {
     "name": "stdout",
     "output_type": "stream",
     "text": [
      "AstroDrizzle Version 3.7.1rc1.dev56+g7951b66 started at: 09:54:18.216 (09/05/2025)\n"
     ]
    },
    {
     "name": "stderr",
     "output_type": "stream",
     "text": [
      "2025-05-09 09:54:18,217 - stpipe - INFO - \n"
     ]
    },
    {
     "name": "stdout",
     "output_type": "stream",
     "text": [
      "\n"
     ]
    },
    {
     "name": "stderr",
     "output_type": "stream",
     "text": [
      "2025-05-09 09:54:18,218 - stpipe - INFO - Version Information\n",
      "2025-05-09 09:54:18,219 - stpipe - INFO - --------------------\n",
      "2025-05-09 09:54:18,219 - stpipe - INFO - Python Version 3.10.16 (main, Dec 11 2024, 10:24:41) [Clang 14.0.6 ]\n",
      "2025-05-09 09:54:18,220 - stpipe - INFO - numpy Version -> 2.2.1 \n",
      "2025-05-09 09:54:18,221 - stpipe - INFO - astropy Version -> 6.1.7 \n",
      "2025-05-09 09:54:18,221 - stpipe - INFO - stwcs Version -> 1.7.3 \n",
      "2025-05-09 09:54:18,222 - stpipe - INFO - photutils Version -> 2.0.2 \n",
      "2025-05-09 09:54:18,223 - stpipe - INFO - ==== Processing Step  Initialization  started at  09:54:18.222 (09/05/2025)\n"
     ]
    },
    {
     "name": "stdout",
     "output_type": "stream",
     "text": [
      "==== Processing Step  Initialization  started at  09:54:18.222 (09/05/2025)\n"
     ]
    },
    {
     "name": "stderr",
     "output_type": "stream",
     "text": [
      "2025-05-09 09:54:18,224 - stpipe - INFO - \n"
     ]
    },
    {
     "name": "stdout",
     "output_type": "stream",
     "text": [
      "\n"
     ]
    },
    {
     "name": "stderr",
     "output_type": "stream",
     "text": [
      "2025-05-09 09:54:18,269 - stpipe - INFO - Executing serially\n",
      "2025-05-09 09:54:18,320 - stpipe - INFO - Setting up output name: /Users/avapolzin/Desktop/psf_testoutputs/acs/150d08m15.267s+2d09m52.304s_F475W_psf_drz.fits\n",
      "2025-05-09 09:54:18,323 - stpipe - INFO - -Creating imageObject List as input for processing steps.\n",
      "2025-05-09 09:54:18,398 - stpipe - INFO - Reading in MDRIZSKY of 69.92457580566406\n",
      "2025-05-09 09:54:18,473 - stpipe - INFO - Reading in MDRIZSKY of 75.761962890625\n",
      "2025-05-09 09:54:18,571 - stpipe - INFO - Reading in MDRIZSKY of 68.4947509765625\n",
      "2025-05-09 09:54:18,642 - stpipe - INFO - Reading in MDRIZSKY of 68.80198669433594\n",
      "2025-05-09 09:54:18,670 - stpipe - INFO - Reset bit values of 4096 to a value of 0 in /Users/avapolzin/Desktop/psf_testoutputs/acs/j8pu42ecq_flc_150d08m15.267s+2d09m52.304s_F475W_topsf.fits[DQ,1]\n",
      "2025-05-09 09:54:18,694 - stpipe - INFO - Reset bit values of 4096 to a value of 0 in /Users/avapolzin/Desktop/psf_testoutputs/acs/j8pu42egq_flc_150d08m15.267s+2d09m52.304s_F475W_topsf.fits[DQ,1]\n",
      "2025-05-09 09:54:18,718 - stpipe - INFO - Reset bit values of 4096 to a value of 0 in /Users/avapolzin/Desktop/psf_testoutputs/acs/j8pu42esq_flc_150d08m15.267s+2d09m52.304s_F475W_topsf.fits[DQ,1]\n",
      "2025-05-09 09:54:18,741 - stpipe - INFO - Reset bit values of 4096 to a value of 0 in /Users/avapolzin/Desktop/psf_testoutputs/acs/j8pu42evq_flc_150d08m15.267s+2d09m52.304s_F475W_topsf.fits[DQ,1]\n",
      "2025-05-09 09:54:18,754 - stpipe - INFO - -Creating output WCS.\n",
      "2025-05-09 09:54:18,758 - stpipe - INFO - WCS Keywords\n"
     ]
    },
    {
     "name": "stdout",
     "output_type": "stream",
     "text": [
      "WCS Keywords\n"
     ]
    },
    {
     "name": "stderr",
     "output_type": "stream",
     "text": [
      "2025-05-09 09:54:18,759 - stpipe - INFO - \n"
     ]
    },
    {
     "name": "stdout",
     "output_type": "stream",
     "text": [
      "\n"
     ]
    },
    {
     "name": "stderr",
     "output_type": "stream",
     "text": [
      "2025-05-09 09:54:18,760 - stpipe - INFO - Number of WCS axes: 2\n"
     ]
    },
    {
     "name": "stdout",
     "output_type": "stream",
     "text": [
      "Number of WCS axes: 2\n"
     ]
    },
    {
     "name": "stderr",
     "output_type": "stream",
     "text": [
      "2025-05-09 09:54:18,761 - stpipe - INFO - CTYPE : 'RA---TAN' 'DEC--TAN' \n"
     ]
    },
    {
     "name": "stdout",
     "output_type": "stream",
     "text": [
      "CTYPE : 'RA---TAN' 'DEC--TAN' \n"
     ]
    },
    {
     "name": "stderr",
     "output_type": "stream",
     "text": [
      "2025-05-09 09:54:18,763 - stpipe - INFO - CRVAL : np.float64(150.1242636198465) np.float64(2.151761555110333) \n"
     ]
    },
    {
     "name": "stdout",
     "output_type": "stream",
     "text": [
      "CRVAL : np.float64(150.1242636198465) np.float64(2.151761555110333) \n"
     ]
    },
    {
     "name": "stderr",
     "output_type": "stream",
     "text": [
      "2025-05-09 09:54:18,764 - stpipe - INFO - CRPIX : np.float64(2081.0) np.float64(1179.5) \n"
     ]
    },
    {
     "name": "stdout",
     "output_type": "stream",
     "text": [
      "CRPIX : np.float64(2081.0) np.float64(1179.5) \n"
     ]
    },
    {
     "name": "stderr",
     "output_type": "stream",
     "text": [
      "2025-05-09 09:54:18,765 - stpipe - INFO - CD1_1 CD1_2  : np.float64(-2.4118726301966414e-06) np.float64(-1.3677869168244357e-05) \n"
     ]
    },
    {
     "name": "stdout",
     "output_type": "stream",
     "text": [
      "CD1_1 CD1_2  : np.float64(-2.4118726301966414e-06) np.float64(-1.3677869168244357e-05) \n"
     ]
    },
    {
     "name": "stderr",
     "output_type": "stream",
     "text": [
      "2025-05-09 09:54:18,766 - stpipe - INFO - CD2_1 CD2_2  : np.float64(-1.3677869168244357e-05) np.float64(2.4118726301966414e-06) \n"
     ]
    },
    {
     "name": "stdout",
     "output_type": "stream",
     "text": [
      "CD2_1 CD2_2  : np.float64(-1.3677869168244357e-05) np.float64(2.4118726301966414e-06) \n"
     ]
    },
    {
     "name": "stderr",
     "output_type": "stream",
     "text": [
      "2025-05-09 09:54:18,768 - stpipe - INFO - NAXIS : 4162  2359\n"
     ]
    },
    {
     "name": "stdout",
     "output_type": "stream",
     "text": [
      "NAXIS : 4162  2359\n"
     ]
    },
    {
     "name": "stderr",
     "output_type": "stream",
     "text": [
      "2025-05-09 09:54:18,769 - stpipe - INFO - ********************************************************************************\n"
     ]
    },
    {
     "name": "stdout",
     "output_type": "stream",
     "text": [
      "********************************************************************************\n"
     ]
    },
    {
     "name": "stderr",
     "output_type": "stream",
     "text": [
      "2025-05-09 09:54:18,770 - stpipe - INFO - *\n"
     ]
    },
    {
     "name": "stdout",
     "output_type": "stream",
     "text": [
      "*\n"
     ]
    },
    {
     "name": "stderr",
     "output_type": "stream",
     "text": [
      "2025-05-09 09:54:18,771 - stpipe - INFO - *  Estimated memory usage:  up to 705 Mb.\n"
     ]
    },
    {
     "name": "stdout",
     "output_type": "stream",
     "text": [
      "*  Estimated memory usage:  up to 705 Mb.\n"
     ]
    },
    {
     "name": "stderr",
     "output_type": "stream",
     "text": [
      "2025-05-09 09:54:18,773 - stpipe - INFO - *  Output image size:       4162 X 2359 pixels. \n"
     ]
    },
    {
     "name": "stdout",
     "output_type": "stream",
     "text": [
      "*  Output image size:       4162 X 2359 pixels. \n"
     ]
    },
    {
     "name": "stderr",
     "output_type": "stream",
     "text": [
      "2025-05-09 09:54:18,775 - stpipe - INFO - *  Output image file:       ~ 112 Mb. \n"
     ]
    },
    {
     "name": "stdout",
     "output_type": "stream",
     "text": [
      "*  Output image file:       ~ 112 Mb. \n"
     ]
    },
    {
     "name": "stderr",
     "output_type": "stream",
     "text": [
      "2025-05-09 09:54:18,776 - stpipe - INFO - *  Cores available:         4\n"
     ]
    },
    {
     "name": "stdout",
     "output_type": "stream",
     "text": [
      "*  Cores available:         4\n"
     ]
    },
    {
     "name": "stderr",
     "output_type": "stream",
     "text": [
      "2025-05-09 09:54:18,777 - stpipe - INFO - *\n"
     ]
    },
    {
     "name": "stdout",
     "output_type": "stream",
     "text": [
      "*\n"
     ]
    },
    {
     "name": "stderr",
     "output_type": "stream",
     "text": [
      "2025-05-09 09:54:18,779 - stpipe - INFO - ********************************************************************************\n"
     ]
    },
    {
     "name": "stdout",
     "output_type": "stream",
     "text": [
      "********************************************************************************\n"
     ]
    },
    {
     "name": "stderr",
     "output_type": "stream",
     "text": [
      "2025-05-09 09:54:18,780 - stpipe - INFO - ==== Processing Step Initialization finished at 09:54:18.779 (09/05/2025)\n"
     ]
    },
    {
     "name": "stdout",
     "output_type": "stream",
     "text": [
      "==== Processing Step Initialization finished at 09:54:18.779 (09/05/2025)\n"
     ]
    },
    {
     "name": "stderr",
     "output_type": "stream",
     "text": [
      "2025-05-09 09:54:18,782 - stpipe - INFO - USER INPUT PARAMETERS common to all Processing Steps:\n",
      "2025-05-09 09:54:18,783 - stpipe - INFO - \tbuild :\tTrue\n",
      "2025-05-09 09:54:18,783 - stpipe - INFO - \tcoeffs :\tTrue\n",
      "2025-05-09 09:54:18,784 - stpipe - INFO - \tcontext :\tTrue\n",
      "2025-05-09 09:54:18,785 - stpipe - INFO - \tcrbit :\t4096\n",
      "2025-05-09 09:54:18,786 - stpipe - INFO - \tgroup :\t\n",
      "2025-05-09 09:54:18,787 - stpipe - INFO - \tin_memory :\tFalse\n",
      "2025-05-09 09:54:18,787 - stpipe - INFO - \tinput :\t['/Users/avapolzin/Desktop/psf_testoutputs/acs/j8pu42ecq_flc_150d08m15.267s+2d09m52.304s_F475W_topsf.fits', '/Users/avapolzin/Desktop/psf_testoutputs/acs/j8pu42egq_flc_150d08m15.267s+2d09m52.304s_F475W_topsf.fits', '/Users/avapolzin/Desktop/psf_testoutputs/acs/j8pu42esq_flc_150d08m15.267s+2d09m52.304s_F475W_topsf.fits', '/Users/avapolzin/Desktop/psf_testoutputs/acs/j8pu42evq_flc_150d08m15.267s+2d09m52.304s_F475W_topsf.fits']\n",
      "2025-05-09 09:54:18,788 - stpipe - INFO - \tmdriztab :\tFalse\n",
      "2025-05-09 09:54:18,789 - stpipe - INFO - \tnum_cores :\tNone\n",
      "2025-05-09 09:54:18,790 - stpipe - INFO - \toutput :\t/Users/avapolzin/Desktop/psf_testoutputs/acs/150d08m15.267s+2d09m52.304s_F475W_psf\n",
      "2025-05-09 09:54:18,790 - stpipe - INFO - \tproc_unit :\tnative\n",
      "2025-05-09 09:54:18,810 - stpipe - INFO - \tresetbits :\t4096\n",
      "2025-05-09 09:54:18,816 - stpipe - INFO - \trules_file :\t\n",
      "2025-05-09 09:54:18,817 - stpipe - INFO - \trunfile :\tastrodrizzle.log\n",
      "2025-05-09 09:54:18,817 - stpipe - INFO - \tstepsize :\t10\n",
      "2025-05-09 09:54:18,818 - stpipe - INFO - \tupdatewcs :\tFalse\n",
      "2025-05-09 09:54:18,819 - stpipe - INFO - \twcskey :\t\n",
      "2025-05-09 09:54:18,822 - stpipe - INFO - ==== Processing Step  Static Mask  started at  09:54:18.819 (09/05/2025)\n"
     ]
    },
    {
     "name": "stdout",
     "output_type": "stream",
     "text": [
      "==== Processing Step  Static Mask  started at  09:54:18.819 (09/05/2025)\n"
     ]
    },
    {
     "name": "stderr",
     "output_type": "stream",
     "text": [
      "2025-05-09 09:54:18,825 - stpipe - INFO - \n"
     ]
    },
    {
     "name": "stdout",
     "output_type": "stream",
     "text": [
      "\n"
     ]
    },
    {
     "name": "stderr",
     "output_type": "stream",
     "text": [
      "2025-05-09 09:54:18,826 - stpipe - INFO - Static Mask step not performed.\n",
      "2025-05-09 09:54:18,827 - stpipe - INFO - ==== Processing Step Static Mask finished at 09:54:18.827 (09/05/2025)\n"
     ]
    },
    {
     "name": "stdout",
     "output_type": "stream",
     "text": [
      "==== Processing Step Static Mask finished at 09:54:18.827 (09/05/2025)\n"
     ]
    },
    {
     "name": "stderr",
     "output_type": "stream",
     "text": [
      "2025-05-09 09:54:18,828 - stpipe - INFO - ==== Processing Step  Subtract Sky  started at  09:54:18.828 (09/05/2025)\n"
     ]
    },
    {
     "name": "stdout",
     "output_type": "stream",
     "text": [
      "==== Processing Step  Subtract Sky  started at  09:54:18.828 (09/05/2025)\n"
     ]
    },
    {
     "name": "stderr",
     "output_type": "stream",
     "text": [
      "2025-05-09 09:54:18,829 - stpipe - INFO - \n"
     ]
    },
    {
     "name": "stdout",
     "output_type": "stream",
     "text": [
      "\n"
     ]
    },
    {
     "name": "stderr",
     "output_type": "stream",
     "text": [
      "2025-05-09 09:54:18,830 - stpipe - INFO - USER INPUT PARAMETERS for Sky Subtraction Step:\n",
      "2025-05-09 09:54:18,831 - stpipe - INFO - \tsky_bits :\t0\n",
      "2025-05-09 09:54:18,831 - stpipe - INFO - \tskyclip :\t5\n",
      "2025-05-09 09:54:18,832 - stpipe - INFO - \tskyfile :\t\n",
      "2025-05-09 09:54:18,833 - stpipe - INFO - \tskylower :\tNone\n",
      "2025-05-09 09:54:18,834 - stpipe - INFO - \tskylsigma :\t4.0\n",
      "2025-05-09 09:54:18,835 - stpipe - INFO - \tskymask_cat :\t\n",
      "2025-05-09 09:54:18,835 - stpipe - INFO - \tskymethod :\tlocalmin\n",
      "2025-05-09 09:54:18,836 - stpipe - INFO - \tskystat :\tmedian\n",
      "2025-05-09 09:54:18,836 - stpipe - INFO - \tskysub :\tTrue\n",
      "2025-05-09 09:54:18,838 - stpipe - INFO - \tskyupper :\tNone\n",
      "2025-05-09 09:54:18,838 - stpipe - INFO - \tskyuser :\t\n",
      "2025-05-09 09:54:18,839 - stpipe - INFO - \tskyusigma :\t4.0\n",
      "2025-05-09 09:54:18,839 - stpipe - INFO - \tskywidth :\t0.1\n",
      "2025-05-09 09:54:18,840 - stpipe - INFO - \tuse_static :\tTrue\n",
      "2025-05-09 09:54:18,859 - stpipe - WARNING - Static mask for file '/Users/avapolzin/Desktop/psf_testoutputs/acs/j8pu42ecq_flc_150d08m15.267s+2d09m52.304s_F475W_topsf.fits', ext=('SCI', 1) NOT FOUND.\n",
      "2025-05-09 09:54:18,888 - stpipe - WARNING - Static mask for file '/Users/avapolzin/Desktop/psf_testoutputs/acs/j8pu42egq_flc_150d08m15.267s+2d09m52.304s_F475W_topsf.fits', ext=('SCI', 1) NOT FOUND.\n",
      "2025-05-09 09:54:18,923 - stpipe - WARNING - Static mask for file '/Users/avapolzin/Desktop/psf_testoutputs/acs/j8pu42esq_flc_150d08m15.267s+2d09m52.304s_F475W_topsf.fits', ext=('SCI', 1) NOT FOUND.\n",
      "2025-05-09 09:54:18,962 - stpipe - WARNING - Static mask for file '/Users/avapolzin/Desktop/psf_testoutputs/acs/j8pu42evq_flc_150d08m15.267s+2d09m52.304s_F475W_topsf.fits', ext=('SCI', 1) NOT FOUND.\n",
      "2025-05-09 09:54:18,986 - stpipe - INFO - ***** skymatch started on 2025-05-09 09:54:18.985981\n"
     ]
    },
    {
     "name": "stdout",
     "output_type": "stream",
     "text": [
      "***** skymatch started on 2025-05-09 09:54:18.985981\n"
     ]
    },
    {
     "name": "stderr",
     "output_type": "stream",
     "text": [
      "2025-05-09 09:54:18,987 - stpipe - INFO -       Version 1.0.10\n"
     ]
    },
    {
     "name": "stdout",
     "output_type": "stream",
     "text": [
      "      Version 1.0.10\n"
     ]
    },
    {
     "name": "stderr",
     "output_type": "stream",
     "text": [
      "2025-05-09 09:54:18,989 - stpipe - INFO - \n"
     ]
    },
    {
     "name": "stdout",
     "output_type": "stream",
     "text": [
      "\n"
     ]
    },
    {
     "name": "stderr",
     "output_type": "stream",
     "text": [
      "2025-05-09 09:54:18,990 - stpipe - INFO - 'skymatch' task will apply computed sky differences to input image file(s).\n"
     ]
    },
    {
     "name": "stdout",
     "output_type": "stream",
     "text": [
      "'skymatch' task will apply computed sky differences to input image file(s).\n"
     ]
    },
    {
     "name": "stderr",
     "output_type": "stream",
     "text": [
      "2025-05-09 09:54:18,991 - stpipe - INFO - \n"
     ]
    },
    {
     "name": "stdout",
     "output_type": "stream",
     "text": [
      "\n"
     ]
    },
    {
     "name": "stderr",
     "output_type": "stream",
     "text": [
      "2025-05-09 09:54:18,993 - stpipe - INFO - NOTE: Computed sky values WILL NOT be subtracted from image data ('subtractsky'=False).\n"
     ]
    },
    {
     "name": "stdout",
     "output_type": "stream",
     "text": [
      "NOTE: Computed sky values WILL NOT be subtracted from image data ('subtractsky'=False).\n"
     ]
    },
    {
     "name": "stderr",
     "output_type": "stream",
     "text": [
      "2025-05-09 09:54:18,994 - stpipe - INFO - 'MDRIZSKY' header keyword will represent sky value *computed* from data.\n"
     ]
    },
    {
     "name": "stdout",
     "output_type": "stream",
     "text": [
      "'MDRIZSKY' header keyword will represent sky value *computed* from data.\n"
     ]
    },
    {
     "name": "stderr",
     "output_type": "stream",
     "text": [
      "2025-05-09 09:54:18,995 - stpipe - INFO - \n"
     ]
    },
    {
     "name": "stdout",
     "output_type": "stream",
     "text": [
      "\n"
     ]
    },
    {
     "name": "stderr",
     "output_type": "stream",
     "text": [
      "2025-05-09 09:54:18,996 - stpipe - INFO - -----  User specified keywords:  -----\n"
     ]
    },
    {
     "name": "stdout",
     "output_type": "stream",
     "text": [
      "-----  User specified keywords:  -----\n"
     ]
    },
    {
     "name": "stderr",
     "output_type": "stream",
     "text": [
      "2025-05-09 09:54:18,998 - stpipe - INFO -        Sky Value Keyword:  'MDRIZSKY'\n"
     ]
    },
    {
     "name": "stdout",
     "output_type": "stream",
     "text": [
      "       Sky Value Keyword:  'MDRIZSKY'\n"
     ]
    },
    {
     "name": "stderr",
     "output_type": "stream",
     "text": [
      "2025-05-09 09:54:18,999 - stpipe - INFO -        Data Units Keyword: 'BUNIT'\n"
     ]
    },
    {
     "name": "stdout",
     "output_type": "stream",
     "text": [
      "       Data Units Keyword: 'BUNIT'\n"
     ]
    },
    {
     "name": "stderr",
     "output_type": "stream",
     "text": [
      "2025-05-09 09:54:19,001 - stpipe - INFO - \n"
     ]
    },
    {
     "name": "stdout",
     "output_type": "stream",
     "text": [
      "\n"
     ]
    },
    {
     "name": "stderr",
     "output_type": "stream",
     "text": [
      "2025-05-09 09:54:19,003 - stpipe - INFO - \n"
     ]
    },
    {
     "name": "stdout",
     "output_type": "stream",
     "text": [
      "\n"
     ]
    },
    {
     "name": "stderr",
     "output_type": "stream",
     "text": [
      "2025-05-09 09:54:19,004 - stpipe - INFO - -----  Input file list:  -----\n"
     ]
    },
    {
     "name": "stdout",
     "output_type": "stream",
     "text": [
      "-----  Input file list:  -----\n"
     ]
    },
    {
     "name": "stderr",
     "output_type": "stream",
     "text": [
      "2025-05-09 09:54:19,008 - stpipe - INFO - \n"
     ]
    },
    {
     "name": "stdout",
     "output_type": "stream",
     "text": [
      "\n"
     ]
    },
    {
     "name": "stderr",
     "output_type": "stream",
     "text": [
      "2025-05-09 09:54:19,017 - stpipe - INFO -    **  Input image: 'j8pu42ecq_flc_150d08m15.267s+2d09m52.304s_F475W_topsf.fits'\n"
     ]
    },
    {
     "name": "stdout",
     "output_type": "stream",
     "text": [
      "   **  Input image: 'j8pu42ecq_flc_150d08m15.267s+2d09m52.304s_F475W_topsf.fits'\n"
     ]
    },
    {
     "name": "stderr",
     "output_type": "stream",
     "text": [
      "2025-05-09 09:54:19,033 - stpipe - INFO -        EXT: 'SCI',1;\tMASK: j8pu42ecq_flc_150d08m15.267s+2d09m52.304s_F475W_skymatch_mask_sci1.fits[0]\n"
     ]
    },
    {
     "name": "stdout",
     "output_type": "stream",
     "text": [
      "       EXT: 'SCI',1;\tMASK: j8pu42ecq_flc_150d08m15.267s+2d09m52.304s_F475W_skymatch_mask_sci1.fits[0]\n"
     ]
    },
    {
     "name": "stderr",
     "output_type": "stream",
     "text": [
      "2025-05-09 09:54:19,034 - stpipe - INFO - \n"
     ]
    },
    {
     "name": "stdout",
     "output_type": "stream",
     "text": [
      "\n"
     ]
    },
    {
     "name": "stderr",
     "output_type": "stream",
     "text": [
      "2025-05-09 09:54:19,042 - stpipe - INFO -    **  Input image: 'j8pu42egq_flc_150d08m15.267s+2d09m52.304s_F475W_topsf.fits'\n"
     ]
    },
    {
     "name": "stdout",
     "output_type": "stream",
     "text": [
      "   **  Input image: 'j8pu42egq_flc_150d08m15.267s+2d09m52.304s_F475W_topsf.fits'\n"
     ]
    },
    {
     "name": "stderr",
     "output_type": "stream",
     "text": [
      "2025-05-09 09:54:19,043 - stpipe - INFO -        EXT: 'SCI',1;\tMASK: j8pu42egq_flc_150d08m15.267s+2d09m52.304s_F475W_skymatch_mask_sci1.fits[0]\n"
     ]
    },
    {
     "name": "stdout",
     "output_type": "stream",
     "text": [
      "       EXT: 'SCI',1;\tMASK: j8pu42egq_flc_150d08m15.267s+2d09m52.304s_F475W_skymatch_mask_sci1.fits[0]\n"
     ]
    },
    {
     "name": "stderr",
     "output_type": "stream",
     "text": [
      "2025-05-09 09:54:19,044 - stpipe - INFO - \n"
     ]
    },
    {
     "name": "stdout",
     "output_type": "stream",
     "text": [
      "\n"
     ]
    },
    {
     "name": "stderr",
     "output_type": "stream",
     "text": [
      "2025-05-09 09:54:19,045 - stpipe - INFO -    **  Input image: 'j8pu42esq_flc_150d08m15.267s+2d09m52.304s_F475W_topsf.fits'\n"
     ]
    },
    {
     "name": "stdout",
     "output_type": "stream",
     "text": [
      "   **  Input image: 'j8pu42esq_flc_150d08m15.267s+2d09m52.304s_F475W_topsf.fits'\n"
     ]
    },
    {
     "name": "stderr",
     "output_type": "stream",
     "text": [
      "2025-05-09 09:54:19,047 - stpipe - INFO -        EXT: 'SCI',1;\tMASK: j8pu42esq_flc_150d08m15.267s+2d09m52.304s_F475W_skymatch_mask_sci1.fits[0]\n"
     ]
    },
    {
     "name": "stdout",
     "output_type": "stream",
     "text": [
      "       EXT: 'SCI',1;\tMASK: j8pu42esq_flc_150d08m15.267s+2d09m52.304s_F475W_skymatch_mask_sci1.fits[0]\n"
     ]
    },
    {
     "name": "stderr",
     "output_type": "stream",
     "text": [
      "2025-05-09 09:54:19,048 - stpipe - INFO - \n"
     ]
    },
    {
     "name": "stdout",
     "output_type": "stream",
     "text": [
      "\n"
     ]
    },
    {
     "name": "stderr",
     "output_type": "stream",
     "text": [
      "2025-05-09 09:54:19,050 - stpipe - INFO -    **  Input image: 'j8pu42evq_flc_150d08m15.267s+2d09m52.304s_F475W_topsf.fits'\n"
     ]
    },
    {
     "name": "stdout",
     "output_type": "stream",
     "text": [
      "   **  Input image: 'j8pu42evq_flc_150d08m15.267s+2d09m52.304s_F475W_topsf.fits'\n"
     ]
    },
    {
     "name": "stderr",
     "output_type": "stream",
     "text": [
      "2025-05-09 09:54:19,051 - stpipe - INFO -        EXT: 'SCI',1;\tMASK: j8pu42evq_flc_150d08m15.267s+2d09m52.304s_F475W_skymatch_mask_sci1.fits[0]\n"
     ]
    },
    {
     "name": "stdout",
     "output_type": "stream",
     "text": [
      "       EXT: 'SCI',1;\tMASK: j8pu42evq_flc_150d08m15.267s+2d09m52.304s_F475W_skymatch_mask_sci1.fits[0]\n"
     ]
    },
    {
     "name": "stderr",
     "output_type": "stream",
     "text": [
      "2025-05-09 09:54:19,053 - stpipe - INFO - \n"
     ]
    },
    {
     "name": "stdout",
     "output_type": "stream",
     "text": [
      "\n"
     ]
    },
    {
     "name": "stderr",
     "output_type": "stream",
     "text": [
      "2025-05-09 09:54:19,054 - stpipe - INFO - -----  Sky statistics parameters:  -----\n"
     ]
    },
    {
     "name": "stdout",
     "output_type": "stream",
     "text": [
      "-----  Sky statistics parameters:  -----\n"
     ]
    },
    {
     "name": "stderr",
     "output_type": "stream",
     "text": [
      "2025-05-09 09:54:19,055 - stpipe - INFO -        statistics function: 'median'\n"
     ]
    },
    {
     "name": "stdout",
     "output_type": "stream",
     "text": [
      "       statistics function: 'median'\n"
     ]
    },
    {
     "name": "stderr",
     "output_type": "stream",
     "text": [
      "2025-05-09 09:54:19,056 - stpipe - INFO -        lower = None\n"
     ]
    },
    {
     "name": "stdout",
     "output_type": "stream",
     "text": [
      "       lower = None\n"
     ]
    },
    {
     "name": "stderr",
     "output_type": "stream",
     "text": [
      "2025-05-09 09:54:19,058 - stpipe - INFO -        upper = None\n"
     ]
    },
    {
     "name": "stdout",
     "output_type": "stream",
     "text": [
      "       upper = None\n"
     ]
    },
    {
     "name": "stderr",
     "output_type": "stream",
     "text": [
      "2025-05-09 09:54:19,060 - stpipe - INFO -        nclip = 5\n"
     ]
    },
    {
     "name": "stdout",
     "output_type": "stream",
     "text": [
      "       nclip = 5\n"
     ]
    },
    {
     "name": "stderr",
     "output_type": "stream",
     "text": [
      "2025-05-09 09:54:19,061 - stpipe - INFO -        lsigma = 4.0\n"
     ]
    },
    {
     "name": "stdout",
     "output_type": "stream",
     "text": [
      "       lsigma = 4.0\n"
     ]
    },
    {
     "name": "stderr",
     "output_type": "stream",
     "text": [
      "2025-05-09 09:54:19,062 - stpipe - INFO -        usigma = 4.0\n"
     ]
    },
    {
     "name": "stdout",
     "output_type": "stream",
     "text": [
      "       usigma = 4.0\n"
     ]
    },
    {
     "name": "stderr",
     "output_type": "stream",
     "text": [
      "2025-05-09 09:54:19,063 - stpipe - INFO -        binwidth = 0.1\n"
     ]
    },
    {
     "name": "stdout",
     "output_type": "stream",
     "text": [
      "       binwidth = 0.1\n"
     ]
    },
    {
     "name": "stderr",
     "output_type": "stream",
     "text": [
      "2025-05-09 09:54:19,064 - stpipe - INFO - \n"
     ]
    },
    {
     "name": "stdout",
     "output_type": "stream",
     "text": [
      "\n"
     ]
    },
    {
     "name": "stderr",
     "output_type": "stream",
     "text": [
      "2025-05-09 09:54:19,066 - stpipe - INFO - -----  Data->Brightness conversion parameters for input files:  -----\n"
     ]
    },
    {
     "name": "stdout",
     "output_type": "stream",
     "text": [
      "-----  Data->Brightness conversion parameters for input files:  -----\n"
     ]
    },
    {
     "name": "stderr",
     "output_type": "stream",
     "text": [
      "2025-05-09 09:54:19,067 - stpipe - INFO - \n"
     ]
    },
    {
     "name": "stdout",
     "output_type": "stream",
     "text": [
      "\n"
     ]
    },
    {
     "name": "stderr",
     "output_type": "stream",
     "text": [
      "2025-05-09 09:54:19,068 - stpipe - INFO -    *   Image: j8pu42ecq_flc_150d08m15.267s+2d09m52.304s_F475W_topsf.fits\n"
     ]
    },
    {
     "name": "stdout",
     "output_type": "stream",
     "text": [
      "   *   Image: j8pu42ecq_flc_150d08m15.267s+2d09m52.304s_F475W_topsf.fits\n"
     ]
    },
    {
     "name": "stderr",
     "output_type": "stream",
     "text": [
      "2025-05-09 09:54:19,114 - stpipe - INFO -        EXT = 'SCI',1\n"
     ]
    },
    {
     "name": "stdout",
     "output_type": "stream",
     "text": [
      "       EXT = 'SCI',1\n"
     ]
    },
    {
     "name": "stderr",
     "output_type": "stream",
     "text": [
      "2025-05-09 09:54:19,115 - stpipe - INFO -              Data units type: COUNTS\n"
     ]
    },
    {
     "name": "stdout",
     "output_type": "stream",
     "text": [
      "             Data units type: COUNTS\n"
     ]
    },
    {
     "name": "stderr",
     "output_type": "stream",
     "text": [
      "2025-05-09 09:54:19,117 - stpipe - INFO -              EXPTIME: 507.0 [s]\n"
     ]
    },
    {
     "name": "stdout",
     "output_type": "stream",
     "text": [
      "             EXPTIME: 507.0 [s]\n"
     ]
    },
    {
     "name": "stderr",
     "output_type": "stream",
     "text": [
      "2025-05-09 09:54:19,118 - stpipe - INFO -              Conversion factor (data->brightness):  0.7889546351084812\n"
     ]
    },
    {
     "name": "stdout",
     "output_type": "stream",
     "text": [
      "             Conversion factor (data->brightness):  0.7889546351084812\n"
     ]
    },
    {
     "name": "stderr",
     "output_type": "stream",
     "text": [
      "2025-05-09 09:54:19,119 - stpipe - INFO - \n"
     ]
    },
    {
     "name": "stdout",
     "output_type": "stream",
     "text": [
      "\n"
     ]
    },
    {
     "name": "stderr",
     "output_type": "stream",
     "text": [
      "2025-05-09 09:54:19,120 - stpipe - INFO -    *   Image: j8pu42egq_flc_150d08m15.267s+2d09m52.304s_F475W_topsf.fits\n"
     ]
    },
    {
     "name": "stdout",
     "output_type": "stream",
     "text": [
      "   *   Image: j8pu42egq_flc_150d08m15.267s+2d09m52.304s_F475W_topsf.fits\n"
     ]
    },
    {
     "name": "stderr",
     "output_type": "stream",
     "text": [
      "2025-05-09 09:54:19,141 - stpipe - INFO -        EXT = 'SCI',1\n"
     ]
    },
    {
     "name": "stdout",
     "output_type": "stream",
     "text": [
      "       EXT = 'SCI',1\n"
     ]
    },
    {
     "name": "stderr",
     "output_type": "stream",
     "text": [
      "2025-05-09 09:54:19,142 - stpipe - INFO -              Data units type: COUNTS\n"
     ]
    },
    {
     "name": "stdout",
     "output_type": "stream",
     "text": [
      "             Data units type: COUNTS\n"
     ]
    },
    {
     "name": "stderr",
     "output_type": "stream",
     "text": [
      "2025-05-09 09:54:19,143 - stpipe - INFO -              EXPTIME: 507.0 [s]\n"
     ]
    },
    {
     "name": "stdout",
     "output_type": "stream",
     "text": [
      "             EXPTIME: 507.0 [s]\n"
     ]
    },
    {
     "name": "stderr",
     "output_type": "stream",
     "text": [
      "2025-05-09 09:54:19,144 - stpipe - INFO -              Conversion factor (data->brightness):  0.7889546351084812\n"
     ]
    },
    {
     "name": "stdout",
     "output_type": "stream",
     "text": [
      "             Conversion factor (data->brightness):  0.7889546351084812\n"
     ]
    },
    {
     "name": "stderr",
     "output_type": "stream",
     "text": [
      "2025-05-09 09:54:19,146 - stpipe - INFO - \n"
     ]
    },
    {
     "name": "stdout",
     "output_type": "stream",
     "text": [
      "\n"
     ]
    },
    {
     "name": "stderr",
     "output_type": "stream",
     "text": [
      "2025-05-09 09:54:19,147 - stpipe - INFO -    *   Image: j8pu42esq_flc_150d08m15.267s+2d09m52.304s_F475W_topsf.fits\n"
     ]
    },
    {
     "name": "stdout",
     "output_type": "stream",
     "text": [
      "   *   Image: j8pu42esq_flc_150d08m15.267s+2d09m52.304s_F475W_topsf.fits\n"
     ]
    },
    {
     "name": "stderr",
     "output_type": "stream",
     "text": [
      "2025-05-09 09:54:19,167 - stpipe - INFO -        EXT = 'SCI',1\n"
     ]
    },
    {
     "name": "stdout",
     "output_type": "stream",
     "text": [
      "       EXT = 'SCI',1\n"
     ]
    },
    {
     "name": "stderr",
     "output_type": "stream",
     "text": [
      "2025-05-09 09:54:19,168 - stpipe - INFO -              Data units type: COUNTS\n"
     ]
    },
    {
     "name": "stdout",
     "output_type": "stream",
     "text": [
      "             Data units type: COUNTS\n"
     ]
    },
    {
     "name": "stderr",
     "output_type": "stream",
     "text": [
      "2025-05-09 09:54:19,169 - stpipe - INFO -              EXPTIME: 507.0 [s]\n"
     ]
    },
    {
     "name": "stdout",
     "output_type": "stream",
     "text": [
      "             EXPTIME: 507.0 [s]\n"
     ]
    },
    {
     "name": "stderr",
     "output_type": "stream",
     "text": [
      "2025-05-09 09:54:19,171 - stpipe - INFO -              Conversion factor (data->brightness):  0.7889546351084812\n"
     ]
    },
    {
     "name": "stdout",
     "output_type": "stream",
     "text": [
      "             Conversion factor (data->brightness):  0.7889546351084812\n"
     ]
    },
    {
     "name": "stderr",
     "output_type": "stream",
     "text": [
      "2025-05-09 09:54:19,172 - stpipe - INFO - \n"
     ]
    },
    {
     "name": "stdout",
     "output_type": "stream",
     "text": [
      "\n"
     ]
    },
    {
     "name": "stderr",
     "output_type": "stream",
     "text": [
      "2025-05-09 09:54:19,173 - stpipe - INFO -    *   Image: j8pu42evq_flc_150d08m15.267s+2d09m52.304s_F475W_topsf.fits\n"
     ]
    },
    {
     "name": "stdout",
     "output_type": "stream",
     "text": [
      "   *   Image: j8pu42evq_flc_150d08m15.267s+2d09m52.304s_F475W_topsf.fits\n"
     ]
    },
    {
     "name": "stderr",
     "output_type": "stream",
     "text": [
      "2025-05-09 09:54:19,192 - stpipe - INFO -        EXT = 'SCI',1\n"
     ]
    },
    {
     "name": "stdout",
     "output_type": "stream",
     "text": [
      "       EXT = 'SCI',1\n"
     ]
    },
    {
     "name": "stderr",
     "output_type": "stream",
     "text": [
      "2025-05-09 09:54:19,194 - stpipe - INFO -              Data units type: COUNTS\n"
     ]
    },
    {
     "name": "stdout",
     "output_type": "stream",
     "text": [
      "             Data units type: COUNTS\n"
     ]
    },
    {
     "name": "stderr",
     "output_type": "stream",
     "text": [
      "2025-05-09 09:54:19,195 - stpipe - INFO -              EXPTIME: 507.0 [s]\n"
     ]
    },
    {
     "name": "stdout",
     "output_type": "stream",
     "text": [
      "             EXPTIME: 507.0 [s]\n"
     ]
    },
    {
     "name": "stderr",
     "output_type": "stream",
     "text": [
      "2025-05-09 09:54:19,197 - stpipe - INFO -              Conversion factor (data->brightness):  0.7889546351084812\n"
     ]
    },
    {
     "name": "stdout",
     "output_type": "stream",
     "text": [
      "             Conversion factor (data->brightness):  0.7889546351084812\n"
     ]
    },
    {
     "name": "stderr",
     "output_type": "stream",
     "text": [
      "2025-05-09 09:54:19,198 - stpipe - INFO - \n"
     ]
    },
    {
     "name": "stdout",
     "output_type": "stream",
     "text": [
      "\n"
     ]
    },
    {
     "name": "stderr",
     "output_type": "stream",
     "text": [
      "2025-05-09 09:54:19,200 - stpipe - INFO - \n"
     ]
    },
    {
     "name": "stdout",
     "output_type": "stream",
     "text": [
      "\n"
     ]
    },
    {
     "name": "stderr",
     "output_type": "stream",
     "text": [
      "2025-05-09 09:54:19,201 - stpipe - INFO - -----  Computing sky values requested image extensions (detector chips):  -----\n"
     ]
    },
    {
     "name": "stdout",
     "output_type": "stream",
     "text": [
      "-----  Computing sky values requested image extensions (detector chips):  -----\n"
     ]
    },
    {
     "name": "stderr",
     "output_type": "stream",
     "text": [
      "2025-05-09 09:54:19,202 - stpipe - INFO - \n"
     ]
    },
    {
     "name": "stdout",
     "output_type": "stream",
     "text": [
      "\n"
     ]
    },
    {
     "name": "stderr",
     "output_type": "stream",
     "text": [
      "2025-05-09 09:54:19,499 - stpipe - INFO -    *   Image:   'j8pu42ecq_flc_150d08m15.267s+2d09m52.304s_F475W_topsf.fits['SCI',1]'  --  SKY = 0.0 (brightness units)\n"
     ]
    },
    {
     "name": "stdout",
     "output_type": "stream",
     "text": [
      "   *   Image:   'j8pu42ecq_flc_150d08m15.267s+2d09m52.304s_F475W_topsf.fits['SCI',1]'  --  SKY = 0.0 (brightness units)\n"
     ]
    },
    {
     "name": "stderr",
     "output_type": "stream",
     "text": [
      "2025-05-09 09:54:19,501 - stpipe - INFO -        Sky change (data units):\n"
     ]
    },
    {
     "name": "stdout",
     "output_type": "stream",
     "text": [
      "       Sky change (data units):\n"
     ]
    },
    {
     "name": "stderr",
     "output_type": "stream",
     "text": [
      "2025-05-09 09:54:19,503 - stpipe - INFO -       - EXT = 'SCI',1   delta(MDRIZSKY) = 0   NEW MDRIZSKY = 0\n"
     ]
    },
    {
     "name": "stdout",
     "output_type": "stream",
     "text": [
      "      - EXT = 'SCI',1   delta(MDRIZSKY) = 0   NEW MDRIZSKY = 0\n"
     ]
    },
    {
     "name": "stderr",
     "output_type": "stream",
     "text": [
      "2025-05-09 09:54:19,752 - stpipe - INFO -    *   Image:   'j8pu42egq_flc_150d08m15.267s+2d09m52.304s_F475W_topsf.fits['SCI',1]'  --  SKY = 0.0 (brightness units)\n"
     ]
    },
    {
     "name": "stdout",
     "output_type": "stream",
     "text": [
      "   *   Image:   'j8pu42egq_flc_150d08m15.267s+2d09m52.304s_F475W_topsf.fits['SCI',1]'  --  SKY = 0.0 (brightness units)\n"
     ]
    },
    {
     "name": "stderr",
     "output_type": "stream",
     "text": [
      "2025-05-09 09:54:19,754 - stpipe - INFO -        Sky change (data units):\n"
     ]
    },
    {
     "name": "stdout",
     "output_type": "stream",
     "text": [
      "       Sky change (data units):\n"
     ]
    },
    {
     "name": "stderr",
     "output_type": "stream",
     "text": [
      "2025-05-09 09:54:19,755 - stpipe - INFO -       - EXT = 'SCI',1   delta(MDRIZSKY) = 0   NEW MDRIZSKY = 0\n"
     ]
    },
    {
     "name": "stdout",
     "output_type": "stream",
     "text": [
      "      - EXT = 'SCI',1   delta(MDRIZSKY) = 0   NEW MDRIZSKY = 0\n"
     ]
    },
    {
     "name": "stderr",
     "output_type": "stream",
     "text": [
      "2025-05-09 09:54:20,006 - stpipe - INFO -    *   Image:   'j8pu42esq_flc_150d08m15.267s+2d09m52.304s_F475W_topsf.fits['SCI',1]'  --  SKY = 0.0 (brightness units)\n"
     ]
    },
    {
     "name": "stdout",
     "output_type": "stream",
     "text": [
      "   *   Image:   'j8pu42esq_flc_150d08m15.267s+2d09m52.304s_F475W_topsf.fits['SCI',1]'  --  SKY = 0.0 (brightness units)\n"
     ]
    },
    {
     "name": "stderr",
     "output_type": "stream",
     "text": [
      "2025-05-09 09:54:20,008 - stpipe - INFO -        Sky change (data units):\n"
     ]
    },
    {
     "name": "stdout",
     "output_type": "stream",
     "text": [
      "       Sky change (data units):\n"
     ]
    },
    {
     "name": "stderr",
     "output_type": "stream",
     "text": [
      "2025-05-09 09:54:20,010 - stpipe - INFO -       - EXT = 'SCI',1   delta(MDRIZSKY) = 0   NEW MDRIZSKY = 0\n"
     ]
    },
    {
     "name": "stdout",
     "output_type": "stream",
     "text": [
      "      - EXT = 'SCI',1   delta(MDRIZSKY) = 0   NEW MDRIZSKY = 0\n"
     ]
    },
    {
     "name": "stderr",
     "output_type": "stream",
     "text": [
      "2025-05-09 09:54:20,258 - stpipe - INFO -    *   Image:   'j8pu42evq_flc_150d08m15.267s+2d09m52.304s_F475W_topsf.fits['SCI',1]'  --  SKY = 0.0 (brightness units)\n"
     ]
    },
    {
     "name": "stdout",
     "output_type": "stream",
     "text": [
      "   *   Image:   'j8pu42evq_flc_150d08m15.267s+2d09m52.304s_F475W_topsf.fits['SCI',1]'  --  SKY = 0.0 (brightness units)\n"
     ]
    },
    {
     "name": "stderr",
     "output_type": "stream",
     "text": [
      "2025-05-09 09:54:20,259 - stpipe - INFO -        Sky change (data units):\n"
     ]
    },
    {
     "name": "stdout",
     "output_type": "stream",
     "text": [
      "       Sky change (data units):\n"
     ]
    },
    {
     "name": "stderr",
     "output_type": "stream",
     "text": [
      "2025-05-09 09:54:20,261 - stpipe - INFO -       - EXT = 'SCI',1   delta(MDRIZSKY) = 0   NEW MDRIZSKY = 0\n"
     ]
    },
    {
     "name": "stdout",
     "output_type": "stream",
     "text": [
      "      - EXT = 'SCI',1   delta(MDRIZSKY) = 0   NEW MDRIZSKY = 0\n"
     ]
    },
    {
     "name": "stderr",
     "output_type": "stream",
     "text": [
      "2025-05-09 09:54:20,263 - stpipe - INFO - ***** skymatch ended on 2025-05-09 09:54:20.263070\n"
     ]
    },
    {
     "name": "stdout",
     "output_type": "stream",
     "text": [
      "***** skymatch ended on 2025-05-09 09:54:20.263070\n"
     ]
    },
    {
     "name": "stderr",
     "output_type": "stream",
     "text": [
      "2025-05-09 09:54:20,264 - stpipe - INFO - TOTAL RUN TIME: 0:00:01.277089\n"
     ]
    },
    {
     "name": "stdout",
     "output_type": "stream",
     "text": [
      "TOTAL RUN TIME: 0:00:01.277089\n"
     ]
    },
    {
     "name": "stderr",
     "output_type": "stream",
     "text": [
      "2025-05-09 09:54:20,336 - stpipe - INFO - ==== Processing Step Subtract Sky finished at 09:54:20.335 (09/05/2025)\n"
     ]
    },
    {
     "name": "stdout",
     "output_type": "stream",
     "text": [
      "==== Processing Step Subtract Sky finished at 09:54:20.335 (09/05/2025)\n"
     ]
    },
    {
     "name": "stderr",
     "output_type": "stream",
     "text": [
      "2025-05-09 09:54:20,338 - stpipe - INFO - ==== Processing Step  Separate Drizzle  started at  09:54:20.33 (09/05/2025)\n"
     ]
    },
    {
     "name": "stdout",
     "output_type": "stream",
     "text": [
      "==== Processing Step  Separate Drizzle  started at  09:54:20.33 (09/05/2025)\n"
     ]
    },
    {
     "name": "stderr",
     "output_type": "stream",
     "text": [
      "2025-05-09 09:54:20,339 - stpipe - INFO - \n"
     ]
    },
    {
     "name": "stdout",
     "output_type": "stream",
     "text": [
      "\n"
     ]
    },
    {
     "name": "stderr",
     "output_type": "stream",
     "text": [
      "2025-05-09 09:54:20,340 - stpipe - INFO - Interpreted paramDict with single=True as:\n",
      "{'build': True, 'stepsize': 10, 'coeffs': True, 'wcskey': '', 'kernel': 'turbo', 'wt_scl': 'exptime', 'pixfrac': 1.0, 'fillval': None, 'bits': 0, 'compress': False, 'units': 'cps'}\n",
      "2025-05-09 09:54:20,341 - stpipe - INFO - USER INPUT PARAMETERS for Separate Drizzle Step:\n",
      "2025-05-09 09:54:20,342 - stpipe - INFO - \tbits :\t0\n",
      "2025-05-09 09:54:20,342 - stpipe - INFO - \tbuild :\tFalse\n",
      "2025-05-09 09:54:20,343 - stpipe - INFO - \tclean :\tFalse\n",
      "2025-05-09 09:54:20,344 - stpipe - INFO - \tcoeffs :\tTrue\n",
      "2025-05-09 09:54:20,344 - stpipe - INFO - \tcompress :\tFalse\n",
      "2025-05-09 09:54:20,345 - stpipe - INFO - \tcrbit :\tNone\n",
      "2025-05-09 09:54:20,345 - stpipe - INFO - \tfillval :\tNone\n",
      "2025-05-09 09:54:20,346 - stpipe - INFO - \tkernel :\tturbo\n",
      "2025-05-09 09:54:20,347 - stpipe - INFO - \tnum_cores :\tNone\n",
      "2025-05-09 09:54:20,348 - stpipe - INFO - \tpixfrac :\t1.0\n",
      "2025-05-09 09:54:20,349 - stpipe - INFO - \tproc_unit :\telectrons\n",
      "2025-05-09 09:54:20,349 - stpipe - INFO - \trules_file :\tNone\n",
      "2025-05-09 09:54:20,350 - stpipe - INFO - \tstepsize :\t10\n",
      "2025-05-09 09:54:20,350 - stpipe - INFO - \tunits :\tcps\n",
      "2025-05-09 09:54:20,361 - stpipe - INFO - \twcskey :\t\n",
      "2025-05-09 09:54:20,376 - stpipe - INFO - \twht_type :\tNone\n",
      "2025-05-09 09:54:20,377 - stpipe - INFO - \twt_scl :\texptime\n",
      "2025-05-09 09:54:20,377 - stpipe - INFO -   **Using sub-sampling value of 10 for kernel turbo\n",
      "2025-05-09 09:54:20,378 - stpipe - INFO - Running Drizzle to create output frame with WCS of: \n",
      "2025-05-09 09:54:20,379 - stpipe - INFO - WCS Keywords\n"
     ]
    },
    {
     "name": "stdout",
     "output_type": "stream",
     "text": [
      "WCS Keywords\n"
     ]
    },
    {
     "name": "stderr",
     "output_type": "stream",
     "text": [
      "2025-05-09 09:54:20,380 - stpipe - INFO - \n"
     ]
    },
    {
     "name": "stdout",
     "output_type": "stream",
     "text": [
      "\n"
     ]
    },
    {
     "name": "stderr",
     "output_type": "stream",
     "text": [
      "2025-05-09 09:54:20,387 - stpipe - INFO - Number of WCS axes: 2\n"
     ]
    },
    {
     "name": "stdout",
     "output_type": "stream",
     "text": [
      "Number of WCS axes: 2\n"
     ]
    },
    {
     "name": "stderr",
     "output_type": "stream",
     "text": [
      "2025-05-09 09:54:20,388 - stpipe - INFO - CTYPE : 'RA---TAN' 'DEC--TAN' \n"
     ]
    },
    {
     "name": "stdout",
     "output_type": "stream",
     "text": [
      "CTYPE : 'RA---TAN' 'DEC--TAN' \n"
     ]
    },
    {
     "name": "stderr",
     "output_type": "stream",
     "text": [
      "2025-05-09 09:54:20,389 - stpipe - INFO - CRVAL : np.float64(150.1242636198465) np.float64(2.151761555110333) \n"
     ]
    },
    {
     "name": "stdout",
     "output_type": "stream",
     "text": [
      "CRVAL : np.float64(150.1242636198465) np.float64(2.151761555110333) \n"
     ]
    },
    {
     "name": "stderr",
     "output_type": "stream",
     "text": [
      "2025-05-09 09:54:20,390 - stpipe - INFO - CRPIX : np.float64(2081.0) np.float64(1179.5) \n"
     ]
    },
    {
     "name": "stdout",
     "output_type": "stream",
     "text": [
      "CRPIX : np.float64(2081.0) np.float64(1179.5) \n"
     ]
    },
    {
     "name": "stderr",
     "output_type": "stream",
     "text": [
      "2025-05-09 09:54:20,392 - stpipe - INFO - CD1_1 CD1_2  : np.float64(-2.4118726301966414e-06) np.float64(-1.3677869168244357e-05) \n"
     ]
    },
    {
     "name": "stdout",
     "output_type": "stream",
     "text": [
      "CD1_1 CD1_2  : np.float64(-2.4118726301966414e-06) np.float64(-1.3677869168244357e-05) \n"
     ]
    },
    {
     "name": "stderr",
     "output_type": "stream",
     "text": [
      "2025-05-09 09:54:20,393 - stpipe - INFO - CD2_1 CD2_2  : np.float64(-1.3677869168244357e-05) np.float64(2.4118726301966414e-06) \n"
     ]
    },
    {
     "name": "stdout",
     "output_type": "stream",
     "text": [
      "CD2_1 CD2_2  : np.float64(-1.3677869168244357e-05) np.float64(2.4118726301966414e-06) \n"
     ]
    },
    {
     "name": "stderr",
     "output_type": "stream",
     "text": [
      "2025-05-09 09:54:20,395 - stpipe - INFO - NAXIS : 4162  2359\n"
     ]
    },
    {
     "name": "stdout",
     "output_type": "stream",
     "text": [
      "NAXIS : 4162  2359\n"
     ]
    },
    {
     "name": "stderr",
     "output_type": "stream",
     "text": [
      "2025-05-09 09:54:20,396 - stpipe - INFO - Executing 4 parallel workers\n",
      "2025-05-09 09:54:20,470 - stpipe - INFO - -Drizzle input: /Users/avapolzin/Desktop/psf_testoutputs/acs/j8pu42ecq_flc_150d08m15.267s+2d09m52.304s_F475W_topsf.fits[sci,1]\n",
      "2025-05-09 09:54:20,477 - stpipe - INFO - -Drizzle input: /Users/avapolzin/Desktop/psf_testoutputs/acs/j8pu42egq_flc_150d08m15.267s+2d09m52.304s_F475W_topsf.fits[sci,1]\n",
      "2025-05-09 09:54:20,491 - stpipe - INFO - -Drizzle input: /Users/avapolzin/Desktop/psf_testoutputs/acs/j8pu42esq_flc_150d08m15.267s+2d09m52.304s_F475W_topsf.fits[sci,1]\n",
      "2025-05-09 09:54:20,496 - stpipe - INFO - Applying sky value of 0.000000 to /Users/avapolzin/Desktop/psf_testoutputs/acs/j8pu42ecq_flc_150d08m15.267s+2d09m52.304s_F475W_topsf.fits[sci,1]\n",
      "2025-05-09 09:54:20,505 - stpipe - INFO - Applying sky value of 0.000000 to /Users/avapolzin/Desktop/psf_testoutputs/acs/j8pu42egq_flc_150d08m15.267s+2d09m52.304s_F475W_topsf.fits[sci,1]\n",
      "2025-05-09 09:54:20,502 - stpipe - INFO - -Drizzle input: /Users/avapolzin/Desktop/psf_testoutputs/acs/j8pu42evq_flc_150d08m15.267s+2d09m52.304s_F475W_topsf.fits[sci,1]\n",
      "2025-05-09 09:54:20,516 - stpipe - INFO - Applying sky value of 0.000000 to /Users/avapolzin/Desktop/psf_testoutputs/acs/j8pu42esq_flc_150d08m15.267s+2d09m52.304s_F475W_topsf.fits[sci,1]\n",
      "2025-05-09 09:54:20,532 - stpipe - INFO - Applying sky value of 0.000000 to /Users/avapolzin/Desktop/psf_testoutputs/acs/j8pu42evq_flc_150d08m15.267s+2d09m52.304s_F475W_topsf.fits[sci,1]\n",
      "2025-05-09 09:54:20,729 - stpipe - INFO - Writing out mask file: /Users/avapolzin/Desktop/psf_testoutputs/acs/j8pu42ecq_flc_150d08m15.267s+2d09m52.304s_F475W_topsf_sci1_single_mask.fits\n",
      "2025-05-09 09:54:20,729 - stpipe - INFO - Writing out mask file: /Users/avapolzin/Desktop/psf_testoutputs/acs/j8pu42egq_flc_150d08m15.267s+2d09m52.304s_F475W_topsf_sci1_single_mask.fits\n",
      "2025-05-09 09:54:20,729 - stpipe - INFO - Writing out mask file: /Users/avapolzin/Desktop/psf_testoutputs/acs/j8pu42esq_flc_150d08m15.267s+2d09m52.304s_F475W_topsf_sci1_single_mask.fits\n",
      "2025-05-09 09:54:20,732 - stpipe - INFO - Using WCSLIB-based coordinate transformation...\n",
      "2025-05-09 09:54:20,732 - stpipe - INFO - Using WCSLIB-based coordinate transformation...\n",
      "2025-05-09 09:54:20,731 - stpipe - INFO - Using WCSLIB-based coordinate transformation...\n",
      "2025-05-09 09:54:20,735 - stpipe - INFO - stepsize = 10\n",
      "2025-05-09 09:54:20,735 - stpipe - INFO - stepsize = 10\n",
      "2025-05-09 09:54:20,735 - stpipe - INFO - stepsize = 10\n",
      "2025-05-09 09:54:20,745 - stpipe - INFO - Writing out mask file: /Users/avapolzin/Desktop/psf_testoutputs/acs/j8pu42evq_flc_150d08m15.267s+2d09m52.304s_F475W_topsf_sci1_single_mask.fits\n",
      "2025-05-09 09:54:20,747 - stpipe - INFO - Using WCSLIB-based coordinate transformation...\n",
      "2025-05-09 09:54:20,750 - stpipe - INFO - stepsize = 10\n",
      "2025-05-09 09:54:20,773 - stpipe - INFO - -Drizzling using kernel = turbo\n",
      "\n",
      "2025-05-09 09:54:20,775 - stpipe - INFO - -Drizzling using kernel = turbo\n",
      "\n",
      "2025-05-09 09:54:20,776 - stpipe - INFO - -Drizzling using kernel = turbo\n",
      "\n",
      "2025-05-09 09:54:20,784 - stpipe - INFO - -Drizzling using kernel = turbo\n",
      "\n",
      "2025-05-09 09:54:21,445 - stpipe - INFO - -Generating simple FITS output: /Users/avapolzin/Desktop/psf_testoutputs/acs/j8pu42ecq_flc_150d08m15.267s+2d09m52.304s_F475W_topsf_single_sci.fits\n"
     ]
    },
    {
     "name": "stdout",
     "output_type": "stream",
     "text": [
      "-Generating simple FITS output: /Users/avapolzin/Desktop/psf_testoutputs/acs/j8pu42ecq_flc_150d08m15.267s+2d09m52.304s_F475W_topsf_single_sci.fits\n"
     ]
    },
    {
     "name": "stderr",
     "output_type": "stream",
     "text": [
      "2025-05-09 09:54:21,450 - stpipe - INFO - -Generating simple FITS output: /Users/avapolzin/Desktop/psf_testoutputs/acs/j8pu42esq_flc_150d08m15.267s+2d09m52.304s_F475W_topsf_single_sci.fits\n",
      "2025-05-09 09:54:21,451 - stpipe - INFO - -Generating simple FITS output: /Users/avapolzin/Desktop/psf_testoutputs/acs/j8pu42egq_flc_150d08m15.267s+2d09m52.304s_F475W_topsf_single_sci.fits\n"
     ]
    },
    {
     "name": "stdout",
     "output_type": "stream",
     "text": [
      "-Generating simple FITS output: /Users/avapolzin/Desktop/psf_testoutputs/acs/j8pu42esq_flc_150d08m15.267s+2d09m52.304s_F475W_topsf_single_sci.fits\n",
      "-Generating simple FITS output: /Users/avapolzin/Desktop/psf_testoutputs/acs/j8pu42egq_flc_150d08m15.267s+2d09m52.304s_F475W_topsf_single_sci.fits\n"
     ]
    },
    {
     "name": "stderr",
     "output_type": "stream",
     "text": [
      "2025-05-09 09:54:21,464 - stpipe - INFO - -Generating simple FITS output: /Users/avapolzin/Desktop/psf_testoutputs/acs/j8pu42evq_flc_150d08m15.267s+2d09m52.304s_F475W_topsf_single_sci.fits\n"
     ]
    },
    {
     "name": "stdout",
     "output_type": "stream",
     "text": [
      "-Generating simple FITS output: /Users/avapolzin/Desktop/psf_testoutputs/acs/j8pu42evq_flc_150d08m15.267s+2d09m52.304s_F475W_topsf_single_sci.fits\n"
     ]
    },
    {
     "name": "stderr",
     "output_type": "stream",
     "text": [
      "2025-05-09 09:54:21,466 - stpipe - WARNING - /Users/avapolzin/opt/anaconda3/envs/spike/lib/python3.10/site-packages/astropy/io/fits/card.py:1036: VerifyWarning: Card is too long, comment will be truncated.\n",
      "\n",
      "2025-05-09 09:54:21,473 - stpipe - WARNING - /Users/avapolzin/opt/anaconda3/envs/spike/lib/python3.10/site-packages/astropy/io/fits/card.py:1036: VerifyWarning: Card is too long, comment will be truncated.\n",
      "\n",
      "2025-05-09 09:54:21,474 - stpipe - WARNING - /Users/avapolzin/opt/anaconda3/envs/spike/lib/python3.10/site-packages/astropy/io/fits/card.py:1036: VerifyWarning: Card is too long, comment will be truncated.\n",
      "\n",
      "2025-05-09 09:54:21,487 - stpipe - WARNING - /Users/avapolzin/opt/anaconda3/envs/spike/lib/python3.10/site-packages/astropy/io/fits/card.py:1036: VerifyWarning: Card is too long, comment will be truncated.\n",
      "\n",
      "2025-05-09 09:54:21,512 - stpipe - INFO - Writing out image to disk: /Users/avapolzin/Desktop/psf_testoutputs/acs/j8pu42ecq_flc_150d08m15.267s+2d09m52.304s_F475W_topsf_single_sci.fits\n"
     ]
    },
    {
     "name": "stdout",
     "output_type": "stream",
     "text": [
      "Writing out image to disk: /Users/avapolzin/Desktop/psf_testoutputs/acs/j8pu42ecq_flc_150d08m15.267s+2d09m52.304s_F475W_topsf_single_sci.fits\n"
     ]
    },
    {
     "name": "stderr",
     "output_type": "stream",
     "text": [
      "2025-05-09 09:54:21,518 - stpipe - INFO - Writing out image to disk: /Users/avapolzin/Desktop/psf_testoutputs/acs/j8pu42esq_flc_150d08m15.267s+2d09m52.304s_F475W_topsf_single_sci.fits\n",
      "2025-05-09 09:54:21,519 - stpipe - INFO - Writing out image to disk: /Users/avapolzin/Desktop/psf_testoutputs/acs/j8pu42egq_flc_150d08m15.267s+2d09m52.304s_F475W_topsf_single_sci.fits\n"
     ]
    },
    {
     "name": "stdout",
     "output_type": "stream",
     "text": [
      "Writing out image to disk: /Users/avapolzin/Desktop/psf_testoutputs/acs/j8pu42esq_flc_150d08m15.267s+2d09m52.304s_F475W_topsf_single_sci.fits\n",
      "Writing out image to disk: /Users/avapolzin/Desktop/psf_testoutputs/acs/j8pu42egq_flc_150d08m15.267s+2d09m52.304s_F475W_topsf_single_sci.fits\n"
     ]
    },
    {
     "name": "stderr",
     "output_type": "stream",
     "text": [
      "2025-05-09 09:54:21,532 - stpipe - INFO - Writing out image to disk: /Users/avapolzin/Desktop/psf_testoutputs/acs/j8pu42evq_flc_150d08m15.267s+2d09m52.304s_F475W_topsf_single_sci.fits\n"
     ]
    },
    {
     "name": "stdout",
     "output_type": "stream",
     "text": [
      "Writing out image to disk: /Users/avapolzin/Desktop/psf_testoutputs/acs/j8pu42evq_flc_150d08m15.267s+2d09m52.304s_F475W_topsf_single_sci.fits\n"
     ]
    },
    {
     "name": "stderr",
     "output_type": "stream",
     "text": [
      "2025-05-09 09:54:21,651 - stpipe - INFO - Writing out image to disk: /Users/avapolzin/Desktop/psf_testoutputs/acs/j8pu42egq_flc_150d08m15.267s+2d09m52.304s_F475W_topsf_single_wht.fits\n",
      "2025-05-09 09:54:21,651 - stpipe - INFO - Writing out image to disk: /Users/avapolzin/Desktop/psf_testoutputs/acs/j8pu42ecq_flc_150d08m15.267s+2d09m52.304s_F475W_topsf_single_wht.fits\n",
      "2025-05-09 09:54:21,652 - stpipe - INFO - Writing out image to disk: /Users/avapolzin/Desktop/psf_testoutputs/acs/j8pu42esq_flc_150d08m15.267s+2d09m52.304s_F475W_topsf_single_wht.fits\n"
     ]
    },
    {
     "name": "stdout",
     "output_type": "stream",
     "text": [
      "Writing out image to disk: /Users/avapolzin/Desktop/psf_testoutputs/acs/j8pu42ecq_flc_150d08m15.267s+2d09m52.304s_F475W_topsf_single_wht.fits\n",
      "Writing out image to disk: /Users/avapolzin/Desktop/psf_testoutputs/acs/j8pu42egq_flc_150d08m15.267s+2d09m52.304s_F475W_topsf_single_wht.fits\n",
      "Writing out image to disk: /Users/avapolzin/Desktop/psf_testoutputs/acs/j8pu42esq_flc_150d08m15.267s+2d09m52.304s_F475W_topsf_single_wht.fits\n"
     ]
    },
    {
     "name": "stderr",
     "output_type": "stream",
     "text": [
      "2025-05-09 09:54:21,702 - stpipe - INFO - Writing out image to disk: /Users/avapolzin/Desktop/psf_testoutputs/acs/j8pu42evq_flc_150d08m15.267s+2d09m52.304s_F475W_topsf_single_wht.fits\n"
     ]
    },
    {
     "name": "stdout",
     "output_type": "stream",
     "text": [
      "Writing out image to disk: /Users/avapolzin/Desktop/psf_testoutputs/acs/j8pu42evq_flc_150d08m15.267s+2d09m52.304s_F475W_topsf_single_wht.fits\n"
     ]
    },
    {
     "name": "stderr",
     "output_type": "stream",
     "text": [
      "2025-05-09 09:54:21,947 - stpipe - INFO - ==== Processing Step Separate Drizzle finished at 09:54:21.946 (09/05/2025)\n"
     ]
    },
    {
     "name": "stdout",
     "output_type": "stream",
     "text": [
      "==== Processing Step Separate Drizzle finished at 09:54:21.946 (09/05/2025)\n"
     ]
    },
    {
     "name": "stderr",
     "output_type": "stream",
     "text": [
      "2025-05-09 09:54:21,950 - stpipe - INFO - ==== Processing Step  Create Median  started at  09:54:21.95 (09/05/2025)\n"
     ]
    },
    {
     "name": "stdout",
     "output_type": "stream",
     "text": [
      "==== Processing Step  Create Median  started at  09:54:21.95 (09/05/2025)\n"
     ]
    },
    {
     "name": "stderr",
     "output_type": "stream",
     "text": [
      "2025-05-09 09:54:21,954 - stpipe - INFO - \n"
     ]
    },
    {
     "name": "stdout",
     "output_type": "stream",
     "text": [
      "\n"
     ]
    },
    {
     "name": "stderr",
     "output_type": "stream",
     "text": [
      "2025-05-09 09:54:21,956 - stpipe - INFO - USER INPUT PARAMETERS for Create Median Step:\n",
      "2025-05-09 09:54:21,957 - stpipe - INFO - \tcombine_bufsize :\tNone\n",
      "2025-05-09 09:54:21,958 - stpipe - INFO - \tcombine_grow :\t1\n",
      "2025-05-09 09:54:21,959 - stpipe - INFO - \tcombine_hthresh :\tNone\n",
      "2025-05-09 09:54:21,959 - stpipe - INFO - \tcombine_lthresh :\tNone\n",
      "2025-05-09 09:54:21,960 - stpipe - INFO - \tcombine_maskpt :\t0.3\n",
      "2025-05-09 09:54:21,960 - stpipe - INFO - \tcombine_nhigh :\t0\n",
      "2025-05-09 09:54:21,961 - stpipe - INFO - \tcombine_nlow :\t0\n",
      "2025-05-09 09:54:21,962 - stpipe - INFO - \tcombine_nsigma :\t4 3\n",
      "2025-05-09 09:54:21,963 - stpipe - INFO - \tcombine_type :\timedian\n",
      "2025-05-09 09:54:21,964 - stpipe - INFO - \tcompress :\tFalse\n",
      "2025-05-09 09:54:21,965 - stpipe - INFO - \tmedian :\tTrue\n",
      "2025-05-09 09:54:21,966 - stpipe - INFO - \tmedian_newmasks :\tTrue\n",
      "2025-05-09 09:54:21,966 - stpipe - INFO - \tproc_unit :\tnative\n",
      "2025-05-09 09:54:22,059 - stpipe - INFO - reference sky value for image '/Users/avapolzin/Desktop/psf_testoutputs/acs/j8pu42ecq_flc_150d08m15.267s+2d09m52.304s_F475W_topsf.fits' is 0.0\n"
     ]
    },
    {
     "name": "stdout",
     "output_type": "stream",
     "text": [
      "reference sky value for image '/Users/avapolzin/Desktop/psf_testoutputs/acs/j8pu42ecq_flc_150d08m15.267s+2d09m52.304s_F475W_topsf.fits' is 0.0\n"
     ]
    },
    {
     "name": "stderr",
     "output_type": "stream",
     "text": [
      "2025-05-09 09:54:22,153 - stpipe - INFO - reference sky value for image '/Users/avapolzin/Desktop/psf_testoutputs/acs/j8pu42egq_flc_150d08m15.267s+2d09m52.304s_F475W_topsf.fits' is 0.0\n"
     ]
    },
    {
     "name": "stdout",
     "output_type": "stream",
     "text": [
      "reference sky value for image '/Users/avapolzin/Desktop/psf_testoutputs/acs/j8pu42egq_flc_150d08m15.267s+2d09m52.304s_F475W_topsf.fits' is 0.0\n"
     ]
    },
    {
     "name": "stderr",
     "output_type": "stream",
     "text": [
      "2025-05-09 09:54:22,267 - stpipe - INFO - reference sky value for image '/Users/avapolzin/Desktop/psf_testoutputs/acs/j8pu42esq_flc_150d08m15.267s+2d09m52.304s_F475W_topsf.fits' is 0.0\n"
     ]
    },
    {
     "name": "stdout",
     "output_type": "stream",
     "text": [
      "reference sky value for image '/Users/avapolzin/Desktop/psf_testoutputs/acs/j8pu42esq_flc_150d08m15.267s+2d09m52.304s_F475W_topsf.fits' is 0.0\n"
     ]
    },
    {
     "name": "stderr",
     "output_type": "stream",
     "text": [
      "2025-05-09 09:54:22,343 - stpipe - INFO - reference sky value for image '/Users/avapolzin/Desktop/psf_testoutputs/acs/j8pu42evq_flc_150d08m15.267s+2d09m52.304s_F475W_topsf.fits' is 0.0\n"
     ]
    },
    {
     "name": "stdout",
     "output_type": "stream",
     "text": [
      "reference sky value for image '/Users/avapolzin/Desktop/psf_testoutputs/acs/j8pu42evq_flc_150d08m15.267s+2d09m52.304s_F475W_topsf.fits' is 0.0\n"
     ]
    },
    {
     "name": "stderr",
     "output_type": "stream",
     "text": [
      "2025-05-09 09:54:23,905 - stpipe - INFO - Saving output median image to: '/Users/avapolzin/Desktop/psf_testoutputs/acs/150d08m15.267s+2d09m52.304s_F475W_psf_med.fits'\n"
     ]
    },
    {
     "name": "stdout",
     "output_type": "stream",
     "text": [
      "Saving output median image to: '/Users/avapolzin/Desktop/psf_testoutputs/acs/150d08m15.267s+2d09m52.304s_F475W_psf_med.fits'\n"
     ]
    },
    {
     "name": "stderr",
     "output_type": "stream",
     "text": [
      "2025-05-09 09:54:24,477 - stpipe - INFO - ==== Processing Step Create Median finished at 09:54:24.477 (09/05/2025)\n"
     ]
    },
    {
     "name": "stdout",
     "output_type": "stream",
     "text": [
      "==== Processing Step Create Median finished at 09:54:24.477 (09/05/2025)\n"
     ]
    },
    {
     "name": "stderr",
     "output_type": "stream",
     "text": [
      "2025-05-09 09:54:24,479 - stpipe - INFO - ==== Processing Step  Blot  started at  09:54:24.479 (09/05/2025)\n"
     ]
    },
    {
     "name": "stdout",
     "output_type": "stream",
     "text": [
      "==== Processing Step  Blot  started at  09:54:24.479 (09/05/2025)\n"
     ]
    },
    {
     "name": "stderr",
     "output_type": "stream",
     "text": [
      "2025-05-09 09:54:24,480 - stpipe - INFO - \n"
     ]
    },
    {
     "name": "stdout",
     "output_type": "stream",
     "text": [
      "\n"
     ]
    },
    {
     "name": "stderr",
     "output_type": "stream",
     "text": [
      "2025-05-09 09:54:24,482 - stpipe - INFO - USER INPUT PARAMETERS for Blot Step:\n",
      "2025-05-09 09:54:24,483 - stpipe - INFO - \tblot_addsky :\tTrue\n",
      "2025-05-09 09:54:24,483 - stpipe - INFO - \tblot_interp :\tpoly5\n",
      "2025-05-09 09:54:24,484 - stpipe - INFO - \tblot_sinscl :\t1.0\n",
      "2025-05-09 09:54:24,485 - stpipe - INFO - \tblot_skyval :\t0.0\n",
      "2025-05-09 09:54:24,485 - stpipe - INFO - \tcoeffs :\tTrue\n",
      "2025-05-09 09:54:24,486 - stpipe - INFO -     Blot: creating blotted image:  /Users/avapolzin/Desktop/psf_testoutputs/acs/j8pu42ecq_flc_150d08m15.267s+2d09m52.304s_F475W_topsf.fits[sci,1]\n"
     ]
    },
    {
     "name": "stdout",
     "output_type": "stream",
     "text": [
      "    Blot: creating blotted image:  /Users/avapolzin/Desktop/psf_testoutputs/acs/j8pu42ecq_flc_150d08m15.267s+2d09m52.304s_F475W_topsf.fits[sci,1]\n"
     ]
    },
    {
     "name": "stderr",
     "output_type": "stream",
     "text": [
      "2025-05-09 09:54:24,552 - stpipe - INFO - Using default C-based coordinate transformation...\n"
     ]
    },
    {
     "name": "stdout",
     "output_type": "stream",
     "text": [
      "Using default C-based coordinate transformation...\n"
     ]
    },
    {
     "name": "stderr",
     "output_type": "stream",
     "text": [
      "2025-05-09 09:54:25,368 - stpipe - INFO - Applying sky value of 0.000000 to blotted image /Users/avapolzin/Desktop/psf_testoutputs/acs/j8pu42ecq_flc_150d08m15.267s+2d09m52.304s_F475W_topsf.fits[sci,1]\n",
      "2025-05-09 09:54:25,410 - stpipe - INFO - -Generating simple FITS output: /Users/avapolzin/Desktop/psf_testoutputs/acs/j8pu42ecq_flc_150d08m15.267s+2d09m52.304s_F475W_topsf_sci1_blt.fits\n"
     ]
    },
    {
     "name": "stdout",
     "output_type": "stream",
     "text": [
      "-Generating simple FITS output: /Users/avapolzin/Desktop/psf_testoutputs/acs/j8pu42ecq_flc_150d08m15.267s+2d09m52.304s_F475W_topsf_sci1_blt.fits\n"
     ]
    },
    {
     "name": "stderr",
     "output_type": "stream",
     "text": [
      "2025-05-09 09:54:25,426 - stpipe - INFO - Writing out image to disk: /Users/avapolzin/Desktop/psf_testoutputs/acs/j8pu42ecq_flc_150d08m15.267s+2d09m52.304s_F475W_topsf_sci1_blt.fits\n"
     ]
    },
    {
     "name": "stdout",
     "output_type": "stream",
     "text": [
      "Writing out image to disk: /Users/avapolzin/Desktop/psf_testoutputs/acs/j8pu42ecq_flc_150d08m15.267s+2d09m52.304s_F475W_topsf_sci1_blt.fits\n"
     ]
    },
    {
     "name": "stderr",
     "output_type": "stream",
     "text": [
      "2025-05-09 09:54:25,486 - stpipe - INFO -     Blot: creating blotted image:  /Users/avapolzin/Desktop/psf_testoutputs/acs/j8pu42egq_flc_150d08m15.267s+2d09m52.304s_F475W_topsf.fits[sci,1]\n"
     ]
    },
    {
     "name": "stdout",
     "output_type": "stream",
     "text": [
      "    Blot: creating blotted image:  /Users/avapolzin/Desktop/psf_testoutputs/acs/j8pu42egq_flc_150d08m15.267s+2d09m52.304s_F475W_topsf.fits[sci,1]\n"
     ]
    },
    {
     "name": "stderr",
     "output_type": "stream",
     "text": [
      "2025-05-09 09:54:25,526 - stpipe - INFO - Using default C-based coordinate transformation...\n"
     ]
    },
    {
     "name": "stdout",
     "output_type": "stream",
     "text": [
      "Using default C-based coordinate transformation...\n"
     ]
    },
    {
     "name": "stderr",
     "output_type": "stream",
     "text": [
      "2025-05-09 09:54:26,321 - stpipe - INFO - Applying sky value of 0.000000 to blotted image /Users/avapolzin/Desktop/psf_testoutputs/acs/j8pu42egq_flc_150d08m15.267s+2d09m52.304s_F475W_topsf.fits[sci,1]\n",
      "2025-05-09 09:54:26,362 - stpipe - INFO - -Generating simple FITS output: /Users/avapolzin/Desktop/psf_testoutputs/acs/j8pu42egq_flc_150d08m15.267s+2d09m52.304s_F475W_topsf_sci1_blt.fits\n"
     ]
    },
    {
     "name": "stdout",
     "output_type": "stream",
     "text": [
      "-Generating simple FITS output: /Users/avapolzin/Desktop/psf_testoutputs/acs/j8pu42egq_flc_150d08m15.267s+2d09m52.304s_F475W_topsf_sci1_blt.fits\n"
     ]
    },
    {
     "name": "stderr",
     "output_type": "stream",
     "text": [
      "2025-05-09 09:54:26,378 - stpipe - INFO - Writing out image to disk: /Users/avapolzin/Desktop/psf_testoutputs/acs/j8pu42egq_flc_150d08m15.267s+2d09m52.304s_F475W_topsf_sci1_blt.fits\n"
     ]
    },
    {
     "name": "stdout",
     "output_type": "stream",
     "text": [
      "Writing out image to disk: /Users/avapolzin/Desktop/psf_testoutputs/acs/j8pu42egq_flc_150d08m15.267s+2d09m52.304s_F475W_topsf_sci1_blt.fits\n"
     ]
    },
    {
     "name": "stderr",
     "output_type": "stream",
     "text": [
      "2025-05-09 09:54:26,435 - stpipe - INFO -     Blot: creating blotted image:  /Users/avapolzin/Desktop/psf_testoutputs/acs/j8pu42esq_flc_150d08m15.267s+2d09m52.304s_F475W_topsf.fits[sci,1]\n"
     ]
    },
    {
     "name": "stdout",
     "output_type": "stream",
     "text": [
      "    Blot: creating blotted image:  /Users/avapolzin/Desktop/psf_testoutputs/acs/j8pu42esq_flc_150d08m15.267s+2d09m52.304s_F475W_topsf.fits[sci,1]\n"
     ]
    },
    {
     "name": "stderr",
     "output_type": "stream",
     "text": [
      "2025-05-09 09:54:26,468 - stpipe - INFO - Using default C-based coordinate transformation...\n"
     ]
    },
    {
     "name": "stdout",
     "output_type": "stream",
     "text": [
      "Using default C-based coordinate transformation...\n"
     ]
    },
    {
     "name": "stderr",
     "output_type": "stream",
     "text": [
      "2025-05-09 09:54:27,250 - stpipe - INFO - Applying sky value of 0.000000 to blotted image /Users/avapolzin/Desktop/psf_testoutputs/acs/j8pu42esq_flc_150d08m15.267s+2d09m52.304s_F475W_topsf.fits[sci,1]\n",
      "2025-05-09 09:54:27,290 - stpipe - INFO - -Generating simple FITS output: /Users/avapolzin/Desktop/psf_testoutputs/acs/j8pu42esq_flc_150d08m15.267s+2d09m52.304s_F475W_topsf_sci1_blt.fits\n"
     ]
    },
    {
     "name": "stdout",
     "output_type": "stream",
     "text": [
      "-Generating simple FITS output: /Users/avapolzin/Desktop/psf_testoutputs/acs/j8pu42esq_flc_150d08m15.267s+2d09m52.304s_F475W_topsf_sci1_blt.fits\n"
     ]
    },
    {
     "name": "stderr",
     "output_type": "stream",
     "text": [
      "2025-05-09 09:54:27,306 - stpipe - INFO - Writing out image to disk: /Users/avapolzin/Desktop/psf_testoutputs/acs/j8pu42esq_flc_150d08m15.267s+2d09m52.304s_F475W_topsf_sci1_blt.fits\n"
     ]
    },
    {
     "name": "stdout",
     "output_type": "stream",
     "text": [
      "Writing out image to disk: /Users/avapolzin/Desktop/psf_testoutputs/acs/j8pu42esq_flc_150d08m15.267s+2d09m52.304s_F475W_topsf_sci1_blt.fits\n"
     ]
    },
    {
     "name": "stderr",
     "output_type": "stream",
     "text": [
      "2025-05-09 09:54:27,362 - stpipe - INFO -     Blot: creating blotted image:  /Users/avapolzin/Desktop/psf_testoutputs/acs/j8pu42evq_flc_150d08m15.267s+2d09m52.304s_F475W_topsf.fits[sci,1]\n"
     ]
    },
    {
     "name": "stdout",
     "output_type": "stream",
     "text": [
      "    Blot: creating blotted image:  /Users/avapolzin/Desktop/psf_testoutputs/acs/j8pu42evq_flc_150d08m15.267s+2d09m52.304s_F475W_topsf.fits[sci,1]\n"
     ]
    },
    {
     "name": "stderr",
     "output_type": "stream",
     "text": [
      "2025-05-09 09:54:27,395 - stpipe - INFO - Using default C-based coordinate transformation...\n"
     ]
    },
    {
     "name": "stdout",
     "output_type": "stream",
     "text": [
      "Using default C-based coordinate transformation...\n"
     ]
    },
    {
     "name": "stderr",
     "output_type": "stream",
     "text": [
      "2025-05-09 09:54:28,174 - stpipe - INFO - Applying sky value of 0.000000 to blotted image /Users/avapolzin/Desktop/psf_testoutputs/acs/j8pu42evq_flc_150d08m15.267s+2d09m52.304s_F475W_topsf.fits[sci,1]\n",
      "2025-05-09 09:54:28,213 - stpipe - INFO - -Generating simple FITS output: /Users/avapolzin/Desktop/psf_testoutputs/acs/j8pu42evq_flc_150d08m15.267s+2d09m52.304s_F475W_topsf_sci1_blt.fits\n"
     ]
    },
    {
     "name": "stdout",
     "output_type": "stream",
     "text": [
      "-Generating simple FITS output: /Users/avapolzin/Desktop/psf_testoutputs/acs/j8pu42evq_flc_150d08m15.267s+2d09m52.304s_F475W_topsf_sci1_blt.fits\n"
     ]
    },
    {
     "name": "stderr",
     "output_type": "stream",
     "text": [
      "2025-05-09 09:54:28,229 - stpipe - INFO - Writing out image to disk: /Users/avapolzin/Desktop/psf_testoutputs/acs/j8pu42evq_flc_150d08m15.267s+2d09m52.304s_F475W_topsf_sci1_blt.fits\n"
     ]
    },
    {
     "name": "stdout",
     "output_type": "stream",
     "text": [
      "Writing out image to disk: /Users/avapolzin/Desktop/psf_testoutputs/acs/j8pu42evq_flc_150d08m15.267s+2d09m52.304s_F475W_topsf_sci1_blt.fits\n"
     ]
    },
    {
     "name": "stderr",
     "output_type": "stream",
     "text": [
      "2025-05-09 09:54:28,280 - stpipe - INFO - ==== Processing Step Blot finished at 09:54:28.28 (09/05/2025)\n"
     ]
    },
    {
     "name": "stdout",
     "output_type": "stream",
     "text": [
      "==== Processing Step Blot finished at 09:54:28.28 (09/05/2025)\n"
     ]
    },
    {
     "name": "stderr",
     "output_type": "stream",
     "text": [
      "2025-05-09 09:54:28,282 - stpipe - INFO - ==== Processing Step  Driz_CR  started at  09:54:28.282 (09/05/2025)\n"
     ]
    },
    {
     "name": "stdout",
     "output_type": "stream",
     "text": [
      "==== Processing Step  Driz_CR  started at  09:54:28.282 (09/05/2025)\n"
     ]
    },
    {
     "name": "stderr",
     "output_type": "stream",
     "text": [
      "2025-05-09 09:54:28,283 - stpipe - INFO - \n"
     ]
    },
    {
     "name": "stdout",
     "output_type": "stream",
     "text": [
      "\n"
     ]
    },
    {
     "name": "stderr",
     "output_type": "stream",
     "text": [
      "2025-05-09 09:54:28,285 - stpipe - INFO - USER INPUT PARAMETERS for Driz_CR Step:\n",
      "2025-05-09 09:54:28,285 - stpipe - INFO - \tcrbit :\t4096\n",
      "2025-05-09 09:54:28,286 - stpipe - INFO - \tdriz_cr :\tTrue\n",
      "2025-05-09 09:54:28,287 - stpipe - INFO - \tdriz_cr_corr :\tFalse\n",
      "2025-05-09 09:54:28,287 - stpipe - INFO - \tdriz_cr_ctegrow :\t0\n",
      "2025-05-09 09:54:28,288 - stpipe - INFO - \tdriz_cr_grow :\t1\n",
      "2025-05-09 09:54:28,289 - stpipe - INFO - \tdriz_cr_scale :\t1.2 0.7\n",
      "2025-05-09 09:54:28,289 - stpipe - INFO - \tdriz_cr_snr :\t3.5 3.0\n",
      "2025-05-09 09:54:28,290 - stpipe - INFO - \tinmemory :\tFalse\n",
      "2025-05-09 09:54:28,291 - stpipe - INFO - Executing 4 parallel workers\n",
      "2025-05-09 09:54:29,890 - stpipe - INFO - Creating output: /Users/avapolzin/Desktop/psf_testoutputs/acs/j8pu42esq_flc_150d08m15.267s+2d09m52.304s_F475W_topsf_sci1_crmask.fits\n"
     ]
    },
    {
     "name": "stdout",
     "output_type": "stream",
     "text": [
      "Creating output: /Users/avapolzin/Desktop/psf_testoutputs/acs/j8pu42esq_flc_150d08m15.267s+2d09m52.304s_F475W_topsf_sci1_crmask.fits\n"
     ]
    },
    {
     "name": "stderr",
     "output_type": "stream",
     "text": [
      "2025-05-09 09:54:29,918 - stpipe - INFO - Creating output: /Users/avapolzin/Desktop/psf_testoutputs/acs/j8pu42egq_flc_150d08m15.267s+2d09m52.304s_F475W_topsf_sci1_crmask.fits\n"
     ]
    },
    {
     "name": "stdout",
     "output_type": "stream",
     "text": [
      "Creating output: /Users/avapolzin/Desktop/psf_testoutputs/acs/j8pu42egq_flc_150d08m15.267s+2d09m52.304s_F475W_topsf_sci1_crmask.fits\n"
     ]
    },
    {
     "name": "stderr",
     "output_type": "stream",
     "text": [
      "2025-05-09 09:54:29,950 - stpipe - INFO - Creating output: /Users/avapolzin/Desktop/psf_testoutputs/acs/j8pu42ecq_flc_150d08m15.267s+2d09m52.304s_F475W_topsf_sci1_crmask.fits\n"
     ]
    },
    {
     "name": "stdout",
     "output_type": "stream",
     "text": [
      "Creating output: /Users/avapolzin/Desktop/psf_testoutputs/acs/j8pu42ecq_flc_150d08m15.267s+2d09m52.304s_F475W_topsf_sci1_crmask.fits\n"
     ]
    },
    {
     "name": "stderr",
     "output_type": "stream",
     "text": [
      "2025-05-09 09:54:29,972 - stpipe - INFO - Creating output: /Users/avapolzin/Desktop/psf_testoutputs/acs/j8pu42evq_flc_150d08m15.267s+2d09m52.304s_F475W_topsf_sci1_crmask.fits\n"
     ]
    },
    {
     "name": "stdout",
     "output_type": "stream",
     "text": [
      "Creating output: /Users/avapolzin/Desktop/psf_testoutputs/acs/j8pu42evq_flc_150d08m15.267s+2d09m52.304s_F475W_topsf_sci1_crmask.fits\n"
     ]
    },
    {
     "name": "stderr",
     "output_type": "stream",
     "text": [
      "2025-05-09 09:54:30,031 - stpipe - INFO - ==== Processing Step Driz_CR finished at 09:54:30.030 (09/05/2025)\n"
     ]
    },
    {
     "name": "stdout",
     "output_type": "stream",
     "text": [
      "==== Processing Step Driz_CR finished at 09:54:30.030 (09/05/2025)\n"
     ]
    },
    {
     "name": "stderr",
     "output_type": "stream",
     "text": [
      "2025-05-09 09:54:30,041 - stpipe - INFO - ==== Processing Step  Final Drizzle  started at  09:54:30.040 (09/05/2025)\n"
     ]
    },
    {
     "name": "stdout",
     "output_type": "stream",
     "text": [
      "==== Processing Step  Final Drizzle  started at  09:54:30.040 (09/05/2025)\n"
     ]
    },
    {
     "name": "stderr",
     "output_type": "stream",
     "text": [
      "2025-05-09 09:54:30,042 - stpipe - INFO - \n"
     ]
    },
    {
     "name": "stdout",
     "output_type": "stream",
     "text": [
      "\n"
     ]
    },
    {
     "name": "stderr",
     "output_type": "stream",
     "text": [
      "2025-05-09 09:54:30,044 - stpipe - INFO - Interpreted paramDict with single=False as:\n",
      "{'build': True, 'stepsize': 10, 'coeffs': True, 'wcskey': '', 'wht_type': 'EXP', 'kernel': 'square', 'wt_scl': 'exptime', 'pixfrac': 0.8, 'fillval': None, 'maskval': None, 'bits': 0, 'units': 'cps'}\n",
      "2025-05-09 09:54:30,044 - stpipe - INFO - USER INPUT PARAMETERS for Final Drizzle Step:\n",
      "2025-05-09 09:54:30,045 - stpipe - INFO - \tbits :\t0\n",
      "2025-05-09 09:54:30,045 - stpipe - INFO - \tbuild :\tTrue\n",
      "2025-05-09 09:54:30,046 - stpipe - INFO - \tclean :\tFalse\n",
      "2025-05-09 09:54:30,046 - stpipe - INFO - \tcoeffs :\tTrue\n",
      "2025-05-09 09:54:30,047 - stpipe - INFO - \tcrbit :\t4096\n",
      "2025-05-09 09:54:30,048 - stpipe - INFO - \tfillval :\tNone\n",
      "2025-05-09 09:54:30,049 - stpipe - INFO - \tkernel :\tsquare\n",
      "2025-05-09 09:54:30,050 - stpipe - INFO - \tlogfile :\tastrodrizzle.log\n",
      "2025-05-09 09:54:30,051 - stpipe - INFO - \tmaskval :\tNone\n",
      "2025-05-09 09:54:30,051 - stpipe - INFO - \tpixfrac :\t0.8\n",
      "2025-05-09 09:54:30,052 - stpipe - INFO - \tproc_unit :\tnative\n",
      "2025-05-09 09:54:30,053 - stpipe - INFO - \trules_file :\tNone\n",
      "2025-05-09 09:54:30,054 - stpipe - INFO - \tstepsize :\t10\n",
      "2025-05-09 09:54:30,054 - stpipe - INFO - \tunits :\tcps\n",
      "2025-05-09 09:54:30,055 - stpipe - INFO - \twcskey :\t\n",
      "2025-05-09 09:54:30,056 - stpipe - INFO - \twht_type :\tEXP\n",
      "2025-05-09 09:54:30,056 - stpipe - INFO - \twt_scl :\texptime\n",
      "2025-05-09 09:54:30,057 - stpipe - INFO -   **Using sub-sampling value of 10 for kernel square\n",
      "2025-05-09 09:54:30,062 - stpipe - INFO - Running Drizzle to create output frame with WCS of: \n",
      "2025-05-09 09:54:30,077 - stpipe - INFO - WCS Keywords\n"
     ]
    },
    {
     "name": "stdout",
     "output_type": "stream",
     "text": [
      "WCS Keywords\n"
     ]
    },
    {
     "name": "stderr",
     "output_type": "stream",
     "text": [
      "2025-05-09 09:54:30,084 - stpipe - INFO - \n"
     ]
    },
    {
     "name": "stdout",
     "output_type": "stream",
     "text": [
      "\n"
     ]
    },
    {
     "name": "stderr",
     "output_type": "stream",
     "text": [
      "2025-05-09 09:54:30,085 - stpipe - INFO - Number of WCS axes: 2\n"
     ]
    },
    {
     "name": "stdout",
     "output_type": "stream",
     "text": [
      "Number of WCS axes: 2\n"
     ]
    },
    {
     "name": "stderr",
     "output_type": "stream",
     "text": [
      "2025-05-09 09:54:30,086 - stpipe - INFO - CTYPE : 'RA---TAN' 'DEC--TAN' \n"
     ]
    },
    {
     "name": "stdout",
     "output_type": "stream",
     "text": [
      "CTYPE : 'RA---TAN' 'DEC--TAN' \n"
     ]
    },
    {
     "name": "stderr",
     "output_type": "stream",
     "text": [
      "2025-05-09 09:54:30,088 - stpipe - INFO - CRVAL : np.float64(150.1242636198465) np.float64(2.151761555110333) \n"
     ]
    },
    {
     "name": "stdout",
     "output_type": "stream",
     "text": [
      "CRVAL : np.float64(150.1242636198465) np.float64(2.151761555110333) \n"
     ]
    },
    {
     "name": "stderr",
     "output_type": "stream",
     "text": [
      "2025-05-09 09:54:30,091 - stpipe - INFO - CRPIX : np.float64(2081.0) np.float64(1179.5) \n"
     ]
    },
    {
     "name": "stdout",
     "output_type": "stream",
     "text": [
      "CRPIX : np.float64(2081.0) np.float64(1179.5) \n"
     ]
    },
    {
     "name": "stderr",
     "output_type": "stream",
     "text": [
      "2025-05-09 09:54:30,094 - stpipe - INFO - CD1_1 CD1_2  : np.float64(-2.4118726301966414e-06) np.float64(-1.3677869168244357e-05) \n"
     ]
    },
    {
     "name": "stdout",
     "output_type": "stream",
     "text": [
      "CD1_1 CD1_2  : np.float64(-2.4118726301966414e-06) np.float64(-1.3677869168244357e-05) \n"
     ]
    },
    {
     "name": "stderr",
     "output_type": "stream",
     "text": [
      "2025-05-09 09:54:30,095 - stpipe - INFO - CD2_1 CD2_2  : np.float64(-1.3677869168244357e-05) np.float64(2.4118726301966414e-06) \n"
     ]
    },
    {
     "name": "stdout",
     "output_type": "stream",
     "text": [
      "CD2_1 CD2_2  : np.float64(-1.3677869168244357e-05) np.float64(2.4118726301966414e-06) \n"
     ]
    },
    {
     "name": "stderr",
     "output_type": "stream",
     "text": [
      "2025-05-09 09:54:30,097 - stpipe - INFO - NAXIS : 4162  2359\n"
     ]
    },
    {
     "name": "stdout",
     "output_type": "stream",
     "text": [
      "NAXIS : 4162  2359\n"
     ]
    },
    {
     "name": "stderr",
     "output_type": "stream",
     "text": [
      "2025-05-09 09:54:30,132 - stpipe - INFO - -Drizzle input: /Users/avapolzin/Desktop/psf_testoutputs/acs/j8pu42ecq_flc_150d08m15.267s+2d09m52.304s_F475W_topsf.fits[sci,1]\n",
      "2025-05-09 09:54:30,148 - stpipe - INFO - Applying sky value of 0.000000 to /Users/avapolzin/Desktop/psf_testoutputs/acs/j8pu42ecq_flc_150d08m15.267s+2d09m52.304s_F475W_topsf.fits[sci,1]\n",
      "2025-05-09 09:54:30,267 - stpipe - INFO - Applying EXPTIME weighting to DQ mask for chip 1\n",
      "2025-05-09 09:54:30,354 - stpipe - INFO - Writing out mask file: /Users/avapolzin/Desktop/psf_testoutputs/acs/j8pu42ecq_flc_150d08m15.267s+2d09m52.304s_F475W_topsf_sci1_final_mask.fits\n",
      "2025-05-09 09:54:30,354 - stpipe - INFO - Using WCSLIB-based coordinate transformation...\n",
      "2025-05-09 09:54:30,355 - stpipe - INFO - stepsize = 10\n",
      "2025-05-09 09:54:30,383 - stpipe - INFO - -Drizzling using kernel = square\n",
      "\n",
      "2025-05-09 09:54:31,547 - stpipe - INFO - -Drizzle input: /Users/avapolzin/Desktop/psf_testoutputs/acs/j8pu42egq_flc_150d08m15.267s+2d09m52.304s_F475W_topsf.fits[sci,1]\n",
      "2025-05-09 09:54:31,574 - stpipe - INFO - Applying sky value of 0.000000 to /Users/avapolzin/Desktop/psf_testoutputs/acs/j8pu42egq_flc_150d08m15.267s+2d09m52.304s_F475W_topsf.fits[sci,1]\n",
      "2025-05-09 09:54:31,652 - stpipe - INFO - Applying EXPTIME weighting to DQ mask for chip 1\n",
      "2025-05-09 09:54:31,717 - stpipe - INFO - Writing out mask file: /Users/avapolzin/Desktop/psf_testoutputs/acs/j8pu42egq_flc_150d08m15.267s+2d09m52.304s_F475W_topsf_sci1_final_mask.fits\n",
      "2025-05-09 09:54:31,718 - stpipe - INFO - Using WCSLIB-based coordinate transformation...\n",
      "2025-05-09 09:54:31,718 - stpipe - INFO - stepsize = 10\n",
      "2025-05-09 09:54:31,746 - stpipe - INFO - -Drizzling using kernel = square\n",
      "\n",
      "2025-05-09 09:54:32,877 - stpipe - INFO - -Drizzle input: /Users/avapolzin/Desktop/psf_testoutputs/acs/j8pu42esq_flc_150d08m15.267s+2d09m52.304s_F475W_topsf.fits[sci,1]\n",
      "2025-05-09 09:54:32,892 - stpipe - INFO - Applying sky value of 0.000000 to /Users/avapolzin/Desktop/psf_testoutputs/acs/j8pu42esq_flc_150d08m15.267s+2d09m52.304s_F475W_topsf.fits[sci,1]\n",
      "2025-05-09 09:54:32,954 - stpipe - INFO - Applying EXPTIME weighting to DQ mask for chip 1\n",
      "2025-05-09 09:54:33,059 - stpipe - INFO - Writing out mask file: /Users/avapolzin/Desktop/psf_testoutputs/acs/j8pu42esq_flc_150d08m15.267s+2d09m52.304s_F475W_topsf_sci1_final_mask.fits\n",
      "2025-05-09 09:54:33,063 - stpipe - INFO - Using WCSLIB-based coordinate transformation...\n",
      "2025-05-09 09:54:33,063 - stpipe - INFO - stepsize = 10\n",
      "2025-05-09 09:54:33,089 - stpipe - INFO - -Drizzling using kernel = square\n",
      "\n",
      "2025-05-09 09:54:34,246 - stpipe - INFO - -Drizzle input: /Users/avapolzin/Desktop/psf_testoutputs/acs/j8pu42evq_flc_150d08m15.267s+2d09m52.304s_F475W_topsf.fits[sci,1]\n",
      "2025-05-09 09:54:34,261 - stpipe - INFO - Applying sky value of 0.000000 to /Users/avapolzin/Desktop/psf_testoutputs/acs/j8pu42evq_flc_150d08m15.267s+2d09m52.304s_F475W_topsf.fits[sci,1]\n",
      "2025-05-09 09:54:34,322 - stpipe - INFO - Applying EXPTIME weighting to DQ mask for chip 1\n",
      "2025-05-09 09:54:34,429 - stpipe - INFO - Writing out mask file: /Users/avapolzin/Desktop/psf_testoutputs/acs/j8pu42evq_flc_150d08m15.267s+2d09m52.304s_F475W_topsf_sci1_final_mask.fits\n",
      "2025-05-09 09:54:34,430 - stpipe - INFO - Using WCSLIB-based coordinate transformation...\n",
      "2025-05-09 09:54:34,431 - stpipe - INFO - stepsize = 10\n",
      "2025-05-09 09:54:34,457 - stpipe - INFO - -Drizzling using kernel = square\n",
      "\n",
      "2025-05-09 09:54:36,167 - stpipe - INFO - -Generating multi-extension output file:  /Users/avapolzin/Desktop/psf_testoutputs/acs/150d08m15.267s+2d09m52.304s_F475W_psf_drz.fits\n"
     ]
    },
    {
     "name": "stdout",
     "output_type": "stream",
     "text": [
      "-Generating multi-extension output file:  /Users/avapolzin/Desktop/psf_testoutputs/acs/150d08m15.267s+2d09m52.304s_F475W_psf_drz.fits\n"
     ]
    },
    {
     "name": "stderr",
     "output_type": "stream",
     "text": [
      "2025-05-09 09:54:36,182 - stpipe - INFO - Deleted all instances of WCS with key A in extensions [1]\n"
     ]
    },
    {
     "name": "stdout",
     "output_type": "stream",
     "text": [
      "Deleted all instances of WCS with key A in extensions [1]\n"
     ]
    },
    {
     "name": "stderr",
     "output_type": "stream",
     "text": [
      "2025-05-09 09:54:36,188 - stpipe - INFO - Writing out to disk: /Users/avapolzin/Desktop/psf_testoutputs/acs/150d08m15.267s+2d09m52.304s_F475W_psf_drz.fits\n"
     ]
    },
    {
     "name": "stdout",
     "output_type": "stream",
     "text": [
      "Writing out to disk: /Users/avapolzin/Desktop/psf_testoutputs/acs/150d08m15.267s+2d09m52.304s_F475W_psf_drz.fits\n"
     ]
    },
    {
     "name": "stderr",
     "output_type": "stream",
     "text": [
      "2025-05-09 09:54:36,193 - stpipe - WARNING - /Users/avapolzin/opt/anaconda3/envs/spike/lib/python3.10/site-packages/astropy/io/fits/card.py:1036: VerifyWarning: Card is too long, comment will be truncated.\n",
      "\n",
      "2025-05-09 09:54:36,443 - stpipe - INFO - ==== Processing Step Final Drizzle finished at 09:54:36.443 (09/05/2025)\n"
     ]
    },
    {
     "name": "stdout",
     "output_type": "stream",
     "text": [
      "==== Processing Step Final Drizzle finished at 09:54:36.443 (09/05/2025)\n"
     ]
    },
    {
     "name": "stderr",
     "output_type": "stream",
     "text": [
      "2025-05-09 09:54:36,445 - stpipe - INFO - \n"
     ]
    },
    {
     "name": "stdout",
     "output_type": "stream",
     "text": [
      "\n"
     ]
    },
    {
     "name": "stderr",
     "output_type": "stream",
     "text": [
      "2025-05-09 09:54:36,447 - stpipe - INFO - AstroDrizzle Version 3.7.1rc1.dev56+g7951b66 is finished processing at 09:54:36.446 (09/05/2025).\n"
     ]
    },
    {
     "name": "stdout",
     "output_type": "stream",
     "text": [
      "AstroDrizzle Version 3.7.1rc1.dev56+g7951b66 is finished processing at 09:54:36.446 (09/05/2025).\n"
     ]
    },
    {
     "name": "stderr",
     "output_type": "stream",
     "text": [
      "2025-05-09 09:54:36,448 - stpipe - INFO - \n"
     ]
    },
    {
     "name": "stdout",
     "output_type": "stream",
     "text": [
      "\n"
     ]
    },
    {
     "name": "stderr",
     "output_type": "stream",
     "text": [
      "2025-05-09 09:54:36,449 - stpipe - INFO - \n"
     ]
    },
    {
     "name": "stdout",
     "output_type": "stream",
     "text": [
      "\n"
     ]
    },
    {
     "name": "stderr",
     "output_type": "stream",
     "text": [
      "2025-05-09 09:54:36,450 - stpipe - INFO - \n"
     ]
    },
    {
     "name": "stdout",
     "output_type": "stream",
     "text": [
      "\n"
     ]
    },
    {
     "name": "stderr",
     "output_type": "stream",
     "text": [
      "2025-05-09 09:54:36,451 - stpipe - INFO -    --------------------          --------------------\n"
     ]
    },
    {
     "name": "stdout",
     "output_type": "stream",
     "text": [
      "   --------------------          --------------------\n"
     ]
    },
    {
     "name": "stderr",
     "output_type": "stream",
     "text": [
      "2025-05-09 09:54:36,452 - stpipe - INFO -                    Step          Elapsed time\n"
     ]
    },
    {
     "name": "stdout",
     "output_type": "stream",
     "text": [
      "                   Step          Elapsed time\n"
     ]
    },
    {
     "name": "stderr",
     "output_type": "stream",
     "text": [
      "2025-05-09 09:54:36,454 - stpipe - INFO -    --------------------          --------------------\n"
     ]
    },
    {
     "name": "stdout",
     "output_type": "stream",
     "text": [
      "   --------------------          --------------------\n"
     ]
    },
    {
     "name": "stderr",
     "output_type": "stream",
     "text": [
      "2025-05-09 09:54:36,455 - stpipe - INFO - \n"
     ]
    },
    {
     "name": "stdout",
     "output_type": "stream",
     "text": [
      "\n"
     ]
    },
    {
     "name": "stderr",
     "output_type": "stream",
     "text": [
      "2025-05-09 09:54:36,458 - stpipe - INFO -          Initialization          0.5570 sec.\n"
     ]
    },
    {
     "name": "stdout",
     "output_type": "stream",
     "text": [
      "         Initialization          0.5570 sec.\n"
     ]
    },
    {
     "name": "stderr",
     "output_type": "stream",
     "text": [
      "2025-05-09 09:54:36,484 - stpipe - INFO -             Static Mask          0.0079 sec.\n"
     ]
    },
    {
     "name": "stdout",
     "output_type": "stream",
     "text": [
      "            Static Mask          0.0079 sec.\n"
     ]
    },
    {
     "name": "stderr",
     "output_type": "stream",
     "text": [
      "2025-05-09 09:54:36,485 - stpipe - INFO -            Subtract Sky          1.5073 sec.\n"
     ]
    },
    {
     "name": "stdout",
     "output_type": "stream",
     "text": [
      "           Subtract Sky          1.5073 sec.\n"
     ]
    },
    {
     "name": "stderr",
     "output_type": "stream",
     "text": [
      "2025-05-09 09:54:36,487 - stpipe - INFO -        Separate Drizzle          1.6087 sec.\n"
     ]
    },
    {
     "name": "stdout",
     "output_type": "stream",
     "text": [
      "       Separate Drizzle          1.6087 sec.\n"
     ]
    },
    {
     "name": "stderr",
     "output_type": "stream",
     "text": [
      "2025-05-09 09:54:36,495 - stpipe - INFO -           Create Median          2.5270 sec.\n"
     ]
    },
    {
     "name": "stdout",
     "output_type": "stream",
     "text": [
      "          Create Median          2.5270 sec.\n"
     ]
    },
    {
     "name": "stderr",
     "output_type": "stream",
     "text": [
      "2025-05-09 09:54:36,496 - stpipe - INFO -                    Blot          3.8014 sec.\n"
     ]
    },
    {
     "name": "stdout",
     "output_type": "stream",
     "text": [
      "                   Blot          3.8014 sec.\n"
     ]
    },
    {
     "name": "stderr",
     "output_type": "stream",
     "text": [
      "2025-05-09 09:54:36,497 - stpipe - INFO -                 Driz_CR          1.7487 sec.\n"
     ]
    },
    {
     "name": "stdout",
     "output_type": "stream",
     "text": [
      "                Driz_CR          1.7487 sec.\n"
     ]
    },
    {
     "name": "stderr",
     "output_type": "stream",
     "text": [
      "2025-05-09 09:54:36,498 - stpipe - INFO -           Final Drizzle          6.4022 sec.\n"
     ]
    },
    {
     "name": "stdout",
     "output_type": "stream",
     "text": [
      "          Final Drizzle          6.4022 sec.\n"
     ]
    },
    {
     "name": "stderr",
     "output_type": "stream",
     "text": [
      "2025-05-09 09:54:36,500 - stpipe - INFO -    ====================          ====================\n"
     ]
    },
    {
     "name": "stdout",
     "output_type": "stream",
     "text": [
      "   ====================          ====================\n"
     ]
    },
    {
     "name": "stderr",
     "output_type": "stream",
     "text": [
      "2025-05-09 09:54:36,502 - stpipe - INFO -                   Total          18.1602 sec.\n"
     ]
    },
    {
     "name": "stdout",
     "output_type": "stream",
     "text": [
      "                  Total          18.1602 sec.\n"
     ]
    },
    {
     "name": "stderr",
     "output_type": "stream",
     "text": [
      "2025-05-09 09:54:36,503 - stpipe - INFO - \n"
     ]
    },
    {
     "name": "stdout",
     "output_type": "stream",
     "text": [
      "\n"
     ]
    },
    {
     "name": "stderr",
     "output_type": "stream",
     "text": [
      "2025-05-09 09:54:36,512 - stpipe - INFO - Trailer file written to:  astrodrizzle.log\n"
     ]
    },
    {
     "name": "stdout",
     "output_type": "stream",
     "text": [
      "Trailer file written to:  astrodrizzle.log\n"
     ]
    },
    {
     "name": "stderr",
     "output_type": "stream",
     "text": [
      "mv: rename /Users/avapolzin/Desktop/psf_testoutputs/acs/150d08m15.267s+2d09m52.304s_F475W_psf_drz.fits to /Users/avapolzin/Desktop/psf_testoutputs/acs//Users/avapolzin/Desktop/psf_testoutputs/acs/150d08m15.267s+2d09m52.304s_psf_drz.fits: No such file or directory\n",
      "mv: rename /Users/avapolzin/Desktop/psf_testoutputs/acs/*.psf to psfs/*.psf: No such file or directory\n",
      "mv: rename /Users/avapolzin/Desktop/psf_testoutputs/acs/*.cat to psfs/*.cat: No such file or directory\n",
      "mv: rename /Users/avapolzin/Desktop/psf_testoutputs/acs/*_mask.fits to psfs/*_mask.fits: No such file or directory\n"
     ]
    }
   ],
   "source": [
    "dpsf = hst(img_dir = datapath, obj = obj, img_type = 'flc', inst = 'ACS', camera = 'WFC', savedir = outputpath, pretweaked = True, \n",
    "          listchoice = 'O6', temp = 45000)"
   ]
  },
  {
   "cell_type": "markdown",
   "id": "24ee0df8-d757-4d83-a079-620ee19564f8",
   "metadata": {},
   "source": [
    "`spike` can also be used to generate PSFs for multiple objects/coordinates simultaneously."
   ]
  },
  {
   "cell_type": "code",
   "execution_count": 8,
   "id": "ad0b682a-8d60-4922-8d07-d9a694e0434b",
   "metadata": {
    "scrolled": true
   },
   "outputs": [
    {
     "name": "stderr",
     "output_type": "stream",
     "text": [
      "/Users/avapolzin/opt/anaconda3/envs/spike/lib/python3.10/site-packages/spike/psf/psf.py:236: Warning: All of major, minor, and angle must be specified to be applied. Proceeding with no elliptical jitter.\n"
     ]
    },
    {
     "name": "stdout",
     "output_type": "stream",
     "text": [
      "Tiny Tim v7.5\n",
      "Intermediate PSF dimensions are 464 by 464\n",
      "\n",
      "Computing PSF for position 1/1 (x,y) = 1020 181\n",
      "   Computing PSF 1/18 for wavelength 393.82 nm (weight=0.008917)\n",
      "   Computing PSF 2/18 for wavelength 402.92 nm (weight=0.024755)\n",
      "   Computing PSF 3/18 for wavelength 412.02 nm (weight=0.037561)\n",
      "   Computing PSF 4/18 for wavelength 421.11 nm (weight=0.045079)\n",
      "   Computing PSF 5/18 for wavelength 430.21 nm (weight=0.052658)\n",
      "   Computing PSF 6/18 for wavelength 439.31 nm (weight=0.056584)\n",
      "   Computing PSF 7/18 for wavelength 448.41 nm (weight=0.059373)\n",
      "   Computing PSF 8/18 for wavelength 457.51 nm (weight=0.061140)\n",
      "   Computing PSF 9/18 for wavelength 466.61 nm (weight=0.064193)\n",
      "   Computing PSF 10/18 for wavelength 475.70 nm (weight=0.065803)\n",
      "   Computing PSF 11/18 for wavelength 484.80 nm (weight=0.067198)\n",
      "   Computing PSF 12/18 for wavelength 493.90 nm (weight=0.069242)\n",
      "   Computing PSF 13/18 for wavelength 503.00 nm (weight=0.070478)\n",
      "   Computing PSF 14/18 for wavelength 512.10 nm (weight=0.072073)\n",
      "   Computing PSF 15/18 for wavelength 521.20 nm (weight=0.071785)\n",
      "   Computing PSF 16/18 for wavelength 530.30 nm (weight=0.070366)\n",
      "   Computing PSF 17/18 for wavelength 539.39 nm (weight=0.069026)\n",
      "   Computing PSF 18/18 for wavelength 548.49 nm (weight=0.033769)\n",
      "   Writing PSF to /Users/avapolzin/Desktop/psf_testoutputs/acs/j8pu42ecq_flc_150d08m15.267s+2d09m52.304s_F475W_psf00_psf.fits\n",
      "\n",
      "Started at  Fri May  9 09:58:03 2025\n",
      "Finished at Fri May  9 09:58:06 2025\n",
      "\n",
      "Writing template optional parameter file for tiny3 to /Users/avapolzin/Desktop/psf_testoutputs/acs/j8pu42ecq_flc_150d08m15.267s+2d09m52.304s_F475W_psf.tt3.\n",
      "\n",
      "To continue PSF processing for ACS and WFC3, you must run tiny3 to resample\n",
      "and distort the PSF.  You may also process a simulated scene (see\n",
      "the manual for details).\n",
      "\n",
      "Just to distort the PSF, issue this command :\n",
      "\n",
      "        tiny3 tiny.param\n",
      "\n",
      "Tiny Tim v7.5\n",
      "Processing PSF for position 1/1 : (x,y) = 1020 181\n",
      "Reading input PSF from /Users/avapolzin/Desktop/psf_testoutputs/acs/j8pu42ecq_flc_150d08m15.267s+2d09m52.304s_F475W_psf00_psf.fits.\n",
      "  Input critically-sampled undistorted PSF dimensions are 464 by 464 (0.013018 arcsec/pixel).\n",
      "  Mapping PSF onto distorted grid.\n",
      "  Convolving PSF with charge diffusion kernel.\n",
      "  Writing distorted PSF to /Users/avapolzin/Desktop/psf_testoutputs/acs/j8pu42ecq_flc_150d08m15.267s+2d09m52.304s_F475W_psf00.fits (146 by 146 pixels)\n",
      "\n",
      "Started at  Fri May  9 09:58:06 2025\n",
      "Finished at Fri May  9 09:58:07 2025\n"
     ]
    },
    {
     "name": "stderr",
     "output_type": "stream",
     "text": [
      "/Users/avapolzin/opt/anaconda3/envs/spike/lib/python3.10/site-packages/spike/psf/psf.py:236: Warning: All of major, minor, and angle must be specified to be applied. Proceeding with no elliptical jitter.\n"
     ]
    },
    {
     "name": "stdout",
     "output_type": "stream",
     "text": [
      "Tiny Tim v7.5\n",
      "Intermediate PSF dimensions are 464 by 464\n",
      "\n",
      "Computing PSF for position 1/1 (x,y) = 2652 1305\n",
      "   Computing PSF 1/18 for wavelength 393.82 nm (weight=0.008917)\n",
      "   Computing PSF 2/18 for wavelength 402.92 nm (weight=0.024755)\n",
      "   Computing PSF 3/18 for wavelength 412.02 nm (weight=0.037561)\n",
      "   Computing PSF 4/18 for wavelength 421.11 nm (weight=0.045079)\n",
      "   Computing PSF 5/18 for wavelength 430.21 nm (weight=0.052658)\n",
      "   Computing PSF 6/18 for wavelength 439.31 nm (weight=0.056584)\n",
      "   Computing PSF 7/18 for wavelength 448.41 nm (weight=0.059373)\n",
      "   Computing PSF 8/18 for wavelength 457.51 nm (weight=0.061140)\n",
      "   Computing PSF 9/18 for wavelength 466.61 nm (weight=0.064193)\n",
      "   Computing PSF 10/18 for wavelength 475.70 nm (weight=0.065803)\n",
      "   Computing PSF 11/18 for wavelength 484.80 nm (weight=0.067198)\n",
      "   Computing PSF 12/18 for wavelength 493.90 nm (weight=0.069242)\n",
      "   Computing PSF 13/18 for wavelength 503.00 nm (weight=0.070478)\n",
      "   Computing PSF 14/18 for wavelength 512.10 nm (weight=0.072073)\n",
      "   Computing PSF 15/18 for wavelength 521.20 nm (weight=0.071785)\n",
      "   Computing PSF 16/18 for wavelength 530.30 nm (weight=0.070366)\n",
      "   Computing PSF 17/18 for wavelength 539.39 nm (weight=0.069026)\n",
      "   Computing PSF 18/18 for wavelength 548.49 nm (weight=0.033769)\n",
      "   Writing PSF to /Users/avapolzin/Desktop/psf_testoutputs/acs/j8pu42ecq_flc_150d07m02.697s+2d08m40.507s_F475W_psf00_psf.fits\n",
      "\n",
      "Started at  Fri May  9 09:58:07 2025\n",
      "Finished at Fri May  9 09:58:10 2025\n",
      "\n",
      "Writing template optional parameter file for tiny3 to /Users/avapolzin/Desktop/psf_testoutputs/acs/j8pu42ecq_flc_150d07m02.697s+2d08m40.507s_F475W_psf.tt3.\n",
      "\n",
      "To continue PSF processing for ACS and WFC3, you must run tiny3 to resample\n",
      "and distort the PSF.  You may also process a simulated scene (see\n",
      "the manual for details).\n",
      "\n",
      "Just to distort the PSF, issue this command :\n",
      "\n",
      "        tiny3 tiny.param\n",
      "\n",
      "Tiny Tim v7.5\n",
      "Processing PSF for position 1/1 : (x,y) = 2652 1305\n",
      "Reading input PSF from /Users/avapolzin/Desktop/psf_testoutputs/acs/j8pu42ecq_flc_150d07m02.697s+2d08m40.507s_F475W_psf00_psf.fits.\n",
      "  Input critically-sampled undistorted PSF dimensions are 464 by 464 (0.013018 arcsec/pixel).\n",
      "  Mapping PSF onto distorted grid.\n",
      "  Convolving PSF with charge diffusion kernel.\n",
      "  Writing distorted PSF to /Users/avapolzin/Desktop/psf_testoutputs/acs/j8pu42ecq_flc_150d07m02.697s+2d08m40.507s_F475W_psf00.fits (146 by 146 pixels)\n",
      "\n",
      "Started at  Fri May  9 09:58:10 2025\n",
      "Finished at Fri May  9 09:58:10 2025\n"
     ]
    },
    {
     "name": "stderr",
     "output_type": "stream",
     "text": [
      "/Users/avapolzin/opt/anaconda3/envs/spike/lib/python3.10/site-packages/spike/psf/psf.py:236: Warning: All of major, minor, and angle must be specified to be applied. Proceeding with no elliptical jitter.\n"
     ]
    },
    {
     "name": "stdout",
     "output_type": "stream",
     "text": [
      "Tiny Tim v7.5\n",
      "Intermediate PSF dimensions are 464 by 464\n",
      "\n",
      "Computing PSF for position 1/1 (x,y) = 1025 242\n",
      "   Computing PSF 1/18 for wavelength 393.82 nm (weight=0.008917)\n",
      "   Computing PSF 2/18 for wavelength 402.92 nm (weight=0.024755)\n",
      "   Computing PSF 3/18 for wavelength 412.02 nm (weight=0.037561)\n",
      "   Computing PSF 4/18 for wavelength 421.11 nm (weight=0.045079)\n",
      "   Computing PSF 5/18 for wavelength 430.21 nm (weight=0.052658)\n",
      "   Computing PSF 6/18 for wavelength 439.31 nm (weight=0.056584)\n",
      "   Computing PSF 7/18 for wavelength 448.41 nm (weight=0.059373)\n",
      "   Computing PSF 8/18 for wavelength 457.51 nm (weight=0.061140)\n",
      "   Computing PSF 9/18 for wavelength 466.61 nm (weight=0.064193)\n",
      "   Computing PSF 10/18 for wavelength 475.70 nm (weight=0.065803)\n",
      "   Computing PSF 11/18 for wavelength 484.80 nm (weight=0.067198)\n",
      "   Computing PSF 12/18 for wavelength 493.90 nm (weight=0.069242)\n",
      "   Computing PSF 13/18 for wavelength 503.00 nm (weight=0.070478)\n",
      "   Computing PSF 14/18 for wavelength 512.10 nm (weight=0.072073)\n",
      "   Computing PSF 15/18 for wavelength 521.20 nm (weight=0.071785)\n",
      "   Computing PSF 16/18 for wavelength 530.30 nm (weight=0.070366)\n",
      "   Computing PSF 17/18 for wavelength 539.39 nm (weight=0.069026)\n",
      "   Computing PSF 18/18 for wavelength 548.49 nm (weight=0.033769)\n",
      "   Writing PSF to /Users/avapolzin/Desktop/psf_testoutputs/acs/j8pu42egq_flc_150d08m15.267s+2d09m52.304s_F475W_psf00_psf.fits\n",
      "\n",
      "Started at  Fri May  9 09:58:10 2025\n",
      "Finished at Fri May  9 09:58:13 2025\n",
      "\n",
      "Writing template optional parameter file for tiny3 to /Users/avapolzin/Desktop/psf_testoutputs/acs/j8pu42egq_flc_150d08m15.267s+2d09m52.304s_F475W_psf.tt3.\n",
      "\n",
      "To continue PSF processing for ACS and WFC3, you must run tiny3 to resample\n",
      "and distort the PSF.  You may also process a simulated scene (see\n",
      "the manual for details).\n",
      "\n",
      "Just to distort the PSF, issue this command :\n",
      "\n",
      "        tiny3 tiny.param\n",
      "\n",
      "Tiny Tim v7.5\n",
      "Processing PSF for position 1/1 : (x,y) = 1025 242\n",
      "Reading input PSF from /Users/avapolzin/Desktop/psf_testoutputs/acs/j8pu42egq_flc_150d08m15.267s+2d09m52.304s_F475W_psf00_psf.fits.\n",
      "  Input critically-sampled undistorted PSF dimensions are 464 by 464 (0.013018 arcsec/pixel).\n",
      "  Mapping PSF onto distorted grid.\n",
      "  Convolving PSF with charge diffusion kernel.\n",
      "  Writing distorted PSF to /Users/avapolzin/Desktop/psf_testoutputs/acs/j8pu42egq_flc_150d08m15.267s+2d09m52.304s_F475W_psf00.fits (146 by 146 pixels)\n",
      "\n",
      "Started at  Fri May  9 09:58:14 2025\n",
      "Finished at Fri May  9 09:58:14 2025\n"
     ]
    },
    {
     "name": "stderr",
     "output_type": "stream",
     "text": [
      "/Users/avapolzin/opt/anaconda3/envs/spike/lib/python3.10/site-packages/spike/psf/psf.py:236: Warning: All of major, minor, and angle must be specified to be applied. Proceeding with no elliptical jitter.\n"
     ]
    },
    {
     "name": "stdout",
     "output_type": "stream",
     "text": [
      "Tiny Tim v7.5\n",
      "Intermediate PSF dimensions are 464 by 464\n",
      "\n",
      "Computing PSF for position 1/1 (x,y) = 2657 1366\n",
      "   Computing PSF 1/18 for wavelength 393.82 nm (weight=0.008917)\n",
      "   Computing PSF 2/18 for wavelength 402.92 nm (weight=0.024755)\n",
      "   Computing PSF 3/18 for wavelength 412.02 nm (weight=0.037561)\n",
      "   Computing PSF 4/18 for wavelength 421.11 nm (weight=0.045079)\n",
      "   Computing PSF 5/18 for wavelength 430.21 nm (weight=0.052658)\n",
      "   Computing PSF 6/18 for wavelength 439.31 nm (weight=0.056584)\n",
      "   Computing PSF 7/18 for wavelength 448.41 nm (weight=0.059373)\n",
      "   Computing PSF 8/18 for wavelength 457.51 nm (weight=0.061140)\n",
      "   Computing PSF 9/18 for wavelength 466.61 nm (weight=0.064193)\n",
      "   Computing PSF 10/18 for wavelength 475.70 nm (weight=0.065803)\n",
      "   Computing PSF 11/18 for wavelength 484.80 nm (weight=0.067198)\n",
      "   Computing PSF 12/18 for wavelength 493.90 nm (weight=0.069242)\n",
      "   Computing PSF 13/18 for wavelength 503.00 nm (weight=0.070478)\n",
      "   Computing PSF 14/18 for wavelength 512.10 nm (weight=0.072073)\n",
      "   Computing PSF 15/18 for wavelength 521.20 nm (weight=0.071785)\n",
      "   Computing PSF 16/18 for wavelength 530.30 nm (weight=0.070366)\n",
      "   Computing PSF 17/18 for wavelength 539.39 nm (weight=0.069026)\n",
      "   Computing PSF 18/18 for wavelength 548.49 nm (weight=0.033769)\n",
      "   Writing PSF to /Users/avapolzin/Desktop/psf_testoutputs/acs/j8pu42egq_flc_150d07m02.697s+2d08m40.507s_F475W_psf00_psf.fits\n",
      "\n",
      "Started at  Fri May  9 09:58:14 2025\n",
      "Finished at Fri May  9 09:58:17 2025\n",
      "\n",
      "Writing template optional parameter file for tiny3 to /Users/avapolzin/Desktop/psf_testoutputs/acs/j8pu42egq_flc_150d07m02.697s+2d08m40.507s_F475W_psf.tt3.\n",
      "\n",
      "To continue PSF processing for ACS and WFC3, you must run tiny3 to resample\n",
      "and distort the PSF.  You may also process a simulated scene (see\n",
      "the manual for details).\n",
      "\n",
      "Just to distort the PSF, issue this command :\n",
      "\n",
      "        tiny3 tiny.param\n",
      "\n",
      "Tiny Tim v7.5\n",
      "Processing PSF for position 1/1 : (x,y) = 2657 1366\n",
      "Reading input PSF from /Users/avapolzin/Desktop/psf_testoutputs/acs/j8pu42egq_flc_150d07m02.697s+2d08m40.507s_F475W_psf00_psf.fits.\n",
      "  Input critically-sampled undistorted PSF dimensions are 464 by 464 (0.013018 arcsec/pixel).\n",
      "  Mapping PSF onto distorted grid.\n",
      "  Convolving PSF with charge diffusion kernel.\n",
      "  Writing distorted PSF to /Users/avapolzin/Desktop/psf_testoutputs/acs/j8pu42egq_flc_150d07m02.697s+2d08m40.507s_F475W_psf00.fits (146 by 146 pixels)\n",
      "\n",
      "Started at  Fri May  9 09:58:17 2025\n",
      "Finished at Fri May  9 09:58:17 2025\n"
     ]
    },
    {
     "name": "stderr",
     "output_type": "stream",
     "text": [
      "/Users/avapolzin/opt/anaconda3/envs/spike/lib/python3.10/site-packages/spike/psf/psf.py:236: Warning: All of major, minor, and angle must be specified to be applied. Proceeding with no elliptical jitter.\n"
     ]
    },
    {
     "name": "stdout",
     "output_type": "stream",
     "text": [
      "Tiny Tim v7.5\n",
      "Intermediate PSF dimensions are 464 by 464\n",
      "\n",
      "Computing PSF for position 1/1 (x,y) = 1025 242\n",
      "   Computing PSF 1/18 for wavelength 393.82 nm (weight=0.008917)\n",
      "   Computing PSF 2/18 for wavelength 402.92 nm (weight=0.024755)\n",
      "   Computing PSF 3/18 for wavelength 412.02 nm (weight=0.037561)\n",
      "   Computing PSF 4/18 for wavelength 421.11 nm (weight=0.045079)\n",
      "   Computing PSF 5/18 for wavelength 430.21 nm (weight=0.052658)\n",
      "   Computing PSF 6/18 for wavelength 439.31 nm (weight=0.056584)\n",
      "   Computing PSF 7/18 for wavelength 448.41 nm (weight=0.059373)\n",
      "   Computing PSF 8/18 for wavelength 457.51 nm (weight=0.061140)\n",
      "   Computing PSF 9/18 for wavelength 466.61 nm (weight=0.064193)\n",
      "   Computing PSF 10/18 for wavelength 475.70 nm (weight=0.065803)\n",
      "   Computing PSF 11/18 for wavelength 484.80 nm (weight=0.067198)\n",
      "   Computing PSF 12/18 for wavelength 493.90 nm (weight=0.069242)\n",
      "   Computing PSF 13/18 for wavelength 503.00 nm (weight=0.070478)\n",
      "   Computing PSF 14/18 for wavelength 512.10 nm (weight=0.072073)\n",
      "   Computing PSF 15/18 for wavelength 521.20 nm (weight=0.071785)\n",
      "   Computing PSF 16/18 for wavelength 530.30 nm (weight=0.070366)\n",
      "   Computing PSF 17/18 for wavelength 539.39 nm (weight=0.069026)\n",
      "   Computing PSF 18/18 for wavelength 548.49 nm (weight=0.033769)\n",
      "   Writing PSF to /Users/avapolzin/Desktop/psf_testoutputs/acs/j8pu42esq_flc_150d08m15.267s+2d09m52.304s_F475W_psf00_psf.fits\n",
      "\n",
      "Started at  Fri May  9 09:58:17 2025\n",
      "Finished at Fri May  9 09:58:20 2025\n",
      "\n",
      "Writing template optional parameter file for tiny3 to /Users/avapolzin/Desktop/psf_testoutputs/acs/j8pu42esq_flc_150d08m15.267s+2d09m52.304s_F475W_psf.tt3.\n",
      "\n",
      "To continue PSF processing for ACS and WFC3, you must run tiny3 to resample\n",
      "and distort the PSF.  You may also process a simulated scene (see\n",
      "the manual for details).\n",
      "\n",
      "Just to distort the PSF, issue this command :\n",
      "\n",
      "        tiny3 tiny.param\n",
      "\n",
      "Tiny Tim v7.5\n",
      "Processing PSF for position 1/1 : (x,y) = 1025 242\n",
      "Reading input PSF from /Users/avapolzin/Desktop/psf_testoutputs/acs/j8pu42esq_flc_150d08m15.267s+2d09m52.304s_F475W_psf00_psf.fits.\n",
      "  Input critically-sampled undistorted PSF dimensions are 464 by 464 (0.013018 arcsec/pixel).\n",
      "  Mapping PSF onto distorted grid.\n",
      "  Convolving PSF with charge diffusion kernel.\n",
      "  Writing distorted PSF to /Users/avapolzin/Desktop/psf_testoutputs/acs/j8pu42esq_flc_150d08m15.267s+2d09m52.304s_F475W_psf00.fits (146 by 146 pixels)\n",
      "\n",
      "Started at  Fri May  9 09:58:20 2025\n",
      "Finished at Fri May  9 09:58:21 2025\n"
     ]
    },
    {
     "name": "stderr",
     "output_type": "stream",
     "text": [
      "/Users/avapolzin/opt/anaconda3/envs/spike/lib/python3.10/site-packages/spike/psf/psf.py:236: Warning: All of major, minor, and angle must be specified to be applied. Proceeding with no elliptical jitter.\n"
     ]
    },
    {
     "name": "stdout",
     "output_type": "stream",
     "text": [
      "Tiny Tim v7.5\n",
      "Intermediate PSF dimensions are 464 by 464\n",
      "\n",
      "Computing PSF for position 1/1 (x,y) = 2657 1366\n",
      "   Computing PSF 1/18 for wavelength 393.82 nm (weight=0.008917)\n",
      "   Computing PSF 2/18 for wavelength 402.92 nm (weight=0.024755)\n",
      "   Computing PSF 3/18 for wavelength 412.02 nm (weight=0.037561)\n",
      "   Computing PSF 4/18 for wavelength 421.11 nm (weight=0.045079)\n",
      "   Computing PSF 5/18 for wavelength 430.21 nm (weight=0.052658)\n",
      "   Computing PSF 6/18 for wavelength 439.31 nm (weight=0.056584)\n",
      "   Computing PSF 7/18 for wavelength 448.41 nm (weight=0.059373)\n",
      "   Computing PSF 8/18 for wavelength 457.51 nm (weight=0.061140)\n",
      "   Computing PSF 9/18 for wavelength 466.61 nm (weight=0.064193)\n",
      "   Computing PSF 10/18 for wavelength 475.70 nm (weight=0.065803)\n",
      "   Computing PSF 11/18 for wavelength 484.80 nm (weight=0.067198)\n",
      "   Computing PSF 12/18 for wavelength 493.90 nm (weight=0.069242)\n",
      "   Computing PSF 13/18 for wavelength 503.00 nm (weight=0.070478)\n",
      "   Computing PSF 14/18 for wavelength 512.10 nm (weight=0.072073)\n",
      "   Computing PSF 15/18 for wavelength 521.20 nm (weight=0.071785)\n",
      "   Computing PSF 16/18 for wavelength 530.30 nm (weight=0.070366)\n",
      "   Computing PSF 17/18 for wavelength 539.39 nm (weight=0.069026)\n",
      "   Computing PSF 18/18 for wavelength 548.49 nm (weight=0.033769)\n",
      "   Writing PSF to /Users/avapolzin/Desktop/psf_testoutputs/acs/j8pu42esq_flc_150d07m02.697s+2d08m40.507s_F475W_psf00_psf.fits\n",
      "\n",
      "Started at  Fri May  9 09:58:21 2025\n",
      "Finished at Fri May  9 09:58:23 2025\n",
      "\n",
      "Writing template optional parameter file for tiny3 to /Users/avapolzin/Desktop/psf_testoutputs/acs/j8pu42esq_flc_150d07m02.697s+2d08m40.507s_F475W_psf.tt3.\n",
      "\n",
      "To continue PSF processing for ACS and WFC3, you must run tiny3 to resample\n",
      "and distort the PSF.  You may also process a simulated scene (see\n",
      "the manual for details).\n",
      "\n",
      "Just to distort the PSF, issue this command :\n",
      "\n",
      "        tiny3 tiny.param\n",
      "\n",
      "Tiny Tim v7.5\n",
      "Processing PSF for position 1/1 : (x,y) = 2657 1366\n",
      "Reading input PSF from /Users/avapolzin/Desktop/psf_testoutputs/acs/j8pu42esq_flc_150d07m02.697s+2d08m40.507s_F475W_psf00_psf.fits.\n",
      "  Input critically-sampled undistorted PSF dimensions are 464 by 464 (0.013018 arcsec/pixel).\n",
      "  Mapping PSF onto distorted grid.\n",
      "  Convolving PSF with charge diffusion kernel.\n",
      "  Writing distorted PSF to /Users/avapolzin/Desktop/psf_testoutputs/acs/j8pu42esq_flc_150d07m02.697s+2d08m40.507s_F475W_psf00.fits (146 by 146 pixels)\n",
      "\n",
      "Started at  Fri May  9 09:58:23 2025\n",
      "Finished at Fri May  9 09:58:24 2025\n"
     ]
    },
    {
     "name": "stderr",
     "output_type": "stream",
     "text": [
      "/Users/avapolzin/opt/anaconda3/envs/spike/lib/python3.10/site-packages/spike/psf/psf.py:236: Warning: All of major, minor, and angle must be specified to be applied. Proceeding with no elliptical jitter.\n"
     ]
    },
    {
     "name": "stdout",
     "output_type": "stream",
     "text": [
      "Tiny Tim v7.5\n",
      "Intermediate PSF dimensions are 464 by 464\n",
      "\n",
      "Computing PSF for position 1/1 (x,y) = 1023 363\n",
      "   Computing PSF 1/18 for wavelength 393.82 nm (weight=0.008917)\n",
      "   Computing PSF 2/18 for wavelength 402.92 nm (weight=0.024755)\n",
      "   Computing PSF 3/18 for wavelength 412.02 nm (weight=0.037561)\n",
      "   Computing PSF 4/18 for wavelength 421.11 nm (weight=0.045079)\n",
      "   Computing PSF 5/18 for wavelength 430.21 nm (weight=0.052658)\n",
      "   Computing PSF 6/18 for wavelength 439.31 nm (weight=0.056584)\n",
      "   Computing PSF 7/18 for wavelength 448.41 nm (weight=0.059373)\n",
      "   Computing PSF 8/18 for wavelength 457.51 nm (weight=0.061140)\n",
      "   Computing PSF 9/18 for wavelength 466.61 nm (weight=0.064193)\n",
      "   Computing PSF 10/18 for wavelength 475.70 nm (weight=0.065803)\n",
      "   Computing PSF 11/18 for wavelength 484.80 nm (weight=0.067198)\n",
      "   Computing PSF 12/18 for wavelength 493.90 nm (weight=0.069242)\n",
      "   Computing PSF 13/18 for wavelength 503.00 nm (weight=0.070478)\n",
      "   Computing PSF 14/18 for wavelength 512.10 nm (weight=0.072073)\n",
      "   Computing PSF 15/18 for wavelength 521.20 nm (weight=0.071785)\n",
      "   Computing PSF 16/18 for wavelength 530.30 nm (weight=0.070366)\n",
      "   Computing PSF 17/18 for wavelength 539.39 nm (weight=0.069026)\n",
      "   Computing PSF 18/18 for wavelength 548.49 nm (weight=0.033769)\n",
      "   Writing PSF to /Users/avapolzin/Desktop/psf_testoutputs/acs/j8pu42evq_flc_150d08m15.267s+2d09m52.304s_F475W_psf00_psf.fits\n",
      "\n",
      "Started at  Fri May  9 09:58:24 2025\n",
      "Finished at Fri May  9 09:58:27 2025\n",
      "\n",
      "Writing template optional parameter file for tiny3 to /Users/avapolzin/Desktop/psf_testoutputs/acs/j8pu42evq_flc_150d08m15.267s+2d09m52.304s_F475W_psf.tt3.\n",
      "\n",
      "To continue PSF processing for ACS and WFC3, you must run tiny3 to resample\n",
      "and distort the PSF.  You may also process a simulated scene (see\n",
      "the manual for details).\n",
      "\n",
      "Just to distort the PSF, issue this command :\n",
      "\n",
      "        tiny3 tiny.param\n",
      "\n",
      "Tiny Tim v7.5\n",
      "Processing PSF for position 1/1 : (x,y) = 1023 363\n",
      "Reading input PSF from /Users/avapolzin/Desktop/psf_testoutputs/acs/j8pu42evq_flc_150d08m15.267s+2d09m52.304s_F475W_psf00_psf.fits.\n",
      "  Input critically-sampled undistorted PSF dimensions are 464 by 464 (0.013018 arcsec/pixel).\n",
      "  Mapping PSF onto distorted grid.\n",
      "  Convolving PSF with charge diffusion kernel.\n",
      "  Writing distorted PSF to /Users/avapolzin/Desktop/psf_testoutputs/acs/j8pu42evq_flc_150d08m15.267s+2d09m52.304s_F475W_psf00.fits (146 by 146 pixels)\n",
      "\n",
      "Started at  Fri May  9 09:58:27 2025\n",
      "Finished at Fri May  9 09:58:27 2025\n"
     ]
    },
    {
     "name": "stderr",
     "output_type": "stream",
     "text": [
      "/Users/avapolzin/opt/anaconda3/envs/spike/lib/python3.10/site-packages/spike/psf/psf.py:236: Warning: All of major, minor, and angle must be specified to be applied. Proceeding with no elliptical jitter.\n"
     ]
    },
    {
     "name": "stdout",
     "output_type": "stream",
     "text": [
      "Tiny Tim v7.5\n",
      "Intermediate PSF dimensions are 464 by 464\n",
      "\n",
      "Computing PSF for position 1/1 (x,y) = 2655 1487\n",
      "   Computing PSF 1/18 for wavelength 393.82 nm (weight=0.008917)\n",
      "   Computing PSF 2/18 for wavelength 402.92 nm (weight=0.024755)\n",
      "   Computing PSF 3/18 for wavelength 412.02 nm (weight=0.037561)\n",
      "   Computing PSF 4/18 for wavelength 421.11 nm (weight=0.045079)\n",
      "   Computing PSF 5/18 for wavelength 430.21 nm (weight=0.052658)\n",
      "   Computing PSF 6/18 for wavelength 439.31 nm (weight=0.056584)\n",
      "   Computing PSF 7/18 for wavelength 448.41 nm (weight=0.059373)\n",
      "   Computing PSF 8/18 for wavelength 457.51 nm (weight=0.061140)\n",
      "   Computing PSF 9/18 for wavelength 466.61 nm (weight=0.064193)\n",
      "   Computing PSF 10/18 for wavelength 475.70 nm (weight=0.065803)\n",
      "   Computing PSF 11/18 for wavelength 484.80 nm (weight=0.067198)\n",
      "   Computing PSF 12/18 for wavelength 493.90 nm (weight=0.069242)\n",
      "   Computing PSF 13/18 for wavelength 503.00 nm (weight=0.070478)\n",
      "   Computing PSF 14/18 for wavelength 512.10 nm (weight=0.072073)\n",
      "   Computing PSF 15/18 for wavelength 521.20 nm (weight=0.071785)\n",
      "   Computing PSF 16/18 for wavelength 530.30 nm (weight=0.070366)\n",
      "   Computing PSF 17/18 for wavelength 539.39 nm (weight=0.069026)\n",
      "   Computing PSF 18/18 for wavelength 548.49 nm (weight=0.033769)\n",
      "   Writing PSF to /Users/avapolzin/Desktop/psf_testoutputs/acs/j8pu42evq_flc_150d07m02.697s+2d08m40.507s_F475W_psf00_psf.fits\n",
      "\n",
      "Started at  Fri May  9 09:58:27 2025\n",
      "Finished at Fri May  9 09:58:30 2025\n",
      "\n",
      "Writing template optional parameter file for tiny3 to /Users/avapolzin/Desktop/psf_testoutputs/acs/j8pu42evq_flc_150d07m02.697s+2d08m40.507s_F475W_psf.tt3.\n",
      "\n",
      "To continue PSF processing for ACS and WFC3, you must run tiny3 to resample\n",
      "and distort the PSF.  You may also process a simulated scene (see\n",
      "the manual for details).\n",
      "\n",
      "Just to distort the PSF, issue this command :\n",
      "\n",
      "        tiny3 tiny.param\n",
      "\n"
     ]
    },
    {
     "name": "stderr",
     "output_type": "stream",
     "text": [
      "2025-05-09 09:58:30,906 - stpipe - INFO - Setting up logfile :  astrodrizzle.log\n"
     ]
    },
    {
     "name": "stdout",
     "output_type": "stream",
     "text": [
      "Tiny Tim v7.5\n",
      "Processing PSF for position 1/1 : (x,y) = 2655 1487\n",
      "Reading input PSF from /Users/avapolzin/Desktop/psf_testoutputs/acs/j8pu42evq_flc_150d07m02.697s+2d08m40.507s_F475W_psf00_psf.fits.\n",
      "  Input critically-sampled undistorted PSF dimensions are 464 by 464 (0.013018 arcsec/pixel).\n",
      "  Mapping PSF onto distorted grid.\n",
      "  Convolving PSF with charge diffusion kernel.\n",
      "  Writing distorted PSF to /Users/avapolzin/Desktop/psf_testoutputs/acs/j8pu42evq_flc_150d07m02.697s+2d08m40.507s_F475W_psf00.fits (146 by 146 pixels)\n",
      "\n",
      "Started at  Fri May  9 09:58:30 2025\n",
      "Finished at Fri May  9 09:58:30 2025\n",
      "Setting up logfile :  astrodrizzle.log\n"
     ]
    },
    {
     "name": "stderr",
     "output_type": "stream",
     "text": [
      "2025-05-09 09:58:30,907 - stpipe - INFO - AstroDrizzle log file: astrodrizzle.log\n"
     ]
    },
    {
     "name": "stdout",
     "output_type": "stream",
     "text": [
      "AstroDrizzle log file: astrodrizzle.log\n"
     ]
    },
    {
     "name": "stderr",
     "output_type": "stream",
     "text": [
      "2025-05-09 09:58:30,909 - stpipe - INFO - AstroDrizzle Version 3.7.1rc1.dev56+g7951b66 started at: 09:58:30.908 (09/05/2025)\n"
     ]
    },
    {
     "name": "stdout",
     "output_type": "stream",
     "text": [
      "AstroDrizzle Version 3.7.1rc1.dev56+g7951b66 started at: 09:58:30.908 (09/05/2025)\n"
     ]
    },
    {
     "name": "stderr",
     "output_type": "stream",
     "text": [
      "2025-05-09 09:58:30,910 - stpipe - INFO - \n"
     ]
    },
    {
     "name": "stdout",
     "output_type": "stream",
     "text": [
      "\n"
     ]
    },
    {
     "name": "stderr",
     "output_type": "stream",
     "text": [
      "2025-05-09 09:58:30,912 - stpipe - INFO - Version Information\n",
      "2025-05-09 09:58:30,912 - stpipe - INFO - --------------------\n",
      "2025-05-09 09:58:30,913 - stpipe - INFO - Python Version 3.10.16 (main, Dec 11 2024, 10:24:41) [Clang 14.0.6 ]\n",
      "2025-05-09 09:58:30,914 - stpipe - INFO - numpy Version -> 2.2.1 \n",
      "2025-05-09 09:58:30,914 - stpipe - INFO - astropy Version -> 6.1.7 \n",
      "2025-05-09 09:58:30,915 - stpipe - INFO - stwcs Version -> 1.7.3 \n",
      "2025-05-09 09:58:30,916 - stpipe - INFO - photutils Version -> 2.0.2 \n",
      "2025-05-09 09:58:30,917 - stpipe - INFO - ==== Processing Step  Initialization  started at  09:58:30.917 (09/05/2025)\n"
     ]
    },
    {
     "name": "stdout",
     "output_type": "stream",
     "text": [
      "==== Processing Step  Initialization  started at  09:58:30.917 (09/05/2025)\n"
     ]
    },
    {
     "name": "stderr",
     "output_type": "stream",
     "text": [
      "2025-05-09 09:58:30,918 - stpipe - INFO - \n"
     ]
    },
    {
     "name": "stdout",
     "output_type": "stream",
     "text": [
      "\n"
     ]
    },
    {
     "name": "stderr",
     "output_type": "stream",
     "text": [
      "2025-05-09 09:58:30,921 - stpipe - INFO - Preserving original of:  /Users/avapolzin/Desktop/psf_testoutputs/acs/j8pu42ecq_flc_150d08m15.267s+2d09m52.304s_F475W_topsf.fits as  OrIg_files/j8pu42ecq_flc_150d08m15.267s+2d09m52.304s_F475W_topsf.fits\n"
     ]
    },
    {
     "name": "stdout",
     "output_type": "stream",
     "text": [
      "Preserving original of:  /Users/avapolzin/Desktop/psf_testoutputs/acs/j8pu42ecq_flc_150d08m15.267s+2d09m52.304s_F475W_topsf.fits as  OrIg_files/j8pu42ecq_flc_150d08m15.267s+2d09m52.304s_F475W_topsf.fits\n"
     ]
    },
    {
     "name": "stderr",
     "output_type": "stream",
     "text": [
      "2025-05-09 09:58:30,967 - stpipe - INFO - Preserving original of:  /Users/avapolzin/Desktop/psf_testoutputs/acs/j8pu42egq_flc_150d08m15.267s+2d09m52.304s_F475W_topsf.fits as  OrIg_files/j8pu42egq_flc_150d08m15.267s+2d09m52.304s_F475W_topsf.fits\n"
     ]
    },
    {
     "name": "stdout",
     "output_type": "stream",
     "text": [
      "Preserving original of:  /Users/avapolzin/Desktop/psf_testoutputs/acs/j8pu42egq_flc_150d08m15.267s+2d09m52.304s_F475W_topsf.fits as  OrIg_files/j8pu42egq_flc_150d08m15.267s+2d09m52.304s_F475W_topsf.fits\n"
     ]
    },
    {
     "name": "stderr",
     "output_type": "stream",
     "text": [
      "2025-05-09 09:58:31,022 - stpipe - INFO - Preserving original of:  /Users/avapolzin/Desktop/psf_testoutputs/acs/j8pu42esq_flc_150d08m15.267s+2d09m52.304s_F475W_topsf.fits as  OrIg_files/j8pu42esq_flc_150d08m15.267s+2d09m52.304s_F475W_topsf.fits\n"
     ]
    },
    {
     "name": "stdout",
     "output_type": "stream",
     "text": [
      "Preserving original of:  /Users/avapolzin/Desktop/psf_testoutputs/acs/j8pu42esq_flc_150d08m15.267s+2d09m52.304s_F475W_topsf.fits as  OrIg_files/j8pu42esq_flc_150d08m15.267s+2d09m52.304s_F475W_topsf.fits\n"
     ]
    },
    {
     "name": "stderr",
     "output_type": "stream",
     "text": [
      "2025-05-09 09:58:31,091 - stpipe - INFO - Preserving original of:  /Users/avapolzin/Desktop/psf_testoutputs/acs/j8pu42evq_flc_150d08m15.267s+2d09m52.304s_F475W_topsf.fits as  OrIg_files/j8pu42evq_flc_150d08m15.267s+2d09m52.304s_F475W_topsf.fits\n"
     ]
    },
    {
     "name": "stdout",
     "output_type": "stream",
     "text": [
      "Preserving original of:  /Users/avapolzin/Desktop/psf_testoutputs/acs/j8pu42evq_flc_150d08m15.267s+2d09m52.304s_F475W_topsf.fits as  OrIg_files/j8pu42evq_flc_150d08m15.267s+2d09m52.304s_F475W_topsf.fits\n"
     ]
    },
    {
     "name": "stderr",
     "output_type": "stream",
     "text": [
      "2025-05-09 09:58:31,197 - stpipe - INFO - Executing serially\n",
      "2025-05-09 09:58:31,247 - stpipe - INFO - Setting up output name: /Users/avapolzin/Desktop/psf_testoutputs/acs/150d08m15.267s+2d09m52.304s_F475W_psf_drz.fits\n",
      "2025-05-09 09:58:31,250 - stpipe - INFO - -Creating imageObject List as input for processing steps.\n",
      "2025-05-09 09:58:31,322 - stpipe - INFO - Reading in MDRIZSKY of 69.92457580566406\n",
      "2025-05-09 09:58:31,393 - stpipe - INFO - Reading in MDRIZSKY of 75.761962890625\n",
      "2025-05-09 09:58:31,467 - stpipe - INFO - Reading in MDRIZSKY of 68.4947509765625\n",
      "2025-05-09 09:58:31,540 - stpipe - INFO - Reading in MDRIZSKY of 68.80198669433594\n",
      "2025-05-09 09:58:31,562 - stpipe - INFO - Reset bit values of 4096 to a value of 0 in /Users/avapolzin/Desktop/psf_testoutputs/acs/j8pu42ecq_flc_150d08m15.267s+2d09m52.304s_F475W_topsf.fits[DQ,1]\n",
      "2025-05-09 09:58:31,587 - stpipe - INFO - Reset bit values of 4096 to a value of 0 in /Users/avapolzin/Desktop/psf_testoutputs/acs/j8pu42egq_flc_150d08m15.267s+2d09m52.304s_F475W_topsf.fits[DQ,1]\n",
      "2025-05-09 09:58:31,610 - stpipe - INFO - Reset bit values of 4096 to a value of 0 in /Users/avapolzin/Desktop/psf_testoutputs/acs/j8pu42esq_flc_150d08m15.267s+2d09m52.304s_F475W_topsf.fits[DQ,1]\n",
      "2025-05-09 09:58:31,634 - stpipe - INFO - Reset bit values of 4096 to a value of 0 in /Users/avapolzin/Desktop/psf_testoutputs/acs/j8pu42evq_flc_150d08m15.267s+2d09m52.304s_F475W_topsf.fits[DQ,1]\n",
      "2025-05-09 09:58:31,648 - stpipe - INFO - -Creating output WCS.\n",
      "2025-05-09 09:58:31,652 - stpipe - INFO - WCS Keywords\n"
     ]
    },
    {
     "name": "stdout",
     "output_type": "stream",
     "text": [
      "WCS Keywords\n"
     ]
    },
    {
     "name": "stderr",
     "output_type": "stream",
     "text": [
      "2025-05-09 09:58:31,654 - stpipe - INFO - \n"
     ]
    },
    {
     "name": "stdout",
     "output_type": "stream",
     "text": [
      "\n"
     ]
    },
    {
     "name": "stderr",
     "output_type": "stream",
     "text": [
      "2025-05-09 09:58:31,682 - stpipe - INFO - Number of WCS axes: 2\n"
     ]
    },
    {
     "name": "stdout",
     "output_type": "stream",
     "text": [
      "Number of WCS axes: 2\n"
     ]
    },
    {
     "name": "stderr",
     "output_type": "stream",
     "text": [
      "2025-05-09 09:58:31,684 - stpipe - INFO - CTYPE : 'RA---TAN' 'DEC--TAN' \n"
     ]
    },
    {
     "name": "stdout",
     "output_type": "stream",
     "text": [
      "CTYPE : 'RA---TAN' 'DEC--TAN' \n"
     ]
    },
    {
     "name": "stderr",
     "output_type": "stream",
     "text": [
      "2025-05-09 09:58:31,692 - stpipe - INFO - CRVAL : np.float64(150.1242636198465) np.float64(2.151761555110333) \n"
     ]
    },
    {
     "name": "stdout",
     "output_type": "stream",
     "text": [
      "CRVAL : np.float64(150.1242636198465) np.float64(2.151761555110333) \n"
     ]
    },
    {
     "name": "stderr",
     "output_type": "stream",
     "text": [
      "2025-05-09 09:58:31,693 - stpipe - INFO - CRPIX : np.float64(2081.0) np.float64(1179.5) \n"
     ]
    },
    {
     "name": "stdout",
     "output_type": "stream",
     "text": [
      "CRPIX : np.float64(2081.0) np.float64(1179.5) \n"
     ]
    },
    {
     "name": "stderr",
     "output_type": "stream",
     "text": [
      "2025-05-09 09:58:31,695 - stpipe - INFO - CD1_1 CD1_2  : np.float64(-2.4118726301966414e-06) np.float64(-1.3677869168244357e-05) \n"
     ]
    },
    {
     "name": "stdout",
     "output_type": "stream",
     "text": [
      "CD1_1 CD1_2  : np.float64(-2.4118726301966414e-06) np.float64(-1.3677869168244357e-05) \n"
     ]
    },
    {
     "name": "stderr",
     "output_type": "stream",
     "text": [
      "2025-05-09 09:58:31,698 - stpipe - INFO - CD2_1 CD2_2  : np.float64(-1.3677869168244357e-05) np.float64(2.4118726301966414e-06) \n"
     ]
    },
    {
     "name": "stdout",
     "output_type": "stream",
     "text": [
      "CD2_1 CD2_2  : np.float64(-1.3677869168244357e-05) np.float64(2.4118726301966414e-06) \n"
     ]
    },
    {
     "name": "stderr",
     "output_type": "stream",
     "text": [
      "2025-05-09 09:58:31,699 - stpipe - INFO - NAXIS : 4162  2359\n"
     ]
    },
    {
     "name": "stdout",
     "output_type": "stream",
     "text": [
      "NAXIS : 4162  2359\n"
     ]
    },
    {
     "name": "stderr",
     "output_type": "stream",
     "text": [
      "2025-05-09 09:58:31,701 - stpipe - INFO - ********************************************************************************\n"
     ]
    },
    {
     "name": "stdout",
     "output_type": "stream",
     "text": [
      "********************************************************************************\n"
     ]
    },
    {
     "name": "stderr",
     "output_type": "stream",
     "text": [
      "2025-05-09 09:58:31,703 - stpipe - INFO - *\n"
     ]
    },
    {
     "name": "stdout",
     "output_type": "stream",
     "text": [
      "*\n"
     ]
    },
    {
     "name": "stderr",
     "output_type": "stream",
     "text": [
      "2025-05-09 09:58:31,704 - stpipe - INFO - *  Estimated memory usage:  up to 705 Mb.\n"
     ]
    },
    {
     "name": "stdout",
     "output_type": "stream",
     "text": [
      "*  Estimated memory usage:  up to 705 Mb.\n"
     ]
    },
    {
     "name": "stderr",
     "output_type": "stream",
     "text": [
      "2025-05-09 09:58:31,705 - stpipe - INFO - *  Output image size:       4162 X 2359 pixels. \n"
     ]
    },
    {
     "name": "stdout",
     "output_type": "stream",
     "text": [
      "*  Output image size:       4162 X 2359 pixels. \n"
     ]
    },
    {
     "name": "stderr",
     "output_type": "stream",
     "text": [
      "2025-05-09 09:58:31,707 - stpipe - INFO - *  Output image file:       ~ 112 Mb. \n"
     ]
    },
    {
     "name": "stdout",
     "output_type": "stream",
     "text": [
      "*  Output image file:       ~ 112 Mb. \n"
     ]
    },
    {
     "name": "stderr",
     "output_type": "stream",
     "text": [
      "2025-05-09 09:58:31,709 - stpipe - INFO - *  Cores available:         4\n"
     ]
    },
    {
     "name": "stdout",
     "output_type": "stream",
     "text": [
      "*  Cores available:         4\n"
     ]
    },
    {
     "name": "stderr",
     "output_type": "stream",
     "text": [
      "2025-05-09 09:58:31,710 - stpipe - INFO - *\n"
     ]
    },
    {
     "name": "stdout",
     "output_type": "stream",
     "text": [
      "*\n"
     ]
    },
    {
     "name": "stderr",
     "output_type": "stream",
     "text": [
      "2025-05-09 09:58:31,711 - stpipe - INFO - ********************************************************************************\n"
     ]
    },
    {
     "name": "stdout",
     "output_type": "stream",
     "text": [
      "********************************************************************************\n"
     ]
    },
    {
     "name": "stderr",
     "output_type": "stream",
     "text": [
      "2025-05-09 09:58:31,713 - stpipe - INFO - ==== Processing Step Initialization finished at 09:58:31.713 (09/05/2025)\n"
     ]
    },
    {
     "name": "stdout",
     "output_type": "stream",
     "text": [
      "==== Processing Step Initialization finished at 09:58:31.713 (09/05/2025)\n"
     ]
    },
    {
     "name": "stderr",
     "output_type": "stream",
     "text": [
      "2025-05-09 09:58:31,715 - stpipe - INFO - USER INPUT PARAMETERS common to all Processing Steps:\n",
      "2025-05-09 09:58:31,715 - stpipe - INFO - \tbuild :\tTrue\n",
      "2025-05-09 09:58:31,716 - stpipe - INFO - \tcoeffs :\tTrue\n",
      "2025-05-09 09:58:31,717 - stpipe - INFO - \tcontext :\tTrue\n",
      "2025-05-09 09:58:31,718 - stpipe - INFO - \tcrbit :\t4096\n",
      "2025-05-09 09:58:31,719 - stpipe - INFO - \tgroup :\t\n",
      "2025-05-09 09:58:31,719 - stpipe - INFO - \tin_memory :\tFalse\n",
      "2025-05-09 09:58:31,720 - stpipe - INFO - \tinput :\t['/Users/avapolzin/Desktop/psf_testoutputs/acs/j8pu42ecq_flc_150d08m15.267s+2d09m52.304s_F475W_topsf.fits', '/Users/avapolzin/Desktop/psf_testoutputs/acs/j8pu42egq_flc_150d08m15.267s+2d09m52.304s_F475W_topsf.fits', '/Users/avapolzin/Desktop/psf_testoutputs/acs/j8pu42esq_flc_150d08m15.267s+2d09m52.304s_F475W_topsf.fits', '/Users/avapolzin/Desktop/psf_testoutputs/acs/j8pu42evq_flc_150d08m15.267s+2d09m52.304s_F475W_topsf.fits']\n",
      "2025-05-09 09:58:31,720 - stpipe - INFO - \tmdriztab :\tFalse\n",
      "2025-05-09 09:58:31,722 - stpipe - INFO - \tnum_cores :\tNone\n",
      "2025-05-09 09:58:31,722 - stpipe - INFO - \toutput :\t/Users/avapolzin/Desktop/psf_testoutputs/acs/150d08m15.267s+2d09m52.304s_F475W_psf\n",
      "2025-05-09 09:58:31,723 - stpipe - INFO - \tproc_unit :\tnative\n",
      "2025-05-09 09:58:31,724 - stpipe - INFO - \tresetbits :\t4096\n",
      "2025-05-09 09:58:31,725 - stpipe - INFO - \trules_file :\t\n",
      "2025-05-09 09:58:31,725 - stpipe - INFO - \trunfile :\tastrodrizzle.log\n",
      "2025-05-09 09:58:31,740 - stpipe - INFO - \tstepsize :\t10\n",
      "2025-05-09 09:58:31,754 - stpipe - INFO - \tupdatewcs :\tFalse\n",
      "2025-05-09 09:58:31,755 - stpipe - INFO - \twcskey :\t\n",
      "2025-05-09 09:58:31,756 - stpipe - INFO - ==== Processing Step  Static Mask  started at  09:58:31.756 (09/05/2025)\n"
     ]
    },
    {
     "name": "stdout",
     "output_type": "stream",
     "text": [
      "==== Processing Step  Static Mask  started at  09:58:31.756 (09/05/2025)\n"
     ]
    },
    {
     "name": "stderr",
     "output_type": "stream",
     "text": [
      "2025-05-09 09:58:31,757 - stpipe - INFO - \n"
     ]
    },
    {
     "name": "stdout",
     "output_type": "stream",
     "text": [
      "\n"
     ]
    },
    {
     "name": "stderr",
     "output_type": "stream",
     "text": [
      "2025-05-09 09:58:31,765 - stpipe - INFO - Static Mask step not performed.\n",
      "2025-05-09 09:58:31,766 - stpipe - INFO - ==== Processing Step Static Mask finished at 09:58:31.766 (09/05/2025)\n"
     ]
    },
    {
     "name": "stdout",
     "output_type": "stream",
     "text": [
      "==== Processing Step Static Mask finished at 09:58:31.766 (09/05/2025)\n"
     ]
    },
    {
     "name": "stderr",
     "output_type": "stream",
     "text": [
      "2025-05-09 09:58:31,767 - stpipe - INFO - ==== Processing Step  Subtract Sky  started at  09:58:31.767 (09/05/2025)\n"
     ]
    },
    {
     "name": "stdout",
     "output_type": "stream",
     "text": [
      "==== Processing Step  Subtract Sky  started at  09:58:31.767 (09/05/2025)\n"
     ]
    },
    {
     "name": "stderr",
     "output_type": "stream",
     "text": [
      "2025-05-09 09:58:31,769 - stpipe - INFO - \n"
     ]
    },
    {
     "name": "stdout",
     "output_type": "stream",
     "text": [
      "\n"
     ]
    },
    {
     "name": "stderr",
     "output_type": "stream",
     "text": [
      "2025-05-09 09:58:31,770 - stpipe - INFO - USER INPUT PARAMETERS for Sky Subtraction Step:\n",
      "2025-05-09 09:58:31,771 - stpipe - INFO - \tsky_bits :\t0\n",
      "2025-05-09 09:58:31,772 - stpipe - INFO - \tskyclip :\t5\n",
      "2025-05-09 09:58:31,772 - stpipe - INFO - \tskyfile :\t\n",
      "2025-05-09 09:58:31,773 - stpipe - INFO - \tskylower :\tNone\n",
      "2025-05-09 09:58:31,774 - stpipe - INFO - \tskylsigma :\t4.0\n",
      "2025-05-09 09:58:31,774 - stpipe - INFO - \tskymask_cat :\t\n",
      "2025-05-09 09:58:31,775 - stpipe - INFO - \tskymethod :\tlocalmin\n",
      "2025-05-09 09:58:31,776 - stpipe - INFO - \tskystat :\tmedian\n",
      "2025-05-09 09:58:31,776 - stpipe - INFO - \tskysub :\tTrue\n",
      "2025-05-09 09:58:31,777 - stpipe - INFO - \tskyupper :\tNone\n",
      "2025-05-09 09:58:31,778 - stpipe - INFO - \tskyuser :\t\n",
      "2025-05-09 09:58:31,779 - stpipe - INFO - \tskyusigma :\t4.0\n",
      "2025-05-09 09:58:31,781 - stpipe - INFO - \tskywidth :\t0.1\n",
      "2025-05-09 09:58:31,782 - stpipe - INFO - \tuse_static :\tTrue\n",
      "2025-05-09 09:58:31,799 - stpipe - WARNING - Static mask for file '/Users/avapolzin/Desktop/psf_testoutputs/acs/j8pu42ecq_flc_150d08m15.267s+2d09m52.304s_F475W_topsf.fits', ext=('SCI', 1) NOT FOUND.\n",
      "2025-05-09 09:58:31,824 - stpipe - WARNING - Static mask for file '/Users/avapolzin/Desktop/psf_testoutputs/acs/j8pu42egq_flc_150d08m15.267s+2d09m52.304s_F475W_topsf.fits', ext=('SCI', 1) NOT FOUND.\n",
      "2025-05-09 09:58:31,855 - stpipe - WARNING - Static mask for file '/Users/avapolzin/Desktop/psf_testoutputs/acs/j8pu42esq_flc_150d08m15.267s+2d09m52.304s_F475W_topsf.fits', ext=('SCI', 1) NOT FOUND.\n",
      "2025-05-09 09:58:31,890 - stpipe - WARNING - Static mask for file '/Users/avapolzin/Desktop/psf_testoutputs/acs/j8pu42evq_flc_150d08m15.267s+2d09m52.304s_F475W_topsf.fits', ext=('SCI', 1) NOT FOUND.\n",
      "2025-05-09 09:58:31,906 - stpipe - INFO - ***** skymatch started on 2025-05-09 09:58:31.906704\n"
     ]
    },
    {
     "name": "stdout",
     "output_type": "stream",
     "text": [
      "***** skymatch started on 2025-05-09 09:58:31.906704\n"
     ]
    },
    {
     "name": "stderr",
     "output_type": "stream",
     "text": [
      "2025-05-09 09:58:31,908 - stpipe - INFO -       Version 1.0.10\n"
     ]
    },
    {
     "name": "stdout",
     "output_type": "stream",
     "text": [
      "      Version 1.0.10\n"
     ]
    },
    {
     "name": "stderr",
     "output_type": "stream",
     "text": [
      "2025-05-09 09:58:31,909 - stpipe - INFO - \n"
     ]
    },
    {
     "name": "stdout",
     "output_type": "stream",
     "text": [
      "\n"
     ]
    },
    {
     "name": "stderr",
     "output_type": "stream",
     "text": [
      "2025-05-09 09:58:31,910 - stpipe - INFO - 'skymatch' task will apply computed sky differences to input image file(s).\n"
     ]
    },
    {
     "name": "stdout",
     "output_type": "stream",
     "text": [
      "'skymatch' task will apply computed sky differences to input image file(s).\n"
     ]
    },
    {
     "name": "stderr",
     "output_type": "stream",
     "text": [
      "2025-05-09 09:58:31,912 - stpipe - INFO - \n"
     ]
    },
    {
     "name": "stdout",
     "output_type": "stream",
     "text": [
      "\n"
     ]
    },
    {
     "name": "stderr",
     "output_type": "stream",
     "text": [
      "2025-05-09 09:58:31,913 - stpipe - INFO - NOTE: Computed sky values WILL NOT be subtracted from image data ('subtractsky'=False).\n"
     ]
    },
    {
     "name": "stdout",
     "output_type": "stream",
     "text": [
      "NOTE: Computed sky values WILL NOT be subtracted from image data ('subtractsky'=False).\n"
     ]
    },
    {
     "name": "stderr",
     "output_type": "stream",
     "text": [
      "2025-05-09 09:58:31,915 - stpipe - INFO - 'MDRIZSKY' header keyword will represent sky value *computed* from data.\n"
     ]
    },
    {
     "name": "stdout",
     "output_type": "stream",
     "text": [
      "'MDRIZSKY' header keyword will represent sky value *computed* from data.\n"
     ]
    },
    {
     "name": "stderr",
     "output_type": "stream",
     "text": [
      "2025-05-09 09:58:31,916 - stpipe - INFO - \n"
     ]
    },
    {
     "name": "stdout",
     "output_type": "stream",
     "text": [
      "\n"
     ]
    },
    {
     "name": "stderr",
     "output_type": "stream",
     "text": [
      "2025-05-09 09:58:31,942 - stpipe - INFO - -----  User specified keywords:  -----\n"
     ]
    },
    {
     "name": "stdout",
     "output_type": "stream",
     "text": [
      "-----  User specified keywords:  -----\n"
     ]
    },
    {
     "name": "stderr",
     "output_type": "stream",
     "text": [
      "2025-05-09 09:58:31,944 - stpipe - INFO -        Sky Value Keyword:  'MDRIZSKY'\n"
     ]
    },
    {
     "name": "stdout",
     "output_type": "stream",
     "text": [
      "       Sky Value Keyword:  'MDRIZSKY'\n"
     ]
    },
    {
     "name": "stderr",
     "output_type": "stream",
     "text": [
      "2025-05-09 09:58:31,945 - stpipe - INFO -        Data Units Keyword: 'BUNIT'\n"
     ]
    },
    {
     "name": "stdout",
     "output_type": "stream",
     "text": [
      "       Data Units Keyword: 'BUNIT'\n"
     ]
    },
    {
     "name": "stderr",
     "output_type": "stream",
     "text": [
      "2025-05-09 09:58:31,947 - stpipe - INFO - \n"
     ]
    },
    {
     "name": "stdout",
     "output_type": "stream",
     "text": [
      "\n"
     ]
    },
    {
     "name": "stderr",
     "output_type": "stream",
     "text": [
      "2025-05-09 09:58:31,954 - stpipe - INFO - \n"
     ]
    },
    {
     "name": "stdout",
     "output_type": "stream",
     "text": [
      "\n"
     ]
    },
    {
     "name": "stderr",
     "output_type": "stream",
     "text": [
      "2025-05-09 09:58:31,955 - stpipe - INFO - -----  Input file list:  -----\n"
     ]
    },
    {
     "name": "stdout",
     "output_type": "stream",
     "text": [
      "-----  Input file list:  -----\n"
     ]
    },
    {
     "name": "stderr",
     "output_type": "stream",
     "text": [
      "2025-05-09 09:58:31,956 - stpipe - INFO - \n"
     ]
    },
    {
     "name": "stdout",
     "output_type": "stream",
     "text": [
      "\n"
     ]
    },
    {
     "name": "stderr",
     "output_type": "stream",
     "text": [
      "2025-05-09 09:58:31,958 - stpipe - INFO -    **  Input image: 'j8pu42ecq_flc_150d08m15.267s+2d09m52.304s_F475W_topsf.fits'\n"
     ]
    },
    {
     "name": "stdout",
     "output_type": "stream",
     "text": [
      "   **  Input image: 'j8pu42ecq_flc_150d08m15.267s+2d09m52.304s_F475W_topsf.fits'\n"
     ]
    },
    {
     "name": "stderr",
     "output_type": "stream",
     "text": [
      "2025-05-09 09:58:31,959 - stpipe - INFO -        EXT: 'SCI',1;\tMASK: j8pu42ecq_flc_150d08m15.267s+2d09m52.304s_F475W_skymatch_mask_sci1.fits[0]\n"
     ]
    },
    {
     "name": "stdout",
     "output_type": "stream",
     "text": [
      "       EXT: 'SCI',1;\tMASK: j8pu42ecq_flc_150d08m15.267s+2d09m52.304s_F475W_skymatch_mask_sci1.fits[0]\n"
     ]
    },
    {
     "name": "stderr",
     "output_type": "stream",
     "text": [
      "2025-05-09 09:58:31,960 - stpipe - INFO - \n"
     ]
    },
    {
     "name": "stdout",
     "output_type": "stream",
     "text": [
      "\n"
     ]
    },
    {
     "name": "stderr",
     "output_type": "stream",
     "text": [
      "2025-05-09 09:58:31,962 - stpipe - INFO -    **  Input image: 'j8pu42egq_flc_150d08m15.267s+2d09m52.304s_F475W_topsf.fits'\n"
     ]
    },
    {
     "name": "stdout",
     "output_type": "stream",
     "text": [
      "   **  Input image: 'j8pu42egq_flc_150d08m15.267s+2d09m52.304s_F475W_topsf.fits'\n"
     ]
    },
    {
     "name": "stderr",
     "output_type": "stream",
     "text": [
      "2025-05-09 09:58:31,963 - stpipe - INFO -        EXT: 'SCI',1;\tMASK: j8pu42egq_flc_150d08m15.267s+2d09m52.304s_F475W_skymatch_mask_sci1.fits[0]\n"
     ]
    },
    {
     "name": "stdout",
     "output_type": "stream",
     "text": [
      "       EXT: 'SCI',1;\tMASK: j8pu42egq_flc_150d08m15.267s+2d09m52.304s_F475W_skymatch_mask_sci1.fits[0]\n"
     ]
    },
    {
     "name": "stderr",
     "output_type": "stream",
     "text": [
      "2025-05-09 09:58:31,964 - stpipe - INFO - \n"
     ]
    },
    {
     "name": "stdout",
     "output_type": "stream",
     "text": [
      "\n"
     ]
    },
    {
     "name": "stderr",
     "output_type": "stream",
     "text": [
      "2025-05-09 09:58:31,965 - stpipe - INFO -    **  Input image: 'j8pu42esq_flc_150d08m15.267s+2d09m52.304s_F475W_topsf.fits'\n"
     ]
    },
    {
     "name": "stdout",
     "output_type": "stream",
     "text": [
      "   **  Input image: 'j8pu42esq_flc_150d08m15.267s+2d09m52.304s_F475W_topsf.fits'\n"
     ]
    },
    {
     "name": "stderr",
     "output_type": "stream",
     "text": [
      "2025-05-09 09:58:31,967 - stpipe - INFO -        EXT: 'SCI',1;\tMASK: j8pu42esq_flc_150d08m15.267s+2d09m52.304s_F475W_skymatch_mask_sci1.fits[0]\n"
     ]
    },
    {
     "name": "stdout",
     "output_type": "stream",
     "text": [
      "       EXT: 'SCI',1;\tMASK: j8pu42esq_flc_150d08m15.267s+2d09m52.304s_F475W_skymatch_mask_sci1.fits[0]\n"
     ]
    },
    {
     "name": "stderr",
     "output_type": "stream",
     "text": [
      "2025-05-09 09:58:31,968 - stpipe - INFO - \n"
     ]
    },
    {
     "name": "stdout",
     "output_type": "stream",
     "text": [
      "\n"
     ]
    },
    {
     "name": "stderr",
     "output_type": "stream",
     "text": [
      "2025-05-09 09:58:31,969 - stpipe - INFO -    **  Input image: 'j8pu42evq_flc_150d08m15.267s+2d09m52.304s_F475W_topsf.fits'\n"
     ]
    },
    {
     "name": "stdout",
     "output_type": "stream",
     "text": [
      "   **  Input image: 'j8pu42evq_flc_150d08m15.267s+2d09m52.304s_F475W_topsf.fits'\n"
     ]
    },
    {
     "name": "stderr",
     "output_type": "stream",
     "text": [
      "2025-05-09 09:58:31,971 - stpipe - INFO -        EXT: 'SCI',1;\tMASK: j8pu42evq_flc_150d08m15.267s+2d09m52.304s_F475W_skymatch_mask_sci1.fits[0]\n"
     ]
    },
    {
     "name": "stdout",
     "output_type": "stream",
     "text": [
      "       EXT: 'SCI',1;\tMASK: j8pu42evq_flc_150d08m15.267s+2d09m52.304s_F475W_skymatch_mask_sci1.fits[0]\n"
     ]
    },
    {
     "name": "stderr",
     "output_type": "stream",
     "text": [
      "2025-05-09 09:58:31,972 - stpipe - INFO - \n"
     ]
    },
    {
     "name": "stdout",
     "output_type": "stream",
     "text": [
      "\n"
     ]
    },
    {
     "name": "stderr",
     "output_type": "stream",
     "text": [
      "2025-05-09 09:58:31,973 - stpipe - INFO - -----  Sky statistics parameters:  -----\n"
     ]
    },
    {
     "name": "stdout",
     "output_type": "stream",
     "text": [
      "-----  Sky statistics parameters:  -----\n"
     ]
    },
    {
     "name": "stderr",
     "output_type": "stream",
     "text": [
      "2025-05-09 09:58:31,974 - stpipe - INFO -        statistics function: 'median'\n"
     ]
    },
    {
     "name": "stdout",
     "output_type": "stream",
     "text": [
      "       statistics function: 'median'\n"
     ]
    },
    {
     "name": "stderr",
     "output_type": "stream",
     "text": [
      "2025-05-09 09:58:31,976 - stpipe - INFO -        lower = None\n"
     ]
    },
    {
     "name": "stdout",
     "output_type": "stream",
     "text": [
      "       lower = None\n"
     ]
    },
    {
     "name": "stderr",
     "output_type": "stream",
     "text": [
      "2025-05-09 09:58:31,977 - stpipe - INFO -        upper = None\n"
     ]
    },
    {
     "name": "stdout",
     "output_type": "stream",
     "text": [
      "       upper = None\n"
     ]
    },
    {
     "name": "stderr",
     "output_type": "stream",
     "text": [
      "2025-05-09 09:58:31,978 - stpipe - INFO -        nclip = 5\n"
     ]
    },
    {
     "name": "stdout",
     "output_type": "stream",
     "text": [
      "       nclip = 5\n"
     ]
    },
    {
     "name": "stderr",
     "output_type": "stream",
     "text": [
      "2025-05-09 09:58:31,979 - stpipe - INFO -        lsigma = 4.0\n"
     ]
    },
    {
     "name": "stdout",
     "output_type": "stream",
     "text": [
      "       lsigma = 4.0\n"
     ]
    },
    {
     "name": "stderr",
     "output_type": "stream",
     "text": [
      "2025-05-09 09:58:32,006 - stpipe - INFO -        usigma = 4.0\n"
     ]
    },
    {
     "name": "stdout",
     "output_type": "stream",
     "text": [
      "       usigma = 4.0\n"
     ]
    },
    {
     "name": "stderr",
     "output_type": "stream",
     "text": [
      "2025-05-09 09:58:32,007 - stpipe - INFO -        binwidth = 0.1\n"
     ]
    },
    {
     "name": "stdout",
     "output_type": "stream",
     "text": [
      "       binwidth = 0.1\n"
     ]
    },
    {
     "name": "stderr",
     "output_type": "stream",
     "text": [
      "2025-05-09 09:58:32,008 - stpipe - INFO - \n"
     ]
    },
    {
     "name": "stdout",
     "output_type": "stream",
     "text": [
      "\n"
     ]
    },
    {
     "name": "stderr",
     "output_type": "stream",
     "text": [
      "2025-05-09 09:58:32,016 - stpipe - INFO - -----  Data->Brightness conversion parameters for input files:  -----\n"
     ]
    },
    {
     "name": "stdout",
     "output_type": "stream",
     "text": [
      "-----  Data->Brightness conversion parameters for input files:  -----\n"
     ]
    },
    {
     "name": "stderr",
     "output_type": "stream",
     "text": [
      "2025-05-09 09:58:32,017 - stpipe - INFO - \n"
     ]
    },
    {
     "name": "stdout",
     "output_type": "stream",
     "text": [
      "\n"
     ]
    },
    {
     "name": "stderr",
     "output_type": "stream",
     "text": [
      "2025-05-09 09:58:32,018 - stpipe - INFO -    *   Image: j8pu42ecq_flc_150d08m15.267s+2d09m52.304s_F475W_topsf.fits\n"
     ]
    },
    {
     "name": "stdout",
     "output_type": "stream",
     "text": [
      "   *   Image: j8pu42ecq_flc_150d08m15.267s+2d09m52.304s_F475W_topsf.fits\n"
     ]
    },
    {
     "name": "stderr",
     "output_type": "stream",
     "text": [
      "2025-05-09 09:58:32,040 - stpipe - INFO -        EXT = 'SCI',1\n"
     ]
    },
    {
     "name": "stdout",
     "output_type": "stream",
     "text": [
      "       EXT = 'SCI',1\n"
     ]
    },
    {
     "name": "stderr",
     "output_type": "stream",
     "text": [
      "2025-05-09 09:58:32,042 - stpipe - INFO -              Data units type: COUNTS\n"
     ]
    },
    {
     "name": "stdout",
     "output_type": "stream",
     "text": [
      "             Data units type: COUNTS\n"
     ]
    },
    {
     "name": "stderr",
     "output_type": "stream",
     "text": [
      "2025-05-09 09:58:32,043 - stpipe - INFO -              EXPTIME: 507.0 [s]\n"
     ]
    },
    {
     "name": "stdout",
     "output_type": "stream",
     "text": [
      "             EXPTIME: 507.0 [s]\n"
     ]
    },
    {
     "name": "stderr",
     "output_type": "stream",
     "text": [
      "2025-05-09 09:58:32,044 - stpipe - INFO -              Conversion factor (data->brightness):  0.7889546351084812\n"
     ]
    },
    {
     "name": "stdout",
     "output_type": "stream",
     "text": [
      "             Conversion factor (data->brightness):  0.7889546351084812\n"
     ]
    },
    {
     "name": "stderr",
     "output_type": "stream",
     "text": [
      "2025-05-09 09:58:32,046 - stpipe - INFO - \n"
     ]
    },
    {
     "name": "stdout",
     "output_type": "stream",
     "text": [
      "\n"
     ]
    },
    {
     "name": "stderr",
     "output_type": "stream",
     "text": [
      "2025-05-09 09:58:32,046 - stpipe - INFO -    *   Image: j8pu42egq_flc_150d08m15.267s+2d09m52.304s_F475W_topsf.fits\n"
     ]
    },
    {
     "name": "stdout",
     "output_type": "stream",
     "text": [
      "   *   Image: j8pu42egq_flc_150d08m15.267s+2d09m52.304s_F475W_topsf.fits\n"
     ]
    },
    {
     "name": "stderr",
     "output_type": "stream",
     "text": [
      "2025-05-09 09:58:32,068 - stpipe - INFO -        EXT = 'SCI',1\n"
     ]
    },
    {
     "name": "stdout",
     "output_type": "stream",
     "text": [
      "       EXT = 'SCI',1\n"
     ]
    },
    {
     "name": "stderr",
     "output_type": "stream",
     "text": [
      "2025-05-09 09:58:32,069 - stpipe - INFO -              Data units type: COUNTS\n"
     ]
    },
    {
     "name": "stdout",
     "output_type": "stream",
     "text": [
      "             Data units type: COUNTS\n"
     ]
    },
    {
     "name": "stderr",
     "output_type": "stream",
     "text": [
      "2025-05-09 09:58:32,071 - stpipe - INFO -              EXPTIME: 507.0 [s]\n"
     ]
    },
    {
     "name": "stdout",
     "output_type": "stream",
     "text": [
      "             EXPTIME: 507.0 [s]\n"
     ]
    },
    {
     "name": "stderr",
     "output_type": "stream",
     "text": [
      "2025-05-09 09:58:32,073 - stpipe - INFO -              Conversion factor (data->brightness):  0.7889546351084812\n"
     ]
    },
    {
     "name": "stdout",
     "output_type": "stream",
     "text": [
      "             Conversion factor (data->brightness):  0.7889546351084812\n"
     ]
    },
    {
     "name": "stderr",
     "output_type": "stream",
     "text": [
      "2025-05-09 09:58:32,075 - stpipe - INFO - \n"
     ]
    },
    {
     "name": "stdout",
     "output_type": "stream",
     "text": [
      "\n"
     ]
    },
    {
     "name": "stderr",
     "output_type": "stream",
     "text": [
      "2025-05-09 09:58:32,076 - stpipe - INFO -    *   Image: j8pu42esq_flc_150d08m15.267s+2d09m52.304s_F475W_topsf.fits\n"
     ]
    },
    {
     "name": "stdout",
     "output_type": "stream",
     "text": [
      "   *   Image: j8pu42esq_flc_150d08m15.267s+2d09m52.304s_F475W_topsf.fits\n"
     ]
    },
    {
     "name": "stderr",
     "output_type": "stream",
     "text": [
      "2025-05-09 09:58:32,096 - stpipe - INFO -        EXT = 'SCI',1\n"
     ]
    },
    {
     "name": "stdout",
     "output_type": "stream",
     "text": [
      "       EXT = 'SCI',1\n"
     ]
    },
    {
     "name": "stderr",
     "output_type": "stream",
     "text": [
      "2025-05-09 09:58:32,098 - stpipe - INFO -              Data units type: COUNTS\n"
     ]
    },
    {
     "name": "stdout",
     "output_type": "stream",
     "text": [
      "             Data units type: COUNTS\n"
     ]
    },
    {
     "name": "stderr",
     "output_type": "stream",
     "text": [
      "2025-05-09 09:58:32,101 - stpipe - INFO -              EXPTIME: 507.0 [s]\n"
     ]
    },
    {
     "name": "stdout",
     "output_type": "stream",
     "text": [
      "             EXPTIME: 507.0 [s]\n"
     ]
    },
    {
     "name": "stderr",
     "output_type": "stream",
     "text": [
      "2025-05-09 09:58:32,102 - stpipe - INFO -              Conversion factor (data->brightness):  0.7889546351084812\n"
     ]
    },
    {
     "name": "stdout",
     "output_type": "stream",
     "text": [
      "             Conversion factor (data->brightness):  0.7889546351084812\n"
     ]
    },
    {
     "name": "stderr",
     "output_type": "stream",
     "text": [
      "2025-05-09 09:58:32,104 - stpipe - INFO - \n"
     ]
    },
    {
     "name": "stdout",
     "output_type": "stream",
     "text": [
      "\n"
     ]
    },
    {
     "name": "stderr",
     "output_type": "stream",
     "text": [
      "2025-05-09 09:58:32,106 - stpipe - INFO -    *   Image: j8pu42evq_flc_150d08m15.267s+2d09m52.304s_F475W_topsf.fits\n"
     ]
    },
    {
     "name": "stdout",
     "output_type": "stream",
     "text": [
      "   *   Image: j8pu42evq_flc_150d08m15.267s+2d09m52.304s_F475W_topsf.fits\n"
     ]
    },
    {
     "name": "stderr",
     "output_type": "stream",
     "text": [
      "2025-05-09 09:58:32,155 - stpipe - INFO -        EXT = 'SCI',1\n"
     ]
    },
    {
     "name": "stdout",
     "output_type": "stream",
     "text": [
      "       EXT = 'SCI',1\n"
     ]
    },
    {
     "name": "stderr",
     "output_type": "stream",
     "text": [
      "2025-05-09 09:58:32,156 - stpipe - INFO -              Data units type: COUNTS\n"
     ]
    },
    {
     "name": "stdout",
     "output_type": "stream",
     "text": [
      "             Data units type: COUNTS\n"
     ]
    },
    {
     "name": "stderr",
     "output_type": "stream",
     "text": [
      "2025-05-09 09:58:32,159 - stpipe - INFO -              EXPTIME: 507.0 [s]\n"
     ]
    },
    {
     "name": "stdout",
     "output_type": "stream",
     "text": [
      "             EXPTIME: 507.0 [s]\n"
     ]
    },
    {
     "name": "stderr",
     "output_type": "stream",
     "text": [
      "2025-05-09 09:58:32,160 - stpipe - INFO -              Conversion factor (data->brightness):  0.7889546351084812\n"
     ]
    },
    {
     "name": "stdout",
     "output_type": "stream",
     "text": [
      "             Conversion factor (data->brightness):  0.7889546351084812\n"
     ]
    },
    {
     "name": "stderr",
     "output_type": "stream",
     "text": [
      "2025-05-09 09:58:32,161 - stpipe - INFO - \n"
     ]
    },
    {
     "name": "stdout",
     "output_type": "stream",
     "text": [
      "\n"
     ]
    },
    {
     "name": "stderr",
     "output_type": "stream",
     "text": [
      "2025-05-09 09:58:32,163 - stpipe - INFO - \n"
     ]
    },
    {
     "name": "stdout",
     "output_type": "stream",
     "text": [
      "\n"
     ]
    },
    {
     "name": "stderr",
     "output_type": "stream",
     "text": [
      "2025-05-09 09:58:32,165 - stpipe - INFO - -----  Computing sky values requested image extensions (detector chips):  -----\n"
     ]
    },
    {
     "name": "stdout",
     "output_type": "stream",
     "text": [
      "-----  Computing sky values requested image extensions (detector chips):  -----\n"
     ]
    },
    {
     "name": "stderr",
     "output_type": "stream",
     "text": [
      "2025-05-09 09:58:32,166 - stpipe - INFO - \n"
     ]
    },
    {
     "name": "stdout",
     "output_type": "stream",
     "text": [
      "\n"
     ]
    },
    {
     "name": "stderr",
     "output_type": "stream",
     "text": [
      "2025-05-09 09:58:32,445 - stpipe - INFO -    *   Image:   'j8pu42ecq_flc_150d08m15.267s+2d09m52.304s_F475W_topsf.fits['SCI',1]'  --  SKY = 0.0 (brightness units)\n"
     ]
    },
    {
     "name": "stdout",
     "output_type": "stream",
     "text": [
      "   *   Image:   'j8pu42ecq_flc_150d08m15.267s+2d09m52.304s_F475W_topsf.fits['SCI',1]'  --  SKY = 0.0 (brightness units)\n"
     ]
    },
    {
     "name": "stderr",
     "output_type": "stream",
     "text": [
      "2025-05-09 09:58:32,446 - stpipe - INFO -        Sky change (data units):\n"
     ]
    },
    {
     "name": "stdout",
     "output_type": "stream",
     "text": [
      "       Sky change (data units):\n"
     ]
    },
    {
     "name": "stderr",
     "output_type": "stream",
     "text": [
      "2025-05-09 09:58:32,448 - stpipe - INFO -       - EXT = 'SCI',1   delta(MDRIZSKY) = 0   NEW MDRIZSKY = 0\n"
     ]
    },
    {
     "name": "stdout",
     "output_type": "stream",
     "text": [
      "      - EXT = 'SCI',1   delta(MDRIZSKY) = 0   NEW MDRIZSKY = 0\n"
     ]
    },
    {
     "name": "stderr",
     "output_type": "stream",
     "text": [
      "2025-05-09 09:58:32,707 - stpipe - INFO -    *   Image:   'j8pu42egq_flc_150d08m15.267s+2d09m52.304s_F475W_topsf.fits['SCI',1]'  --  SKY = 0.0 (brightness units)\n"
     ]
    },
    {
     "name": "stdout",
     "output_type": "stream",
     "text": [
      "   *   Image:   'j8pu42egq_flc_150d08m15.267s+2d09m52.304s_F475W_topsf.fits['SCI',1]'  --  SKY = 0.0 (brightness units)\n"
     ]
    },
    {
     "name": "stderr",
     "output_type": "stream",
     "text": [
      "2025-05-09 09:58:32,709 - stpipe - INFO -        Sky change (data units):\n"
     ]
    },
    {
     "name": "stdout",
     "output_type": "stream",
     "text": [
      "       Sky change (data units):\n"
     ]
    },
    {
     "name": "stderr",
     "output_type": "stream",
     "text": [
      "2025-05-09 09:58:32,710 - stpipe - INFO -       - EXT = 'SCI',1   delta(MDRIZSKY) = 0   NEW MDRIZSKY = 0\n"
     ]
    },
    {
     "name": "stdout",
     "output_type": "stream",
     "text": [
      "      - EXT = 'SCI',1   delta(MDRIZSKY) = 0   NEW MDRIZSKY = 0\n"
     ]
    },
    {
     "name": "stderr",
     "output_type": "stream",
     "text": [
      "2025-05-09 09:58:32,964 - stpipe - INFO -    *   Image:   'j8pu42esq_flc_150d08m15.267s+2d09m52.304s_F475W_topsf.fits['SCI',1]'  --  SKY = 0.0 (brightness units)\n"
     ]
    },
    {
     "name": "stdout",
     "output_type": "stream",
     "text": [
      "   *   Image:   'j8pu42esq_flc_150d08m15.267s+2d09m52.304s_F475W_topsf.fits['SCI',1]'  --  SKY = 0.0 (brightness units)\n"
     ]
    },
    {
     "name": "stderr",
     "output_type": "stream",
     "text": [
      "2025-05-09 09:58:32,965 - stpipe - INFO -        Sky change (data units):\n"
     ]
    },
    {
     "name": "stdout",
     "output_type": "stream",
     "text": [
      "       Sky change (data units):\n"
     ]
    },
    {
     "name": "stderr",
     "output_type": "stream",
     "text": [
      "2025-05-09 09:58:32,967 - stpipe - INFO -       - EXT = 'SCI',1   delta(MDRIZSKY) = 0   NEW MDRIZSKY = 0\n"
     ]
    },
    {
     "name": "stdout",
     "output_type": "stream",
     "text": [
      "      - EXT = 'SCI',1   delta(MDRIZSKY) = 0   NEW MDRIZSKY = 0\n"
     ]
    },
    {
     "name": "stderr",
     "output_type": "stream",
     "text": [
      "2025-05-09 09:58:33,218 - stpipe - INFO -    *   Image:   'j8pu42evq_flc_150d08m15.267s+2d09m52.304s_F475W_topsf.fits['SCI',1]'  --  SKY = 0.0 (brightness units)\n"
     ]
    },
    {
     "name": "stdout",
     "output_type": "stream",
     "text": [
      "   *   Image:   'j8pu42evq_flc_150d08m15.267s+2d09m52.304s_F475W_topsf.fits['SCI',1]'  --  SKY = 0.0 (brightness units)\n"
     ]
    },
    {
     "name": "stderr",
     "output_type": "stream",
     "text": [
      "2025-05-09 09:58:33,220 - stpipe - INFO -        Sky change (data units):\n"
     ]
    },
    {
     "name": "stdout",
     "output_type": "stream",
     "text": [
      "       Sky change (data units):\n"
     ]
    },
    {
     "name": "stderr",
     "output_type": "stream",
     "text": [
      "2025-05-09 09:58:33,222 - stpipe - INFO -       - EXT = 'SCI',1   delta(MDRIZSKY) = 0   NEW MDRIZSKY = 0\n"
     ]
    },
    {
     "name": "stdout",
     "output_type": "stream",
     "text": [
      "      - EXT = 'SCI',1   delta(MDRIZSKY) = 0   NEW MDRIZSKY = 0\n"
     ]
    },
    {
     "name": "stderr",
     "output_type": "stream",
     "text": [
      "2025-05-09 09:58:33,223 - stpipe - INFO - ***** skymatch ended on 2025-05-09 09:58:33.223520\n"
     ]
    },
    {
     "name": "stdout",
     "output_type": "stream",
     "text": [
      "***** skymatch ended on 2025-05-09 09:58:33.223520\n"
     ]
    },
    {
     "name": "stderr",
     "output_type": "stream",
     "text": [
      "2025-05-09 09:58:33,225 - stpipe - INFO - TOTAL RUN TIME: 0:00:01.316816\n"
     ]
    },
    {
     "name": "stdout",
     "output_type": "stream",
     "text": [
      "TOTAL RUN TIME: 0:00:01.316816\n"
     ]
    },
    {
     "name": "stderr",
     "output_type": "stream",
     "text": [
      "2025-05-09 09:58:33,316 - stpipe - INFO - ==== Processing Step Subtract Sky finished at 09:58:33.316 (09/05/2025)\n"
     ]
    },
    {
     "name": "stdout",
     "output_type": "stream",
     "text": [
      "==== Processing Step Subtract Sky finished at 09:58:33.316 (09/05/2025)\n"
     ]
    },
    {
     "name": "stderr",
     "output_type": "stream",
     "text": [
      "2025-05-09 09:58:33,318 - stpipe - INFO - ==== Processing Step  Separate Drizzle  started at  09:58:33.318 (09/05/2025)\n"
     ]
    },
    {
     "name": "stdout",
     "output_type": "stream",
     "text": [
      "==== Processing Step  Separate Drizzle  started at  09:58:33.318 (09/05/2025)\n"
     ]
    },
    {
     "name": "stderr",
     "output_type": "stream",
     "text": [
      "2025-05-09 09:58:33,319 - stpipe - INFO - \n"
     ]
    },
    {
     "name": "stdout",
     "output_type": "stream",
     "text": [
      "\n"
     ]
    },
    {
     "name": "stderr",
     "output_type": "stream",
     "text": [
      "2025-05-09 09:58:33,321 - stpipe - INFO - Interpreted paramDict with single=True as:\n",
      "{'build': True, 'stepsize': 10, 'coeffs': True, 'wcskey': '', 'kernel': 'turbo', 'wt_scl': 'exptime', 'pixfrac': 1.0, 'fillval': None, 'bits': 0, 'compress': False, 'units': 'cps'}\n",
      "2025-05-09 09:58:33,321 - stpipe - INFO - USER INPUT PARAMETERS for Separate Drizzle Step:\n",
      "2025-05-09 09:58:33,322 - stpipe - INFO - \tbits :\t0\n",
      "2025-05-09 09:58:33,323 - stpipe - INFO - \tbuild :\tFalse\n",
      "2025-05-09 09:58:33,323 - stpipe - INFO - \tclean :\tFalse\n",
      "2025-05-09 09:58:33,324 - stpipe - INFO - \tcoeffs :\tTrue\n",
      "2025-05-09 09:58:33,324 - stpipe - INFO - \tcompress :\tFalse\n",
      "2025-05-09 09:58:33,325 - stpipe - INFO - \tcrbit :\tNone\n",
      "2025-05-09 09:58:33,326 - stpipe - INFO - \tfillval :\tNone\n",
      "2025-05-09 09:58:33,326 - stpipe - INFO - \tkernel :\tturbo\n",
      "2025-05-09 09:58:33,327 - stpipe - INFO - \tnum_cores :\tNone\n",
      "2025-05-09 09:58:33,327 - stpipe - INFO - \tpixfrac :\t1.0\n",
      "2025-05-09 09:58:33,328 - stpipe - INFO - \tproc_unit :\telectrons\n",
      "2025-05-09 09:58:33,328 - stpipe - INFO - \trules_file :\tNone\n",
      "2025-05-09 09:58:33,330 - stpipe - INFO - \tstepsize :\t10\n",
      "2025-05-09 09:58:33,330 - stpipe - INFO - \tunits :\tcps\n",
      "2025-05-09 09:58:33,331 - stpipe - INFO - \twcskey :\t\n",
      "2025-05-09 09:58:33,332 - stpipe - INFO - \twht_type :\tNone\n",
      "2025-05-09 09:58:33,332 - stpipe - INFO - \twt_scl :\texptime\n",
      "2025-05-09 09:58:33,333 - stpipe - INFO -   **Using sub-sampling value of 10 for kernel turbo\n",
      "2025-05-09 09:58:33,334 - stpipe - INFO - Running Drizzle to create output frame with WCS of: \n",
      "2025-05-09 09:58:33,335 - stpipe - INFO - WCS Keywords\n"
     ]
    },
    {
     "name": "stdout",
     "output_type": "stream",
     "text": [
      "WCS Keywords\n"
     ]
    },
    {
     "name": "stderr",
     "output_type": "stream",
     "text": [
      "2025-05-09 09:58:33,337 - stpipe - INFO - \n"
     ]
    },
    {
     "name": "stdout",
     "output_type": "stream",
     "text": [
      "\n"
     ]
    },
    {
     "name": "stderr",
     "output_type": "stream",
     "text": [
      "2025-05-09 09:58:33,338 - stpipe - INFO - Number of WCS axes: 2\n"
     ]
    },
    {
     "name": "stdout",
     "output_type": "stream",
     "text": [
      "Number of WCS axes: 2\n"
     ]
    },
    {
     "name": "stderr",
     "output_type": "stream",
     "text": [
      "2025-05-09 09:58:33,339 - stpipe - INFO - CTYPE : 'RA---TAN' 'DEC--TAN' \n"
     ]
    },
    {
     "name": "stdout",
     "output_type": "stream",
     "text": [
      "CTYPE : 'RA---TAN' 'DEC--TAN' \n"
     ]
    },
    {
     "name": "stderr",
     "output_type": "stream",
     "text": [
      "2025-05-09 09:58:33,340 - stpipe - INFO - CRVAL : np.float64(150.1242636198465) np.float64(2.151761555110333) \n"
     ]
    },
    {
     "name": "stdout",
     "output_type": "stream",
     "text": [
      "CRVAL : np.float64(150.1242636198465) np.float64(2.151761555110333) \n"
     ]
    },
    {
     "name": "stderr",
     "output_type": "stream",
     "text": [
      "2025-05-09 09:58:33,341 - stpipe - INFO - CRPIX : np.float64(2081.0) np.float64(1179.5) \n"
     ]
    },
    {
     "name": "stdout",
     "output_type": "stream",
     "text": [
      "CRPIX : np.float64(2081.0) np.float64(1179.5) \n"
     ]
    },
    {
     "name": "stderr",
     "output_type": "stream",
     "text": [
      "2025-05-09 09:58:33,344 - stpipe - INFO - CD1_1 CD1_2  : np.float64(-2.4118726301966414e-06) np.float64(-1.3677869168244357e-05) \n"
     ]
    },
    {
     "name": "stdout",
     "output_type": "stream",
     "text": [
      "CD1_1 CD1_2  : np.float64(-2.4118726301966414e-06) np.float64(-1.3677869168244357e-05) \n"
     ]
    },
    {
     "name": "stderr",
     "output_type": "stream",
     "text": [
      "2025-05-09 09:58:33,345 - stpipe - INFO - CD2_1 CD2_2  : np.float64(-1.3677869168244357e-05) np.float64(2.4118726301966414e-06) \n"
     ]
    },
    {
     "name": "stdout",
     "output_type": "stream",
     "text": [
      "CD2_1 CD2_2  : np.float64(-1.3677869168244357e-05) np.float64(2.4118726301966414e-06) \n"
     ]
    },
    {
     "name": "stderr",
     "output_type": "stream",
     "text": [
      "2025-05-09 09:58:33,346 - stpipe - INFO - NAXIS : 4162  2359\n"
     ]
    },
    {
     "name": "stdout",
     "output_type": "stream",
     "text": [
      "NAXIS : 4162  2359\n"
     ]
    },
    {
     "name": "stderr",
     "output_type": "stream",
     "text": [
      "2025-05-09 09:58:33,348 - stpipe - INFO - Executing 4 parallel workers\n",
      "2025-05-09 09:58:33,403 - stpipe - INFO - -Drizzle input: /Users/avapolzin/Desktop/psf_testoutputs/acs/j8pu42ecq_flc_150d08m15.267s+2d09m52.304s_F475W_topsf.fits[sci,1]\n",
      "2025-05-09 09:58:33,418 - stpipe - INFO - -Drizzle input: /Users/avapolzin/Desktop/psf_testoutputs/acs/j8pu42egq_flc_150d08m15.267s+2d09m52.304s_F475W_topsf.fits[sci,1]\n",
      "2025-05-09 09:58:33,447 - stpipe - INFO - Applying sky value of 0.000000 to /Users/avapolzin/Desktop/psf_testoutputs/acs/j8pu42ecq_flc_150d08m15.267s+2d09m52.304s_F475W_topsf.fits[sci,1]\n",
      "2025-05-09 09:58:33,457 - stpipe - INFO - -Drizzle input: /Users/avapolzin/Desktop/psf_testoutputs/acs/j8pu42esq_flc_150d08m15.267s+2d09m52.304s_F475W_topsf.fits[sci,1]\n",
      "2025-05-09 09:58:33,487 - stpipe - INFO - Applying sky value of 0.000000 to /Users/avapolzin/Desktop/psf_testoutputs/acs/j8pu42egq_flc_150d08m15.267s+2d09m52.304s_F475W_topsf.fits[sci,1]\n",
      "2025-05-09 09:58:33,486 - stpipe - INFO - -Drizzle input: /Users/avapolzin/Desktop/psf_testoutputs/acs/j8pu42evq_flc_150d08m15.267s+2d09m52.304s_F475W_topsf.fits[sci,1]\n",
      "2025-05-09 09:58:33,501 - stpipe - INFO - Applying sky value of 0.000000 to /Users/avapolzin/Desktop/psf_testoutputs/acs/j8pu42esq_flc_150d08m15.267s+2d09m52.304s_F475W_topsf.fits[sci,1]\n",
      "2025-05-09 09:58:33,525 - stpipe - INFO - Applying sky value of 0.000000 to /Users/avapolzin/Desktop/psf_testoutputs/acs/j8pu42evq_flc_150d08m15.267s+2d09m52.304s_F475W_topsf.fits[sci,1]\n",
      "2025-05-09 09:58:33,691 - stpipe - INFO - Writing out mask file: /Users/avapolzin/Desktop/psf_testoutputs/acs/j8pu42ecq_flc_150d08m15.267s+2d09m52.304s_F475W_topsf_sci1_single_mask.fits\n",
      "2025-05-09 09:58:33,693 - stpipe - INFO - Using WCSLIB-based coordinate transformation...\n",
      "2025-05-09 09:58:33,695 - stpipe - INFO - stepsize = 10\n",
      "2025-05-09 09:58:33,724 - stpipe - INFO - Writing out mask file: /Users/avapolzin/Desktop/psf_testoutputs/acs/j8pu42egq_flc_150d08m15.267s+2d09m52.304s_F475W_topsf_sci1_single_mask.fits\n",
      "2025-05-09 09:58:33,728 - stpipe - INFO - Using WCSLIB-based coordinate transformation...\n",
      "2025-05-09 09:58:33,731 - stpipe - INFO - stepsize = 10\n",
      "2025-05-09 09:58:33,742 - stpipe - INFO - Writing out mask file: /Users/avapolzin/Desktop/psf_testoutputs/acs/j8pu42esq_flc_150d08m15.267s+2d09m52.304s_F475W_topsf_sci1_single_mask.fits\n",
      "2025-05-09 09:58:33,739 - stpipe - INFO - -Drizzling using kernel = turbo\n",
      "\n",
      "2025-05-09 09:58:33,743 - stpipe - INFO - Writing out mask file: /Users/avapolzin/Desktop/psf_testoutputs/acs/j8pu42evq_flc_150d08m15.267s+2d09m52.304s_F475W_topsf_sci1_single_mask.fits\n",
      "2025-05-09 09:58:33,746 - stpipe - INFO - Using WCSLIB-based coordinate transformation...\n",
      "2025-05-09 09:58:33,747 - stpipe - INFO - Using WCSLIB-based coordinate transformation...\n",
      "2025-05-09 09:58:33,749 - stpipe - INFO - stepsize = 10\n",
      "2025-05-09 09:58:33,749 - stpipe - INFO - stepsize = 10\n",
      "2025-05-09 09:58:33,768 - stpipe - INFO - -Drizzling using kernel = turbo\n",
      "\n",
      "2025-05-09 09:58:33,787 - stpipe - INFO - -Drizzling using kernel = turbo\n",
      "\n",
      "2025-05-09 09:58:33,787 - stpipe - INFO - -Drizzling using kernel = turbo\n",
      "\n",
      "2025-05-09 09:58:34,496 - stpipe - INFO - -Generating simple FITS output: /Users/avapolzin/Desktop/psf_testoutputs/acs/j8pu42ecq_flc_150d08m15.267s+2d09m52.304s_F475W_topsf_single_sci.fits\n"
     ]
    },
    {
     "name": "stdout",
     "output_type": "stream",
     "text": [
      "-Generating simple FITS output: /Users/avapolzin/Desktop/psf_testoutputs/acs/j8pu42ecq_flc_150d08m15.267s+2d09m52.304s_F475W_topsf_single_sci.fits\n"
     ]
    },
    {
     "name": "stderr",
     "output_type": "stream",
     "text": [
      "2025-05-09 09:58:34,516 - stpipe - INFO - -Generating simple FITS output: /Users/avapolzin/Desktop/psf_testoutputs/acs/j8pu42egq_flc_150d08m15.267s+2d09m52.304s_F475W_topsf_single_sci.fits\n",
      "2025-05-09 09:58:34,521 - stpipe - WARNING - /Users/avapolzin/opt/anaconda3/envs/spike/lib/python3.10/site-packages/astropy/io/fits/card.py:1036: VerifyWarning: Card is too long, comment will be truncated.\n",
      "\n"
     ]
    },
    {
     "name": "stdout",
     "output_type": "stream",
     "text": [
      "-Generating simple FITS output: /Users/avapolzin/Desktop/psf_testoutputs/acs/j8pu42egq_flc_150d08m15.267s+2d09m52.304s_F475W_topsf_single_sci.fits\n"
     ]
    },
    {
     "name": "stderr",
     "output_type": "stream",
     "text": [
      "2025-05-09 09:58:34,550 - stpipe - INFO - -Generating simple FITS output: /Users/avapolzin/Desktop/psf_testoutputs/acs/j8pu42evq_flc_150d08m15.267s+2d09m52.304s_F475W_topsf_single_sci.fits\n"
     ]
    },
    {
     "name": "stdout",
     "output_type": "stream",
     "text": [
      "-Generating simple FITS output: /Users/avapolzin/Desktop/psf_testoutputs/acs/j8pu42evq_flc_150d08m15.267s+2d09m52.304s_F475W_topsf_single_sci.fits\n"
     ]
    },
    {
     "name": "stderr",
     "output_type": "stream",
     "text": [
      "2025-05-09 09:58:34,552 - stpipe - INFO - -Generating simple FITS output: /Users/avapolzin/Desktop/psf_testoutputs/acs/j8pu42esq_flc_150d08m15.267s+2d09m52.304s_F475W_topsf_single_sci.fits\n"
     ]
    },
    {
     "name": "stdout",
     "output_type": "stream",
     "text": [
      "-Generating simple FITS output: /Users/avapolzin/Desktop/psf_testoutputs/acs/j8pu42esq_flc_150d08m15.267s+2d09m52.304s_F475W_topsf_single_sci.fits\n"
     ]
    },
    {
     "name": "stderr",
     "output_type": "stream",
     "text": [
      "2025-05-09 09:58:34,554 - stpipe - WARNING - /Users/avapolzin/opt/anaconda3/envs/spike/lib/python3.10/site-packages/astropy/io/fits/card.py:1036: VerifyWarning: Card is too long, comment will be truncated.\n",
      "\n",
      "2025-05-09 09:58:34,600 - stpipe - WARNING - /Users/avapolzin/opt/anaconda3/envs/spike/lib/python3.10/site-packages/astropy/io/fits/card.py:1036: VerifyWarning: Card is too long, comment will be truncated.\n",
      "\n",
      "2025-05-09 09:58:34,603 - stpipe - WARNING - /Users/avapolzin/opt/anaconda3/envs/spike/lib/python3.10/site-packages/astropy/io/fits/card.py:1036: VerifyWarning: Card is too long, comment will be truncated.\n",
      "\n",
      "2025-05-09 09:58:34,606 - stpipe - INFO - Writing out image to disk: /Users/avapolzin/Desktop/psf_testoutputs/acs/j8pu42ecq_flc_150d08m15.267s+2d09m52.304s_F475W_topsf_single_sci.fits\n"
     ]
    },
    {
     "name": "stdout",
     "output_type": "stream",
     "text": [
      "Writing out image to disk: /Users/avapolzin/Desktop/psf_testoutputs/acs/j8pu42ecq_flc_150d08m15.267s+2d09m52.304s_F475W_topsf_single_sci.fits\n"
     ]
    },
    {
     "name": "stderr",
     "output_type": "stream",
     "text": [
      "2025-05-09 09:58:34,627 - stpipe - INFO - Writing out image to disk: /Users/avapolzin/Desktop/psf_testoutputs/acs/j8pu42egq_flc_150d08m15.267s+2d09m52.304s_F475W_topsf_single_sci.fits\n"
     ]
    },
    {
     "name": "stdout",
     "output_type": "stream",
     "text": [
      "Writing out image to disk: /Users/avapolzin/Desktop/psf_testoutputs/acs/j8pu42egq_flc_150d08m15.267s+2d09m52.304s_F475W_topsf_single_sci.fits\n"
     ]
    },
    {
     "name": "stderr",
     "output_type": "stream",
     "text": [
      "2025-05-09 09:58:34,650 - stpipe - INFO - Writing out image to disk: /Users/avapolzin/Desktop/psf_testoutputs/acs/j8pu42evq_flc_150d08m15.267s+2d09m52.304s_F475W_topsf_single_sci.fits\n",
      "2025-05-09 09:58:34,651 - stpipe - INFO - Writing out image to disk: /Users/avapolzin/Desktop/psf_testoutputs/acs/j8pu42esq_flc_150d08m15.267s+2d09m52.304s_F475W_topsf_single_sci.fits\n"
     ]
    },
    {
     "name": "stdout",
     "output_type": "stream",
     "text": [
      "Writing out image to disk: /Users/avapolzin/Desktop/psf_testoutputs/acs/j8pu42evq_flc_150d08m15.267s+2d09m52.304s_F475W_topsf_single_sci.fits\n",
      "Writing out image to disk: /Users/avapolzin/Desktop/psf_testoutputs/acs/j8pu42esq_flc_150d08m15.267s+2d09m52.304s_F475W_topsf_single_sci.fits\n"
     ]
    },
    {
     "name": "stderr",
     "output_type": "stream",
     "text": [
      "2025-05-09 09:58:34,687 - stpipe - INFO - Writing out image to disk: /Users/avapolzin/Desktop/psf_testoutputs/acs/j8pu42ecq_flc_150d08m15.267s+2d09m52.304s_F475W_topsf_single_wht.fits\n"
     ]
    },
    {
     "name": "stdout",
     "output_type": "stream",
     "text": [
      "Writing out image to disk: /Users/avapolzin/Desktop/psf_testoutputs/acs/j8pu42ecq_flc_150d08m15.267s+2d09m52.304s_F475W_topsf_single_wht.fits\n"
     ]
    },
    {
     "name": "stderr",
     "output_type": "stream",
     "text": [
      "2025-05-09 09:58:34,708 - stpipe - INFO - Writing out image to disk: /Users/avapolzin/Desktop/psf_testoutputs/acs/j8pu42egq_flc_150d08m15.267s+2d09m52.304s_F475W_topsf_single_wht.fits\n"
     ]
    },
    {
     "name": "stdout",
     "output_type": "stream",
     "text": [
      "Writing out image to disk: /Users/avapolzin/Desktop/psf_testoutputs/acs/j8pu42egq_flc_150d08m15.267s+2d09m52.304s_F475W_topsf_single_wht.fits\n"
     ]
    },
    {
     "name": "stderr",
     "output_type": "stream",
     "text": [
      "2025-05-09 09:58:34,758 - stpipe - INFO - Writing out image to disk: /Users/avapolzin/Desktop/psf_testoutputs/acs/j8pu42evq_flc_150d08m15.267s+2d09m52.304s_F475W_topsf_single_wht.fits\n"
     ]
    },
    {
     "name": "stdout",
     "output_type": "stream",
     "text": [
      "Writing out image to disk: /Users/avapolzin/Desktop/psf_testoutputs/acs/j8pu42evq_flc_150d08m15.267s+2d09m52.304s_F475W_topsf_single_wht.fits\n"
     ]
    },
    {
     "name": "stderr",
     "output_type": "stream",
     "text": [
      "2025-05-09 09:58:34,760 - stpipe - INFO - Writing out image to disk: /Users/avapolzin/Desktop/psf_testoutputs/acs/j8pu42esq_flc_150d08m15.267s+2d09m52.304s_F475W_topsf_single_wht.fits\n"
     ]
    },
    {
     "name": "stdout",
     "output_type": "stream",
     "text": [
      "Writing out image to disk: /Users/avapolzin/Desktop/psf_testoutputs/acs/j8pu42esq_flc_150d08m15.267s+2d09m52.304s_F475W_topsf_single_wht.fits\n"
     ]
    },
    {
     "name": "stderr",
     "output_type": "stream",
     "text": [
      "2025-05-09 09:58:34,857 - stpipe - INFO - ==== Processing Step Separate Drizzle finished at 09:58:34.856 (09/05/2025)\n"
     ]
    },
    {
     "name": "stdout",
     "output_type": "stream",
     "text": [
      "==== Processing Step Separate Drizzle finished at 09:58:34.856 (09/05/2025)\n"
     ]
    },
    {
     "name": "stderr",
     "output_type": "stream",
     "text": [
      "2025-05-09 09:58:34,859 - stpipe - INFO - ==== Processing Step  Create Median  started at  09:58:34.859 (09/05/2025)\n"
     ]
    },
    {
     "name": "stdout",
     "output_type": "stream",
     "text": [
      "==== Processing Step  Create Median  started at  09:58:34.859 (09/05/2025)\n"
     ]
    },
    {
     "name": "stderr",
     "output_type": "stream",
     "text": [
      "2025-05-09 09:58:34,860 - stpipe - INFO - \n"
     ]
    },
    {
     "name": "stdout",
     "output_type": "stream",
     "text": [
      "\n"
     ]
    },
    {
     "name": "stderr",
     "output_type": "stream",
     "text": [
      "2025-05-09 09:58:34,862 - stpipe - INFO - USER INPUT PARAMETERS for Create Median Step:\n",
      "2025-05-09 09:58:34,863 - stpipe - INFO - \tcombine_bufsize :\tNone\n",
      "2025-05-09 09:58:34,863 - stpipe - INFO - \tcombine_grow :\t1\n",
      "2025-05-09 09:58:34,864 - stpipe - INFO - \tcombine_hthresh :\tNone\n",
      "2025-05-09 09:58:34,865 - stpipe - INFO - \tcombine_lthresh :\tNone\n",
      "2025-05-09 09:58:34,865 - stpipe - INFO - \tcombine_maskpt :\t0.3\n",
      "2025-05-09 09:58:34,866 - stpipe - INFO - \tcombine_nhigh :\t0\n",
      "2025-05-09 09:58:34,867 - stpipe - INFO - \tcombine_nlow :\t0\n",
      "2025-05-09 09:58:34,868 - stpipe - INFO - \tcombine_nsigma :\t4 3\n",
      "2025-05-09 09:58:34,868 - stpipe - INFO - \tcombine_type :\timedian\n",
      "2025-05-09 09:58:34,869 - stpipe - INFO - \tcompress :\tFalse\n",
      "2025-05-09 09:58:34,869 - stpipe - INFO - \tmedian :\tTrue\n",
      "2025-05-09 09:58:34,870 - stpipe - INFO - \tmedian_newmasks :\tTrue\n",
      "2025-05-09 09:58:34,871 - stpipe - INFO - \tproc_unit :\tnative\n",
      "2025-05-09 09:58:34,979 - stpipe - INFO - reference sky value for image '/Users/avapolzin/Desktop/psf_testoutputs/acs/j8pu42ecq_flc_150d08m15.267s+2d09m52.304s_F475W_topsf.fits' is 0.0\n"
     ]
    },
    {
     "name": "stdout",
     "output_type": "stream",
     "text": [
      "reference sky value for image '/Users/avapolzin/Desktop/psf_testoutputs/acs/j8pu42ecq_flc_150d08m15.267s+2d09m52.304s_F475W_topsf.fits' is 0.0\n"
     ]
    },
    {
     "name": "stderr",
     "output_type": "stream",
     "text": [
      "2025-05-09 09:58:35,040 - stpipe - INFO - reference sky value for image '/Users/avapolzin/Desktop/psf_testoutputs/acs/j8pu42egq_flc_150d08m15.267s+2d09m52.304s_F475W_topsf.fits' is 0.0\n"
     ]
    },
    {
     "name": "stdout",
     "output_type": "stream",
     "text": [
      "reference sky value for image '/Users/avapolzin/Desktop/psf_testoutputs/acs/j8pu42egq_flc_150d08m15.267s+2d09m52.304s_F475W_topsf.fits' is 0.0\n"
     ]
    },
    {
     "name": "stderr",
     "output_type": "stream",
     "text": [
      "2025-05-09 09:58:35,100 - stpipe - INFO - reference sky value for image '/Users/avapolzin/Desktop/psf_testoutputs/acs/j8pu42esq_flc_150d08m15.267s+2d09m52.304s_F475W_topsf.fits' is 0.0\n"
     ]
    },
    {
     "name": "stdout",
     "output_type": "stream",
     "text": [
      "reference sky value for image '/Users/avapolzin/Desktop/psf_testoutputs/acs/j8pu42esq_flc_150d08m15.267s+2d09m52.304s_F475W_topsf.fits' is 0.0\n"
     ]
    },
    {
     "name": "stderr",
     "output_type": "stream",
     "text": [
      "2025-05-09 09:58:35,163 - stpipe - INFO - reference sky value for image '/Users/avapolzin/Desktop/psf_testoutputs/acs/j8pu42evq_flc_150d08m15.267s+2d09m52.304s_F475W_topsf.fits' is 0.0\n"
     ]
    },
    {
     "name": "stdout",
     "output_type": "stream",
     "text": [
      "reference sky value for image '/Users/avapolzin/Desktop/psf_testoutputs/acs/j8pu42evq_flc_150d08m15.267s+2d09m52.304s_F475W_topsf.fits' is 0.0\n"
     ]
    },
    {
     "name": "stderr",
     "output_type": "stream",
     "text": [
      "2025-05-09 09:58:36,452 - stpipe - INFO - Saving output median image to: '/Users/avapolzin/Desktop/psf_testoutputs/acs/150d08m15.267s+2d09m52.304s_F475W_psf_med.fits'\n"
     ]
    },
    {
     "name": "stdout",
     "output_type": "stream",
     "text": [
      "Saving output median image to: '/Users/avapolzin/Desktop/psf_testoutputs/acs/150d08m15.267s+2d09m52.304s_F475W_psf_med.fits'\n"
     ]
    },
    {
     "name": "stderr",
     "output_type": "stream",
     "text": [
      "2025-05-09 09:58:36,481 - stpipe - INFO - ==== Processing Step Create Median finished at 09:58:36.480 (09/05/2025)\n"
     ]
    },
    {
     "name": "stdout",
     "output_type": "stream",
     "text": [
      "==== Processing Step Create Median finished at 09:58:36.480 (09/05/2025)\n"
     ]
    },
    {
     "name": "stderr",
     "output_type": "stream",
     "text": [
      "2025-05-09 09:58:36,483 - stpipe - INFO - ==== Processing Step  Blot  started at  09:58:36.482 (09/05/2025)\n"
     ]
    },
    {
     "name": "stdout",
     "output_type": "stream",
     "text": [
      "==== Processing Step  Blot  started at  09:58:36.482 (09/05/2025)\n"
     ]
    },
    {
     "name": "stderr",
     "output_type": "stream",
     "text": [
      "2025-05-09 09:58:36,484 - stpipe - INFO - \n"
     ]
    },
    {
     "name": "stdout",
     "output_type": "stream",
     "text": [
      "\n"
     ]
    },
    {
     "name": "stderr",
     "output_type": "stream",
     "text": [
      "2025-05-09 09:58:36,485 - stpipe - INFO - USER INPUT PARAMETERS for Blot Step:\n",
      "2025-05-09 09:58:36,486 - stpipe - INFO - \tblot_addsky :\tTrue\n",
      "2025-05-09 09:58:36,486 - stpipe - INFO - \tblot_interp :\tpoly5\n",
      "2025-05-09 09:58:36,487 - stpipe - INFO - \tblot_sinscl :\t1.0\n",
      "2025-05-09 09:58:36,488 - stpipe - INFO - \tblot_skyval :\t0.0\n",
      "2025-05-09 09:58:36,488 - stpipe - INFO - \tcoeffs :\tTrue\n",
      "2025-05-09 09:58:36,502 - stpipe - INFO -     Blot: creating blotted image:  /Users/avapolzin/Desktop/psf_testoutputs/acs/j8pu42ecq_flc_150d08m15.267s+2d09m52.304s_F475W_topsf.fits[sci,1]\n"
     ]
    },
    {
     "name": "stdout",
     "output_type": "stream",
     "text": [
      "    Blot: creating blotted image:  /Users/avapolzin/Desktop/psf_testoutputs/acs/j8pu42ecq_flc_150d08m15.267s+2d09m52.304s_F475W_topsf.fits[sci,1]\n"
     ]
    },
    {
     "name": "stderr",
     "output_type": "stream",
     "text": [
      "2025-05-09 09:58:36,552 - stpipe - INFO - Using default C-based coordinate transformation...\n"
     ]
    },
    {
     "name": "stdout",
     "output_type": "stream",
     "text": [
      "Using default C-based coordinate transformation...\n"
     ]
    },
    {
     "name": "stderr",
     "output_type": "stream",
     "text": [
      "2025-05-09 09:58:37,337 - stpipe - INFO - Applying sky value of 0.000000 to blotted image /Users/avapolzin/Desktop/psf_testoutputs/acs/j8pu42ecq_flc_150d08m15.267s+2d09m52.304s_F475W_topsf.fits[sci,1]\n",
      "2025-05-09 09:58:37,377 - stpipe - INFO - -Generating simple FITS output: /Users/avapolzin/Desktop/psf_testoutputs/acs/j8pu42ecq_flc_150d08m15.267s+2d09m52.304s_F475W_topsf_sci1_blt.fits\n"
     ]
    },
    {
     "name": "stdout",
     "output_type": "stream",
     "text": [
      "-Generating simple FITS output: /Users/avapolzin/Desktop/psf_testoutputs/acs/j8pu42ecq_flc_150d08m15.267s+2d09m52.304s_F475W_topsf_sci1_blt.fits\n"
     ]
    },
    {
     "name": "stderr",
     "output_type": "stream",
     "text": [
      "2025-05-09 09:58:37,393 - stpipe - INFO - Writing out image to disk: /Users/avapolzin/Desktop/psf_testoutputs/acs/j8pu42ecq_flc_150d08m15.267s+2d09m52.304s_F475W_topsf_sci1_blt.fits\n"
     ]
    },
    {
     "name": "stdout",
     "output_type": "stream",
     "text": [
      "Writing out image to disk: /Users/avapolzin/Desktop/psf_testoutputs/acs/j8pu42ecq_flc_150d08m15.267s+2d09m52.304s_F475W_topsf_sci1_blt.fits\n"
     ]
    },
    {
     "name": "stderr",
     "output_type": "stream",
     "text": [
      "2025-05-09 09:58:37,429 - stpipe - INFO -     Blot: creating blotted image:  /Users/avapolzin/Desktop/psf_testoutputs/acs/j8pu42egq_flc_150d08m15.267s+2d09m52.304s_F475W_topsf.fits[sci,1]\n"
     ]
    },
    {
     "name": "stdout",
     "output_type": "stream",
     "text": [
      "    Blot: creating blotted image:  /Users/avapolzin/Desktop/psf_testoutputs/acs/j8pu42egq_flc_150d08m15.267s+2d09m52.304s_F475W_topsf.fits[sci,1]\n"
     ]
    },
    {
     "name": "stderr",
     "output_type": "stream",
     "text": [
      "2025-05-09 09:58:37,466 - stpipe - INFO - Using default C-based coordinate transformation...\n"
     ]
    },
    {
     "name": "stdout",
     "output_type": "stream",
     "text": [
      "Using default C-based coordinate transformation...\n"
     ]
    },
    {
     "name": "stderr",
     "output_type": "stream",
     "text": [
      "2025-05-09 09:58:38,248 - stpipe - INFO - Applying sky value of 0.000000 to blotted image /Users/avapolzin/Desktop/psf_testoutputs/acs/j8pu42egq_flc_150d08m15.267s+2d09m52.304s_F475W_topsf.fits[sci,1]\n",
      "2025-05-09 09:58:38,288 - stpipe - INFO - -Generating simple FITS output: /Users/avapolzin/Desktop/psf_testoutputs/acs/j8pu42egq_flc_150d08m15.267s+2d09m52.304s_F475W_topsf_sci1_blt.fits\n"
     ]
    },
    {
     "name": "stdout",
     "output_type": "stream",
     "text": [
      "-Generating simple FITS output: /Users/avapolzin/Desktop/psf_testoutputs/acs/j8pu42egq_flc_150d08m15.267s+2d09m52.304s_F475W_topsf_sci1_blt.fits\n"
     ]
    },
    {
     "name": "stderr",
     "output_type": "stream",
     "text": [
      "2025-05-09 09:58:38,304 - stpipe - INFO - Writing out image to disk: /Users/avapolzin/Desktop/psf_testoutputs/acs/j8pu42egq_flc_150d08m15.267s+2d09m52.304s_F475W_topsf_sci1_blt.fits\n"
     ]
    },
    {
     "name": "stdout",
     "output_type": "stream",
     "text": [
      "Writing out image to disk: /Users/avapolzin/Desktop/psf_testoutputs/acs/j8pu42egq_flc_150d08m15.267s+2d09m52.304s_F475W_topsf_sci1_blt.fits\n"
     ]
    },
    {
     "name": "stderr",
     "output_type": "stream",
     "text": [
      "2025-05-09 09:58:38,339 - stpipe - INFO -     Blot: creating blotted image:  /Users/avapolzin/Desktop/psf_testoutputs/acs/j8pu42esq_flc_150d08m15.267s+2d09m52.304s_F475W_topsf.fits[sci,1]\n"
     ]
    },
    {
     "name": "stdout",
     "output_type": "stream",
     "text": [
      "    Blot: creating blotted image:  /Users/avapolzin/Desktop/psf_testoutputs/acs/j8pu42esq_flc_150d08m15.267s+2d09m52.304s_F475W_topsf.fits[sci,1]\n"
     ]
    },
    {
     "name": "stderr",
     "output_type": "stream",
     "text": [
      "2025-05-09 09:58:38,364 - stpipe - INFO - Using default C-based coordinate transformation...\n"
     ]
    },
    {
     "name": "stdout",
     "output_type": "stream",
     "text": [
      "Using default C-based coordinate transformation...\n"
     ]
    },
    {
     "name": "stderr",
     "output_type": "stream",
     "text": [
      "2025-05-09 09:58:39,169 - stpipe - INFO - Applying sky value of 0.000000 to blotted image /Users/avapolzin/Desktop/psf_testoutputs/acs/j8pu42esq_flc_150d08m15.267s+2d09m52.304s_F475W_topsf.fits[sci,1]\n",
      "2025-05-09 09:58:39,210 - stpipe - INFO - -Generating simple FITS output: /Users/avapolzin/Desktop/psf_testoutputs/acs/j8pu42esq_flc_150d08m15.267s+2d09m52.304s_F475W_topsf_sci1_blt.fits\n"
     ]
    },
    {
     "name": "stdout",
     "output_type": "stream",
     "text": [
      "-Generating simple FITS output: /Users/avapolzin/Desktop/psf_testoutputs/acs/j8pu42esq_flc_150d08m15.267s+2d09m52.304s_F475W_topsf_sci1_blt.fits\n"
     ]
    },
    {
     "name": "stderr",
     "output_type": "stream",
     "text": [
      "2025-05-09 09:58:39,225 - stpipe - INFO - Writing out image to disk: /Users/avapolzin/Desktop/psf_testoutputs/acs/j8pu42esq_flc_150d08m15.267s+2d09m52.304s_F475W_topsf_sci1_blt.fits\n"
     ]
    },
    {
     "name": "stdout",
     "output_type": "stream",
     "text": [
      "Writing out image to disk: /Users/avapolzin/Desktop/psf_testoutputs/acs/j8pu42esq_flc_150d08m15.267s+2d09m52.304s_F475W_topsf_sci1_blt.fits\n"
     ]
    },
    {
     "name": "stderr",
     "output_type": "stream",
     "text": [
      "2025-05-09 09:58:39,270 - stpipe - INFO -     Blot: creating blotted image:  /Users/avapolzin/Desktop/psf_testoutputs/acs/j8pu42evq_flc_150d08m15.267s+2d09m52.304s_F475W_topsf.fits[sci,1]\n"
     ]
    },
    {
     "name": "stdout",
     "output_type": "stream",
     "text": [
      "    Blot: creating blotted image:  /Users/avapolzin/Desktop/psf_testoutputs/acs/j8pu42evq_flc_150d08m15.267s+2d09m52.304s_F475W_topsf.fits[sci,1]\n"
     ]
    },
    {
     "name": "stderr",
     "output_type": "stream",
     "text": [
      "2025-05-09 09:58:39,298 - stpipe - INFO - Using default C-based coordinate transformation...\n"
     ]
    },
    {
     "name": "stdout",
     "output_type": "stream",
     "text": [
      "Using default C-based coordinate transformation...\n"
     ]
    },
    {
     "name": "stderr",
     "output_type": "stream",
     "text": [
      "2025-05-09 09:58:40,078 - stpipe - INFO - Applying sky value of 0.000000 to blotted image /Users/avapolzin/Desktop/psf_testoutputs/acs/j8pu42evq_flc_150d08m15.267s+2d09m52.304s_F475W_topsf.fits[sci,1]\n",
      "2025-05-09 09:58:40,118 - stpipe - INFO - -Generating simple FITS output: /Users/avapolzin/Desktop/psf_testoutputs/acs/j8pu42evq_flc_150d08m15.267s+2d09m52.304s_F475W_topsf_sci1_blt.fits\n"
     ]
    },
    {
     "name": "stdout",
     "output_type": "stream",
     "text": [
      "-Generating simple FITS output: /Users/avapolzin/Desktop/psf_testoutputs/acs/j8pu42evq_flc_150d08m15.267s+2d09m52.304s_F475W_topsf_sci1_blt.fits\n"
     ]
    },
    {
     "name": "stderr",
     "output_type": "stream",
     "text": [
      "2025-05-09 09:58:40,134 - stpipe - INFO - Writing out image to disk: /Users/avapolzin/Desktop/psf_testoutputs/acs/j8pu42evq_flc_150d08m15.267s+2d09m52.304s_F475W_topsf_sci1_blt.fits\n"
     ]
    },
    {
     "name": "stdout",
     "output_type": "stream",
     "text": [
      "Writing out image to disk: /Users/avapolzin/Desktop/psf_testoutputs/acs/j8pu42evq_flc_150d08m15.267s+2d09m52.304s_F475W_topsf_sci1_blt.fits\n"
     ]
    },
    {
     "name": "stderr",
     "output_type": "stream",
     "text": [
      "2025-05-09 09:58:40,170 - stpipe - INFO - ==== Processing Step Blot finished at 09:58:40.170 (09/05/2025)\n"
     ]
    },
    {
     "name": "stdout",
     "output_type": "stream",
     "text": [
      "==== Processing Step Blot finished at 09:58:40.170 (09/05/2025)\n"
     ]
    },
    {
     "name": "stderr",
     "output_type": "stream",
     "text": [
      "2025-05-09 09:58:40,171 - stpipe - INFO - ==== Processing Step  Driz_CR  started at  09:58:40.171 (09/05/2025)\n"
     ]
    },
    {
     "name": "stdout",
     "output_type": "stream",
     "text": [
      "==== Processing Step  Driz_CR  started at  09:58:40.171 (09/05/2025)\n"
     ]
    },
    {
     "name": "stderr",
     "output_type": "stream",
     "text": [
      "2025-05-09 09:58:40,173 - stpipe - INFO - \n"
     ]
    },
    {
     "name": "stdout",
     "output_type": "stream",
     "text": [
      "\n"
     ]
    },
    {
     "name": "stderr",
     "output_type": "stream",
     "text": [
      "2025-05-09 09:58:40,174 - stpipe - INFO - USER INPUT PARAMETERS for Driz_CR Step:\n",
      "2025-05-09 09:58:40,175 - stpipe - INFO - \tcrbit :\t4096\n",
      "2025-05-09 09:58:40,175 - stpipe - INFO - \tdriz_cr :\tTrue\n",
      "2025-05-09 09:58:40,176 - stpipe - INFO - \tdriz_cr_corr :\tFalse\n",
      "2025-05-09 09:58:40,177 - stpipe - INFO - \tdriz_cr_ctegrow :\t0\n",
      "2025-05-09 09:58:40,177 - stpipe - INFO - \tdriz_cr_grow :\t1\n",
      "2025-05-09 09:58:40,178 - stpipe - INFO - \tdriz_cr_scale :\t1.2 0.7\n",
      "2025-05-09 09:58:40,178 - stpipe - INFO - \tdriz_cr_snr :\t3.5 3.0\n",
      "2025-05-09 09:58:40,179 - stpipe - INFO - \tinmemory :\tFalse\n",
      "2025-05-09 09:58:40,180 - stpipe - INFO - Executing 4 parallel workers\n",
      "2025-05-09 09:58:41,676 - stpipe - INFO - Creating output: /Users/avapolzin/Desktop/psf_testoutputs/acs/j8pu42ecq_flc_150d08m15.267s+2d09m52.304s_F475W_topsf_sci1_crmask.fits\n"
     ]
    },
    {
     "name": "stdout",
     "output_type": "stream",
     "text": [
      "Creating output: /Users/avapolzin/Desktop/psf_testoutputs/acs/j8pu42ecq_flc_150d08m15.267s+2d09m52.304s_F475W_topsf_sci1_crmask.fits\n"
     ]
    },
    {
     "name": "stderr",
     "output_type": "stream",
     "text": [
      "2025-05-09 09:58:41,751 - stpipe - INFO - Creating output: /Users/avapolzin/Desktop/psf_testoutputs/acs/j8pu42egq_flc_150d08m15.267s+2d09m52.304s_F475W_topsf_sci1_crmask.fits\n"
     ]
    },
    {
     "name": "stdout",
     "output_type": "stream",
     "text": [
      "Creating output: /Users/avapolzin/Desktop/psf_testoutputs/acs/j8pu42egq_flc_150d08m15.267s+2d09m52.304s_F475W_topsf_sci1_crmask.fits\n"
     ]
    },
    {
     "name": "stderr",
     "output_type": "stream",
     "text": [
      "2025-05-09 09:58:41,794 - stpipe - INFO - Creating output: /Users/avapolzin/Desktop/psf_testoutputs/acs/j8pu42evq_flc_150d08m15.267s+2d09m52.304s_F475W_topsf_sci1_crmask.fits\n"
     ]
    },
    {
     "name": "stdout",
     "output_type": "stream",
     "text": [
      "Creating output: /Users/avapolzin/Desktop/psf_testoutputs/acs/j8pu42evq_flc_150d08m15.267s+2d09m52.304s_F475W_topsf_sci1_crmask.fits\n"
     ]
    },
    {
     "name": "stderr",
     "output_type": "stream",
     "text": [
      "2025-05-09 09:58:41,800 - stpipe - INFO - Creating output: /Users/avapolzin/Desktop/psf_testoutputs/acs/j8pu42esq_flc_150d08m15.267s+2d09m52.304s_F475W_topsf_sci1_crmask.fits\n"
     ]
    },
    {
     "name": "stdout",
     "output_type": "stream",
     "text": [
      "Creating output: /Users/avapolzin/Desktop/psf_testoutputs/acs/j8pu42esq_flc_150d08m15.267s+2d09m52.304s_F475W_topsf_sci1_crmask.fits\n"
     ]
    },
    {
     "name": "stderr",
     "output_type": "stream",
     "text": [
      "2025-05-09 09:58:41,861 - stpipe - INFO - ==== Processing Step Driz_CR finished at 09:58:41.859 (09/05/2025)\n"
     ]
    },
    {
     "name": "stdout",
     "output_type": "stream",
     "text": [
      "==== Processing Step Driz_CR finished at 09:58:41.859 (09/05/2025)\n"
     ]
    },
    {
     "name": "stderr",
     "output_type": "stream",
     "text": [
      "2025-05-09 09:58:41,873 - stpipe - INFO - ==== Processing Step  Final Drizzle  started at  09:58:41.873 (09/05/2025)\n"
     ]
    },
    {
     "name": "stdout",
     "output_type": "stream",
     "text": [
      "==== Processing Step  Final Drizzle  started at  09:58:41.873 (09/05/2025)\n"
     ]
    },
    {
     "name": "stderr",
     "output_type": "stream",
     "text": [
      "2025-05-09 09:58:41,874 - stpipe - INFO - \n"
     ]
    },
    {
     "name": "stdout",
     "output_type": "stream",
     "text": [
      "\n"
     ]
    },
    {
     "name": "stderr",
     "output_type": "stream",
     "text": [
      "2025-05-09 09:58:41,876 - stpipe - INFO - Interpreted paramDict with single=False as:\n",
      "{'build': True, 'stepsize': 10, 'coeffs': True, 'wcskey': '', 'wht_type': 'EXP', 'kernel': 'square', 'wt_scl': 'exptime', 'pixfrac': 0.8, 'fillval': None, 'maskval': None, 'bits': 0, 'units': 'cps'}\n",
      "2025-05-09 09:58:41,877 - stpipe - INFO - USER INPUT PARAMETERS for Final Drizzle Step:\n",
      "2025-05-09 09:58:41,878 - stpipe - INFO - \tbits :\t0\n",
      "2025-05-09 09:58:41,879 - stpipe - INFO - \tbuild :\tTrue\n",
      "2025-05-09 09:58:41,880 - stpipe - INFO - \tclean :\tFalse\n",
      "2025-05-09 09:58:41,880 - stpipe - INFO - \tcoeffs :\tTrue\n",
      "2025-05-09 09:58:41,881 - stpipe - INFO - \tcrbit :\t4096\n",
      "2025-05-09 09:58:41,882 - stpipe - INFO - \tfillval :\tNone\n",
      "2025-05-09 09:58:41,883 - stpipe - INFO - \tkernel :\tsquare\n",
      "2025-05-09 09:58:41,884 - stpipe - INFO - \tlogfile :\tastrodrizzle.log\n",
      "2025-05-09 09:58:41,884 - stpipe - INFO - \tmaskval :\tNone\n",
      "2025-05-09 09:58:41,885 - stpipe - INFO - \tpixfrac :\t0.8\n",
      "2025-05-09 09:58:41,885 - stpipe - INFO - \tproc_unit :\tnative\n",
      "2025-05-09 09:58:41,886 - stpipe - INFO - \trules_file :\tNone\n",
      "2025-05-09 09:58:41,887 - stpipe - INFO - \tstepsize :\t10\n",
      "2025-05-09 09:58:41,888 - stpipe - INFO - \tunits :\tcps\n",
      "2025-05-09 09:58:41,888 - stpipe - INFO - \twcskey :\t\n",
      "2025-05-09 09:58:41,889 - stpipe - INFO - \twht_type :\tEXP\n",
      "2025-05-09 09:58:41,890 - stpipe - INFO - \twt_scl :\texptime\n",
      "2025-05-09 09:58:41,892 - stpipe - INFO -   **Using sub-sampling value of 10 for kernel square\n",
      "2025-05-09 09:58:41,923 - stpipe - INFO - Running Drizzle to create output frame with WCS of: \n",
      "2025-05-09 09:58:41,924 - stpipe - INFO - WCS Keywords\n"
     ]
    },
    {
     "name": "stdout",
     "output_type": "stream",
     "text": [
      "WCS Keywords\n"
     ]
    },
    {
     "name": "stderr",
     "output_type": "stream",
     "text": [
      "2025-05-09 09:58:41,934 - stpipe - INFO - \n"
     ]
    },
    {
     "name": "stdout",
     "output_type": "stream",
     "text": [
      "\n"
     ]
    },
    {
     "name": "stderr",
     "output_type": "stream",
     "text": [
      "2025-05-09 09:58:41,936 - stpipe - INFO - Number of WCS axes: 2\n"
     ]
    },
    {
     "name": "stdout",
     "output_type": "stream",
     "text": [
      "Number of WCS axes: 2\n"
     ]
    },
    {
     "name": "stderr",
     "output_type": "stream",
     "text": [
      "2025-05-09 09:58:41,937 - stpipe - INFO - CTYPE : 'RA---TAN' 'DEC--TAN' \n"
     ]
    },
    {
     "name": "stdout",
     "output_type": "stream",
     "text": [
      "CTYPE : 'RA---TAN' 'DEC--TAN' \n"
     ]
    },
    {
     "name": "stderr",
     "output_type": "stream",
     "text": [
      "2025-05-09 09:58:41,939 - stpipe - INFO - CRVAL : np.float64(150.1242636198465) np.float64(2.151761555110333) \n"
     ]
    },
    {
     "name": "stdout",
     "output_type": "stream",
     "text": [
      "CRVAL : np.float64(150.1242636198465) np.float64(2.151761555110333) \n"
     ]
    },
    {
     "name": "stderr",
     "output_type": "stream",
     "text": [
      "2025-05-09 09:58:41,940 - stpipe - INFO - CRPIX : np.float64(2081.0) np.float64(1179.5) \n"
     ]
    },
    {
     "name": "stdout",
     "output_type": "stream",
     "text": [
      "CRPIX : np.float64(2081.0) np.float64(1179.5) \n"
     ]
    },
    {
     "name": "stderr",
     "output_type": "stream",
     "text": [
      "2025-05-09 09:58:41,941 - stpipe - INFO - CD1_1 CD1_2  : np.float64(-2.4118726301966414e-06) np.float64(-1.3677869168244357e-05) \n"
     ]
    },
    {
     "name": "stdout",
     "output_type": "stream",
     "text": [
      "CD1_1 CD1_2  : np.float64(-2.4118726301966414e-06) np.float64(-1.3677869168244357e-05) \n"
     ]
    },
    {
     "name": "stderr",
     "output_type": "stream",
     "text": [
      "2025-05-09 09:58:41,943 - stpipe - INFO - CD2_1 CD2_2  : np.float64(-1.3677869168244357e-05) np.float64(2.4118726301966414e-06) \n"
     ]
    },
    {
     "name": "stdout",
     "output_type": "stream",
     "text": [
      "CD2_1 CD2_2  : np.float64(-1.3677869168244357e-05) np.float64(2.4118726301966414e-06) \n"
     ]
    },
    {
     "name": "stderr",
     "output_type": "stream",
     "text": [
      "2025-05-09 09:58:41,944 - stpipe - INFO - NAXIS : 4162  2359\n"
     ]
    },
    {
     "name": "stdout",
     "output_type": "stream",
     "text": [
      "NAXIS : 4162  2359\n"
     ]
    },
    {
     "name": "stderr",
     "output_type": "stream",
     "text": [
      "2025-05-09 09:58:41,977 - stpipe - INFO - -Drizzle input: /Users/avapolzin/Desktop/psf_testoutputs/acs/j8pu42ecq_flc_150d08m15.267s+2d09m52.304s_F475W_topsf.fits[sci,1]\n",
      "2025-05-09 09:58:41,995 - stpipe - INFO - Applying sky value of 0.000000 to /Users/avapolzin/Desktop/psf_testoutputs/acs/j8pu42ecq_flc_150d08m15.267s+2d09m52.304s_F475W_topsf.fits[sci,1]\n",
      "2025-05-09 09:58:42,111 - stpipe - INFO - Applying EXPTIME weighting to DQ mask for chip 1\n",
      "2025-05-09 09:58:42,200 - stpipe - INFO - Writing out mask file: /Users/avapolzin/Desktop/psf_testoutputs/acs/j8pu42ecq_flc_150d08m15.267s+2d09m52.304s_F475W_topsf_sci1_final_mask.fits\n",
      "2025-05-09 09:58:42,201 - stpipe - INFO - Using WCSLIB-based coordinate transformation...\n",
      "2025-05-09 09:58:42,201 - stpipe - INFO - stepsize = 10\n",
      "2025-05-09 09:58:42,231 - stpipe - INFO - -Drizzling using kernel = square\n",
      "\n",
      "2025-05-09 09:58:43,389 - stpipe - INFO - -Drizzle input: /Users/avapolzin/Desktop/psf_testoutputs/acs/j8pu42egq_flc_150d08m15.267s+2d09m52.304s_F475W_topsf.fits[sci,1]\n",
      "2025-05-09 09:58:43,404 - stpipe - INFO - Applying sky value of 0.000000 to /Users/avapolzin/Desktop/psf_testoutputs/acs/j8pu42egq_flc_150d08m15.267s+2d09m52.304s_F475W_topsf.fits[sci,1]\n",
      "2025-05-09 09:58:43,494 - stpipe - INFO - Applying EXPTIME weighting to DQ mask for chip 1\n",
      "2025-05-09 09:58:43,529 - stpipe - INFO - Writing out mask file: /Users/avapolzin/Desktop/psf_testoutputs/acs/j8pu42egq_flc_150d08m15.267s+2d09m52.304s_F475W_topsf_sci1_final_mask.fits\n",
      "2025-05-09 09:58:43,530 - stpipe - INFO - Using WCSLIB-based coordinate transformation...\n",
      "2025-05-09 09:58:43,530 - stpipe - INFO - stepsize = 10\n",
      "2025-05-09 09:58:43,557 - stpipe - INFO - -Drizzling using kernel = square\n",
      "\n",
      "2025-05-09 09:58:44,693 - stpipe - INFO - -Drizzle input: /Users/avapolzin/Desktop/psf_testoutputs/acs/j8pu42esq_flc_150d08m15.267s+2d09m52.304s_F475W_topsf.fits[sci,1]\n",
      "2025-05-09 09:58:44,709 - stpipe - INFO - Applying sky value of 0.000000 to /Users/avapolzin/Desktop/psf_testoutputs/acs/j8pu42esq_flc_150d08m15.267s+2d09m52.304s_F475W_topsf.fits[sci,1]\n",
      "2025-05-09 09:58:44,771 - stpipe - INFO - Applying EXPTIME weighting to DQ mask for chip 1\n",
      "2025-05-09 09:58:44,819 - stpipe - INFO - Writing out mask file: /Users/avapolzin/Desktop/psf_testoutputs/acs/j8pu42esq_flc_150d08m15.267s+2d09m52.304s_F475W_topsf_sci1_final_mask.fits\n",
      "2025-05-09 09:58:44,820 - stpipe - INFO - Using WCSLIB-based coordinate transformation...\n",
      "2025-05-09 09:58:44,820 - stpipe - INFO - stepsize = 10\n",
      "2025-05-09 09:58:44,847 - stpipe - INFO - -Drizzling using kernel = square\n",
      "\n",
      "2025-05-09 09:58:45,981 - stpipe - INFO - -Drizzle input: /Users/avapolzin/Desktop/psf_testoutputs/acs/j8pu42evq_flc_150d08m15.267s+2d09m52.304s_F475W_topsf.fits[sci,1]\n",
      "2025-05-09 09:58:45,996 - stpipe - INFO - Applying sky value of 0.000000 to /Users/avapolzin/Desktop/psf_testoutputs/acs/j8pu42evq_flc_150d08m15.267s+2d09m52.304s_F475W_topsf.fits[sci,1]\n",
      "2025-05-09 09:58:46,084 - stpipe - INFO - Applying EXPTIME weighting to DQ mask for chip 1\n",
      "2025-05-09 09:58:46,126 - stpipe - INFO - Writing out mask file: /Users/avapolzin/Desktop/psf_testoutputs/acs/j8pu42evq_flc_150d08m15.267s+2d09m52.304s_F475W_topsf_sci1_final_mask.fits\n",
      "2025-05-09 09:58:46,126 - stpipe - INFO - Using WCSLIB-based coordinate transformation...\n",
      "2025-05-09 09:58:46,127 - stpipe - INFO - stepsize = 10\n",
      "2025-05-09 09:58:46,153 - stpipe - INFO - -Drizzling using kernel = square\n",
      "\n",
      "2025-05-09 09:58:47,729 - stpipe - INFO - -Generating multi-extension output file:  /Users/avapolzin/Desktop/psf_testoutputs/acs/150d08m15.267s+2d09m52.304s_F475W_psf_drz.fits\n"
     ]
    },
    {
     "name": "stdout",
     "output_type": "stream",
     "text": [
      "-Generating multi-extension output file:  /Users/avapolzin/Desktop/psf_testoutputs/acs/150d08m15.267s+2d09m52.304s_F475W_psf_drz.fits\n"
     ]
    },
    {
     "name": "stderr",
     "output_type": "stream",
     "text": [
      "2025-05-09 09:58:47,745 - stpipe - INFO - Deleted all instances of WCS with key A in extensions [1]\n"
     ]
    },
    {
     "name": "stdout",
     "output_type": "stream",
     "text": [
      "Deleted all instances of WCS with key A in extensions [1]\n"
     ]
    },
    {
     "name": "stderr",
     "output_type": "stream",
     "text": [
      "2025-05-09 09:58:47,752 - stpipe - INFO - Writing out to disk: /Users/avapolzin/Desktop/psf_testoutputs/acs/150d08m15.267s+2d09m52.304s_F475W_psf_drz.fits\n"
     ]
    },
    {
     "name": "stdout",
     "output_type": "stream",
     "text": [
      "Writing out to disk: /Users/avapolzin/Desktop/psf_testoutputs/acs/150d08m15.267s+2d09m52.304s_F475W_psf_drz.fits\n"
     ]
    },
    {
     "name": "stderr",
     "output_type": "stream",
     "text": [
      "2025-05-09 09:58:47,756 - stpipe - WARNING - /Users/avapolzin/opt/anaconda3/envs/spike/lib/python3.10/site-packages/astropy/io/fits/card.py:1036: VerifyWarning: Card is too long, comment will be truncated.\n",
      "\n",
      "2025-05-09 09:58:47,938 - stpipe - INFO - ==== Processing Step Final Drizzle finished at 09:58:47.938 (09/05/2025)\n"
     ]
    },
    {
     "name": "stdout",
     "output_type": "stream",
     "text": [
      "==== Processing Step Final Drizzle finished at 09:58:47.938 (09/05/2025)\n"
     ]
    },
    {
     "name": "stderr",
     "output_type": "stream",
     "text": [
      "2025-05-09 09:58:47,939 - stpipe - INFO - \n"
     ]
    },
    {
     "name": "stdout",
     "output_type": "stream",
     "text": [
      "\n"
     ]
    },
    {
     "name": "stderr",
     "output_type": "stream",
     "text": [
      "2025-05-09 09:58:47,941 - stpipe - INFO - AstroDrizzle Version 3.7.1rc1.dev56+g7951b66 is finished processing at 09:58:47.940 (09/05/2025).\n"
     ]
    },
    {
     "name": "stdout",
     "output_type": "stream",
     "text": [
      "AstroDrizzle Version 3.7.1rc1.dev56+g7951b66 is finished processing at 09:58:47.940 (09/05/2025).\n"
     ]
    },
    {
     "name": "stderr",
     "output_type": "stream",
     "text": [
      "2025-05-09 09:58:47,942 - stpipe - INFO - \n"
     ]
    },
    {
     "name": "stdout",
     "output_type": "stream",
     "text": [
      "\n"
     ]
    },
    {
     "name": "stderr",
     "output_type": "stream",
     "text": [
      "2025-05-09 09:58:47,943 - stpipe - INFO - \n"
     ]
    },
    {
     "name": "stdout",
     "output_type": "stream",
     "text": [
      "\n"
     ]
    },
    {
     "name": "stderr",
     "output_type": "stream",
     "text": [
      "2025-05-09 09:58:47,945 - stpipe - INFO - \n"
     ]
    },
    {
     "name": "stdout",
     "output_type": "stream",
     "text": [
      "\n"
     ]
    },
    {
     "name": "stderr",
     "output_type": "stream",
     "text": [
      "2025-05-09 09:58:47,946 - stpipe - INFO -    --------------------          --------------------\n"
     ]
    },
    {
     "name": "stdout",
     "output_type": "stream",
     "text": [
      "   --------------------          --------------------\n"
     ]
    },
    {
     "name": "stderr",
     "output_type": "stream",
     "text": [
      "2025-05-09 09:58:47,948 - stpipe - INFO -                    Step          Elapsed time\n"
     ]
    },
    {
     "name": "stdout",
     "output_type": "stream",
     "text": [
      "                   Step          Elapsed time\n"
     ]
    },
    {
     "name": "stderr",
     "output_type": "stream",
     "text": [
      "2025-05-09 09:58:47,949 - stpipe - INFO -    --------------------          --------------------\n"
     ]
    },
    {
     "name": "stdout",
     "output_type": "stream",
     "text": [
      "   --------------------          --------------------\n"
     ]
    },
    {
     "name": "stderr",
     "output_type": "stream",
     "text": [
      "2025-05-09 09:58:47,950 - stpipe - INFO - \n"
     ]
    },
    {
     "name": "stdout",
     "output_type": "stream",
     "text": [
      "\n"
     ]
    },
    {
     "name": "stderr",
     "output_type": "stream",
     "text": [
      "2025-05-09 09:58:47,951 - stpipe - INFO -          Initialization          0.7961 sec.\n"
     ]
    },
    {
     "name": "stdout",
     "output_type": "stream",
     "text": [
      "         Initialization          0.7961 sec.\n"
     ]
    },
    {
     "name": "stderr",
     "output_type": "stream",
     "text": [
      "2025-05-09 09:58:47,953 - stpipe - INFO -             Static Mask          0.0103 sec.\n"
     ]
    },
    {
     "name": "stdout",
     "output_type": "stream",
     "text": [
      "            Static Mask          0.0103 sec.\n"
     ]
    },
    {
     "name": "stderr",
     "output_type": "stream",
     "text": [
      "2025-05-09 09:58:47,954 - stpipe - INFO -            Subtract Sky          1.5488 sec.\n"
     ]
    },
    {
     "name": "stdout",
     "output_type": "stream",
     "text": [
      "           Subtract Sky          1.5488 sec.\n"
     ]
    },
    {
     "name": "stderr",
     "output_type": "stream",
     "text": [
      "2025-05-09 09:58:47,955 - stpipe - INFO -        Separate Drizzle          1.5379 sec.\n"
     ]
    },
    {
     "name": "stdout",
     "output_type": "stream",
     "text": [
      "       Separate Drizzle          1.5379 sec.\n"
     ]
    },
    {
     "name": "stderr",
     "output_type": "stream",
     "text": [
      "2025-05-09 09:58:47,956 - stpipe - INFO -           Create Median          1.6217 sec.\n"
     ]
    },
    {
     "name": "stdout",
     "output_type": "stream",
     "text": [
      "          Create Median          1.6217 sec.\n"
     ]
    },
    {
     "name": "stderr",
     "output_type": "stream",
     "text": [
      "2025-05-09 09:58:47,958 - stpipe - INFO -                    Blot          3.6877 sec.\n"
     ]
    },
    {
     "name": "stdout",
     "output_type": "stream",
     "text": [
      "                   Blot          3.6877 sec.\n"
     ]
    },
    {
     "name": "stderr",
     "output_type": "stream",
     "text": [
      "2025-05-09 09:58:47,959 - stpipe - INFO -                 Driz_CR          1.6883 sec.\n"
     ]
    },
    {
     "name": "stdout",
     "output_type": "stream",
     "text": [
      "                Driz_CR          1.6883 sec.\n"
     ]
    },
    {
     "name": "stderr",
     "output_type": "stream",
     "text": [
      "2025-05-09 09:58:47,960 - stpipe - INFO -           Final Drizzle          6.0650 sec.\n"
     ]
    },
    {
     "name": "stdout",
     "output_type": "stream",
     "text": [
      "          Final Drizzle          6.0650 sec.\n"
     ]
    },
    {
     "name": "stderr",
     "output_type": "stream",
     "text": [
      "2025-05-09 09:58:47,969 - stpipe - INFO -    ====================          ====================\n"
     ]
    },
    {
     "name": "stdout",
     "output_type": "stream",
     "text": [
      "   ====================          ====================\n"
     ]
    },
    {
     "name": "stderr",
     "output_type": "stream",
     "text": [
      "2025-05-09 09:58:47,988 - stpipe - INFO -                   Total          16.9558 sec.\n"
     ]
    },
    {
     "name": "stdout",
     "output_type": "stream",
     "text": [
      "                  Total          16.9558 sec.\n"
     ]
    },
    {
     "name": "stderr",
     "output_type": "stream",
     "text": [
      "2025-05-09 09:58:47,989 - stpipe - INFO - \n"
     ]
    },
    {
     "name": "stdout",
     "output_type": "stream",
     "text": [
      "\n"
     ]
    },
    {
     "name": "stderr",
     "output_type": "stream",
     "text": [
      "2025-05-09 09:58:48,003 - stpipe - INFO - Trailer file written to:  astrodrizzle.log\n"
     ]
    },
    {
     "name": "stdout",
     "output_type": "stream",
     "text": [
      "Trailer file written to:  astrodrizzle.log\n"
     ]
    },
    {
     "name": "stderr",
     "output_type": "stream",
     "text": [
      "2025-05-09 09:58:48,032 - stpipe - INFO - Setting up logfile :  astrodrizzle.log\n"
     ]
    },
    {
     "name": "stdout",
     "output_type": "stream",
     "text": [
      "Setting up logfile :  astrodrizzle.log\n"
     ]
    },
    {
     "name": "stderr",
     "output_type": "stream",
     "text": [
      "2025-05-09 09:58:48,035 - stpipe - INFO - AstroDrizzle log file: astrodrizzle.log\n"
     ]
    },
    {
     "name": "stdout",
     "output_type": "stream",
     "text": [
      "AstroDrizzle log file: astrodrizzle.log\n"
     ]
    },
    {
     "name": "stderr",
     "output_type": "stream",
     "text": [
      "2025-05-09 09:58:48,036 - stpipe - INFO - AstroDrizzle Version 3.7.1rc1.dev56+g7951b66 started at: 09:58:48.036 (09/05/2025)\n"
     ]
    },
    {
     "name": "stdout",
     "output_type": "stream",
     "text": [
      "AstroDrizzle Version 3.7.1rc1.dev56+g7951b66 started at: 09:58:48.036 (09/05/2025)\n"
     ]
    },
    {
     "name": "stderr",
     "output_type": "stream",
     "text": [
      "2025-05-09 09:58:48,037 - stpipe - INFO - \n"
     ]
    },
    {
     "name": "stdout",
     "output_type": "stream",
     "text": [
      "\n"
     ]
    },
    {
     "name": "stderr",
     "output_type": "stream",
     "text": [
      "2025-05-09 09:58:48,038 - stpipe - INFO - Version Information\n",
      "2025-05-09 09:58:48,039 - stpipe - INFO - --------------------\n",
      "2025-05-09 09:58:48,039 - stpipe - INFO - Python Version 3.10.16 (main, Dec 11 2024, 10:24:41) [Clang 14.0.6 ]\n",
      "2025-05-09 09:58:48,040 - stpipe - INFO - numpy Version -> 2.2.1 \n",
      "2025-05-09 09:58:48,040 - stpipe - INFO - astropy Version -> 6.1.7 \n",
      "2025-05-09 09:58:48,040 - stpipe - INFO - stwcs Version -> 1.7.3 \n",
      "2025-05-09 09:58:48,040 - stpipe - INFO - photutils Version -> 2.0.2 \n",
      "2025-05-09 09:58:48,042 - stpipe - INFO - ==== Processing Step  Initialization  started at  09:58:48.041 (09/05/2025)\n"
     ]
    },
    {
     "name": "stdout",
     "output_type": "stream",
     "text": [
      "==== Processing Step  Initialization  started at  09:58:48.041 (09/05/2025)\n"
     ]
    },
    {
     "name": "stderr",
     "output_type": "stream",
     "text": [
      "2025-05-09 09:58:48,044 - stpipe - INFO - \n"
     ]
    },
    {
     "name": "stdout",
     "output_type": "stream",
     "text": [
      "\n"
     ]
    },
    {
     "name": "stderr",
     "output_type": "stream",
     "text": [
      "2025-05-09 09:58:48,046 - stpipe - INFO - Preserving original of:  /Users/avapolzin/Desktop/psf_testoutputs/acs/j8pu42ecq_flc_150d07m02.697s+2d08m40.507s_F475W_topsf.fits as  OrIg_files/j8pu42ecq_flc_150d07m02.697s+2d08m40.507s_F475W_topsf.fits\n"
     ]
    },
    {
     "name": "stdout",
     "output_type": "stream",
     "text": [
      "Preserving original of:  /Users/avapolzin/Desktop/psf_testoutputs/acs/j8pu42ecq_flc_150d07m02.697s+2d08m40.507s_F475W_topsf.fits as  OrIg_files/j8pu42ecq_flc_150d07m02.697s+2d08m40.507s_F475W_topsf.fits\n"
     ]
    },
    {
     "name": "stderr",
     "output_type": "stream",
     "text": [
      "2025-05-09 09:58:48,176 - stpipe - INFO - Preserving original of:  /Users/avapolzin/Desktop/psf_testoutputs/acs/j8pu42egq_flc_150d07m02.697s+2d08m40.507s_F475W_topsf.fits as  OrIg_files/j8pu42egq_flc_150d07m02.697s+2d08m40.507s_F475W_topsf.fits\n"
     ]
    },
    {
     "name": "stdout",
     "output_type": "stream",
     "text": [
      "Preserving original of:  /Users/avapolzin/Desktop/psf_testoutputs/acs/j8pu42egq_flc_150d07m02.697s+2d08m40.507s_F475W_topsf.fits as  OrIg_files/j8pu42egq_flc_150d07m02.697s+2d08m40.507s_F475W_topsf.fits\n"
     ]
    },
    {
     "name": "stderr",
     "output_type": "stream",
     "text": [
      "2025-05-09 09:58:48,264 - stpipe - INFO - Preserving original of:  /Users/avapolzin/Desktop/psf_testoutputs/acs/j8pu42esq_flc_150d07m02.697s+2d08m40.507s_F475W_topsf.fits as  OrIg_files/j8pu42esq_flc_150d07m02.697s+2d08m40.507s_F475W_topsf.fits\n"
     ]
    },
    {
     "name": "stdout",
     "output_type": "stream",
     "text": [
      "Preserving original of:  /Users/avapolzin/Desktop/psf_testoutputs/acs/j8pu42esq_flc_150d07m02.697s+2d08m40.507s_F475W_topsf.fits as  OrIg_files/j8pu42esq_flc_150d07m02.697s+2d08m40.507s_F475W_topsf.fits\n"
     ]
    },
    {
     "name": "stderr",
     "output_type": "stream",
     "text": [
      "2025-05-09 09:58:48,358 - stpipe - INFO - Preserving original of:  /Users/avapolzin/Desktop/psf_testoutputs/acs/j8pu42evq_flc_150d07m02.697s+2d08m40.507s_F475W_topsf.fits as  OrIg_files/j8pu42evq_flc_150d07m02.697s+2d08m40.507s_F475W_topsf.fits\n"
     ]
    },
    {
     "name": "stdout",
     "output_type": "stream",
     "text": [
      "Preserving original of:  /Users/avapolzin/Desktop/psf_testoutputs/acs/j8pu42evq_flc_150d07m02.697s+2d08m40.507s_F475W_topsf.fits as  OrIg_files/j8pu42evq_flc_150d07m02.697s+2d08m40.507s_F475W_topsf.fits\n"
     ]
    },
    {
     "name": "stderr",
     "output_type": "stream",
     "text": [
      "2025-05-09 09:58:48,502 - stpipe - INFO - Executing serially\n",
      "2025-05-09 09:58:48,581 - stpipe - INFO - Setting up output name: /Users/avapolzin/Desktop/psf_testoutputs/acs/150d07m02.697s+2d08m40.507s_F475W_psf_drz.fits\n",
      "2025-05-09 09:58:48,583 - stpipe - INFO - -Creating imageObject List as input for processing steps.\n",
      "2025-05-09 09:58:48,658 - stpipe - INFO - Reading in MDRIZSKY of 69.92457580566406\n",
      "2025-05-09 09:58:48,729 - stpipe - INFO - Reading in MDRIZSKY of 75.761962890625\n",
      "2025-05-09 09:58:48,801 - stpipe - INFO - Reading in MDRIZSKY of 68.4947509765625\n",
      "2025-05-09 09:58:48,873 - stpipe - INFO - Reading in MDRIZSKY of 68.80198669433594\n",
      "2025-05-09 09:58:48,906 - stpipe - INFO - Reset bit values of 4096 to a value of 0 in /Users/avapolzin/Desktop/psf_testoutputs/acs/j8pu42ecq_flc_150d07m02.697s+2d08m40.507s_F475W_topsf.fits[DQ,1]\n",
      "2025-05-09 09:58:48,930 - stpipe - INFO - Reset bit values of 4096 to a value of 0 in /Users/avapolzin/Desktop/psf_testoutputs/acs/j8pu42egq_flc_150d07m02.697s+2d08m40.507s_F475W_topsf.fits[DQ,1]\n",
      "2025-05-09 09:58:48,953 - stpipe - INFO - Reset bit values of 4096 to a value of 0 in /Users/avapolzin/Desktop/psf_testoutputs/acs/j8pu42esq_flc_150d07m02.697s+2d08m40.507s_F475W_topsf.fits[DQ,1]\n",
      "2025-05-09 09:58:48,977 - stpipe - INFO - Reset bit values of 4096 to a value of 0 in /Users/avapolzin/Desktop/psf_testoutputs/acs/j8pu42evq_flc_150d07m02.697s+2d08m40.507s_F475W_topsf.fits[DQ,1]\n",
      "2025-05-09 09:58:48,991 - stpipe - INFO - -Creating output WCS.\n",
      "2025-05-09 09:58:48,994 - stpipe - INFO - WCS Keywords\n"
     ]
    },
    {
     "name": "stdout",
     "output_type": "stream",
     "text": [
      "WCS Keywords\n"
     ]
    },
    {
     "name": "stderr",
     "output_type": "stream",
     "text": [
      "2025-05-09 09:58:48,996 - stpipe - INFO - \n"
     ]
    },
    {
     "name": "stdout",
     "output_type": "stream",
     "text": [
      "\n"
     ]
    },
    {
     "name": "stderr",
     "output_type": "stream",
     "text": [
      "2025-05-09 09:58:48,997 - stpipe - INFO - Number of WCS axes: 2\n"
     ]
    },
    {
     "name": "stdout",
     "output_type": "stream",
     "text": [
      "Number of WCS axes: 2\n"
     ]
    },
    {
     "name": "stderr",
     "output_type": "stream",
     "text": [
      "2025-05-09 09:58:48,999 - stpipe - INFO - CTYPE : 'RA---TAN' 'DEC--TAN' \n"
     ]
    },
    {
     "name": "stdout",
     "output_type": "stream",
     "text": [
      "CTYPE : 'RA---TAN' 'DEC--TAN' \n"
     ]
    },
    {
     "name": "stderr",
     "output_type": "stream",
     "text": [
      "2025-05-09 09:58:49,000 - stpipe - INFO - CRVAL : np.float64(150.1242636198465) np.float64(2.151761555110333) \n"
     ]
    },
    {
     "name": "stdout",
     "output_type": "stream",
     "text": [
      "CRVAL : np.float64(150.1242636198465) np.float64(2.151761555110333) \n"
     ]
    },
    {
     "name": "stderr",
     "output_type": "stream",
     "text": [
      "2025-05-09 09:58:49,001 - stpipe - INFO - CRPIX : np.float64(2081.0) np.float64(1179.5) \n"
     ]
    },
    {
     "name": "stdout",
     "output_type": "stream",
     "text": [
      "CRPIX : np.float64(2081.0) np.float64(1179.5) \n"
     ]
    },
    {
     "name": "stderr",
     "output_type": "stream",
     "text": [
      "2025-05-09 09:58:49,002 - stpipe - INFO - CD1_1 CD1_2  : np.float64(-2.4118726301966414e-06) np.float64(-1.3677869168244357e-05) \n"
     ]
    },
    {
     "name": "stdout",
     "output_type": "stream",
     "text": [
      "CD1_1 CD1_2  : np.float64(-2.4118726301966414e-06) np.float64(-1.3677869168244357e-05) \n"
     ]
    },
    {
     "name": "stderr",
     "output_type": "stream",
     "text": [
      "2025-05-09 09:58:49,004 - stpipe - INFO - CD2_1 CD2_2  : np.float64(-1.3677869168244357e-05) np.float64(2.4118726301966414e-06) \n"
     ]
    },
    {
     "name": "stdout",
     "output_type": "stream",
     "text": [
      "CD2_1 CD2_2  : np.float64(-1.3677869168244357e-05) np.float64(2.4118726301966414e-06) \n"
     ]
    },
    {
     "name": "stderr",
     "output_type": "stream",
     "text": [
      "2025-05-09 09:58:49,005 - stpipe - INFO - NAXIS : 4162  2359\n"
     ]
    },
    {
     "name": "stdout",
     "output_type": "stream",
     "text": [
      "NAXIS : 4162  2359\n"
     ]
    },
    {
     "name": "stderr",
     "output_type": "stream",
     "text": [
      "2025-05-09 09:58:49,006 - stpipe - INFO - ********************************************************************************\n"
     ]
    },
    {
     "name": "stdout",
     "output_type": "stream",
     "text": [
      "********************************************************************************\n"
     ]
    },
    {
     "name": "stderr",
     "output_type": "stream",
     "text": [
      "2025-05-09 09:58:49,007 - stpipe - INFO - *\n"
     ]
    },
    {
     "name": "stdout",
     "output_type": "stream",
     "text": [
      "*\n"
     ]
    },
    {
     "name": "stderr",
     "output_type": "stream",
     "text": [
      "2025-05-09 09:58:49,009 - stpipe - INFO - *  Estimated memory usage:  up to 705 Mb.\n"
     ]
    },
    {
     "name": "stdout",
     "output_type": "stream",
     "text": [
      "*  Estimated memory usage:  up to 705 Mb.\n"
     ]
    },
    {
     "name": "stderr",
     "output_type": "stream",
     "text": [
      "2025-05-09 09:58:49,010 - stpipe - INFO - *  Output image size:       4162 X 2359 pixels. \n"
     ]
    },
    {
     "name": "stdout",
     "output_type": "stream",
     "text": [
      "*  Output image size:       4162 X 2359 pixels. \n"
     ]
    },
    {
     "name": "stderr",
     "output_type": "stream",
     "text": [
      "2025-05-09 09:58:49,011 - stpipe - INFO - *  Output image file:       ~ 112 Mb. \n"
     ]
    },
    {
     "name": "stdout",
     "output_type": "stream",
     "text": [
      "*  Output image file:       ~ 112 Mb. \n"
     ]
    },
    {
     "name": "stderr",
     "output_type": "stream",
     "text": [
      "2025-05-09 09:58:49,012 - stpipe - INFO - *  Cores available:         4\n"
     ]
    },
    {
     "name": "stdout",
     "output_type": "stream",
     "text": [
      "*  Cores available:         4\n"
     ]
    },
    {
     "name": "stderr",
     "output_type": "stream",
     "text": [
      "2025-05-09 09:58:49,013 - stpipe - INFO - *\n"
     ]
    },
    {
     "name": "stdout",
     "output_type": "stream",
     "text": [
      "*\n"
     ]
    },
    {
     "name": "stderr",
     "output_type": "stream",
     "text": [
      "2025-05-09 09:58:49,014 - stpipe - INFO - ********************************************************************************\n"
     ]
    },
    {
     "name": "stdout",
     "output_type": "stream",
     "text": [
      "********************************************************************************\n"
     ]
    },
    {
     "name": "stderr",
     "output_type": "stream",
     "text": [
      "2025-05-09 09:58:49,015 - stpipe - INFO - ==== Processing Step Initialization finished at 09:58:49.01 (09/05/2025)\n"
     ]
    },
    {
     "name": "stdout",
     "output_type": "stream",
     "text": [
      "==== Processing Step Initialization finished at 09:58:49.01 (09/05/2025)\n"
     ]
    },
    {
     "name": "stderr",
     "output_type": "stream",
     "text": [
      "2025-05-09 09:58:49,017 - stpipe - INFO - USER INPUT PARAMETERS common to all Processing Steps:\n",
      "2025-05-09 09:58:49,017 - stpipe - INFO - \tbuild :\tTrue\n",
      "2025-05-09 09:58:49,018 - stpipe - INFO - \tcoeffs :\tTrue\n",
      "2025-05-09 09:58:49,018 - stpipe - INFO - \tcontext :\tTrue\n",
      "2025-05-09 09:58:49,019 - stpipe - INFO - \tcrbit :\t4096\n",
      "2025-05-09 09:58:49,020 - stpipe - INFO - \tgroup :\t\n",
      "2025-05-09 09:58:49,020 - stpipe - INFO - \tin_memory :\tFalse\n",
      "2025-05-09 09:58:49,021 - stpipe - INFO - \tinput :\t['/Users/avapolzin/Desktop/psf_testoutputs/acs/j8pu42ecq_flc_150d07m02.697s+2d08m40.507s_F475W_topsf.fits', '/Users/avapolzin/Desktop/psf_testoutputs/acs/j8pu42egq_flc_150d07m02.697s+2d08m40.507s_F475W_topsf.fits', '/Users/avapolzin/Desktop/psf_testoutputs/acs/j8pu42esq_flc_150d07m02.697s+2d08m40.507s_F475W_topsf.fits', '/Users/avapolzin/Desktop/psf_testoutputs/acs/j8pu42evq_flc_150d07m02.697s+2d08m40.507s_F475W_topsf.fits']\n",
      "2025-05-09 09:58:49,022 - stpipe - INFO - \tmdriztab :\tFalse\n",
      "2025-05-09 09:58:49,022 - stpipe - INFO - \tnum_cores :\tNone\n",
      "2025-05-09 09:58:49,023 - stpipe - INFO - \toutput :\t/Users/avapolzin/Desktop/psf_testoutputs/acs/150d07m02.697s+2d08m40.507s_F475W_psf\n",
      "2025-05-09 09:58:49,024 - stpipe - INFO - \tproc_unit :\tnative\n",
      "2025-05-09 09:58:49,028 - stpipe - INFO - \tresetbits :\t4096\n",
      "2025-05-09 09:58:49,040 - stpipe - INFO - \trules_file :\t\n",
      "2025-05-09 09:58:49,052 - stpipe - INFO - \trunfile :\tastrodrizzle.log\n",
      "2025-05-09 09:58:49,052 - stpipe - INFO - \tstepsize :\t10\n",
      "2025-05-09 09:58:49,053 - stpipe - INFO - \tupdatewcs :\tFalse\n",
      "2025-05-09 09:58:49,053 - stpipe - INFO - \twcskey :\t\n",
      "2025-05-09 09:58:49,054 - stpipe - INFO - ==== Processing Step  Static Mask  started at  09:58:49.05 (09/05/2025)\n"
     ]
    },
    {
     "name": "stdout",
     "output_type": "stream",
     "text": [
      "==== Processing Step  Static Mask  started at  09:58:49.05 (09/05/2025)\n"
     ]
    },
    {
     "name": "stderr",
     "output_type": "stream",
     "text": [
      "2025-05-09 09:58:49,059 - stpipe - INFO - \n"
     ]
    },
    {
     "name": "stdout",
     "output_type": "stream",
     "text": [
      "\n"
     ]
    },
    {
     "name": "stderr",
     "output_type": "stream",
     "text": [
      "2025-05-09 09:58:49,062 - stpipe - INFO - Static Mask step not performed.\n",
      "2025-05-09 09:58:49,063 - stpipe - INFO - ==== Processing Step Static Mask finished at 09:58:49.063 (09/05/2025)\n"
     ]
    },
    {
     "name": "stdout",
     "output_type": "stream",
     "text": [
      "==== Processing Step Static Mask finished at 09:58:49.063 (09/05/2025)\n"
     ]
    },
    {
     "name": "stderr",
     "output_type": "stream",
     "text": [
      "2025-05-09 09:58:49,064 - stpipe - INFO - ==== Processing Step  Subtract Sky  started at  09:58:49.064 (09/05/2025)\n"
     ]
    },
    {
     "name": "stdout",
     "output_type": "stream",
     "text": [
      "==== Processing Step  Subtract Sky  started at  09:58:49.064 (09/05/2025)\n"
     ]
    },
    {
     "name": "stderr",
     "output_type": "stream",
     "text": [
      "2025-05-09 09:58:49,065 - stpipe - INFO - \n"
     ]
    },
    {
     "name": "stdout",
     "output_type": "stream",
     "text": [
      "\n"
     ]
    },
    {
     "name": "stderr",
     "output_type": "stream",
     "text": [
      "2025-05-09 09:58:49,067 - stpipe - INFO - USER INPUT PARAMETERS for Sky Subtraction Step:\n",
      "2025-05-09 09:58:49,068 - stpipe - INFO - \tsky_bits :\t0\n",
      "2025-05-09 09:58:49,069 - stpipe - INFO - \tskyclip :\t5\n",
      "2025-05-09 09:58:49,069 - stpipe - INFO - \tskyfile :\t\n",
      "2025-05-09 09:58:49,070 - stpipe - INFO - \tskylower :\tNone\n",
      "2025-05-09 09:58:49,071 - stpipe - INFO - \tskylsigma :\t4.0\n",
      "2025-05-09 09:58:49,071 - stpipe - INFO - \tskymask_cat :\t\n",
      "2025-05-09 09:58:49,072 - stpipe - INFO - \tskymethod :\tlocalmin\n",
      "2025-05-09 09:58:49,072 - stpipe - INFO - \tskystat :\tmedian\n",
      "2025-05-09 09:58:49,073 - stpipe - INFO - \tskysub :\tTrue\n",
      "2025-05-09 09:58:49,073 - stpipe - INFO - \tskyupper :\tNone\n",
      "2025-05-09 09:58:49,074 - stpipe - INFO - \tskyuser :\t\n",
      "2025-05-09 09:58:49,074 - stpipe - INFO - \tskyusigma :\t4.0\n",
      "2025-05-09 09:58:49,074 - stpipe - INFO - \tskywidth :\t0.1\n",
      "2025-05-09 09:58:49,075 - stpipe - INFO - \tuse_static :\tTrue\n",
      "2025-05-09 09:58:49,088 - stpipe - WARNING - Static mask for file '/Users/avapolzin/Desktop/psf_testoutputs/acs/j8pu42ecq_flc_150d07m02.697s+2d08m40.507s_F475W_topsf.fits', ext=('SCI', 1) NOT FOUND.\n",
      "2025-05-09 09:58:49,128 - stpipe - WARNING - Static mask for file '/Users/avapolzin/Desktop/psf_testoutputs/acs/j8pu42egq_flc_150d07m02.697s+2d08m40.507s_F475W_topsf.fits', ext=('SCI', 1) NOT FOUND.\n",
      "2025-05-09 09:58:49,161 - stpipe - WARNING - Static mask for file '/Users/avapolzin/Desktop/psf_testoutputs/acs/j8pu42esq_flc_150d07m02.697s+2d08m40.507s_F475W_topsf.fits', ext=('SCI', 1) NOT FOUND.\n",
      "2025-05-09 09:58:49,197 - stpipe - WARNING - Static mask for file '/Users/avapolzin/Desktop/psf_testoutputs/acs/j8pu42evq_flc_150d07m02.697s+2d08m40.507s_F475W_topsf.fits', ext=('SCI', 1) NOT FOUND.\n",
      "2025-05-09 09:58:49,214 - stpipe - INFO - ***** skymatch started on 2025-05-09 09:58:49.214241\n"
     ]
    },
    {
     "name": "stdout",
     "output_type": "stream",
     "text": [
      "***** skymatch started on 2025-05-09 09:58:49.214241\n"
     ]
    },
    {
     "name": "stderr",
     "output_type": "stream",
     "text": [
      "2025-05-09 09:58:49,215 - stpipe - INFO -       Version 1.0.10\n"
     ]
    },
    {
     "name": "stdout",
     "output_type": "stream",
     "text": [
      "      Version 1.0.10\n"
     ]
    },
    {
     "name": "stderr",
     "output_type": "stream",
     "text": [
      "2025-05-09 09:58:49,217 - stpipe - INFO - \n"
     ]
    },
    {
     "name": "stdout",
     "output_type": "stream",
     "text": [
      "\n"
     ]
    },
    {
     "name": "stderr",
     "output_type": "stream",
     "text": [
      "2025-05-09 09:58:49,219 - stpipe - INFO - 'skymatch' task will apply computed sky differences to input image file(s).\n"
     ]
    },
    {
     "name": "stdout",
     "output_type": "stream",
     "text": [
      "'skymatch' task will apply computed sky differences to input image file(s).\n"
     ]
    },
    {
     "name": "stderr",
     "output_type": "stream",
     "text": [
      "2025-05-09 09:58:49,222 - stpipe - INFO - \n"
     ]
    },
    {
     "name": "stdout",
     "output_type": "stream",
     "text": [
      "\n"
     ]
    },
    {
     "name": "stderr",
     "output_type": "stream",
     "text": [
      "2025-05-09 09:58:49,224 - stpipe - INFO - NOTE: Computed sky values WILL NOT be subtracted from image data ('subtractsky'=False).\n"
     ]
    },
    {
     "name": "stdout",
     "output_type": "stream",
     "text": [
      "NOTE: Computed sky values WILL NOT be subtracted from image data ('subtractsky'=False).\n"
     ]
    },
    {
     "name": "stderr",
     "output_type": "stream",
     "text": [
      "2025-05-09 09:58:49,226 - stpipe - INFO - 'MDRIZSKY' header keyword will represent sky value *computed* from data.\n"
     ]
    },
    {
     "name": "stdout",
     "output_type": "stream",
     "text": [
      "'MDRIZSKY' header keyword will represent sky value *computed* from data.\n"
     ]
    },
    {
     "name": "stderr",
     "output_type": "stream",
     "text": [
      "2025-05-09 09:58:49,234 - stpipe - INFO - \n"
     ]
    },
    {
     "name": "stdout",
     "output_type": "stream",
     "text": [
      "\n"
     ]
    },
    {
     "name": "stderr",
     "output_type": "stream",
     "text": [
      "2025-05-09 09:58:49,259 - stpipe - INFO - -----  User specified keywords:  -----\n"
     ]
    },
    {
     "name": "stdout",
     "output_type": "stream",
     "text": [
      "-----  User specified keywords:  -----\n"
     ]
    },
    {
     "name": "stderr",
     "output_type": "stream",
     "text": [
      "2025-05-09 09:58:49,260 - stpipe - INFO -        Sky Value Keyword:  'MDRIZSKY'\n"
     ]
    },
    {
     "name": "stdout",
     "output_type": "stream",
     "text": [
      "       Sky Value Keyword:  'MDRIZSKY'\n"
     ]
    },
    {
     "name": "stderr",
     "output_type": "stream",
     "text": [
      "2025-05-09 09:58:49,270 - stpipe - INFO -        Data Units Keyword: 'BUNIT'\n"
     ]
    },
    {
     "name": "stdout",
     "output_type": "stream",
     "text": [
      "       Data Units Keyword: 'BUNIT'\n"
     ]
    },
    {
     "name": "stderr",
     "output_type": "stream",
     "text": [
      "2025-05-09 09:58:49,273 - stpipe - INFO - \n"
     ]
    },
    {
     "name": "stdout",
     "output_type": "stream",
     "text": [
      "\n"
     ]
    },
    {
     "name": "stderr",
     "output_type": "stream",
     "text": [
      "2025-05-09 09:58:49,278 - stpipe - INFO - \n"
     ]
    },
    {
     "name": "stdout",
     "output_type": "stream",
     "text": [
      "\n"
     ]
    },
    {
     "name": "stderr",
     "output_type": "stream",
     "text": [
      "2025-05-09 09:58:49,282 - stpipe - INFO - -----  Input file list:  -----\n"
     ]
    },
    {
     "name": "stdout",
     "output_type": "stream",
     "text": [
      "-----  Input file list:  -----\n"
     ]
    },
    {
     "name": "stderr",
     "output_type": "stream",
     "text": [
      "2025-05-09 09:58:49,285 - stpipe - INFO - \n"
     ]
    },
    {
     "name": "stdout",
     "output_type": "stream",
     "text": [
      "\n"
     ]
    },
    {
     "name": "stderr",
     "output_type": "stream",
     "text": [
      "2025-05-09 09:58:49,289 - stpipe - INFO -    **  Input image: 'j8pu42ecq_flc_150d07m02.697s+2d08m40.507s_F475W_topsf.fits'\n"
     ]
    },
    {
     "name": "stdout",
     "output_type": "stream",
     "text": [
      "   **  Input image: 'j8pu42ecq_flc_150d07m02.697s+2d08m40.507s_F475W_topsf.fits'\n"
     ]
    },
    {
     "name": "stderr",
     "output_type": "stream",
     "text": [
      "2025-05-09 09:58:49,292 - stpipe - INFO -        EXT: 'SCI',1;\tMASK: j8pu42ecq_flc_150d07m02.697s+2d08m40.507s_F475W_skymatch_mask_sci1.fits[0]\n"
     ]
    },
    {
     "name": "stdout",
     "output_type": "stream",
     "text": [
      "       EXT: 'SCI',1;\tMASK: j8pu42ecq_flc_150d07m02.697s+2d08m40.507s_F475W_skymatch_mask_sci1.fits[0]\n"
     ]
    },
    {
     "name": "stderr",
     "output_type": "stream",
     "text": [
      "2025-05-09 09:58:49,294 - stpipe - INFO - \n"
     ]
    },
    {
     "name": "stdout",
     "output_type": "stream",
     "text": [
      "\n"
     ]
    },
    {
     "name": "stderr",
     "output_type": "stream",
     "text": [
      "2025-05-09 09:58:49,297 - stpipe - INFO -    **  Input image: 'j8pu42egq_flc_150d07m02.697s+2d08m40.507s_F475W_topsf.fits'\n"
     ]
    },
    {
     "name": "stdout",
     "output_type": "stream",
     "text": [
      "   **  Input image: 'j8pu42egq_flc_150d07m02.697s+2d08m40.507s_F475W_topsf.fits'\n"
     ]
    },
    {
     "name": "stderr",
     "output_type": "stream",
     "text": [
      "2025-05-09 09:58:49,300 - stpipe - INFO -        EXT: 'SCI',1;\tMASK: j8pu42egq_flc_150d07m02.697s+2d08m40.507s_F475W_skymatch_mask_sci1.fits[0]\n"
     ]
    },
    {
     "name": "stdout",
     "output_type": "stream",
     "text": [
      "       EXT: 'SCI',1;\tMASK: j8pu42egq_flc_150d07m02.697s+2d08m40.507s_F475W_skymatch_mask_sci1.fits[0]\n"
     ]
    },
    {
     "name": "stderr",
     "output_type": "stream",
     "text": [
      "2025-05-09 09:58:49,301 - stpipe - INFO - \n"
     ]
    },
    {
     "name": "stdout",
     "output_type": "stream",
     "text": [
      "\n"
     ]
    },
    {
     "name": "stderr",
     "output_type": "stream",
     "text": [
      "2025-05-09 09:58:49,303 - stpipe - INFO -    **  Input image: 'j8pu42esq_flc_150d07m02.697s+2d08m40.507s_F475W_topsf.fits'\n"
     ]
    },
    {
     "name": "stdout",
     "output_type": "stream",
     "text": [
      "   **  Input image: 'j8pu42esq_flc_150d07m02.697s+2d08m40.507s_F475W_topsf.fits'\n"
     ]
    },
    {
     "name": "stderr",
     "output_type": "stream",
     "text": [
      "2025-05-09 09:58:49,306 - stpipe - INFO -        EXT: 'SCI',1;\tMASK: j8pu42esq_flc_150d07m02.697s+2d08m40.507s_F475W_skymatch_mask_sci1.fits[0]\n"
     ]
    },
    {
     "name": "stdout",
     "output_type": "stream",
     "text": [
      "       EXT: 'SCI',1;\tMASK: j8pu42esq_flc_150d07m02.697s+2d08m40.507s_F475W_skymatch_mask_sci1.fits[0]\n"
     ]
    },
    {
     "name": "stderr",
     "output_type": "stream",
     "text": [
      "2025-05-09 09:58:49,308 - stpipe - INFO - \n"
     ]
    },
    {
     "name": "stdout",
     "output_type": "stream",
     "text": [
      "\n"
     ]
    },
    {
     "name": "stderr",
     "output_type": "stream",
     "text": [
      "2025-05-09 09:58:49,310 - stpipe - INFO -    **  Input image: 'j8pu42evq_flc_150d07m02.697s+2d08m40.507s_F475W_topsf.fits'\n"
     ]
    },
    {
     "name": "stdout",
     "output_type": "stream",
     "text": [
      "   **  Input image: 'j8pu42evq_flc_150d07m02.697s+2d08m40.507s_F475W_topsf.fits'\n"
     ]
    },
    {
     "name": "stderr",
     "output_type": "stream",
     "text": [
      "2025-05-09 09:58:49,313 - stpipe - INFO -        EXT: 'SCI',1;\tMASK: j8pu42evq_flc_150d07m02.697s+2d08m40.507s_F475W_skymatch_mask_sci1.fits[0]\n"
     ]
    },
    {
     "name": "stdout",
     "output_type": "stream",
     "text": [
      "       EXT: 'SCI',1;\tMASK: j8pu42evq_flc_150d07m02.697s+2d08m40.507s_F475W_skymatch_mask_sci1.fits[0]\n"
     ]
    },
    {
     "name": "stderr",
     "output_type": "stream",
     "text": [
      "2025-05-09 09:58:49,315 - stpipe - INFO - \n"
     ]
    },
    {
     "name": "stdout",
     "output_type": "stream",
     "text": [
      "\n"
     ]
    },
    {
     "name": "stderr",
     "output_type": "stream",
     "text": [
      "2025-05-09 09:58:49,317 - stpipe - INFO - -----  Sky statistics parameters:  -----\n"
     ]
    },
    {
     "name": "stdout",
     "output_type": "stream",
     "text": [
      "-----  Sky statistics parameters:  -----\n"
     ]
    },
    {
     "name": "stderr",
     "output_type": "stream",
     "text": [
      "2025-05-09 09:58:49,319 - stpipe - INFO -        statistics function: 'median'\n"
     ]
    },
    {
     "name": "stdout",
     "output_type": "stream",
     "text": [
      "       statistics function: 'median'\n"
     ]
    },
    {
     "name": "stderr",
     "output_type": "stream",
     "text": [
      "2025-05-09 09:58:49,320 - stpipe - INFO -        lower = None\n"
     ]
    },
    {
     "name": "stdout",
     "output_type": "stream",
     "text": [
      "       lower = None\n"
     ]
    },
    {
     "name": "stderr",
     "output_type": "stream",
     "text": [
      "2025-05-09 09:58:49,322 - stpipe - INFO -        upper = None\n"
     ]
    },
    {
     "name": "stdout",
     "output_type": "stream",
     "text": [
      "       upper = None\n"
     ]
    },
    {
     "name": "stderr",
     "output_type": "stream",
     "text": [
      "2025-05-09 09:58:49,325 - stpipe - INFO -        nclip = 5\n"
     ]
    },
    {
     "name": "stdout",
     "output_type": "stream",
     "text": [
      "       nclip = 5\n"
     ]
    },
    {
     "name": "stderr",
     "output_type": "stream",
     "text": [
      "2025-05-09 09:58:49,327 - stpipe - INFO -        lsigma = 4.0\n"
     ]
    },
    {
     "name": "stdout",
     "output_type": "stream",
     "text": [
      "       lsigma = 4.0\n"
     ]
    },
    {
     "name": "stderr",
     "output_type": "stream",
     "text": [
      "2025-05-09 09:58:49,330 - stpipe - INFO -        usigma = 4.0\n"
     ]
    },
    {
     "name": "stdout",
     "output_type": "stream",
     "text": [
      "       usigma = 4.0\n"
     ]
    },
    {
     "name": "stderr",
     "output_type": "stream",
     "text": [
      "2025-05-09 09:58:49,345 - stpipe - INFO -        binwidth = 0.1\n"
     ]
    },
    {
     "name": "stdout",
     "output_type": "stream",
     "text": [
      "       binwidth = 0.1\n"
     ]
    },
    {
     "name": "stderr",
     "output_type": "stream",
     "text": [
      "2025-05-09 09:58:49,362 - stpipe - INFO - \n"
     ]
    },
    {
     "name": "stdout",
     "output_type": "stream",
     "text": [
      "\n"
     ]
    },
    {
     "name": "stderr",
     "output_type": "stream",
     "text": [
      "2025-05-09 09:58:49,370 - stpipe - INFO - -----  Data->Brightness conversion parameters for input files:  -----\n"
     ]
    },
    {
     "name": "stdout",
     "output_type": "stream",
     "text": [
      "-----  Data->Brightness conversion parameters for input files:  -----\n"
     ]
    },
    {
     "name": "stderr",
     "output_type": "stream",
     "text": [
      "2025-05-09 09:58:49,376 - stpipe - INFO - \n"
     ]
    },
    {
     "name": "stdout",
     "output_type": "stream",
     "text": [
      "\n"
     ]
    },
    {
     "name": "stderr",
     "output_type": "stream",
     "text": [
      "2025-05-09 09:58:49,378 - stpipe - INFO -    *   Image: j8pu42ecq_flc_150d07m02.697s+2d08m40.507s_F475W_topsf.fits\n"
     ]
    },
    {
     "name": "stdout",
     "output_type": "stream",
     "text": [
      "   *   Image: j8pu42ecq_flc_150d07m02.697s+2d08m40.507s_F475W_topsf.fits\n"
     ]
    },
    {
     "name": "stderr",
     "output_type": "stream",
     "text": [
      "2025-05-09 09:58:49,403 - stpipe - INFO -        EXT = 'SCI',1\n"
     ]
    },
    {
     "name": "stdout",
     "output_type": "stream",
     "text": [
      "       EXT = 'SCI',1\n"
     ]
    },
    {
     "name": "stderr",
     "output_type": "stream",
     "text": [
      "2025-05-09 09:58:49,406 - stpipe - INFO -              Data units type: COUNTS\n"
     ]
    },
    {
     "name": "stdout",
     "output_type": "stream",
     "text": [
      "             Data units type: COUNTS\n"
     ]
    },
    {
     "name": "stderr",
     "output_type": "stream",
     "text": [
      "2025-05-09 09:58:49,408 - stpipe - INFO -              EXPTIME: 507.0 [s]\n"
     ]
    },
    {
     "name": "stdout",
     "output_type": "stream",
     "text": [
      "             EXPTIME: 507.0 [s]\n"
     ]
    },
    {
     "name": "stderr",
     "output_type": "stream",
     "text": [
      "2025-05-09 09:58:49,409 - stpipe - INFO -              Conversion factor (data->brightness):  0.7889546351084812\n"
     ]
    },
    {
     "name": "stdout",
     "output_type": "stream",
     "text": [
      "             Conversion factor (data->brightness):  0.7889546351084812\n"
     ]
    },
    {
     "name": "stderr",
     "output_type": "stream",
     "text": [
      "2025-05-09 09:58:49,411 - stpipe - INFO - \n"
     ]
    },
    {
     "name": "stdout",
     "output_type": "stream",
     "text": [
      "\n"
     ]
    },
    {
     "name": "stderr",
     "output_type": "stream",
     "text": [
      "2025-05-09 09:58:49,414 - stpipe - INFO -    *   Image: j8pu42egq_flc_150d07m02.697s+2d08m40.507s_F475W_topsf.fits\n"
     ]
    },
    {
     "name": "stdout",
     "output_type": "stream",
     "text": [
      "   *   Image: j8pu42egq_flc_150d07m02.697s+2d08m40.507s_F475W_topsf.fits\n"
     ]
    },
    {
     "name": "stderr",
     "output_type": "stream",
     "text": [
      "2025-05-09 09:58:49,435 - stpipe - INFO -        EXT = 'SCI',1\n"
     ]
    },
    {
     "name": "stdout",
     "output_type": "stream",
     "text": [
      "       EXT = 'SCI',1\n"
     ]
    },
    {
     "name": "stderr",
     "output_type": "stream",
     "text": [
      "2025-05-09 09:58:49,436 - stpipe - INFO -              Data units type: COUNTS\n"
     ]
    },
    {
     "name": "stdout",
     "output_type": "stream",
     "text": [
      "             Data units type: COUNTS\n"
     ]
    },
    {
     "name": "stderr",
     "output_type": "stream",
     "text": [
      "2025-05-09 09:58:49,438 - stpipe - INFO -              EXPTIME: 507.0 [s]\n"
     ]
    },
    {
     "name": "stdout",
     "output_type": "stream",
     "text": [
      "             EXPTIME: 507.0 [s]\n"
     ]
    },
    {
     "name": "stderr",
     "output_type": "stream",
     "text": [
      "2025-05-09 09:58:49,440 - stpipe - INFO -              Conversion factor (data->brightness):  0.7889546351084812\n"
     ]
    },
    {
     "name": "stdout",
     "output_type": "stream",
     "text": [
      "             Conversion factor (data->brightness):  0.7889546351084812\n"
     ]
    },
    {
     "name": "stderr",
     "output_type": "stream",
     "text": [
      "2025-05-09 09:58:49,443 - stpipe - INFO - \n"
     ]
    },
    {
     "name": "stdout",
     "output_type": "stream",
     "text": [
      "\n"
     ]
    },
    {
     "name": "stderr",
     "output_type": "stream",
     "text": [
      "2025-05-09 09:58:49,445 - stpipe - INFO -    *   Image: j8pu42esq_flc_150d07m02.697s+2d08m40.507s_F475W_topsf.fits\n"
     ]
    },
    {
     "name": "stdout",
     "output_type": "stream",
     "text": [
      "   *   Image: j8pu42esq_flc_150d07m02.697s+2d08m40.507s_F475W_topsf.fits\n"
     ]
    },
    {
     "name": "stderr",
     "output_type": "stream",
     "text": [
      "2025-05-09 09:58:49,467 - stpipe - INFO -        EXT = 'SCI',1\n"
     ]
    },
    {
     "name": "stdout",
     "output_type": "stream",
     "text": [
      "       EXT = 'SCI',1\n"
     ]
    },
    {
     "name": "stderr",
     "output_type": "stream",
     "text": [
      "2025-05-09 09:58:49,468 - stpipe - INFO -              Data units type: COUNTS\n"
     ]
    },
    {
     "name": "stdout",
     "output_type": "stream",
     "text": [
      "             Data units type: COUNTS\n"
     ]
    },
    {
     "name": "stderr",
     "output_type": "stream",
     "text": [
      "2025-05-09 09:58:49,470 - stpipe - INFO -              EXPTIME: 507.0 [s]\n"
     ]
    },
    {
     "name": "stdout",
     "output_type": "stream",
     "text": [
      "             EXPTIME: 507.0 [s]\n"
     ]
    },
    {
     "name": "stderr",
     "output_type": "stream",
     "text": [
      "2025-05-09 09:58:49,477 - stpipe - INFO -              Conversion factor (data->brightness):  0.7889546351084812\n"
     ]
    },
    {
     "name": "stdout",
     "output_type": "stream",
     "text": [
      "             Conversion factor (data->brightness):  0.7889546351084812\n"
     ]
    },
    {
     "name": "stderr",
     "output_type": "stream",
     "text": [
      "2025-05-09 09:58:49,481 - stpipe - INFO - \n"
     ]
    },
    {
     "name": "stdout",
     "output_type": "stream",
     "text": [
      "\n"
     ]
    },
    {
     "name": "stderr",
     "output_type": "stream",
     "text": [
      "2025-05-09 09:58:49,483 - stpipe - INFO -    *   Image: j8pu42evq_flc_150d07m02.697s+2d08m40.507s_F475W_topsf.fits\n"
     ]
    },
    {
     "name": "stdout",
     "output_type": "stream",
     "text": [
      "   *   Image: j8pu42evq_flc_150d07m02.697s+2d08m40.507s_F475W_topsf.fits\n"
     ]
    },
    {
     "name": "stderr",
     "output_type": "stream",
     "text": [
      "2025-05-09 09:58:49,504 - stpipe - INFO -        EXT = 'SCI',1\n"
     ]
    },
    {
     "name": "stdout",
     "output_type": "stream",
     "text": [
      "       EXT = 'SCI',1\n"
     ]
    },
    {
     "name": "stderr",
     "output_type": "stream",
     "text": [
      "2025-05-09 09:58:49,505 - stpipe - INFO -              Data units type: COUNTS\n"
     ]
    },
    {
     "name": "stdout",
     "output_type": "stream",
     "text": [
      "             Data units type: COUNTS\n"
     ]
    },
    {
     "name": "stderr",
     "output_type": "stream",
     "text": [
      "2025-05-09 09:58:49,507 - stpipe - INFO -              EXPTIME: 507.0 [s]\n"
     ]
    },
    {
     "name": "stdout",
     "output_type": "stream",
     "text": [
      "             EXPTIME: 507.0 [s]\n"
     ]
    },
    {
     "name": "stderr",
     "output_type": "stream",
     "text": [
      "2025-05-09 09:58:49,508 - stpipe - INFO -              Conversion factor (data->brightness):  0.7889546351084812\n"
     ]
    },
    {
     "name": "stdout",
     "output_type": "stream",
     "text": [
      "             Conversion factor (data->brightness):  0.7889546351084812\n"
     ]
    },
    {
     "name": "stderr",
     "output_type": "stream",
     "text": [
      "2025-05-09 09:58:49,511 - stpipe - INFO - \n"
     ]
    },
    {
     "name": "stdout",
     "output_type": "stream",
     "text": [
      "\n"
     ]
    },
    {
     "name": "stderr",
     "output_type": "stream",
     "text": [
      "2025-05-09 09:58:49,518 - stpipe - INFO - \n"
     ]
    },
    {
     "name": "stdout",
     "output_type": "stream",
     "text": [
      "\n"
     ]
    },
    {
     "name": "stderr",
     "output_type": "stream",
     "text": [
      "2025-05-09 09:58:49,537 - stpipe - INFO - -----  Computing sky values requested image extensions (detector chips):  -----\n"
     ]
    },
    {
     "name": "stdout",
     "output_type": "stream",
     "text": [
      "-----  Computing sky values requested image extensions (detector chips):  -----\n"
     ]
    },
    {
     "name": "stderr",
     "output_type": "stream",
     "text": [
      "2025-05-09 09:58:49,538 - stpipe - INFO - \n"
     ]
    },
    {
     "name": "stdout",
     "output_type": "stream",
     "text": [
      "\n"
     ]
    },
    {
     "name": "stderr",
     "output_type": "stream",
     "text": [
      "2025-05-09 09:58:49,794 - stpipe - INFO -    *   Image:   'j8pu42ecq_flc_150d07m02.697s+2d08m40.507s_F475W_topsf.fits['SCI',1]'  --  SKY = 0.0 (brightness units)\n"
     ]
    },
    {
     "name": "stdout",
     "output_type": "stream",
     "text": [
      "   *   Image:   'j8pu42ecq_flc_150d07m02.697s+2d08m40.507s_F475W_topsf.fits['SCI',1]'  --  SKY = 0.0 (brightness units)\n"
     ]
    },
    {
     "name": "stderr",
     "output_type": "stream",
     "text": [
      "2025-05-09 09:58:49,795 - stpipe - INFO -        Sky change (data units):\n"
     ]
    },
    {
     "name": "stdout",
     "output_type": "stream",
     "text": [
      "       Sky change (data units):\n"
     ]
    },
    {
     "name": "stderr",
     "output_type": "stream",
     "text": [
      "2025-05-09 09:58:49,797 - stpipe - INFO -       - EXT = 'SCI',1   delta(MDRIZSKY) = 0   NEW MDRIZSKY = 0\n"
     ]
    },
    {
     "name": "stdout",
     "output_type": "stream",
     "text": [
      "      - EXT = 'SCI',1   delta(MDRIZSKY) = 0   NEW MDRIZSKY = 0\n"
     ]
    },
    {
     "name": "stderr",
     "output_type": "stream",
     "text": [
      "2025-05-09 09:58:50,050 - stpipe - INFO -    *   Image:   'j8pu42egq_flc_150d07m02.697s+2d08m40.507s_F475W_topsf.fits['SCI',1]'  --  SKY = 0.0 (brightness units)\n"
     ]
    },
    {
     "name": "stdout",
     "output_type": "stream",
     "text": [
      "   *   Image:   'j8pu42egq_flc_150d07m02.697s+2d08m40.507s_F475W_topsf.fits['SCI',1]'  --  SKY = 0.0 (brightness units)\n"
     ]
    },
    {
     "name": "stderr",
     "output_type": "stream",
     "text": [
      "2025-05-09 09:58:50,052 - stpipe - INFO -        Sky change (data units):\n"
     ]
    },
    {
     "name": "stdout",
     "output_type": "stream",
     "text": [
      "       Sky change (data units):\n"
     ]
    },
    {
     "name": "stderr",
     "output_type": "stream",
     "text": [
      "2025-05-09 09:58:50,053 - stpipe - INFO -       - EXT = 'SCI',1   delta(MDRIZSKY) = 0   NEW MDRIZSKY = 0\n"
     ]
    },
    {
     "name": "stdout",
     "output_type": "stream",
     "text": [
      "      - EXT = 'SCI',1   delta(MDRIZSKY) = 0   NEW MDRIZSKY = 0\n"
     ]
    },
    {
     "name": "stderr",
     "output_type": "stream",
     "text": [
      "2025-05-09 09:58:50,313 - stpipe - INFO -    *   Image:   'j8pu42esq_flc_150d07m02.697s+2d08m40.507s_F475W_topsf.fits['SCI',1]'  --  SKY = 0.0 (brightness units)\n"
     ]
    },
    {
     "name": "stdout",
     "output_type": "stream",
     "text": [
      "   *   Image:   'j8pu42esq_flc_150d07m02.697s+2d08m40.507s_F475W_topsf.fits['SCI',1]'  --  SKY = 0.0 (brightness units)\n"
     ]
    },
    {
     "name": "stderr",
     "output_type": "stream",
     "text": [
      "2025-05-09 09:58:50,314 - stpipe - INFO -        Sky change (data units):\n"
     ]
    },
    {
     "name": "stdout",
     "output_type": "stream",
     "text": [
      "       Sky change (data units):\n"
     ]
    },
    {
     "name": "stderr",
     "output_type": "stream",
     "text": [
      "2025-05-09 09:58:50,315 - stpipe - INFO -       - EXT = 'SCI',1   delta(MDRIZSKY) = 0   NEW MDRIZSKY = 0\n"
     ]
    },
    {
     "name": "stdout",
     "output_type": "stream",
     "text": [
      "      - EXT = 'SCI',1   delta(MDRIZSKY) = 0   NEW MDRIZSKY = 0\n"
     ]
    },
    {
     "name": "stderr",
     "output_type": "stream",
     "text": [
      "2025-05-09 09:58:50,557 - stpipe - INFO -    *   Image:   'j8pu42evq_flc_150d07m02.697s+2d08m40.507s_F475W_topsf.fits['SCI',1]'  --  SKY = 0.0 (brightness units)\n"
     ]
    },
    {
     "name": "stdout",
     "output_type": "stream",
     "text": [
      "   *   Image:   'j8pu42evq_flc_150d07m02.697s+2d08m40.507s_F475W_topsf.fits['SCI',1]'  --  SKY = 0.0 (brightness units)\n"
     ]
    },
    {
     "name": "stderr",
     "output_type": "stream",
     "text": [
      "2025-05-09 09:58:50,559 - stpipe - INFO -        Sky change (data units):\n"
     ]
    },
    {
     "name": "stdout",
     "output_type": "stream",
     "text": [
      "       Sky change (data units):\n"
     ]
    },
    {
     "name": "stderr",
     "output_type": "stream",
     "text": [
      "2025-05-09 09:58:50,561 - stpipe - INFO -       - EXT = 'SCI',1   delta(MDRIZSKY) = 0   NEW MDRIZSKY = 0\n"
     ]
    },
    {
     "name": "stdout",
     "output_type": "stream",
     "text": [
      "      - EXT = 'SCI',1   delta(MDRIZSKY) = 0   NEW MDRIZSKY = 0\n"
     ]
    },
    {
     "name": "stderr",
     "output_type": "stream",
     "text": [
      "2025-05-09 09:58:50,562 - stpipe - INFO - ***** skymatch ended on 2025-05-09 09:58:50.562453\n"
     ]
    },
    {
     "name": "stdout",
     "output_type": "stream",
     "text": [
      "***** skymatch ended on 2025-05-09 09:58:50.562453\n"
     ]
    },
    {
     "name": "stderr",
     "output_type": "stream",
     "text": [
      "2025-05-09 09:58:50,564 - stpipe - INFO - TOTAL RUN TIME: 0:00:01.348212\n"
     ]
    },
    {
     "name": "stdout",
     "output_type": "stream",
     "text": [
      "TOTAL RUN TIME: 0:00:01.348212\n"
     ]
    },
    {
     "name": "stderr",
     "output_type": "stream",
     "text": [
      "2025-05-09 09:58:50,633 - stpipe - INFO - ==== Processing Step Subtract Sky finished at 09:58:50.63 (09/05/2025)\n"
     ]
    },
    {
     "name": "stdout",
     "output_type": "stream",
     "text": [
      "==== Processing Step Subtract Sky finished at 09:58:50.63 (09/05/2025)\n"
     ]
    },
    {
     "name": "stderr",
     "output_type": "stream",
     "text": [
      "2025-05-09 09:58:50,634 - stpipe - INFO - ==== Processing Step  Separate Drizzle  started at  09:58:50.634 (09/05/2025)\n"
     ]
    },
    {
     "name": "stdout",
     "output_type": "stream",
     "text": [
      "==== Processing Step  Separate Drizzle  started at  09:58:50.634 (09/05/2025)\n"
     ]
    },
    {
     "name": "stderr",
     "output_type": "stream",
     "text": [
      "2025-05-09 09:58:50,637 - stpipe - INFO - \n"
     ]
    },
    {
     "name": "stdout",
     "output_type": "stream",
     "text": [
      "\n"
     ]
    },
    {
     "name": "stderr",
     "output_type": "stream",
     "text": [
      "2025-05-09 09:58:50,658 - stpipe - INFO - Interpreted paramDict with single=True as:\n",
      "{'build': True, 'stepsize': 10, 'coeffs': True, 'wcskey': '', 'kernel': 'turbo', 'wt_scl': 'exptime', 'pixfrac': 1.0, 'fillval': None, 'bits': 0, 'compress': False, 'units': 'cps'}\n",
      "2025-05-09 09:58:50,661 - stpipe - INFO - USER INPUT PARAMETERS for Separate Drizzle Step:\n",
      "2025-05-09 09:58:50,665 - stpipe - INFO - \tbits :\t0\n",
      "2025-05-09 09:58:50,666 - stpipe - INFO - \tbuild :\tFalse\n",
      "2025-05-09 09:58:50,666 - stpipe - INFO - \tclean :\tFalse\n",
      "2025-05-09 09:58:50,666 - stpipe - INFO - \tcoeffs :\tTrue\n",
      "2025-05-09 09:58:50,667 - stpipe - INFO - \tcompress :\tFalse\n",
      "2025-05-09 09:58:50,667 - stpipe - INFO - \tcrbit :\tNone\n",
      "2025-05-09 09:58:50,669 - stpipe - INFO - \tfillval :\tNone\n",
      "2025-05-09 09:58:50,674 - stpipe - INFO - \tkernel :\tturbo\n",
      "2025-05-09 09:58:50,675 - stpipe - INFO - \tnum_cores :\tNone\n",
      "2025-05-09 09:58:50,676 - stpipe - INFO - \tpixfrac :\t1.0\n",
      "2025-05-09 09:58:50,676 - stpipe - INFO - \tproc_unit :\telectrons\n",
      "2025-05-09 09:58:50,677 - stpipe - INFO - \trules_file :\tNone\n",
      "2025-05-09 09:58:50,678 - stpipe - INFO - \tstepsize :\t10\n",
      "2025-05-09 09:58:50,678 - stpipe - INFO - \tunits :\tcps\n",
      "2025-05-09 09:58:50,679 - stpipe - INFO - \twcskey :\t\n",
      "2025-05-09 09:58:50,679 - stpipe - INFO - \twht_type :\tNone\n",
      "2025-05-09 09:58:50,680 - stpipe - INFO - \twt_scl :\texptime\n",
      "2025-05-09 09:58:50,681 - stpipe - INFO -   **Using sub-sampling value of 10 for kernel turbo\n",
      "2025-05-09 09:58:50,681 - stpipe - INFO - Running Drizzle to create output frame with WCS of: \n",
      "2025-05-09 09:58:50,682 - stpipe - INFO - WCS Keywords\n"
     ]
    },
    {
     "name": "stdout",
     "output_type": "stream",
     "text": [
      "WCS Keywords\n"
     ]
    },
    {
     "name": "stderr",
     "output_type": "stream",
     "text": [
      "2025-05-09 09:58:50,683 - stpipe - INFO - \n"
     ]
    },
    {
     "name": "stdout",
     "output_type": "stream",
     "text": [
      "\n"
     ]
    },
    {
     "name": "stderr",
     "output_type": "stream",
     "text": [
      "2025-05-09 09:58:50,685 - stpipe - INFO - Number of WCS axes: 2\n"
     ]
    },
    {
     "name": "stdout",
     "output_type": "stream",
     "text": [
      "Number of WCS axes: 2\n"
     ]
    },
    {
     "name": "stderr",
     "output_type": "stream",
     "text": [
      "2025-05-09 09:58:50,686 - stpipe - INFO - CTYPE : 'RA---TAN' 'DEC--TAN' \n"
     ]
    },
    {
     "name": "stdout",
     "output_type": "stream",
     "text": [
      "CTYPE : 'RA---TAN' 'DEC--TAN' \n"
     ]
    },
    {
     "name": "stderr",
     "output_type": "stream",
     "text": [
      "2025-05-09 09:58:50,688 - stpipe - INFO - CRVAL : np.float64(150.1242636198465) np.float64(2.151761555110333) \n"
     ]
    },
    {
     "name": "stdout",
     "output_type": "stream",
     "text": [
      "CRVAL : np.float64(150.1242636198465) np.float64(2.151761555110333) \n"
     ]
    },
    {
     "name": "stderr",
     "output_type": "stream",
     "text": [
      "2025-05-09 09:58:50,689 - stpipe - INFO - CRPIX : np.float64(2081.0) np.float64(1179.5) \n"
     ]
    },
    {
     "name": "stdout",
     "output_type": "stream",
     "text": [
      "CRPIX : np.float64(2081.0) np.float64(1179.5) \n"
     ]
    },
    {
     "name": "stderr",
     "output_type": "stream",
     "text": [
      "2025-05-09 09:58:50,690 - stpipe - INFO - CD1_1 CD1_2  : np.float64(-2.4118726301966414e-06) np.float64(-1.3677869168244357e-05) \n"
     ]
    },
    {
     "name": "stdout",
     "output_type": "stream",
     "text": [
      "CD1_1 CD1_2  : np.float64(-2.4118726301966414e-06) np.float64(-1.3677869168244357e-05) \n"
     ]
    },
    {
     "name": "stderr",
     "output_type": "stream",
     "text": [
      "2025-05-09 09:58:50,691 - stpipe - INFO - CD2_1 CD2_2  : np.float64(-1.3677869168244357e-05) np.float64(2.4118726301966414e-06) \n"
     ]
    },
    {
     "name": "stdout",
     "output_type": "stream",
     "text": [
      "CD2_1 CD2_2  : np.float64(-1.3677869168244357e-05) np.float64(2.4118726301966414e-06) \n"
     ]
    },
    {
     "name": "stderr",
     "output_type": "stream",
     "text": [
      "2025-05-09 09:58:50,693 - stpipe - INFO - NAXIS : 4162  2359\n"
     ]
    },
    {
     "name": "stdout",
     "output_type": "stream",
     "text": [
      "NAXIS : 4162  2359\n"
     ]
    },
    {
     "name": "stderr",
     "output_type": "stream",
     "text": [
      "2025-05-09 09:58:50,694 - stpipe - INFO - Executing 4 parallel workers\n",
      "2025-05-09 09:58:50,774 - stpipe - INFO - -Drizzle input: /Users/avapolzin/Desktop/psf_testoutputs/acs/j8pu42ecq_flc_150d07m02.697s+2d08m40.507s_F475W_topsf.fits[sci,1]\n",
      "2025-05-09 09:58:50,777 - stpipe - INFO - -Drizzle input: /Users/avapolzin/Desktop/psf_testoutputs/acs/j8pu42egq_flc_150d07m02.697s+2d08m40.507s_F475W_topsf.fits[sci,1]\n",
      "2025-05-09 09:58:50,787 - stpipe - INFO - -Drizzle input: /Users/avapolzin/Desktop/psf_testoutputs/acs/j8pu42esq_flc_150d07m02.697s+2d08m40.507s_F475W_topsf.fits[sci,1]\n",
      "2025-05-09 09:58:50,798 - stpipe - INFO - Applying sky value of 0.000000 to /Users/avapolzin/Desktop/psf_testoutputs/acs/j8pu42ecq_flc_150d07m02.697s+2d08m40.507s_F475W_topsf.fits[sci,1]\n",
      "2025-05-09 09:58:50,800 - stpipe - INFO - Applying sky value of 0.000000 to /Users/avapolzin/Desktop/psf_testoutputs/acs/j8pu42egq_flc_150d07m02.697s+2d08m40.507s_F475W_topsf.fits[sci,1]\n",
      "2025-05-09 09:58:50,798 - stpipe - INFO - -Drizzle input: /Users/avapolzin/Desktop/psf_testoutputs/acs/j8pu42evq_flc_150d07m02.697s+2d08m40.507s_F475W_topsf.fits[sci,1]\n",
      "2025-05-09 09:58:50,813 - stpipe - INFO - Applying sky value of 0.000000 to /Users/avapolzin/Desktop/psf_testoutputs/acs/j8pu42esq_flc_150d07m02.697s+2d08m40.507s_F475W_topsf.fits[sci,1]\n",
      "2025-05-09 09:58:50,823 - stpipe - INFO - Applying sky value of 0.000000 to /Users/avapolzin/Desktop/psf_testoutputs/acs/j8pu42evq_flc_150d07m02.697s+2d08m40.507s_F475W_topsf.fits[sci,1]\n",
      "2025-05-09 09:58:51,073 - stpipe - INFO - Writing out mask file: /Users/avapolzin/Desktop/psf_testoutputs/acs/j8pu42esq_flc_150d07m02.697s+2d08m40.507s_F475W_topsf_sci1_single_mask.fits\n",
      "2025-05-09 09:58:51,074 - stpipe - INFO - Writing out mask file: /Users/avapolzin/Desktop/psf_testoutputs/acs/j8pu42egq_flc_150d07m02.697s+2d08m40.507s_F475W_topsf_sci1_single_mask.fits\n",
      "2025-05-09 09:58:51,075 - stpipe - INFO - Writing out mask file: /Users/avapolzin/Desktop/psf_testoutputs/acs/j8pu42evq_flc_150d07m02.697s+2d08m40.507s_F475W_topsf_sci1_single_mask.fits\n",
      "2025-05-09 09:58:51,074 - stpipe - INFO - Writing out mask file: /Users/avapolzin/Desktop/psf_testoutputs/acs/j8pu42ecq_flc_150d07m02.697s+2d08m40.507s_F475W_topsf_sci1_single_mask.fits\n",
      "2025-05-09 09:58:51,077 - stpipe - INFO - Using WCSLIB-based coordinate transformation...\n",
      "2025-05-09 09:58:51,078 - stpipe - INFO - Using WCSLIB-based coordinate transformation...\n",
      "2025-05-09 09:58:51,078 - stpipe - INFO - Using WCSLIB-based coordinate transformation...\n",
      "2025-05-09 09:58:51,078 - stpipe - INFO - Using WCSLIB-based coordinate transformation...\n",
      "2025-05-09 09:58:51,080 - stpipe - INFO - stepsize = 10\n",
      "2025-05-09 09:58:51,080 - stpipe - INFO - stepsize = 10\n",
      "2025-05-09 09:58:51,080 - stpipe - INFO - stepsize = 10\n",
      "2025-05-09 09:58:51,080 - stpipe - INFO - stepsize = 10\n",
      "2025-05-09 09:58:51,116 - stpipe - INFO - -Drizzling using kernel = turbo\n",
      "\n",
      "2025-05-09 09:58:51,116 - stpipe - INFO - -Drizzling using kernel = turbo\n",
      "\n",
      "2025-05-09 09:58:51,117 - stpipe - INFO - -Drizzling using kernel = turbo\n",
      "\n",
      "2025-05-09 09:58:51,117 - stpipe - INFO - -Drizzling using kernel = turbo\n",
      "\n",
      "2025-05-09 09:58:52,088 - stpipe - INFO - -Generating simple FITS output: /Users/avapolzin/Desktop/psf_testoutputs/acs/j8pu42ecq_flc_150d07m02.697s+2d08m40.507s_F475W_topsf_single_sci.fits\n",
      "2025-05-09 09:58:52,089 - stpipe - INFO - -Generating simple FITS output: /Users/avapolzin/Desktop/psf_testoutputs/acs/j8pu42evq_flc_150d07m02.697s+2d08m40.507s_F475W_topsf_single_sci.fits\n",
      "2025-05-09 09:58:52,090 - stpipe - INFO - -Generating simple FITS output: /Users/avapolzin/Desktop/psf_testoutputs/acs/j8pu42esq_flc_150d07m02.697s+2d08m40.507s_F475W_topsf_single_sci.fits\n",
      "2025-05-09 09:58:52,090 - stpipe - INFO - -Generating simple FITS output: /Users/avapolzin/Desktop/psf_testoutputs/acs/j8pu42egq_flc_150d07m02.697s+2d08m40.507s_F475W_topsf_single_sci.fits\n"
     ]
    },
    {
     "name": "stdout",
     "output_type": "stream",
     "text": [
      "-Generating simple FITS output: /Users/avapolzin/Desktop/psf_testoutputs/acs/j8pu42evq_flc_150d07m02.697s+2d08m40.507s_F475W_topsf_single_sci.fits\n",
      "-Generating simple FITS output: /Users/avapolzin/Desktop/psf_testoutputs/acs/j8pu42ecq_flc_150d07m02.697s+2d08m40.507s_F475W_topsf_single_sci.fits\n",
      "-Generating simple FITS output: /Users/avapolzin/Desktop/psf_testoutputs/acs/j8pu42esq_flc_150d07m02.697s+2d08m40.507s_F475W_topsf_single_sci.fits\n",
      "-Generating simple FITS output: /Users/avapolzin/Desktop/psf_testoutputs/acs/j8pu42egq_flc_150d07m02.697s+2d08m40.507s_F475W_topsf_single_sci.fits\n"
     ]
    },
    {
     "name": "stderr",
     "output_type": "stream",
     "text": [
      "2025-05-09 09:58:52,110 - stpipe - WARNING - /Users/avapolzin/opt/anaconda3/envs/spike/lib/python3.10/site-packages/astropy/io/fits/card.py:1036: VerifyWarning: Card is too long, comment will be truncated.\n",
      "\n",
      "2025-05-09 09:58:52,110 - stpipe - WARNING - /Users/avapolzin/opt/anaconda3/envs/spike/lib/python3.10/site-packages/astropy/io/fits/card.py:1036: VerifyWarning: Card is too long, comment will be truncated.\n",
      "\n",
      "2025-05-09 09:58:52,111 - stpipe - WARNING - /Users/avapolzin/opt/anaconda3/envs/spike/lib/python3.10/site-packages/astropy/io/fits/card.py:1036: VerifyWarning: Card is too long, comment will be truncated.\n",
      "\n",
      "2025-05-09 09:58:52,111 - stpipe - WARNING - /Users/avapolzin/opt/anaconda3/envs/spike/lib/python3.10/site-packages/astropy/io/fits/card.py:1036: VerifyWarning: Card is too long, comment will be truncated.\n",
      "\n",
      "2025-05-09 09:58:52,154 - stpipe - INFO - Writing out image to disk: /Users/avapolzin/Desktop/psf_testoutputs/acs/j8pu42esq_flc_150d07m02.697s+2d08m40.507s_F475W_topsf_single_sci.fits\n",
      "2025-05-09 09:58:52,155 - stpipe - INFO - Writing out image to disk: /Users/avapolzin/Desktop/psf_testoutputs/acs/j8pu42egq_flc_150d07m02.697s+2d08m40.507s_F475W_topsf_single_sci.fits\n",
      "2025-05-09 09:58:52,155 - stpipe - INFO - Writing out image to disk: /Users/avapolzin/Desktop/psf_testoutputs/acs/j8pu42evq_flc_150d07m02.697s+2d08m40.507s_F475W_topsf_single_sci.fits\n"
     ]
    },
    {
     "name": "stdout",
     "output_type": "stream",
     "text": [
      "Writing out image to disk: /Users/avapolzin/Desktop/psf_testoutputs/acs/j8pu42esq_flc_150d07m02.697s+2d08m40.507s_F475W_topsf_single_sci.fits\n",
      "Writing out image to disk: /Users/avapolzin/Desktop/psf_testoutputs/acs/j8pu42evq_flc_150d07m02.697s+2d08m40.507s_F475W_topsf_single_sci.fits\n",
      "Writing out image to disk: /Users/avapolzin/Desktop/psf_testoutputs/acs/j8pu42egq_flc_150d07m02.697s+2d08m40.507s_F475W_topsf_single_sci.fits\n"
     ]
    },
    {
     "name": "stderr",
     "output_type": "stream",
     "text": [
      "2025-05-09 09:58:52,157 - stpipe - INFO - Writing out image to disk: /Users/avapolzin/Desktop/psf_testoutputs/acs/j8pu42ecq_flc_150d07m02.697s+2d08m40.507s_F475W_topsf_single_sci.fits\n"
     ]
    },
    {
     "name": "stdout",
     "output_type": "stream",
     "text": [
      "Writing out image to disk: /Users/avapolzin/Desktop/psf_testoutputs/acs/j8pu42ecq_flc_150d07m02.697s+2d08m40.507s_F475W_topsf_single_sci.fits\n"
     ]
    },
    {
     "name": "stderr",
     "output_type": "stream",
     "text": [
      "2025-05-09 09:58:52,380 - stpipe - INFO - Writing out image to disk: /Users/avapolzin/Desktop/psf_testoutputs/acs/j8pu42egq_flc_150d07m02.697s+2d08m40.507s_F475W_topsf_single_wht.fits\n"
     ]
    },
    {
     "name": "stdout",
     "output_type": "stream",
     "text": [
      "Writing out image to disk: /Users/avapolzin/Desktop/psf_testoutputs/acs/j8pu42egq_flc_150d07m02.697s+2d08m40.507s_F475W_topsf_single_wht.fits\n"
     ]
    },
    {
     "name": "stderr",
     "output_type": "stream",
     "text": [
      "2025-05-09 09:58:52,385 - stpipe - INFO - Writing out image to disk: /Users/avapolzin/Desktop/psf_testoutputs/acs/j8pu42ecq_flc_150d07m02.697s+2d08m40.507s_F475W_topsf_single_wht.fits\n",
      "2025-05-09 09:58:52,386 - stpipe - INFO - Writing out image to disk: /Users/avapolzin/Desktop/psf_testoutputs/acs/j8pu42esq_flc_150d07m02.697s+2d08m40.507s_F475W_topsf_single_wht.fits\n",
      "2025-05-09 09:58:52,387 - stpipe - INFO - Writing out image to disk: /Users/avapolzin/Desktop/psf_testoutputs/acs/j8pu42evq_flc_150d07m02.697s+2d08m40.507s_F475W_topsf_single_wht.fits\n"
     ]
    },
    {
     "name": "stdout",
     "output_type": "stream",
     "text": [
      "Writing out image to disk: /Users/avapolzin/Desktop/psf_testoutputs/acs/j8pu42ecq_flc_150d07m02.697s+2d08m40.507s_F475W_topsf_single_wht.fits\n",
      "Writing out image to disk: /Users/avapolzin/Desktop/psf_testoutputs/acs/j8pu42evq_flc_150d07m02.697s+2d08m40.507s_F475W_topsf_single_wht.fits\n",
      "Writing out image to disk: /Users/avapolzin/Desktop/psf_testoutputs/acs/j8pu42esq_flc_150d07m02.697s+2d08m40.507s_F475W_topsf_single_wht.fits\n"
     ]
    },
    {
     "name": "stderr",
     "output_type": "stream",
     "text": [
      "2025-05-09 09:58:52,666 - stpipe - INFO - ==== Processing Step Separate Drizzle finished at 09:58:52.66 (09/05/2025)\n"
     ]
    },
    {
     "name": "stdout",
     "output_type": "stream",
     "text": [
      "==== Processing Step Separate Drizzle finished at 09:58:52.66 (09/05/2025)\n"
     ]
    },
    {
     "name": "stderr",
     "output_type": "stream",
     "text": [
      "2025-05-09 09:58:52,668 - stpipe - INFO - ==== Processing Step  Create Median  started at  09:58:52.668 (09/05/2025)\n"
     ]
    },
    {
     "name": "stdout",
     "output_type": "stream",
     "text": [
      "==== Processing Step  Create Median  started at  09:58:52.668 (09/05/2025)\n"
     ]
    },
    {
     "name": "stderr",
     "output_type": "stream",
     "text": [
      "2025-05-09 09:58:52,669 - stpipe - INFO - \n"
     ]
    },
    {
     "name": "stdout",
     "output_type": "stream",
     "text": [
      "\n"
     ]
    },
    {
     "name": "stderr",
     "output_type": "stream",
     "text": [
      "2025-05-09 09:58:52,672 - stpipe - INFO - USER INPUT PARAMETERS for Create Median Step:\n",
      "2025-05-09 09:58:52,672 - stpipe - INFO - \tcombine_bufsize :\tNone\n",
      "2025-05-09 09:58:52,673 - stpipe - INFO - \tcombine_grow :\t1\n",
      "2025-05-09 09:58:52,674 - stpipe - INFO - \tcombine_hthresh :\tNone\n",
      "2025-05-09 09:58:52,674 - stpipe - INFO - \tcombine_lthresh :\tNone\n",
      "2025-05-09 09:58:52,676 - stpipe - INFO - \tcombine_maskpt :\t0.3\n",
      "2025-05-09 09:58:52,677 - stpipe - INFO - \tcombine_nhigh :\t0\n",
      "2025-05-09 09:58:52,677 - stpipe - INFO - \tcombine_nlow :\t0\n",
      "2025-05-09 09:58:52,678 - stpipe - INFO - \tcombine_nsigma :\t4 3\n",
      "2025-05-09 09:58:52,679 - stpipe - INFO - \tcombine_type :\timedian\n",
      "2025-05-09 09:58:52,679 - stpipe - INFO - \tcompress :\tFalse\n",
      "2025-05-09 09:58:52,680 - stpipe - INFO - \tmedian :\tTrue\n",
      "2025-05-09 09:58:52,681 - stpipe - INFO - \tmedian_newmasks :\tTrue\n",
      "2025-05-09 09:58:52,681 - stpipe - INFO - \tproc_unit :\tnative\n",
      "2025-05-09 09:58:52,772 - stpipe - INFO - reference sky value for image '/Users/avapolzin/Desktop/psf_testoutputs/acs/j8pu42ecq_flc_150d07m02.697s+2d08m40.507s_F475W_topsf.fits' is 0.0\n"
     ]
    },
    {
     "name": "stdout",
     "output_type": "stream",
     "text": [
      "reference sky value for image '/Users/avapolzin/Desktop/psf_testoutputs/acs/j8pu42ecq_flc_150d07m02.697s+2d08m40.507s_F475W_topsf.fits' is 0.0\n"
     ]
    },
    {
     "name": "stderr",
     "output_type": "stream",
     "text": [
      "2025-05-09 09:58:52,878 - stpipe - INFO - reference sky value for image '/Users/avapolzin/Desktop/psf_testoutputs/acs/j8pu42egq_flc_150d07m02.697s+2d08m40.507s_F475W_topsf.fits' is 0.0\n"
     ]
    },
    {
     "name": "stdout",
     "output_type": "stream",
     "text": [
      "reference sky value for image '/Users/avapolzin/Desktop/psf_testoutputs/acs/j8pu42egq_flc_150d07m02.697s+2d08m40.507s_F475W_topsf.fits' is 0.0\n"
     ]
    },
    {
     "name": "stderr",
     "output_type": "stream",
     "text": [
      "2025-05-09 09:58:52,939 - stpipe - INFO - reference sky value for image '/Users/avapolzin/Desktop/psf_testoutputs/acs/j8pu42esq_flc_150d07m02.697s+2d08m40.507s_F475W_topsf.fits' is 0.0\n"
     ]
    },
    {
     "name": "stdout",
     "output_type": "stream",
     "text": [
      "reference sky value for image '/Users/avapolzin/Desktop/psf_testoutputs/acs/j8pu42esq_flc_150d07m02.697s+2d08m40.507s_F475W_topsf.fits' is 0.0\n"
     ]
    },
    {
     "name": "stderr",
     "output_type": "stream",
     "text": [
      "2025-05-09 09:58:53,003 - stpipe - INFO - reference sky value for image '/Users/avapolzin/Desktop/psf_testoutputs/acs/j8pu42evq_flc_150d07m02.697s+2d08m40.507s_F475W_topsf.fits' is 0.0\n"
     ]
    },
    {
     "name": "stdout",
     "output_type": "stream",
     "text": [
      "reference sky value for image '/Users/avapolzin/Desktop/psf_testoutputs/acs/j8pu42evq_flc_150d07m02.697s+2d08m40.507s_F475W_topsf.fits' is 0.0\n"
     ]
    },
    {
     "name": "stderr",
     "output_type": "stream",
     "text": [
      "2025-05-09 09:58:53,659 - stpipe - WARNING - /Users/avapolzin/opt/anaconda3/envs/spike/lib/python3.10/site-packages/stsci/image/combine.py:22: RuntimeWarning: invalid value encountered in cast\n",
      "\n",
      "2025-05-09 09:58:54,405 - stpipe - INFO - Saving output median image to: '/Users/avapolzin/Desktop/psf_testoutputs/acs/150d07m02.697s+2d08m40.507s_F475W_psf_med.fits'\n"
     ]
    },
    {
     "name": "stdout",
     "output_type": "stream",
     "text": [
      "Saving output median image to: '/Users/avapolzin/Desktop/psf_testoutputs/acs/150d07m02.697s+2d08m40.507s_F475W_psf_med.fits'\n"
     ]
    },
    {
     "name": "stderr",
     "output_type": "stream",
     "text": [
      "2025-05-09 09:58:54,454 - stpipe - INFO - ==== Processing Step Create Median finished at 09:58:54.454 (09/05/2025)\n"
     ]
    },
    {
     "name": "stdout",
     "output_type": "stream",
     "text": [
      "==== Processing Step Create Median finished at 09:58:54.454 (09/05/2025)\n"
     ]
    },
    {
     "name": "stderr",
     "output_type": "stream",
     "text": [
      "2025-05-09 09:58:54,455 - stpipe - INFO - ==== Processing Step  Blot  started at  09:58:54.455 (09/05/2025)\n"
     ]
    },
    {
     "name": "stdout",
     "output_type": "stream",
     "text": [
      "==== Processing Step  Blot  started at  09:58:54.455 (09/05/2025)\n"
     ]
    },
    {
     "name": "stderr",
     "output_type": "stream",
     "text": [
      "2025-05-09 09:58:54,457 - stpipe - INFO - \n"
     ]
    },
    {
     "name": "stdout",
     "output_type": "stream",
     "text": [
      "\n"
     ]
    },
    {
     "name": "stderr",
     "output_type": "stream",
     "text": [
      "2025-05-09 09:58:54,458 - stpipe - INFO - USER INPUT PARAMETERS for Blot Step:\n",
      "2025-05-09 09:58:54,459 - stpipe - INFO - \tblot_addsky :\tTrue\n",
      "2025-05-09 09:58:54,459 - stpipe - INFO - \tblot_interp :\tpoly5\n",
      "2025-05-09 09:58:54,460 - stpipe - INFO - \tblot_sinscl :\t1.0\n",
      "2025-05-09 09:58:54,460 - stpipe - INFO - \tblot_skyval :\t0.0\n",
      "2025-05-09 09:58:54,461 - stpipe - INFO - \tcoeffs :\tTrue\n",
      "2025-05-09 09:58:54,462 - stpipe - INFO -     Blot: creating blotted image:  /Users/avapolzin/Desktop/psf_testoutputs/acs/j8pu42ecq_flc_150d07m02.697s+2d08m40.507s_F475W_topsf.fits[sci,1]\n"
     ]
    },
    {
     "name": "stdout",
     "output_type": "stream",
     "text": [
      "    Blot: creating blotted image:  /Users/avapolzin/Desktop/psf_testoutputs/acs/j8pu42ecq_flc_150d07m02.697s+2d08m40.507s_F475W_topsf.fits[sci,1]\n"
     ]
    },
    {
     "name": "stderr",
     "output_type": "stream",
     "text": [
      "2025-05-09 09:58:54,507 - stpipe - INFO - Using default C-based coordinate transformation...\n"
     ]
    },
    {
     "name": "stdout",
     "output_type": "stream",
     "text": [
      "Using default C-based coordinate transformation...\n"
     ]
    },
    {
     "name": "stderr",
     "output_type": "stream",
     "text": [
      "2025-05-09 09:58:55,293 - stpipe - INFO - Applying sky value of 0.000000 to blotted image /Users/avapolzin/Desktop/psf_testoutputs/acs/j8pu42ecq_flc_150d07m02.697s+2d08m40.507s_F475W_topsf.fits[sci,1]\n",
      "2025-05-09 09:58:55,334 - stpipe - INFO - -Generating simple FITS output: /Users/avapolzin/Desktop/psf_testoutputs/acs/j8pu42ecq_flc_150d07m02.697s+2d08m40.507s_F475W_topsf_sci1_blt.fits\n"
     ]
    },
    {
     "name": "stdout",
     "output_type": "stream",
     "text": [
      "-Generating simple FITS output: /Users/avapolzin/Desktop/psf_testoutputs/acs/j8pu42ecq_flc_150d07m02.697s+2d08m40.507s_F475W_topsf_sci1_blt.fits\n"
     ]
    },
    {
     "name": "stderr",
     "output_type": "stream",
     "text": [
      "2025-05-09 09:58:55,349 - stpipe - INFO - Writing out image to disk: /Users/avapolzin/Desktop/psf_testoutputs/acs/j8pu42ecq_flc_150d07m02.697s+2d08m40.507s_F475W_topsf_sci1_blt.fits\n"
     ]
    },
    {
     "name": "stdout",
     "output_type": "stream",
     "text": [
      "Writing out image to disk: /Users/avapolzin/Desktop/psf_testoutputs/acs/j8pu42ecq_flc_150d07m02.697s+2d08m40.507s_F475W_topsf_sci1_blt.fits\n"
     ]
    },
    {
     "name": "stderr",
     "output_type": "stream",
     "text": [
      "2025-05-09 09:58:55,422 - stpipe - INFO -     Blot: creating blotted image:  /Users/avapolzin/Desktop/psf_testoutputs/acs/j8pu42egq_flc_150d07m02.697s+2d08m40.507s_F475W_topsf.fits[sci,1]\n"
     ]
    },
    {
     "name": "stdout",
     "output_type": "stream",
     "text": [
      "    Blot: creating blotted image:  /Users/avapolzin/Desktop/psf_testoutputs/acs/j8pu42egq_flc_150d07m02.697s+2d08m40.507s_F475W_topsf.fits[sci,1]\n"
     ]
    },
    {
     "name": "stderr",
     "output_type": "stream",
     "text": [
      "2025-05-09 09:58:55,467 - stpipe - INFO - Using default C-based coordinate transformation...\n"
     ]
    },
    {
     "name": "stdout",
     "output_type": "stream",
     "text": [
      "Using default C-based coordinate transformation...\n"
     ]
    },
    {
     "name": "stderr",
     "output_type": "stream",
     "text": [
      "2025-05-09 09:58:56,252 - stpipe - INFO - Applying sky value of 0.000000 to blotted image /Users/avapolzin/Desktop/psf_testoutputs/acs/j8pu42egq_flc_150d07m02.697s+2d08m40.507s_F475W_topsf.fits[sci,1]\n",
      "2025-05-09 09:58:56,293 - stpipe - INFO - -Generating simple FITS output: /Users/avapolzin/Desktop/psf_testoutputs/acs/j8pu42egq_flc_150d07m02.697s+2d08m40.507s_F475W_topsf_sci1_blt.fits\n"
     ]
    },
    {
     "name": "stdout",
     "output_type": "stream",
     "text": [
      "-Generating simple FITS output: /Users/avapolzin/Desktop/psf_testoutputs/acs/j8pu42egq_flc_150d07m02.697s+2d08m40.507s_F475W_topsf_sci1_blt.fits\n"
     ]
    },
    {
     "name": "stderr",
     "output_type": "stream",
     "text": [
      "2025-05-09 09:58:56,309 - stpipe - INFO - Writing out image to disk: /Users/avapolzin/Desktop/psf_testoutputs/acs/j8pu42egq_flc_150d07m02.697s+2d08m40.507s_F475W_topsf_sci1_blt.fits\n"
     ]
    },
    {
     "name": "stdout",
     "output_type": "stream",
     "text": [
      "Writing out image to disk: /Users/avapolzin/Desktop/psf_testoutputs/acs/j8pu42egq_flc_150d07m02.697s+2d08m40.507s_F475W_topsf_sci1_blt.fits\n"
     ]
    },
    {
     "name": "stderr",
     "output_type": "stream",
     "text": [
      "2025-05-09 09:58:56,384 - stpipe - INFO -     Blot: creating blotted image:  /Users/avapolzin/Desktop/psf_testoutputs/acs/j8pu42esq_flc_150d07m02.697s+2d08m40.507s_F475W_topsf.fits[sci,1]\n"
     ]
    },
    {
     "name": "stdout",
     "output_type": "stream",
     "text": [
      "    Blot: creating blotted image:  /Users/avapolzin/Desktop/psf_testoutputs/acs/j8pu42esq_flc_150d07m02.697s+2d08m40.507s_F475W_topsf.fits[sci,1]\n"
     ]
    },
    {
     "name": "stderr",
     "output_type": "stream",
     "text": [
      "2025-05-09 09:58:56,409 - stpipe - INFO - Using default C-based coordinate transformation...\n"
     ]
    },
    {
     "name": "stdout",
     "output_type": "stream",
     "text": [
      "Using default C-based coordinate transformation...\n"
     ]
    },
    {
     "name": "stderr",
     "output_type": "stream",
     "text": [
      "2025-05-09 09:58:57,191 - stpipe - INFO - Applying sky value of 0.000000 to blotted image /Users/avapolzin/Desktop/psf_testoutputs/acs/j8pu42esq_flc_150d07m02.697s+2d08m40.507s_F475W_topsf.fits[sci,1]\n",
      "2025-05-09 09:58:57,232 - stpipe - INFO - -Generating simple FITS output: /Users/avapolzin/Desktop/psf_testoutputs/acs/j8pu42esq_flc_150d07m02.697s+2d08m40.507s_F475W_topsf_sci1_blt.fits\n"
     ]
    },
    {
     "name": "stdout",
     "output_type": "stream",
     "text": [
      "-Generating simple FITS output: /Users/avapolzin/Desktop/psf_testoutputs/acs/j8pu42esq_flc_150d07m02.697s+2d08m40.507s_F475W_topsf_sci1_blt.fits\n"
     ]
    },
    {
     "name": "stderr",
     "output_type": "stream",
     "text": [
      "2025-05-09 09:58:57,247 - stpipe - INFO - Writing out image to disk: /Users/avapolzin/Desktop/psf_testoutputs/acs/j8pu42esq_flc_150d07m02.697s+2d08m40.507s_F475W_topsf_sci1_blt.fits\n"
     ]
    },
    {
     "name": "stdout",
     "output_type": "stream",
     "text": [
      "Writing out image to disk: /Users/avapolzin/Desktop/psf_testoutputs/acs/j8pu42esq_flc_150d07m02.697s+2d08m40.507s_F475W_topsf_sci1_blt.fits\n"
     ]
    },
    {
     "name": "stderr",
     "output_type": "stream",
     "text": [
      "2025-05-09 09:58:57,319 - stpipe - INFO -     Blot: creating blotted image:  /Users/avapolzin/Desktop/psf_testoutputs/acs/j8pu42evq_flc_150d07m02.697s+2d08m40.507s_F475W_topsf.fits[sci,1]\n"
     ]
    },
    {
     "name": "stdout",
     "output_type": "stream",
     "text": [
      "    Blot: creating blotted image:  /Users/avapolzin/Desktop/psf_testoutputs/acs/j8pu42evq_flc_150d07m02.697s+2d08m40.507s_F475W_topsf.fits[sci,1]\n"
     ]
    },
    {
     "name": "stderr",
     "output_type": "stream",
     "text": [
      "2025-05-09 09:58:57,352 - stpipe - INFO - Using default C-based coordinate transformation...\n"
     ]
    },
    {
     "name": "stdout",
     "output_type": "stream",
     "text": [
      "Using default C-based coordinate transformation...\n"
     ]
    },
    {
     "name": "stderr",
     "output_type": "stream",
     "text": [
      "2025-05-09 09:58:58,139 - stpipe - INFO - Applying sky value of 0.000000 to blotted image /Users/avapolzin/Desktop/psf_testoutputs/acs/j8pu42evq_flc_150d07m02.697s+2d08m40.507s_F475W_topsf.fits[sci,1]\n",
      "2025-05-09 09:58:58,180 - stpipe - INFO - -Generating simple FITS output: /Users/avapolzin/Desktop/psf_testoutputs/acs/j8pu42evq_flc_150d07m02.697s+2d08m40.507s_F475W_topsf_sci1_blt.fits\n"
     ]
    },
    {
     "name": "stdout",
     "output_type": "stream",
     "text": [
      "-Generating simple FITS output: /Users/avapolzin/Desktop/psf_testoutputs/acs/j8pu42evq_flc_150d07m02.697s+2d08m40.507s_F475W_topsf_sci1_blt.fits\n"
     ]
    },
    {
     "name": "stderr",
     "output_type": "stream",
     "text": [
      "2025-05-09 09:58:58,196 - stpipe - INFO - Writing out image to disk: /Users/avapolzin/Desktop/psf_testoutputs/acs/j8pu42evq_flc_150d07m02.697s+2d08m40.507s_F475W_topsf_sci1_blt.fits\n"
     ]
    },
    {
     "name": "stdout",
     "output_type": "stream",
     "text": [
      "Writing out image to disk: /Users/avapolzin/Desktop/psf_testoutputs/acs/j8pu42evq_flc_150d07m02.697s+2d08m40.507s_F475W_topsf_sci1_blt.fits\n"
     ]
    },
    {
     "name": "stderr",
     "output_type": "stream",
     "text": [
      "2025-05-09 09:58:58,265 - stpipe - INFO - ==== Processing Step Blot finished at 09:58:58.265 (09/05/2025)\n"
     ]
    },
    {
     "name": "stdout",
     "output_type": "stream",
     "text": [
      "==== Processing Step Blot finished at 09:58:58.265 (09/05/2025)\n"
     ]
    },
    {
     "name": "stderr",
     "output_type": "stream",
     "text": [
      "2025-05-09 09:58:58,267 - stpipe - INFO - ==== Processing Step  Driz_CR  started at  09:58:58.267 (09/05/2025)\n"
     ]
    },
    {
     "name": "stdout",
     "output_type": "stream",
     "text": [
      "==== Processing Step  Driz_CR  started at  09:58:58.267 (09/05/2025)\n"
     ]
    },
    {
     "name": "stderr",
     "output_type": "stream",
     "text": [
      "2025-05-09 09:58:58,268 - stpipe - INFO - \n"
     ]
    },
    {
     "name": "stdout",
     "output_type": "stream",
     "text": [
      "\n"
     ]
    },
    {
     "name": "stderr",
     "output_type": "stream",
     "text": [
      "2025-05-09 09:58:58,270 - stpipe - INFO - USER INPUT PARAMETERS for Driz_CR Step:\n",
      "2025-05-09 09:58:58,270 - stpipe - INFO - \tcrbit :\t4096\n",
      "2025-05-09 09:58:58,271 - stpipe - INFO - \tdriz_cr :\tTrue\n",
      "2025-05-09 09:58:58,272 - stpipe - INFO - \tdriz_cr_corr :\tFalse\n",
      "2025-05-09 09:58:58,272 - stpipe - INFO - \tdriz_cr_ctegrow :\t0\n",
      "2025-05-09 09:58:58,273 - stpipe - INFO - \tdriz_cr_grow :\t1\n",
      "2025-05-09 09:58:58,274 - stpipe - INFO - \tdriz_cr_scale :\t1.2 0.7\n",
      "2025-05-09 09:58:58,274 - stpipe - INFO - \tdriz_cr_snr :\t3.5 3.0\n",
      "2025-05-09 09:58:58,275 - stpipe - INFO - \tinmemory :\tFalse\n",
      "2025-05-09 09:58:58,276 - stpipe - INFO - Executing 4 parallel workers\n",
      "2025-05-09 09:58:59,785 - stpipe - INFO - Creating output: /Users/avapolzin/Desktop/psf_testoutputs/acs/j8pu42evq_flc_150d07m02.697s+2d08m40.507s_F475W_topsf_sci1_crmask.fits\n"
     ]
    },
    {
     "name": "stdout",
     "output_type": "stream",
     "text": [
      "Creating output: /Users/avapolzin/Desktop/psf_testoutputs/acs/j8pu42evq_flc_150d07m02.697s+2d08m40.507s_F475W_topsf_sci1_crmask.fits\n"
     ]
    },
    {
     "name": "stderr",
     "output_type": "stream",
     "text": [
      "2025-05-09 09:58:59,789 - stpipe - INFO - Creating output: /Users/avapolzin/Desktop/psf_testoutputs/acs/j8pu42esq_flc_150d07m02.697s+2d08m40.507s_F475W_topsf_sci1_crmask.fits\n"
     ]
    },
    {
     "name": "stdout",
     "output_type": "stream",
     "text": [
      "Creating output: /Users/avapolzin/Desktop/psf_testoutputs/acs/j8pu42esq_flc_150d07m02.697s+2d08m40.507s_F475W_topsf_sci1_crmask.fits\n"
     ]
    },
    {
     "name": "stderr",
     "output_type": "stream",
     "text": [
      "2025-05-09 09:58:59,806 - stpipe - INFO - Creating output: /Users/avapolzin/Desktop/psf_testoutputs/acs/j8pu42ecq_flc_150d07m02.697s+2d08m40.507s_F475W_topsf_sci1_crmask.fits\n"
     ]
    },
    {
     "name": "stdout",
     "output_type": "stream",
     "text": [
      "Creating output: /Users/avapolzin/Desktop/psf_testoutputs/acs/j8pu42ecq_flc_150d07m02.697s+2d08m40.507s_F475W_topsf_sci1_crmask.fits\n"
     ]
    },
    {
     "name": "stderr",
     "output_type": "stream",
     "text": [
      "2025-05-09 09:58:59,813 - stpipe - INFO - Creating output: /Users/avapolzin/Desktop/psf_testoutputs/acs/j8pu42egq_flc_150d07m02.697s+2d08m40.507s_F475W_topsf_sci1_crmask.fits\n"
     ]
    },
    {
     "name": "stdout",
     "output_type": "stream",
     "text": [
      "Creating output: /Users/avapolzin/Desktop/psf_testoutputs/acs/j8pu42egq_flc_150d07m02.697s+2d08m40.507s_F475W_topsf_sci1_crmask.fits\n"
     ]
    },
    {
     "name": "stderr",
     "output_type": "stream",
     "text": [
      "2025-05-09 09:58:59,897 - stpipe - INFO - ==== Processing Step Driz_CR finished at 09:58:59.895 (09/05/2025)\n"
     ]
    },
    {
     "name": "stdout",
     "output_type": "stream",
     "text": [
      "==== Processing Step Driz_CR finished at 09:58:59.895 (09/05/2025)\n"
     ]
    },
    {
     "name": "stderr",
     "output_type": "stream",
     "text": [
      "2025-05-09 09:58:59,907 - stpipe - INFO - ==== Processing Step  Final Drizzle  started at  09:58:59.906 (09/05/2025)\n"
     ]
    },
    {
     "name": "stdout",
     "output_type": "stream",
     "text": [
      "==== Processing Step  Final Drizzle  started at  09:58:59.906 (09/05/2025)\n"
     ]
    },
    {
     "name": "stderr",
     "output_type": "stream",
     "text": [
      "2025-05-09 09:58:59,908 - stpipe - INFO - \n"
     ]
    },
    {
     "name": "stdout",
     "output_type": "stream",
     "text": [
      "\n"
     ]
    },
    {
     "name": "stderr",
     "output_type": "stream",
     "text": [
      "2025-05-09 09:58:59,910 - stpipe - INFO - Interpreted paramDict with single=False as:\n",
      "{'build': True, 'stepsize': 10, 'coeffs': True, 'wcskey': '', 'wht_type': 'EXP', 'kernel': 'square', 'wt_scl': 'exptime', 'pixfrac': 0.8, 'fillval': None, 'maskval': None, 'bits': 0, 'units': 'cps'}\n",
      "2025-05-09 09:58:59,911 - stpipe - INFO - USER INPUT PARAMETERS for Final Drizzle Step:\n",
      "2025-05-09 09:58:59,912 - stpipe - INFO - \tbits :\t0\n",
      "2025-05-09 09:58:59,913 - stpipe - INFO - \tbuild :\tTrue\n",
      "2025-05-09 09:58:59,913 - stpipe - INFO - \tclean :\tFalse\n",
      "2025-05-09 09:58:59,914 - stpipe - INFO - \tcoeffs :\tTrue\n",
      "2025-05-09 09:58:59,915 - stpipe - INFO - \tcrbit :\t4096\n",
      "2025-05-09 09:58:59,916 - stpipe - INFO - \tfillval :\tNone\n",
      "2025-05-09 09:58:59,917 - stpipe - INFO - \tkernel :\tsquare\n",
      "2025-05-09 09:58:59,918 - stpipe - INFO - \tlogfile :\tastrodrizzle.log\n",
      "2025-05-09 09:58:59,919 - stpipe - INFO - \tmaskval :\tNone\n",
      "2025-05-09 09:58:59,919 - stpipe - INFO - \tpixfrac :\t0.8\n",
      "2025-05-09 09:58:59,920 - stpipe - INFO - \tproc_unit :\tnative\n",
      "2025-05-09 09:58:59,921 - stpipe - INFO - \trules_file :\tNone\n",
      "2025-05-09 09:58:59,922 - stpipe - INFO - \tstepsize :\t10\n",
      "2025-05-09 09:58:59,923 - stpipe - INFO - \tunits :\tcps\n",
      "2025-05-09 09:58:59,923 - stpipe - INFO - \twcskey :\t\n",
      "2025-05-09 09:58:59,924 - stpipe - INFO - \twht_type :\tEXP\n",
      "2025-05-09 09:58:59,925 - stpipe - INFO - \twt_scl :\texptime\n",
      "2025-05-09 09:58:59,926 - stpipe - INFO -   **Using sub-sampling value of 10 for kernel square\n",
      "2025-05-09 09:58:59,931 - stpipe - INFO - Running Drizzle to create output frame with WCS of: \n",
      "2025-05-09 09:58:59,932 - stpipe - INFO - WCS Keywords\n"
     ]
    },
    {
     "name": "stdout",
     "output_type": "stream",
     "text": [
      "WCS Keywords\n"
     ]
    },
    {
     "name": "stderr",
     "output_type": "stream",
     "text": [
      "2025-05-09 09:58:59,934 - stpipe - INFO - \n"
     ]
    },
    {
     "name": "stdout",
     "output_type": "stream",
     "text": [
      "\n"
     ]
    },
    {
     "name": "stderr",
     "output_type": "stream",
     "text": [
      "2025-05-09 09:58:59,966 - stpipe - INFO - Number of WCS axes: 2\n"
     ]
    },
    {
     "name": "stdout",
     "output_type": "stream",
     "text": [
      "Number of WCS axes: 2\n"
     ]
    },
    {
     "name": "stderr",
     "output_type": "stream",
     "text": [
      "2025-05-09 09:58:59,978 - stpipe - INFO - CTYPE : 'RA---TAN' 'DEC--TAN' \n"
     ]
    },
    {
     "name": "stdout",
     "output_type": "stream",
     "text": [
      "CTYPE : 'RA---TAN' 'DEC--TAN' \n"
     ]
    },
    {
     "name": "stderr",
     "output_type": "stream",
     "text": [
      "2025-05-09 09:58:59,979 - stpipe - INFO - CRVAL : np.float64(150.1242636198465) np.float64(2.151761555110333) \n"
     ]
    },
    {
     "name": "stdout",
     "output_type": "stream",
     "text": [
      "CRVAL : np.float64(150.1242636198465) np.float64(2.151761555110333) \n"
     ]
    },
    {
     "name": "stderr",
     "output_type": "stream",
     "text": [
      "2025-05-09 09:58:59,980 - stpipe - INFO - CRPIX : np.float64(2081.0) np.float64(1179.5) \n"
     ]
    },
    {
     "name": "stdout",
     "output_type": "stream",
     "text": [
      "CRPIX : np.float64(2081.0) np.float64(1179.5) \n"
     ]
    },
    {
     "name": "stderr",
     "output_type": "stream",
     "text": [
      "2025-05-09 09:58:59,982 - stpipe - INFO - CD1_1 CD1_2  : np.float64(-2.4118726301966414e-06) np.float64(-1.3677869168244357e-05) \n"
     ]
    },
    {
     "name": "stdout",
     "output_type": "stream",
     "text": [
      "CD1_1 CD1_2  : np.float64(-2.4118726301966414e-06) np.float64(-1.3677869168244357e-05) \n"
     ]
    },
    {
     "name": "stderr",
     "output_type": "stream",
     "text": [
      "2025-05-09 09:58:59,984 - stpipe - INFO - CD2_1 CD2_2  : np.float64(-1.3677869168244357e-05) np.float64(2.4118726301966414e-06) \n"
     ]
    },
    {
     "name": "stdout",
     "output_type": "stream",
     "text": [
      "CD2_1 CD2_2  : np.float64(-1.3677869168244357e-05) np.float64(2.4118726301966414e-06) \n"
     ]
    },
    {
     "name": "stderr",
     "output_type": "stream",
     "text": [
      "2025-05-09 09:58:59,985 - stpipe - INFO - NAXIS : 4162  2359\n"
     ]
    },
    {
     "name": "stdout",
     "output_type": "stream",
     "text": [
      "NAXIS : 4162  2359\n"
     ]
    },
    {
     "name": "stderr",
     "output_type": "stream",
     "text": [
      "2025-05-09 09:59:00,023 - stpipe - INFO - -Drizzle input: /Users/avapolzin/Desktop/psf_testoutputs/acs/j8pu42ecq_flc_150d07m02.697s+2d08m40.507s_F475W_topsf.fits[sci,1]\n",
      "2025-05-09 09:59:00,040 - stpipe - INFO - Applying sky value of 0.000000 to /Users/avapolzin/Desktop/psf_testoutputs/acs/j8pu42ecq_flc_150d07m02.697s+2d08m40.507s_F475W_topsf.fits[sci,1]\n",
      "2025-05-09 09:59:00,138 - stpipe - INFO - Applying EXPTIME weighting to DQ mask for chip 1\n",
      "2025-05-09 09:59:00,281 - stpipe - INFO - Writing out mask file: /Users/avapolzin/Desktop/psf_testoutputs/acs/j8pu42ecq_flc_150d07m02.697s+2d08m40.507s_F475W_topsf_sci1_final_mask.fits\n",
      "2025-05-09 09:59:00,283 - stpipe - INFO - Using WCSLIB-based coordinate transformation...\n",
      "2025-05-09 09:59:00,283 - stpipe - INFO - stepsize = 10\n",
      "2025-05-09 09:59:00,312 - stpipe - INFO - -Drizzling using kernel = square\n",
      "\n",
      "2025-05-09 09:59:01,500 - stpipe - INFO - -Drizzle input: /Users/avapolzin/Desktop/psf_testoutputs/acs/j8pu42egq_flc_150d07m02.697s+2d08m40.507s_F475W_topsf.fits[sci,1]\n",
      "2025-05-09 09:59:01,515 - stpipe - INFO - Applying sky value of 0.000000 to /Users/avapolzin/Desktop/psf_testoutputs/acs/j8pu42egq_flc_150d07m02.697s+2d08m40.507s_F475W_topsf.fits[sci,1]\n",
      "2025-05-09 09:59:01,597 - stpipe - INFO - Applying EXPTIME weighting to DQ mask for chip 1\n",
      "2025-05-09 09:59:01,692 - stpipe - INFO - Writing out mask file: /Users/avapolzin/Desktop/psf_testoutputs/acs/j8pu42egq_flc_150d07m02.697s+2d08m40.507s_F475W_topsf_sci1_final_mask.fits\n",
      "2025-05-09 09:59:01,693 - stpipe - INFO - Using WCSLIB-based coordinate transformation...\n",
      "2025-05-09 09:59:01,694 - stpipe - INFO - stepsize = 10\n",
      "2025-05-09 09:59:01,722 - stpipe - INFO - -Drizzling using kernel = square\n",
      "\n",
      "2025-05-09 09:59:02,867 - stpipe - INFO - -Drizzle input: /Users/avapolzin/Desktop/psf_testoutputs/acs/j8pu42esq_flc_150d07m02.697s+2d08m40.507s_F475W_topsf.fits[sci,1]\n",
      "2025-05-09 09:59:02,881 - stpipe - INFO - Applying sky value of 0.000000 to /Users/avapolzin/Desktop/psf_testoutputs/acs/j8pu42esq_flc_150d07m02.697s+2d08m40.507s_F475W_topsf.fits[sci,1]\n",
      "2025-05-09 09:59:02,941 - stpipe - INFO - Applying EXPTIME weighting to DQ mask for chip 1\n",
      "2025-05-09 09:59:03,031 - stpipe - INFO - Writing out mask file: /Users/avapolzin/Desktop/psf_testoutputs/acs/j8pu42esq_flc_150d07m02.697s+2d08m40.507s_F475W_topsf_sci1_final_mask.fits\n",
      "2025-05-09 09:59:03,032 - stpipe - INFO - Using WCSLIB-based coordinate transformation...\n",
      "2025-05-09 09:59:03,033 - stpipe - INFO - stepsize = 10\n",
      "2025-05-09 09:59:03,060 - stpipe - INFO - -Drizzling using kernel = square\n",
      "\n",
      "2025-05-09 09:59:04,229 - stpipe - INFO - -Drizzle input: /Users/avapolzin/Desktop/psf_testoutputs/acs/j8pu42evq_flc_150d07m02.697s+2d08m40.507s_F475W_topsf.fits[sci,1]\n",
      "2025-05-09 09:59:04,244 - stpipe - INFO - Applying sky value of 0.000000 to /Users/avapolzin/Desktop/psf_testoutputs/acs/j8pu42evq_flc_150d07m02.697s+2d08m40.507s_F475W_topsf.fits[sci,1]\n",
      "2025-05-09 09:59:04,309 - stpipe - INFO - Applying EXPTIME weighting to DQ mask for chip 1\n",
      "2025-05-09 09:59:04,396 - stpipe - INFO - Writing out mask file: /Users/avapolzin/Desktop/psf_testoutputs/acs/j8pu42evq_flc_150d07m02.697s+2d08m40.507s_F475W_topsf_sci1_final_mask.fits\n",
      "2025-05-09 09:59:04,397 - stpipe - INFO - Using WCSLIB-based coordinate transformation...\n",
      "2025-05-09 09:59:04,397 - stpipe - INFO - stepsize = 10\n",
      "2025-05-09 09:59:04,425 - stpipe - INFO - -Drizzling using kernel = square\n",
      "\n",
      "2025-05-09 09:59:06,001 - stpipe - INFO - -Generating multi-extension output file:  /Users/avapolzin/Desktop/psf_testoutputs/acs/150d07m02.697s+2d08m40.507s_F475W_psf_drz.fits\n"
     ]
    },
    {
     "name": "stdout",
     "output_type": "stream",
     "text": [
      "-Generating multi-extension output file:  /Users/avapolzin/Desktop/psf_testoutputs/acs/150d07m02.697s+2d08m40.507s_F475W_psf_drz.fits\n"
     ]
    },
    {
     "name": "stderr",
     "output_type": "stream",
     "text": [
      "2025-05-09 09:59:06,018 - stpipe - INFO - Deleted all instances of WCS with key A in extensions [1]\n"
     ]
    },
    {
     "name": "stdout",
     "output_type": "stream",
     "text": [
      "Deleted all instances of WCS with key A in extensions [1]\n"
     ]
    },
    {
     "name": "stderr",
     "output_type": "stream",
     "text": [
      "2025-05-09 09:59:06,025 - stpipe - INFO - Writing out to disk: /Users/avapolzin/Desktop/psf_testoutputs/acs/150d07m02.697s+2d08m40.507s_F475W_psf_drz.fits\n"
     ]
    },
    {
     "name": "stdout",
     "output_type": "stream",
     "text": [
      "Writing out to disk: /Users/avapolzin/Desktop/psf_testoutputs/acs/150d07m02.697s+2d08m40.507s_F475W_psf_drz.fits\n"
     ]
    },
    {
     "name": "stderr",
     "output_type": "stream",
     "text": [
      "2025-05-09 09:59:06,029 - stpipe - WARNING - /Users/avapolzin/opt/anaconda3/envs/spike/lib/python3.10/site-packages/astropy/io/fits/card.py:1036: VerifyWarning: Card is too long, comment will be truncated.\n",
      "\n",
      "2025-05-09 09:59:06,431 - stpipe - INFO - ==== Processing Step Final Drizzle finished at 09:59:06.431 (09/05/2025)\n"
     ]
    },
    {
     "name": "stdout",
     "output_type": "stream",
     "text": [
      "==== Processing Step Final Drizzle finished at 09:59:06.431 (09/05/2025)\n"
     ]
    },
    {
     "name": "stderr",
     "output_type": "stream",
     "text": [
      "2025-05-09 09:59:06,433 - stpipe - INFO - \n"
     ]
    },
    {
     "name": "stdout",
     "output_type": "stream",
     "text": [
      "\n"
     ]
    },
    {
     "name": "stderr",
     "output_type": "stream",
     "text": [
      "2025-05-09 09:59:06,434 - stpipe - INFO - AstroDrizzle Version 3.7.1rc1.dev56+g7951b66 is finished processing at 09:59:06.433 (09/05/2025).\n"
     ]
    },
    {
     "name": "stdout",
     "output_type": "stream",
     "text": [
      "AstroDrizzle Version 3.7.1rc1.dev56+g7951b66 is finished processing at 09:59:06.433 (09/05/2025).\n"
     ]
    },
    {
     "name": "stderr",
     "output_type": "stream",
     "text": [
      "2025-05-09 09:59:06,435 - stpipe - INFO - \n"
     ]
    },
    {
     "name": "stdout",
     "output_type": "stream",
     "text": [
      "\n"
     ]
    },
    {
     "name": "stderr",
     "output_type": "stream",
     "text": [
      "2025-05-09 09:59:06,436 - stpipe - INFO - \n"
     ]
    },
    {
     "name": "stdout",
     "output_type": "stream",
     "text": [
      "\n"
     ]
    },
    {
     "name": "stderr",
     "output_type": "stream",
     "text": [
      "2025-05-09 09:59:06,439 - stpipe - INFO - \n"
     ]
    },
    {
     "name": "stdout",
     "output_type": "stream",
     "text": [
      "\n"
     ]
    },
    {
     "name": "stderr",
     "output_type": "stream",
     "text": [
      "2025-05-09 09:59:06,440 - stpipe - INFO -    --------------------          --------------------\n"
     ]
    },
    {
     "name": "stdout",
     "output_type": "stream",
     "text": [
      "   --------------------          --------------------\n"
     ]
    },
    {
     "name": "stderr",
     "output_type": "stream",
     "text": [
      "2025-05-09 09:59:06,441 - stpipe - INFO -                    Step          Elapsed time\n"
     ]
    },
    {
     "name": "stdout",
     "output_type": "stream",
     "text": [
      "                   Step          Elapsed time\n"
     ]
    },
    {
     "name": "stderr",
     "output_type": "stream",
     "text": [
      "2025-05-09 09:59:06,443 - stpipe - INFO -    --------------------          --------------------\n"
     ]
    },
    {
     "name": "stdout",
     "output_type": "stream",
     "text": [
      "   --------------------          --------------------\n"
     ]
    },
    {
     "name": "stderr",
     "output_type": "stream",
     "text": [
      "2025-05-09 09:59:06,444 - stpipe - INFO - \n"
     ]
    },
    {
     "name": "stdout",
     "output_type": "stream",
     "text": [
      "\n"
     ]
    },
    {
     "name": "stderr",
     "output_type": "stream",
     "text": [
      "2025-05-09 09:59:06,445 - stpipe - INFO -          Initialization          0.9734 sec.\n"
     ]
    },
    {
     "name": "stdout",
     "output_type": "stream",
     "text": [
      "         Initialization          0.9734 sec.\n"
     ]
    },
    {
     "name": "stderr",
     "output_type": "stream",
     "text": [
      "2025-05-09 09:59:06,446 - stpipe - INFO -             Static Mask          0.0086 sec.\n"
     ]
    },
    {
     "name": "stdout",
     "output_type": "stream",
     "text": [
      "            Static Mask          0.0086 sec.\n"
     ]
    },
    {
     "name": "stderr",
     "output_type": "stream",
     "text": [
      "2025-05-09 09:59:06,447 - stpipe - INFO -            Subtract Sky          1.5687 sec.\n"
     ]
    },
    {
     "name": "stdout",
     "output_type": "stream",
     "text": [
      "           Subtract Sky          1.5687 sec.\n"
     ]
    },
    {
     "name": "stderr",
     "output_type": "stream",
     "text": [
      "2025-05-09 09:59:06,448 - stpipe - INFO -        Separate Drizzle          2.0309 sec.\n"
     ]
    },
    {
     "name": "stdout",
     "output_type": "stream",
     "text": [
      "       Separate Drizzle          2.0309 sec.\n"
     ]
    },
    {
     "name": "stderr",
     "output_type": "stream",
     "text": [
      "2025-05-09 09:59:06,450 - stpipe - INFO -           Create Median          1.7860 sec.\n"
     ]
    },
    {
     "name": "stdout",
     "output_type": "stream",
     "text": [
      "          Create Median          1.7860 sec.\n"
     ]
    },
    {
     "name": "stderr",
     "output_type": "stream",
     "text": [
      "2025-05-09 09:59:06,452 - stpipe - INFO -                    Blot          3.8103 sec.\n"
     ]
    },
    {
     "name": "stdout",
     "output_type": "stream",
     "text": [
      "                   Blot          3.8103 sec.\n"
     ]
    },
    {
     "name": "stderr",
     "output_type": "stream",
     "text": [
      "2025-05-09 09:59:06,456 - stpipe - INFO -                 Driz_CR          1.6275 sec.\n"
     ]
    },
    {
     "name": "stdout",
     "output_type": "stream",
     "text": [
      "                Driz_CR          1.6275 sec.\n"
     ]
    },
    {
     "name": "stderr",
     "output_type": "stream",
     "text": [
      "2025-05-09 09:59:06,484 - stpipe - INFO -           Final Drizzle          6.5242 sec.\n"
     ]
    },
    {
     "name": "stdout",
     "output_type": "stream",
     "text": [
      "          Final Drizzle          6.5242 sec.\n"
     ]
    },
    {
     "name": "stderr",
     "output_type": "stream",
     "text": [
      "2025-05-09 09:59:06,486 - stpipe - INFO -    ====================          ====================\n"
     ]
    },
    {
     "name": "stdout",
     "output_type": "stream",
     "text": [
      "   ====================          ====================\n"
     ]
    },
    {
     "name": "stderr",
     "output_type": "stream",
     "text": [
      "2025-05-09 09:59:06,487 - stpipe - INFO -                   Total          18.3297 sec.\n"
     ]
    },
    {
     "name": "stdout",
     "output_type": "stream",
     "text": [
      "                  Total          18.3297 sec.\n"
     ]
    },
    {
     "name": "stderr",
     "output_type": "stream",
     "text": [
      "2025-05-09 09:59:06,492 - stpipe - INFO - \n"
     ]
    },
    {
     "name": "stdout",
     "output_type": "stream",
     "text": [
      "\n"
     ]
    },
    {
     "name": "stderr",
     "output_type": "stream",
     "text": [
      "2025-05-09 09:59:06,504 - stpipe - INFO - Trailer file written to:  astrodrizzle.log\n"
     ]
    },
    {
     "name": "stdout",
     "output_type": "stream",
     "text": [
      "Trailer file written to:  astrodrizzle.log\n"
     ]
    },
    {
     "name": "stderr",
     "output_type": "stream",
     "text": [
      "mv: rename /Users/avapolzin/Desktop/psf_testoutputs/acs/150d07m02.697s+2d08m40.507s_F475W_psf_drz.fits to /Users/avapolzin/Desktop/psf_testoutputs/acs//Users/avapolzin/Desktop/psf_testoutputs/acs/150d07m02.697s+2d08m40.507s_psf_drz.fits: No such file or directory\n",
      "mv: rename /Users/avapolzin/Desktop/psf_testoutputs/acs/150d08m15.267s+2d09m52.304s_F475W_psf_drz.fits to /Users/avapolzin/Desktop/psf_testoutputs/acs//Users/avapolzin/Desktop/psf_testoutputs/acs/150d08m15.267s+2d09m52.304s_psf_drz.fits: No such file or directory\n",
      "mv: rename /Users/avapolzin/Desktop/psf_testoutputs/acs/*.psf to psfs/*.psf: No such file or directory\n",
      "mv: rename /Users/avapolzin/Desktop/psf_testoutputs/acs/*.cat to psfs/*.cat: No such file or directory\n",
      "mv: rename /Users/avapolzin/Desktop/psf_testoutputs/acs/*_mask.fits to psfs/*_mask.fits: No such file or directory\n"
     ]
    }
   ],
   "source": [
    "obj = ['10:00:33.0178 +02:09:52.304', '10:00:28.1798 +02:08:40.507']\n",
    "\n",
    "dpsf = hst(img_dir = datapath, obj = obj, img_type = 'flc', inst = 'ACS', camera = 'WFC', savedir = outputpath, pretweaked = True)"
   ]
  },
  {
   "cell_type": "code",
   "execution_count": 9,
   "id": "1b4543e1-1228-493c-bb6e-8678cd6e59bc",
   "metadata": {},
   "outputs": [
    {
     "data": {
      "text/plain": [
       "{'10:00:33.0178 +02:09:52.304': {'F475W': array([[ 0.,  0.,  0., ..., nan, nan, nan],\n",
       "         [ 0.,  0.,  0., ..., nan, nan, nan],\n",
       "         [ 0.,  0.,  0., ..., nan, nan, nan],\n",
       "         ...,\n",
       "         [nan, nan, nan, ...,  0.,  0.,  0.],\n",
       "         [nan, nan, nan, ...,  0.,  0.,  0.],\n",
       "         [nan, nan, nan, ...,  0.,  0.,  0.]],\n",
       "        shape=(2359, 4162), dtype='>f4')},\n",
       " '10:00:28.1798 +02:08:40.507': {'F475W': array([[ 0.,  0.,  0., ..., nan, nan, nan],\n",
       "         [ 0.,  0.,  0., ..., nan, nan, nan],\n",
       "         [ 0.,  0.,  0., ..., nan, nan, nan],\n",
       "         ...,\n",
       "         [nan, nan, nan, ...,  0.,  0.,  0.],\n",
       "         [nan, nan, nan, ...,  0.,  0.,  0.],\n",
       "         [nan, nan, nan, ...,  0.,  0.,  0.]],\n",
       "        shape=(2359, 4162), dtype='>f4')}}"
      ]
     },
     "execution_count": 9,
     "metadata": {},
     "output_type": "execute_result"
    }
   ],
   "source": [
    "dpsf"
   ]
  },
  {
   "cell_type": "markdown",
   "id": "36ea0019-54c5-4ced-9544-cc10e20a36e6",
   "metadata": {},
   "source": [
    "One advantage of `spike` is that it can be used flexibly with a variety of different PSF generation methods -- to change which one is used, simply use the 'method' argument. Built-in options are:\n",
    "- 'TinyTim’\n",
    "- ‘TinyTim_Gillis’\n",
    "- ‘STDPSF’\n",
    "- ‘epsf’\n",
    "- ‘PSFEx’\n",
    "\n",
    "If `method = 'USER'`, then the keyword argument 'usermethod' must also be specified, pointing to either a function or a directory that houses model PSFs that follow the \\[imgprefix]\\_\\[coords]\\_\\[band]\\_topsf.fits, e.g., imgprefix_23.31+30.12_F814W_topsf.fits or imgprefix_195.78-46.52_F555W_topsf.fits naming scheme.\n",
    "\n",
    "We'll use STDPSFs below and have `spike` output cutouts around the drizzled PSF."
   ]
  },
  {
   "cell_type": "code",
   "execution_count": 11,
   "id": "f34f3665-39e6-490e-b111-baa637f9e7f5",
   "metadata": {},
   "outputs": [
    {
     "name": "stderr",
     "output_type": "stream",
     "text": [
      "2025-05-09 10:25:13,191 - stpipe - INFO - Setting up logfile :  astrodrizzle.log\n"
     ]
    },
    {
     "name": "stdout",
     "output_type": "stream",
     "text": [
      "Setting up logfile :  astrodrizzle.log\n"
     ]
    },
    {
     "name": "stderr",
     "output_type": "stream",
     "text": [
      "2025-05-09 10:25:13,192 - stpipe - INFO - AstroDrizzle log file: astrodrizzle.log\n"
     ]
    },
    {
     "name": "stdout",
     "output_type": "stream",
     "text": [
      "AstroDrizzle log file: astrodrizzle.log\n"
     ]
    },
    {
     "name": "stderr",
     "output_type": "stream",
     "text": [
      "2025-05-09 10:25:13,193 - stpipe - INFO - AstroDrizzle Version 3.7.1rc1.dev56+g7951b66 started at: 10:25:13.193 (09/05/2025)\n"
     ]
    },
    {
     "name": "stdout",
     "output_type": "stream",
     "text": [
      "AstroDrizzle Version 3.7.1rc1.dev56+g7951b66 started at: 10:25:13.193 (09/05/2025)\n"
     ]
    },
    {
     "name": "stderr",
     "output_type": "stream",
     "text": [
      "2025-05-09 10:25:13,195 - stpipe - INFO - \n"
     ]
    },
    {
     "name": "stdout",
     "output_type": "stream",
     "text": [
      "\n"
     ]
    },
    {
     "name": "stderr",
     "output_type": "stream",
     "text": [
      "2025-05-09 10:25:13,196 - stpipe - INFO - Version Information\n",
      "2025-05-09 10:25:13,196 - stpipe - INFO - --------------------\n",
      "2025-05-09 10:25:13,197 - stpipe - INFO - Python Version 3.10.16 (main, Dec 11 2024, 10:24:41) [Clang 14.0.6 ]\n",
      "2025-05-09 10:25:13,198 - stpipe - INFO - numpy Version -> 2.2.1 \n",
      "2025-05-09 10:25:13,199 - stpipe - INFO - astropy Version -> 6.1.7 \n",
      "2025-05-09 10:25:13,199 - stpipe - INFO - stwcs Version -> 1.7.3 \n",
      "2025-05-09 10:25:13,200 - stpipe - INFO - photutils Version -> 2.0.2 \n",
      "2025-05-09 10:25:13,201 - stpipe - INFO - ==== Processing Step  Initialization  started at  10:25:13.201 (09/05/2025)\n"
     ]
    },
    {
     "name": "stdout",
     "output_type": "stream",
     "text": [
      "==== Processing Step  Initialization  started at  10:25:13.201 (09/05/2025)\n"
     ]
    },
    {
     "name": "stderr",
     "output_type": "stream",
     "text": [
      "2025-05-09 10:25:13,202 - stpipe - INFO - \n"
     ]
    },
    {
     "name": "stdout",
     "output_type": "stream",
     "text": [
      "\n"
     ]
    },
    {
     "name": "stderr",
     "output_type": "stream",
     "text": [
      "2025-05-09 10:25:13,205 - stpipe - INFO - Preserving original of:  /Users/avapolzin/Desktop/psf_testoutputs/acs/j8pu42ecq_flc_150d08m15.267s+2d09m52.304s_F475W_topsf.fits as  OrIg_files/j8pu42ecq_flc_150d08m15.267s+2d09m52.304s_F475W_topsf.fits\n"
     ]
    },
    {
     "name": "stdout",
     "output_type": "stream",
     "text": [
      "Preserving original of:  /Users/avapolzin/Desktop/psf_testoutputs/acs/j8pu42ecq_flc_150d08m15.267s+2d09m52.304s_F475W_topsf.fits as  OrIg_files/j8pu42ecq_flc_150d08m15.267s+2d09m52.304s_F475W_topsf.fits\n"
     ]
    },
    {
     "name": "stderr",
     "output_type": "stream",
     "text": [
      "2025-05-09 10:25:13,239 - stpipe - INFO - Preserving original of:  /Users/avapolzin/Desktop/psf_testoutputs/acs/j8pu42egq_flc_150d08m15.267s+2d09m52.304s_F475W_topsf.fits as  OrIg_files/j8pu42egq_flc_150d08m15.267s+2d09m52.304s_F475W_topsf.fits\n"
     ]
    },
    {
     "name": "stdout",
     "output_type": "stream",
     "text": [
      "Preserving original of:  /Users/avapolzin/Desktop/psf_testoutputs/acs/j8pu42egq_flc_150d08m15.267s+2d09m52.304s_F475W_topsf.fits as  OrIg_files/j8pu42egq_flc_150d08m15.267s+2d09m52.304s_F475W_topsf.fits\n"
     ]
    },
    {
     "name": "stderr",
     "output_type": "stream",
     "text": [
      "2025-05-09 10:25:13,279 - stpipe - INFO - Preserving original of:  /Users/avapolzin/Desktop/psf_testoutputs/acs/j8pu42esq_flc_150d08m15.267s+2d09m52.304s_F475W_topsf.fits as  OrIg_files/j8pu42esq_flc_150d08m15.267s+2d09m52.304s_F475W_topsf.fits\n"
     ]
    },
    {
     "name": "stdout",
     "output_type": "stream",
     "text": [
      "Preserving original of:  /Users/avapolzin/Desktop/psf_testoutputs/acs/j8pu42esq_flc_150d08m15.267s+2d09m52.304s_F475W_topsf.fits as  OrIg_files/j8pu42esq_flc_150d08m15.267s+2d09m52.304s_F475W_topsf.fits\n"
     ]
    },
    {
     "name": "stderr",
     "output_type": "stream",
     "text": [
      "2025-05-09 10:25:13,340 - stpipe - INFO - Preserving original of:  /Users/avapolzin/Desktop/psf_testoutputs/acs/j8pu42evq_flc_150d08m15.267s+2d09m52.304s_F475W_topsf.fits as  OrIg_files/j8pu42evq_flc_150d08m15.267s+2d09m52.304s_F475W_topsf.fits\n"
     ]
    },
    {
     "name": "stdout",
     "output_type": "stream",
     "text": [
      "Preserving original of:  /Users/avapolzin/Desktop/psf_testoutputs/acs/j8pu42evq_flc_150d08m15.267s+2d09m52.304s_F475W_topsf.fits as  OrIg_files/j8pu42evq_flc_150d08m15.267s+2d09m52.304s_F475W_topsf.fits\n"
     ]
    },
    {
     "name": "stderr",
     "output_type": "stream",
     "text": [
      "2025-05-09 10:25:13,436 - stpipe - INFO - Executing serially\n",
      "2025-05-09 10:25:13,486 - stpipe - INFO - Setting up output name: /Users/avapolzin/Desktop/psf_testoutputs/acs/150d08m15.267s+2d09m52.304s_F475W_psf_drz.fits\n",
      "2025-05-09 10:25:13,488 - stpipe - INFO - -Creating imageObject List as input for processing steps.\n",
      "2025-05-09 10:25:13,591 - stpipe - INFO - Reading in MDRIZSKY of 69.92457580566406\n",
      "2025-05-09 10:25:13,817 - stpipe - INFO - Reading in MDRIZSKY of 75.761962890625\n",
      "2025-05-09 10:25:13,887 - stpipe - INFO - Reading in MDRIZSKY of 68.4947509765625\n",
      "2025-05-09 10:25:13,955 - stpipe - INFO - Reading in MDRIZSKY of 68.80198669433594\n",
      "2025-05-09 10:25:13,975 - stpipe - INFO - Reset bit values of 4096 to a value of 0 in /Users/avapolzin/Desktop/psf_testoutputs/acs/j8pu42ecq_flc_150d08m15.267s+2d09m52.304s_F475W_topsf.fits[DQ,1]\n",
      "2025-05-09 10:25:13,997 - stpipe - INFO - Reset bit values of 4096 to a value of 0 in /Users/avapolzin/Desktop/psf_testoutputs/acs/j8pu42egq_flc_150d08m15.267s+2d09m52.304s_F475W_topsf.fits[DQ,1]\n",
      "2025-05-09 10:25:14,020 - stpipe - INFO - Reset bit values of 4096 to a value of 0 in /Users/avapolzin/Desktop/psf_testoutputs/acs/j8pu42esq_flc_150d08m15.267s+2d09m52.304s_F475W_topsf.fits[DQ,1]\n",
      "2025-05-09 10:25:14,042 - stpipe - INFO - Reset bit values of 4096 to a value of 0 in /Users/avapolzin/Desktop/psf_testoutputs/acs/j8pu42evq_flc_150d08m15.267s+2d09m52.304s_F475W_topsf.fits[DQ,1]\n",
      "2025-05-09 10:25:14,055 - stpipe - INFO - -Creating output WCS.\n",
      "2025-05-09 10:25:14,058 - stpipe - INFO - WCS Keywords\n"
     ]
    },
    {
     "name": "stdout",
     "output_type": "stream",
     "text": [
      "WCS Keywords\n"
     ]
    },
    {
     "name": "stderr",
     "output_type": "stream",
     "text": [
      "2025-05-09 10:25:14,060 - stpipe - INFO - \n"
     ]
    },
    {
     "name": "stdout",
     "output_type": "stream",
     "text": [
      "\n"
     ]
    },
    {
     "name": "stderr",
     "output_type": "stream",
     "text": [
      "2025-05-09 10:25:14,061 - stpipe - INFO - Number of WCS axes: 2\n"
     ]
    },
    {
     "name": "stdout",
     "output_type": "stream",
     "text": [
      "Number of WCS axes: 2\n"
     ]
    },
    {
     "name": "stderr",
     "output_type": "stream",
     "text": [
      "2025-05-09 10:25:14,063 - stpipe - INFO - CTYPE : 'RA---TAN' 'DEC--TAN' \n"
     ]
    },
    {
     "name": "stdout",
     "output_type": "stream",
     "text": [
      "CTYPE : 'RA---TAN' 'DEC--TAN' \n"
     ]
    },
    {
     "name": "stderr",
     "output_type": "stream",
     "text": [
      "2025-05-09 10:25:14,065 - stpipe - INFO - CRVAL : np.float64(150.1242636198465) np.float64(2.151761555110333) \n"
     ]
    },
    {
     "name": "stdout",
     "output_type": "stream",
     "text": [
      "CRVAL : np.float64(150.1242636198465) np.float64(2.151761555110333) \n"
     ]
    },
    {
     "name": "stderr",
     "output_type": "stream",
     "text": [
      "2025-05-09 10:25:14,066 - stpipe - INFO - CRPIX : np.float64(2081.0) np.float64(1179.5) \n"
     ]
    },
    {
     "name": "stdout",
     "output_type": "stream",
     "text": [
      "CRPIX : np.float64(2081.0) np.float64(1179.5) \n"
     ]
    },
    {
     "name": "stderr",
     "output_type": "stream",
     "text": [
      "2025-05-09 10:25:14,068 - stpipe - INFO - CD1_1 CD1_2  : np.float64(-2.4118726301966414e-06) np.float64(-1.3677869168244357e-05) \n"
     ]
    },
    {
     "name": "stdout",
     "output_type": "stream",
     "text": [
      "CD1_1 CD1_2  : np.float64(-2.4118726301966414e-06) np.float64(-1.3677869168244357e-05) \n"
     ]
    },
    {
     "name": "stderr",
     "output_type": "stream",
     "text": [
      "2025-05-09 10:25:14,070 - stpipe - INFO - CD2_1 CD2_2  : np.float64(-1.3677869168244357e-05) np.float64(2.4118726301966414e-06) \n"
     ]
    },
    {
     "name": "stdout",
     "output_type": "stream",
     "text": [
      "CD2_1 CD2_2  : np.float64(-1.3677869168244357e-05) np.float64(2.4118726301966414e-06) \n"
     ]
    },
    {
     "name": "stderr",
     "output_type": "stream",
     "text": [
      "2025-05-09 10:25:14,071 - stpipe - INFO - NAXIS : 4162  2359\n"
     ]
    },
    {
     "name": "stdout",
     "output_type": "stream",
     "text": [
      "NAXIS : 4162  2359\n"
     ]
    },
    {
     "name": "stderr",
     "output_type": "stream",
     "text": [
      "2025-05-09 10:25:14,073 - stpipe - INFO - ********************************************************************************\n"
     ]
    },
    {
     "name": "stdout",
     "output_type": "stream",
     "text": [
      "********************************************************************************\n"
     ]
    },
    {
     "name": "stderr",
     "output_type": "stream",
     "text": [
      "2025-05-09 10:25:14,074 - stpipe - INFO - *\n"
     ]
    },
    {
     "name": "stdout",
     "output_type": "stream",
     "text": [
      "*\n"
     ]
    },
    {
     "name": "stderr",
     "output_type": "stream",
     "text": [
      "2025-05-09 10:25:14,076 - stpipe - INFO - *  Estimated memory usage:  up to 705 Mb.\n"
     ]
    },
    {
     "name": "stdout",
     "output_type": "stream",
     "text": [
      "*  Estimated memory usage:  up to 705 Mb.\n"
     ]
    },
    {
     "name": "stderr",
     "output_type": "stream",
     "text": [
      "2025-05-09 10:25:14,077 - stpipe - INFO - *  Output image size:       4162 X 2359 pixels. \n"
     ]
    },
    {
     "name": "stdout",
     "output_type": "stream",
     "text": [
      "*  Output image size:       4162 X 2359 pixels. \n"
     ]
    },
    {
     "name": "stderr",
     "output_type": "stream",
     "text": [
      "2025-05-09 10:25:14,079 - stpipe - INFO - *  Output image file:       ~ 112 Mb. \n"
     ]
    },
    {
     "name": "stdout",
     "output_type": "stream",
     "text": [
      "*  Output image file:       ~ 112 Mb. \n"
     ]
    },
    {
     "name": "stderr",
     "output_type": "stream",
     "text": [
      "2025-05-09 10:25:14,080 - stpipe - INFO - *  Cores available:         4\n"
     ]
    },
    {
     "name": "stdout",
     "output_type": "stream",
     "text": [
      "*  Cores available:         4\n"
     ]
    },
    {
     "name": "stderr",
     "output_type": "stream",
     "text": [
      "2025-05-09 10:25:14,083 - stpipe - INFO - *\n"
     ]
    },
    {
     "name": "stdout",
     "output_type": "stream",
     "text": [
      "*\n"
     ]
    },
    {
     "name": "stderr",
     "output_type": "stream",
     "text": [
      "2025-05-09 10:25:14,084 - stpipe - INFO - ********************************************************************************\n"
     ]
    },
    {
     "name": "stdout",
     "output_type": "stream",
     "text": [
      "********************************************************************************\n"
     ]
    },
    {
     "name": "stderr",
     "output_type": "stream",
     "text": [
      "2025-05-09 10:25:14,087 - stpipe - INFO - ==== Processing Step Initialization finished at 10:25:14.086 (09/05/2025)\n"
     ]
    },
    {
     "name": "stdout",
     "output_type": "stream",
     "text": [
      "==== Processing Step Initialization finished at 10:25:14.086 (09/05/2025)\n"
     ]
    },
    {
     "name": "stderr",
     "output_type": "stream",
     "text": [
      "2025-05-09 10:25:14,088 - stpipe - INFO - USER INPUT PARAMETERS common to all Processing Steps:\n",
      "2025-05-09 10:25:14,088 - stpipe - INFO - \tbuild :\tTrue\n",
      "2025-05-09 10:25:14,089 - stpipe - INFO - \tcoeffs :\tTrue\n",
      "2025-05-09 10:25:14,089 - stpipe - INFO - \tcontext :\tTrue\n",
      "2025-05-09 10:25:14,090 - stpipe - INFO - \tcrbit :\t4096\n",
      "2025-05-09 10:25:14,091 - stpipe - INFO - \tgroup :\t\n",
      "2025-05-09 10:25:14,092 - stpipe - INFO - \tin_memory :\tFalse\n",
      "2025-05-09 10:25:14,092 - stpipe - INFO - \tinput :\t['/Users/avapolzin/Desktop/psf_testoutputs/acs/j8pu42ecq_flc_150d08m15.267s+2d09m52.304s_F475W_topsf.fits', '/Users/avapolzin/Desktop/psf_testoutputs/acs/j8pu42egq_flc_150d08m15.267s+2d09m52.304s_F475W_topsf.fits', '/Users/avapolzin/Desktop/psf_testoutputs/acs/j8pu42esq_flc_150d08m15.267s+2d09m52.304s_F475W_topsf.fits', '/Users/avapolzin/Desktop/psf_testoutputs/acs/j8pu42evq_flc_150d08m15.267s+2d09m52.304s_F475W_topsf.fits']\n",
      "2025-05-09 10:25:14,093 - stpipe - INFO - \tmdriztab :\tFalse\n",
      "2025-05-09 10:25:14,095 - stpipe - INFO - \tnum_cores :\tNone\n",
      "2025-05-09 10:25:14,096 - stpipe - INFO - \toutput :\t/Users/avapolzin/Desktop/psf_testoutputs/acs/150d08m15.267s+2d09m52.304s_F475W_psf\n",
      "2025-05-09 10:25:14,096 - stpipe - INFO - \tproc_unit :\tnative\n",
      "2025-05-09 10:25:14,097 - stpipe - INFO - \tresetbits :\t4096\n",
      "2025-05-09 10:25:14,098 - stpipe - INFO - \trules_file :\t\n",
      "2025-05-09 10:25:14,098 - stpipe - INFO - \trunfile :\tastrodrizzle.log\n",
      "2025-05-09 10:25:14,099 - stpipe - INFO - \tstepsize :\t10\n",
      "2025-05-09 10:25:14,100 - stpipe - INFO - \tupdatewcs :\tFalse\n",
      "2025-05-09 10:25:14,101 - stpipe - INFO - \twcskey :\t\n",
      "2025-05-09 10:25:14,101 - stpipe - INFO - ==== Processing Step  Static Mask  started at  10:25:14.10 (09/05/2025)\n"
     ]
    },
    {
     "name": "stdout",
     "output_type": "stream",
     "text": [
      "==== Processing Step  Static Mask  started at  10:25:14.10 (09/05/2025)\n"
     ]
    },
    {
     "name": "stderr",
     "output_type": "stream",
     "text": [
      "2025-05-09 10:25:14,134 - stpipe - INFO - \n"
     ]
    },
    {
     "name": "stdout",
     "output_type": "stream",
     "text": [
      "\n"
     ]
    },
    {
     "name": "stderr",
     "output_type": "stream",
     "text": [
      "2025-05-09 10:25:14,136 - stpipe - INFO - Static Mask step not performed.\n",
      "2025-05-09 10:25:14,137 - stpipe - INFO - ==== Processing Step Static Mask finished at 10:25:14.1 (09/05/2025)\n"
     ]
    },
    {
     "name": "stdout",
     "output_type": "stream",
     "text": [
      "==== Processing Step Static Mask finished at 10:25:14.1 (09/05/2025)\n"
     ]
    },
    {
     "name": "stderr",
     "output_type": "stream",
     "text": [
      "2025-05-09 10:25:14,140 - stpipe - INFO - ==== Processing Step  Subtract Sky  started at  10:25:14.140 (09/05/2025)\n"
     ]
    },
    {
     "name": "stdout",
     "output_type": "stream",
     "text": [
      "==== Processing Step  Subtract Sky  started at  10:25:14.140 (09/05/2025)\n"
     ]
    },
    {
     "name": "stderr",
     "output_type": "stream",
     "text": [
      "2025-05-09 10:25:14,147 - stpipe - INFO - \n"
     ]
    },
    {
     "name": "stdout",
     "output_type": "stream",
     "text": [
      "\n"
     ]
    },
    {
     "name": "stderr",
     "output_type": "stream",
     "text": [
      "2025-05-09 10:25:14,149 - stpipe - INFO - USER INPUT PARAMETERS for Sky Subtraction Step:\n",
      "2025-05-09 10:25:14,149 - stpipe - INFO - \tsky_bits :\t0\n",
      "2025-05-09 10:25:14,151 - stpipe - INFO - \tskyclip :\t5\n",
      "2025-05-09 10:25:14,151 - stpipe - INFO - \tskyfile :\t\n",
      "2025-05-09 10:25:14,152 - stpipe - INFO - \tskylower :\tNone\n",
      "2025-05-09 10:25:14,152 - stpipe - INFO - \tskylsigma :\t4.0\n",
      "2025-05-09 10:25:14,153 - stpipe - INFO - \tskymask_cat :\t\n",
      "2025-05-09 10:25:14,154 - stpipe - INFO - \tskymethod :\tlocalmin\n",
      "2025-05-09 10:25:14,154 - stpipe - INFO - \tskystat :\tmedian\n",
      "2025-05-09 10:25:14,155 - stpipe - INFO - \tskysub :\tTrue\n",
      "2025-05-09 10:25:14,155 - stpipe - INFO - \tskyupper :\tNone\n",
      "2025-05-09 10:25:14,156 - stpipe - INFO - \tskyuser :\t\n",
      "2025-05-09 10:25:14,156 - stpipe - INFO - \tskyusigma :\t4.0\n",
      "2025-05-09 10:25:14,157 - stpipe - INFO - \tskywidth :\t0.1\n",
      "2025-05-09 10:25:14,158 - stpipe - INFO - \tuse_static :\tTrue\n",
      "2025-05-09 10:25:14,181 - stpipe - WARNING - Static mask for file '/Users/avapolzin/Desktop/psf_testoutputs/acs/j8pu42ecq_flc_150d08m15.267s+2d09m52.304s_F475W_topsf.fits', ext=('SCI', 1) NOT FOUND.\n",
      "2025-05-09 10:25:14,206 - stpipe - WARNING - Static mask for file '/Users/avapolzin/Desktop/psf_testoutputs/acs/j8pu42egq_flc_150d08m15.267s+2d09m52.304s_F475W_topsf.fits', ext=('SCI', 1) NOT FOUND.\n",
      "2025-05-09 10:25:14,234 - stpipe - WARNING - Static mask for file '/Users/avapolzin/Desktop/psf_testoutputs/acs/j8pu42esq_flc_150d08m15.267s+2d09m52.304s_F475W_topsf.fits', ext=('SCI', 1) NOT FOUND.\n",
      "2025-05-09 10:25:14,267 - stpipe - WARNING - Static mask for file '/Users/avapolzin/Desktop/psf_testoutputs/acs/j8pu42evq_flc_150d08m15.267s+2d09m52.304s_F475W_topsf.fits', ext=('SCI', 1) NOT FOUND.\n",
      "2025-05-09 10:25:14,277 - stpipe - INFO - ***** skymatch started on 2025-05-09 10:25:14.277016\n"
     ]
    },
    {
     "name": "stdout",
     "output_type": "stream",
     "text": [
      "***** skymatch started on 2025-05-09 10:25:14.277016\n"
     ]
    },
    {
     "name": "stderr",
     "output_type": "stream",
     "text": [
      "2025-05-09 10:25:14,278 - stpipe - INFO -       Version 1.0.10\n"
     ]
    },
    {
     "name": "stdout",
     "output_type": "stream",
     "text": [
      "      Version 1.0.10\n"
     ]
    },
    {
     "name": "stderr",
     "output_type": "stream",
     "text": [
      "2025-05-09 10:25:14,280 - stpipe - INFO - \n"
     ]
    },
    {
     "name": "stdout",
     "output_type": "stream",
     "text": [
      "\n"
     ]
    },
    {
     "name": "stderr",
     "output_type": "stream",
     "text": [
      "2025-05-09 10:25:14,282 - stpipe - INFO - 'skymatch' task will apply computed sky differences to input image file(s).\n"
     ]
    },
    {
     "name": "stdout",
     "output_type": "stream",
     "text": [
      "'skymatch' task will apply computed sky differences to input image file(s).\n"
     ]
    },
    {
     "name": "stderr",
     "output_type": "stream",
     "text": [
      "2025-05-09 10:25:14,284 - stpipe - INFO - \n"
     ]
    },
    {
     "name": "stdout",
     "output_type": "stream",
     "text": [
      "\n"
     ]
    },
    {
     "name": "stderr",
     "output_type": "stream",
     "text": [
      "2025-05-09 10:25:14,285 - stpipe - INFO - NOTE: Computed sky values WILL NOT be subtracted from image data ('subtractsky'=False).\n"
     ]
    },
    {
     "name": "stdout",
     "output_type": "stream",
     "text": [
      "NOTE: Computed sky values WILL NOT be subtracted from image data ('subtractsky'=False).\n"
     ]
    },
    {
     "name": "stderr",
     "output_type": "stream",
     "text": [
      "2025-05-09 10:25:14,286 - stpipe - INFO - 'MDRIZSKY' header keyword will represent sky value *computed* from data.\n"
     ]
    },
    {
     "name": "stdout",
     "output_type": "stream",
     "text": [
      "'MDRIZSKY' header keyword will represent sky value *computed* from data.\n"
     ]
    },
    {
     "name": "stderr",
     "output_type": "stream",
     "text": [
      "2025-05-09 10:25:14,288 - stpipe - INFO - \n"
     ]
    },
    {
     "name": "stdout",
     "output_type": "stream",
     "text": [
      "\n"
     ]
    },
    {
     "name": "stderr",
     "output_type": "stream",
     "text": [
      "2025-05-09 10:25:14,289 - stpipe - INFO - -----  User specified keywords:  -----\n"
     ]
    },
    {
     "name": "stdout",
     "output_type": "stream",
     "text": [
      "-----  User specified keywords:  -----\n"
     ]
    },
    {
     "name": "stderr",
     "output_type": "stream",
     "text": [
      "2025-05-09 10:25:14,290 - stpipe - INFO -        Sky Value Keyword:  'MDRIZSKY'\n"
     ]
    },
    {
     "name": "stdout",
     "output_type": "stream",
     "text": [
      "       Sky Value Keyword:  'MDRIZSKY'\n"
     ]
    },
    {
     "name": "stderr",
     "output_type": "stream",
     "text": [
      "2025-05-09 10:25:14,292 - stpipe - INFO -        Data Units Keyword: 'BUNIT'\n"
     ]
    },
    {
     "name": "stdout",
     "output_type": "stream",
     "text": [
      "       Data Units Keyword: 'BUNIT'\n"
     ]
    },
    {
     "name": "stderr",
     "output_type": "stream",
     "text": [
      "2025-05-09 10:25:14,293 - stpipe - INFO - \n"
     ]
    },
    {
     "name": "stdout",
     "output_type": "stream",
     "text": [
      "\n"
     ]
    },
    {
     "name": "stderr",
     "output_type": "stream",
     "text": [
      "2025-05-09 10:25:14,295 - stpipe - INFO - \n"
     ]
    },
    {
     "name": "stdout",
     "output_type": "stream",
     "text": [
      "\n"
     ]
    },
    {
     "name": "stderr",
     "output_type": "stream",
     "text": [
      "2025-05-09 10:25:14,297 - stpipe - INFO - -----  Input file list:  -----\n"
     ]
    },
    {
     "name": "stdout",
     "output_type": "stream",
     "text": [
      "-----  Input file list:  -----\n"
     ]
    },
    {
     "name": "stderr",
     "output_type": "stream",
     "text": [
      "2025-05-09 10:25:14,333 - stpipe - INFO - \n"
     ]
    },
    {
     "name": "stdout",
     "output_type": "stream",
     "text": [
      "\n"
     ]
    },
    {
     "name": "stderr",
     "output_type": "stream",
     "text": [
      "2025-05-09 10:25:14,335 - stpipe - INFO -    **  Input image: 'j8pu42ecq_flc_150d08m15.267s+2d09m52.304s_F475W_topsf.fits'\n"
     ]
    },
    {
     "name": "stdout",
     "output_type": "stream",
     "text": [
      "   **  Input image: 'j8pu42ecq_flc_150d08m15.267s+2d09m52.304s_F475W_topsf.fits'\n"
     ]
    },
    {
     "name": "stderr",
     "output_type": "stream",
     "text": [
      "2025-05-09 10:25:14,337 - stpipe - INFO -        EXT: 'SCI',1;\tMASK: j8pu42ecq_flc_150d08m15.267s+2d09m52.304s_F475W_skymatch_mask_sci1.fits[0]\n"
     ]
    },
    {
     "name": "stdout",
     "output_type": "stream",
     "text": [
      "       EXT: 'SCI',1;\tMASK: j8pu42ecq_flc_150d08m15.267s+2d09m52.304s_F475W_skymatch_mask_sci1.fits[0]\n"
     ]
    },
    {
     "name": "stderr",
     "output_type": "stream",
     "text": [
      "2025-05-09 10:25:14,345 - stpipe - INFO - \n"
     ]
    },
    {
     "name": "stdout",
     "output_type": "stream",
     "text": [
      "\n"
     ]
    },
    {
     "name": "stderr",
     "output_type": "stream",
     "text": [
      "2025-05-09 10:25:14,348 - stpipe - INFO -    **  Input image: 'j8pu42egq_flc_150d08m15.267s+2d09m52.304s_F475W_topsf.fits'\n"
     ]
    },
    {
     "name": "stdout",
     "output_type": "stream",
     "text": [
      "   **  Input image: 'j8pu42egq_flc_150d08m15.267s+2d09m52.304s_F475W_topsf.fits'\n"
     ]
    },
    {
     "name": "stderr",
     "output_type": "stream",
     "text": [
      "2025-05-09 10:25:14,350 - stpipe - INFO -        EXT: 'SCI',1;\tMASK: j8pu42egq_flc_150d08m15.267s+2d09m52.304s_F475W_skymatch_mask_sci1.fits[0]\n"
     ]
    },
    {
     "name": "stdout",
     "output_type": "stream",
     "text": [
      "       EXT: 'SCI',1;\tMASK: j8pu42egq_flc_150d08m15.267s+2d09m52.304s_F475W_skymatch_mask_sci1.fits[0]\n"
     ]
    },
    {
     "name": "stderr",
     "output_type": "stream",
     "text": [
      "2025-05-09 10:25:14,351 - stpipe - INFO - \n"
     ]
    },
    {
     "name": "stdout",
     "output_type": "stream",
     "text": [
      "\n"
     ]
    },
    {
     "name": "stderr",
     "output_type": "stream",
     "text": [
      "2025-05-09 10:25:14,352 - stpipe - INFO -    **  Input image: 'j8pu42esq_flc_150d08m15.267s+2d09m52.304s_F475W_topsf.fits'\n"
     ]
    },
    {
     "name": "stdout",
     "output_type": "stream",
     "text": [
      "   **  Input image: 'j8pu42esq_flc_150d08m15.267s+2d09m52.304s_F475W_topsf.fits'\n"
     ]
    },
    {
     "name": "stderr",
     "output_type": "stream",
     "text": [
      "2025-05-09 10:25:14,354 - stpipe - INFO -        EXT: 'SCI',1;\tMASK: j8pu42esq_flc_150d08m15.267s+2d09m52.304s_F475W_skymatch_mask_sci1.fits[0]\n"
     ]
    },
    {
     "name": "stdout",
     "output_type": "stream",
     "text": [
      "       EXT: 'SCI',1;\tMASK: j8pu42esq_flc_150d08m15.267s+2d09m52.304s_F475W_skymatch_mask_sci1.fits[0]\n"
     ]
    },
    {
     "name": "stderr",
     "output_type": "stream",
     "text": [
      "2025-05-09 10:25:14,356 - stpipe - INFO - \n"
     ]
    },
    {
     "name": "stdout",
     "output_type": "stream",
     "text": [
      "\n"
     ]
    },
    {
     "name": "stderr",
     "output_type": "stream",
     "text": [
      "2025-05-09 10:25:14,358 - stpipe - INFO -    **  Input image: 'j8pu42evq_flc_150d08m15.267s+2d09m52.304s_F475W_topsf.fits'\n"
     ]
    },
    {
     "name": "stdout",
     "output_type": "stream",
     "text": [
      "   **  Input image: 'j8pu42evq_flc_150d08m15.267s+2d09m52.304s_F475W_topsf.fits'\n"
     ]
    },
    {
     "name": "stderr",
     "output_type": "stream",
     "text": [
      "2025-05-09 10:25:14,359 - stpipe - INFO -        EXT: 'SCI',1;\tMASK: j8pu42evq_flc_150d08m15.267s+2d09m52.304s_F475W_skymatch_mask_sci1.fits[0]\n"
     ]
    },
    {
     "name": "stdout",
     "output_type": "stream",
     "text": [
      "       EXT: 'SCI',1;\tMASK: j8pu42evq_flc_150d08m15.267s+2d09m52.304s_F475W_skymatch_mask_sci1.fits[0]\n"
     ]
    },
    {
     "name": "stderr",
     "output_type": "stream",
     "text": [
      "2025-05-09 10:25:14,361 - stpipe - INFO - \n"
     ]
    },
    {
     "name": "stdout",
     "output_type": "stream",
     "text": [
      "\n"
     ]
    },
    {
     "name": "stderr",
     "output_type": "stream",
     "text": [
      "2025-05-09 10:25:14,362 - stpipe - INFO - -----  Sky statistics parameters:  -----\n"
     ]
    },
    {
     "name": "stdout",
     "output_type": "stream",
     "text": [
      "-----  Sky statistics parameters:  -----\n"
     ]
    },
    {
     "name": "stderr",
     "output_type": "stream",
     "text": [
      "2025-05-09 10:25:14,363 - stpipe - INFO -        statistics function: 'median'\n"
     ]
    },
    {
     "name": "stdout",
     "output_type": "stream",
     "text": [
      "       statistics function: 'median'\n"
     ]
    },
    {
     "name": "stderr",
     "output_type": "stream",
     "text": [
      "2025-05-09 10:25:14,366 - stpipe - INFO -        lower = None\n"
     ]
    },
    {
     "name": "stdout",
     "output_type": "stream",
     "text": [
      "       lower = None\n"
     ]
    },
    {
     "name": "stderr",
     "output_type": "stream",
     "text": [
      "2025-05-09 10:25:14,367 - stpipe - INFO -        upper = None\n"
     ]
    },
    {
     "name": "stdout",
     "output_type": "stream",
     "text": [
      "       upper = None\n"
     ]
    },
    {
     "name": "stderr",
     "output_type": "stream",
     "text": [
      "2025-05-09 10:25:14,369 - stpipe - INFO -        nclip = 5\n"
     ]
    },
    {
     "name": "stdout",
     "output_type": "stream",
     "text": [
      "       nclip = 5\n"
     ]
    },
    {
     "name": "stderr",
     "output_type": "stream",
     "text": [
      "2025-05-09 10:25:14,370 - stpipe - INFO -        lsigma = 4.0\n"
     ]
    },
    {
     "name": "stdout",
     "output_type": "stream",
     "text": [
      "       lsigma = 4.0\n"
     ]
    },
    {
     "name": "stderr",
     "output_type": "stream",
     "text": [
      "2025-05-09 10:25:14,372 - stpipe - INFO -        usigma = 4.0\n"
     ]
    },
    {
     "name": "stdout",
     "output_type": "stream",
     "text": [
      "       usigma = 4.0\n"
     ]
    },
    {
     "name": "stderr",
     "output_type": "stream",
     "text": [
      "2025-05-09 10:25:14,374 - stpipe - INFO -        binwidth = 0.1\n"
     ]
    },
    {
     "name": "stdout",
     "output_type": "stream",
     "text": [
      "       binwidth = 0.1\n"
     ]
    },
    {
     "name": "stderr",
     "output_type": "stream",
     "text": [
      "2025-05-09 10:25:14,376 - stpipe - INFO - \n"
     ]
    },
    {
     "name": "stdout",
     "output_type": "stream",
     "text": [
      "\n"
     ]
    },
    {
     "name": "stderr",
     "output_type": "stream",
     "text": [
      "2025-05-09 10:25:14,377 - stpipe - INFO - -----  Data->Brightness conversion parameters for input files:  -----\n"
     ]
    },
    {
     "name": "stdout",
     "output_type": "stream",
     "text": [
      "-----  Data->Brightness conversion parameters for input files:  -----\n"
     ]
    },
    {
     "name": "stderr",
     "output_type": "stream",
     "text": [
      "2025-05-09 10:25:14,379 - stpipe - INFO - \n"
     ]
    },
    {
     "name": "stdout",
     "output_type": "stream",
     "text": [
      "\n"
     ]
    },
    {
     "name": "stderr",
     "output_type": "stream",
     "text": [
      "2025-05-09 10:25:14,380 - stpipe - INFO -    *   Image: j8pu42ecq_flc_150d08m15.267s+2d09m52.304s_F475W_topsf.fits\n"
     ]
    },
    {
     "name": "stdout",
     "output_type": "stream",
     "text": [
      "   *   Image: j8pu42ecq_flc_150d08m15.267s+2d09m52.304s_F475W_topsf.fits\n"
     ]
    },
    {
     "name": "stderr",
     "output_type": "stream",
     "text": [
      "2025-05-09 10:25:14,440 - stpipe - INFO -        EXT = 'SCI',1\n"
     ]
    },
    {
     "name": "stdout",
     "output_type": "stream",
     "text": [
      "       EXT = 'SCI',1\n"
     ]
    },
    {
     "name": "stderr",
     "output_type": "stream",
     "text": [
      "2025-05-09 10:25:14,442 - stpipe - INFO -              Data units type: COUNTS\n"
     ]
    },
    {
     "name": "stdout",
     "output_type": "stream",
     "text": [
      "             Data units type: COUNTS\n"
     ]
    },
    {
     "name": "stderr",
     "output_type": "stream",
     "text": [
      "2025-05-09 10:25:14,444 - stpipe - INFO -              EXPTIME: 507.0 [s]\n"
     ]
    },
    {
     "name": "stdout",
     "output_type": "stream",
     "text": [
      "             EXPTIME: 507.0 [s]\n"
     ]
    },
    {
     "name": "stderr",
     "output_type": "stream",
     "text": [
      "2025-05-09 10:25:14,445 - stpipe - INFO -              Conversion factor (data->brightness):  0.7889546351084812\n"
     ]
    },
    {
     "name": "stdout",
     "output_type": "stream",
     "text": [
      "             Conversion factor (data->brightness):  0.7889546351084812\n"
     ]
    },
    {
     "name": "stderr",
     "output_type": "stream",
     "text": [
      "2025-05-09 10:25:14,447 - stpipe - INFO - \n"
     ]
    },
    {
     "name": "stdout",
     "output_type": "stream",
     "text": [
      "\n"
     ]
    },
    {
     "name": "stderr",
     "output_type": "stream",
     "text": [
      "2025-05-09 10:25:14,448 - stpipe - INFO -    *   Image: j8pu42egq_flc_150d08m15.267s+2d09m52.304s_F475W_topsf.fits\n"
     ]
    },
    {
     "name": "stdout",
     "output_type": "stream",
     "text": [
      "   *   Image: j8pu42egq_flc_150d08m15.267s+2d09m52.304s_F475W_topsf.fits\n"
     ]
    },
    {
     "name": "stderr",
     "output_type": "stream",
     "text": [
      "2025-05-09 10:25:14,467 - stpipe - INFO -        EXT = 'SCI',1\n"
     ]
    },
    {
     "name": "stdout",
     "output_type": "stream",
     "text": [
      "       EXT = 'SCI',1\n"
     ]
    },
    {
     "name": "stderr",
     "output_type": "stream",
     "text": [
      "2025-05-09 10:25:14,469 - stpipe - INFO -              Data units type: COUNTS\n"
     ]
    },
    {
     "name": "stdout",
     "output_type": "stream",
     "text": [
      "             Data units type: COUNTS\n"
     ]
    },
    {
     "name": "stderr",
     "output_type": "stream",
     "text": [
      "2025-05-09 10:25:14,471 - stpipe - INFO -              EXPTIME: 507.0 [s]\n"
     ]
    },
    {
     "name": "stdout",
     "output_type": "stream",
     "text": [
      "             EXPTIME: 507.0 [s]\n"
     ]
    },
    {
     "name": "stderr",
     "output_type": "stream",
     "text": [
      "2025-05-09 10:25:14,472 - stpipe - INFO -              Conversion factor (data->brightness):  0.7889546351084812\n"
     ]
    },
    {
     "name": "stdout",
     "output_type": "stream",
     "text": [
      "             Conversion factor (data->brightness):  0.7889546351084812\n"
     ]
    },
    {
     "name": "stderr",
     "output_type": "stream",
     "text": [
      "2025-05-09 10:25:14,473 - stpipe - INFO - \n"
     ]
    },
    {
     "name": "stdout",
     "output_type": "stream",
     "text": [
      "\n"
     ]
    },
    {
     "name": "stderr",
     "output_type": "stream",
     "text": [
      "2025-05-09 10:25:14,475 - stpipe - INFO -    *   Image: j8pu42esq_flc_150d08m15.267s+2d09m52.304s_F475W_topsf.fits\n"
     ]
    },
    {
     "name": "stdout",
     "output_type": "stream",
     "text": [
      "   *   Image: j8pu42esq_flc_150d08m15.267s+2d09m52.304s_F475W_topsf.fits\n"
     ]
    },
    {
     "name": "stderr",
     "output_type": "stream",
     "text": [
      "2025-05-09 10:25:14,493 - stpipe - INFO -        EXT = 'SCI',1\n"
     ]
    },
    {
     "name": "stdout",
     "output_type": "stream",
     "text": [
      "       EXT = 'SCI',1\n"
     ]
    },
    {
     "name": "stderr",
     "output_type": "stream",
     "text": [
      "2025-05-09 10:25:14,495 - stpipe - INFO -              Data units type: COUNTS\n"
     ]
    },
    {
     "name": "stdout",
     "output_type": "stream",
     "text": [
      "             Data units type: COUNTS\n"
     ]
    },
    {
     "name": "stderr",
     "output_type": "stream",
     "text": [
      "2025-05-09 10:25:14,496 - stpipe - INFO -              EXPTIME: 507.0 [s]\n"
     ]
    },
    {
     "name": "stdout",
     "output_type": "stream",
     "text": [
      "             EXPTIME: 507.0 [s]\n"
     ]
    },
    {
     "name": "stderr",
     "output_type": "stream",
     "text": [
      "2025-05-09 10:25:14,498 - stpipe - INFO -              Conversion factor (data->brightness):  0.7889546351084812\n"
     ]
    },
    {
     "name": "stdout",
     "output_type": "stream",
     "text": [
      "             Conversion factor (data->brightness):  0.7889546351084812\n"
     ]
    },
    {
     "name": "stderr",
     "output_type": "stream",
     "text": [
      "2025-05-09 10:25:14,500 - stpipe - INFO - \n"
     ]
    },
    {
     "name": "stdout",
     "output_type": "stream",
     "text": [
      "\n"
     ]
    },
    {
     "name": "stderr",
     "output_type": "stream",
     "text": [
      "2025-05-09 10:25:14,501 - stpipe - INFO -    *   Image: j8pu42evq_flc_150d08m15.267s+2d09m52.304s_F475W_topsf.fits\n"
     ]
    },
    {
     "name": "stdout",
     "output_type": "stream",
     "text": [
      "   *   Image: j8pu42evq_flc_150d08m15.267s+2d09m52.304s_F475W_topsf.fits\n"
     ]
    },
    {
     "name": "stderr",
     "output_type": "stream",
     "text": [
      "2025-05-09 10:25:14,520 - stpipe - INFO -        EXT = 'SCI',1\n"
     ]
    },
    {
     "name": "stdout",
     "output_type": "stream",
     "text": [
      "       EXT = 'SCI',1\n"
     ]
    },
    {
     "name": "stderr",
     "output_type": "stream",
     "text": [
      "2025-05-09 10:25:14,522 - stpipe - INFO -              Data units type: COUNTS\n"
     ]
    },
    {
     "name": "stdout",
     "output_type": "stream",
     "text": [
      "             Data units type: COUNTS\n"
     ]
    },
    {
     "name": "stderr",
     "output_type": "stream",
     "text": [
      "2025-05-09 10:25:14,523 - stpipe - INFO -              EXPTIME: 507.0 [s]\n"
     ]
    },
    {
     "name": "stdout",
     "output_type": "stream",
     "text": [
      "             EXPTIME: 507.0 [s]\n"
     ]
    },
    {
     "name": "stderr",
     "output_type": "stream",
     "text": [
      "2025-05-09 10:25:14,525 - stpipe - INFO -              Conversion factor (data->brightness):  0.7889546351084812\n"
     ]
    },
    {
     "name": "stdout",
     "output_type": "stream",
     "text": [
      "             Conversion factor (data->brightness):  0.7889546351084812\n"
     ]
    },
    {
     "name": "stderr",
     "output_type": "stream",
     "text": [
      "2025-05-09 10:25:14,526 - stpipe - INFO - \n"
     ]
    },
    {
     "name": "stdout",
     "output_type": "stream",
     "text": [
      "\n"
     ]
    },
    {
     "name": "stderr",
     "output_type": "stream",
     "text": [
      "2025-05-09 10:25:14,528 - stpipe - INFO - \n"
     ]
    },
    {
     "name": "stdout",
     "output_type": "stream",
     "text": [
      "\n"
     ]
    },
    {
     "name": "stderr",
     "output_type": "stream",
     "text": [
      "2025-05-09 10:25:14,529 - stpipe - INFO - -----  Computing sky values requested image extensions (detector chips):  -----\n"
     ]
    },
    {
     "name": "stdout",
     "output_type": "stream",
     "text": [
      "-----  Computing sky values requested image extensions (detector chips):  -----\n"
     ]
    },
    {
     "name": "stderr",
     "output_type": "stream",
     "text": [
      "2025-05-09 10:25:14,530 - stpipe - INFO - \n"
     ]
    },
    {
     "name": "stdout",
     "output_type": "stream",
     "text": [
      "\n"
     ]
    },
    {
     "name": "stderr",
     "output_type": "stream",
     "text": [
      "2025-05-09 10:25:14,849 - stpipe - INFO -    *   Image:   'j8pu42ecq_flc_150d08m15.267s+2d09m52.304s_F475W_topsf.fits['SCI',1]'  --  SKY = 0.0 (brightness units)\n"
     ]
    },
    {
     "name": "stdout",
     "output_type": "stream",
     "text": [
      "   *   Image:   'j8pu42ecq_flc_150d08m15.267s+2d09m52.304s_F475W_topsf.fits['SCI',1]'  --  SKY = 0.0 (brightness units)\n"
     ]
    },
    {
     "name": "stderr",
     "output_type": "stream",
     "text": [
      "2025-05-09 10:25:14,851 - stpipe - INFO -        Sky change (data units):\n"
     ]
    },
    {
     "name": "stdout",
     "output_type": "stream",
     "text": [
      "       Sky change (data units):\n"
     ]
    },
    {
     "name": "stderr",
     "output_type": "stream",
     "text": [
      "2025-05-09 10:25:14,853 - stpipe - INFO -       - EXT = 'SCI',1   delta(MDRIZSKY) = 0   NEW MDRIZSKY = 0\n"
     ]
    },
    {
     "name": "stdout",
     "output_type": "stream",
     "text": [
      "      - EXT = 'SCI',1   delta(MDRIZSKY) = 0   NEW MDRIZSKY = 0\n"
     ]
    },
    {
     "name": "stderr",
     "output_type": "stream",
     "text": [
      "2025-05-09 10:25:15,109 - stpipe - INFO -    *   Image:   'j8pu42egq_flc_150d08m15.267s+2d09m52.304s_F475W_topsf.fits['SCI',1]'  --  SKY = 0.0 (brightness units)\n"
     ]
    },
    {
     "name": "stdout",
     "output_type": "stream",
     "text": [
      "   *   Image:   'j8pu42egq_flc_150d08m15.267s+2d09m52.304s_F475W_topsf.fits['SCI',1]'  --  SKY = 0.0 (brightness units)\n"
     ]
    },
    {
     "name": "stderr",
     "output_type": "stream",
     "text": [
      "2025-05-09 10:25:15,110 - stpipe - INFO -        Sky change (data units):\n"
     ]
    },
    {
     "name": "stdout",
     "output_type": "stream",
     "text": [
      "       Sky change (data units):\n"
     ]
    },
    {
     "name": "stderr",
     "output_type": "stream",
     "text": [
      "2025-05-09 10:25:15,112 - stpipe - INFO -       - EXT = 'SCI',1   delta(MDRIZSKY) = 0   NEW MDRIZSKY = 0\n"
     ]
    },
    {
     "name": "stdout",
     "output_type": "stream",
     "text": [
      "      - EXT = 'SCI',1   delta(MDRIZSKY) = 0   NEW MDRIZSKY = 0\n"
     ]
    },
    {
     "name": "stderr",
     "output_type": "stream",
     "text": [
      "2025-05-09 10:25:15,376 - stpipe - INFO -    *   Image:   'j8pu42esq_flc_150d08m15.267s+2d09m52.304s_F475W_topsf.fits['SCI',1]'  --  SKY = 0.0 (brightness units)\n"
     ]
    },
    {
     "name": "stdout",
     "output_type": "stream",
     "text": [
      "   *   Image:   'j8pu42esq_flc_150d08m15.267s+2d09m52.304s_F475W_topsf.fits['SCI',1]'  --  SKY = 0.0 (brightness units)\n"
     ]
    },
    {
     "name": "stderr",
     "output_type": "stream",
     "text": [
      "2025-05-09 10:25:15,378 - stpipe - INFO -        Sky change (data units):\n"
     ]
    },
    {
     "name": "stdout",
     "output_type": "stream",
     "text": [
      "       Sky change (data units):\n"
     ]
    },
    {
     "name": "stderr",
     "output_type": "stream",
     "text": [
      "2025-05-09 10:25:15,379 - stpipe - INFO -       - EXT = 'SCI',1   delta(MDRIZSKY) = 0   NEW MDRIZSKY = 0\n"
     ]
    },
    {
     "name": "stdout",
     "output_type": "stream",
     "text": [
      "      - EXT = 'SCI',1   delta(MDRIZSKY) = 0   NEW MDRIZSKY = 0\n"
     ]
    },
    {
     "name": "stderr",
     "output_type": "stream",
     "text": [
      "2025-05-09 10:25:15,638 - stpipe - INFO -    *   Image:   'j8pu42evq_flc_150d08m15.267s+2d09m52.304s_F475W_topsf.fits['SCI',1]'  --  SKY = 0.0 (brightness units)\n"
     ]
    },
    {
     "name": "stdout",
     "output_type": "stream",
     "text": [
      "   *   Image:   'j8pu42evq_flc_150d08m15.267s+2d09m52.304s_F475W_topsf.fits['SCI',1]'  --  SKY = 0.0 (brightness units)\n"
     ]
    },
    {
     "name": "stderr",
     "output_type": "stream",
     "text": [
      "2025-05-09 10:25:15,640 - stpipe - INFO -        Sky change (data units):\n"
     ]
    },
    {
     "name": "stdout",
     "output_type": "stream",
     "text": [
      "       Sky change (data units):\n"
     ]
    },
    {
     "name": "stderr",
     "output_type": "stream",
     "text": [
      "2025-05-09 10:25:15,641 - stpipe - INFO -       - EXT = 'SCI',1   delta(MDRIZSKY) = 0   NEW MDRIZSKY = 0\n"
     ]
    },
    {
     "name": "stdout",
     "output_type": "stream",
     "text": [
      "      - EXT = 'SCI',1   delta(MDRIZSKY) = 0   NEW MDRIZSKY = 0\n"
     ]
    },
    {
     "name": "stderr",
     "output_type": "stream",
     "text": [
      "2025-05-09 10:25:15,644 - stpipe - INFO - ***** skymatch ended on 2025-05-09 10:25:15.643780\n"
     ]
    },
    {
     "name": "stdout",
     "output_type": "stream",
     "text": [
      "***** skymatch ended on 2025-05-09 10:25:15.643780\n"
     ]
    },
    {
     "name": "stderr",
     "output_type": "stream",
     "text": [
      "2025-05-09 10:25:15,646 - stpipe - INFO - TOTAL RUN TIME: 0:00:01.366764\n"
     ]
    },
    {
     "name": "stdout",
     "output_type": "stream",
     "text": [
      "TOTAL RUN TIME: 0:00:01.366764\n"
     ]
    },
    {
     "name": "stderr",
     "output_type": "stream",
     "text": [
      "2025-05-09 10:25:15,712 - stpipe - INFO - ==== Processing Step Subtract Sky finished at 10:25:15.711 (09/05/2025)\n"
     ]
    },
    {
     "name": "stdout",
     "output_type": "stream",
     "text": [
      "==== Processing Step Subtract Sky finished at 10:25:15.711 (09/05/2025)\n"
     ]
    },
    {
     "name": "stderr",
     "output_type": "stream",
     "text": [
      "2025-05-09 10:25:15,713 - stpipe - INFO - ==== Processing Step  Separate Drizzle  started at  10:25:15.713 (09/05/2025)\n"
     ]
    },
    {
     "name": "stdout",
     "output_type": "stream",
     "text": [
      "==== Processing Step  Separate Drizzle  started at  10:25:15.713 (09/05/2025)\n"
     ]
    },
    {
     "name": "stderr",
     "output_type": "stream",
     "text": [
      "2025-05-09 10:25:15,715 - stpipe - INFO - \n"
     ]
    },
    {
     "name": "stdout",
     "output_type": "stream",
     "text": [
      "\n"
     ]
    },
    {
     "name": "stderr",
     "output_type": "stream",
     "text": [
      "2025-05-09 10:25:15,716 - stpipe - INFO - Interpreted paramDict with single=True as:\n",
      "{'build': True, 'stepsize': 10, 'coeffs': True, 'wcskey': '', 'kernel': 'turbo', 'wt_scl': 'exptime', 'pixfrac': 1.0, 'fillval': None, 'bits': 0, 'compress': False, 'units': 'cps'}\n",
      "2025-05-09 10:25:15,717 - stpipe - INFO - USER INPUT PARAMETERS for Separate Drizzle Step:\n",
      "2025-05-09 10:25:15,717 - stpipe - INFO - \tbits :\t0\n",
      "2025-05-09 10:25:15,718 - stpipe - INFO - \tbuild :\tFalse\n",
      "2025-05-09 10:25:15,718 - stpipe - INFO - \tclean :\tFalse\n",
      "2025-05-09 10:25:15,719 - stpipe - INFO - \tcoeffs :\tTrue\n",
      "2025-05-09 10:25:15,720 - stpipe - INFO - \tcompress :\tFalse\n",
      "2025-05-09 10:25:15,720 - stpipe - INFO - \tcrbit :\tNone\n",
      "2025-05-09 10:25:15,721 - stpipe - INFO - \tfillval :\tNone\n",
      "2025-05-09 10:25:15,721 - stpipe - INFO - \tkernel :\tturbo\n",
      "2025-05-09 10:25:15,722 - stpipe - INFO - \tnum_cores :\tNone\n",
      "2025-05-09 10:25:15,722 - stpipe - INFO - \tpixfrac :\t1.0\n",
      "2025-05-09 10:25:15,723 - stpipe - INFO - \tproc_unit :\telectrons\n",
      "2025-05-09 10:25:15,723 - stpipe - INFO - \trules_file :\tNone\n",
      "2025-05-09 10:25:15,724 - stpipe - INFO - \tstepsize :\t10\n",
      "2025-05-09 10:25:15,724 - stpipe - INFO - \tunits :\tcps\n",
      "2025-05-09 10:25:15,725 - stpipe - INFO - \twcskey :\t\n",
      "2025-05-09 10:25:15,726 - stpipe - INFO - \twht_type :\tNone\n",
      "2025-05-09 10:25:15,727 - stpipe - INFO - \twt_scl :\texptime\n",
      "2025-05-09 10:25:15,727 - stpipe - INFO -   **Using sub-sampling value of 10 for kernel turbo\n",
      "2025-05-09 10:25:15,728 - stpipe - INFO - Running Drizzle to create output frame with WCS of: \n",
      "2025-05-09 10:25:15,729 - stpipe - INFO - WCS Keywords\n"
     ]
    },
    {
     "name": "stdout",
     "output_type": "stream",
     "text": [
      "WCS Keywords\n"
     ]
    },
    {
     "name": "stderr",
     "output_type": "stream",
     "text": [
      "2025-05-09 10:25:15,732 - stpipe - INFO - \n"
     ]
    },
    {
     "name": "stdout",
     "output_type": "stream",
     "text": [
      "\n"
     ]
    },
    {
     "name": "stderr",
     "output_type": "stream",
     "text": [
      "2025-05-09 10:25:15,765 - stpipe - INFO - Number of WCS axes: 2\n"
     ]
    },
    {
     "name": "stdout",
     "output_type": "stream",
     "text": [
      "Number of WCS axes: 2\n"
     ]
    },
    {
     "name": "stderr",
     "output_type": "stream",
     "text": [
      "2025-05-09 10:25:15,767 - stpipe - INFO - CTYPE : 'RA---TAN' 'DEC--TAN' \n"
     ]
    },
    {
     "name": "stdout",
     "output_type": "stream",
     "text": [
      "CTYPE : 'RA---TAN' 'DEC--TAN' \n"
     ]
    },
    {
     "name": "stderr",
     "output_type": "stream",
     "text": [
      "2025-05-09 10:25:15,768 - stpipe - INFO - CRVAL : np.float64(150.1242636198465) np.float64(2.151761555110333) \n"
     ]
    },
    {
     "name": "stdout",
     "output_type": "stream",
     "text": [
      "CRVAL : np.float64(150.1242636198465) np.float64(2.151761555110333) \n"
     ]
    },
    {
     "name": "stderr",
     "output_type": "stream",
     "text": [
      "2025-05-09 10:25:15,769 - stpipe - INFO - CRPIX : np.float64(2081.0) np.float64(1179.5) \n"
     ]
    },
    {
     "name": "stdout",
     "output_type": "stream",
     "text": [
      "CRPIX : np.float64(2081.0) np.float64(1179.5) \n"
     ]
    },
    {
     "name": "stderr",
     "output_type": "stream",
     "text": [
      "2025-05-09 10:25:15,777 - stpipe - INFO - CD1_1 CD1_2  : np.float64(-2.4118726301966414e-06) np.float64(-1.3677869168244357e-05) \n"
     ]
    },
    {
     "name": "stdout",
     "output_type": "stream",
     "text": [
      "CD1_1 CD1_2  : np.float64(-2.4118726301966414e-06) np.float64(-1.3677869168244357e-05) \n"
     ]
    },
    {
     "name": "stderr",
     "output_type": "stream",
     "text": [
      "2025-05-09 10:25:15,779 - stpipe - INFO - CD2_1 CD2_2  : np.float64(-1.3677869168244357e-05) np.float64(2.4118726301966414e-06) \n"
     ]
    },
    {
     "name": "stdout",
     "output_type": "stream",
     "text": [
      "CD2_1 CD2_2  : np.float64(-1.3677869168244357e-05) np.float64(2.4118726301966414e-06) \n"
     ]
    },
    {
     "name": "stderr",
     "output_type": "stream",
     "text": [
      "2025-05-09 10:25:15,780 - stpipe - INFO - NAXIS : 4162  2359\n"
     ]
    },
    {
     "name": "stdout",
     "output_type": "stream",
     "text": [
      "NAXIS : 4162  2359\n"
     ]
    },
    {
     "name": "stderr",
     "output_type": "stream",
     "text": [
      "2025-05-09 10:25:15,781 - stpipe - INFO - Executing 4 parallel workers\n",
      "2025-05-09 10:25:15,829 - stpipe - INFO - -Drizzle input: /Users/avapolzin/Desktop/psf_testoutputs/acs/j8pu42ecq_flc_150d08m15.267s+2d09m52.304s_F475W_topsf.fits[sci,1]\n",
      "2025-05-09 10:25:15,838 - stpipe - INFO - -Drizzle input: /Users/avapolzin/Desktop/psf_testoutputs/acs/j8pu42egq_flc_150d08m15.267s+2d09m52.304s_F475W_topsf.fits[sci,1]\n",
      "2025-05-09 10:25:15,855 - stpipe - INFO - -Drizzle input: /Users/avapolzin/Desktop/psf_testoutputs/acs/j8pu42esq_flc_150d08m15.267s+2d09m52.304s_F475W_topsf.fits[sci,1]\n",
      "2025-05-09 10:25:15,864 - stpipe - INFO - Applying sky value of 0.000000 to /Users/avapolzin/Desktop/psf_testoutputs/acs/j8pu42ecq_flc_150d08m15.267s+2d09m52.304s_F475W_topsf.fits[sci,1]\n",
      "2025-05-09 10:25:15,871 - stpipe - INFO - Applying sky value of 0.000000 to /Users/avapolzin/Desktop/psf_testoutputs/acs/j8pu42egq_flc_150d08m15.267s+2d09m52.304s_F475W_topsf.fits[sci,1]\n",
      "2025-05-09 10:25:15,882 - stpipe - INFO - -Drizzle input: /Users/avapolzin/Desktop/psf_testoutputs/acs/j8pu42evq_flc_150d08m15.267s+2d09m52.304s_F475W_topsf.fits[sci,1]\n",
      "2025-05-09 10:25:15,893 - stpipe - INFO - Applying sky value of 0.000000 to /Users/avapolzin/Desktop/psf_testoutputs/acs/j8pu42esq_flc_150d08m15.267s+2d09m52.304s_F475W_topsf.fits[sci,1]\n",
      "2025-05-09 10:25:15,913 - stpipe - INFO - Applying sky value of 0.000000 to /Users/avapolzin/Desktop/psf_testoutputs/acs/j8pu42evq_flc_150d08m15.267s+2d09m52.304s_F475W_topsf.fits[sci,1]\n",
      "2025-05-09 10:25:16,042 - stpipe - INFO - Writing out mask file: /Users/avapolzin/Desktop/psf_testoutputs/acs/j8pu42ecq_flc_150d08m15.267s+2d09m52.304s_F475W_topsf_sci1_single_mask.fits\n",
      "2025-05-09 10:25:16,044 - stpipe - INFO - Writing out mask file: /Users/avapolzin/Desktop/psf_testoutputs/acs/j8pu42egq_flc_150d08m15.267s+2d09m52.304s_F475W_topsf_sci1_single_mask.fits\n",
      "2025-05-09 10:25:16,045 - stpipe - INFO - Using WCSLIB-based coordinate transformation...\n",
      "2025-05-09 10:25:16,047 - stpipe - INFO - Using WCSLIB-based coordinate transformation...\n",
      "2025-05-09 10:25:16,047 - stpipe - INFO - stepsize = 10\n",
      "2025-05-09 10:25:16,049 - stpipe - INFO - stepsize = 10\n",
      "2025-05-09 10:25:16,066 - stpipe - INFO - Writing out mask file: /Users/avapolzin/Desktop/psf_testoutputs/acs/j8pu42esq_flc_150d08m15.267s+2d09m52.304s_F475W_topsf_sci1_single_mask.fits\n",
      "2025-05-09 10:25:16,068 - stpipe - INFO - Using WCSLIB-based coordinate transformation...\n",
      "2025-05-09 10:25:16,070 - stpipe - INFO - stepsize = 10\n",
      "2025-05-09 10:25:16,084 - stpipe - INFO - Writing out mask file: /Users/avapolzin/Desktop/psf_testoutputs/acs/j8pu42evq_flc_150d08m15.267s+2d09m52.304s_F475W_topsf_sci1_single_mask.fits\n",
      "2025-05-09 10:25:16,087 - stpipe - INFO - -Drizzling using kernel = turbo\n",
      "\n",
      "2025-05-09 10:25:16,087 - stpipe - INFO - Using WCSLIB-based coordinate transformation...\n",
      "2025-05-09 10:25:16,091 - stpipe - INFO - stepsize = 10\n",
      "2025-05-09 10:25:16,107 - stpipe - INFO - -Drizzling using kernel = turbo\n",
      "\n",
      "2025-05-09 10:25:16,110 - stpipe - INFO - -Drizzling using kernel = turbo\n",
      "\n",
      "2025-05-09 10:25:16,128 - stpipe - INFO - -Drizzling using kernel = turbo\n",
      "\n",
      "2025-05-09 10:25:16,836 - stpipe - INFO - -Generating simple FITS output: /Users/avapolzin/Desktop/psf_testoutputs/acs/j8pu42ecq_flc_150d08m15.267s+2d09m52.304s_F475W_topsf_single_sci.fits\n"
     ]
    },
    {
     "name": "stdout",
     "output_type": "stream",
     "text": [
      "-Generating simple FITS output: /Users/avapolzin/Desktop/psf_testoutputs/acs/j8pu42ecq_flc_150d08m15.267s+2d09m52.304s_F475W_topsf_single_sci.fits\n"
     ]
    },
    {
     "name": "stderr",
     "output_type": "stream",
     "text": [
      "2025-05-09 10:25:16,850 - stpipe - INFO - -Generating simple FITS output: /Users/avapolzin/Desktop/psf_testoutputs/acs/j8pu42egq_flc_150d08m15.267s+2d09m52.304s_F475W_topsf_single_sci.fits\n",
      "2025-05-09 10:25:16,852 - stpipe - INFO - -Generating simple FITS output: /Users/avapolzin/Desktop/psf_testoutputs/acs/j8pu42esq_flc_150d08m15.267s+2d09m52.304s_F475W_topsf_single_sci.fits\n"
     ]
    },
    {
     "name": "stdout",
     "output_type": "stream",
     "text": [
      "-Generating simple FITS output: /Users/avapolzin/Desktop/psf_testoutputs/acs/j8pu42egq_flc_150d08m15.267s+2d09m52.304s_F475W_topsf_single_sci.fits\n",
      "-Generating simple FITS output: /Users/avapolzin/Desktop/psf_testoutputs/acs/j8pu42esq_flc_150d08m15.267s+2d09m52.304s_F475W_topsf_single_sci.fits\n"
     ]
    },
    {
     "name": "stderr",
     "output_type": "stream",
     "text": [
      "2025-05-09 10:25:16,860 - stpipe - WARNING - /Users/avapolzin/opt/anaconda3/envs/spike/lib/python3.10/site-packages/astropy/io/fits/card.py:1036: VerifyWarning: Card is too long, comment will be truncated.\n",
      "\n",
      "2025-05-09 10:25:16,874 - stpipe - WARNING - /Users/avapolzin/opt/anaconda3/envs/spike/lib/python3.10/site-packages/astropy/io/fits/card.py:1036: VerifyWarning: Card is too long, comment will be truncated.\n",
      "\n",
      "2025-05-09 10:25:16,875 - stpipe - WARNING - /Users/avapolzin/opt/anaconda3/envs/spike/lib/python3.10/site-packages/astropy/io/fits/card.py:1036: VerifyWarning: Card is too long, comment will be truncated.\n",
      "\n",
      "2025-05-09 10:25:16,876 - stpipe - INFO - -Generating simple FITS output: /Users/avapolzin/Desktop/psf_testoutputs/acs/j8pu42evq_flc_150d08m15.267s+2d09m52.304s_F475W_topsf_single_sci.fits\n"
     ]
    },
    {
     "name": "stdout",
     "output_type": "stream",
     "text": [
      "-Generating simple FITS output: /Users/avapolzin/Desktop/psf_testoutputs/acs/j8pu42evq_flc_150d08m15.267s+2d09m52.304s_F475W_topsf_single_sci.fits\n"
     ]
    },
    {
     "name": "stderr",
     "output_type": "stream",
     "text": [
      "2025-05-09 10:25:16,948 - stpipe - WARNING - /Users/avapolzin/opt/anaconda3/envs/spike/lib/python3.10/site-packages/astropy/io/fits/card.py:1036: VerifyWarning: Card is too long, comment will be truncated.\n",
      "\n",
      "2025-05-09 10:25:16,956 - stpipe - INFO - Writing out image to disk: /Users/avapolzin/Desktop/psf_testoutputs/acs/j8pu42ecq_flc_150d08m15.267s+2d09m52.304s_F475W_topsf_single_sci.fits\n"
     ]
    },
    {
     "name": "stdout",
     "output_type": "stream",
     "text": [
      "Writing out image to disk: /Users/avapolzin/Desktop/psf_testoutputs/acs/j8pu42ecq_flc_150d08m15.267s+2d09m52.304s_F475W_topsf_single_sci.fits\n"
     ]
    },
    {
     "name": "stderr",
     "output_type": "stream",
     "text": [
      "2025-05-09 10:25:16,971 - stpipe - INFO - Writing out image to disk: /Users/avapolzin/Desktop/psf_testoutputs/acs/j8pu42egq_flc_150d08m15.267s+2d09m52.304s_F475W_topsf_single_sci.fits\n"
     ]
    },
    {
     "name": "stdout",
     "output_type": "stream",
     "text": [
      "Writing out image to disk: /Users/avapolzin/Desktop/psf_testoutputs/acs/j8pu42egq_flc_150d08m15.267s+2d09m52.304s_F475W_topsf_single_sci.fits\n"
     ]
    },
    {
     "name": "stderr",
     "output_type": "stream",
     "text": [
      "2025-05-09 10:25:16,975 - stpipe - INFO - Writing out image to disk: /Users/avapolzin/Desktop/psf_testoutputs/acs/j8pu42esq_flc_150d08m15.267s+2d09m52.304s_F475W_topsf_single_sci.fits\n"
     ]
    },
    {
     "name": "stdout",
     "output_type": "stream",
     "text": [
      "Writing out image to disk: /Users/avapolzin/Desktop/psf_testoutputs/acs/j8pu42esq_flc_150d08m15.267s+2d09m52.304s_F475W_topsf_single_sci.fits\n"
     ]
    },
    {
     "name": "stderr",
     "output_type": "stream",
     "text": [
      "2025-05-09 10:25:17,007 - stpipe - INFO - Writing out image to disk: /Users/avapolzin/Desktop/psf_testoutputs/acs/j8pu42evq_flc_150d08m15.267s+2d09m52.304s_F475W_topsf_single_sci.fits\n"
     ]
    },
    {
     "name": "stdout",
     "output_type": "stream",
     "text": [
      "Writing out image to disk: /Users/avapolzin/Desktop/psf_testoutputs/acs/j8pu42evq_flc_150d08m15.267s+2d09m52.304s_F475W_topsf_single_sci.fits\n"
     ]
    },
    {
     "name": "stderr",
     "output_type": "stream",
     "text": [
      "2025-05-09 10:25:17,028 - stpipe - INFO - Writing out image to disk: /Users/avapolzin/Desktop/psf_testoutputs/acs/j8pu42ecq_flc_150d08m15.267s+2d09m52.304s_F475W_topsf_single_wht.fits\n"
     ]
    },
    {
     "name": "stdout",
     "output_type": "stream",
     "text": [
      "Writing out image to disk: /Users/avapolzin/Desktop/psf_testoutputs/acs/j8pu42ecq_flc_150d08m15.267s+2d09m52.304s_F475W_topsf_single_wht.fits\n"
     ]
    },
    {
     "name": "stderr",
     "output_type": "stream",
     "text": [
      "2025-05-09 10:25:17,044 - stpipe - INFO - Writing out image to disk: /Users/avapolzin/Desktop/psf_testoutputs/acs/j8pu42egq_flc_150d08m15.267s+2d09m52.304s_F475W_topsf_single_wht.fits\n"
     ]
    },
    {
     "name": "stdout",
     "output_type": "stream",
     "text": [
      "Writing out image to disk: /Users/avapolzin/Desktop/psf_testoutputs/acs/j8pu42egq_flc_150d08m15.267s+2d09m52.304s_F475W_topsf_single_wht.fits\n"
     ]
    },
    {
     "name": "stderr",
     "output_type": "stream",
     "text": [
      "2025-05-09 10:25:17,049 - stpipe - INFO - Writing out image to disk: /Users/avapolzin/Desktop/psf_testoutputs/acs/j8pu42esq_flc_150d08m15.267s+2d09m52.304s_F475W_topsf_single_wht.fits\n"
     ]
    },
    {
     "name": "stdout",
     "output_type": "stream",
     "text": [
      "Writing out image to disk: /Users/avapolzin/Desktop/psf_testoutputs/acs/j8pu42esq_flc_150d08m15.267s+2d09m52.304s_F475W_topsf_single_wht.fits\n"
     ]
    },
    {
     "name": "stderr",
     "output_type": "stream",
     "text": [
      "2025-05-09 10:25:17,074 - stpipe - INFO - Writing out image to disk: /Users/avapolzin/Desktop/psf_testoutputs/acs/j8pu42evq_flc_150d08m15.267s+2d09m52.304s_F475W_topsf_single_wht.fits\n"
     ]
    },
    {
     "name": "stdout",
     "output_type": "stream",
     "text": [
      "Writing out image to disk: /Users/avapolzin/Desktop/psf_testoutputs/acs/j8pu42evq_flc_150d08m15.267s+2d09m52.304s_F475W_topsf_single_wht.fits\n"
     ]
    },
    {
     "name": "stderr",
     "output_type": "stream",
     "text": [
      "2025-05-09 10:25:17,129 - stpipe - INFO - ==== Processing Step Separate Drizzle finished at 10:25:17.128 (09/05/2025)\n"
     ]
    },
    {
     "name": "stdout",
     "output_type": "stream",
     "text": [
      "==== Processing Step Separate Drizzle finished at 10:25:17.128 (09/05/2025)\n"
     ]
    },
    {
     "name": "stderr",
     "output_type": "stream",
     "text": [
      "2025-05-09 10:25:17,131 - stpipe - INFO - ==== Processing Step  Create Median  started at  10:25:17.131 (09/05/2025)\n"
     ]
    },
    {
     "name": "stdout",
     "output_type": "stream",
     "text": [
      "==== Processing Step  Create Median  started at  10:25:17.131 (09/05/2025)\n"
     ]
    },
    {
     "name": "stderr",
     "output_type": "stream",
     "text": [
      "2025-05-09 10:25:17,133 - stpipe - INFO - \n"
     ]
    },
    {
     "name": "stdout",
     "output_type": "stream",
     "text": [
      "\n"
     ]
    },
    {
     "name": "stderr",
     "output_type": "stream",
     "text": [
      "2025-05-09 10:25:17,135 - stpipe - INFO - USER INPUT PARAMETERS for Create Median Step:\n",
      "2025-05-09 10:25:17,135 - stpipe - INFO - \tcombine_bufsize :\tNone\n",
      "2025-05-09 10:25:17,136 - stpipe - INFO - \tcombine_grow :\t1\n",
      "2025-05-09 10:25:17,137 - stpipe - INFO - \tcombine_hthresh :\tNone\n",
      "2025-05-09 10:25:17,137 - stpipe - INFO - \tcombine_lthresh :\tNone\n",
      "2025-05-09 10:25:17,138 - stpipe - INFO - \tcombine_maskpt :\t0.3\n",
      "2025-05-09 10:25:17,139 - stpipe - INFO - \tcombine_nhigh :\t0\n",
      "2025-05-09 10:25:17,139 - stpipe - INFO - \tcombine_nlow :\t0\n",
      "2025-05-09 10:25:17,140 - stpipe - INFO - \tcombine_nsigma :\t4 3\n",
      "2025-05-09 10:25:17,141 - stpipe - INFO - \tcombine_type :\timedian\n",
      "2025-05-09 10:25:17,141 - stpipe - INFO - \tcompress :\tFalse\n",
      "2025-05-09 10:25:17,142 - stpipe - INFO - \tmedian :\tTrue\n",
      "2025-05-09 10:25:17,142 - stpipe - INFO - \tmedian_newmasks :\tTrue\n",
      "2025-05-09 10:25:17,143 - stpipe - INFO - \tproc_unit :\tnative\n",
      "2025-05-09 10:25:17,229 - stpipe - INFO - reference sky value for image '/Users/avapolzin/Desktop/psf_testoutputs/acs/j8pu42ecq_flc_150d08m15.267s+2d09m52.304s_F475W_topsf.fits' is 0.0\n"
     ]
    },
    {
     "name": "stdout",
     "output_type": "stream",
     "text": [
      "reference sky value for image '/Users/avapolzin/Desktop/psf_testoutputs/acs/j8pu42ecq_flc_150d08m15.267s+2d09m52.304s_F475W_topsf.fits' is 0.0\n"
     ]
    },
    {
     "name": "stderr",
     "output_type": "stream",
     "text": [
      "2025-05-09 10:25:17,290 - stpipe - INFO - reference sky value for image '/Users/avapolzin/Desktop/psf_testoutputs/acs/j8pu42egq_flc_150d08m15.267s+2d09m52.304s_F475W_topsf.fits' is 0.0\n"
     ]
    },
    {
     "name": "stdout",
     "output_type": "stream",
     "text": [
      "reference sky value for image '/Users/avapolzin/Desktop/psf_testoutputs/acs/j8pu42egq_flc_150d08m15.267s+2d09m52.304s_F475W_topsf.fits' is 0.0\n"
     ]
    },
    {
     "name": "stderr",
     "output_type": "stream",
     "text": [
      "2025-05-09 10:25:17,378 - stpipe - INFO - reference sky value for image '/Users/avapolzin/Desktop/psf_testoutputs/acs/j8pu42esq_flc_150d08m15.267s+2d09m52.304s_F475W_topsf.fits' is 0.0\n"
     ]
    },
    {
     "name": "stdout",
     "output_type": "stream",
     "text": [
      "reference sky value for image '/Users/avapolzin/Desktop/psf_testoutputs/acs/j8pu42esq_flc_150d08m15.267s+2d09m52.304s_F475W_topsf.fits' is 0.0\n"
     ]
    },
    {
     "name": "stderr",
     "output_type": "stream",
     "text": [
      "2025-05-09 10:25:17,445 - stpipe - INFO - reference sky value for image '/Users/avapolzin/Desktop/psf_testoutputs/acs/j8pu42evq_flc_150d08m15.267s+2d09m52.304s_F475W_topsf.fits' is 0.0\n"
     ]
    },
    {
     "name": "stdout",
     "output_type": "stream",
     "text": [
      "reference sky value for image '/Users/avapolzin/Desktop/psf_testoutputs/acs/j8pu42evq_flc_150d08m15.267s+2d09m52.304s_F475W_topsf.fits' is 0.0\n"
     ]
    },
    {
     "name": "stderr",
     "output_type": "stream",
     "text": [
      "2025-05-09 10:25:18,625 - stpipe - INFO - Saving output median image to: '/Users/avapolzin/Desktop/psf_testoutputs/acs/150d08m15.267s+2d09m52.304s_F475W_psf_med.fits'\n"
     ]
    },
    {
     "name": "stdout",
     "output_type": "stream",
     "text": [
      "Saving output median image to: '/Users/avapolzin/Desktop/psf_testoutputs/acs/150d08m15.267s+2d09m52.304s_F475W_psf_med.fits'\n"
     ]
    },
    {
     "name": "stderr",
     "output_type": "stream",
     "text": [
      "2025-05-09 10:25:18,654 - stpipe - INFO - ==== Processing Step Create Median finished at 10:25:18.654 (09/05/2025)\n"
     ]
    },
    {
     "name": "stdout",
     "output_type": "stream",
     "text": [
      "==== Processing Step Create Median finished at 10:25:18.654 (09/05/2025)\n"
     ]
    },
    {
     "name": "stderr",
     "output_type": "stream",
     "text": [
      "2025-05-09 10:25:18,656 - stpipe - INFO - ==== Processing Step  Blot  started at  10:25:18.655 (09/05/2025)\n"
     ]
    },
    {
     "name": "stdout",
     "output_type": "stream",
     "text": [
      "==== Processing Step  Blot  started at  10:25:18.655 (09/05/2025)\n"
     ]
    },
    {
     "name": "stderr",
     "output_type": "stream",
     "text": [
      "2025-05-09 10:25:18,657 - stpipe - INFO - \n"
     ]
    },
    {
     "name": "stdout",
     "output_type": "stream",
     "text": [
      "\n"
     ]
    },
    {
     "name": "stderr",
     "output_type": "stream",
     "text": [
      "2025-05-09 10:25:18,658 - stpipe - INFO - USER INPUT PARAMETERS for Blot Step:\n",
      "2025-05-09 10:25:18,659 - stpipe - INFO - \tblot_addsky :\tTrue\n",
      "2025-05-09 10:25:18,660 - stpipe - INFO - \tblot_interp :\tpoly5\n",
      "2025-05-09 10:25:18,660 - stpipe - INFO - \tblot_sinscl :\t1.0\n",
      "2025-05-09 10:25:18,661 - stpipe - INFO - \tblot_skyval :\t0.0\n",
      "2025-05-09 10:25:18,662 - stpipe - INFO - \tcoeffs :\tTrue\n",
      "2025-05-09 10:25:18,663 - stpipe - INFO -     Blot: creating blotted image:  /Users/avapolzin/Desktop/psf_testoutputs/acs/j8pu42ecq_flc_150d08m15.267s+2d09m52.304s_F475W_topsf.fits[sci,1]\n"
     ]
    },
    {
     "name": "stdout",
     "output_type": "stream",
     "text": [
      "    Blot: creating blotted image:  /Users/avapolzin/Desktop/psf_testoutputs/acs/j8pu42ecq_flc_150d08m15.267s+2d09m52.304s_F475W_topsf.fits[sci,1]\n"
     ]
    },
    {
     "name": "stderr",
     "output_type": "stream",
     "text": [
      "2025-05-09 10:25:18,723 - stpipe - INFO - Using default C-based coordinate transformation...\n"
     ]
    },
    {
     "name": "stdout",
     "output_type": "stream",
     "text": [
      "Using default C-based coordinate transformation...\n"
     ]
    },
    {
     "name": "stderr",
     "output_type": "stream",
     "text": [
      "2025-05-09 10:25:19,502 - stpipe - INFO - Applying sky value of 0.000000 to blotted image /Users/avapolzin/Desktop/psf_testoutputs/acs/j8pu42ecq_flc_150d08m15.267s+2d09m52.304s_F475W_topsf.fits[sci,1]\n",
      "2025-05-09 10:25:19,543 - stpipe - INFO - -Generating simple FITS output: /Users/avapolzin/Desktop/psf_testoutputs/acs/j8pu42ecq_flc_150d08m15.267s+2d09m52.304s_F475W_topsf_sci1_blt.fits\n"
     ]
    },
    {
     "name": "stdout",
     "output_type": "stream",
     "text": [
      "-Generating simple FITS output: /Users/avapolzin/Desktop/psf_testoutputs/acs/j8pu42ecq_flc_150d08m15.267s+2d09m52.304s_F475W_topsf_sci1_blt.fits\n"
     ]
    },
    {
     "name": "stderr",
     "output_type": "stream",
     "text": [
      "2025-05-09 10:25:19,557 - stpipe - INFO - Writing out image to disk: /Users/avapolzin/Desktop/psf_testoutputs/acs/j8pu42ecq_flc_150d08m15.267s+2d09m52.304s_F475W_topsf_sci1_blt.fits\n"
     ]
    },
    {
     "name": "stdout",
     "output_type": "stream",
     "text": [
      "Writing out image to disk: /Users/avapolzin/Desktop/psf_testoutputs/acs/j8pu42ecq_flc_150d08m15.267s+2d09m52.304s_F475W_topsf_sci1_blt.fits\n"
     ]
    },
    {
     "name": "stderr",
     "output_type": "stream",
     "text": [
      "2025-05-09 10:25:19,589 - stpipe - INFO -     Blot: creating blotted image:  /Users/avapolzin/Desktop/psf_testoutputs/acs/j8pu42egq_flc_150d08m15.267s+2d09m52.304s_F475W_topsf.fits[sci,1]\n"
     ]
    },
    {
     "name": "stdout",
     "output_type": "stream",
     "text": [
      "    Blot: creating blotted image:  /Users/avapolzin/Desktop/psf_testoutputs/acs/j8pu42egq_flc_150d08m15.267s+2d09m52.304s_F475W_topsf.fits[sci,1]\n"
     ]
    },
    {
     "name": "stderr",
     "output_type": "stream",
     "text": [
      "2025-05-09 10:25:19,623 - stpipe - INFO - Using default C-based coordinate transformation...\n"
     ]
    },
    {
     "name": "stdout",
     "output_type": "stream",
     "text": [
      "Using default C-based coordinate transformation...\n"
     ]
    },
    {
     "name": "stderr",
     "output_type": "stream",
     "text": [
      "2025-05-09 10:25:20,398 - stpipe - INFO - Applying sky value of 0.000000 to blotted image /Users/avapolzin/Desktop/psf_testoutputs/acs/j8pu42egq_flc_150d08m15.267s+2d09m52.304s_F475W_topsf.fits[sci,1]\n",
      "2025-05-09 10:25:20,439 - stpipe - INFO - -Generating simple FITS output: /Users/avapolzin/Desktop/psf_testoutputs/acs/j8pu42egq_flc_150d08m15.267s+2d09m52.304s_F475W_topsf_sci1_blt.fits\n"
     ]
    },
    {
     "name": "stdout",
     "output_type": "stream",
     "text": [
      "-Generating simple FITS output: /Users/avapolzin/Desktop/psf_testoutputs/acs/j8pu42egq_flc_150d08m15.267s+2d09m52.304s_F475W_topsf_sci1_blt.fits\n"
     ]
    },
    {
     "name": "stderr",
     "output_type": "stream",
     "text": [
      "2025-05-09 10:25:20,455 - stpipe - INFO - Writing out image to disk: /Users/avapolzin/Desktop/psf_testoutputs/acs/j8pu42egq_flc_150d08m15.267s+2d09m52.304s_F475W_topsf_sci1_blt.fits\n"
     ]
    },
    {
     "name": "stdout",
     "output_type": "stream",
     "text": [
      "Writing out image to disk: /Users/avapolzin/Desktop/psf_testoutputs/acs/j8pu42egq_flc_150d08m15.267s+2d09m52.304s_F475W_topsf_sci1_blt.fits\n"
     ]
    },
    {
     "name": "stderr",
     "output_type": "stream",
     "text": [
      "2025-05-09 10:25:20,486 - stpipe - INFO -     Blot: creating blotted image:  /Users/avapolzin/Desktop/psf_testoutputs/acs/j8pu42esq_flc_150d08m15.267s+2d09m52.304s_F475W_topsf.fits[sci,1]\n"
     ]
    },
    {
     "name": "stdout",
     "output_type": "stream",
     "text": [
      "    Blot: creating blotted image:  /Users/avapolzin/Desktop/psf_testoutputs/acs/j8pu42esq_flc_150d08m15.267s+2d09m52.304s_F475W_topsf.fits[sci,1]\n"
     ]
    },
    {
     "name": "stderr",
     "output_type": "stream",
     "text": [
      "2025-05-09 10:25:20,516 - stpipe - INFO - Using default C-based coordinate transformation...\n"
     ]
    },
    {
     "name": "stdout",
     "output_type": "stream",
     "text": [
      "Using default C-based coordinate transformation...\n"
     ]
    },
    {
     "name": "stderr",
     "output_type": "stream",
     "text": [
      "2025-05-09 10:25:21,298 - stpipe - INFO - Applying sky value of 0.000000 to blotted image /Users/avapolzin/Desktop/psf_testoutputs/acs/j8pu42esq_flc_150d08m15.267s+2d09m52.304s_F475W_topsf.fits[sci,1]\n",
      "2025-05-09 10:25:21,347 - stpipe - INFO - -Generating simple FITS output: /Users/avapolzin/Desktop/psf_testoutputs/acs/j8pu42esq_flc_150d08m15.267s+2d09m52.304s_F475W_topsf_sci1_blt.fits\n"
     ]
    },
    {
     "name": "stdout",
     "output_type": "stream",
     "text": [
      "-Generating simple FITS output: /Users/avapolzin/Desktop/psf_testoutputs/acs/j8pu42esq_flc_150d08m15.267s+2d09m52.304s_F475W_topsf_sci1_blt.fits\n"
     ]
    },
    {
     "name": "stderr",
     "output_type": "stream",
     "text": [
      "2025-05-09 10:25:21,364 - stpipe - INFO - Writing out image to disk: /Users/avapolzin/Desktop/psf_testoutputs/acs/j8pu42esq_flc_150d08m15.267s+2d09m52.304s_F475W_topsf_sci1_blt.fits\n"
     ]
    },
    {
     "name": "stdout",
     "output_type": "stream",
     "text": [
      "Writing out image to disk: /Users/avapolzin/Desktop/psf_testoutputs/acs/j8pu42esq_flc_150d08m15.267s+2d09m52.304s_F475W_topsf_sci1_blt.fits\n"
     ]
    },
    {
     "name": "stderr",
     "output_type": "stream",
     "text": [
      "2025-05-09 10:25:21,412 - stpipe - INFO -     Blot: creating blotted image:  /Users/avapolzin/Desktop/psf_testoutputs/acs/j8pu42evq_flc_150d08m15.267s+2d09m52.304s_F475W_topsf.fits[sci,1]\n"
     ]
    },
    {
     "name": "stdout",
     "output_type": "stream",
     "text": [
      "    Blot: creating blotted image:  /Users/avapolzin/Desktop/psf_testoutputs/acs/j8pu42evq_flc_150d08m15.267s+2d09m52.304s_F475W_topsf.fits[sci,1]\n"
     ]
    },
    {
     "name": "stderr",
     "output_type": "stream",
     "text": [
      "2025-05-09 10:25:21,440 - stpipe - INFO - Using default C-based coordinate transformation...\n"
     ]
    },
    {
     "name": "stdout",
     "output_type": "stream",
     "text": [
      "Using default C-based coordinate transformation...\n"
     ]
    },
    {
     "name": "stderr",
     "output_type": "stream",
     "text": [
      "2025-05-09 10:25:22,261 - stpipe - INFO - Applying sky value of 0.000000 to blotted image /Users/avapolzin/Desktop/psf_testoutputs/acs/j8pu42evq_flc_150d08m15.267s+2d09m52.304s_F475W_topsf.fits[sci,1]\n",
      "2025-05-09 10:25:22,302 - stpipe - INFO - -Generating simple FITS output: /Users/avapolzin/Desktop/psf_testoutputs/acs/j8pu42evq_flc_150d08m15.267s+2d09m52.304s_F475W_topsf_sci1_blt.fits\n"
     ]
    },
    {
     "name": "stdout",
     "output_type": "stream",
     "text": [
      "-Generating simple FITS output: /Users/avapolzin/Desktop/psf_testoutputs/acs/j8pu42evq_flc_150d08m15.267s+2d09m52.304s_F475W_topsf_sci1_blt.fits\n"
     ]
    },
    {
     "name": "stderr",
     "output_type": "stream",
     "text": [
      "2025-05-09 10:25:22,317 - stpipe - INFO - Writing out image to disk: /Users/avapolzin/Desktop/psf_testoutputs/acs/j8pu42evq_flc_150d08m15.267s+2d09m52.304s_F475W_topsf_sci1_blt.fits\n"
     ]
    },
    {
     "name": "stdout",
     "output_type": "stream",
     "text": [
      "Writing out image to disk: /Users/avapolzin/Desktop/psf_testoutputs/acs/j8pu42evq_flc_150d08m15.267s+2d09m52.304s_F475W_topsf_sci1_blt.fits\n"
     ]
    },
    {
     "name": "stderr",
     "output_type": "stream",
     "text": [
      "2025-05-09 10:25:22,349 - stpipe - INFO - ==== Processing Step Blot finished at 10:25:22.349 (09/05/2025)\n"
     ]
    },
    {
     "name": "stdout",
     "output_type": "stream",
     "text": [
      "==== Processing Step Blot finished at 10:25:22.349 (09/05/2025)\n"
     ]
    },
    {
     "name": "stderr",
     "output_type": "stream",
     "text": [
      "2025-05-09 10:25:22,351 - stpipe - INFO - ==== Processing Step  Driz_CR  started at  10:25:22.350 (09/05/2025)\n"
     ]
    },
    {
     "name": "stdout",
     "output_type": "stream",
     "text": [
      "==== Processing Step  Driz_CR  started at  10:25:22.350 (09/05/2025)\n"
     ]
    },
    {
     "name": "stderr",
     "output_type": "stream",
     "text": [
      "2025-05-09 10:25:22,352 - stpipe - INFO - \n"
     ]
    },
    {
     "name": "stdout",
     "output_type": "stream",
     "text": [
      "\n"
     ]
    },
    {
     "name": "stderr",
     "output_type": "stream",
     "text": [
      "2025-05-09 10:25:22,353 - stpipe - INFO - USER INPUT PARAMETERS for Driz_CR Step:\n",
      "2025-05-09 10:25:22,354 - stpipe - INFO - \tcrbit :\t4096\n",
      "2025-05-09 10:25:22,355 - stpipe - INFO - \tdriz_cr :\tTrue\n",
      "2025-05-09 10:25:22,355 - stpipe - INFO - \tdriz_cr_corr :\tFalse\n",
      "2025-05-09 10:25:22,356 - stpipe - INFO - \tdriz_cr_ctegrow :\t0\n",
      "2025-05-09 10:25:22,356 - stpipe - INFO - \tdriz_cr_grow :\t1\n",
      "2025-05-09 10:25:22,357 - stpipe - INFO - \tdriz_cr_scale :\t1.2 0.7\n",
      "2025-05-09 10:25:22,358 - stpipe - INFO - \tdriz_cr_snr :\t3.5 3.0\n",
      "2025-05-09 10:25:22,358 - stpipe - INFO - \tinmemory :\tFalse\n",
      "2025-05-09 10:25:22,359 - stpipe - INFO - Executing 4 parallel workers\n",
      "2025-05-09 10:25:23,977 - stpipe - INFO - Creating output: /Users/avapolzin/Desktop/psf_testoutputs/acs/j8pu42evq_flc_150d08m15.267s+2d09m52.304s_F475W_topsf_sci1_crmask.fits\n"
     ]
    },
    {
     "name": "stdout",
     "output_type": "stream",
     "text": [
      "Creating output: /Users/avapolzin/Desktop/psf_testoutputs/acs/j8pu42evq_flc_150d08m15.267s+2d09m52.304s_F475W_topsf_sci1_crmask.fits\n"
     ]
    },
    {
     "name": "stderr",
     "output_type": "stream",
     "text": [
      "2025-05-09 10:25:24,041 - stpipe - INFO - Creating output: /Users/avapolzin/Desktop/psf_testoutputs/acs/j8pu42esq_flc_150d08m15.267s+2d09m52.304s_F475W_topsf_sci1_crmask.fits\n"
     ]
    },
    {
     "name": "stdout",
     "output_type": "stream",
     "text": [
      "Creating output: /Users/avapolzin/Desktop/psf_testoutputs/acs/j8pu42esq_flc_150d08m15.267s+2d09m52.304s_F475W_topsf_sci1_crmask.fits\n"
     ]
    },
    {
     "name": "stderr",
     "output_type": "stream",
     "text": [
      "2025-05-09 10:25:24,203 - stpipe - INFO - Creating output: /Users/avapolzin/Desktop/psf_testoutputs/acs/j8pu42ecq_flc_150d08m15.267s+2d09m52.304s_F475W_topsf_sci1_crmask.fits\n"
     ]
    },
    {
     "name": "stdout",
     "output_type": "stream",
     "text": [
      "Creating output: /Users/avapolzin/Desktop/psf_testoutputs/acs/j8pu42ecq_flc_150d08m15.267s+2d09m52.304s_F475W_topsf_sci1_crmask.fits\n"
     ]
    },
    {
     "name": "stderr",
     "output_type": "stream",
     "text": [
      "2025-05-09 10:25:24,209 - stpipe - INFO - Creating output: /Users/avapolzin/Desktop/psf_testoutputs/acs/j8pu42egq_flc_150d08m15.267s+2d09m52.304s_F475W_topsf_sci1_crmask.fits\n"
     ]
    },
    {
     "name": "stdout",
     "output_type": "stream",
     "text": [
      "Creating output: /Users/avapolzin/Desktop/psf_testoutputs/acs/j8pu42egq_flc_150d08m15.267s+2d09m52.304s_F475W_topsf_sci1_crmask.fits\n"
     ]
    },
    {
     "name": "stderr",
     "output_type": "stream",
     "text": [
      "2025-05-09 10:25:24,256 - stpipe - INFO - ==== Processing Step Driz_CR finished at 10:25:24.254 (09/05/2025)\n"
     ]
    },
    {
     "name": "stdout",
     "output_type": "stream",
     "text": [
      "==== Processing Step Driz_CR finished at 10:25:24.254 (09/05/2025)\n"
     ]
    },
    {
     "name": "stderr",
     "output_type": "stream",
     "text": [
      "2025-05-09 10:25:24,267 - stpipe - INFO - ==== Processing Step  Final Drizzle  started at  10:25:24.267 (09/05/2025)\n"
     ]
    },
    {
     "name": "stdout",
     "output_type": "stream",
     "text": [
      "==== Processing Step  Final Drizzle  started at  10:25:24.267 (09/05/2025)\n"
     ]
    },
    {
     "name": "stderr",
     "output_type": "stream",
     "text": [
      "2025-05-09 10:25:24,269 - stpipe - INFO - \n"
     ]
    },
    {
     "name": "stdout",
     "output_type": "stream",
     "text": [
      "\n"
     ]
    },
    {
     "name": "stderr",
     "output_type": "stream",
     "text": [
      "2025-05-09 10:25:24,271 - stpipe - INFO - Interpreted paramDict with single=False as:\n",
      "{'build': True, 'stepsize': 10, 'coeffs': True, 'wcskey': '', 'wht_type': 'EXP', 'kernel': 'square', 'wt_scl': 'exptime', 'pixfrac': 0.8, 'fillval': None, 'maskval': None, 'bits': 0, 'units': 'cps'}\n",
      "2025-05-09 10:25:24,272 - stpipe - INFO - USER INPUT PARAMETERS for Final Drizzle Step:\n",
      "2025-05-09 10:25:24,273 - stpipe - INFO - \tbits :\t0\n",
      "2025-05-09 10:25:24,274 - stpipe - INFO - \tbuild :\tTrue\n",
      "2025-05-09 10:25:24,274 - stpipe - INFO - \tclean :\tFalse\n",
      "2025-05-09 10:25:24,275 - stpipe - INFO - \tcoeffs :\tTrue\n",
      "2025-05-09 10:25:24,276 - stpipe - INFO - \tcrbit :\t4096\n",
      "2025-05-09 10:25:24,277 - stpipe - INFO - \tfillval :\tNone\n",
      "2025-05-09 10:25:24,277 - stpipe - INFO - \tkernel :\tsquare\n",
      "2025-05-09 10:25:24,278 - stpipe - INFO - \tlogfile :\tastrodrizzle.log\n",
      "2025-05-09 10:25:24,279 - stpipe - INFO - \tmaskval :\tNone\n",
      "2025-05-09 10:25:24,279 - stpipe - INFO - \tpixfrac :\t0.8\n",
      "2025-05-09 10:25:24,280 - stpipe - INFO - \tproc_unit :\tnative\n",
      "2025-05-09 10:25:24,281 - stpipe - INFO - \trules_file :\tNone\n",
      "2025-05-09 10:25:24,282 - stpipe - INFO - \tstepsize :\t10\n",
      "2025-05-09 10:25:24,282 - stpipe - INFO - \tunits :\tcps\n",
      "2025-05-09 10:25:24,282 - stpipe - INFO - \twcskey :\t\n",
      "2025-05-09 10:25:24,283 - stpipe - INFO - \twht_type :\tEXP\n",
      "2025-05-09 10:25:24,284 - stpipe - INFO - \twt_scl :\texptime\n",
      "2025-05-09 10:25:24,285 - stpipe - INFO -   **Using sub-sampling value of 10 for kernel square\n",
      "2025-05-09 10:25:24,287 - stpipe - INFO - Running Drizzle to create output frame with WCS of: \n",
      "2025-05-09 10:25:24,288 - stpipe - INFO - WCS Keywords\n"
     ]
    },
    {
     "name": "stdout",
     "output_type": "stream",
     "text": [
      "WCS Keywords\n"
     ]
    },
    {
     "name": "stderr",
     "output_type": "stream",
     "text": [
      "2025-05-09 10:25:24,290 - stpipe - INFO - \n"
     ]
    },
    {
     "name": "stdout",
     "output_type": "stream",
     "text": [
      "\n"
     ]
    },
    {
     "name": "stderr",
     "output_type": "stream",
     "text": [
      "2025-05-09 10:25:24,292 - stpipe - INFO - Number of WCS axes: 2\n"
     ]
    },
    {
     "name": "stdout",
     "output_type": "stream",
     "text": [
      "Number of WCS axes: 2\n"
     ]
    },
    {
     "name": "stderr",
     "output_type": "stream",
     "text": [
      "2025-05-09 10:25:24,293 - stpipe - INFO - CTYPE : 'RA---TAN' 'DEC--TAN' \n"
     ]
    },
    {
     "name": "stdout",
     "output_type": "stream",
     "text": [
      "CTYPE : 'RA---TAN' 'DEC--TAN' \n"
     ]
    },
    {
     "name": "stderr",
     "output_type": "stream",
     "text": [
      "2025-05-09 10:25:24,295 - stpipe - INFO - CRVAL : np.float64(150.1242636198465) np.float64(2.151761555110333) \n"
     ]
    },
    {
     "name": "stdout",
     "output_type": "stream",
     "text": [
      "CRVAL : np.float64(150.1242636198465) np.float64(2.151761555110333) \n"
     ]
    },
    {
     "name": "stderr",
     "output_type": "stream",
     "text": [
      "2025-05-09 10:25:24,296 - stpipe - INFO - CRPIX : np.float64(2081.0) np.float64(1179.5) \n"
     ]
    },
    {
     "name": "stdout",
     "output_type": "stream",
     "text": [
      "CRPIX : np.float64(2081.0) np.float64(1179.5) \n"
     ]
    },
    {
     "name": "stderr",
     "output_type": "stream",
     "text": [
      "2025-05-09 10:25:24,298 - stpipe - INFO - CD1_1 CD1_2  : np.float64(-2.4118726301966414e-06) np.float64(-1.3677869168244357e-05) \n"
     ]
    },
    {
     "name": "stdout",
     "output_type": "stream",
     "text": [
      "CD1_1 CD1_2  : np.float64(-2.4118726301966414e-06) np.float64(-1.3677869168244357e-05) \n"
     ]
    },
    {
     "name": "stderr",
     "output_type": "stream",
     "text": [
      "2025-05-09 10:25:24,332 - stpipe - INFO - CD2_1 CD2_2  : np.float64(-1.3677869168244357e-05) np.float64(2.4118726301966414e-06) \n"
     ]
    },
    {
     "name": "stdout",
     "output_type": "stream",
     "text": [
      "CD2_1 CD2_2  : np.float64(-1.3677869168244357e-05) np.float64(2.4118726301966414e-06) \n"
     ]
    },
    {
     "name": "stderr",
     "output_type": "stream",
     "text": [
      "2025-05-09 10:25:24,334 - stpipe - INFO - NAXIS : 4162  2359\n"
     ]
    },
    {
     "name": "stdout",
     "output_type": "stream",
     "text": [
      "NAXIS : 4162  2359\n"
     ]
    },
    {
     "name": "stderr",
     "output_type": "stream",
     "text": [
      "2025-05-09 10:25:24,371 - stpipe - INFO - -Drizzle input: /Users/avapolzin/Desktop/psf_testoutputs/acs/j8pu42ecq_flc_150d08m15.267s+2d09m52.304s_F475W_topsf.fits[sci,1]\n",
      "2025-05-09 10:25:24,389 - stpipe - INFO - Applying sky value of 0.000000 to /Users/avapolzin/Desktop/psf_testoutputs/acs/j8pu42ecq_flc_150d08m15.267s+2d09m52.304s_F475W_topsf.fits[sci,1]\n",
      "2025-05-09 10:25:24,492 - stpipe - INFO - Applying EXPTIME weighting to DQ mask for chip 1\n",
      "2025-05-09 10:25:24,545 - stpipe - INFO - Writing out mask file: /Users/avapolzin/Desktop/psf_testoutputs/acs/j8pu42ecq_flc_150d08m15.267s+2d09m52.304s_F475W_topsf_sci1_final_mask.fits\n",
      "2025-05-09 10:25:24,546 - stpipe - INFO - Using WCSLIB-based coordinate transformation...\n",
      "2025-05-09 10:25:24,546 - stpipe - INFO - stepsize = 10\n",
      "2025-05-09 10:25:24,576 - stpipe - INFO - -Drizzling using kernel = square\n",
      "\n",
      "2025-05-09 10:25:25,733 - stpipe - INFO - -Drizzle input: /Users/avapolzin/Desktop/psf_testoutputs/acs/j8pu42egq_flc_150d08m15.267s+2d09m52.304s_F475W_topsf.fits[sci,1]\n",
      "2025-05-09 10:25:25,748 - stpipe - INFO - Applying sky value of 0.000000 to /Users/avapolzin/Desktop/psf_testoutputs/acs/j8pu42egq_flc_150d08m15.267s+2d09m52.304s_F475W_topsf.fits[sci,1]\n",
      "2025-05-09 10:25:25,809 - stpipe - INFO - Applying EXPTIME weighting to DQ mask for chip 1\n",
      "2025-05-09 10:25:25,839 - stpipe - INFO - Writing out mask file: /Users/avapolzin/Desktop/psf_testoutputs/acs/j8pu42egq_flc_150d08m15.267s+2d09m52.304s_F475W_topsf_sci1_final_mask.fits\n",
      "2025-05-09 10:25:25,840 - stpipe - INFO - Using WCSLIB-based coordinate transformation...\n",
      "2025-05-09 10:25:25,841 - stpipe - INFO - stepsize = 10\n",
      "2025-05-09 10:25:25,869 - stpipe - INFO - -Drizzling using kernel = square\n",
      "\n",
      "2025-05-09 10:25:27,039 - stpipe - INFO - -Drizzle input: /Users/avapolzin/Desktop/psf_testoutputs/acs/j8pu42esq_flc_150d08m15.267s+2d09m52.304s_F475W_topsf.fits[sci,1]\n",
      "2025-05-09 10:25:27,056 - stpipe - INFO - Applying sky value of 0.000000 to /Users/avapolzin/Desktop/psf_testoutputs/acs/j8pu42esq_flc_150d08m15.267s+2d09m52.304s_F475W_topsf.fits[sci,1]\n",
      "2025-05-09 10:25:27,120 - stpipe - INFO - Applying EXPTIME weighting to DQ mask for chip 1\n",
      "2025-05-09 10:25:27,151 - stpipe - INFO - Writing out mask file: /Users/avapolzin/Desktop/psf_testoutputs/acs/j8pu42esq_flc_150d08m15.267s+2d09m52.304s_F475W_topsf_sci1_final_mask.fits\n",
      "2025-05-09 10:25:27,152 - stpipe - INFO - Using WCSLIB-based coordinate transformation...\n",
      "2025-05-09 10:25:27,152 - stpipe - INFO - stepsize = 10\n",
      "2025-05-09 10:25:27,179 - stpipe - INFO - -Drizzling using kernel = square\n",
      "\n",
      "2025-05-09 10:25:28,358 - stpipe - INFO - -Drizzle input: /Users/avapolzin/Desktop/psf_testoutputs/acs/j8pu42evq_flc_150d08m15.267s+2d09m52.304s_F475W_topsf.fits[sci,1]\n",
      "2025-05-09 10:25:28,374 - stpipe - INFO - Applying sky value of 0.000000 to /Users/avapolzin/Desktop/psf_testoutputs/acs/j8pu42evq_flc_150d08m15.267s+2d09m52.304s_F475W_topsf.fits[sci,1]\n",
      "2025-05-09 10:25:28,433 - stpipe - INFO - Applying EXPTIME weighting to DQ mask for chip 1\n",
      "2025-05-09 10:25:28,462 - stpipe - INFO - Writing out mask file: /Users/avapolzin/Desktop/psf_testoutputs/acs/j8pu42evq_flc_150d08m15.267s+2d09m52.304s_F475W_topsf_sci1_final_mask.fits\n",
      "2025-05-09 10:25:28,463 - stpipe - INFO - Using WCSLIB-based coordinate transformation...\n",
      "2025-05-09 10:25:28,464 - stpipe - INFO - stepsize = 10\n",
      "2025-05-09 10:25:28,491 - stpipe - INFO - -Drizzling using kernel = square\n",
      "\n",
      "2025-05-09 10:25:30,070 - stpipe - INFO - -Generating multi-extension output file:  /Users/avapolzin/Desktop/psf_testoutputs/acs/150d08m15.267s+2d09m52.304s_F475W_psf_drz.fits\n"
     ]
    },
    {
     "name": "stdout",
     "output_type": "stream",
     "text": [
      "-Generating multi-extension output file:  /Users/avapolzin/Desktop/psf_testoutputs/acs/150d08m15.267s+2d09m52.304s_F475W_psf_drz.fits\n"
     ]
    },
    {
     "name": "stderr",
     "output_type": "stream",
     "text": [
      "2025-05-09 10:25:30,087 - stpipe - INFO - Deleted all instances of WCS with key A in extensions [1]\n"
     ]
    },
    {
     "name": "stdout",
     "output_type": "stream",
     "text": [
      "Deleted all instances of WCS with key A in extensions [1]\n"
     ]
    },
    {
     "name": "stderr",
     "output_type": "stream",
     "text": [
      "2025-05-09 10:25:30,093 - stpipe - INFO - Writing out to disk: /Users/avapolzin/Desktop/psf_testoutputs/acs/150d08m15.267s+2d09m52.304s_F475W_psf_drz.fits\n"
     ]
    },
    {
     "name": "stdout",
     "output_type": "stream",
     "text": [
      "Writing out to disk: /Users/avapolzin/Desktop/psf_testoutputs/acs/150d08m15.267s+2d09m52.304s_F475W_psf_drz.fits\n"
     ]
    },
    {
     "name": "stderr",
     "output_type": "stream",
     "text": [
      "2025-05-09 10:25:30,098 - stpipe - WARNING - /Users/avapolzin/opt/anaconda3/envs/spike/lib/python3.10/site-packages/astropy/io/fits/card.py:1036: VerifyWarning: Card is too long, comment will be truncated.\n",
      "\n",
      "2025-05-09 10:25:30,256 - stpipe - INFO - ==== Processing Step Final Drizzle finished at 10:25:30.256 (09/05/2025)\n"
     ]
    },
    {
     "name": "stdout",
     "output_type": "stream",
     "text": [
      "==== Processing Step Final Drizzle finished at 10:25:30.256 (09/05/2025)\n"
     ]
    },
    {
     "name": "stderr",
     "output_type": "stream",
     "text": [
      "2025-05-09 10:25:30,258 - stpipe - INFO - \n"
     ]
    },
    {
     "name": "stdout",
     "output_type": "stream",
     "text": [
      "\n"
     ]
    },
    {
     "name": "stderr",
     "output_type": "stream",
     "text": [
      "2025-05-09 10:25:30,259 - stpipe - INFO - AstroDrizzle Version 3.7.1rc1.dev56+g7951b66 is finished processing at 10:25:30.259 (09/05/2025).\n"
     ]
    },
    {
     "name": "stdout",
     "output_type": "stream",
     "text": [
      "AstroDrizzle Version 3.7.1rc1.dev56+g7951b66 is finished processing at 10:25:30.259 (09/05/2025).\n"
     ]
    },
    {
     "name": "stderr",
     "output_type": "stream",
     "text": [
      "2025-05-09 10:25:30,261 - stpipe - INFO - \n"
     ]
    },
    {
     "name": "stdout",
     "output_type": "stream",
     "text": [
      "\n"
     ]
    },
    {
     "name": "stderr",
     "output_type": "stream",
     "text": [
      "2025-05-09 10:25:30,262 - stpipe - INFO - \n"
     ]
    },
    {
     "name": "stdout",
     "output_type": "stream",
     "text": [
      "\n"
     ]
    },
    {
     "name": "stderr",
     "output_type": "stream",
     "text": [
      "2025-05-09 10:25:30,264 - stpipe - INFO - \n"
     ]
    },
    {
     "name": "stdout",
     "output_type": "stream",
     "text": [
      "\n"
     ]
    },
    {
     "name": "stderr",
     "output_type": "stream",
     "text": [
      "2025-05-09 10:25:30,265 - stpipe - INFO -    --------------------          --------------------\n"
     ]
    },
    {
     "name": "stdout",
     "output_type": "stream",
     "text": [
      "   --------------------          --------------------\n"
     ]
    },
    {
     "name": "stderr",
     "output_type": "stream",
     "text": [
      "2025-05-09 10:25:30,266 - stpipe - INFO -                    Step          Elapsed time\n"
     ]
    },
    {
     "name": "stdout",
     "output_type": "stream",
     "text": [
      "                   Step          Elapsed time\n"
     ]
    },
    {
     "name": "stderr",
     "output_type": "stream",
     "text": [
      "2025-05-09 10:25:30,267 - stpipe - INFO -    --------------------          --------------------\n"
     ]
    },
    {
     "name": "stdout",
     "output_type": "stream",
     "text": [
      "   --------------------          --------------------\n"
     ]
    },
    {
     "name": "stderr",
     "output_type": "stream",
     "text": [
      "2025-05-09 10:25:30,268 - stpipe - INFO - \n"
     ]
    },
    {
     "name": "stdout",
     "output_type": "stream",
     "text": [
      "\n"
     ]
    },
    {
     "name": "stderr",
     "output_type": "stream",
     "text": [
      "2025-05-09 10:25:30,270 - stpipe - INFO -          Initialization          0.8854 sec.\n"
     ]
    },
    {
     "name": "stdout",
     "output_type": "stream",
     "text": [
      "         Initialization          0.8854 sec.\n"
     ]
    },
    {
     "name": "stderr",
     "output_type": "stream",
     "text": [
      "2025-05-09 10:25:30,271 - stpipe - INFO -             Static Mask          0.0356 sec.\n"
     ]
    },
    {
     "name": "stdout",
     "output_type": "stream",
     "text": [
      "            Static Mask          0.0356 sec.\n"
     ]
    },
    {
     "name": "stderr",
     "output_type": "stream",
     "text": [
      "2025-05-09 10:25:30,272 - stpipe - INFO -            Subtract Sky          1.5715 sec.\n"
     ]
    },
    {
     "name": "stdout",
     "output_type": "stream",
     "text": [
      "           Subtract Sky          1.5715 sec.\n"
     ]
    },
    {
     "name": "stderr",
     "output_type": "stream",
     "text": [
      "2025-05-09 10:25:30,274 - stpipe - INFO -        Separate Drizzle          1.4153 sec.\n"
     ]
    },
    {
     "name": "stdout",
     "output_type": "stream",
     "text": [
      "       Separate Drizzle          1.4153 sec.\n"
     ]
    },
    {
     "name": "stderr",
     "output_type": "stream",
     "text": [
      "2025-05-09 10:25:30,276 - stpipe - INFO -           Create Median          1.5225 sec.\n"
     ]
    },
    {
     "name": "stdout",
     "output_type": "stream",
     "text": [
      "          Create Median          1.5225 sec.\n"
     ]
    },
    {
     "name": "stderr",
     "output_type": "stream",
     "text": [
      "2025-05-09 10:25:30,278 - stpipe - INFO -                    Blot          3.6938 sec.\n"
     ]
    },
    {
     "name": "stdout",
     "output_type": "stream",
     "text": [
      "                   Blot          3.6938 sec.\n"
     ]
    },
    {
     "name": "stderr",
     "output_type": "stream",
     "text": [
      "2025-05-09 10:25:30,311 - stpipe - INFO -                 Driz_CR          1.9034 sec.\n"
     ]
    },
    {
     "name": "stdout",
     "output_type": "stream",
     "text": [
      "                Driz_CR          1.9034 sec.\n"
     ]
    },
    {
     "name": "stderr",
     "output_type": "stream",
     "text": [
      "2025-05-09 10:25:30,313 - stpipe - INFO -           Final Drizzle          5.9894 sec.\n"
     ]
    },
    {
     "name": "stdout",
     "output_type": "stream",
     "text": [
      "          Final Drizzle          5.9894 sec.\n"
     ]
    },
    {
     "name": "stderr",
     "output_type": "stream",
     "text": [
      "2025-05-09 10:25:30,314 - stpipe - INFO -    ====================          ====================\n"
     ]
    },
    {
     "name": "stdout",
     "output_type": "stream",
     "text": [
      "   ====================          ====================\n"
     ]
    },
    {
     "name": "stderr",
     "output_type": "stream",
     "text": [
      "2025-05-09 10:25:30,315 - stpipe - INFO -                   Total          17.0170 sec.\n"
     ]
    },
    {
     "name": "stdout",
     "output_type": "stream",
     "text": [
      "                  Total          17.0170 sec.\n"
     ]
    },
    {
     "name": "stderr",
     "output_type": "stream",
     "text": [
      "2025-05-09 10:25:30,323 - stpipe - INFO - \n"
     ]
    },
    {
     "name": "stdout",
     "output_type": "stream",
     "text": [
      "\n"
     ]
    },
    {
     "name": "stderr",
     "output_type": "stream",
     "text": [
      "2025-05-09 10:25:30,334 - stpipe - INFO - Trailer file written to:  astrodrizzle.log\n"
     ]
    },
    {
     "name": "stdout",
     "output_type": "stream",
     "text": [
      "Trailer file written to:  astrodrizzle.log\n"
     ]
    },
    {
     "name": "stderr",
     "output_type": "stream",
     "text": [
      "mv: rename /Users/avapolzin/Desktop/psf_testoutputs/acs/150d08m15.267s+2d09m52.304s_F475W_psf_drz.fits to /Users/avapolzin/Desktop/psf_testoutputs/acs//Users/avapolzin/Desktop/psf_testoutputs/acs/150d08m15.267s+2d09m52.304s_psf_drz.fits: No such file or directory\n",
      "mv: rename /Users/avapolzin/Desktop/psf_testoutputs/acs/*.psf to psfs/*.psf: No such file or directory\n",
      "mv: rename /Users/avapolzin/Desktop/psf_testoutputs/acs/*.cat to psfs/*.cat: No such file or directory\n",
      "mv: rename /Users/avapolzin/Desktop/psf_testoutputs/acs/*_mask.fits to psfs/*_mask.fits: No such file or directory\n"
     ]
    }
   ],
   "source": [
    "obj = '10:00:33.0178 +02:09:52.304'\n",
    "dpsf = hst(img_dir = datapath, obj = obj, img_type = 'flc', inst = 'ACS', camera = 'WFC', \n",
    "           savedir = outputpath, pretweaked = True, method = 'STDPSF', returnpsf = 'crop')"
   ]
  },
  {
   "cell_type": "code",
   "execution_count": 12,
   "id": "f712962c-7d1a-4ffe-8cb4-9f47cfc9383c",
   "metadata": {},
   "outputs": [
    {
     "data": {
      "text/plain": [
       "{'10:00:33.0178 +02:09:52.304': {'F475W': array([[0., 0., 0., ..., 0., 0., 0.],\n",
       "         [0., 0., 0., ..., 0., 0., 0.],\n",
       "         [0., 0., 0., ..., 0., 0., 0.],\n",
       "         ...,\n",
       "         [0., 0., 0., ..., 0., 0., 0.],\n",
       "         [0., 0., 0., ..., 0., 0., 0.],\n",
       "         [0., 0., 0., ..., 0., 0., 0.]], shape=(151, 151), dtype='>f4')}}"
      ]
     },
     "execution_count": 12,
     "metadata": {},
     "output_type": "execute_result"
    }
   ],
   "source": [
    "dpsf"
   ]
  },
  {
   "cell_type": "markdown",
   "id": "cd2df098-9285-498f-b429-b9a3d90a21d6",
   "metadata": {},
   "source": [
    "`spike` can handle most plotting automatically and generates PSFs regardless of whether they are plotted. In most cases, `spike` is the only package you'll actually need to both create and visualize your PSFs."
   ]
  }
 ],
 "metadata": {
  "kernelspec": {
   "display_name": "spike",
   "language": "python",
   "name": "python3"
  },
  "language_info": {
   "codemirror_mode": {
    "name": "ipython",
    "version": 3
   },
   "file_extension": ".py",
   "mimetype": "text/x-python",
   "name": "python",
   "nbconvert_exporter": "python",
   "pygments_lexer": "ipython3",
   "version": "3.10.16"
  }
 },
 "nbformat": 4,
 "nbformat_minor": 5
}
