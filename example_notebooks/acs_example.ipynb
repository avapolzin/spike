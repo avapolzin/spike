{
 "cells": [
  {
   "cell_type": "markdown",
   "id": "7f5ebab3-edf3-4fc4-b6fc-4260d8edc52b",
   "metadata": {},
   "source": [
    "# Drizzled PSFs from _HST_/ACS Imaging\n",
    "\n",
    "This example notebook shows how `spike` interacts with _HST_/ACS imaging to generate a drizzled PSF. This notebook uses observations from [this program](https://archive.stsci.edu/cgi-bin/mastpreview?mission=hst&amp;dataid=J8PU42010). The easiest way to find these data in the MAST archive is by searching for observation ID j8pu42010. `spike` uses calibrated, but not-yet co-added images (i.e., \"Level 2\" data products), so be sure that your download includes 'flc' files. If you download all of the files associated with this program, your working directory will include:\n",
    "- j8pu42ecq_flc.fits\n",
    "- j8pu42egq_flc.fits\n",
    "- j8pu42esq_flc.fits\n",
    "- j8pu42evq_flc.fits\n",
    "\n",
    "The principle of this example notebook is the same regardless of dataset, though, so it can be used as a direct guide for use with other data, too.\n",
    "\n",
    "_NOTE: Environment variables are not always read in properly within Jupyter notebooks/JupyterLab -- see [here](https://github.com/avapolzin/spike/blob/master/example_notebooks/README.md) for some additional details of how to access them._"
   ]
  },
  {
   "cell_type": "code",
   "execution_count": 1,
   "id": "7e572886-ef3b-4485-843f-97d1e48c3052",
   "metadata": {},
   "outputs": [],
   "source": [
    "from spike.psf import hst # import the relevant top-level module from spike\n",
    "\n",
    "datapath = '/Users/avapolzin/Desktop/psf_testoutputs/acs' #'/path/to/acs/data'\n",
    "outputpath = 'psfs' #default is /psfs, defined from your working directory"
   ]
  },
  {
   "cell_type": "markdown",
   "id": "b3d835e3-fec8-4473-a69a-50ec2052c472",
   "metadata": {},
   "source": [
    "Note that if you choose to create drizzled PSFs for the same data and object location using multiple PSF generation methods, you will want to define a new 'savedir' each time to avoid conflicts between files with the same name.\n",
    "\n",
    "We'll also define an object -- in this case, a set of coordinates -- for which the PSF will be generated."
   ]
  },
  {
   "cell_type": "code",
   "execution_count": 3,
   "id": "02bdaba4-5523-4324-8c87-dd3cb3633384",
   "metadata": {},
   "outputs": [],
   "source": [
    "obj = '10:00:33.0178 +02:09:52.304' #can also be a resolvable name or coordinates in decimal degress"
   ]
  },
  {
   "cell_type": "markdown",
   "id": "7c8e698f-2486-47ea-9aea-b675bafd313a",
   "metadata": {},
   "source": [
    "Now, we can call `spike.psf.hst` -- as an initial example we'll use the most minimal inputs. By default, in addition to saving drizzled PSFs and any intermediate products in the directory given by 'savedir' (here the argument will be the outputpath variable we definied), this function will return a dictionary that stores model PSFs indexed by filter and object. \n",
    "\n",
    "If `returnpsf = 'full'` (default), the arrays in the dictionary will be the full drizzled image field of view. If `returnpsf = 'crop'`, the arrays in the dictionary will be the cutout region around the object location with the size of the cutout determined by the 'cutout_fov' argument; the cropped region around the drizzled PSF will also be saved as a FITS file, including its WCS information (can be toggled off with `savecutout = False`).\n",
    "\n",
    "`spike` assumes that the input files have not yet been \"tweaked\" and handles that step for you. If your input images have been tweaked _or_ if you would like to skip this step for other reasons, specify `pretweaked = True` in calling `spike.psf.hst`."
   ]
  },
  {
   "cell_type": "code",
   "execution_count": 4,
   "id": "d65cf833-c5e6-4d94-9816-ed11313c93d1",
   "metadata": {
    "scrolled": true
   },
   "outputs": [
    {
     "name": "stdout",
     "output_type": "stream",
     "text": [
      "\n",
      "\n",
      "The following task in the stsci.skypac package can be run with TEAL:\n",
      "                                    skymatch                                    \n"
     ]
    },
    {
     "name": "stderr",
     "output_type": "stream",
     "text": [
      "2025-05-07 19:36:37,408 - stpipe - WARNING - /Users/avapolzin/opt/anaconda3/envs/spike/lib/python3.10/site-packages/spike/psf/psf.py:185: Warning: All of major, minor, and angle must be specified to be applied. Proceeding with no elliptical jitter.\n",
      "\n"
     ]
    },
    {
     "name": "stdout",
     "output_type": "stream",
     "text": [
      "The following tasks in the drizzlepac package can be run with TEAL:\n",
      "    astrodrizzle       config_testbed      imagefindpars           mapreg       \n",
      "       photeq            pixreplace           pixtopix            pixtosky      \n",
      "  refimagefindpars       resetbits          runastrodriz          skytopix      \n",
      "     tweakback            tweakreg           updatenpol\n",
      "Tiny Tim v7.5\n",
      "Intermediate PSF dimensions are 464 by 464\n",
      "\n",
      "Computing PSF for position 1/1 (x,y) = 1020 181\n",
      "   Computing PSF 1/18 for wavelength 393.82 nm (weight=0.008917)\n",
      "   Computing PSF 2/18 for wavelength 402.92 nm (weight=0.024755)\n",
      "   Computing PSF 3/18 for wavelength 412.02 nm (weight=0.037561)\n",
      "   Computing PSF 4/18 for wavelength 421.11 nm (weight=0.045079)\n",
      "   Computing PSF 5/18 for wavelength 430.21 nm (weight=0.052658)\n",
      "   Computing PSF 6/18 for wavelength 439.31 nm (weight=0.056584)\n",
      "   Computing PSF 7/18 for wavelength 448.41 nm (weight=0.059373)\n",
      "   Computing PSF 8/18 for wavelength 457.51 nm (weight=0.061140)\n",
      "   Computing PSF 9/18 for wavelength 466.61 nm (weight=0.064193)\n",
      "   Computing PSF 10/18 for wavelength 475.70 nm (weight=0.065803)\n",
      "   Computing PSF 11/18 for wavelength 484.80 nm (weight=0.067198)\n",
      "   Computing PSF 12/18 for wavelength 493.90 nm (weight=0.069242)\n",
      "   Computing PSF 13/18 for wavelength 503.00 nm (weight=0.070478)\n",
      "   Computing PSF 14/18 for wavelength 512.10 nm (weight=0.072073)\n",
      "   Computing PSF 15/18 for wavelength 521.20 nm (weight=0.071785)\n",
      "   Computing PSF 16/18 for wavelength 530.30 nm (weight=0.070366)\n",
      "   Computing PSF 17/18 for wavelength 539.39 nm (weight=0.069026)\n",
      "   Computing PSF 18/18 for wavelength 548.49 nm (weight=0.033769)\n",
      "   Writing PSF to /Users/avapolzin/Desktop/psf_testoutputs/acs/j8pu42ecq_flc150d08m15.267s+2d09m52.304s_F475W_psf00_psf.fits\n",
      "\n",
      "Started at  Wed May  7 19:36:37 2025\n",
      "Finished at Wed May  7 19:36:40 2025\n",
      "\n",
      "Writing template optional parameter file for tiny3 to /Users/avapolzin/Desktop/psf_testoutputs/acs/j8pu42ecq_flc150d08m15.267s+2d09m52.304s_F475W_psf.tt3.\n",
      "\n",
      "To continue PSF processing for ACS and WFC3, you must run tiny3 to resample\n",
      "and distort the PSF.  You may also process a simulated scene (see\n",
      "the manual for details).\n",
      "\n",
      "Just to distort the PSF, issue this command :\n",
      "\n",
      "        tiny3 tiny.param\n",
      "\n"
     ]
    },
    {
     "name": "stderr",
     "output_type": "stream",
     "text": [
      "2025-05-07 19:36:40,946 - stpipe - WARNING - /Users/avapolzin/opt/anaconda3/envs/spike/lib/python3.10/site-packages/spike/psf/psf.py:185: Warning: All of major, minor, and angle must be specified to be applied. Proceeding with no elliptical jitter.\n",
      "\n"
     ]
    },
    {
     "name": "stdout",
     "output_type": "stream",
     "text": [
      "Tiny Tim v7.5\n",
      "Processing PSF for position 1/1 : (x,y) = 1020 181\n",
      "Reading input PSF from /Users/avapolzin/Desktop/psf_testoutputs/acs/j8pu42ecq_flc150d08m15.267s+2d09m52.304s_F475W_psf00_psf.fits.\n",
      "  Input critically-sampled undistorted PSF dimensions are 464 by 464 (0.013018 arcsec/pixel).\n",
      "  Mapping PSF onto distorted grid.\n",
      "  Convolving PSF with charge diffusion kernel.\n",
      "  Writing distorted PSF to /Users/avapolzin/Desktop/psf_testoutputs/acs/j8pu42ecq_flc150d08m15.267s+2d09m52.304s_F475W_psf00.fits (146 by 146 pixels)\n",
      "\n",
      "Started at  Wed May  7 19:36:40 2025\n",
      "Finished at Wed May  7 19:36:40 2025\n",
      "Tiny Tim v7.5\n",
      "Intermediate PSF dimensions are 464 by 464\n",
      "\n",
      "Computing PSF for position 1/1 (x,y) = 1025 242\n",
      "   Computing PSF 1/18 for wavelength 393.82 nm (weight=0.008917)\n",
      "   Computing PSF 2/18 for wavelength 402.92 nm (weight=0.024755)\n",
      "   Computing PSF 3/18 for wavelength 412.02 nm (weight=0.037561)\n",
      "   Computing PSF 4/18 for wavelength 421.11 nm (weight=0.045079)\n",
      "   Computing PSF 5/18 for wavelength 430.21 nm (weight=0.052658)\n",
      "   Computing PSF 6/18 for wavelength 439.31 nm (weight=0.056584)\n",
      "   Computing PSF 7/18 for wavelength 448.41 nm (weight=0.059373)\n",
      "   Computing PSF 8/18 for wavelength 457.51 nm (weight=0.061140)\n",
      "   Computing PSF 9/18 for wavelength 466.61 nm (weight=0.064193)\n",
      "   Computing PSF 10/18 for wavelength 475.70 nm (weight=0.065803)\n",
      "   Computing PSF 11/18 for wavelength 484.80 nm (weight=0.067198)\n",
      "   Computing PSF 12/18 for wavelength 493.90 nm (weight=0.069242)\n",
      "   Computing PSF 13/18 for wavelength 503.00 nm (weight=0.070478)\n",
      "   Computing PSF 14/18 for wavelength 512.10 nm (weight=0.072073)\n",
      "   Computing PSF 15/18 for wavelength 521.20 nm (weight=0.071785)\n",
      "   Computing PSF 16/18 for wavelength 530.30 nm (weight=0.070366)\n",
      "   Computing PSF 17/18 for wavelength 539.39 nm (weight=0.069026)\n",
      "   Computing PSF 18/18 for wavelength 548.49 nm (weight=0.033769)\n",
      "   Writing PSF to /Users/avapolzin/Desktop/psf_testoutputs/acs/j8pu42egq_flc150d08m15.267s+2d09m52.304s_F475W_psf00_psf.fits\n",
      "\n",
      "Started at  Wed May  7 19:36:40 2025\n",
      "Finished at Wed May  7 19:36:43 2025\n",
      "\n",
      "Writing template optional parameter file for tiny3 to /Users/avapolzin/Desktop/psf_testoutputs/acs/j8pu42egq_flc150d08m15.267s+2d09m52.304s_F475W_psf.tt3.\n",
      "\n",
      "To continue PSF processing for ACS and WFC3, you must run tiny3 to resample\n",
      "and distort the PSF.  You may also process a simulated scene (see\n",
      "the manual for details).\n",
      "\n",
      "Just to distort the PSF, issue this command :\n",
      "\n",
      "        tiny3 tiny.param\n",
      "\n"
     ]
    },
    {
     "name": "stderr",
     "output_type": "stream",
     "text": [
      "2025-05-07 19:36:44,132 - stpipe - WARNING - /Users/avapolzin/opt/anaconda3/envs/spike/lib/python3.10/site-packages/spike/psf/psf.py:185: Warning: All of major, minor, and angle must be specified to be applied. Proceeding with no elliptical jitter.\n",
      "\n"
     ]
    },
    {
     "name": "stdout",
     "output_type": "stream",
     "text": [
      "Tiny Tim v7.5\n",
      "Processing PSF for position 1/1 : (x,y) = 1025 242\n",
      "Reading input PSF from /Users/avapolzin/Desktop/psf_testoutputs/acs/j8pu42egq_flc150d08m15.267s+2d09m52.304s_F475W_psf00_psf.fits.\n",
      "  Input critically-sampled undistorted PSF dimensions are 464 by 464 (0.013018 arcsec/pixel).\n",
      "  Mapping PSF onto distorted grid.\n",
      "  Convolving PSF with charge diffusion kernel.\n",
      "  Writing distorted PSF to /Users/avapolzin/Desktop/psf_testoutputs/acs/j8pu42egq_flc150d08m15.267s+2d09m52.304s_F475W_psf00.fits (146 by 146 pixels)\n",
      "\n",
      "Started at  Wed May  7 19:36:43 2025\n",
      "Finished at Wed May  7 19:36:43 2025\n",
      "Tiny Tim v7.5\n",
      "Intermediate PSF dimensions are 464 by 464\n",
      "\n",
      "Computing PSF for position 1/1 (x,y) = 1025 242\n",
      "   Computing PSF 1/18 for wavelength 393.82 nm (weight=0.008917)\n",
      "   Computing PSF 2/18 for wavelength 402.92 nm (weight=0.024755)\n",
      "   Computing PSF 3/18 for wavelength 412.02 nm (weight=0.037561)\n",
      "   Computing PSF 4/18 for wavelength 421.11 nm (weight=0.045079)\n",
      "   Computing PSF 5/18 for wavelength 430.21 nm (weight=0.052658)\n",
      "   Computing PSF 6/18 for wavelength 439.31 nm (weight=0.056584)\n",
      "   Computing PSF 7/18 for wavelength 448.41 nm (weight=0.059373)\n",
      "   Computing PSF 8/18 for wavelength 457.51 nm (weight=0.061140)\n",
      "   Computing PSF 9/18 for wavelength 466.61 nm (weight=0.064193)\n",
      "   Computing PSF 10/18 for wavelength 475.70 nm (weight=0.065803)\n",
      "   Computing PSF 11/18 for wavelength 484.80 nm (weight=0.067198)\n",
      "   Computing PSF 12/18 for wavelength 493.90 nm (weight=0.069242)\n",
      "   Computing PSF 13/18 for wavelength 503.00 nm (weight=0.070478)\n",
      "   Computing PSF 14/18 for wavelength 512.10 nm (weight=0.072073)\n",
      "   Computing PSF 15/18 for wavelength 521.20 nm (weight=0.071785)\n",
      "   Computing PSF 16/18 for wavelength 530.30 nm (weight=0.070366)\n",
      "   Computing PSF 17/18 for wavelength 539.39 nm (weight=0.069026)\n",
      "   Computing PSF 18/18 for wavelength 548.49 nm (weight=0.033769)\n",
      "   Writing PSF to /Users/avapolzin/Desktop/psf_testoutputs/acs/j8pu42esq_flc150d08m15.267s+2d09m52.304s_F475W_psf00_psf.fits\n",
      "\n",
      "Started at  Wed May  7 19:36:44 2025\n",
      "Finished at Wed May  7 19:36:46 2025\n",
      "\n",
      "Writing template optional parameter file for tiny3 to /Users/avapolzin/Desktop/psf_testoutputs/acs/j8pu42esq_flc150d08m15.267s+2d09m52.304s_F475W_psf.tt3.\n",
      "\n",
      "To continue PSF processing for ACS and WFC3, you must run tiny3 to resample\n",
      "and distort the PSF.  You may also process a simulated scene (see\n",
      "the manual for details).\n",
      "\n",
      "Just to distort the PSF, issue this command :\n",
      "\n",
      "        tiny3 tiny.param\n",
      "\n",
      "Tiny Tim v7.5\n",
      "Processing PSF for position 1/1 : (x,y) = 1025 242\n",
      "Reading input PSF from /Users/avapolzin/Desktop/psf_testoutputs/acs/j8pu42esq_flc150d08m15.267s+2d09m52.304s_F475W_psf00_psf.fits.\n",
      "  Input critically-sampled undistorted PSF dimensions are 464 by 464 (0.013018 arcsec/pixel).\n",
      "  Mapping PSF onto distorted grid.\n",
      "  Convolving PSF with charge diffusion kernel.\n",
      "  Writing distorted PSF to /Users/avapolzin/Desktop/psf_testoutputs/acs/j8pu42esq_flc150d08m15.267s+2d09m52.304s_F475W_psf00.fits (146 by 146 pixels)\n",
      "\n",
      "Started at  Wed May  7 19:36:46 2025\n",
      "Finished at Wed May  7 19:36:47 2025\n"
     ]
    },
    {
     "name": "stderr",
     "output_type": "stream",
     "text": [
      "2025-05-07 19:36:47,400 - stpipe - WARNING - /Users/avapolzin/opt/anaconda3/envs/spike/lib/python3.10/site-packages/spike/psf/psf.py:185: Warning: All of major, minor, and angle must be specified to be applied. Proceeding with no elliptical jitter.\n",
      "\n"
     ]
    },
    {
     "name": "stdout",
     "output_type": "stream",
     "text": [
      "Tiny Tim v7.5\n",
      "Intermediate PSF dimensions are 464 by 464\n",
      "\n",
      "Computing PSF for position 1/1 (x,y) = 1023 363\n",
      "   Computing PSF 1/18 for wavelength 393.82 nm (weight=0.008917)\n",
      "   Computing PSF 2/18 for wavelength 402.92 nm (weight=0.024755)\n",
      "   Computing PSF 3/18 for wavelength 412.02 nm (weight=0.037561)\n",
      "   Computing PSF 4/18 for wavelength 421.11 nm (weight=0.045079)\n",
      "   Computing PSF 5/18 for wavelength 430.21 nm (weight=0.052658)\n",
      "   Computing PSF 6/18 for wavelength 439.31 nm (weight=0.056584)\n",
      "   Computing PSF 7/18 for wavelength 448.41 nm (weight=0.059373)\n",
      "   Computing PSF 8/18 for wavelength 457.51 nm (weight=0.061140)\n",
      "   Computing PSF 9/18 for wavelength 466.61 nm (weight=0.064193)\n",
      "   Computing PSF 10/18 for wavelength 475.70 nm (weight=0.065803)\n",
      "   Computing PSF 11/18 for wavelength 484.80 nm (weight=0.067198)\n",
      "   Computing PSF 12/18 for wavelength 493.90 nm (weight=0.069242)\n",
      "   Computing PSF 13/18 for wavelength 503.00 nm (weight=0.070478)\n",
      "   Computing PSF 14/18 for wavelength 512.10 nm (weight=0.072073)\n",
      "   Computing PSF 15/18 for wavelength 521.20 nm (weight=0.071785)\n",
      "   Computing PSF 16/18 for wavelength 530.30 nm (weight=0.070366)\n",
      "   Computing PSF 17/18 for wavelength 539.39 nm (weight=0.069026)\n",
      "   Computing PSF 18/18 for wavelength 548.49 nm (weight=0.033769)\n",
      "   Writing PSF to /Users/avapolzin/Desktop/psf_testoutputs/acs/j8pu42evq_flc150d08m15.267s+2d09m52.304s_F475W_psf00_psf.fits\n",
      "\n",
      "Started at  Wed May  7 19:36:47 2025\n",
      "Finished at Wed May  7 19:36:50 2025\n",
      "\n",
      "Writing template optional parameter file for tiny3 to /Users/avapolzin/Desktop/psf_testoutputs/acs/j8pu42evq_flc150d08m15.267s+2d09m52.304s_F475W_psf.tt3.\n",
      "\n",
      "To continue PSF processing for ACS and WFC3, you must run tiny3 to resample\n",
      "and distort the PSF.  You may also process a simulated scene (see\n",
      "the manual for details).\n",
      "\n",
      "Just to distort the PSF, issue this command :\n",
      "\n",
      "        tiny3 tiny.param\n",
      "\n",
      "Tiny Tim v7.5\n",
      "Processing PSF for position 1/1 : (x,y) = 1023 363\n",
      "Reading input PSF from /Users/avapolzin/Desktop/psf_testoutputs/acs/j8pu42evq_flc150d08m15.267s+2d09m52.304s_F475W_psf00_psf.fits.\n",
      "  Input critically-sampled undistorted PSF dimensions are 464 by 464 (0.013018 arcsec/pixel).\n",
      "  Mapping PSF onto distorted grid.\n",
      "  Convolving PSF with charge diffusion kernel.\n",
      "  Writing distorted PSF to /Users/avapolzin/Desktop/psf_testoutputs/acs/j8pu42evq_flc150d08m15.267s+2d09m52.304s_F475W_psf00.fits (146 by 146 pixels)\n",
      "\n",
      "Started at  Wed May  7 19:36:50 2025\n",
      "Finished at Wed May  7 19:36:50 2025\n"
     ]
    },
    {
     "name": "stderr",
     "output_type": "stream",
     "text": [
      "2025-05-07 19:36:50,616 - stpipe - INFO - Setting up logfile :  astrodrizzle.log\n"
     ]
    },
    {
     "name": "stdout",
     "output_type": "stream",
     "text": [
      "Setting up logfile :  astrodrizzle.log\n"
     ]
    },
    {
     "name": "stderr",
     "output_type": "stream",
     "text": [
      "2025-05-07 19:36:50,618 - stpipe - INFO - AstroDrizzle log file: astrodrizzle.log\n"
     ]
    },
    {
     "name": "stdout",
     "output_type": "stream",
     "text": [
      "AstroDrizzle log file: astrodrizzle.log\n"
     ]
    },
    {
     "name": "stderr",
     "output_type": "stream",
     "text": [
      "2025-05-07 19:36:50,619 - stpipe - INFO - AstroDrizzle Version 3.7.1rc1.dev56+g7951b66 started at: 19:36:50.619 (07/05/2025)\n"
     ]
    },
    {
     "name": "stdout",
     "output_type": "stream",
     "text": [
      "AstroDrizzle Version 3.7.1rc1.dev56+g7951b66 started at: 19:36:50.619 (07/05/2025)\n"
     ]
    },
    {
     "name": "stderr",
     "output_type": "stream",
     "text": [
      "2025-05-07 19:36:50,620 - stpipe - INFO - \n"
     ]
    },
    {
     "name": "stdout",
     "output_type": "stream",
     "text": [
      "\n"
     ]
    },
    {
     "name": "stderr",
     "output_type": "stream",
     "text": [
      "2025-05-07 19:36:50,620 - stpipe - INFO - Version Information\n",
      "2025-05-07 19:36:50,621 - stpipe - INFO - --------------------\n",
      "2025-05-07 19:36:50,621 - stpipe - INFO - Python Version 3.10.16 (main, Dec 11 2024, 10:24:41) [Clang 14.0.6 ]\n",
      "2025-05-07 19:36:50,622 - stpipe - INFO - numpy Version -> 2.2.1 \n",
      "2025-05-07 19:36:50,622 - stpipe - INFO - astropy Version -> 6.1.7 \n",
      "2025-05-07 19:36:50,623 - stpipe - INFO - stwcs Version -> 1.7.3 \n",
      "2025-05-07 19:36:50,623 - stpipe - INFO - photutils Version -> 2.0.2 \n",
      "2025-05-07 19:36:50,624 - stpipe - INFO - ==== Processing Step  Initialization  started at  19:36:50.624 (07/05/2025)\n"
     ]
    },
    {
     "name": "stdout",
     "output_type": "stream",
     "text": [
      "==== Processing Step  Initialization  started at  19:36:50.624 (07/05/2025)\n"
     ]
    },
    {
     "name": "stderr",
     "output_type": "stream",
     "text": [
      "2025-05-07 19:36:50,625 - stpipe - INFO - \n"
     ]
    },
    {
     "name": "stdout",
     "output_type": "stream",
     "text": [
      "\n"
     ]
    },
    {
     "name": "stderr",
     "output_type": "stream",
     "text": [
      "2025-05-07 19:36:50,640 - stpipe - INFO - Executing serially\n",
      "2025-05-07 19:36:50,658 - stpipe - INFO - Setting up output name: /Users/avapolzin/Desktop/psf_testoutputs/acs/j8pu42evq_flc_150d08m15.267s+2d09m52.304s_F475W_topsf_drz.fits\n",
      "2025-05-07 19:36:50,660 - stpipe - INFO - -Creating imageObject List as input for processing steps.\n",
      "2025-05-07 19:36:50,737 - stpipe - INFO - Reading in MDRIZSKY of 68.80198669433594\n",
      "2025-05-07 19:36:50,758 - stpipe - INFO - Reset bit values of 4096 to a value of 0 in /Users/avapolzin/Desktop/psf_testoutputs/acs/j8pu42evq_flc_150d08m15.267s+2d09m52.304s_F475W_topsf.fits[DQ,1]\n",
      "2025-05-07 19:36:50,772 - stpipe - INFO - -Creating output WCS.\n",
      "2025-05-07 19:36:50,775 - stpipe - INFO - WCS Keywords\n"
     ]
    },
    {
     "name": "stdout",
     "output_type": "stream",
     "text": [
      "WCS Keywords\n"
     ]
    },
    {
     "name": "stderr",
     "output_type": "stream",
     "text": [
      "2025-05-07 19:36:50,776 - stpipe - INFO - \n"
     ]
    },
    {
     "name": "stdout",
     "output_type": "stream",
     "text": [
      "\n"
     ]
    },
    {
     "name": "stderr",
     "output_type": "stream",
     "text": [
      "2025-05-07 19:36:50,778 - stpipe - INFO - Number of WCS axes: 2\n"
     ]
    },
    {
     "name": "stdout",
     "output_type": "stream",
     "text": [
      "Number of WCS axes: 2\n"
     ]
    },
    {
     "name": "stderr",
     "output_type": "stream",
     "text": [
      "2025-05-07 19:36:50,779 - stpipe - INFO - CTYPE : 'RA---TAN' 'DEC--TAN' \n"
     ]
    },
    {
     "name": "stdout",
     "output_type": "stream",
     "text": [
      "CTYPE : 'RA---TAN' 'DEC--TAN' \n"
     ]
    },
    {
     "name": "stderr",
     "output_type": "stream",
     "text": [
      "2025-05-07 19:36:50,780 - stpipe - INFO - CRVAL : np.float64(150.12552807603691) np.float64(2.1516092723818057) \n"
     ]
    },
    {
     "name": "stdout",
     "output_type": "stream",
     "text": [
      "CRVAL : np.float64(150.12552807603691) np.float64(2.1516092723818057) \n"
     ]
    },
    {
     "name": "stderr",
     "output_type": "stream",
     "text": [
      "2025-05-07 19:36:50,781 - stpipe - INFO - CRPIX : np.float64(2076.0) np.float64(1088.0) \n"
     ]
    },
    {
     "name": "stdout",
     "output_type": "stream",
     "text": [
      "CRPIX : np.float64(2076.0) np.float64(1088.0) \n"
     ]
    },
    {
     "name": "stderr",
     "output_type": "stream",
     "text": [
      "2025-05-07 19:36:50,782 - stpipe - INFO - CD1_1 CD1_2  : np.float64(-2.411896175124347e-06) np.float64(-1.3677865016453474e-05) \n"
     ]
    },
    {
     "name": "stdout",
     "output_type": "stream",
     "text": [
      "CD1_1 CD1_2  : np.float64(-2.411896175124347e-06) np.float64(-1.3677865016453474e-05) \n"
     ]
    },
    {
     "name": "stderr",
     "output_type": "stream",
     "text": [
      "2025-05-07 19:36:50,784 - stpipe - INFO - CD2_1 CD2_2  : np.float64(-1.3677865016453474e-05) np.float64(2.411896175124347e-06) \n"
     ]
    },
    {
     "name": "stdout",
     "output_type": "stream",
     "text": [
      "CD2_1 CD2_2  : np.float64(-1.3677865016453474e-05) np.float64(2.411896175124347e-06) \n"
     ]
    },
    {
     "name": "stderr",
     "output_type": "stream",
     "text": [
      "2025-05-07 19:36:50,785 - stpipe - INFO - NAXIS : 4152  2176\n"
     ]
    },
    {
     "name": "stdout",
     "output_type": "stream",
     "text": [
      "NAXIS : 4152  2176\n"
     ]
    },
    {
     "name": "stderr",
     "output_type": "stream",
     "text": [
      "2025-05-07 19:36:50,787 - stpipe - INFO - ********************************************************************************\n"
     ]
    },
    {
     "name": "stdout",
     "output_type": "stream",
     "text": [
      "********************************************************************************\n"
     ]
    },
    {
     "name": "stderr",
     "output_type": "stream",
     "text": [
      "2025-05-07 19:36:50,788 - stpipe - INFO - *\n"
     ]
    },
    {
     "name": "stdout",
     "output_type": "stream",
     "text": [
      "*\n"
     ]
    },
    {
     "name": "stderr",
     "output_type": "stream",
     "text": [
      "2025-05-07 19:36:50,789 - stpipe - INFO - *  Estimated memory usage:  up to 167 Mb.\n"
     ]
    },
    {
     "name": "stdout",
     "output_type": "stream",
     "text": [
      "*  Estimated memory usage:  up to 167 Mb.\n"
     ]
    },
    {
     "name": "stderr",
     "output_type": "stream",
     "text": [
      "2025-05-07 19:36:50,791 - stpipe - INFO - *  Output image size:       4152 X 2176 pixels. \n"
     ]
    },
    {
     "name": "stdout",
     "output_type": "stream",
     "text": [
      "*  Output image size:       4152 X 2176 pixels. \n"
     ]
    },
    {
     "name": "stderr",
     "output_type": "stream",
     "text": [
      "2025-05-07 19:36:50,792 - stpipe - INFO - *  Output image file:       ~ 103 Mb. \n"
     ]
    },
    {
     "name": "stdout",
     "output_type": "stream",
     "text": [
      "*  Output image file:       ~ 103 Mb. \n"
     ]
    },
    {
     "name": "stderr",
     "output_type": "stream",
     "text": [
      "2025-05-07 19:36:50,793 - stpipe - INFO - *  Cores available:         1\n"
     ]
    },
    {
     "name": "stdout",
     "output_type": "stream",
     "text": [
      "*  Cores available:         1\n"
     ]
    },
    {
     "name": "stderr",
     "output_type": "stream",
     "text": [
      "2025-05-07 19:36:50,794 - stpipe - INFO - *\n"
     ]
    },
    {
     "name": "stdout",
     "output_type": "stream",
     "text": [
      "*\n"
     ]
    },
    {
     "name": "stderr",
     "output_type": "stream",
     "text": [
      "2025-05-07 19:36:50,795 - stpipe - INFO - ********************************************************************************\n"
     ]
    },
    {
     "name": "stdout",
     "output_type": "stream",
     "text": [
      "********************************************************************************\n"
     ]
    },
    {
     "name": "stderr",
     "output_type": "stream",
     "text": [
      "2025-05-07 19:36:50,797 - stpipe - INFO - ==== Processing Step Initialization finished at 19:36:50.796 (07/05/2025)\n"
     ]
    },
    {
     "name": "stdout",
     "output_type": "stream",
     "text": [
      "==== Processing Step Initialization finished at 19:36:50.796 (07/05/2025)\n"
     ]
    },
    {
     "name": "stderr",
     "output_type": "stream",
     "text": [
      "2025-05-07 19:36:50,798 - stpipe - INFO - USER INPUT PARAMETERS common to all Processing Steps:\n",
      "2025-05-07 19:36:50,800 - stpipe - INFO - \tbuild :\tTrue\n",
      "2025-05-07 19:36:50,800 - stpipe - INFO - \tcoeffs :\tTrue\n",
      "2025-05-07 19:36:50,801 - stpipe - INFO - \tcontext :\tTrue\n",
      "2025-05-07 19:36:50,802 - stpipe - INFO - \tcrbit :\t4096\n",
      "2025-05-07 19:36:50,802 - stpipe - INFO - \tgroup :\t\n",
      "2025-05-07 19:36:50,803 - stpipe - INFO - \tin_memory :\tFalse\n",
      "2025-05-07 19:36:50,804 - stpipe - INFO - \tinput :\t['/Users/avapolzin/Desktop/psf_testoutputs/acs/j8pu42evq_flc_150d08m15.267s+2d09m52.304s_F475W_topsf.fits']\n",
      "2025-05-07 19:36:50,804 - stpipe - INFO - \tmdriztab :\tFalse\n",
      "2025-05-07 19:36:50,805 - stpipe - INFO - \tnum_cores :\tNone\n",
      "2025-05-07 19:36:50,805 - stpipe - INFO - \toutput :\t\n",
      "2025-05-07 19:36:50,806 - stpipe - INFO - \tproc_unit :\tnative\n",
      "2025-05-07 19:36:50,807 - stpipe - INFO - \tresetbits :\t4096\n",
      "2025-05-07 19:36:50,807 - stpipe - INFO - \trules_file :\t\n",
      "2025-05-07 19:36:50,808 - stpipe - INFO - \trunfile :\tastrodrizzle.log\n",
      "2025-05-07 19:36:50,808 - stpipe - INFO - \tstepsize :\t10\n",
      "2025-05-07 19:36:50,809 - stpipe - INFO - \tupdatewcs :\tFalse\n",
      "2025-05-07 19:36:50,810 - stpipe - INFO - \twcskey :\t\n",
      "2025-05-07 19:36:50,811 - stpipe - INFO - ==== Processing Step  Static Mask  started at  19:36:50.811 (07/05/2025)\n"
     ]
    },
    {
     "name": "stdout",
     "output_type": "stream",
     "text": [
      "==== Processing Step  Static Mask  started at  19:36:50.811 (07/05/2025)\n"
     ]
    },
    {
     "name": "stderr",
     "output_type": "stream",
     "text": [
      "2025-05-07 19:36:50,812 - stpipe - INFO - \n"
     ]
    },
    {
     "name": "stdout",
     "output_type": "stream",
     "text": [
      "\n"
     ]
    },
    {
     "name": "stderr",
     "output_type": "stream",
     "text": [
      "2025-05-07 19:36:50,813 - stpipe - INFO - Static Mask step not performed.\n",
      "2025-05-07 19:36:50,814 - stpipe - INFO - ==== Processing Step Static Mask finished at 19:36:50.814 (07/05/2025)\n"
     ]
    },
    {
     "name": "stdout",
     "output_type": "stream",
     "text": [
      "==== Processing Step Static Mask finished at 19:36:50.814 (07/05/2025)\n"
     ]
    },
    {
     "name": "stderr",
     "output_type": "stream",
     "text": [
      "2025-05-07 19:36:50,816 - stpipe - INFO - ==== Processing Step  Subtract Sky  started at  19:36:50.815 (07/05/2025)\n"
     ]
    },
    {
     "name": "stdout",
     "output_type": "stream",
     "text": [
      "==== Processing Step  Subtract Sky  started at  19:36:50.815 (07/05/2025)\n"
     ]
    },
    {
     "name": "stderr",
     "output_type": "stream",
     "text": [
      "2025-05-07 19:36:50,817 - stpipe - INFO - \n"
     ]
    },
    {
     "name": "stdout",
     "output_type": "stream",
     "text": [
      "\n"
     ]
    },
    {
     "name": "stderr",
     "output_type": "stream",
     "text": [
      "2025-05-07 19:36:50,818 - stpipe - INFO - USER INPUT PARAMETERS for Sky Subtraction Step:\n",
      "2025-05-07 19:36:50,819 - stpipe - INFO - \tsky_bits :\t0\n",
      "2025-05-07 19:36:50,819 - stpipe - INFO - \tskyclip :\t5\n",
      "2025-05-07 19:36:50,820 - stpipe - INFO - \tskyfile :\t\n",
      "2025-05-07 19:36:50,820 - stpipe - INFO - \tskylower :\tNone\n",
      "2025-05-07 19:36:50,820 - stpipe - INFO - \tskylsigma :\t4.0\n",
      "2025-05-07 19:36:50,821 - stpipe - INFO - \tskymask_cat :\t\n",
      "2025-05-07 19:36:50,822 - stpipe - INFO - \tskymethod :\tlocalmin\n",
      "2025-05-07 19:36:50,822 - stpipe - INFO - \tskystat :\tmedian\n",
      "2025-05-07 19:36:50,823 - stpipe - INFO - \tskysub :\tTrue\n",
      "2025-05-07 19:36:50,823 - stpipe - INFO - \tskyupper :\tNone\n",
      "2025-05-07 19:36:50,824 - stpipe - INFO - \tskyuser :\t\n",
      "2025-05-07 19:36:50,824 - stpipe - INFO - \tskyusigma :\t4.0\n",
      "2025-05-07 19:36:50,825 - stpipe - INFO - \tskywidth :\t0.1\n",
      "2025-05-07 19:36:50,826 - stpipe - INFO - \tuse_static :\tTrue\n",
      "2025-05-07 19:36:50,841 - stpipe - WARNING - Static mask for file '/Users/avapolzin/Desktop/psf_testoutputs/acs/j8pu42evq_flc_150d08m15.267s+2d09m52.304s_F475W_topsf.fits', ext=('SCI', 1) NOT FOUND.\n",
      "2025-05-07 19:36:50,858 - stpipe - INFO - ***** skymatch started on 2025-05-07 19:36:50.857919\n"
     ]
    },
    {
     "name": "stdout",
     "output_type": "stream",
     "text": [
      "***** skymatch started on 2025-05-07 19:36:50.857919\n"
     ]
    },
    {
     "name": "stderr",
     "output_type": "stream",
     "text": [
      "2025-05-07 19:36:50,859 - stpipe - INFO -       Version 1.0.10\n"
     ]
    },
    {
     "name": "stdout",
     "output_type": "stream",
     "text": [
      "      Version 1.0.10\n"
     ]
    },
    {
     "name": "stderr",
     "output_type": "stream",
     "text": [
      "2025-05-07 19:36:50,860 - stpipe - INFO - \n"
     ]
    },
    {
     "name": "stdout",
     "output_type": "stream",
     "text": [
      "\n"
     ]
    },
    {
     "name": "stderr",
     "output_type": "stream",
     "text": [
      "2025-05-07 19:36:50,861 - stpipe - INFO - 'skymatch' task will apply computed sky differences to input image file(s).\n"
     ]
    },
    {
     "name": "stdout",
     "output_type": "stream",
     "text": [
      "'skymatch' task will apply computed sky differences to input image file(s).\n"
     ]
    },
    {
     "name": "stderr",
     "output_type": "stream",
     "text": [
      "2025-05-07 19:36:50,862 - stpipe - INFO - \n"
     ]
    },
    {
     "name": "stdout",
     "output_type": "stream",
     "text": [
      "\n"
     ]
    },
    {
     "name": "stderr",
     "output_type": "stream",
     "text": [
      "2025-05-07 19:36:50,863 - stpipe - INFO - NOTE: Computed sky values WILL NOT be subtracted from image data ('subtractsky'=False).\n"
     ]
    },
    {
     "name": "stdout",
     "output_type": "stream",
     "text": [
      "NOTE: Computed sky values WILL NOT be subtracted from image data ('subtractsky'=False).\n"
     ]
    },
    {
     "name": "stderr",
     "output_type": "stream",
     "text": [
      "2025-05-07 19:36:50,864 - stpipe - INFO - 'MDRIZSKY' header keyword will represent sky value *computed* from data.\n"
     ]
    },
    {
     "name": "stdout",
     "output_type": "stream",
     "text": [
      "'MDRIZSKY' header keyword will represent sky value *computed* from data.\n"
     ]
    },
    {
     "name": "stderr",
     "output_type": "stream",
     "text": [
      "2025-05-07 19:36:50,865 - stpipe - INFO - \n"
     ]
    },
    {
     "name": "stdout",
     "output_type": "stream",
     "text": [
      "\n"
     ]
    },
    {
     "name": "stderr",
     "output_type": "stream",
     "text": [
      "2025-05-07 19:36:50,866 - stpipe - INFO - -----  User specified keywords:  -----\n"
     ]
    },
    {
     "name": "stdout",
     "output_type": "stream",
     "text": [
      "-----  User specified keywords:  -----\n"
     ]
    },
    {
     "name": "stderr",
     "output_type": "stream",
     "text": [
      "2025-05-07 19:36:50,868 - stpipe - INFO -        Sky Value Keyword:  'MDRIZSKY'\n"
     ]
    },
    {
     "name": "stdout",
     "output_type": "stream",
     "text": [
      "       Sky Value Keyword:  'MDRIZSKY'\n"
     ]
    },
    {
     "name": "stderr",
     "output_type": "stream",
     "text": [
      "2025-05-07 19:36:50,869 - stpipe - INFO -        Data Units Keyword: 'BUNIT'\n"
     ]
    },
    {
     "name": "stdout",
     "output_type": "stream",
     "text": [
      "       Data Units Keyword: 'BUNIT'\n"
     ]
    },
    {
     "name": "stderr",
     "output_type": "stream",
     "text": [
      "2025-05-07 19:36:50,870 - stpipe - INFO - \n"
     ]
    },
    {
     "name": "stdout",
     "output_type": "stream",
     "text": [
      "\n"
     ]
    },
    {
     "name": "stderr",
     "output_type": "stream",
     "text": [
      "2025-05-07 19:36:50,871 - stpipe - INFO - \n"
     ]
    },
    {
     "name": "stdout",
     "output_type": "stream",
     "text": [
      "\n"
     ]
    },
    {
     "name": "stderr",
     "output_type": "stream",
     "text": [
      "2025-05-07 19:36:50,872 - stpipe - INFO - -----  Input file list:  -----\n"
     ]
    },
    {
     "name": "stdout",
     "output_type": "stream",
     "text": [
      "-----  Input file list:  -----\n"
     ]
    },
    {
     "name": "stderr",
     "output_type": "stream",
     "text": [
      "2025-05-07 19:36:50,873 - stpipe - INFO - \n"
     ]
    },
    {
     "name": "stdout",
     "output_type": "stream",
     "text": [
      "\n"
     ]
    },
    {
     "name": "stderr",
     "output_type": "stream",
     "text": [
      "2025-05-07 19:36:50,874 - stpipe - INFO -    **  Input image: 'j8pu42evq_flc_150d08m15.267s+2d09m52.304s_F475W_topsf.fits'\n"
     ]
    },
    {
     "name": "stdout",
     "output_type": "stream",
     "text": [
      "   **  Input image: 'j8pu42evq_flc_150d08m15.267s+2d09m52.304s_F475W_topsf.fits'\n"
     ]
    },
    {
     "name": "stderr",
     "output_type": "stream",
     "text": [
      "2025-05-07 19:36:50,875 - stpipe - INFO -        EXT: 'SCI',1;\tMASK: j8pu42evq_flc_150d08m15.267s+2d09m52.304s_F475W_skymatch_mask_sci1.fits[0]\n"
     ]
    },
    {
     "name": "stdout",
     "output_type": "stream",
     "text": [
      "       EXT: 'SCI',1;\tMASK: j8pu42evq_flc_150d08m15.267s+2d09m52.304s_F475W_skymatch_mask_sci1.fits[0]\n"
     ]
    },
    {
     "name": "stderr",
     "output_type": "stream",
     "text": [
      "2025-05-07 19:36:50,876 - stpipe - INFO - \n"
     ]
    },
    {
     "name": "stdout",
     "output_type": "stream",
     "text": [
      "\n"
     ]
    },
    {
     "name": "stderr",
     "output_type": "stream",
     "text": [
      "2025-05-07 19:36:50,877 - stpipe - INFO - -----  Sky statistics parameters:  -----\n"
     ]
    },
    {
     "name": "stdout",
     "output_type": "stream",
     "text": [
      "-----  Sky statistics parameters:  -----\n"
     ]
    },
    {
     "name": "stderr",
     "output_type": "stream",
     "text": [
      "2025-05-07 19:36:50,878 - stpipe - INFO -        statistics function: 'median'\n"
     ]
    },
    {
     "name": "stdout",
     "output_type": "stream",
     "text": [
      "       statistics function: 'median'\n"
     ]
    },
    {
     "name": "stderr",
     "output_type": "stream",
     "text": [
      "2025-05-07 19:36:50,879 - stpipe - INFO -        lower = None\n"
     ]
    },
    {
     "name": "stdout",
     "output_type": "stream",
     "text": [
      "       lower = None\n"
     ]
    },
    {
     "name": "stderr",
     "output_type": "stream",
     "text": [
      "2025-05-07 19:36:50,880 - stpipe - INFO -        upper = None\n"
     ]
    },
    {
     "name": "stdout",
     "output_type": "stream",
     "text": [
      "       upper = None\n"
     ]
    },
    {
     "name": "stderr",
     "output_type": "stream",
     "text": [
      "2025-05-07 19:36:50,881 - stpipe - INFO -        nclip = 5\n"
     ]
    },
    {
     "name": "stdout",
     "output_type": "stream",
     "text": [
      "       nclip = 5\n"
     ]
    },
    {
     "name": "stderr",
     "output_type": "stream",
     "text": [
      "2025-05-07 19:36:50,882 - stpipe - INFO -        lsigma = 4.0\n"
     ]
    },
    {
     "name": "stdout",
     "output_type": "stream",
     "text": [
      "       lsigma = 4.0\n"
     ]
    },
    {
     "name": "stderr",
     "output_type": "stream",
     "text": [
      "2025-05-07 19:36:50,883 - stpipe - INFO -        usigma = 4.0\n"
     ]
    },
    {
     "name": "stdout",
     "output_type": "stream",
     "text": [
      "       usigma = 4.0\n"
     ]
    },
    {
     "name": "stderr",
     "output_type": "stream",
     "text": [
      "2025-05-07 19:36:50,885 - stpipe - INFO -        binwidth = 0.1\n"
     ]
    },
    {
     "name": "stdout",
     "output_type": "stream",
     "text": [
      "       binwidth = 0.1\n"
     ]
    },
    {
     "name": "stderr",
     "output_type": "stream",
     "text": [
      "2025-05-07 19:36:50,886 - stpipe - INFO - \n"
     ]
    },
    {
     "name": "stdout",
     "output_type": "stream",
     "text": [
      "\n"
     ]
    },
    {
     "name": "stderr",
     "output_type": "stream",
     "text": [
      "2025-05-07 19:36:50,887 - stpipe - INFO - -----  Data->Brightness conversion parameters for input files:  -----\n"
     ]
    },
    {
     "name": "stdout",
     "output_type": "stream",
     "text": [
      "-----  Data->Brightness conversion parameters for input files:  -----\n"
     ]
    },
    {
     "name": "stderr",
     "output_type": "stream",
     "text": [
      "2025-05-07 19:36:50,888 - stpipe - INFO - \n"
     ]
    },
    {
     "name": "stdout",
     "output_type": "stream",
     "text": [
      "\n"
     ]
    },
    {
     "name": "stderr",
     "output_type": "stream",
     "text": [
      "2025-05-07 19:36:50,889 - stpipe - INFO -    *   Image: j8pu42evq_flc_150d08m15.267s+2d09m52.304s_F475W_topsf.fits\n"
     ]
    },
    {
     "name": "stdout",
     "output_type": "stream",
     "text": [
      "   *   Image: j8pu42evq_flc_150d08m15.267s+2d09m52.304s_F475W_topsf.fits\n"
     ]
    },
    {
     "name": "stderr",
     "output_type": "stream",
     "text": [
      "2025-05-07 19:36:50,908 - stpipe - INFO -        EXT = 'SCI',1\n"
     ]
    },
    {
     "name": "stdout",
     "output_type": "stream",
     "text": [
      "       EXT = 'SCI',1\n"
     ]
    },
    {
     "name": "stderr",
     "output_type": "stream",
     "text": [
      "2025-05-07 19:36:50,909 - stpipe - INFO -              Data units type: COUNTS\n"
     ]
    },
    {
     "name": "stdout",
     "output_type": "stream",
     "text": [
      "             Data units type: COUNTS\n"
     ]
    },
    {
     "name": "stderr",
     "output_type": "stream",
     "text": [
      "2025-05-07 19:36:50,910 - stpipe - INFO -              EXPTIME: 507.0 [s]\n"
     ]
    },
    {
     "name": "stdout",
     "output_type": "stream",
     "text": [
      "             EXPTIME: 507.0 [s]\n"
     ]
    },
    {
     "name": "stderr",
     "output_type": "stream",
     "text": [
      "2025-05-07 19:36:50,911 - stpipe - INFO -              Conversion factor (data->brightness):  0.7889546351084812\n"
     ]
    },
    {
     "name": "stdout",
     "output_type": "stream",
     "text": [
      "             Conversion factor (data->brightness):  0.7889546351084812\n"
     ]
    },
    {
     "name": "stderr",
     "output_type": "stream",
     "text": [
      "2025-05-07 19:36:50,912 - stpipe - INFO - \n"
     ]
    },
    {
     "name": "stdout",
     "output_type": "stream",
     "text": [
      "\n"
     ]
    },
    {
     "name": "stderr",
     "output_type": "stream",
     "text": [
      "2025-05-07 19:36:50,914 - stpipe - INFO - \n"
     ]
    },
    {
     "name": "stdout",
     "output_type": "stream",
     "text": [
      "\n"
     ]
    },
    {
     "name": "stderr",
     "output_type": "stream",
     "text": [
      "2025-05-07 19:36:50,915 - stpipe - INFO - -----  Computing sky values requested image extensions (detector chips):  -----\n"
     ]
    },
    {
     "name": "stdout",
     "output_type": "stream",
     "text": [
      "-----  Computing sky values requested image extensions (detector chips):  -----\n"
     ]
    },
    {
     "name": "stderr",
     "output_type": "stream",
     "text": [
      "2025-05-07 19:36:50,916 - stpipe - INFO - \n"
     ]
    },
    {
     "name": "stdout",
     "output_type": "stream",
     "text": [
      "\n"
     ]
    },
    {
     "name": "stderr",
     "output_type": "stream",
     "text": [
      "2025-05-07 19:36:51,181 - stpipe - INFO -    *   Image:   'j8pu42evq_flc_150d08m15.267s+2d09m52.304s_F475W_topsf.fits['SCI',1]'  --  SKY = 0.0 (brightness units)\n"
     ]
    },
    {
     "name": "stdout",
     "output_type": "stream",
     "text": [
      "   *   Image:   'j8pu42evq_flc_150d08m15.267s+2d09m52.304s_F475W_topsf.fits['SCI',1]'  --  SKY = 0.0 (brightness units)\n"
     ]
    },
    {
     "name": "stderr",
     "output_type": "stream",
     "text": [
      "2025-05-07 19:36:51,182 - stpipe - INFO -        Sky change (data units):\n"
     ]
    },
    {
     "name": "stdout",
     "output_type": "stream",
     "text": [
      "       Sky change (data units):\n"
     ]
    },
    {
     "name": "stderr",
     "output_type": "stream",
     "text": [
      "2025-05-07 19:36:51,183 - stpipe - INFO -       - EXT = 'SCI',1   delta(MDRIZSKY) = 0   NEW MDRIZSKY = 0\n"
     ]
    },
    {
     "name": "stdout",
     "output_type": "stream",
     "text": [
      "      - EXT = 'SCI',1   delta(MDRIZSKY) = 0   NEW MDRIZSKY = 0\n"
     ]
    },
    {
     "name": "stderr",
     "output_type": "stream",
     "text": [
      "2025-05-07 19:36:51,184 - stpipe - INFO - ***** skymatch ended on 2025-05-07 19:36:51.184499\n"
     ]
    },
    {
     "name": "stdout",
     "output_type": "stream",
     "text": [
      "***** skymatch ended on 2025-05-07 19:36:51.184499\n"
     ]
    },
    {
     "name": "stderr",
     "output_type": "stream",
     "text": [
      "2025-05-07 19:36:51,185 - stpipe - INFO - TOTAL RUN TIME: 0:00:00.326580\n"
     ]
    },
    {
     "name": "stdout",
     "output_type": "stream",
     "text": [
      "TOTAL RUN TIME: 0:00:00.326580\n"
     ]
    },
    {
     "name": "stderr",
     "output_type": "stream",
     "text": [
      "2025-05-07 19:36:51,203 - stpipe - INFO - ==== Processing Step Subtract Sky finished at 19:36:51.203 (07/05/2025)\n"
     ]
    },
    {
     "name": "stdout",
     "output_type": "stream",
     "text": [
      "==== Processing Step Subtract Sky finished at 19:36:51.203 (07/05/2025)\n"
     ]
    },
    {
     "name": "stderr",
     "output_type": "stream",
     "text": [
      "2025-05-07 19:36:51,204 - stpipe - INFO - ==== Processing Step  Separate Drizzle  started at  19:36:51.204 (07/05/2025)\n"
     ]
    },
    {
     "name": "stdout",
     "output_type": "stream",
     "text": [
      "==== Processing Step  Separate Drizzle  started at  19:36:51.204 (07/05/2025)\n"
     ]
    },
    {
     "name": "stderr",
     "output_type": "stream",
     "text": [
      "2025-05-07 19:36:51,205 - stpipe - INFO - \n"
     ]
    },
    {
     "name": "stdout",
     "output_type": "stream",
     "text": [
      "\n"
     ]
    },
    {
     "name": "stderr",
     "output_type": "stream",
     "text": [
      "2025-05-07 19:36:51,206 - stpipe - INFO - Interpreted paramDict with single=True as:\n",
      "{'build': True, 'stepsize': 10, 'coeffs': True, 'wcskey': '', 'kernel': 'turbo', 'wt_scl': 'exptime', 'pixfrac': 1.0, 'fillval': None, 'bits': 0, 'compress': False, 'units': 'cps'}\n",
      "2025-05-07 19:36:51,206 - stpipe - INFO - USER INPUT PARAMETERS for Separate Drizzle Step:\n",
      "2025-05-07 19:36:51,207 - stpipe - INFO - \tbits :\t0\n",
      "2025-05-07 19:36:51,207 - stpipe - INFO - \tbuild :\tFalse\n",
      "2025-05-07 19:36:51,207 - stpipe - INFO - \tclean :\tFalse\n",
      "2025-05-07 19:36:51,208 - stpipe - INFO - \tcoeffs :\tTrue\n",
      "2025-05-07 19:36:51,208 - stpipe - INFO - \tcompress :\tFalse\n",
      "2025-05-07 19:36:51,208 - stpipe - INFO - \tcrbit :\tNone\n",
      "2025-05-07 19:36:51,209 - stpipe - INFO - \tfillval :\tNone\n",
      "2025-05-07 19:36:51,209 - stpipe - INFO - \tkernel :\tturbo\n",
      "2025-05-07 19:36:51,210 - stpipe - INFO - \tnum_cores :\tNone\n",
      "2025-05-07 19:36:51,210 - stpipe - INFO - \tpixfrac :\t1.0\n",
      "2025-05-07 19:36:51,211 - stpipe - INFO - \tproc_unit :\telectrons\n",
      "2025-05-07 19:36:51,211 - stpipe - INFO - \trules_file :\tNone\n",
      "2025-05-07 19:36:51,211 - stpipe - INFO - \tstepsize :\t10\n",
      "2025-05-07 19:36:51,212 - stpipe - INFO - \tunits :\tcps\n",
      "2025-05-07 19:36:51,212 - stpipe - INFO - \twcskey :\t\n",
      "2025-05-07 19:36:51,213 - stpipe - INFO - \twht_type :\tNone\n",
      "2025-05-07 19:36:51,213 - stpipe - INFO - \twt_scl :\texptime\n",
      "2025-05-07 19:36:51,214 - stpipe - INFO -   **Using sub-sampling value of 10 for kernel turbo\n",
      "2025-05-07 19:36:51,214 - stpipe - INFO - Running Drizzle to create output frame with WCS of: \n",
      "2025-05-07 19:36:51,215 - stpipe - INFO - WCS Keywords\n"
     ]
    },
    {
     "name": "stdout",
     "output_type": "stream",
     "text": [
      "WCS Keywords\n"
     ]
    },
    {
     "name": "stderr",
     "output_type": "stream",
     "text": [
      "2025-05-07 19:36:51,216 - stpipe - INFO - \n"
     ]
    },
    {
     "name": "stdout",
     "output_type": "stream",
     "text": [
      "\n"
     ]
    },
    {
     "name": "stderr",
     "output_type": "stream",
     "text": [
      "2025-05-07 19:36:51,216 - stpipe - INFO - Number of WCS axes: 2\n"
     ]
    },
    {
     "name": "stdout",
     "output_type": "stream",
     "text": [
      "Number of WCS axes: 2\n"
     ]
    },
    {
     "name": "stderr",
     "output_type": "stream",
     "text": [
      "2025-05-07 19:36:51,217 - stpipe - INFO - CTYPE : 'RA---TAN' 'DEC--TAN' \n"
     ]
    },
    {
     "name": "stdout",
     "output_type": "stream",
     "text": [
      "CTYPE : 'RA---TAN' 'DEC--TAN' \n"
     ]
    },
    {
     "name": "stderr",
     "output_type": "stream",
     "text": [
      "2025-05-07 19:36:51,218 - stpipe - INFO - CRVAL : np.float64(150.12552807603691) np.float64(2.1516092723818057) \n"
     ]
    },
    {
     "name": "stdout",
     "output_type": "stream",
     "text": [
      "CRVAL : np.float64(150.12552807603691) np.float64(2.1516092723818057) \n"
     ]
    },
    {
     "name": "stderr",
     "output_type": "stream",
     "text": [
      "2025-05-07 19:36:51,220 - stpipe - INFO - CRPIX : np.float64(2076.0) np.float64(1088.0) \n"
     ]
    },
    {
     "name": "stdout",
     "output_type": "stream",
     "text": [
      "CRPIX : np.float64(2076.0) np.float64(1088.0) \n"
     ]
    },
    {
     "name": "stderr",
     "output_type": "stream",
     "text": [
      "2025-05-07 19:36:51,221 - stpipe - INFO - CD1_1 CD1_2  : np.float64(-2.411896175124347e-06) np.float64(-1.3677865016453474e-05) \n"
     ]
    },
    {
     "name": "stdout",
     "output_type": "stream",
     "text": [
      "CD1_1 CD1_2  : np.float64(-2.411896175124347e-06) np.float64(-1.3677865016453474e-05) \n"
     ]
    },
    {
     "name": "stderr",
     "output_type": "stream",
     "text": [
      "2025-05-07 19:36:51,222 - stpipe - INFO - CD2_1 CD2_2  : np.float64(-1.3677865016453474e-05) np.float64(2.411896175124347e-06) \n"
     ]
    },
    {
     "name": "stdout",
     "output_type": "stream",
     "text": [
      "CD2_1 CD2_2  : np.float64(-1.3677865016453474e-05) np.float64(2.411896175124347e-06) \n"
     ]
    },
    {
     "name": "stderr",
     "output_type": "stream",
     "text": [
      "2025-05-07 19:36:51,223 - stpipe - INFO - NAXIS : 4152  2176\n"
     ]
    },
    {
     "name": "stdout",
     "output_type": "stream",
     "text": [
      "NAXIS : 4152  2176\n"
     ]
    },
    {
     "name": "stderr",
     "output_type": "stream",
     "text": [
      "2025-05-07 19:36:51,223 - stpipe - INFO - Executing serially\n",
      "2025-05-07 19:36:51,236 - stpipe - INFO - -Drizzle input: /Users/avapolzin/Desktop/psf_testoutputs/acs/j8pu42evq_flc_150d08m15.267s+2d09m52.304s_F475W_topsf.fits[sci,1]\n",
      "2025-05-07 19:36:51,250 - stpipe - INFO - Applying sky value of 0.000000 to /Users/avapolzin/Desktop/psf_testoutputs/acs/j8pu42evq_flc_150d08m15.267s+2d09m52.304s_F475W_topsf.fits[sci,1]\n",
      "2025-05-07 19:36:51,313 - stpipe - INFO - Writing out mask file: /Users/avapolzin/Desktop/psf_testoutputs/acs/j8pu42evq_flc_150d08m15.267s+2d09m52.304s_F475W_topsf_sci1_single_mask.fits\n",
      "2025-05-07 19:36:51,314 - stpipe - INFO - Using WCSLIB-based coordinate transformation...\n",
      "2025-05-07 19:36:51,314 - stpipe - INFO - stepsize = 10\n",
      "2025-05-07 19:36:51,342 - stpipe - INFO - -Drizzling using kernel = turbo\n",
      "\n",
      "2025-05-07 19:36:51,969 - stpipe - INFO - -Generating simple FITS output: /Users/avapolzin/Desktop/psf_testoutputs/acs/j8pu42evq_flc_150d08m15.267s+2d09m52.304s_F475W_topsf_single_sci.fits\n"
     ]
    },
    {
     "name": "stdout",
     "output_type": "stream",
     "text": [
      "-Generating simple FITS output: /Users/avapolzin/Desktop/psf_testoutputs/acs/j8pu42evq_flc_150d08m15.267s+2d09m52.304s_F475W_topsf_single_sci.fits\n"
     ]
    },
    {
     "name": "stderr",
     "output_type": "stream",
     "text": [
      "2025-05-07 19:36:51,985 - stpipe - WARNING - /Users/avapolzin/opt/anaconda3/envs/spike/lib/python3.10/site-packages/astropy/io/fits/card.py:1036: VerifyWarning: Card is too long, comment will be truncated.\n",
      "\n",
      "2025-05-07 19:36:52,022 - stpipe - INFO - Writing out image to disk: /Users/avapolzin/Desktop/psf_testoutputs/acs/j8pu42evq_flc_150d08m15.267s+2d09m52.304s_F475W_topsf_single_sci.fits\n"
     ]
    },
    {
     "name": "stdout",
     "output_type": "stream",
     "text": [
      "Writing out image to disk: /Users/avapolzin/Desktop/psf_testoutputs/acs/j8pu42evq_flc_150d08m15.267s+2d09m52.304s_F475W_topsf_single_sci.fits\n"
     ]
    },
    {
     "name": "stderr",
     "output_type": "stream",
     "text": [
      "2025-05-07 19:36:52,078 - stpipe - INFO - Writing out image to disk: /Users/avapolzin/Desktop/psf_testoutputs/acs/j8pu42evq_flc_150d08m15.267s+2d09m52.304s_F475W_topsf_single_wht.fits\n"
     ]
    },
    {
     "name": "stdout",
     "output_type": "stream",
     "text": [
      "Writing out image to disk: /Users/avapolzin/Desktop/psf_testoutputs/acs/j8pu42evq_flc_150d08m15.267s+2d09m52.304s_F475W_topsf_single_wht.fits\n"
     ]
    },
    {
     "name": "stderr",
     "output_type": "stream",
     "text": [
      "2025-05-07 19:36:52,121 - stpipe - INFO - ==== Processing Step Separate Drizzle finished at 19:36:52.121 (07/05/2025)\n"
     ]
    },
    {
     "name": "stdout",
     "output_type": "stream",
     "text": [
      "==== Processing Step Separate Drizzle finished at 19:36:52.121 (07/05/2025)\n"
     ]
    },
    {
     "name": "stderr",
     "output_type": "stream",
     "text": [
      "2025-05-07 19:36:52,122 - stpipe - INFO - ==== Processing Step  Create Median  started at  19:36:52.122 (07/05/2025)\n"
     ]
    },
    {
     "name": "stdout",
     "output_type": "stream",
     "text": [
      "==== Processing Step  Create Median  started at  19:36:52.122 (07/05/2025)\n"
     ]
    },
    {
     "name": "stderr",
     "output_type": "stream",
     "text": [
      "2025-05-07 19:36:52,123 - stpipe - INFO - \n"
     ]
    },
    {
     "name": "stdout",
     "output_type": "stream",
     "text": [
      "\n"
     ]
    },
    {
     "name": "stderr",
     "output_type": "stream",
     "text": [
      "2025-05-07 19:36:52,123 - stpipe - INFO - USER INPUT PARAMETERS for Create Median Step:\n",
      "2025-05-07 19:36:52,124 - stpipe - INFO - \tcombine_bufsize :\tNone\n",
      "2025-05-07 19:36:52,124 - stpipe - INFO - \tcombine_grow :\t1\n",
      "2025-05-07 19:36:52,125 - stpipe - INFO - \tcombine_hthresh :\tNone\n",
      "2025-05-07 19:36:52,125 - stpipe - INFO - \tcombine_lthresh :\tNone\n",
      "2025-05-07 19:36:52,125 - stpipe - INFO - \tcombine_maskpt :\t0.3\n",
      "2025-05-07 19:36:52,126 - stpipe - INFO - \tcombine_nhigh :\t0\n",
      "2025-05-07 19:36:52,126 - stpipe - INFO - \tcombine_nlow :\t0\n",
      "2025-05-07 19:36:52,126 - stpipe - INFO - \tcombine_nsigma :\t4 3\n",
      "2025-05-07 19:36:52,127 - stpipe - INFO - \tcombine_type :\timedian\n",
      "2025-05-07 19:36:52,127 - stpipe - INFO - \tcompress :\tFalse\n",
      "2025-05-07 19:36:52,127 - stpipe - INFO - \tmedian :\tTrue\n",
      "2025-05-07 19:36:52,128 - stpipe - INFO - \tmedian_newmasks :\tTrue\n",
      "2025-05-07 19:36:52,128 - stpipe - INFO - \tproc_unit :\tnative\n",
      "2025-05-07 19:36:52,189 - stpipe - INFO - reference sky value for image '/Users/avapolzin/Desktop/psf_testoutputs/acs/j8pu42evq_flc_150d08m15.267s+2d09m52.304s_F475W_topsf.fits' is 0.0\n"
     ]
    },
    {
     "name": "stdout",
     "output_type": "stream",
     "text": [
      "reference sky value for image '/Users/avapolzin/Desktop/psf_testoutputs/acs/j8pu42evq_flc_150d08m15.267s+2d09m52.304s_F475W_topsf.fits' is 0.0\n"
     ]
    },
    {
     "name": "stderr",
     "output_type": "stream",
     "text": [
      "2025-05-07 19:36:52,260 - stpipe - WARNING - /Users/avapolzin/opt/anaconda3/envs/spike/lib/python3.10/site-packages/stsci/image/combine.py:22: RuntimeWarning: invalid value encountered in cast\n",
      "\n",
      "2025-05-07 19:36:52,487 - stpipe - INFO - Saving output median image to: '/Users/avapolzin/Desktop/psf_testoutputs/acs/j8pu42evq_flc_150d08m15.267s+2d09m52.304s_F475W_topsf_med.fits'\n"
     ]
    },
    {
     "name": "stdout",
     "output_type": "stream",
     "text": [
      "Saving output median image to: '/Users/avapolzin/Desktop/psf_testoutputs/acs/j8pu42evq_flc_150d08m15.267s+2d09m52.304s_F475W_topsf_med.fits'\n"
     ]
    },
    {
     "name": "stderr",
     "output_type": "stream",
     "text": [
      "2025-05-07 19:36:52,514 - stpipe - INFO - ==== Processing Step Create Median finished at 19:36:52.514 (07/05/2025)\n"
     ]
    },
    {
     "name": "stdout",
     "output_type": "stream",
     "text": [
      "==== Processing Step Create Median finished at 19:36:52.514 (07/05/2025)\n"
     ]
    },
    {
     "name": "stderr",
     "output_type": "stream",
     "text": [
      "2025-05-07 19:36:52,515 - stpipe - INFO - ==== Processing Step  Blot  started at  19:36:52.515 (07/05/2025)\n"
     ]
    },
    {
     "name": "stdout",
     "output_type": "stream",
     "text": [
      "==== Processing Step  Blot  started at  19:36:52.515 (07/05/2025)\n"
     ]
    },
    {
     "name": "stderr",
     "output_type": "stream",
     "text": [
      "2025-05-07 19:36:52,516 - stpipe - INFO - \n"
     ]
    },
    {
     "name": "stdout",
     "output_type": "stream",
     "text": [
      "\n"
     ]
    },
    {
     "name": "stderr",
     "output_type": "stream",
     "text": [
      "2025-05-07 19:36:52,516 - stpipe - INFO - USER INPUT PARAMETERS for Blot Step:\n",
      "2025-05-07 19:36:52,517 - stpipe - INFO - \tblot_addsky :\tTrue\n",
      "2025-05-07 19:36:52,517 - stpipe - INFO - \tblot_interp :\tpoly5\n",
      "2025-05-07 19:36:52,517 - stpipe - INFO - \tblot_sinscl :\t1.0\n",
      "2025-05-07 19:36:52,518 - stpipe - INFO - \tblot_skyval :\t0.0\n",
      "2025-05-07 19:36:52,518 - stpipe - INFO - \tcoeffs :\tTrue\n",
      "2025-05-07 19:36:52,518 - stpipe - INFO -     Blot: creating blotted image:  /Users/avapolzin/Desktop/psf_testoutputs/acs/j8pu42evq_flc_150d08m15.267s+2d09m52.304s_F475W_topsf.fits[sci,1]\n"
     ]
    },
    {
     "name": "stdout",
     "output_type": "stream",
     "text": [
      "    Blot: creating blotted image:  /Users/avapolzin/Desktop/psf_testoutputs/acs/j8pu42evq_flc_150d08m15.267s+2d09m52.304s_F475W_topsf.fits[sci,1]\n"
     ]
    },
    {
     "name": "stderr",
     "output_type": "stream",
     "text": [
      "2025-05-07 19:36:52,540 - stpipe - INFO - Using default C-based coordinate transformation...\n"
     ]
    },
    {
     "name": "stdout",
     "output_type": "stream",
     "text": [
      "Using default C-based coordinate transformation...\n"
     ]
    },
    {
     "name": "stderr",
     "output_type": "stream",
     "text": [
      "2025-05-07 19:36:53,310 - stpipe - INFO - Applying sky value of 0.000000 to blotted image /Users/avapolzin/Desktop/psf_testoutputs/acs/j8pu42evq_flc_150d08m15.267s+2d09m52.304s_F475W_topsf.fits[sci,1]\n",
      "2025-05-07 19:36:53,348 - stpipe - INFO - -Generating simple FITS output: /Users/avapolzin/Desktop/psf_testoutputs/acs/j8pu42evq_flc_150d08m15.267s+2d09m52.304s_F475W_topsf_sci1_blt.fits\n"
     ]
    },
    {
     "name": "stdout",
     "output_type": "stream",
     "text": [
      "-Generating simple FITS output: /Users/avapolzin/Desktop/psf_testoutputs/acs/j8pu42evq_flc_150d08m15.267s+2d09m52.304s_F475W_topsf_sci1_blt.fits\n"
     ]
    },
    {
     "name": "stderr",
     "output_type": "stream",
     "text": [
      "2025-05-07 19:36:53,362 - stpipe - INFO - Writing out image to disk: /Users/avapolzin/Desktop/psf_testoutputs/acs/j8pu42evq_flc_150d08m15.267s+2d09m52.304s_F475W_topsf_sci1_blt.fits\n"
     ]
    },
    {
     "name": "stdout",
     "output_type": "stream",
     "text": [
      "Writing out image to disk: /Users/avapolzin/Desktop/psf_testoutputs/acs/j8pu42evq_flc_150d08m15.267s+2d09m52.304s_F475W_topsf_sci1_blt.fits\n"
     ]
    },
    {
     "name": "stderr",
     "output_type": "stream",
     "text": [
      "2025-05-07 19:36:53,393 - stpipe - INFO - ==== Processing Step Blot finished at 19:36:53.393 (07/05/2025)\n"
     ]
    },
    {
     "name": "stdout",
     "output_type": "stream",
     "text": [
      "==== Processing Step Blot finished at 19:36:53.393 (07/05/2025)\n"
     ]
    },
    {
     "name": "stderr",
     "output_type": "stream",
     "text": [
      "2025-05-07 19:36:53,394 - stpipe - INFO - ==== Processing Step  Driz_CR  started at  19:36:53.394 (07/05/2025)\n"
     ]
    },
    {
     "name": "stdout",
     "output_type": "stream",
     "text": [
      "==== Processing Step  Driz_CR  started at  19:36:53.394 (07/05/2025)\n"
     ]
    },
    {
     "name": "stderr",
     "output_type": "stream",
     "text": [
      "2025-05-07 19:36:53,395 - stpipe - INFO - \n"
     ]
    },
    {
     "name": "stdout",
     "output_type": "stream",
     "text": [
      "\n"
     ]
    },
    {
     "name": "stderr",
     "output_type": "stream",
     "text": [
      "2025-05-07 19:36:53,396 - stpipe - INFO - USER INPUT PARAMETERS for Driz_CR Step:\n",
      "2025-05-07 19:36:53,396 - stpipe - INFO - \tcrbit :\t4096\n",
      "2025-05-07 19:36:53,396 - stpipe - INFO - \tdriz_cr :\tTrue\n",
      "2025-05-07 19:36:53,397 - stpipe - INFO - \tdriz_cr_corr :\tFalse\n",
      "2025-05-07 19:36:53,397 - stpipe - INFO - \tdriz_cr_ctegrow :\t0\n",
      "2025-05-07 19:36:53,398 - stpipe - INFO - \tdriz_cr_grow :\t1\n",
      "2025-05-07 19:36:53,398 - stpipe - INFO - \tdriz_cr_scale :\t1.2 0.7\n",
      "2025-05-07 19:36:53,398 - stpipe - INFO - \tdriz_cr_snr :\t3.5 3.0\n",
      "2025-05-07 19:36:53,399 - stpipe - INFO - \tinmemory :\tFalse\n",
      "2025-05-07 19:36:53,399 - stpipe - INFO - Executing serially\n",
      "2025-05-07 19:36:54,104 - stpipe - INFO - Creating output: /Users/avapolzin/Desktop/psf_testoutputs/acs/j8pu42evq_flc_150d08m15.267s+2d09m52.304s_F475W_topsf_sci1_crmask.fits\n"
     ]
    },
    {
     "name": "stdout",
     "output_type": "stream",
     "text": [
      "Creating output: /Users/avapolzin/Desktop/psf_testoutputs/acs/j8pu42evq_flc_150d08m15.267s+2d09m52.304s_F475W_topsf_sci1_crmask.fits\n"
     ]
    },
    {
     "name": "stderr",
     "output_type": "stream",
     "text": [
      "2025-05-07 19:36:54,114 - stpipe - INFO - ==== Processing Step Driz_CR finished at 19:36:54.113 (07/05/2025)\n"
     ]
    },
    {
     "name": "stdout",
     "output_type": "stream",
     "text": [
      "==== Processing Step Driz_CR finished at 19:36:54.113 (07/05/2025)\n"
     ]
    },
    {
     "name": "stderr",
     "output_type": "stream",
     "text": [
      "2025-05-07 19:36:54,115 - stpipe - INFO - ==== Processing Step  Final Drizzle  started at  19:36:54.114 (07/05/2025)\n"
     ]
    },
    {
     "name": "stdout",
     "output_type": "stream",
     "text": [
      "==== Processing Step  Final Drizzle  started at  19:36:54.114 (07/05/2025)\n"
     ]
    },
    {
     "name": "stderr",
     "output_type": "stream",
     "text": [
      "2025-05-07 19:36:54,115 - stpipe - INFO - \n"
     ]
    },
    {
     "name": "stdout",
     "output_type": "stream",
     "text": [
      "\n"
     ]
    },
    {
     "name": "stderr",
     "output_type": "stream",
     "text": [
      "2025-05-07 19:36:54,116 - stpipe - INFO - Interpreted paramDict with single=False as:\n",
      "{'build': True, 'stepsize': 10, 'coeffs': True, 'wcskey': '', 'wht_type': 'EXP', 'kernel': 'square', 'wt_scl': 'exptime', 'pixfrac': 0.8, 'fillval': None, 'maskval': None, 'bits': 0, 'units': 'cps'}\n",
      "2025-05-07 19:36:54,117 - stpipe - INFO - USER INPUT PARAMETERS for Final Drizzle Step:\n",
      "2025-05-07 19:36:54,117 - stpipe - INFO - \tbits :\t0\n",
      "2025-05-07 19:36:54,117 - stpipe - INFO - \tbuild :\tTrue\n",
      "2025-05-07 19:36:54,118 - stpipe - INFO - \tclean :\tFalse\n",
      "2025-05-07 19:36:54,118 - stpipe - INFO - \tcoeffs :\tTrue\n",
      "2025-05-07 19:36:54,118 - stpipe - INFO - \tcrbit :\t4096\n",
      "2025-05-07 19:36:54,119 - stpipe - INFO - \tfillval :\tNone\n",
      "2025-05-07 19:36:54,119 - stpipe - INFO - \tkernel :\tsquare\n",
      "2025-05-07 19:36:54,120 - stpipe - INFO - \tlogfile :\tastrodrizzle.log\n",
      "2025-05-07 19:36:54,120 - stpipe - INFO - \tmaskval :\tNone\n",
      "2025-05-07 19:36:54,120 - stpipe - INFO - \tpixfrac :\t0.8\n",
      "2025-05-07 19:36:54,121 - stpipe - INFO - \tproc_unit :\tnative\n",
      "2025-05-07 19:36:54,121 - stpipe - INFO - \trules_file :\tNone\n",
      "2025-05-07 19:36:54,122 - stpipe - INFO - \tstepsize :\t10\n",
      "2025-05-07 19:36:54,122 - stpipe - INFO - \tunits :\tcps\n",
      "2025-05-07 19:36:54,123 - stpipe - INFO - \twcskey :\t\n",
      "2025-05-07 19:36:54,123 - stpipe - INFO - \twht_type :\tEXP\n",
      "2025-05-07 19:36:54,124 - stpipe - INFO - \twt_scl :\texptime\n",
      "2025-05-07 19:36:54,124 - stpipe - INFO -   **Using sub-sampling value of 10 for kernel square\n",
      "2025-05-07 19:36:54,125 - stpipe - INFO - Running Drizzle to create output frame with WCS of: \n",
      "2025-05-07 19:36:54,126 - stpipe - INFO - WCS Keywords\n"
     ]
    },
    {
     "name": "stdout",
     "output_type": "stream",
     "text": [
      "WCS Keywords\n"
     ]
    },
    {
     "name": "stderr",
     "output_type": "stream",
     "text": [
      "2025-05-07 19:36:54,127 - stpipe - INFO - \n"
     ]
    },
    {
     "name": "stdout",
     "output_type": "stream",
     "text": [
      "\n"
     ]
    },
    {
     "name": "stderr",
     "output_type": "stream",
     "text": [
      "2025-05-07 19:36:54,127 - stpipe - INFO - Number of WCS axes: 2\n"
     ]
    },
    {
     "name": "stdout",
     "output_type": "stream",
     "text": [
      "Number of WCS axes: 2\n"
     ]
    },
    {
     "name": "stderr",
     "output_type": "stream",
     "text": [
      "2025-05-07 19:36:54,129 - stpipe - INFO - CTYPE : 'RA---TAN' 'DEC--TAN' \n"
     ]
    },
    {
     "name": "stdout",
     "output_type": "stream",
     "text": [
      "CTYPE : 'RA---TAN' 'DEC--TAN' \n"
     ]
    },
    {
     "name": "stderr",
     "output_type": "stream",
     "text": [
      "2025-05-07 19:36:54,129 - stpipe - INFO - CRVAL : np.float64(150.12552807603691) np.float64(2.1516092723818057) \n"
     ]
    },
    {
     "name": "stdout",
     "output_type": "stream",
     "text": [
      "CRVAL : np.float64(150.12552807603691) np.float64(2.1516092723818057) \n"
     ]
    },
    {
     "name": "stderr",
     "output_type": "stream",
     "text": [
      "2025-05-07 19:36:54,130 - stpipe - INFO - CRPIX : np.float64(2076.0) np.float64(1088.0) \n"
     ]
    },
    {
     "name": "stdout",
     "output_type": "stream",
     "text": [
      "CRPIX : np.float64(2076.0) np.float64(1088.0) \n"
     ]
    },
    {
     "name": "stderr",
     "output_type": "stream",
     "text": [
      "2025-05-07 19:36:54,131 - stpipe - INFO - CD1_1 CD1_2  : np.float64(-2.411896175124347e-06) np.float64(-1.3677865016453474e-05) \n"
     ]
    },
    {
     "name": "stdout",
     "output_type": "stream",
     "text": [
      "CD1_1 CD1_2  : np.float64(-2.411896175124347e-06) np.float64(-1.3677865016453474e-05) \n"
     ]
    },
    {
     "name": "stderr",
     "output_type": "stream",
     "text": [
      "2025-05-07 19:36:54,132 - stpipe - INFO - CD2_1 CD2_2  : np.float64(-1.3677865016453474e-05) np.float64(2.411896175124347e-06) \n"
     ]
    },
    {
     "name": "stdout",
     "output_type": "stream",
     "text": [
      "CD2_1 CD2_2  : np.float64(-1.3677865016453474e-05) np.float64(2.411896175124347e-06) \n"
     ]
    },
    {
     "name": "stderr",
     "output_type": "stream",
     "text": [
      "2025-05-07 19:36:54,133 - stpipe - INFO - NAXIS : 4152  2176\n"
     ]
    },
    {
     "name": "stdout",
     "output_type": "stream",
     "text": [
      "NAXIS : 4152  2176\n"
     ]
    },
    {
     "name": "stderr",
     "output_type": "stream",
     "text": [
      "2025-05-07 19:36:54,138 - stpipe - INFO - -Drizzle input: /Users/avapolzin/Desktop/psf_testoutputs/acs/j8pu42evq_flc_150d08m15.267s+2d09m52.304s_F475W_topsf.fits[sci,1]\n",
      "2025-05-07 19:36:54,152 - stpipe - INFO - Applying sky value of 0.000000 to /Users/avapolzin/Desktop/psf_testoutputs/acs/j8pu42evq_flc_150d08m15.267s+2d09m52.304s_F475W_topsf.fits[sci,1]\n",
      "2025-05-07 19:36:54,207 - stpipe - INFO - Applying EXPTIME weighting to DQ mask for chip 1\n",
      "2025-05-07 19:36:54,241 - stpipe - INFO - Writing out mask file: /Users/avapolzin/Desktop/psf_testoutputs/acs/j8pu42evq_flc_150d08m15.267s+2d09m52.304s_F475W_topsf_sci1_final_mask.fits\n",
      "2025-05-07 19:36:54,242 - stpipe - INFO - Using WCSLIB-based coordinate transformation...\n",
      "2025-05-07 19:36:54,242 - stpipe - INFO - stepsize = 10\n",
      "2025-05-07 19:36:54,270 - stpipe - INFO - -Drizzling using kernel = square\n",
      "\n",
      "2025-05-07 19:36:55,711 - stpipe - INFO - -Generating multi-extension output file:  /Users/avapolzin/Desktop/psf_testoutputs/acs/j8pu42evq_flc_150d08m15.267s+2d09m52.304s_F475W_topsf_drz.fits\n"
     ]
    },
    {
     "name": "stdout",
     "output_type": "stream",
     "text": [
      "-Generating multi-extension output file:  /Users/avapolzin/Desktop/psf_testoutputs/acs/j8pu42evq_flc_150d08m15.267s+2d09m52.304s_F475W_topsf_drz.fits\n"
     ]
    },
    {
     "name": "stderr",
     "output_type": "stream",
     "text": [
      "2025-05-07 19:36:55,726 - stpipe - INFO - Deleted all instances of WCS with key A in extensions [1]\n"
     ]
    },
    {
     "name": "stdout",
     "output_type": "stream",
     "text": [
      "Deleted all instances of WCS with key A in extensions [1]\n"
     ]
    },
    {
     "name": "stderr",
     "output_type": "stream",
     "text": [
      "2025-05-07 19:36:55,732 - stpipe - INFO - Writing out to disk: /Users/avapolzin/Desktop/psf_testoutputs/acs/j8pu42evq_flc_150d08m15.267s+2d09m52.304s_F475W_topsf_drz.fits\n"
     ]
    },
    {
     "name": "stdout",
     "output_type": "stream",
     "text": [
      "Writing out to disk: /Users/avapolzin/Desktop/psf_testoutputs/acs/j8pu42evq_flc_150d08m15.267s+2d09m52.304s_F475W_topsf_drz.fits\n"
     ]
    },
    {
     "name": "stderr",
     "output_type": "stream",
     "text": [
      "2025-05-07 19:36:55,736 - stpipe - WARNING - /Users/avapolzin/opt/anaconda3/envs/spike/lib/python3.10/site-packages/astropy/io/fits/card.py:1036: VerifyWarning: Card is too long, comment will be truncated.\n",
      "\n",
      "2025-05-07 19:36:55,875 - stpipe - INFO - ==== Processing Step Final Drizzle finished at 19:36:55.875 (07/05/2025)\n"
     ]
    },
    {
     "name": "stdout",
     "output_type": "stream",
     "text": [
      "==== Processing Step Final Drizzle finished at 19:36:55.875 (07/05/2025)\n"
     ]
    },
    {
     "name": "stderr",
     "output_type": "stream",
     "text": [
      "2025-05-07 19:36:55,876 - stpipe - INFO - \n"
     ]
    },
    {
     "name": "stdout",
     "output_type": "stream",
     "text": [
      "\n"
     ]
    },
    {
     "name": "stderr",
     "output_type": "stream",
     "text": [
      "2025-05-07 19:36:55,877 - stpipe - INFO - AstroDrizzle Version 3.7.1rc1.dev56+g7951b66 is finished processing at 19:36:55.877 (07/05/2025).\n"
     ]
    },
    {
     "name": "stdout",
     "output_type": "stream",
     "text": [
      "AstroDrizzle Version 3.7.1rc1.dev56+g7951b66 is finished processing at 19:36:55.877 (07/05/2025).\n"
     ]
    },
    {
     "name": "stderr",
     "output_type": "stream",
     "text": [
      "2025-05-07 19:36:55,878 - stpipe - INFO - \n"
     ]
    },
    {
     "name": "stdout",
     "output_type": "stream",
     "text": [
      "\n"
     ]
    },
    {
     "name": "stderr",
     "output_type": "stream",
     "text": [
      "2025-05-07 19:36:55,879 - stpipe - INFO - \n"
     ]
    },
    {
     "name": "stdout",
     "output_type": "stream",
     "text": [
      "\n"
     ]
    },
    {
     "name": "stderr",
     "output_type": "stream",
     "text": [
      "2025-05-07 19:36:55,880 - stpipe - INFO - \n"
     ]
    },
    {
     "name": "stdout",
     "output_type": "stream",
     "text": [
      "\n"
     ]
    },
    {
     "name": "stderr",
     "output_type": "stream",
     "text": [
      "2025-05-07 19:36:55,880 - stpipe - INFO -    --------------------          --------------------\n"
     ]
    },
    {
     "name": "stdout",
     "output_type": "stream",
     "text": [
      "   --------------------          --------------------\n"
     ]
    },
    {
     "name": "stderr",
     "output_type": "stream",
     "text": [
      "2025-05-07 19:36:55,881 - stpipe - INFO -                    Step          Elapsed time\n"
     ]
    },
    {
     "name": "stdout",
     "output_type": "stream",
     "text": [
      "                   Step          Elapsed time\n"
     ]
    },
    {
     "name": "stderr",
     "output_type": "stream",
     "text": [
      "2025-05-07 19:36:55,882 - stpipe - INFO -    --------------------          --------------------\n"
     ]
    },
    {
     "name": "stdout",
     "output_type": "stream",
     "text": [
      "   --------------------          --------------------\n"
     ]
    },
    {
     "name": "stderr",
     "output_type": "stream",
     "text": [
      "2025-05-07 19:36:55,883 - stpipe - INFO - \n"
     ]
    },
    {
     "name": "stdout",
     "output_type": "stream",
     "text": [
      "\n"
     ]
    },
    {
     "name": "stderr",
     "output_type": "stream",
     "text": [
      "2025-05-07 19:36:55,884 - stpipe - INFO -          Initialization          0.1721 sec.\n"
     ]
    },
    {
     "name": "stdout",
     "output_type": "stream",
     "text": [
      "         Initialization          0.1721 sec.\n"
     ]
    },
    {
     "name": "stderr",
     "output_type": "stream",
     "text": [
      "2025-05-07 19:36:55,885 - stpipe - INFO -             Static Mask          0.0035 sec.\n"
     ]
    },
    {
     "name": "stdout",
     "output_type": "stream",
     "text": [
      "            Static Mask          0.0035 sec.\n"
     ]
    },
    {
     "name": "stderr",
     "output_type": "stream",
     "text": [
      "2025-05-07 19:36:55,886 - stpipe - INFO -            Subtract Sky          0.3878 sec.\n"
     ]
    },
    {
     "name": "stdout",
     "output_type": "stream",
     "text": [
      "           Subtract Sky          0.3878 sec.\n"
     ]
    },
    {
     "name": "stderr",
     "output_type": "stream",
     "text": [
      "2025-05-07 19:36:55,887 - stpipe - INFO -        Separate Drizzle          0.9165 sec.\n"
     ]
    },
    {
     "name": "stdout",
     "output_type": "stream",
     "text": [
      "       Separate Drizzle          0.9165 sec.\n"
     ]
    },
    {
     "name": "stderr",
     "output_type": "stream",
     "text": [
      "2025-05-07 19:36:55,888 - stpipe - INFO -           Create Median          0.3921 sec.\n"
     ]
    },
    {
     "name": "stdout",
     "output_type": "stream",
     "text": [
      "          Create Median          0.3921 sec.\n"
     ]
    },
    {
     "name": "stderr",
     "output_type": "stream",
     "text": [
      "2025-05-07 19:36:55,889 - stpipe - INFO -                    Blot          0.8781 sec.\n"
     ]
    },
    {
     "name": "stdout",
     "output_type": "stream",
     "text": [
      "                   Blot          0.8781 sec.\n"
     ]
    },
    {
     "name": "stderr",
     "output_type": "stream",
     "text": [
      "2025-05-07 19:36:55,890 - stpipe - INFO -                 Driz_CR          0.7194 sec.\n"
     ]
    },
    {
     "name": "stdout",
     "output_type": "stream",
     "text": [
      "                Driz_CR          0.7194 sec.\n"
     ]
    },
    {
     "name": "stderr",
     "output_type": "stream",
     "text": [
      "2025-05-07 19:36:55,891 - stpipe - INFO -           Final Drizzle          1.7606 sec.\n"
     ]
    },
    {
     "name": "stdout",
     "output_type": "stream",
     "text": [
      "          Final Drizzle          1.7606 sec.\n"
     ]
    },
    {
     "name": "stderr",
     "output_type": "stream",
     "text": [
      "2025-05-07 19:36:55,892 - stpipe - INFO -    ====================          ====================\n"
     ]
    },
    {
     "name": "stdout",
     "output_type": "stream",
     "text": [
      "   ====================          ====================\n"
     ]
    },
    {
     "name": "stderr",
     "output_type": "stream",
     "text": [
      "2025-05-07 19:36:55,893 - stpipe - INFO -                   Total          5.2300 sec.\n"
     ]
    },
    {
     "name": "stdout",
     "output_type": "stream",
     "text": [
      "                  Total          5.2300 sec.\n"
     ]
    },
    {
     "name": "stderr",
     "output_type": "stream",
     "text": [
      "2025-05-07 19:36:55,894 - stpipe - INFO - \n"
     ]
    },
    {
     "name": "stdout",
     "output_type": "stream",
     "text": [
      "\n"
     ]
    },
    {
     "name": "stderr",
     "output_type": "stream",
     "text": [
      "2025-05-07 19:36:55,900 - stpipe - INFO - Trailer file written to:  astrodrizzle.log\n"
     ]
    },
    {
     "name": "stdout",
     "output_type": "stream",
     "text": [
      "Trailer file written to:  astrodrizzle.log\n"
     ]
    },
    {
     "name": "stderr",
     "output_type": "stream",
     "text": [
      "mv: rename /Users/avapolzin/Desktop/psf_testoutputs/acs/*.psf to psfs/*.psf: No such file or directory\n",
      "mv: rename /Users/avapolzin/Desktop/psf_testoutputs/acs/*.cat to psfs/*.cat: No such file or directory\n",
      "mv: rename /Users/avapolzin/Desktop/psf_testoutputs/acs/*_mask.fits to psfs/*_mask.fits: No such file or directory\n"
     ]
    }
   ],
   "source": [
    "dpsf = hst(img_dir = datapath, obj = obj, img_type = 'flc', inst = 'ACS', camera = 'WFC', savedir = outputpath, pretweaked = True)"
   ]
  },
  {
   "cell_type": "markdown",
   "id": "9c7bd87a-a275-4bf2-b93e-5322a077c750",
   "metadata": {},
   "source": [
    "In this case dpsf will be very simple, since we are only looking at one set of coordinates and one filter:"
   ]
  },
  {
   "cell_type": "code",
   "execution_count": 5,
   "id": "d4c42e0d-a6db-4eb2-9449-57daff8903d7",
   "metadata": {},
   "outputs": [
    {
     "data": {
      "text/plain": [
       "{'10:00:33.0178 +02:09:52.304': {'F475W': array([[ 0.,  0.,  0., ..., nan, nan, nan],\n",
       "         [ 0.,  0.,  0., ..., nan, nan, nan],\n",
       "         [ 0.,  0.,  0., ..., nan, nan, nan],\n",
       "         ...,\n",
       "         [nan, nan, nan, ...,  0.,  0.,  0.],\n",
       "         [nan, nan, nan, ...,  0.,  0.,  0.],\n",
       "         [nan, nan, nan, ...,  0.,  0.,  0.]],\n",
       "        shape=(2176, 4152), dtype='>f4')}}"
      ]
     },
     "execution_count": 5,
     "metadata": {},
     "output_type": "execute_result"
    }
   ],
   "source": [
    "dpsf"
   ]
  },
  {
   "cell_type": "markdown",
   "id": "0cd20cec-c153-4bbc-9912-3d477a3cc809",
   "metadata": {},
   "source": [
    "By default, PSFs are generated for `spike.psf.hst` by `TinyTim` using a blackbody model of a G5V star at 6000 K, but users have complete control over the specifics of the PSF generation. To change the parameters within a method (e.g., updating model arguments, setting different detection thresholds for the empirical PSFs, ...), `spike.psf.hst` directly takes keyword arguments for specified 'method'. Details of allowed arguments are available in the `spike.psfgen` [documentation](https://spike-psf.readthedocs.io/en/latest/psfgen.html). As an example, we will change the `TinyTim` model inputs to use an O6 star at 45000 K:"
   ]
  },
  {
   "cell_type": "code",
   "execution_count": 6,
   "id": "768e0107-e831-4bca-9fe2-6af5c3a367e6",
   "metadata": {
    "scrolled": true
   },
   "outputs": [
    {
     "name": "stderr",
     "output_type": "stream",
     "text": [
      "/Users/avapolzin/opt/anaconda3/envs/spike/lib/python3.10/site-packages/spike/psf/psf.py:185: Warning: All of major, minor, and angle must be specified to be applied. Proceeding with no elliptical jitter.\n"
     ]
    },
    {
     "name": "stdout",
     "output_type": "stream",
     "text": [
      "Tiny Tim v7.5\n",
      "Intermediate PSF dimensions are 464 by 464\n",
      "\n",
      "Computing PSF for position 1/1 (x,y) = 1020 181\n",
      "   Computing PSF 1/18 for wavelength 393.82 nm (weight=0.018692)\n",
      "   Computing PSF 2/18 for wavelength 402.92 nm (weight=0.046730)\n",
      "   Computing PSF 3/18 for wavelength 412.02 nm (weight=0.064174)\n",
      "   Computing PSF 4/18 for wavelength 421.11 nm (weight=0.070042)\n",
      "   Computing PSF 5/18 for wavelength 430.21 nm (weight=0.074734)\n",
      "   Computing PSF 6/18 for wavelength 439.31 nm (weight=0.073655)\n",
      "   Computing PSF 7/18 for wavelength 448.41 nm (weight=0.071159)\n",
      "   Computing PSF 8/18 for wavelength 457.51 nm (weight=0.067712)\n",
      "   Computing PSF 9/18 for wavelength 466.61 nm (weight=0.065917)\n",
      "   Computing PSF 10/18 for wavelength 475.70 nm (weight=0.062852)\n",
      "   Computing PSF 11/18 for wavelength 484.80 nm (weight=0.059882)\n",
      "   Computing PSF 12/18 for wavelength 493.90 nm (weight=0.057730)\n",
      "   Computing PSF 13/18 for wavelength 503.00 nm (weight=0.055124)\n",
      "   Computing PSF 14/18 for wavelength 512.10 nm (weight=0.053016)\n",
      "   Computing PSF 15/18 for wavelength 521.20 nm (weight=0.049779)\n",
      "   Computing PSF 16/18 for wavelength 530.30 nm (weight=0.046104)\n",
      "   Computing PSF 17/18 for wavelength 539.39 nm (weight=0.042822)\n",
      "   Computing PSF 18/18 for wavelength 548.49 nm (weight=0.019876)\n",
      "   Writing PSF to /Users/avapolzin/Desktop/psf_testoutputs/acs/j8pu42ecq_flc150d08m15.267s+2d09m52.304s_F475W_psf00_psf.fits\n",
      "\n",
      "Started at  Wed May  7 19:38:42 2025\n",
      "Finished at Wed May  7 19:38:44 2025\n",
      "\n",
      "Writing template optional parameter file for tiny3 to /Users/avapolzin/Desktop/psf_testoutputs/acs/j8pu42ecq_flc150d08m15.267s+2d09m52.304s_F475W_psf.tt3.\n",
      "\n",
      "To continue PSF processing for ACS and WFC3, you must run tiny3 to resample\n",
      "and distort the PSF.  You may also process a simulated scene (see\n",
      "the manual for details).\n",
      "\n",
      "Just to distort the PSF, issue this command :\n",
      "\n",
      "        tiny3 tiny.param\n",
      "\n",
      "Tiny Tim v7.5\n",
      "Processing PSF for position 1/1 : (x,y) = 1020 181\n",
      "Reading input PSF from /Users/avapolzin/Desktop/psf_testoutputs/acs/j8pu42ecq_flc150d08m15.267s+2d09m52.304s_F475W_psf00_psf.fits.\n",
      "  Input critically-sampled undistorted PSF dimensions are 464 by 464 (0.013018 arcsec/pixel).\n",
      "  Mapping PSF onto distorted grid.\n",
      "  Convolving PSF with charge diffusion kernel.\n",
      "  Writing distorted PSF to /Users/avapolzin/Desktop/psf_testoutputs/acs/j8pu42ecq_flc150d08m15.267s+2d09m52.304s_F475W_psf00.fits (146 by 146 pixels)\n",
      "\n",
      "Started at  Wed May  7 19:38:44 2025\n",
      "Finished at Wed May  7 19:38:45 2025\n"
     ]
    },
    {
     "name": "stderr",
     "output_type": "stream",
     "text": [
      "/Users/avapolzin/opt/anaconda3/envs/spike/lib/python3.10/site-packages/spike/psf/psf.py:185: Warning: All of major, minor, and angle must be specified to be applied. Proceeding with no elliptical jitter.\n"
     ]
    },
    {
     "name": "stdout",
     "output_type": "stream",
     "text": [
      "Tiny Tim v7.5\n",
      "Intermediate PSF dimensions are 464 by 464\n",
      "\n",
      "Computing PSF for position 1/1 (x,y) = 1025 242\n",
      "   Computing PSF 1/18 for wavelength 393.82 nm (weight=0.018692)\n",
      "   Computing PSF 2/18 for wavelength 402.92 nm (weight=0.046730)\n",
      "   Computing PSF 3/18 for wavelength 412.02 nm (weight=0.064174)\n",
      "   Computing PSF 4/18 for wavelength 421.11 nm (weight=0.070042)\n",
      "   Computing PSF 5/18 for wavelength 430.21 nm (weight=0.074734)\n",
      "   Computing PSF 6/18 for wavelength 439.31 nm (weight=0.073655)\n",
      "   Computing PSF 7/18 for wavelength 448.41 nm (weight=0.071159)\n",
      "   Computing PSF 8/18 for wavelength 457.51 nm (weight=0.067712)\n",
      "   Computing PSF 9/18 for wavelength 466.61 nm (weight=0.065917)\n",
      "   Computing PSF 10/18 for wavelength 475.70 nm (weight=0.062852)\n",
      "   Computing PSF 11/18 for wavelength 484.80 nm (weight=0.059882)\n",
      "   Computing PSF 12/18 for wavelength 493.90 nm (weight=0.057730)\n",
      "   Computing PSF 13/18 for wavelength 503.00 nm (weight=0.055124)\n",
      "   Computing PSF 14/18 for wavelength 512.10 nm (weight=0.053016)\n",
      "   Computing PSF 15/18 for wavelength 521.20 nm (weight=0.049779)\n",
      "   Computing PSF 16/18 for wavelength 530.30 nm (weight=0.046104)\n",
      "   Computing PSF 17/18 for wavelength 539.39 nm (weight=0.042822)\n",
      "   Computing PSF 18/18 for wavelength 548.49 nm (weight=0.019876)\n",
      "   Writing PSF to /Users/avapolzin/Desktop/psf_testoutputs/acs/j8pu42egq_flc150d08m15.267s+2d09m52.304s_F475W_psf00_psf.fits\n",
      "\n",
      "Started at  Wed May  7 19:38:45 2025\n",
      "Finished at Wed May  7 19:38:48 2025\n",
      "\n",
      "Writing template optional parameter file for tiny3 to /Users/avapolzin/Desktop/psf_testoutputs/acs/j8pu42egq_flc150d08m15.267s+2d09m52.304s_F475W_psf.tt3.\n",
      "\n",
      "To continue PSF processing for ACS and WFC3, you must run tiny3 to resample\n",
      "and distort the PSF.  You may also process a simulated scene (see\n",
      "the manual for details).\n",
      "\n",
      "Just to distort the PSF, issue this command :\n",
      "\n",
      "        tiny3 tiny.param\n",
      "\n",
      "Tiny Tim v7.5\n",
      "Processing PSF for position 1/1 : (x,y) = 1025 242\n",
      "Reading input PSF from /Users/avapolzin/Desktop/psf_testoutputs/acs/j8pu42egq_flc150d08m15.267s+2d09m52.304s_F475W_psf00_psf.fits.\n",
      "  Input critically-sampled undistorted PSF dimensions are 464 by 464 (0.013018 arcsec/pixel).\n",
      "  Mapping PSF onto distorted grid.\n",
      "  Convolving PSF with charge diffusion kernel.\n",
      "  Writing distorted PSF to /Users/avapolzin/Desktop/psf_testoutputs/acs/j8pu42egq_flc150d08m15.267s+2d09m52.304s_F475W_psf00.fits (146 by 146 pixels)\n",
      "\n",
      "Started at  Wed May  7 19:38:48 2025\n",
      "Finished at Wed May  7 19:38:48 2025\n"
     ]
    },
    {
     "name": "stderr",
     "output_type": "stream",
     "text": [
      "/Users/avapolzin/opt/anaconda3/envs/spike/lib/python3.10/site-packages/spike/psf/psf.py:185: Warning: All of major, minor, and angle must be specified to be applied. Proceeding with no elliptical jitter.\n"
     ]
    },
    {
     "name": "stdout",
     "output_type": "stream",
     "text": [
      "Tiny Tim v7.5\n",
      "Intermediate PSF dimensions are 464 by 464\n",
      "\n",
      "Computing PSF for position 1/1 (x,y) = 1025 242\n",
      "   Computing PSF 1/18 for wavelength 393.82 nm (weight=0.018692)\n",
      "   Computing PSF 2/18 for wavelength 402.92 nm (weight=0.046730)\n",
      "   Computing PSF 3/18 for wavelength 412.02 nm (weight=0.064174)\n",
      "   Computing PSF 4/18 for wavelength 421.11 nm (weight=0.070042)\n",
      "   Computing PSF 5/18 for wavelength 430.21 nm (weight=0.074734)\n",
      "   Computing PSF 6/18 for wavelength 439.31 nm (weight=0.073655)\n",
      "   Computing PSF 7/18 for wavelength 448.41 nm (weight=0.071159)\n",
      "   Computing PSF 8/18 for wavelength 457.51 nm (weight=0.067712)\n",
      "   Computing PSF 9/18 for wavelength 466.61 nm (weight=0.065917)\n",
      "   Computing PSF 10/18 for wavelength 475.70 nm (weight=0.062852)\n",
      "   Computing PSF 11/18 for wavelength 484.80 nm (weight=0.059882)\n",
      "   Computing PSF 12/18 for wavelength 493.90 nm (weight=0.057730)\n",
      "   Computing PSF 13/18 for wavelength 503.00 nm (weight=0.055124)\n",
      "   Computing PSF 14/18 for wavelength 512.10 nm (weight=0.053016)\n",
      "   Computing PSF 15/18 for wavelength 521.20 nm (weight=0.049779)\n",
      "   Computing PSF 16/18 for wavelength 530.30 nm (weight=0.046104)\n",
      "   Computing PSF 17/18 for wavelength 539.39 nm (weight=0.042822)\n",
      "   Computing PSF 18/18 for wavelength 548.49 nm (weight=0.019876)\n",
      "   Writing PSF to /Users/avapolzin/Desktop/psf_testoutputs/acs/j8pu42esq_flc150d08m15.267s+2d09m52.304s_F475W_psf00_psf.fits\n",
      "\n",
      "Started at  Wed May  7 19:38:48 2025\n",
      "Finished at Wed May  7 19:38:51 2025\n",
      "\n",
      "Writing template optional parameter file for tiny3 to /Users/avapolzin/Desktop/psf_testoutputs/acs/j8pu42esq_flc150d08m15.267s+2d09m52.304s_F475W_psf.tt3.\n",
      "\n",
      "To continue PSF processing for ACS and WFC3, you must run tiny3 to resample\n",
      "and distort the PSF.  You may also process a simulated scene (see\n",
      "the manual for details).\n",
      "\n",
      "Just to distort the PSF, issue this command :\n",
      "\n",
      "        tiny3 tiny.param\n",
      "\n",
      "Tiny Tim v7.5\n",
      "Processing PSF for position 1/1 : (x,y) = 1025 242\n",
      "Reading input PSF from /Users/avapolzin/Desktop/psf_testoutputs/acs/j8pu42esq_flc150d08m15.267s+2d09m52.304s_F475W_psf00_psf.fits.\n",
      "  Input critically-sampled undistorted PSF dimensions are 464 by 464 (0.013018 arcsec/pixel).\n",
      "  Mapping PSF onto distorted grid.\n",
      "  Convolving PSF with charge diffusion kernel.\n",
      "  Writing distorted PSF to /Users/avapolzin/Desktop/psf_testoutputs/acs/j8pu42esq_flc150d08m15.267s+2d09m52.304s_F475W_psf00.fits (146 by 146 pixels)\n",
      "\n",
      "Started at  Wed May  7 19:38:51 2025\n",
      "Finished at Wed May  7 19:38:51 2025\n"
     ]
    },
    {
     "name": "stderr",
     "output_type": "stream",
     "text": [
      "/Users/avapolzin/opt/anaconda3/envs/spike/lib/python3.10/site-packages/spike/psf/psf.py:185: Warning: All of major, minor, and angle must be specified to be applied. Proceeding with no elliptical jitter.\n"
     ]
    },
    {
     "name": "stdout",
     "output_type": "stream",
     "text": [
      "Tiny Tim v7.5\n",
      "Intermediate PSF dimensions are 464 by 464\n",
      "\n",
      "Computing PSF for position 1/1 (x,y) = 1023 363\n",
      "   Computing PSF 1/18 for wavelength 393.82 nm (weight=0.018692)\n",
      "   Computing PSF 2/18 for wavelength 402.92 nm (weight=0.046730)\n",
      "   Computing PSF 3/18 for wavelength 412.02 nm (weight=0.064174)\n",
      "   Computing PSF 4/18 for wavelength 421.11 nm (weight=0.070042)\n",
      "   Computing PSF 5/18 for wavelength 430.21 nm (weight=0.074734)\n",
      "   Computing PSF 6/18 for wavelength 439.31 nm (weight=0.073655)\n",
      "   Computing PSF 7/18 for wavelength 448.41 nm (weight=0.071159)\n",
      "   Computing PSF 8/18 for wavelength 457.51 nm (weight=0.067712)\n",
      "   Computing PSF 9/18 for wavelength 466.61 nm (weight=0.065917)\n",
      "   Computing PSF 10/18 for wavelength 475.70 nm (weight=0.062852)\n",
      "   Computing PSF 11/18 for wavelength 484.80 nm (weight=0.059882)\n",
      "   Computing PSF 12/18 for wavelength 493.90 nm (weight=0.057730)\n",
      "   Computing PSF 13/18 for wavelength 503.00 nm (weight=0.055124)\n",
      "   Computing PSF 14/18 for wavelength 512.10 nm (weight=0.053016)\n",
      "   Computing PSF 15/18 for wavelength 521.20 nm (weight=0.049779)\n",
      "   Computing PSF 16/18 for wavelength 530.30 nm (weight=0.046104)\n",
      "   Computing PSF 17/18 for wavelength 539.39 nm (weight=0.042822)\n",
      "   Computing PSF 18/18 for wavelength 548.49 nm (weight=0.019876)\n",
      "   Writing PSF to /Users/avapolzin/Desktop/psf_testoutputs/acs/j8pu42evq_flc150d08m15.267s+2d09m52.304s_F475W_psf00_psf.fits\n",
      "\n",
      "Started at  Wed May  7 19:38:51 2025\n",
      "Finished at Wed May  7 19:38:54 2025\n",
      "\n",
      "Writing template optional parameter file for tiny3 to /Users/avapolzin/Desktop/psf_testoutputs/acs/j8pu42evq_flc150d08m15.267s+2d09m52.304s_F475W_psf.tt3.\n",
      "\n",
      "To continue PSF processing for ACS and WFC3, you must run tiny3 to resample\n",
      "and distort the PSF.  You may also process a simulated scene (see\n",
      "the manual for details).\n",
      "\n",
      "Just to distort the PSF, issue this command :\n",
      "\n",
      "        tiny3 tiny.param\n",
      "\n"
     ]
    },
    {
     "name": "stderr",
     "output_type": "stream",
     "text": [
      "2025-05-07 19:38:54,836 - stpipe - INFO - Setting up logfile :  astrodrizzle.log\n"
     ]
    },
    {
     "name": "stdout",
     "output_type": "stream",
     "text": [
      "Tiny Tim v7.5\n",
      "Processing PSF for position 1/1 : (x,y) = 1023 363\n",
      "Reading input PSF from /Users/avapolzin/Desktop/psf_testoutputs/acs/j8pu42evq_flc150d08m15.267s+2d09m52.304s_F475W_psf00_psf.fits.\n",
      "  Input critically-sampled undistorted PSF dimensions are 464 by 464 (0.013018 arcsec/pixel).\n",
      "  Mapping PSF onto distorted grid.\n",
      "  Convolving PSF with charge diffusion kernel.\n",
      "  Writing distorted PSF to /Users/avapolzin/Desktop/psf_testoutputs/acs/j8pu42evq_flc150d08m15.267s+2d09m52.304s_F475W_psf00.fits (146 by 146 pixels)\n",
      "\n",
      "Started at  Wed May  7 19:38:54 2025\n",
      "Finished at Wed May  7 19:38:54 2025\n",
      "Setting up logfile :  astrodrizzle.log\n"
     ]
    },
    {
     "name": "stderr",
     "output_type": "stream",
     "text": [
      "2025-05-07 19:38:54,838 - stpipe - INFO - AstroDrizzle log file: astrodrizzle.log\n"
     ]
    },
    {
     "name": "stdout",
     "output_type": "stream",
     "text": [
      "AstroDrizzle log file: astrodrizzle.log\n"
     ]
    },
    {
     "name": "stderr",
     "output_type": "stream",
     "text": [
      "2025-05-07 19:38:54,839 - stpipe - INFO - AstroDrizzle Version 3.7.1rc1.dev56+g7951b66 started at: 19:38:54.838 (07/05/2025)\n"
     ]
    },
    {
     "name": "stdout",
     "output_type": "stream",
     "text": [
      "AstroDrizzle Version 3.7.1rc1.dev56+g7951b66 started at: 19:38:54.838 (07/05/2025)\n"
     ]
    },
    {
     "name": "stderr",
     "output_type": "stream",
     "text": [
      "2025-05-07 19:38:54,839 - stpipe - INFO - \n"
     ]
    },
    {
     "name": "stdout",
     "output_type": "stream",
     "text": [
      "\n"
     ]
    },
    {
     "name": "stderr",
     "output_type": "stream",
     "text": [
      "2025-05-07 19:38:54,840 - stpipe - INFO - Version Information\n",
      "2025-05-07 19:38:54,840 - stpipe - INFO - --------------------\n",
      "2025-05-07 19:38:54,841 - stpipe - INFO - Python Version 3.10.16 (main, Dec 11 2024, 10:24:41) [Clang 14.0.6 ]\n",
      "2025-05-07 19:38:54,841 - stpipe - INFO - numpy Version -> 2.2.1 \n",
      "2025-05-07 19:38:54,841 - stpipe - INFO - astropy Version -> 6.1.7 \n",
      "2025-05-07 19:38:54,842 - stpipe - INFO - stwcs Version -> 1.7.3 \n",
      "2025-05-07 19:38:54,842 - stpipe - INFO - photutils Version -> 2.0.2 \n",
      "2025-05-07 19:38:54,843 - stpipe - INFO - ==== Processing Step  Initialization  started at  19:38:54.843 (07/05/2025)\n"
     ]
    },
    {
     "name": "stdout",
     "output_type": "stream",
     "text": [
      "==== Processing Step  Initialization  started at  19:38:54.843 (07/05/2025)\n"
     ]
    },
    {
     "name": "stderr",
     "output_type": "stream",
     "text": [
      "2025-05-07 19:38:54,844 - stpipe - INFO - \n"
     ]
    },
    {
     "name": "stdout",
     "output_type": "stream",
     "text": [
      "\n"
     ]
    },
    {
     "name": "stderr",
     "output_type": "stream",
     "text": [
      "2025-05-07 19:38:54,858 - stpipe - INFO - Executing serially\n",
      "2025-05-07 19:38:54,876 - stpipe - INFO - Setting up output name: /Users/avapolzin/Desktop/psf_testoutputs/acs/j8pu42evq_flc_150d08m15.267s+2d09m52.304s_F475W_topsf_drz.fits\n",
      "2025-05-07 19:38:54,878 - stpipe - INFO - -Creating imageObject List as input for processing steps.\n",
      "2025-05-07 19:38:54,959 - stpipe - INFO - Reading in MDRIZSKY of 68.80198669433594\n",
      "2025-05-07 19:38:54,989 - stpipe - INFO - Reset bit values of 4096 to a value of 0 in /Users/avapolzin/Desktop/psf_testoutputs/acs/j8pu42evq_flc_150d08m15.267s+2d09m52.304s_F475W_topsf.fits[DQ,1]\n",
      "2025-05-07 19:38:55,004 - stpipe - INFO - -Creating output WCS.\n",
      "2025-05-07 19:38:55,008 - stpipe - INFO - WCS Keywords\n"
     ]
    },
    {
     "name": "stdout",
     "output_type": "stream",
     "text": [
      "WCS Keywords\n"
     ]
    },
    {
     "name": "stderr",
     "output_type": "stream",
     "text": [
      "2025-05-07 19:38:55,009 - stpipe - INFO - \n"
     ]
    },
    {
     "name": "stdout",
     "output_type": "stream",
     "text": [
      "\n"
     ]
    },
    {
     "name": "stderr",
     "output_type": "stream",
     "text": [
      "2025-05-07 19:38:55,010 - stpipe - INFO - Number of WCS axes: 2\n"
     ]
    },
    {
     "name": "stdout",
     "output_type": "stream",
     "text": [
      "Number of WCS axes: 2\n"
     ]
    },
    {
     "name": "stderr",
     "output_type": "stream",
     "text": [
      "2025-05-07 19:38:55,011 - stpipe - INFO - CTYPE : 'RA---TAN' 'DEC--TAN' \n"
     ]
    },
    {
     "name": "stdout",
     "output_type": "stream",
     "text": [
      "CTYPE : 'RA---TAN' 'DEC--TAN' \n"
     ]
    },
    {
     "name": "stderr",
     "output_type": "stream",
     "text": [
      "2025-05-07 19:38:55,012 - stpipe - INFO - CRVAL : np.float64(150.12552807603691) np.float64(2.1516092723818057) \n"
     ]
    },
    {
     "name": "stdout",
     "output_type": "stream",
     "text": [
      "CRVAL : np.float64(150.12552807603691) np.float64(2.1516092723818057) \n"
     ]
    },
    {
     "name": "stderr",
     "output_type": "stream",
     "text": [
      "2025-05-07 19:38:55,013 - stpipe - INFO - CRPIX : np.float64(2076.0) np.float64(1088.0) \n"
     ]
    },
    {
     "name": "stdout",
     "output_type": "stream",
     "text": [
      "CRPIX : np.float64(2076.0) np.float64(1088.0) \n"
     ]
    },
    {
     "name": "stderr",
     "output_type": "stream",
     "text": [
      "2025-05-07 19:38:55,014 - stpipe - INFO - CD1_1 CD1_2  : np.float64(-2.411896175124347e-06) np.float64(-1.3677865016453474e-05) \n"
     ]
    },
    {
     "name": "stdout",
     "output_type": "stream",
     "text": [
      "CD1_1 CD1_2  : np.float64(-2.411896175124347e-06) np.float64(-1.3677865016453474e-05) \n"
     ]
    },
    {
     "name": "stderr",
     "output_type": "stream",
     "text": [
      "2025-05-07 19:38:55,016 - stpipe - INFO - CD2_1 CD2_2  : np.float64(-1.3677865016453474e-05) np.float64(2.411896175124347e-06) \n"
     ]
    },
    {
     "name": "stdout",
     "output_type": "stream",
     "text": [
      "CD2_1 CD2_2  : np.float64(-1.3677865016453474e-05) np.float64(2.411896175124347e-06) \n"
     ]
    },
    {
     "name": "stderr",
     "output_type": "stream",
     "text": [
      "2025-05-07 19:38:55,017 - stpipe - INFO - NAXIS : 4152  2176\n"
     ]
    },
    {
     "name": "stdout",
     "output_type": "stream",
     "text": [
      "NAXIS : 4152  2176\n"
     ]
    },
    {
     "name": "stderr",
     "output_type": "stream",
     "text": [
      "2025-05-07 19:38:55,018 - stpipe - INFO - ********************************************************************************\n"
     ]
    },
    {
     "name": "stdout",
     "output_type": "stream",
     "text": [
      "********************************************************************************\n"
     ]
    },
    {
     "name": "stderr",
     "output_type": "stream",
     "text": [
      "2025-05-07 19:38:55,020 - stpipe - INFO - *\n"
     ]
    },
    {
     "name": "stdout",
     "output_type": "stream",
     "text": [
      "*\n"
     ]
    },
    {
     "name": "stderr",
     "output_type": "stream",
     "text": [
      "2025-05-07 19:38:55,022 - stpipe - INFO - *  Estimated memory usage:  up to 167 Mb.\n"
     ]
    },
    {
     "name": "stdout",
     "output_type": "stream",
     "text": [
      "*  Estimated memory usage:  up to 167 Mb.\n"
     ]
    },
    {
     "name": "stderr",
     "output_type": "stream",
     "text": [
      "2025-05-07 19:38:55,024 - stpipe - INFO - *  Output image size:       4152 X 2176 pixels. \n"
     ]
    },
    {
     "name": "stdout",
     "output_type": "stream",
     "text": [
      "*  Output image size:       4152 X 2176 pixels. \n"
     ]
    },
    {
     "name": "stderr",
     "output_type": "stream",
     "text": [
      "2025-05-07 19:38:55,025 - stpipe - INFO - *  Output image file:       ~ 103 Mb. \n"
     ]
    },
    {
     "name": "stdout",
     "output_type": "stream",
     "text": [
      "*  Output image file:       ~ 103 Mb. \n"
     ]
    },
    {
     "name": "stderr",
     "output_type": "stream",
     "text": [
      "2025-05-07 19:38:55,025 - stpipe - INFO - *  Cores available:         1\n"
     ]
    },
    {
     "name": "stdout",
     "output_type": "stream",
     "text": [
      "*  Cores available:         1\n"
     ]
    },
    {
     "name": "stderr",
     "output_type": "stream",
     "text": [
      "2025-05-07 19:38:55,027 - stpipe - INFO - *\n"
     ]
    },
    {
     "name": "stdout",
     "output_type": "stream",
     "text": [
      "*\n"
     ]
    },
    {
     "name": "stderr",
     "output_type": "stream",
     "text": [
      "2025-05-07 19:38:55,028 - stpipe - INFO - ********************************************************************************\n"
     ]
    },
    {
     "name": "stdout",
     "output_type": "stream",
     "text": [
      "********************************************************************************\n"
     ]
    },
    {
     "name": "stderr",
     "output_type": "stream",
     "text": [
      "2025-05-07 19:38:55,029 - stpipe - INFO - ==== Processing Step Initialization finished at 19:38:55.029 (07/05/2025)\n"
     ]
    },
    {
     "name": "stdout",
     "output_type": "stream",
     "text": [
      "==== Processing Step Initialization finished at 19:38:55.029 (07/05/2025)\n"
     ]
    },
    {
     "name": "stderr",
     "output_type": "stream",
     "text": [
      "2025-05-07 19:38:55,030 - stpipe - INFO - USER INPUT PARAMETERS common to all Processing Steps:\n",
      "2025-05-07 19:38:55,031 - stpipe - INFO - \tbuild :\tTrue\n",
      "2025-05-07 19:38:55,031 - stpipe - INFO - \tcoeffs :\tTrue\n",
      "2025-05-07 19:38:55,032 - stpipe - INFO - \tcontext :\tTrue\n",
      "2025-05-07 19:38:55,032 - stpipe - INFO - \tcrbit :\t4096\n",
      "2025-05-07 19:38:55,033 - stpipe - INFO - \tgroup :\t\n",
      "2025-05-07 19:38:55,033 - stpipe - INFO - \tin_memory :\tFalse\n",
      "2025-05-07 19:38:55,034 - stpipe - INFO - \tinput :\t['/Users/avapolzin/Desktop/psf_testoutputs/acs/j8pu42evq_flc_150d08m15.267s+2d09m52.304s_F475W_topsf.fits']\n",
      "2025-05-07 19:38:55,034 - stpipe - INFO - \tmdriztab :\tFalse\n",
      "2025-05-07 19:38:55,035 - stpipe - INFO - \tnum_cores :\tNone\n",
      "2025-05-07 19:38:55,036 - stpipe - INFO - \toutput :\t\n",
      "2025-05-07 19:38:55,036 - stpipe - INFO - \tproc_unit :\tnative\n",
      "2025-05-07 19:38:55,037 - stpipe - INFO - \tresetbits :\t4096\n",
      "2025-05-07 19:38:55,037 - stpipe - INFO - \trules_file :\t\n",
      "2025-05-07 19:38:55,038 - stpipe - INFO - \trunfile :\tastrodrizzle.log\n",
      "2025-05-07 19:38:55,040 - stpipe - INFO - \tstepsize :\t10\n",
      "2025-05-07 19:38:55,040 - stpipe - INFO - \tupdatewcs :\tFalse\n",
      "2025-05-07 19:38:55,041 - stpipe - INFO - \twcskey :\t\n",
      "2025-05-07 19:38:55,042 - stpipe - INFO - ==== Processing Step  Static Mask  started at  19:38:55.041 (07/05/2025)\n"
     ]
    },
    {
     "name": "stdout",
     "output_type": "stream",
     "text": [
      "==== Processing Step  Static Mask  started at  19:38:55.041 (07/05/2025)\n"
     ]
    },
    {
     "name": "stderr",
     "output_type": "stream",
     "text": [
      "2025-05-07 19:38:55,043 - stpipe - INFO - \n"
     ]
    },
    {
     "name": "stdout",
     "output_type": "stream",
     "text": [
      "\n"
     ]
    },
    {
     "name": "stderr",
     "output_type": "stream",
     "text": [
      "2025-05-07 19:38:55,044 - stpipe - INFO - Static Mask step not performed.\n",
      "2025-05-07 19:38:55,045 - stpipe - INFO - ==== Processing Step Static Mask finished at 19:38:55.045 (07/05/2025)\n"
     ]
    },
    {
     "name": "stdout",
     "output_type": "stream",
     "text": [
      "==== Processing Step Static Mask finished at 19:38:55.045 (07/05/2025)\n"
     ]
    },
    {
     "name": "stderr",
     "output_type": "stream",
     "text": [
      "2025-05-07 19:38:55,046 - stpipe - INFO - ==== Processing Step  Subtract Sky  started at  19:38:55.046 (07/05/2025)\n"
     ]
    },
    {
     "name": "stdout",
     "output_type": "stream",
     "text": [
      "==== Processing Step  Subtract Sky  started at  19:38:55.046 (07/05/2025)\n"
     ]
    },
    {
     "name": "stderr",
     "output_type": "stream",
     "text": [
      "2025-05-07 19:38:55,047 - stpipe - INFO - \n"
     ]
    },
    {
     "name": "stdout",
     "output_type": "stream",
     "text": [
      "\n"
     ]
    },
    {
     "name": "stderr",
     "output_type": "stream",
     "text": [
      "2025-05-07 19:38:55,049 - stpipe - INFO - USER INPUT PARAMETERS for Sky Subtraction Step:\n",
      "2025-05-07 19:38:55,050 - stpipe - INFO - \tsky_bits :\t0\n",
      "2025-05-07 19:38:55,050 - stpipe - INFO - \tskyclip :\t5\n",
      "2025-05-07 19:38:55,051 - stpipe - INFO - \tskyfile :\t\n",
      "2025-05-07 19:38:55,052 - stpipe - INFO - \tskylower :\tNone\n",
      "2025-05-07 19:38:55,052 - stpipe - INFO - \tskylsigma :\t4.0\n",
      "2025-05-07 19:38:55,053 - stpipe - INFO - \tskymask_cat :\t\n",
      "2025-05-07 19:38:55,054 - stpipe - INFO - \tskymethod :\tlocalmin\n",
      "2025-05-07 19:38:55,054 - stpipe - INFO - \tskystat :\tmedian\n",
      "2025-05-07 19:38:55,055 - stpipe - INFO - \tskysub :\tTrue\n",
      "2025-05-07 19:38:55,055 - stpipe - INFO - \tskyupper :\tNone\n",
      "2025-05-07 19:38:55,056 - stpipe - INFO - \tskyuser :\t\n",
      "2025-05-07 19:38:55,057 - stpipe - INFO - \tskyusigma :\t4.0\n",
      "2025-05-07 19:38:55,057 - stpipe - INFO - \tskywidth :\t0.1\n",
      "2025-05-07 19:38:55,058 - stpipe - INFO - \tuse_static :\tTrue\n",
      "2025-05-07 19:38:55,074 - stpipe - WARNING - Static mask for file '/Users/avapolzin/Desktop/psf_testoutputs/acs/j8pu42evq_flc_150d08m15.267s+2d09m52.304s_F475W_topsf.fits', ext=('SCI', 1) NOT FOUND.\n",
      "2025-05-07 19:38:55,091 - stpipe - INFO - ***** skymatch started on 2025-05-07 19:38:55.091329\n"
     ]
    },
    {
     "name": "stdout",
     "output_type": "stream",
     "text": [
      "***** skymatch started on 2025-05-07 19:38:55.091329\n"
     ]
    },
    {
     "name": "stderr",
     "output_type": "stream",
     "text": [
      "2025-05-07 19:38:55,092 - stpipe - INFO -       Version 1.0.10\n"
     ]
    },
    {
     "name": "stdout",
     "output_type": "stream",
     "text": [
      "      Version 1.0.10\n"
     ]
    },
    {
     "name": "stderr",
     "output_type": "stream",
     "text": [
      "2025-05-07 19:38:55,093 - stpipe - INFO - \n"
     ]
    },
    {
     "name": "stdout",
     "output_type": "stream",
     "text": [
      "\n"
     ]
    },
    {
     "name": "stderr",
     "output_type": "stream",
     "text": [
      "2025-05-07 19:38:55,094 - stpipe - INFO - 'skymatch' task will apply computed sky differences to input image file(s).\n"
     ]
    },
    {
     "name": "stdout",
     "output_type": "stream",
     "text": [
      "'skymatch' task will apply computed sky differences to input image file(s).\n"
     ]
    },
    {
     "name": "stderr",
     "output_type": "stream",
     "text": [
      "2025-05-07 19:38:55,095 - stpipe - INFO - \n"
     ]
    },
    {
     "name": "stdout",
     "output_type": "stream",
     "text": [
      "\n"
     ]
    },
    {
     "name": "stderr",
     "output_type": "stream",
     "text": [
      "2025-05-07 19:38:55,096 - stpipe - INFO - NOTE: Computed sky values WILL NOT be subtracted from image data ('subtractsky'=False).\n"
     ]
    },
    {
     "name": "stdout",
     "output_type": "stream",
     "text": [
      "NOTE: Computed sky values WILL NOT be subtracted from image data ('subtractsky'=False).\n"
     ]
    },
    {
     "name": "stderr",
     "output_type": "stream",
     "text": [
      "2025-05-07 19:38:55,098 - stpipe - INFO - 'MDRIZSKY' header keyword will represent sky value *computed* from data.\n"
     ]
    },
    {
     "name": "stdout",
     "output_type": "stream",
     "text": [
      "'MDRIZSKY' header keyword will represent sky value *computed* from data.\n"
     ]
    },
    {
     "name": "stderr",
     "output_type": "stream",
     "text": [
      "2025-05-07 19:38:55,099 - stpipe - INFO - \n"
     ]
    },
    {
     "name": "stdout",
     "output_type": "stream",
     "text": [
      "\n"
     ]
    },
    {
     "name": "stderr",
     "output_type": "stream",
     "text": [
      "2025-05-07 19:38:55,101 - stpipe - INFO - -----  User specified keywords:  -----\n"
     ]
    },
    {
     "name": "stdout",
     "output_type": "stream",
     "text": [
      "-----  User specified keywords:  -----\n"
     ]
    },
    {
     "name": "stderr",
     "output_type": "stream",
     "text": [
      "2025-05-07 19:38:55,102 - stpipe - INFO -        Sky Value Keyword:  'MDRIZSKY'\n"
     ]
    },
    {
     "name": "stdout",
     "output_type": "stream",
     "text": [
      "       Sky Value Keyword:  'MDRIZSKY'\n"
     ]
    },
    {
     "name": "stderr",
     "output_type": "stream",
     "text": [
      "2025-05-07 19:38:55,103 - stpipe - INFO -        Data Units Keyword: 'BUNIT'\n"
     ]
    },
    {
     "name": "stdout",
     "output_type": "stream",
     "text": [
      "       Data Units Keyword: 'BUNIT'\n"
     ]
    },
    {
     "name": "stderr",
     "output_type": "stream",
     "text": [
      "2025-05-07 19:38:55,104 - stpipe - INFO - \n"
     ]
    },
    {
     "name": "stdout",
     "output_type": "stream",
     "text": [
      "\n"
     ]
    },
    {
     "name": "stderr",
     "output_type": "stream",
     "text": [
      "2025-05-07 19:38:55,106 - stpipe - INFO - \n"
     ]
    },
    {
     "name": "stdout",
     "output_type": "stream",
     "text": [
      "\n"
     ]
    },
    {
     "name": "stderr",
     "output_type": "stream",
     "text": [
      "2025-05-07 19:38:55,107 - stpipe - INFO - -----  Input file list:  -----\n"
     ]
    },
    {
     "name": "stdout",
     "output_type": "stream",
     "text": [
      "-----  Input file list:  -----\n"
     ]
    },
    {
     "name": "stderr",
     "output_type": "stream",
     "text": [
      "2025-05-07 19:38:55,108 - stpipe - INFO - \n"
     ]
    },
    {
     "name": "stdout",
     "output_type": "stream",
     "text": [
      "\n"
     ]
    },
    {
     "name": "stderr",
     "output_type": "stream",
     "text": [
      "2025-05-07 19:38:55,109 - stpipe - INFO -    **  Input image: 'j8pu42evq_flc_150d08m15.267s+2d09m52.304s_F475W_topsf.fits'\n"
     ]
    },
    {
     "name": "stdout",
     "output_type": "stream",
     "text": [
      "   **  Input image: 'j8pu42evq_flc_150d08m15.267s+2d09m52.304s_F475W_topsf.fits'\n"
     ]
    },
    {
     "name": "stderr",
     "output_type": "stream",
     "text": [
      "2025-05-07 19:38:55,110 - stpipe - INFO -        EXT: 'SCI',1;\tMASK: j8pu42evq_flc_150d08m15.267s+2d09m52.304s_F475W_skymatch_mask_sci1.fits[0]\n"
     ]
    },
    {
     "name": "stdout",
     "output_type": "stream",
     "text": [
      "       EXT: 'SCI',1;\tMASK: j8pu42evq_flc_150d08m15.267s+2d09m52.304s_F475W_skymatch_mask_sci1.fits[0]\n"
     ]
    },
    {
     "name": "stderr",
     "output_type": "stream",
     "text": [
      "2025-05-07 19:38:55,111 - stpipe - INFO - \n"
     ]
    },
    {
     "name": "stdout",
     "output_type": "stream",
     "text": [
      "\n"
     ]
    },
    {
     "name": "stderr",
     "output_type": "stream",
     "text": [
      "2025-05-07 19:38:55,112 - stpipe - INFO - -----  Sky statistics parameters:  -----\n"
     ]
    },
    {
     "name": "stdout",
     "output_type": "stream",
     "text": [
      "-----  Sky statistics parameters:  -----\n"
     ]
    },
    {
     "name": "stderr",
     "output_type": "stream",
     "text": [
      "2025-05-07 19:38:55,114 - stpipe - INFO -        statistics function: 'median'\n"
     ]
    },
    {
     "name": "stdout",
     "output_type": "stream",
     "text": [
      "       statistics function: 'median'\n"
     ]
    },
    {
     "name": "stderr",
     "output_type": "stream",
     "text": [
      "2025-05-07 19:38:55,115 - stpipe - INFO -        lower = None\n"
     ]
    },
    {
     "name": "stdout",
     "output_type": "stream",
     "text": [
      "       lower = None\n"
     ]
    },
    {
     "name": "stderr",
     "output_type": "stream",
     "text": [
      "2025-05-07 19:38:55,117 - stpipe - INFO -        upper = None\n"
     ]
    },
    {
     "name": "stdout",
     "output_type": "stream",
     "text": [
      "       upper = None\n"
     ]
    },
    {
     "name": "stderr",
     "output_type": "stream",
     "text": [
      "2025-05-07 19:38:55,118 - stpipe - INFO -        nclip = 5\n"
     ]
    },
    {
     "name": "stdout",
     "output_type": "stream",
     "text": [
      "       nclip = 5\n"
     ]
    },
    {
     "name": "stderr",
     "output_type": "stream",
     "text": [
      "2025-05-07 19:38:55,120 - stpipe - INFO -        lsigma = 4.0\n"
     ]
    },
    {
     "name": "stdout",
     "output_type": "stream",
     "text": [
      "       lsigma = 4.0\n"
     ]
    },
    {
     "name": "stderr",
     "output_type": "stream",
     "text": [
      "2025-05-07 19:38:55,121 - stpipe - INFO -        usigma = 4.0\n"
     ]
    },
    {
     "name": "stdout",
     "output_type": "stream",
     "text": [
      "       usigma = 4.0\n"
     ]
    },
    {
     "name": "stderr",
     "output_type": "stream",
     "text": [
      "2025-05-07 19:38:55,123 - stpipe - INFO -        binwidth = 0.1\n"
     ]
    },
    {
     "name": "stdout",
     "output_type": "stream",
     "text": [
      "       binwidth = 0.1\n"
     ]
    },
    {
     "name": "stderr",
     "output_type": "stream",
     "text": [
      "2025-05-07 19:38:55,125 - stpipe - INFO - \n"
     ]
    },
    {
     "name": "stdout",
     "output_type": "stream",
     "text": [
      "\n"
     ]
    },
    {
     "name": "stderr",
     "output_type": "stream",
     "text": [
      "2025-05-07 19:38:55,127 - stpipe - INFO - -----  Data->Brightness conversion parameters for input files:  -----\n"
     ]
    },
    {
     "name": "stdout",
     "output_type": "stream",
     "text": [
      "-----  Data->Brightness conversion parameters for input files:  -----\n"
     ]
    },
    {
     "name": "stderr",
     "output_type": "stream",
     "text": [
      "2025-05-07 19:38:55,128 - stpipe - INFO - \n"
     ]
    },
    {
     "name": "stdout",
     "output_type": "stream",
     "text": [
      "\n"
     ]
    },
    {
     "name": "stderr",
     "output_type": "stream",
     "text": [
      "2025-05-07 19:38:55,129 - stpipe - INFO -    *   Image: j8pu42evq_flc_150d08m15.267s+2d09m52.304s_F475W_topsf.fits\n"
     ]
    },
    {
     "name": "stdout",
     "output_type": "stream",
     "text": [
      "   *   Image: j8pu42evq_flc_150d08m15.267s+2d09m52.304s_F475W_topsf.fits\n"
     ]
    },
    {
     "name": "stderr",
     "output_type": "stream",
     "text": [
      "2025-05-07 19:38:55,161 - stpipe - INFO -        EXT = 'SCI',1\n"
     ]
    },
    {
     "name": "stdout",
     "output_type": "stream",
     "text": [
      "       EXT = 'SCI',1\n"
     ]
    },
    {
     "name": "stderr",
     "output_type": "stream",
     "text": [
      "2025-05-07 19:38:55,162 - stpipe - INFO -              Data units type: COUNTS\n"
     ]
    },
    {
     "name": "stdout",
     "output_type": "stream",
     "text": [
      "             Data units type: COUNTS\n"
     ]
    },
    {
     "name": "stderr",
     "output_type": "stream",
     "text": [
      "2025-05-07 19:38:55,166 - stpipe - INFO -              EXPTIME: 507.0 [s]\n"
     ]
    },
    {
     "name": "stdout",
     "output_type": "stream",
     "text": [
      "             EXPTIME: 507.0 [s]\n"
     ]
    },
    {
     "name": "stderr",
     "output_type": "stream",
     "text": [
      "2025-05-07 19:38:55,167 - stpipe - INFO -              Conversion factor (data->brightness):  0.7889546351084812\n"
     ]
    },
    {
     "name": "stdout",
     "output_type": "stream",
     "text": [
      "             Conversion factor (data->brightness):  0.7889546351084812\n"
     ]
    },
    {
     "name": "stderr",
     "output_type": "stream",
     "text": [
      "2025-05-07 19:38:55,168 - stpipe - INFO - \n"
     ]
    },
    {
     "name": "stdout",
     "output_type": "stream",
     "text": [
      "\n"
     ]
    },
    {
     "name": "stderr",
     "output_type": "stream",
     "text": [
      "2025-05-07 19:38:55,169 - stpipe - INFO - \n"
     ]
    },
    {
     "name": "stdout",
     "output_type": "stream",
     "text": [
      "\n"
     ]
    },
    {
     "name": "stderr",
     "output_type": "stream",
     "text": [
      "2025-05-07 19:38:55,170 - stpipe - INFO - -----  Computing sky values requested image extensions (detector chips):  -----\n"
     ]
    },
    {
     "name": "stdout",
     "output_type": "stream",
     "text": [
      "-----  Computing sky values requested image extensions (detector chips):  -----\n"
     ]
    },
    {
     "name": "stderr",
     "output_type": "stream",
     "text": [
      "2025-05-07 19:38:55,171 - stpipe - INFO - \n"
     ]
    },
    {
     "name": "stdout",
     "output_type": "stream",
     "text": [
      "\n"
     ]
    },
    {
     "name": "stderr",
     "output_type": "stream",
     "text": [
      "2025-05-07 19:38:55,467 - stpipe - INFO -    *   Image:   'j8pu42evq_flc_150d08m15.267s+2d09m52.304s_F475W_topsf.fits['SCI',1]'  --  SKY = 0.0 (brightness units)\n"
     ]
    },
    {
     "name": "stdout",
     "output_type": "stream",
     "text": [
      "   *   Image:   'j8pu42evq_flc_150d08m15.267s+2d09m52.304s_F475W_topsf.fits['SCI',1]'  --  SKY = 0.0 (brightness units)\n"
     ]
    },
    {
     "name": "stderr",
     "output_type": "stream",
     "text": [
      "2025-05-07 19:38:55,469 - stpipe - INFO -        Sky change (data units):\n"
     ]
    },
    {
     "name": "stdout",
     "output_type": "stream",
     "text": [
      "       Sky change (data units):\n"
     ]
    },
    {
     "name": "stderr",
     "output_type": "stream",
     "text": [
      "2025-05-07 19:38:55,469 - stpipe - INFO -       - EXT = 'SCI',1   delta(MDRIZSKY) = 0   NEW MDRIZSKY = 0\n"
     ]
    },
    {
     "name": "stdout",
     "output_type": "stream",
     "text": [
      "      - EXT = 'SCI',1   delta(MDRIZSKY) = 0   NEW MDRIZSKY = 0\n"
     ]
    },
    {
     "name": "stderr",
     "output_type": "stream",
     "text": [
      "2025-05-07 19:38:55,471 - stpipe - INFO - ***** skymatch ended on 2025-05-07 19:38:55.470787\n"
     ]
    },
    {
     "name": "stdout",
     "output_type": "stream",
     "text": [
      "***** skymatch ended on 2025-05-07 19:38:55.470787\n"
     ]
    },
    {
     "name": "stderr",
     "output_type": "stream",
     "text": [
      "2025-05-07 19:38:55,473 - stpipe - INFO - TOTAL RUN TIME: 0:00:00.379458\n"
     ]
    },
    {
     "name": "stdout",
     "output_type": "stream",
     "text": [
      "TOTAL RUN TIME: 0:00:00.379458\n"
     ]
    },
    {
     "name": "stderr",
     "output_type": "stream",
     "text": [
      "2025-05-07 19:38:55,493 - stpipe - INFO - ==== Processing Step Subtract Sky finished at 19:38:55.493 (07/05/2025)\n"
     ]
    },
    {
     "name": "stdout",
     "output_type": "stream",
     "text": [
      "==== Processing Step Subtract Sky finished at 19:38:55.493 (07/05/2025)\n"
     ]
    },
    {
     "name": "stderr",
     "output_type": "stream",
     "text": [
      "2025-05-07 19:38:55,495 - stpipe - INFO - ==== Processing Step  Separate Drizzle  started at  19:38:55.494 (07/05/2025)\n"
     ]
    },
    {
     "name": "stdout",
     "output_type": "stream",
     "text": [
      "==== Processing Step  Separate Drizzle  started at  19:38:55.494 (07/05/2025)\n"
     ]
    },
    {
     "name": "stderr",
     "output_type": "stream",
     "text": [
      "2025-05-07 19:38:55,496 - stpipe - INFO - \n"
     ]
    },
    {
     "name": "stdout",
     "output_type": "stream",
     "text": [
      "\n"
     ]
    },
    {
     "name": "stderr",
     "output_type": "stream",
     "text": [
      "2025-05-07 19:38:55,497 - stpipe - INFO - Interpreted paramDict with single=True as:\n",
      "{'build': True, 'stepsize': 10, 'coeffs': True, 'wcskey': '', 'kernel': 'turbo', 'wt_scl': 'exptime', 'pixfrac': 1.0, 'fillval': None, 'bits': 0, 'compress': False, 'units': 'cps'}\n",
      "2025-05-07 19:38:55,497 - stpipe - INFO - USER INPUT PARAMETERS for Separate Drizzle Step:\n",
      "2025-05-07 19:38:55,498 - stpipe - INFO - \tbits :\t0\n",
      "2025-05-07 19:38:55,499 - stpipe - INFO - \tbuild :\tFalse\n",
      "2025-05-07 19:38:55,499 - stpipe - INFO - \tclean :\tFalse\n",
      "2025-05-07 19:38:55,500 - stpipe - INFO - \tcoeffs :\tTrue\n",
      "2025-05-07 19:38:55,500 - stpipe - INFO - \tcompress :\tFalse\n",
      "2025-05-07 19:38:55,501 - stpipe - INFO - \tcrbit :\tNone\n",
      "2025-05-07 19:38:55,501 - stpipe - INFO - \tfillval :\tNone\n",
      "2025-05-07 19:38:55,502 - stpipe - INFO - \tkernel :\tturbo\n",
      "2025-05-07 19:38:55,502 - stpipe - INFO - \tnum_cores :\tNone\n",
      "2025-05-07 19:38:55,503 - stpipe - INFO - \tpixfrac :\t1.0\n",
      "2025-05-07 19:38:55,503 - stpipe - INFO - \tproc_unit :\telectrons\n",
      "2025-05-07 19:38:55,504 - stpipe - INFO - \trules_file :\tNone\n",
      "2025-05-07 19:38:55,505 - stpipe - INFO - \tstepsize :\t10\n",
      "2025-05-07 19:38:55,506 - stpipe - INFO - \tunits :\tcps\n",
      "2025-05-07 19:38:55,507 - stpipe - INFO - \twcskey :\t\n",
      "2025-05-07 19:38:55,508 - stpipe - INFO - \twht_type :\tNone\n",
      "2025-05-07 19:38:55,509 - stpipe - INFO - \twt_scl :\texptime\n",
      "2025-05-07 19:38:55,510 - stpipe - INFO -   **Using sub-sampling value of 10 for kernel turbo\n",
      "2025-05-07 19:38:55,511 - stpipe - INFO - Running Drizzle to create output frame with WCS of: \n",
      "2025-05-07 19:38:55,512 - stpipe - INFO - WCS Keywords\n"
     ]
    },
    {
     "name": "stdout",
     "output_type": "stream",
     "text": [
      "WCS Keywords\n"
     ]
    },
    {
     "name": "stderr",
     "output_type": "stream",
     "text": [
      "2025-05-07 19:38:55,513 - stpipe - INFO - \n"
     ]
    },
    {
     "name": "stdout",
     "output_type": "stream",
     "text": [
      "\n"
     ]
    },
    {
     "name": "stderr",
     "output_type": "stream",
     "text": [
      "2025-05-07 19:38:55,514 - stpipe - INFO - Number of WCS axes: 2\n"
     ]
    },
    {
     "name": "stdout",
     "output_type": "stream",
     "text": [
      "Number of WCS axes: 2\n"
     ]
    },
    {
     "name": "stderr",
     "output_type": "stream",
     "text": [
      "2025-05-07 19:38:55,515 - stpipe - INFO - CTYPE : 'RA---TAN' 'DEC--TAN' \n"
     ]
    },
    {
     "name": "stdout",
     "output_type": "stream",
     "text": [
      "CTYPE : 'RA---TAN' 'DEC--TAN' \n"
     ]
    },
    {
     "name": "stderr",
     "output_type": "stream",
     "text": [
      "2025-05-07 19:38:55,517 - stpipe - INFO - CRVAL : np.float64(150.12552807603691) np.float64(2.1516092723818057) \n"
     ]
    },
    {
     "name": "stdout",
     "output_type": "stream",
     "text": [
      "CRVAL : np.float64(150.12552807603691) np.float64(2.1516092723818057) \n"
     ]
    },
    {
     "name": "stderr",
     "output_type": "stream",
     "text": [
      "2025-05-07 19:38:55,519 - stpipe - INFO - CRPIX : np.float64(2076.0) np.float64(1088.0) \n"
     ]
    },
    {
     "name": "stdout",
     "output_type": "stream",
     "text": [
      "CRPIX : np.float64(2076.0) np.float64(1088.0) \n"
     ]
    },
    {
     "name": "stderr",
     "output_type": "stream",
     "text": [
      "2025-05-07 19:38:55,521 - stpipe - INFO - CD1_1 CD1_2  : np.float64(-2.411896175124347e-06) np.float64(-1.3677865016453474e-05) \n"
     ]
    },
    {
     "name": "stdout",
     "output_type": "stream",
     "text": [
      "CD1_1 CD1_2  : np.float64(-2.411896175124347e-06) np.float64(-1.3677865016453474e-05) \n"
     ]
    },
    {
     "name": "stderr",
     "output_type": "stream",
     "text": [
      "2025-05-07 19:38:55,523 - stpipe - INFO - CD2_1 CD2_2  : np.float64(-1.3677865016453474e-05) np.float64(2.411896175124347e-06) \n"
     ]
    },
    {
     "name": "stdout",
     "output_type": "stream",
     "text": [
      "CD2_1 CD2_2  : np.float64(-1.3677865016453474e-05) np.float64(2.411896175124347e-06) \n"
     ]
    },
    {
     "name": "stderr",
     "output_type": "stream",
     "text": [
      "2025-05-07 19:38:55,525 - stpipe - INFO - NAXIS : 4152  2176\n"
     ]
    },
    {
     "name": "stdout",
     "output_type": "stream",
     "text": [
      "NAXIS : 4152  2176\n"
     ]
    },
    {
     "name": "stderr",
     "output_type": "stream",
     "text": [
      "2025-05-07 19:38:55,526 - stpipe - INFO - Executing serially\n",
      "2025-05-07 19:38:55,560 - stpipe - INFO - -Drizzle input: /Users/avapolzin/Desktop/psf_testoutputs/acs/j8pu42evq_flc_150d08m15.267s+2d09m52.304s_F475W_topsf.fits[sci,1]\n",
      "2025-05-07 19:38:55,576 - stpipe - INFO - Applying sky value of 0.000000 to /Users/avapolzin/Desktop/psf_testoutputs/acs/j8pu42evq_flc_150d08m15.267s+2d09m52.304s_F475W_topsf.fits[sci,1]\n",
      "2025-05-07 19:38:55,639 - stpipe - INFO - Writing out mask file: /Users/avapolzin/Desktop/psf_testoutputs/acs/j8pu42evq_flc_150d08m15.267s+2d09m52.304s_F475W_topsf_sci1_single_mask.fits\n",
      "2025-05-07 19:38:55,640 - stpipe - INFO - Using WCSLIB-based coordinate transformation...\n",
      "2025-05-07 19:38:55,641 - stpipe - INFO - stepsize = 10\n",
      "2025-05-07 19:38:55,669 - stpipe - INFO - -Drizzling using kernel = turbo\n",
      "\n",
      "2025-05-07 19:38:56,291 - stpipe - INFO - -Generating simple FITS output: /Users/avapolzin/Desktop/psf_testoutputs/acs/j8pu42evq_flc_150d08m15.267s+2d09m52.304s_F475W_topsf_single_sci.fits\n"
     ]
    },
    {
     "name": "stdout",
     "output_type": "stream",
     "text": [
      "-Generating simple FITS output: /Users/avapolzin/Desktop/psf_testoutputs/acs/j8pu42evq_flc_150d08m15.267s+2d09m52.304s_F475W_topsf_single_sci.fits\n"
     ]
    },
    {
     "name": "stderr",
     "output_type": "stream",
     "text": [
      "2025-05-07 19:38:56,309 - stpipe - WARNING - /Users/avapolzin/opt/anaconda3/envs/spike/lib/python3.10/site-packages/astropy/io/fits/card.py:1036: VerifyWarning: Card is too long, comment will be truncated.\n",
      "\n",
      "2025-05-07 19:38:56,351 - stpipe - INFO - Writing out image to disk: /Users/avapolzin/Desktop/psf_testoutputs/acs/j8pu42evq_flc_150d08m15.267s+2d09m52.304s_F475W_topsf_single_sci.fits\n"
     ]
    },
    {
     "name": "stdout",
     "output_type": "stream",
     "text": [
      "Writing out image to disk: /Users/avapolzin/Desktop/psf_testoutputs/acs/j8pu42evq_flc_150d08m15.267s+2d09m52.304s_F475W_topsf_single_sci.fits\n"
     ]
    },
    {
     "name": "stderr",
     "output_type": "stream",
     "text": [
      "2025-05-07 19:38:56,434 - stpipe - INFO - Writing out image to disk: /Users/avapolzin/Desktop/psf_testoutputs/acs/j8pu42evq_flc_150d08m15.267s+2d09m52.304s_F475W_topsf_single_wht.fits\n"
     ]
    },
    {
     "name": "stdout",
     "output_type": "stream",
     "text": [
      "Writing out image to disk: /Users/avapolzin/Desktop/psf_testoutputs/acs/j8pu42evq_flc_150d08m15.267s+2d09m52.304s_F475W_topsf_single_wht.fits\n"
     ]
    },
    {
     "name": "stderr",
     "output_type": "stream",
     "text": [
      "2025-05-07 19:38:56,480 - stpipe - INFO - ==== Processing Step Separate Drizzle finished at 19:38:56.480 (07/05/2025)\n"
     ]
    },
    {
     "name": "stdout",
     "output_type": "stream",
     "text": [
      "==== Processing Step Separate Drizzle finished at 19:38:56.480 (07/05/2025)\n"
     ]
    },
    {
     "name": "stderr",
     "output_type": "stream",
     "text": [
      "2025-05-07 19:38:56,483 - stpipe - INFO - ==== Processing Step  Create Median  started at  19:38:56.483 (07/05/2025)\n"
     ]
    },
    {
     "name": "stdout",
     "output_type": "stream",
     "text": [
      "==== Processing Step  Create Median  started at  19:38:56.483 (07/05/2025)\n"
     ]
    },
    {
     "name": "stderr",
     "output_type": "stream",
     "text": [
      "2025-05-07 19:38:56,484 - stpipe - INFO - \n"
     ]
    },
    {
     "name": "stdout",
     "output_type": "stream",
     "text": [
      "\n"
     ]
    },
    {
     "name": "stderr",
     "output_type": "stream",
     "text": [
      "2025-05-07 19:38:56,486 - stpipe - INFO - USER INPUT PARAMETERS for Create Median Step:\n",
      "2025-05-07 19:38:56,487 - stpipe - INFO - \tcombine_bufsize :\tNone\n",
      "2025-05-07 19:38:56,487 - stpipe - INFO - \tcombine_grow :\t1\n",
      "2025-05-07 19:38:56,488 - stpipe - INFO - \tcombine_hthresh :\tNone\n",
      "2025-05-07 19:38:56,489 - stpipe - INFO - \tcombine_lthresh :\tNone\n",
      "2025-05-07 19:38:56,489 - stpipe - INFO - \tcombine_maskpt :\t0.3\n",
      "2025-05-07 19:38:56,490 - stpipe - INFO - \tcombine_nhigh :\t0\n",
      "2025-05-07 19:38:56,491 - stpipe - INFO - \tcombine_nlow :\t0\n",
      "2025-05-07 19:38:56,492 - stpipe - INFO - \tcombine_nsigma :\t4 3\n",
      "2025-05-07 19:38:56,492 - stpipe - INFO - \tcombine_type :\timedian\n",
      "2025-05-07 19:38:56,493 - stpipe - INFO - \tcompress :\tFalse\n",
      "2025-05-07 19:38:56,493 - stpipe - INFO - \tmedian :\tTrue\n",
      "2025-05-07 19:38:56,494 - stpipe - INFO - \tmedian_newmasks :\tTrue\n",
      "2025-05-07 19:38:56,494 - stpipe - INFO - \tproc_unit :\tnative\n",
      "2025-05-07 19:38:56,557 - stpipe - INFO - reference sky value for image '/Users/avapolzin/Desktop/psf_testoutputs/acs/j8pu42evq_flc_150d08m15.267s+2d09m52.304s_F475W_topsf.fits' is 0.0\n"
     ]
    },
    {
     "name": "stdout",
     "output_type": "stream",
     "text": [
      "reference sky value for image '/Users/avapolzin/Desktop/psf_testoutputs/acs/j8pu42evq_flc_150d08m15.267s+2d09m52.304s_F475W_topsf.fits' is 0.0\n"
     ]
    },
    {
     "name": "stderr",
     "output_type": "stream",
     "text": [
      "2025-05-07 19:38:56,660 - stpipe - WARNING - /Users/avapolzin/opt/anaconda3/envs/spike/lib/python3.10/site-packages/stsci/image/combine.py:22: RuntimeWarning: invalid value encountered in cast\n",
      "\n",
      "2025-05-07 19:38:56,900 - stpipe - INFO - Saving output median image to: '/Users/avapolzin/Desktop/psf_testoutputs/acs/j8pu42evq_flc_150d08m15.267s+2d09m52.304s_F475W_topsf_med.fits'\n"
     ]
    },
    {
     "name": "stdout",
     "output_type": "stream",
     "text": [
      "Saving output median image to: '/Users/avapolzin/Desktop/psf_testoutputs/acs/j8pu42evq_flc_150d08m15.267s+2d09m52.304s_F475W_topsf_med.fits'\n"
     ]
    },
    {
     "name": "stderr",
     "output_type": "stream",
     "text": [
      "2025-05-07 19:38:56,924 - stpipe - INFO - ==== Processing Step Create Median finished at 19:38:56.923 (07/05/2025)\n"
     ]
    },
    {
     "name": "stdout",
     "output_type": "stream",
     "text": [
      "==== Processing Step Create Median finished at 19:38:56.923 (07/05/2025)\n"
     ]
    },
    {
     "name": "stderr",
     "output_type": "stream",
     "text": [
      "2025-05-07 19:38:56,925 - stpipe - INFO - ==== Processing Step  Blot  started at  19:38:56.925 (07/05/2025)\n"
     ]
    },
    {
     "name": "stdout",
     "output_type": "stream",
     "text": [
      "==== Processing Step  Blot  started at  19:38:56.925 (07/05/2025)\n"
     ]
    },
    {
     "name": "stderr",
     "output_type": "stream",
     "text": [
      "2025-05-07 19:38:56,926 - stpipe - INFO - \n"
     ]
    },
    {
     "name": "stdout",
     "output_type": "stream",
     "text": [
      "\n"
     ]
    },
    {
     "name": "stderr",
     "output_type": "stream",
     "text": [
      "2025-05-07 19:38:56,927 - stpipe - INFO - USER INPUT PARAMETERS for Blot Step:\n",
      "2025-05-07 19:38:56,928 - stpipe - INFO - \tblot_addsky :\tTrue\n",
      "2025-05-07 19:38:56,928 - stpipe - INFO - \tblot_interp :\tpoly5\n",
      "2025-05-07 19:38:56,929 - stpipe - INFO - \tblot_sinscl :\t1.0\n",
      "2025-05-07 19:38:56,930 - stpipe - INFO - \tblot_skyval :\t0.0\n",
      "2025-05-07 19:38:56,931 - stpipe - INFO - \tcoeffs :\tTrue\n",
      "2025-05-07 19:38:56,932 - stpipe - INFO -     Blot: creating blotted image:  /Users/avapolzin/Desktop/psf_testoutputs/acs/j8pu42evq_flc_150d08m15.267s+2d09m52.304s_F475W_topsf.fits[sci,1]\n"
     ]
    },
    {
     "name": "stdout",
     "output_type": "stream",
     "text": [
      "    Blot: creating blotted image:  /Users/avapolzin/Desktop/psf_testoutputs/acs/j8pu42evq_flc_150d08m15.267s+2d09m52.304s_F475W_topsf.fits[sci,1]\n"
     ]
    },
    {
     "name": "stderr",
     "output_type": "stream",
     "text": [
      "2025-05-07 19:38:56,954 - stpipe - INFO - Using default C-based coordinate transformation...\n"
     ]
    },
    {
     "name": "stdout",
     "output_type": "stream",
     "text": [
      "Using default C-based coordinate transformation...\n"
     ]
    },
    {
     "name": "stderr",
     "output_type": "stream",
     "text": [
      "2025-05-07 19:38:57,734 - stpipe - INFO - Applying sky value of 0.000000 to blotted image /Users/avapolzin/Desktop/psf_testoutputs/acs/j8pu42evq_flc_150d08m15.267s+2d09m52.304s_F475W_topsf.fits[sci,1]\n",
      "2025-05-07 19:38:57,787 - stpipe - INFO - -Generating simple FITS output: /Users/avapolzin/Desktop/psf_testoutputs/acs/j8pu42evq_flc_150d08m15.267s+2d09m52.304s_F475W_topsf_sci1_blt.fits\n"
     ]
    },
    {
     "name": "stdout",
     "output_type": "stream",
     "text": [
      "-Generating simple FITS output: /Users/avapolzin/Desktop/psf_testoutputs/acs/j8pu42evq_flc_150d08m15.267s+2d09m52.304s_F475W_topsf_sci1_blt.fits\n"
     ]
    },
    {
     "name": "stderr",
     "output_type": "stream",
     "text": [
      "2025-05-07 19:38:57,803 - stpipe - INFO - Writing out image to disk: /Users/avapolzin/Desktop/psf_testoutputs/acs/j8pu42evq_flc_150d08m15.267s+2d09m52.304s_F475W_topsf_sci1_blt.fits\n"
     ]
    },
    {
     "name": "stdout",
     "output_type": "stream",
     "text": [
      "Writing out image to disk: /Users/avapolzin/Desktop/psf_testoutputs/acs/j8pu42evq_flc_150d08m15.267s+2d09m52.304s_F475W_topsf_sci1_blt.fits\n"
     ]
    },
    {
     "name": "stderr",
     "output_type": "stream",
     "text": [
      "2025-05-07 19:38:57,844 - stpipe - INFO - ==== Processing Step Blot finished at 19:38:57.844 (07/05/2025)\n"
     ]
    },
    {
     "name": "stdout",
     "output_type": "stream",
     "text": [
      "==== Processing Step Blot finished at 19:38:57.844 (07/05/2025)\n"
     ]
    },
    {
     "name": "stderr",
     "output_type": "stream",
     "text": [
      "2025-05-07 19:38:57,845 - stpipe - INFO - ==== Processing Step  Driz_CR  started at  19:38:57.845 (07/05/2025)\n"
     ]
    },
    {
     "name": "stdout",
     "output_type": "stream",
     "text": [
      "==== Processing Step  Driz_CR  started at  19:38:57.845 (07/05/2025)\n"
     ]
    },
    {
     "name": "stderr",
     "output_type": "stream",
     "text": [
      "2025-05-07 19:38:57,846 - stpipe - INFO - \n"
     ]
    },
    {
     "name": "stdout",
     "output_type": "stream",
     "text": [
      "\n"
     ]
    },
    {
     "name": "stderr",
     "output_type": "stream",
     "text": [
      "2025-05-07 19:38:57,847 - stpipe - INFO - USER INPUT PARAMETERS for Driz_CR Step:\n",
      "2025-05-07 19:38:57,847 - stpipe - INFO - \tcrbit :\t4096\n",
      "2025-05-07 19:38:57,848 - stpipe - INFO - \tdriz_cr :\tTrue\n",
      "2025-05-07 19:38:57,848 - stpipe - INFO - \tdriz_cr_corr :\tFalse\n",
      "2025-05-07 19:38:57,848 - stpipe - INFO - \tdriz_cr_ctegrow :\t0\n",
      "2025-05-07 19:38:57,849 - stpipe - INFO - \tdriz_cr_grow :\t1\n",
      "2025-05-07 19:38:57,849 - stpipe - INFO - \tdriz_cr_scale :\t1.2 0.7\n",
      "2025-05-07 19:38:57,850 - stpipe - INFO - \tdriz_cr_snr :\t3.5 3.0\n",
      "2025-05-07 19:38:57,850 - stpipe - INFO - \tinmemory :\tFalse\n",
      "2025-05-07 19:38:57,851 - stpipe - INFO - Executing serially\n",
      "2025-05-07 19:38:58,563 - stpipe - INFO - Creating output: /Users/avapolzin/Desktop/psf_testoutputs/acs/j8pu42evq_flc_150d08m15.267s+2d09m52.304s_F475W_topsf_sci1_crmask.fits\n"
     ]
    },
    {
     "name": "stdout",
     "output_type": "stream",
     "text": [
      "Creating output: /Users/avapolzin/Desktop/psf_testoutputs/acs/j8pu42evq_flc_150d08m15.267s+2d09m52.304s_F475W_topsf_sci1_crmask.fits\n"
     ]
    },
    {
     "name": "stderr",
     "output_type": "stream",
     "text": [
      "2025-05-07 19:38:58,577 - stpipe - INFO - ==== Processing Step Driz_CR finished at 19:38:58.577 (07/05/2025)\n"
     ]
    },
    {
     "name": "stdout",
     "output_type": "stream",
     "text": [
      "==== Processing Step Driz_CR finished at 19:38:58.577 (07/05/2025)\n"
     ]
    },
    {
     "name": "stderr",
     "output_type": "stream",
     "text": [
      "2025-05-07 19:38:58,578 - stpipe - INFO - ==== Processing Step  Final Drizzle  started at  19:38:58.578 (07/05/2025)\n"
     ]
    },
    {
     "name": "stdout",
     "output_type": "stream",
     "text": [
      "==== Processing Step  Final Drizzle  started at  19:38:58.578 (07/05/2025)\n"
     ]
    },
    {
     "name": "stderr",
     "output_type": "stream",
     "text": [
      "2025-05-07 19:38:58,579 - stpipe - INFO - \n"
     ]
    },
    {
     "name": "stdout",
     "output_type": "stream",
     "text": [
      "\n"
     ]
    },
    {
     "name": "stderr",
     "output_type": "stream",
     "text": [
      "2025-05-07 19:38:58,580 - stpipe - INFO - Interpreted paramDict with single=False as:\n",
      "{'build': True, 'stepsize': 10, 'coeffs': True, 'wcskey': '', 'wht_type': 'EXP', 'kernel': 'square', 'wt_scl': 'exptime', 'pixfrac': 0.8, 'fillval': None, 'maskval': None, 'bits': 0, 'units': 'cps'}\n",
      "2025-05-07 19:38:58,580 - stpipe - INFO - USER INPUT PARAMETERS for Final Drizzle Step:\n",
      "2025-05-07 19:38:58,581 - stpipe - INFO - \tbits :\t0\n",
      "2025-05-07 19:38:58,581 - stpipe - INFO - \tbuild :\tTrue\n",
      "2025-05-07 19:38:58,581 - stpipe - INFO - \tclean :\tFalse\n",
      "2025-05-07 19:38:58,582 - stpipe - INFO - \tcoeffs :\tTrue\n",
      "2025-05-07 19:38:58,583 - stpipe - INFO - \tcrbit :\t4096\n",
      "2025-05-07 19:38:58,583 - stpipe - INFO - \tfillval :\tNone\n",
      "2025-05-07 19:38:58,584 - stpipe - INFO - \tkernel :\tsquare\n",
      "2025-05-07 19:38:58,585 - stpipe - INFO - \tlogfile :\tastrodrizzle.log\n",
      "2025-05-07 19:38:58,585 - stpipe - INFO - \tmaskval :\tNone\n",
      "2025-05-07 19:38:58,586 - stpipe - INFO - \tpixfrac :\t0.8\n",
      "2025-05-07 19:38:58,586 - stpipe - INFO - \tproc_unit :\tnative\n",
      "2025-05-07 19:38:58,587 - stpipe - INFO - \trules_file :\tNone\n",
      "2025-05-07 19:38:58,587 - stpipe - INFO - \tstepsize :\t10\n",
      "2025-05-07 19:38:58,588 - stpipe - INFO - \tunits :\tcps\n",
      "2025-05-07 19:38:58,589 - stpipe - INFO - \twcskey :\t\n",
      "2025-05-07 19:38:58,589 - stpipe - INFO - \twht_type :\tEXP\n",
      "2025-05-07 19:38:58,589 - stpipe - INFO - \twt_scl :\texptime\n",
      "2025-05-07 19:38:58,590 - stpipe - INFO -   **Using sub-sampling value of 10 for kernel square\n",
      "2025-05-07 19:38:58,591 - stpipe - INFO - Running Drizzle to create output frame with WCS of: \n",
      "2025-05-07 19:38:58,592 - stpipe - INFO - WCS Keywords\n"
     ]
    },
    {
     "name": "stdout",
     "output_type": "stream",
     "text": [
      "WCS Keywords\n"
     ]
    },
    {
     "name": "stderr",
     "output_type": "stream",
     "text": [
      "2025-05-07 19:38:58,593 - stpipe - INFO - \n"
     ]
    },
    {
     "name": "stdout",
     "output_type": "stream",
     "text": [
      "\n"
     ]
    },
    {
     "name": "stderr",
     "output_type": "stream",
     "text": [
      "2025-05-07 19:38:58,594 - stpipe - INFO - Number of WCS axes: 2\n"
     ]
    },
    {
     "name": "stdout",
     "output_type": "stream",
     "text": [
      "Number of WCS axes: 2\n"
     ]
    },
    {
     "name": "stderr",
     "output_type": "stream",
     "text": [
      "2025-05-07 19:38:58,595 - stpipe - INFO - CTYPE : 'RA---TAN' 'DEC--TAN' \n"
     ]
    },
    {
     "name": "stdout",
     "output_type": "stream",
     "text": [
      "CTYPE : 'RA---TAN' 'DEC--TAN' \n"
     ]
    },
    {
     "name": "stderr",
     "output_type": "stream",
     "text": [
      "2025-05-07 19:38:58,596 - stpipe - INFO - CRVAL : np.float64(150.12552807603691) np.float64(2.1516092723818057) \n"
     ]
    },
    {
     "name": "stdout",
     "output_type": "stream",
     "text": [
      "CRVAL : np.float64(150.12552807603691) np.float64(2.1516092723818057) \n"
     ]
    },
    {
     "name": "stderr",
     "output_type": "stream",
     "text": [
      "2025-05-07 19:38:58,597 - stpipe - INFO - CRPIX : np.float64(2076.0) np.float64(1088.0) \n"
     ]
    },
    {
     "name": "stdout",
     "output_type": "stream",
     "text": [
      "CRPIX : np.float64(2076.0) np.float64(1088.0) \n"
     ]
    },
    {
     "name": "stderr",
     "output_type": "stream",
     "text": [
      "2025-05-07 19:38:58,599 - stpipe - INFO - CD1_1 CD1_2  : np.float64(-2.411896175124347e-06) np.float64(-1.3677865016453474e-05) \n"
     ]
    },
    {
     "name": "stdout",
     "output_type": "stream",
     "text": [
      "CD1_1 CD1_2  : np.float64(-2.411896175124347e-06) np.float64(-1.3677865016453474e-05) \n"
     ]
    },
    {
     "name": "stderr",
     "output_type": "stream",
     "text": [
      "2025-05-07 19:38:58,600 - stpipe - INFO - CD2_1 CD2_2  : np.float64(-1.3677865016453474e-05) np.float64(2.411896175124347e-06) \n"
     ]
    },
    {
     "name": "stdout",
     "output_type": "stream",
     "text": [
      "CD2_1 CD2_2  : np.float64(-1.3677865016453474e-05) np.float64(2.411896175124347e-06) \n"
     ]
    },
    {
     "name": "stderr",
     "output_type": "stream",
     "text": [
      "2025-05-07 19:38:58,601 - stpipe - INFO - NAXIS : 4152  2176\n"
     ]
    },
    {
     "name": "stdout",
     "output_type": "stream",
     "text": [
      "NAXIS : 4152  2176\n"
     ]
    },
    {
     "name": "stderr",
     "output_type": "stream",
     "text": [
      "2025-05-07 19:38:58,606 - stpipe - INFO - -Drizzle input: /Users/avapolzin/Desktop/psf_testoutputs/acs/j8pu42evq_flc_150d08m15.267s+2d09m52.304s_F475W_topsf.fits[sci,1]\n",
      "2025-05-07 19:38:58,619 - stpipe - INFO - Applying sky value of 0.000000 to /Users/avapolzin/Desktop/psf_testoutputs/acs/j8pu42evq_flc_150d08m15.267s+2d09m52.304s_F475W_topsf.fits[sci,1]\n",
      "2025-05-07 19:38:58,675 - stpipe - INFO - Applying EXPTIME weighting to DQ mask for chip 1\n",
      "2025-05-07 19:38:58,713 - stpipe - INFO - Writing out mask file: /Users/avapolzin/Desktop/psf_testoutputs/acs/j8pu42evq_flc_150d08m15.267s+2d09m52.304s_F475W_topsf_sci1_final_mask.fits\n",
      "2025-05-07 19:38:58,714 - stpipe - INFO - Using WCSLIB-based coordinate transformation...\n",
      "2025-05-07 19:38:58,714 - stpipe - INFO - stepsize = 10\n",
      "2025-05-07 19:38:58,741 - stpipe - INFO - -Drizzling using kernel = square\n",
      "\n",
      "2025-05-07 19:39:00,163 - stpipe - INFO - -Generating multi-extension output file:  /Users/avapolzin/Desktop/psf_testoutputs/acs/j8pu42evq_flc_150d08m15.267s+2d09m52.304s_F475W_topsf_drz.fits\n"
     ]
    },
    {
     "name": "stdout",
     "output_type": "stream",
     "text": [
      "-Generating multi-extension output file:  /Users/avapolzin/Desktop/psf_testoutputs/acs/j8pu42evq_flc_150d08m15.267s+2d09m52.304s_F475W_topsf_drz.fits\n"
     ]
    },
    {
     "name": "stderr",
     "output_type": "stream",
     "text": [
      "2025-05-07 19:39:00,176 - stpipe - INFO - Deleted all instances of WCS with key A in extensions [1]\n"
     ]
    },
    {
     "name": "stdout",
     "output_type": "stream",
     "text": [
      "Deleted all instances of WCS with key A in extensions [1]\n"
     ]
    },
    {
     "name": "stderr",
     "output_type": "stream",
     "text": [
      "2025-05-07 19:39:00,182 - stpipe - INFO - Writing out to disk: /Users/avapolzin/Desktop/psf_testoutputs/acs/j8pu42evq_flc_150d08m15.267s+2d09m52.304s_F475W_topsf_drz.fits\n"
     ]
    },
    {
     "name": "stdout",
     "output_type": "stream",
     "text": [
      "Writing out to disk: /Users/avapolzin/Desktop/psf_testoutputs/acs/j8pu42evq_flc_150d08m15.267s+2d09m52.304s_F475W_topsf_drz.fits\n"
     ]
    },
    {
     "name": "stderr",
     "output_type": "stream",
     "text": [
      "2025-05-07 19:39:00,185 - stpipe - WARNING - /Users/avapolzin/opt/anaconda3/envs/spike/lib/python3.10/site-packages/astropy/io/fits/card.py:1036: VerifyWarning: Card is too long, comment will be truncated.\n",
      "\n",
      "2025-05-07 19:39:00,320 - stpipe - INFO - ==== Processing Step Final Drizzle finished at 19:39:00.320 (07/05/2025)\n"
     ]
    },
    {
     "name": "stdout",
     "output_type": "stream",
     "text": [
      "==== Processing Step Final Drizzle finished at 19:39:00.320 (07/05/2025)\n"
     ]
    },
    {
     "name": "stderr",
     "output_type": "stream",
     "text": [
      "2025-05-07 19:39:00,322 - stpipe - INFO - \n"
     ]
    },
    {
     "name": "stdout",
     "output_type": "stream",
     "text": [
      "\n"
     ]
    },
    {
     "name": "stderr",
     "output_type": "stream",
     "text": [
      "2025-05-07 19:39:00,323 - stpipe - INFO - AstroDrizzle Version 3.7.1rc1.dev56+g7951b66 is finished processing at 19:39:00.322 (07/05/2025).\n"
     ]
    },
    {
     "name": "stdout",
     "output_type": "stream",
     "text": [
      "AstroDrizzle Version 3.7.1rc1.dev56+g7951b66 is finished processing at 19:39:00.322 (07/05/2025).\n"
     ]
    },
    {
     "name": "stderr",
     "output_type": "stream",
     "text": [
      "2025-05-07 19:39:00,324 - stpipe - INFO - \n"
     ]
    },
    {
     "name": "stdout",
     "output_type": "stream",
     "text": [
      "\n"
     ]
    },
    {
     "name": "stderr",
     "output_type": "stream",
     "text": [
      "2025-05-07 19:39:00,325 - stpipe - INFO - \n"
     ]
    },
    {
     "name": "stdout",
     "output_type": "stream",
     "text": [
      "\n"
     ]
    },
    {
     "name": "stderr",
     "output_type": "stream",
     "text": [
      "2025-05-07 19:39:00,326 - stpipe - INFO - \n"
     ]
    },
    {
     "name": "stdout",
     "output_type": "stream",
     "text": [
      "\n"
     ]
    },
    {
     "name": "stderr",
     "output_type": "stream",
     "text": [
      "2025-05-07 19:39:00,327 - stpipe - INFO -    --------------------          --------------------\n"
     ]
    },
    {
     "name": "stdout",
     "output_type": "stream",
     "text": [
      "   --------------------          --------------------\n"
     ]
    },
    {
     "name": "stderr",
     "output_type": "stream",
     "text": [
      "2025-05-07 19:39:00,328 - stpipe - INFO -                    Step          Elapsed time\n"
     ]
    },
    {
     "name": "stdout",
     "output_type": "stream",
     "text": [
      "                   Step          Elapsed time\n"
     ]
    },
    {
     "name": "stderr",
     "output_type": "stream",
     "text": [
      "2025-05-07 19:39:00,329 - stpipe - INFO -    --------------------          --------------------\n"
     ]
    },
    {
     "name": "stdout",
     "output_type": "stream",
     "text": [
      "   --------------------          --------------------\n"
     ]
    },
    {
     "name": "stderr",
     "output_type": "stream",
     "text": [
      "2025-05-07 19:39:00,330 - stpipe - INFO - \n"
     ]
    },
    {
     "name": "stdout",
     "output_type": "stream",
     "text": [
      "\n"
     ]
    },
    {
     "name": "stderr",
     "output_type": "stream",
     "text": [
      "2025-05-07 19:39:00,331 - stpipe - INFO -          Initialization          0.1859 sec.\n"
     ]
    },
    {
     "name": "stdout",
     "output_type": "stream",
     "text": [
      "         Initialization          0.1859 sec.\n"
     ]
    },
    {
     "name": "stderr",
     "output_type": "stream",
     "text": [
      "2025-05-07 19:39:00,332 - stpipe - INFO -             Static Mask          0.0034 sec.\n"
     ]
    },
    {
     "name": "stdout",
     "output_type": "stream",
     "text": [
      "            Static Mask          0.0034 sec.\n"
     ]
    },
    {
     "name": "stderr",
     "output_type": "stream",
     "text": [
      "2025-05-07 19:39:00,333 - stpipe - INFO -            Subtract Sky          0.4467 sec.\n"
     ]
    },
    {
     "name": "stdout",
     "output_type": "stream",
     "text": [
      "           Subtract Sky          0.4467 sec.\n"
     ]
    },
    {
     "name": "stderr",
     "output_type": "stream",
     "text": [
      "2025-05-07 19:39:00,334 - stpipe - INFO -        Separate Drizzle          0.9858 sec.\n"
     ]
    },
    {
     "name": "stdout",
     "output_type": "stream",
     "text": [
      "       Separate Drizzle          0.9858 sec.\n"
     ]
    },
    {
     "name": "stderr",
     "output_type": "stream",
     "text": [
      "2025-05-07 19:39:00,335 - stpipe - INFO -           Create Median          0.4408 sec.\n"
     ]
    },
    {
     "name": "stdout",
     "output_type": "stream",
     "text": [
      "          Create Median          0.4408 sec.\n"
     ]
    },
    {
     "name": "stderr",
     "output_type": "stream",
     "text": [
      "2025-05-07 19:39:00,335 - stpipe - INFO -                    Blot          0.9187 sec.\n"
     ]
    },
    {
     "name": "stdout",
     "output_type": "stream",
     "text": [
      "                   Blot          0.9187 sec.\n"
     ]
    },
    {
     "name": "stderr",
     "output_type": "stream",
     "text": [
      "2025-05-07 19:39:00,336 - stpipe - INFO -                 Driz_CR          0.7322 sec.\n"
     ]
    },
    {
     "name": "stdout",
     "output_type": "stream",
     "text": [
      "                Driz_CR          0.7322 sec.\n"
     ]
    },
    {
     "name": "stderr",
     "output_type": "stream",
     "text": [
      "2025-05-07 19:39:00,337 - stpipe - INFO -           Final Drizzle          1.7418 sec.\n"
     ]
    },
    {
     "name": "stdout",
     "output_type": "stream",
     "text": [
      "          Final Drizzle          1.7418 sec.\n"
     ]
    },
    {
     "name": "stderr",
     "output_type": "stream",
     "text": [
      "2025-05-07 19:39:00,339 - stpipe - INFO -    ====================          ====================\n"
     ]
    },
    {
     "name": "stdout",
     "output_type": "stream",
     "text": [
      "   ====================          ====================\n"
     ]
    },
    {
     "name": "stderr",
     "output_type": "stream",
     "text": [
      "2025-05-07 19:39:00,340 - stpipe - INFO -                   Total          5.4554 sec.\n"
     ]
    },
    {
     "name": "stdout",
     "output_type": "stream",
     "text": [
      "                  Total          5.4554 sec.\n"
     ]
    },
    {
     "name": "stderr",
     "output_type": "stream",
     "text": [
      "2025-05-07 19:39:00,341 - stpipe - INFO - \n"
     ]
    },
    {
     "name": "stdout",
     "output_type": "stream",
     "text": [
      "\n"
     ]
    },
    {
     "name": "stderr",
     "output_type": "stream",
     "text": [
      "2025-05-07 19:39:00,346 - stpipe - INFO - Trailer file written to:  astrodrizzle.log\n"
     ]
    },
    {
     "name": "stdout",
     "output_type": "stream",
     "text": [
      "Trailer file written to:  astrodrizzle.log\n"
     ]
    },
    {
     "name": "stderr",
     "output_type": "stream",
     "text": [
      "mv: rename /Users/avapolzin/Desktop/psf_testoutputs/acs/*.psf to psfs/*.psf: No such file or directory\n",
      "mv: rename /Users/avapolzin/Desktop/psf_testoutputs/acs/*.cat to psfs/*.cat: No such file or directory\n",
      "mv: rename /Users/avapolzin/Desktop/psf_testoutputs/acs/*_mask.fits to psfs/*_mask.fits: No such file or directory\n"
     ]
    }
   ],
   "source": [
    "dpsf = hst(img_dir = datapath, obj = obj, img_type = 'flc', inst = 'ACS', camera = 'WFC', savedir = outputpath, pretweaked = True, \n",
    "          listchoice = 'O6', temp = 45000)"
   ]
  },
  {
   "cell_type": "markdown",
   "id": "24ee0df8-d757-4d83-a079-620ee19564f8",
   "metadata": {},
   "source": [
    "`spike` can also be used to generate PSFs for multiple objects/coordinates simultaneously."
   ]
  },
  {
   "cell_type": "code",
   "execution_count": 4,
   "id": "ad0b682a-8d60-4922-8d07-d9a694e0434b",
   "metadata": {
    "scrolled": true
   },
   "outputs": [
    {
     "name": "stderr",
     "output_type": "stream",
     "text": [
      "2025-05-07 20:31:49,191 - stpipe - WARNING - /Users/avapolzin/opt/anaconda3/envs/spike/lib/python3.10/site-packages/spike/psf/psf.py:236: Warning: All of major, minor, and angle must be specified to be applied. Proceeding with no elliptical jitter.\n",
      "\n"
     ]
    },
    {
     "name": "stdout",
     "output_type": "stream",
     "text": [
      "Tiny Tim v7.5\n",
      "Intermediate PSF dimensions are 464 by 464\n",
      "\n",
      "Computing PSF for position 1/1 (x,y) = 1020 181\n",
      "   Computing PSF 1/18 for wavelength 393.82 nm (weight=0.008917)\n",
      "   Computing PSF 2/18 for wavelength 402.92 nm (weight=0.024755)\n",
      "   Computing PSF 3/18 for wavelength 412.02 nm (weight=0.037561)\n",
      "   Computing PSF 4/18 for wavelength 421.11 nm (weight=0.045079)\n",
      "   Computing PSF 5/18 for wavelength 430.21 nm (weight=0.052658)\n",
      "   Computing PSF 6/18 for wavelength 439.31 nm (weight=0.056584)\n",
      "   Computing PSF 7/18 for wavelength 448.41 nm (weight=0.059373)\n",
      "   Computing PSF 8/18 for wavelength 457.51 nm (weight=0.061140)\n",
      "   Computing PSF 9/18 for wavelength 466.61 nm (weight=0.064193)\n",
      "   Computing PSF 10/18 for wavelength 475.70 nm (weight=0.065803)\n",
      "   Computing PSF 11/18 for wavelength 484.80 nm (weight=0.067198)\n",
      "   Computing PSF 12/18 for wavelength 493.90 nm (weight=0.069242)\n",
      "   Computing PSF 13/18 for wavelength 503.00 nm (weight=0.070478)\n",
      "   Computing PSF 14/18 for wavelength 512.10 nm (weight=0.072073)\n",
      "   Computing PSF 15/18 for wavelength 521.20 nm (weight=0.071785)\n",
      "   Computing PSF 16/18 for wavelength 530.30 nm (weight=0.070366)\n",
      "   Computing PSF 17/18 for wavelength 539.39 nm (weight=0.069026)\n",
      "   Computing PSF 18/18 for wavelength 548.49 nm (weight=0.033769)\n",
      "   Writing PSF to /Users/avapolzin/Desktop/psf_testoutputs/acs/j8pu42ecq_flc150d08m15.267s+2d09m52.304s_F475W_psf00_psf.fits\n",
      "\n",
      "Started at  Wed May  7 20:31:49 2025\n",
      "Finished at Wed May  7 20:31:51 2025\n",
      "\n",
      "Writing template optional parameter file for tiny3 to /Users/avapolzin/Desktop/psf_testoutputs/acs/j8pu42ecq_flc150d08m15.267s+2d09m52.304s_F475W_psf.tt3.\n",
      "\n",
      "To continue PSF processing for ACS and WFC3, you must run tiny3 to resample\n",
      "and distort the PSF.  You may also process a simulated scene (see\n",
      "the manual for details).\n",
      "\n",
      "Just to distort the PSF, issue this command :\n",
      "\n",
      "        tiny3 tiny.param\n",
      "\n"
     ]
    },
    {
     "name": "stderr",
     "output_type": "stream",
     "text": [
      "2025-05-07 20:31:52,399 - stpipe - WARNING - /Users/avapolzin/opt/anaconda3/envs/spike/lib/python3.10/site-packages/spike/psf/psf.py:236: Warning: All of major, minor, and angle must be specified to be applied. Proceeding with no elliptical jitter.\n",
      "\n"
     ]
    },
    {
     "name": "stdout",
     "output_type": "stream",
     "text": [
      "Tiny Tim v7.5\n",
      "Processing PSF for position 1/1 : (x,y) = 1020 181\n",
      "Reading input PSF from /Users/avapolzin/Desktop/psf_testoutputs/acs/j8pu42ecq_flc150d08m15.267s+2d09m52.304s_F475W_psf00_psf.fits.\n",
      "  Input critically-sampled undistorted PSF dimensions are 464 by 464 (0.013018 arcsec/pixel).\n",
      "  Mapping PSF onto distorted grid.\n",
      "  Convolving PSF with charge diffusion kernel.\n",
      "  Writing distorted PSF to /Users/avapolzin/Desktop/psf_testoutputs/acs/j8pu42ecq_flc150d08m15.267s+2d09m52.304s_F475W_psf00.fits (146 by 146 pixels)\n",
      "\n",
      "Started at  Wed May  7 20:31:51 2025\n",
      "Finished at Wed May  7 20:31:52 2025\n",
      "Tiny Tim v7.5\n",
      "Intermediate PSF dimensions are 464 by 464\n",
      "\n",
      "Computing PSF for position 1/1 (x,y) = 2652 1305\n",
      "   Computing PSF 1/18 for wavelength 393.82 nm (weight=0.008917)\n",
      "   Computing PSF 2/18 for wavelength 402.92 nm (weight=0.024755)\n",
      "   Computing PSF 3/18 for wavelength 412.02 nm (weight=0.037561)\n",
      "   Computing PSF 4/18 for wavelength 421.11 nm (weight=0.045079)\n",
      "   Computing PSF 5/18 for wavelength 430.21 nm (weight=0.052658)\n",
      "   Computing PSF 6/18 for wavelength 439.31 nm (weight=0.056584)\n",
      "   Computing PSF 7/18 for wavelength 448.41 nm (weight=0.059373)\n",
      "   Computing PSF 8/18 for wavelength 457.51 nm (weight=0.061140)\n",
      "   Computing PSF 9/18 for wavelength 466.61 nm (weight=0.064193)\n",
      "   Computing PSF 10/18 for wavelength 475.70 nm (weight=0.065803)\n",
      "   Computing PSF 11/18 for wavelength 484.80 nm (weight=0.067198)\n",
      "   Computing PSF 12/18 for wavelength 493.90 nm (weight=0.069242)\n",
      "   Computing PSF 13/18 for wavelength 503.00 nm (weight=0.070478)\n",
      "   Computing PSF 14/18 for wavelength 512.10 nm (weight=0.072073)\n",
      "   Computing PSF 15/18 for wavelength 521.20 nm (weight=0.071785)\n",
      "   Computing PSF 16/18 for wavelength 530.30 nm (weight=0.070366)\n",
      "   Computing PSF 17/18 for wavelength 539.39 nm (weight=0.069026)\n",
      "   Computing PSF 18/18 for wavelength 548.49 nm (weight=0.033769)\n",
      "   Writing PSF to /Users/avapolzin/Desktop/psf_testoutputs/acs/j8pu42ecq_flc150d07m02.697s+2d08m40.507s_F475W_psf00_psf.fits\n",
      "\n",
      "Started at  Wed May  7 20:31:52 2025\n",
      "Finished at Wed May  7 20:31:55 2025\n",
      "\n",
      "Writing template optional parameter file for tiny3 to /Users/avapolzin/Desktop/psf_testoutputs/acs/j8pu42ecq_flc150d07m02.697s+2d08m40.507s_F475W_psf.tt3.\n",
      "\n",
      "To continue PSF processing for ACS and WFC3, you must run tiny3 to resample\n",
      "and distort the PSF.  You may also process a simulated scene (see\n",
      "the manual for details).\n",
      "\n",
      "Just to distort the PSF, issue this command :\n",
      "\n",
      "        tiny3 tiny.param\n",
      "\n"
     ]
    },
    {
     "name": "stderr",
     "output_type": "stream",
     "text": [
      "2025-05-07 20:31:55,538 - stpipe - WARNING - /Users/avapolzin/opt/anaconda3/envs/spike/lib/python3.10/site-packages/spike/psf/psf.py:236: Warning: All of major, minor, and angle must be specified to be applied. Proceeding with no elliptical jitter.\n",
      "\n"
     ]
    },
    {
     "name": "stdout",
     "output_type": "stream",
     "text": [
      "Tiny Tim v7.5\n",
      "Processing PSF for position 1/1 : (x,y) = 2652 1305\n",
      "Reading input PSF from /Users/avapolzin/Desktop/psf_testoutputs/acs/j8pu42ecq_flc150d07m02.697s+2d08m40.507s_F475W_psf00_psf.fits.\n",
      "  Input critically-sampled undistorted PSF dimensions are 464 by 464 (0.013018 arcsec/pixel).\n",
      "  Mapping PSF onto distorted grid.\n",
      "  Convolving PSF with charge diffusion kernel.\n",
      "  Writing distorted PSF to /Users/avapolzin/Desktop/psf_testoutputs/acs/j8pu42ecq_flc150d07m02.697s+2d08m40.507s_F475W_psf00.fits (146 by 146 pixels)\n",
      "\n",
      "Started at  Wed May  7 20:31:55 2025\n",
      "Finished at Wed May  7 20:31:55 2025\n",
      "Tiny Tim v7.5\n",
      "Intermediate PSF dimensions are 464 by 464\n",
      "\n",
      "Computing PSF for position 1/1 (x,y) = 1025 242\n",
      "   Computing PSF 1/18 for wavelength 393.82 nm (weight=0.008917)\n",
      "   Computing PSF 2/18 for wavelength 402.92 nm (weight=0.024755)\n",
      "   Computing PSF 3/18 for wavelength 412.02 nm (weight=0.037561)\n",
      "   Computing PSF 4/18 for wavelength 421.11 nm (weight=0.045079)\n",
      "   Computing PSF 5/18 for wavelength 430.21 nm (weight=0.052658)\n",
      "   Computing PSF 6/18 for wavelength 439.31 nm (weight=0.056584)\n",
      "   Computing PSF 7/18 for wavelength 448.41 nm (weight=0.059373)\n",
      "   Computing PSF 8/18 for wavelength 457.51 nm (weight=0.061140)\n",
      "   Computing PSF 9/18 for wavelength 466.61 nm (weight=0.064193)\n",
      "   Computing PSF 10/18 for wavelength 475.70 nm (weight=0.065803)\n",
      "   Computing PSF 11/18 for wavelength 484.80 nm (weight=0.067198)\n",
      "   Computing PSF 12/18 for wavelength 493.90 nm (weight=0.069242)\n",
      "   Computing PSF 13/18 for wavelength 503.00 nm (weight=0.070478)\n",
      "   Computing PSF 14/18 for wavelength 512.10 nm (weight=0.072073)\n",
      "   Computing PSF 15/18 for wavelength 521.20 nm (weight=0.071785)\n",
      "   Computing PSF 16/18 for wavelength 530.30 nm (weight=0.070366)\n",
      "   Computing PSF 17/18 for wavelength 539.39 nm (weight=0.069026)\n",
      "   Computing PSF 18/18 for wavelength 548.49 nm (weight=0.033769)\n",
      "   Writing PSF to /Users/avapolzin/Desktop/psf_testoutputs/acs/j8pu42egq_flc150d08m15.267s+2d09m52.304s_F475W_psf00_psf.fits\n",
      "\n",
      "Started at  Wed May  7 20:31:55 2025\n",
      "Finished at Wed May  7 20:31:58 2025\n",
      "\n",
      "Writing template optional parameter file for tiny3 to /Users/avapolzin/Desktop/psf_testoutputs/acs/j8pu42egq_flc150d08m15.267s+2d09m52.304s_F475W_psf.tt3.\n",
      "\n",
      "To continue PSF processing for ACS and WFC3, you must run tiny3 to resample\n",
      "and distort the PSF.  You may also process a simulated scene (see\n",
      "the manual for details).\n",
      "\n",
      "Just to distort the PSF, issue this command :\n",
      "\n",
      "        tiny3 tiny.param\n",
      "\n"
     ]
    },
    {
     "name": "stderr",
     "output_type": "stream",
     "text": [
      "2025-05-07 20:31:58,679 - stpipe - WARNING - /Users/avapolzin/opt/anaconda3/envs/spike/lib/python3.10/site-packages/spike/psf/psf.py:236: Warning: All of major, minor, and angle must be specified to be applied. Proceeding with no elliptical jitter.\n",
      "\n"
     ]
    },
    {
     "name": "stdout",
     "output_type": "stream",
     "text": [
      "Tiny Tim v7.5\n",
      "Processing PSF for position 1/1 : (x,y) = 1025 242\n",
      "Reading input PSF from /Users/avapolzin/Desktop/psf_testoutputs/acs/j8pu42egq_flc150d08m15.267s+2d09m52.304s_F475W_psf00_psf.fits.\n",
      "  Input critically-sampled undistorted PSF dimensions are 464 by 464 (0.013018 arcsec/pixel).\n",
      "  Mapping PSF onto distorted grid.\n",
      "  Convolving PSF with charge diffusion kernel.\n",
      "  Writing distorted PSF to /Users/avapolzin/Desktop/psf_testoutputs/acs/j8pu42egq_flc150d08m15.267s+2d09m52.304s_F475W_psf00.fits (146 by 146 pixels)\n",
      "\n",
      "Started at  Wed May  7 20:31:58 2025\n",
      "Finished at Wed May  7 20:31:58 2025\n",
      "Tiny Tim v7.5\n",
      "Intermediate PSF dimensions are 464 by 464\n",
      "\n",
      "Computing PSF for position 1/1 (x,y) = 2657 1366\n",
      "   Computing PSF 1/18 for wavelength 393.82 nm (weight=0.008917)\n",
      "   Computing PSF 2/18 for wavelength 402.92 nm (weight=0.024755)\n",
      "   Computing PSF 3/18 for wavelength 412.02 nm (weight=0.037561)\n",
      "   Computing PSF 4/18 for wavelength 421.11 nm (weight=0.045079)\n",
      "   Computing PSF 5/18 for wavelength 430.21 nm (weight=0.052658)\n",
      "   Computing PSF 6/18 for wavelength 439.31 nm (weight=0.056584)\n",
      "   Computing PSF 7/18 for wavelength 448.41 nm (weight=0.059373)\n",
      "   Computing PSF 8/18 for wavelength 457.51 nm (weight=0.061140)\n",
      "   Computing PSF 9/18 for wavelength 466.61 nm (weight=0.064193)\n",
      "   Computing PSF 10/18 for wavelength 475.70 nm (weight=0.065803)\n",
      "   Computing PSF 11/18 for wavelength 484.80 nm (weight=0.067198)\n",
      "   Computing PSF 12/18 for wavelength 493.90 nm (weight=0.069242)\n",
      "   Computing PSF 13/18 for wavelength 503.00 nm (weight=0.070478)\n",
      "   Computing PSF 14/18 for wavelength 512.10 nm (weight=0.072073)\n",
      "   Computing PSF 15/18 for wavelength 521.20 nm (weight=0.071785)\n",
      "   Computing PSF 16/18 for wavelength 530.30 nm (weight=0.070366)\n",
      "   Computing PSF 17/18 for wavelength 539.39 nm (weight=0.069026)\n",
      "   Computing PSF 18/18 for wavelength 548.49 nm (weight=0.033769)\n",
      "   Writing PSF to /Users/avapolzin/Desktop/psf_testoutputs/acs/j8pu42egq_flc150d07m02.697s+2d08m40.507s_F475W_psf00_psf.fits\n",
      "\n",
      "Started at  Wed May  7 20:31:58 2025\n",
      "Finished at Wed May  7 20:32:01 2025\n",
      "\n",
      "Writing template optional parameter file for tiny3 to /Users/avapolzin/Desktop/psf_testoutputs/acs/j8pu42egq_flc150d07m02.697s+2d08m40.507s_F475W_psf.tt3.\n",
      "\n",
      "To continue PSF processing for ACS and WFC3, you must run tiny3 to resample\n",
      "and distort the PSF.  You may also process a simulated scene (see\n",
      "the manual for details).\n",
      "\n",
      "Just to distort the PSF, issue this command :\n",
      "\n",
      "        tiny3 tiny.param\n",
      "\n"
     ]
    },
    {
     "name": "stderr",
     "output_type": "stream",
     "text": [
      "2025-05-07 20:32:01,809 - stpipe - WARNING - /Users/avapolzin/opt/anaconda3/envs/spike/lib/python3.10/site-packages/spike/psf/psf.py:236: Warning: All of major, minor, and angle must be specified to be applied. Proceeding with no elliptical jitter.\n",
      "\n"
     ]
    },
    {
     "name": "stdout",
     "output_type": "stream",
     "text": [
      "Tiny Tim v7.5\n",
      "Processing PSF for position 1/1 : (x,y) = 2657 1366\n",
      "Reading input PSF from /Users/avapolzin/Desktop/psf_testoutputs/acs/j8pu42egq_flc150d07m02.697s+2d08m40.507s_F475W_psf00_psf.fits.\n",
      "  Input critically-sampled undistorted PSF dimensions are 464 by 464 (0.013018 arcsec/pixel).\n",
      "  Mapping PSF onto distorted grid.\n",
      "  Convolving PSF with charge diffusion kernel.\n",
      "  Writing distorted PSF to /Users/avapolzin/Desktop/psf_testoutputs/acs/j8pu42egq_flc150d07m02.697s+2d08m40.507s_F475W_psf00.fits (146 by 146 pixels)\n",
      "\n",
      "Started at  Wed May  7 20:32:01 2025\n",
      "Finished at Wed May  7 20:32:01 2025\n",
      "Tiny Tim v7.5\n",
      "Intermediate PSF dimensions are 464 by 464\n",
      "\n",
      "Computing PSF for position 1/1 (x,y) = 1025 242\n",
      "   Computing PSF 1/18 for wavelength 393.82 nm (weight=0.008917)\n",
      "   Computing PSF 2/18 for wavelength 402.92 nm (weight=0.024755)\n",
      "   Computing PSF 3/18 for wavelength 412.02 nm (weight=0.037561)\n",
      "   Computing PSF 4/18 for wavelength 421.11 nm (weight=0.045079)\n",
      "   Computing PSF 5/18 for wavelength 430.21 nm (weight=0.052658)\n",
      "   Computing PSF 6/18 for wavelength 439.31 nm (weight=0.056584)\n",
      "   Computing PSF 7/18 for wavelength 448.41 nm (weight=0.059373)\n",
      "   Computing PSF 8/18 for wavelength 457.51 nm (weight=0.061140)\n",
      "   Computing PSF 9/18 for wavelength 466.61 nm (weight=0.064193)\n",
      "   Computing PSF 10/18 for wavelength 475.70 nm (weight=0.065803)\n",
      "   Computing PSF 11/18 for wavelength 484.80 nm (weight=0.067198)\n",
      "   Computing PSF 12/18 for wavelength 493.90 nm (weight=0.069242)\n",
      "   Computing PSF 13/18 for wavelength 503.00 nm (weight=0.070478)\n",
      "   Computing PSF 14/18 for wavelength 512.10 nm (weight=0.072073)\n",
      "   Computing PSF 15/18 for wavelength 521.20 nm (weight=0.071785)\n",
      "   Computing PSF 16/18 for wavelength 530.30 nm (weight=0.070366)\n",
      "   Computing PSF 17/18 for wavelength 539.39 nm (weight=0.069026)\n",
      "   Computing PSF 18/18 for wavelength 548.49 nm (weight=0.033769)\n",
      "   Writing PSF to /Users/avapolzin/Desktop/psf_testoutputs/acs/j8pu42esq_flc150d08m15.267s+2d09m52.304s_F475W_psf00_psf.fits\n",
      "\n",
      "Started at  Wed May  7 20:32:01 2025\n",
      "Finished at Wed May  7 20:32:04 2025\n",
      "\n",
      "Writing template optional parameter file for tiny3 to /Users/avapolzin/Desktop/psf_testoutputs/acs/j8pu42esq_flc150d08m15.267s+2d09m52.304s_F475W_psf.tt3.\n",
      "\n",
      "To continue PSF processing for ACS and WFC3, you must run tiny3 to resample\n",
      "and distort the PSF.  You may also process a simulated scene (see\n",
      "the manual for details).\n",
      "\n",
      "Just to distort the PSF, issue this command :\n",
      "\n",
      "        tiny3 tiny.param\n",
      "\n"
     ]
    },
    {
     "name": "stderr",
     "output_type": "stream",
     "text": [
      "2025-05-07 20:32:04,956 - stpipe - WARNING - /Users/avapolzin/opt/anaconda3/envs/spike/lib/python3.10/site-packages/spike/psf/psf.py:236: Warning: All of major, minor, and angle must be specified to be applied. Proceeding with no elliptical jitter.\n",
      "\n"
     ]
    },
    {
     "name": "stdout",
     "output_type": "stream",
     "text": [
      "Tiny Tim v7.5\n",
      "Processing PSF for position 1/1 : (x,y) = 1025 242\n",
      "Reading input PSF from /Users/avapolzin/Desktop/psf_testoutputs/acs/j8pu42esq_flc150d08m15.267s+2d09m52.304s_F475W_psf00_psf.fits.\n",
      "  Input critically-sampled undistorted PSF dimensions are 464 by 464 (0.013018 arcsec/pixel).\n",
      "  Mapping PSF onto distorted grid.\n",
      "  Convolving PSF with charge diffusion kernel.\n",
      "  Writing distorted PSF to /Users/avapolzin/Desktop/psf_testoutputs/acs/j8pu42esq_flc150d08m15.267s+2d09m52.304s_F475W_psf00.fits (146 by 146 pixels)\n",
      "\n",
      "Started at  Wed May  7 20:32:04 2025\n",
      "Finished at Wed May  7 20:32:04 2025\n",
      "Tiny Tim v7.5\n",
      "Intermediate PSF dimensions are 464 by 464\n",
      "\n",
      "Computing PSF for position 1/1 (x,y) = 2657 1366\n",
      "   Computing PSF 1/18 for wavelength 393.82 nm (weight=0.008917)\n",
      "   Computing PSF 2/18 for wavelength 402.92 nm (weight=0.024755)\n",
      "   Computing PSF 3/18 for wavelength 412.02 nm (weight=0.037561)\n",
      "   Computing PSF 4/18 for wavelength 421.11 nm (weight=0.045079)\n",
      "   Computing PSF 5/18 for wavelength 430.21 nm (weight=0.052658)\n",
      "   Computing PSF 6/18 for wavelength 439.31 nm (weight=0.056584)\n",
      "   Computing PSF 7/18 for wavelength 448.41 nm (weight=0.059373)\n",
      "   Computing PSF 8/18 for wavelength 457.51 nm (weight=0.061140)\n",
      "   Computing PSF 9/18 for wavelength 466.61 nm (weight=0.064193)\n",
      "   Computing PSF 10/18 for wavelength 475.70 nm (weight=0.065803)\n",
      "   Computing PSF 11/18 for wavelength 484.80 nm (weight=0.067198)\n",
      "   Computing PSF 12/18 for wavelength 493.90 nm (weight=0.069242)\n",
      "   Computing PSF 13/18 for wavelength 503.00 nm (weight=0.070478)\n",
      "   Computing PSF 14/18 for wavelength 512.10 nm (weight=0.072073)\n",
      "   Computing PSF 15/18 for wavelength 521.20 nm (weight=0.071785)\n",
      "   Computing PSF 16/18 for wavelength 530.30 nm (weight=0.070366)\n",
      "   Computing PSF 17/18 for wavelength 539.39 nm (weight=0.069026)\n",
      "   Computing PSF 18/18 for wavelength 548.49 nm (weight=0.033769)\n",
      "   Writing PSF to /Users/avapolzin/Desktop/psf_testoutputs/acs/j8pu42esq_flc150d07m02.697s+2d08m40.507s_F475W_psf00_psf.fits\n",
      "\n",
      "Started at  Wed May  7 20:32:04 2025\n",
      "Finished at Wed May  7 20:32:07 2025\n",
      "\n",
      "Writing template optional parameter file for tiny3 to /Users/avapolzin/Desktop/psf_testoutputs/acs/j8pu42esq_flc150d07m02.697s+2d08m40.507s_F475W_psf.tt3.\n",
      "\n",
      "To continue PSF processing for ACS and WFC3, you must run tiny3 to resample\n",
      "and distort the PSF.  You may also process a simulated scene (see\n",
      "the manual for details).\n",
      "\n",
      "Just to distort the PSF, issue this command :\n",
      "\n",
      "        tiny3 tiny.param\n",
      "\n"
     ]
    },
    {
     "name": "stderr",
     "output_type": "stream",
     "text": [
      "2025-05-07 20:32:08,113 - stpipe - WARNING - /Users/avapolzin/opt/anaconda3/envs/spike/lib/python3.10/site-packages/spike/psf/psf.py:236: Warning: All of major, minor, and angle must be specified to be applied. Proceeding with no elliptical jitter.\n",
      "\n"
     ]
    },
    {
     "name": "stdout",
     "output_type": "stream",
     "text": [
      "Tiny Tim v7.5\n",
      "Processing PSF for position 1/1 : (x,y) = 2657 1366\n",
      "Reading input PSF from /Users/avapolzin/Desktop/psf_testoutputs/acs/j8pu42esq_flc150d07m02.697s+2d08m40.507s_F475W_psf00_psf.fits.\n",
      "  Input critically-sampled undistorted PSF dimensions are 464 by 464 (0.013018 arcsec/pixel).\n",
      "  Mapping PSF onto distorted grid.\n",
      "  Convolving PSF with charge diffusion kernel.\n",
      "  Writing distorted PSF to /Users/avapolzin/Desktop/psf_testoutputs/acs/j8pu42esq_flc150d07m02.697s+2d08m40.507s_F475W_psf00.fits (146 by 146 pixels)\n",
      "\n",
      "Started at  Wed May  7 20:32:07 2025\n",
      "Finished at Wed May  7 20:32:07 2025\n",
      "Tiny Tim v7.5\n",
      "Intermediate PSF dimensions are 464 by 464\n",
      "\n",
      "Computing PSF for position 1/1 (x,y) = 1023 363\n",
      "   Computing PSF 1/18 for wavelength 393.82 nm (weight=0.008917)\n",
      "   Computing PSF 2/18 for wavelength 402.92 nm (weight=0.024755)\n",
      "   Computing PSF 3/18 for wavelength 412.02 nm (weight=0.037561)\n",
      "   Computing PSF 4/18 for wavelength 421.11 nm (weight=0.045079)\n",
      "   Computing PSF 5/18 for wavelength 430.21 nm (weight=0.052658)\n",
      "   Computing PSF 6/18 for wavelength 439.31 nm (weight=0.056584)\n",
      "   Computing PSF 7/18 for wavelength 448.41 nm (weight=0.059373)\n",
      "   Computing PSF 8/18 for wavelength 457.51 nm (weight=0.061140)\n",
      "   Computing PSF 9/18 for wavelength 466.61 nm (weight=0.064193)\n",
      "   Computing PSF 10/18 for wavelength 475.70 nm (weight=0.065803)\n",
      "   Computing PSF 11/18 for wavelength 484.80 nm (weight=0.067198)\n",
      "   Computing PSF 12/18 for wavelength 493.90 nm (weight=0.069242)\n",
      "   Computing PSF 13/18 for wavelength 503.00 nm (weight=0.070478)\n",
      "   Computing PSF 14/18 for wavelength 512.10 nm (weight=0.072073)\n",
      "   Computing PSF 15/18 for wavelength 521.20 nm (weight=0.071785)\n",
      "   Computing PSF 16/18 for wavelength 530.30 nm (weight=0.070366)\n",
      "   Computing PSF 17/18 for wavelength 539.39 nm (weight=0.069026)\n",
      "   Computing PSF 18/18 for wavelength 548.49 nm (weight=0.033769)\n",
      "   Writing PSF to /Users/avapolzin/Desktop/psf_testoutputs/acs/j8pu42evq_flc150d08m15.267s+2d09m52.304s_F475W_psf00_psf.fits\n",
      "\n",
      "Started at  Wed May  7 20:32:08 2025\n",
      "Finished at Wed May  7 20:32:10 2025\n",
      "\n",
      "Writing template optional parameter file for tiny3 to /Users/avapolzin/Desktop/psf_testoutputs/acs/j8pu42evq_flc150d08m15.267s+2d09m52.304s_F475W_psf.tt3.\n",
      "\n",
      "To continue PSF processing for ACS and WFC3, you must run tiny3 to resample\n",
      "and distort the PSF.  You may also process a simulated scene (see\n",
      "the manual for details).\n",
      "\n",
      "Just to distort the PSF, issue this command :\n",
      "\n",
      "        tiny3 tiny.param\n",
      "\n"
     ]
    },
    {
     "name": "stderr",
     "output_type": "stream",
     "text": [
      "2025-05-07 20:32:11,310 - stpipe - WARNING - /Users/avapolzin/opt/anaconda3/envs/spike/lib/python3.10/site-packages/spike/psf/psf.py:236: Warning: All of major, minor, and angle must be specified to be applied. Proceeding with no elliptical jitter.\n",
      "\n"
     ]
    },
    {
     "name": "stdout",
     "output_type": "stream",
     "text": [
      "Tiny Tim v7.5\n",
      "Processing PSF for position 1/1 : (x,y) = 1023 363\n",
      "Reading input PSF from /Users/avapolzin/Desktop/psf_testoutputs/acs/j8pu42evq_flc150d08m15.267s+2d09m52.304s_F475W_psf00_psf.fits.\n",
      "  Input critically-sampled undistorted PSF dimensions are 464 by 464 (0.013018 arcsec/pixel).\n",
      "  Mapping PSF onto distorted grid.\n",
      "  Convolving PSF with charge diffusion kernel.\n",
      "  Writing distorted PSF to /Users/avapolzin/Desktop/psf_testoutputs/acs/j8pu42evq_flc150d08m15.267s+2d09m52.304s_F475W_psf00.fits (146 by 146 pixels)\n",
      "\n",
      "Started at  Wed May  7 20:32:10 2025\n",
      "Finished at Wed May  7 20:32:11 2025\n",
      "Tiny Tim v7.5\n",
      "Intermediate PSF dimensions are 464 by 464\n",
      "\n",
      "Computing PSF for position 1/1 (x,y) = 2655 1487\n",
      "   Computing PSF 1/18 for wavelength 393.82 nm (weight=0.008917)\n",
      "   Computing PSF 2/18 for wavelength 402.92 nm (weight=0.024755)\n",
      "   Computing PSF 3/18 for wavelength 412.02 nm (weight=0.037561)\n",
      "   Computing PSF 4/18 for wavelength 421.11 nm (weight=0.045079)\n",
      "   Computing PSF 5/18 for wavelength 430.21 nm (weight=0.052658)\n",
      "   Computing PSF 6/18 for wavelength 439.31 nm (weight=0.056584)\n",
      "   Computing PSF 7/18 for wavelength 448.41 nm (weight=0.059373)\n",
      "   Computing PSF 8/18 for wavelength 457.51 nm (weight=0.061140)\n",
      "   Computing PSF 9/18 for wavelength 466.61 nm (weight=0.064193)\n",
      "   Computing PSF 10/18 for wavelength 475.70 nm (weight=0.065803)\n",
      "   Computing PSF 11/18 for wavelength 484.80 nm (weight=0.067198)\n",
      "   Computing PSF 12/18 for wavelength 493.90 nm (weight=0.069242)\n",
      "   Computing PSF 13/18 for wavelength 503.00 nm (weight=0.070478)\n",
      "   Computing PSF 14/18 for wavelength 512.10 nm (weight=0.072073)\n",
      "   Computing PSF 15/18 for wavelength 521.20 nm (weight=0.071785)\n",
      "   Computing PSF 16/18 for wavelength 530.30 nm (weight=0.070366)\n",
      "   Computing PSF 17/18 for wavelength 539.39 nm (weight=0.069026)\n",
      "   Computing PSF 18/18 for wavelength 548.49 nm (weight=0.033769)\n",
      "   Writing PSF to /Users/avapolzin/Desktop/psf_testoutputs/acs/j8pu42evq_flc150d07m02.697s+2d08m40.507s_F475W_psf00_psf.fits\n",
      "\n",
      "Started at  Wed May  7 20:32:11 2025\n",
      "Finished at Wed May  7 20:32:14 2025\n",
      "\n",
      "Writing template optional parameter file for tiny3 to /Users/avapolzin/Desktop/psf_testoutputs/acs/j8pu42evq_flc150d07m02.697s+2d08m40.507s_F475W_psf.tt3.\n",
      "\n",
      "To continue PSF processing for ACS and WFC3, you must run tiny3 to resample\n",
      "and distort the PSF.  You may also process a simulated scene (see\n",
      "the manual for details).\n",
      "\n",
      "Just to distort the PSF, issue this command :\n",
      "\n",
      "        tiny3 tiny.param\n",
      "\n"
     ]
    },
    {
     "name": "stderr",
     "output_type": "stream",
     "text": [
      "2025-05-07 20:32:14,743 - stpipe - INFO - Setting up logfile :  astrodrizzle.log\n"
     ]
    },
    {
     "name": "stdout",
     "output_type": "stream",
     "text": [
      "Tiny Tim v7.5\n",
      "Processing PSF for position 1/1 : (x,y) = 2655 1487\n",
      "Reading input PSF from /Users/avapolzin/Desktop/psf_testoutputs/acs/j8pu42evq_flc150d07m02.697s+2d08m40.507s_F475W_psf00_psf.fits.\n",
      "  Input critically-sampled undistorted PSF dimensions are 464 by 464 (0.013018 arcsec/pixel).\n",
      "  Mapping PSF onto distorted grid.\n",
      "  Convolving PSF with charge diffusion kernel.\n",
      "  Writing distorted PSF to /Users/avapolzin/Desktop/psf_testoutputs/acs/j8pu42evq_flc150d07m02.697s+2d08m40.507s_F475W_psf00.fits (146 by 146 pixels)\n",
      "\n",
      "Started at  Wed May  7 20:32:14 2025\n",
      "Finished at Wed May  7 20:32:14 2025\n",
      "Setting up logfile :  astrodrizzle.log\n"
     ]
    },
    {
     "name": "stderr",
     "output_type": "stream",
     "text": [
      "2025-05-07 20:32:14,744 - stpipe - INFO - AstroDrizzle log file: astrodrizzle.log\n"
     ]
    },
    {
     "name": "stdout",
     "output_type": "stream",
     "text": [
      "AstroDrizzle log file: astrodrizzle.log\n"
     ]
    },
    {
     "name": "stderr",
     "output_type": "stream",
     "text": [
      "2025-05-07 20:32:14,745 - stpipe - INFO - AstroDrizzle Version 3.7.1rc1.dev56+g7951b66 started at: 20:32:14.745 (07/05/2025)\n"
     ]
    },
    {
     "name": "stdout",
     "output_type": "stream",
     "text": [
      "AstroDrizzle Version 3.7.1rc1.dev56+g7951b66 started at: 20:32:14.745 (07/05/2025)\n"
     ]
    },
    {
     "name": "stderr",
     "output_type": "stream",
     "text": [
      "2025-05-07 20:32:14,746 - stpipe - INFO - \n"
     ]
    },
    {
     "name": "stdout",
     "output_type": "stream",
     "text": [
      "\n"
     ]
    },
    {
     "name": "stderr",
     "output_type": "stream",
     "text": [
      "2025-05-07 20:32:14,747 - stpipe - INFO - Version Information\n",
      "2025-05-07 20:32:14,747 - stpipe - INFO - --------------------\n",
      "2025-05-07 20:32:14,747 - stpipe - INFO - Python Version 3.10.16 (main, Dec 11 2024, 10:24:41) [Clang 14.0.6 ]\n",
      "2025-05-07 20:32:14,748 - stpipe - INFO - numpy Version -> 2.2.1 \n",
      "2025-05-07 20:32:14,748 - stpipe - INFO - astropy Version -> 6.1.7 \n",
      "2025-05-07 20:32:14,748 - stpipe - INFO - stwcs Version -> 1.7.3 \n",
      "2025-05-07 20:32:14,749 - stpipe - INFO - photutils Version -> 2.0.2 \n",
      "2025-05-07 20:32:14,750 - stpipe - INFO - ==== Processing Step  Initialization  started at  20:32:14.750 (07/05/2025)\n"
     ]
    },
    {
     "name": "stdout",
     "output_type": "stream",
     "text": [
      "==== Processing Step  Initialization  started at  20:32:14.750 (07/05/2025)\n"
     ]
    },
    {
     "name": "stderr",
     "output_type": "stream",
     "text": [
      "2025-05-07 20:32:14,751 - stpipe - INFO - \n"
     ]
    },
    {
     "name": "stdout",
     "output_type": "stream",
     "text": [
      "\n"
     ]
    },
    {
     "name": "stderr",
     "output_type": "stream",
     "text": [
      "2025-05-07 20:32:14,754 - stpipe - INFO - Preserving original of:  /Users/avapolzin/Desktop/psf_testoutputs/acs/j8pu42ecq_flc_150d08m15.267s+2d09m52.304s_F475W_topsf.fits as  OrIg_files/j8pu42ecq_flc_150d08m15.267s+2d09m52.304s_F475W_topsf.fits\n"
     ]
    },
    {
     "name": "stdout",
     "output_type": "stream",
     "text": [
      "Preserving original of:  /Users/avapolzin/Desktop/psf_testoutputs/acs/j8pu42ecq_flc_150d08m15.267s+2d09m52.304s_F475W_topsf.fits as  OrIg_files/j8pu42ecq_flc_150d08m15.267s+2d09m52.304s_F475W_topsf.fits\n"
     ]
    },
    {
     "name": "stderr",
     "output_type": "stream",
     "text": [
      "2025-05-07 20:32:14,824 - stpipe - INFO - Preserving original of:  /Users/avapolzin/Desktop/psf_testoutputs/acs/j8pu42egq_flc_150d08m15.267s+2d09m52.304s_F475W_topsf.fits as  OrIg_files/j8pu42egq_flc_150d08m15.267s+2d09m52.304s_F475W_topsf.fits\n"
     ]
    },
    {
     "name": "stdout",
     "output_type": "stream",
     "text": [
      "Preserving original of:  /Users/avapolzin/Desktop/psf_testoutputs/acs/j8pu42egq_flc_150d08m15.267s+2d09m52.304s_F475W_topsf.fits as  OrIg_files/j8pu42egq_flc_150d08m15.267s+2d09m52.304s_F475W_topsf.fits\n"
     ]
    },
    {
     "name": "stderr",
     "output_type": "stream",
     "text": [
      "2025-05-07 20:32:14,894 - stpipe - INFO - Preserving original of:  /Users/avapolzin/Desktop/psf_testoutputs/acs/j8pu42esq_flc_150d08m15.267s+2d09m52.304s_F475W_topsf.fits as  OrIg_files/j8pu42esq_flc_150d08m15.267s+2d09m52.304s_F475W_topsf.fits\n"
     ]
    },
    {
     "name": "stdout",
     "output_type": "stream",
     "text": [
      "Preserving original of:  /Users/avapolzin/Desktop/psf_testoutputs/acs/j8pu42esq_flc_150d08m15.267s+2d09m52.304s_F475W_topsf.fits as  OrIg_files/j8pu42esq_flc_150d08m15.267s+2d09m52.304s_F475W_topsf.fits\n"
     ]
    },
    {
     "name": "stderr",
     "output_type": "stream",
     "text": [
      "2025-05-07 20:32:14,951 - stpipe - INFO - Preserving original of:  /Users/avapolzin/Desktop/psf_testoutputs/acs/j8pu42evq_flc_150d08m15.267s+2d09m52.304s_F475W_topsf.fits as  OrIg_files/j8pu42evq_flc_150d08m15.267s+2d09m52.304s_F475W_topsf.fits\n"
     ]
    },
    {
     "name": "stdout",
     "output_type": "stream",
     "text": [
      "Preserving original of:  /Users/avapolzin/Desktop/psf_testoutputs/acs/j8pu42evq_flc_150d08m15.267s+2d09m52.304s_F475W_topsf.fits as  OrIg_files/j8pu42evq_flc_150d08m15.267s+2d09m52.304s_F475W_topsf.fits\n"
     ]
    },
    {
     "name": "stderr",
     "output_type": "stream",
     "text": [
      "2025-05-07 20:32:15,041 - stpipe - INFO - Executing serially\n",
      "2025-05-07 20:32:15,093 - stpipe - INFO - Setting up output name: final_drz.fits\n",
      "2025-05-07 20:32:15,095 - stpipe - INFO - -Creating imageObject List as input for processing steps.\n",
      "2025-05-07 20:32:15,175 - stpipe - INFO - Reading in MDRIZSKY of 69.92457580566406\n",
      "2025-05-07 20:32:15,248 - stpipe - INFO - Reading in MDRIZSKY of 75.761962890625\n",
      "2025-05-07 20:32:15,319 - stpipe - INFO - Reading in MDRIZSKY of 68.4947509765625\n",
      "2025-05-07 20:32:15,393 - stpipe - INFO - Reading in MDRIZSKY of 68.80198669433594\n",
      "2025-05-07 20:32:15,414 - stpipe - INFO - Reset bit values of 4096 to a value of 0 in /Users/avapolzin/Desktop/psf_testoutputs/acs/j8pu42ecq_flc_150d08m15.267s+2d09m52.304s_F475W_topsf.fits[DQ,1]\n",
      "2025-05-07 20:32:15,439 - stpipe - INFO - Reset bit values of 4096 to a value of 0 in /Users/avapolzin/Desktop/psf_testoutputs/acs/j8pu42egq_flc_150d08m15.267s+2d09m52.304s_F475W_topsf.fits[DQ,1]\n",
      "2025-05-07 20:32:15,462 - stpipe - INFO - Reset bit values of 4096 to a value of 0 in /Users/avapolzin/Desktop/psf_testoutputs/acs/j8pu42esq_flc_150d08m15.267s+2d09m52.304s_F475W_topsf.fits[DQ,1]\n",
      "2025-05-07 20:32:15,484 - stpipe - INFO - Reset bit values of 4096 to a value of 0 in /Users/avapolzin/Desktop/psf_testoutputs/acs/j8pu42evq_flc_150d08m15.267s+2d09m52.304s_F475W_topsf.fits[DQ,1]\n",
      "2025-05-07 20:32:15,498 - stpipe - INFO - -Creating output WCS.\n",
      "2025-05-07 20:32:15,502 - stpipe - INFO - WCS Keywords\n"
     ]
    },
    {
     "name": "stdout",
     "output_type": "stream",
     "text": [
      "WCS Keywords\n"
     ]
    },
    {
     "name": "stderr",
     "output_type": "stream",
     "text": [
      "2025-05-07 20:32:15,504 - stpipe - INFO - \n"
     ]
    },
    {
     "name": "stdout",
     "output_type": "stream",
     "text": [
      "\n"
     ]
    },
    {
     "name": "stderr",
     "output_type": "stream",
     "text": [
      "2025-05-07 20:32:15,505 - stpipe - INFO - Number of WCS axes: 2\n"
     ]
    },
    {
     "name": "stdout",
     "output_type": "stream",
     "text": [
      "Number of WCS axes: 2\n"
     ]
    },
    {
     "name": "stderr",
     "output_type": "stream",
     "text": [
      "2025-05-07 20:32:15,506 - stpipe - INFO - CTYPE : 'RA---TAN' 'DEC--TAN' \n"
     ]
    },
    {
     "name": "stdout",
     "output_type": "stream",
     "text": [
      "CTYPE : 'RA---TAN' 'DEC--TAN' \n"
     ]
    },
    {
     "name": "stderr",
     "output_type": "stream",
     "text": [
      "2025-05-07 20:32:15,507 - stpipe - INFO - CRVAL : np.float64(150.1242636198465) np.float64(2.151761555110333) \n"
     ]
    },
    {
     "name": "stdout",
     "output_type": "stream",
     "text": [
      "CRVAL : np.float64(150.1242636198465) np.float64(2.151761555110333) \n"
     ]
    },
    {
     "name": "stderr",
     "output_type": "stream",
     "text": [
      "2025-05-07 20:32:15,509 - stpipe - INFO - CRPIX : np.float64(2081.0) np.float64(1179.5) \n"
     ]
    },
    {
     "name": "stdout",
     "output_type": "stream",
     "text": [
      "CRPIX : np.float64(2081.0) np.float64(1179.5) \n"
     ]
    },
    {
     "name": "stderr",
     "output_type": "stream",
     "text": [
      "2025-05-07 20:32:15,510 - stpipe - INFO - CD1_1 CD1_2  : np.float64(-2.4118726301966414e-06) np.float64(-1.3677869168244357e-05) \n"
     ]
    },
    {
     "name": "stdout",
     "output_type": "stream",
     "text": [
      "CD1_1 CD1_2  : np.float64(-2.4118726301966414e-06) np.float64(-1.3677869168244357e-05) \n"
     ]
    },
    {
     "name": "stderr",
     "output_type": "stream",
     "text": [
      "2025-05-07 20:32:15,511 - stpipe - INFO - CD2_1 CD2_2  : np.float64(-1.3677869168244357e-05) np.float64(2.4118726301966414e-06) \n"
     ]
    },
    {
     "name": "stdout",
     "output_type": "stream",
     "text": [
      "CD2_1 CD2_2  : np.float64(-1.3677869168244357e-05) np.float64(2.4118726301966414e-06) \n"
     ]
    },
    {
     "name": "stderr",
     "output_type": "stream",
     "text": [
      "2025-05-07 20:32:15,513 - stpipe - INFO - NAXIS : 4162  2359\n"
     ]
    },
    {
     "name": "stdout",
     "output_type": "stream",
     "text": [
      "NAXIS : 4162  2359\n"
     ]
    },
    {
     "name": "stderr",
     "output_type": "stream",
     "text": [
      "2025-05-07 20:32:15,514 - stpipe - INFO - ********************************************************************************\n"
     ]
    },
    {
     "name": "stdout",
     "output_type": "stream",
     "text": [
      "********************************************************************************\n"
     ]
    },
    {
     "name": "stderr",
     "output_type": "stream",
     "text": [
      "2025-05-07 20:32:15,516 - stpipe - INFO - *\n"
     ]
    },
    {
     "name": "stdout",
     "output_type": "stream",
     "text": [
      "*\n"
     ]
    },
    {
     "name": "stderr",
     "output_type": "stream",
     "text": [
      "2025-05-07 20:32:15,517 - stpipe - INFO - *  Estimated memory usage:  up to 705 Mb.\n"
     ]
    },
    {
     "name": "stdout",
     "output_type": "stream",
     "text": [
      "*  Estimated memory usage:  up to 705 Mb.\n"
     ]
    },
    {
     "name": "stderr",
     "output_type": "stream",
     "text": [
      "2025-05-07 20:32:15,518 - stpipe - INFO - *  Output image size:       4162 X 2359 pixels. \n"
     ]
    },
    {
     "name": "stdout",
     "output_type": "stream",
     "text": [
      "*  Output image size:       4162 X 2359 pixels. \n"
     ]
    },
    {
     "name": "stderr",
     "output_type": "stream",
     "text": [
      "2025-05-07 20:32:15,519 - stpipe - INFO - *  Output image file:       ~ 112 Mb. \n"
     ]
    },
    {
     "name": "stdout",
     "output_type": "stream",
     "text": [
      "*  Output image file:       ~ 112 Mb. \n"
     ]
    },
    {
     "name": "stderr",
     "output_type": "stream",
     "text": [
      "2025-05-07 20:32:15,520 - stpipe - INFO - *  Cores available:         4\n"
     ]
    },
    {
     "name": "stdout",
     "output_type": "stream",
     "text": [
      "*  Cores available:         4\n"
     ]
    },
    {
     "name": "stderr",
     "output_type": "stream",
     "text": [
      "2025-05-07 20:32:15,521 - stpipe - INFO - *\n"
     ]
    },
    {
     "name": "stdout",
     "output_type": "stream",
     "text": [
      "*\n"
     ]
    },
    {
     "name": "stderr",
     "output_type": "stream",
     "text": [
      "2025-05-07 20:32:15,522 - stpipe - INFO - ********************************************************************************\n"
     ]
    },
    {
     "name": "stdout",
     "output_type": "stream",
     "text": [
      "********************************************************************************\n"
     ]
    },
    {
     "name": "stderr",
     "output_type": "stream",
     "text": [
      "2025-05-07 20:32:15,523 - stpipe - INFO - ==== Processing Step Initialization finished at 20:32:15.523 (07/05/2025)\n"
     ]
    },
    {
     "name": "stdout",
     "output_type": "stream",
     "text": [
      "==== Processing Step Initialization finished at 20:32:15.523 (07/05/2025)\n"
     ]
    },
    {
     "name": "stderr",
     "output_type": "stream",
     "text": [
      "2025-05-07 20:32:15,524 - stpipe - INFO - USER INPUT PARAMETERS common to all Processing Steps:\n",
      "2025-05-07 20:32:15,524 - stpipe - INFO - \tbuild :\tTrue\n",
      "2025-05-07 20:32:15,525 - stpipe - INFO - \tcoeffs :\tTrue\n",
      "2025-05-07 20:32:15,526 - stpipe - INFO - \tcontext :\tTrue\n",
      "2025-05-07 20:32:15,526 - stpipe - INFO - \tcrbit :\t4096\n",
      "2025-05-07 20:32:15,527 - stpipe - INFO - \tgroup :\t\n",
      "2025-05-07 20:32:15,528 - stpipe - INFO - \tin_memory :\tFalse\n",
      "2025-05-07 20:32:15,528 - stpipe - INFO - \tinput :\t['/Users/avapolzin/Desktop/psf_testoutputs/acs/j8pu42ecq_flc_150d08m15.267s+2d09m52.304s_F475W_topsf.fits', '/Users/avapolzin/Desktop/psf_testoutputs/acs/j8pu42egq_flc_150d08m15.267s+2d09m52.304s_F475W_topsf.fits', '/Users/avapolzin/Desktop/psf_testoutputs/acs/j8pu42esq_flc_150d08m15.267s+2d09m52.304s_F475W_topsf.fits', '/Users/avapolzin/Desktop/psf_testoutputs/acs/j8pu42evq_flc_150d08m15.267s+2d09m52.304s_F475W_topsf.fits']\n",
      "2025-05-07 20:32:15,529 - stpipe - INFO - \tmdriztab :\tFalse\n",
      "2025-05-07 20:32:15,530 - stpipe - INFO - \tnum_cores :\tNone\n",
      "2025-05-07 20:32:15,530 - stpipe - INFO - \toutput :\t\n",
      "2025-05-07 20:32:15,531 - stpipe - INFO - \tproc_unit :\tnative\n",
      "2025-05-07 20:32:15,531 - stpipe - INFO - \tresetbits :\t4096\n",
      "2025-05-07 20:32:15,532 - stpipe - INFO - \trules_file :\t\n",
      "2025-05-07 20:32:15,533 - stpipe - INFO - \trunfile :\tastrodrizzle.log\n",
      "2025-05-07 20:32:15,534 - stpipe - INFO - \tstepsize :\t10\n",
      "2025-05-07 20:32:15,534 - stpipe - INFO - \tupdatewcs :\tFalse\n",
      "2025-05-07 20:32:15,535 - stpipe - INFO - \twcskey :\t\n",
      "2025-05-07 20:32:15,536 - stpipe - INFO - ==== Processing Step  Static Mask  started at  20:32:15.536 (07/05/2025)\n"
     ]
    },
    {
     "name": "stdout",
     "output_type": "stream",
     "text": [
      "==== Processing Step  Static Mask  started at  20:32:15.536 (07/05/2025)\n"
     ]
    },
    {
     "name": "stderr",
     "output_type": "stream",
     "text": [
      "2025-05-07 20:32:15,538 - stpipe - INFO - \n"
     ]
    },
    {
     "name": "stdout",
     "output_type": "stream",
     "text": [
      "\n"
     ]
    },
    {
     "name": "stderr",
     "output_type": "stream",
     "text": [
      "2025-05-07 20:32:15,539 - stpipe - INFO - Static Mask step not performed.\n",
      "2025-05-07 20:32:15,539 - stpipe - INFO - ==== Processing Step Static Mask finished at 20:32:15.539 (07/05/2025)\n"
     ]
    },
    {
     "name": "stdout",
     "output_type": "stream",
     "text": [
      "==== Processing Step Static Mask finished at 20:32:15.539 (07/05/2025)\n"
     ]
    },
    {
     "name": "stderr",
     "output_type": "stream",
     "text": [
      "2025-05-07 20:32:15,541 - stpipe - INFO - ==== Processing Step  Subtract Sky  started at  20:32:15.540 (07/05/2025)\n"
     ]
    },
    {
     "name": "stdout",
     "output_type": "stream",
     "text": [
      "==== Processing Step  Subtract Sky  started at  20:32:15.540 (07/05/2025)\n"
     ]
    },
    {
     "name": "stderr",
     "output_type": "stream",
     "text": [
      "2025-05-07 20:32:15,542 - stpipe - INFO - \n"
     ]
    },
    {
     "name": "stdout",
     "output_type": "stream",
     "text": [
      "\n"
     ]
    },
    {
     "name": "stderr",
     "output_type": "stream",
     "text": [
      "2025-05-07 20:32:15,543 - stpipe - INFO - USER INPUT PARAMETERS for Sky Subtraction Step:\n",
      "2025-05-07 20:32:15,543 - stpipe - INFO - \tsky_bits :\t0\n",
      "2025-05-07 20:32:15,544 - stpipe - INFO - \tskyclip :\t5\n",
      "2025-05-07 20:32:15,544 - stpipe - INFO - \tskyfile :\t\n",
      "2025-05-07 20:32:15,545 - stpipe - INFO - \tskylower :\tNone\n",
      "2025-05-07 20:32:15,546 - stpipe - INFO - \tskylsigma :\t4.0\n",
      "2025-05-07 20:32:15,546 - stpipe - INFO - \tskymask_cat :\t\n",
      "2025-05-07 20:32:15,547 - stpipe - INFO - \tskymethod :\tlocalmin\n",
      "2025-05-07 20:32:15,547 - stpipe - INFO - \tskystat :\tmedian\n",
      "2025-05-07 20:32:15,548 - stpipe - INFO - \tskysub :\tTrue\n",
      "2025-05-07 20:32:15,548 - stpipe - INFO - \tskyupper :\tNone\n",
      "2025-05-07 20:32:15,549 - stpipe - INFO - \tskyuser :\t\n",
      "2025-05-07 20:32:15,549 - stpipe - INFO - \tskyusigma :\t4.0\n",
      "2025-05-07 20:32:15,549 - stpipe - INFO - \tskywidth :\t0.1\n",
      "2025-05-07 20:32:15,550 - stpipe - INFO - \tuse_static :\tTrue\n",
      "2025-05-07 20:32:15,566 - stpipe - WARNING - Static mask for file '/Users/avapolzin/Desktop/psf_testoutputs/acs/j8pu42ecq_flc_150d08m15.267s+2d09m52.304s_F475W_topsf.fits', ext=('SCI', 1) NOT FOUND.\n",
      "2025-05-07 20:32:15,589 - stpipe - WARNING - Static mask for file '/Users/avapolzin/Desktop/psf_testoutputs/acs/j8pu42egq_flc_150d08m15.267s+2d09m52.304s_F475W_topsf.fits', ext=('SCI', 1) NOT FOUND.\n",
      "2025-05-07 20:32:15,618 - stpipe - WARNING - Static mask for file '/Users/avapolzin/Desktop/psf_testoutputs/acs/j8pu42esq_flc_150d08m15.267s+2d09m52.304s_F475W_topsf.fits', ext=('SCI', 1) NOT FOUND.\n",
      "2025-05-07 20:32:15,646 - stpipe - WARNING - Static mask for file '/Users/avapolzin/Desktop/psf_testoutputs/acs/j8pu42evq_flc_150d08m15.267s+2d09m52.304s_F475W_topsf.fits', ext=('SCI', 1) NOT FOUND.\n",
      "2025-05-07 20:32:15,654 - stpipe - INFO - ***** skymatch started on 2025-05-07 20:32:15.654763\n"
     ]
    },
    {
     "name": "stdout",
     "output_type": "stream",
     "text": [
      "***** skymatch started on 2025-05-07 20:32:15.654763\n"
     ]
    },
    {
     "name": "stderr",
     "output_type": "stream",
     "text": [
      "2025-05-07 20:32:15,655 - stpipe - INFO -       Version 1.0.10\n"
     ]
    },
    {
     "name": "stdout",
     "output_type": "stream",
     "text": [
      "      Version 1.0.10\n"
     ]
    },
    {
     "name": "stderr",
     "output_type": "stream",
     "text": [
      "2025-05-07 20:32:15,656 - stpipe - INFO - \n"
     ]
    },
    {
     "name": "stdout",
     "output_type": "stream",
     "text": [
      "\n"
     ]
    },
    {
     "name": "stderr",
     "output_type": "stream",
     "text": [
      "2025-05-07 20:32:15,657 - stpipe - INFO - 'skymatch' task will apply computed sky differences to input image file(s).\n"
     ]
    },
    {
     "name": "stdout",
     "output_type": "stream",
     "text": [
      "'skymatch' task will apply computed sky differences to input image file(s).\n"
     ]
    },
    {
     "name": "stderr",
     "output_type": "stream",
     "text": [
      "2025-05-07 20:32:15,658 - stpipe - INFO - \n"
     ]
    },
    {
     "name": "stdout",
     "output_type": "stream",
     "text": [
      "\n"
     ]
    },
    {
     "name": "stderr",
     "output_type": "stream",
     "text": [
      "2025-05-07 20:32:15,659 - stpipe - INFO - NOTE: Computed sky values WILL NOT be subtracted from image data ('subtractsky'=False).\n"
     ]
    },
    {
     "name": "stdout",
     "output_type": "stream",
     "text": [
      "NOTE: Computed sky values WILL NOT be subtracted from image data ('subtractsky'=False).\n"
     ]
    },
    {
     "name": "stderr",
     "output_type": "stream",
     "text": [
      "2025-05-07 20:32:15,660 - stpipe - INFO - 'MDRIZSKY' header keyword will represent sky value *computed* from data.\n"
     ]
    },
    {
     "name": "stdout",
     "output_type": "stream",
     "text": [
      "'MDRIZSKY' header keyword will represent sky value *computed* from data.\n"
     ]
    },
    {
     "name": "stderr",
     "output_type": "stream",
     "text": [
      "2025-05-07 20:32:15,661 - stpipe - INFO - \n"
     ]
    },
    {
     "name": "stdout",
     "output_type": "stream",
     "text": [
      "\n"
     ]
    },
    {
     "name": "stderr",
     "output_type": "stream",
     "text": [
      "2025-05-07 20:32:15,663 - stpipe - INFO - -----  User specified keywords:  -----\n"
     ]
    },
    {
     "name": "stdout",
     "output_type": "stream",
     "text": [
      "-----  User specified keywords:  -----\n"
     ]
    },
    {
     "name": "stderr",
     "output_type": "stream",
     "text": [
      "2025-05-07 20:32:15,664 - stpipe - INFO -        Sky Value Keyword:  'MDRIZSKY'\n"
     ]
    },
    {
     "name": "stdout",
     "output_type": "stream",
     "text": [
      "       Sky Value Keyword:  'MDRIZSKY'\n"
     ]
    },
    {
     "name": "stderr",
     "output_type": "stream",
     "text": [
      "2025-05-07 20:32:15,665 - stpipe - INFO -        Data Units Keyword: 'BUNIT'\n"
     ]
    },
    {
     "name": "stdout",
     "output_type": "stream",
     "text": [
      "       Data Units Keyword: 'BUNIT'\n"
     ]
    },
    {
     "name": "stderr",
     "output_type": "stream",
     "text": [
      "2025-05-07 20:32:15,666 - stpipe - INFO - \n"
     ]
    },
    {
     "name": "stdout",
     "output_type": "stream",
     "text": [
      "\n"
     ]
    },
    {
     "name": "stderr",
     "output_type": "stream",
     "text": [
      "2025-05-07 20:32:15,667 - stpipe - INFO - \n"
     ]
    },
    {
     "name": "stdout",
     "output_type": "stream",
     "text": [
      "\n"
     ]
    },
    {
     "name": "stderr",
     "output_type": "stream",
     "text": [
      "2025-05-07 20:32:15,669 - stpipe - INFO - -----  Input file list:  -----\n"
     ]
    },
    {
     "name": "stdout",
     "output_type": "stream",
     "text": [
      "-----  Input file list:  -----\n"
     ]
    },
    {
     "name": "stderr",
     "output_type": "stream",
     "text": [
      "2025-05-07 20:32:15,670 - stpipe - INFO - \n"
     ]
    },
    {
     "name": "stdout",
     "output_type": "stream",
     "text": [
      "\n"
     ]
    },
    {
     "name": "stderr",
     "output_type": "stream",
     "text": [
      "2025-05-07 20:32:15,671 - stpipe - INFO -    **  Input image: 'j8pu42ecq_flc_150d08m15.267s+2d09m52.304s_F475W_topsf.fits'\n"
     ]
    },
    {
     "name": "stdout",
     "output_type": "stream",
     "text": [
      "   **  Input image: 'j8pu42ecq_flc_150d08m15.267s+2d09m52.304s_F475W_topsf.fits'\n"
     ]
    },
    {
     "name": "stderr",
     "output_type": "stream",
     "text": [
      "2025-05-07 20:32:15,672 - stpipe - INFO -        EXT: 'SCI',1;\tMASK: j8pu42ecq_flc_150d08m15.267s+2d09m52.304s_F475W_skymatch_mask_sci1.fits[0]\n"
     ]
    },
    {
     "name": "stdout",
     "output_type": "stream",
     "text": [
      "       EXT: 'SCI',1;\tMASK: j8pu42ecq_flc_150d08m15.267s+2d09m52.304s_F475W_skymatch_mask_sci1.fits[0]\n"
     ]
    },
    {
     "name": "stderr",
     "output_type": "stream",
     "text": [
      "2025-05-07 20:32:15,673 - stpipe - INFO - \n"
     ]
    },
    {
     "name": "stdout",
     "output_type": "stream",
     "text": [
      "\n"
     ]
    },
    {
     "name": "stderr",
     "output_type": "stream",
     "text": [
      "2025-05-07 20:32:15,674 - stpipe - INFO -    **  Input image: 'j8pu42egq_flc_150d08m15.267s+2d09m52.304s_F475W_topsf.fits'\n"
     ]
    },
    {
     "name": "stdout",
     "output_type": "stream",
     "text": [
      "   **  Input image: 'j8pu42egq_flc_150d08m15.267s+2d09m52.304s_F475W_topsf.fits'\n"
     ]
    },
    {
     "name": "stderr",
     "output_type": "stream",
     "text": [
      "2025-05-07 20:32:15,675 - stpipe - INFO -        EXT: 'SCI',1;\tMASK: j8pu42egq_flc_150d08m15.267s+2d09m52.304s_F475W_skymatch_mask_sci1.fits[0]\n"
     ]
    },
    {
     "name": "stdout",
     "output_type": "stream",
     "text": [
      "       EXT: 'SCI',1;\tMASK: j8pu42egq_flc_150d08m15.267s+2d09m52.304s_F475W_skymatch_mask_sci1.fits[0]\n"
     ]
    },
    {
     "name": "stderr",
     "output_type": "stream",
     "text": [
      "2025-05-07 20:32:15,676 - stpipe - INFO - \n"
     ]
    },
    {
     "name": "stdout",
     "output_type": "stream",
     "text": [
      "\n"
     ]
    },
    {
     "name": "stderr",
     "output_type": "stream",
     "text": [
      "2025-05-07 20:32:15,677 - stpipe - INFO -    **  Input image: 'j8pu42esq_flc_150d08m15.267s+2d09m52.304s_F475W_topsf.fits'\n"
     ]
    },
    {
     "name": "stdout",
     "output_type": "stream",
     "text": [
      "   **  Input image: 'j8pu42esq_flc_150d08m15.267s+2d09m52.304s_F475W_topsf.fits'\n"
     ]
    },
    {
     "name": "stderr",
     "output_type": "stream",
     "text": [
      "2025-05-07 20:32:15,678 - stpipe - INFO -        EXT: 'SCI',1;\tMASK: j8pu42esq_flc_150d08m15.267s+2d09m52.304s_F475W_skymatch_mask_sci1.fits[0]\n"
     ]
    },
    {
     "name": "stdout",
     "output_type": "stream",
     "text": [
      "       EXT: 'SCI',1;\tMASK: j8pu42esq_flc_150d08m15.267s+2d09m52.304s_F475W_skymatch_mask_sci1.fits[0]\n"
     ]
    },
    {
     "name": "stderr",
     "output_type": "stream",
     "text": [
      "2025-05-07 20:32:15,679 - stpipe - INFO - \n"
     ]
    },
    {
     "name": "stdout",
     "output_type": "stream",
     "text": [
      "\n"
     ]
    },
    {
     "name": "stderr",
     "output_type": "stream",
     "text": [
      "2025-05-07 20:32:15,679 - stpipe - INFO -    **  Input image: 'j8pu42evq_flc_150d08m15.267s+2d09m52.304s_F475W_topsf.fits'\n"
     ]
    },
    {
     "name": "stdout",
     "output_type": "stream",
     "text": [
      "   **  Input image: 'j8pu42evq_flc_150d08m15.267s+2d09m52.304s_F475W_topsf.fits'\n"
     ]
    },
    {
     "name": "stderr",
     "output_type": "stream",
     "text": [
      "2025-05-07 20:32:15,680 - stpipe - INFO -        EXT: 'SCI',1;\tMASK: j8pu42evq_flc_150d08m15.267s+2d09m52.304s_F475W_skymatch_mask_sci1.fits[0]\n"
     ]
    },
    {
     "name": "stdout",
     "output_type": "stream",
     "text": [
      "       EXT: 'SCI',1;\tMASK: j8pu42evq_flc_150d08m15.267s+2d09m52.304s_F475W_skymatch_mask_sci1.fits[0]\n"
     ]
    },
    {
     "name": "stderr",
     "output_type": "stream",
     "text": [
      "2025-05-07 20:32:15,682 - stpipe - INFO - \n"
     ]
    },
    {
     "name": "stdout",
     "output_type": "stream",
     "text": [
      "\n"
     ]
    },
    {
     "name": "stderr",
     "output_type": "stream",
     "text": [
      "2025-05-07 20:32:15,683 - stpipe - INFO - -----  Sky statistics parameters:  -----\n"
     ]
    },
    {
     "name": "stdout",
     "output_type": "stream",
     "text": [
      "-----  Sky statistics parameters:  -----\n"
     ]
    },
    {
     "name": "stderr",
     "output_type": "stream",
     "text": [
      "2025-05-07 20:32:15,684 - stpipe - INFO -        statistics function: 'median'\n"
     ]
    },
    {
     "name": "stdout",
     "output_type": "stream",
     "text": [
      "       statistics function: 'median'\n"
     ]
    },
    {
     "name": "stderr",
     "output_type": "stream",
     "text": [
      "2025-05-07 20:32:15,685 - stpipe - INFO -        lower = None\n"
     ]
    },
    {
     "name": "stdout",
     "output_type": "stream",
     "text": [
      "       lower = None\n"
     ]
    },
    {
     "name": "stderr",
     "output_type": "stream",
     "text": [
      "2025-05-07 20:32:15,686 - stpipe - INFO -        upper = None\n"
     ]
    },
    {
     "name": "stdout",
     "output_type": "stream",
     "text": [
      "       upper = None\n"
     ]
    },
    {
     "name": "stderr",
     "output_type": "stream",
     "text": [
      "2025-05-07 20:32:15,687 - stpipe - INFO -        nclip = 5\n"
     ]
    },
    {
     "name": "stdout",
     "output_type": "stream",
     "text": [
      "       nclip = 5\n"
     ]
    },
    {
     "name": "stderr",
     "output_type": "stream",
     "text": [
      "2025-05-07 20:32:15,688 - stpipe - INFO -        lsigma = 4.0\n"
     ]
    },
    {
     "name": "stdout",
     "output_type": "stream",
     "text": [
      "       lsigma = 4.0\n"
     ]
    },
    {
     "name": "stderr",
     "output_type": "stream",
     "text": [
      "2025-05-07 20:32:15,689 - stpipe - INFO -        usigma = 4.0\n"
     ]
    },
    {
     "name": "stdout",
     "output_type": "stream",
     "text": [
      "       usigma = 4.0\n"
     ]
    },
    {
     "name": "stderr",
     "output_type": "stream",
     "text": [
      "2025-05-07 20:32:15,690 - stpipe - INFO -        binwidth = 0.1\n"
     ]
    },
    {
     "name": "stdout",
     "output_type": "stream",
     "text": [
      "       binwidth = 0.1\n"
     ]
    },
    {
     "name": "stderr",
     "output_type": "stream",
     "text": [
      "2025-05-07 20:32:15,692 - stpipe - INFO - \n"
     ]
    },
    {
     "name": "stdout",
     "output_type": "stream",
     "text": [
      "\n"
     ]
    },
    {
     "name": "stderr",
     "output_type": "stream",
     "text": [
      "2025-05-07 20:32:15,693 - stpipe - INFO - -----  Data->Brightness conversion parameters for input files:  -----\n"
     ]
    },
    {
     "name": "stdout",
     "output_type": "stream",
     "text": [
      "-----  Data->Brightness conversion parameters for input files:  -----\n"
     ]
    },
    {
     "name": "stderr",
     "output_type": "stream",
     "text": [
      "2025-05-07 20:32:15,694 - stpipe - INFO - \n"
     ]
    },
    {
     "name": "stdout",
     "output_type": "stream",
     "text": [
      "\n"
     ]
    },
    {
     "name": "stderr",
     "output_type": "stream",
     "text": [
      "2025-05-07 20:32:15,695 - stpipe - INFO -    *   Image: j8pu42ecq_flc_150d08m15.267s+2d09m52.304s_F475W_topsf.fits\n"
     ]
    },
    {
     "name": "stdout",
     "output_type": "stream",
     "text": [
      "   *   Image: j8pu42ecq_flc_150d08m15.267s+2d09m52.304s_F475W_topsf.fits\n"
     ]
    },
    {
     "name": "stderr",
     "output_type": "stream",
     "text": [
      "2025-05-07 20:32:15,714 - stpipe - INFO -        EXT = 'SCI',1\n"
     ]
    },
    {
     "name": "stdout",
     "output_type": "stream",
     "text": [
      "       EXT = 'SCI',1\n"
     ]
    },
    {
     "name": "stderr",
     "output_type": "stream",
     "text": [
      "2025-05-07 20:32:15,716 - stpipe - INFO -              Data units type: COUNTS\n"
     ]
    },
    {
     "name": "stdout",
     "output_type": "stream",
     "text": [
      "             Data units type: COUNTS\n"
     ]
    },
    {
     "name": "stderr",
     "output_type": "stream",
     "text": [
      "2025-05-07 20:32:15,717 - stpipe - INFO -              EXPTIME: 507.0 [s]\n"
     ]
    },
    {
     "name": "stdout",
     "output_type": "stream",
     "text": [
      "             EXPTIME: 507.0 [s]\n"
     ]
    },
    {
     "name": "stderr",
     "output_type": "stream",
     "text": [
      "2025-05-07 20:32:15,718 - stpipe - INFO -              Conversion factor (data->brightness):  0.7889546351084812\n"
     ]
    },
    {
     "name": "stdout",
     "output_type": "stream",
     "text": [
      "             Conversion factor (data->brightness):  0.7889546351084812\n"
     ]
    },
    {
     "name": "stderr",
     "output_type": "stream",
     "text": [
      "2025-05-07 20:32:15,719 - stpipe - INFO - \n"
     ]
    },
    {
     "name": "stdout",
     "output_type": "stream",
     "text": [
      "\n"
     ]
    },
    {
     "name": "stderr",
     "output_type": "stream",
     "text": [
      "2025-05-07 20:32:15,720 - stpipe - INFO -    *   Image: j8pu42egq_flc_150d08m15.267s+2d09m52.304s_F475W_topsf.fits\n"
     ]
    },
    {
     "name": "stdout",
     "output_type": "stream",
     "text": [
      "   *   Image: j8pu42egq_flc_150d08m15.267s+2d09m52.304s_F475W_topsf.fits\n"
     ]
    },
    {
     "name": "stderr",
     "output_type": "stream",
     "text": [
      "2025-05-07 20:32:15,739 - stpipe - INFO -        EXT = 'SCI',1\n"
     ]
    },
    {
     "name": "stdout",
     "output_type": "stream",
     "text": [
      "       EXT = 'SCI',1\n"
     ]
    },
    {
     "name": "stderr",
     "output_type": "stream",
     "text": [
      "2025-05-07 20:32:15,741 - stpipe - INFO -              Data units type: COUNTS\n"
     ]
    },
    {
     "name": "stdout",
     "output_type": "stream",
     "text": [
      "             Data units type: COUNTS\n"
     ]
    },
    {
     "name": "stderr",
     "output_type": "stream",
     "text": [
      "2025-05-07 20:32:15,742 - stpipe - INFO -              EXPTIME: 507.0 [s]\n"
     ]
    },
    {
     "name": "stdout",
     "output_type": "stream",
     "text": [
      "             EXPTIME: 507.0 [s]\n"
     ]
    },
    {
     "name": "stderr",
     "output_type": "stream",
     "text": [
      "2025-05-07 20:32:15,744 - stpipe - INFO -              Conversion factor (data->brightness):  0.7889546351084812\n"
     ]
    },
    {
     "name": "stdout",
     "output_type": "stream",
     "text": [
      "             Conversion factor (data->brightness):  0.7889546351084812\n"
     ]
    },
    {
     "name": "stderr",
     "output_type": "stream",
     "text": [
      "2025-05-07 20:32:15,745 - stpipe - INFO - \n"
     ]
    },
    {
     "name": "stdout",
     "output_type": "stream",
     "text": [
      "\n"
     ]
    },
    {
     "name": "stderr",
     "output_type": "stream",
     "text": [
      "2025-05-07 20:32:15,745 - stpipe - INFO -    *   Image: j8pu42esq_flc_150d08m15.267s+2d09m52.304s_F475W_topsf.fits\n"
     ]
    },
    {
     "name": "stdout",
     "output_type": "stream",
     "text": [
      "   *   Image: j8pu42esq_flc_150d08m15.267s+2d09m52.304s_F475W_topsf.fits\n"
     ]
    },
    {
     "name": "stderr",
     "output_type": "stream",
     "text": [
      "2025-05-07 20:32:15,764 - stpipe - INFO -        EXT = 'SCI',1\n"
     ]
    },
    {
     "name": "stdout",
     "output_type": "stream",
     "text": [
      "       EXT = 'SCI',1\n"
     ]
    },
    {
     "name": "stderr",
     "output_type": "stream",
     "text": [
      "2025-05-07 20:32:15,766 - stpipe - INFO -              Data units type: COUNTS\n"
     ]
    },
    {
     "name": "stdout",
     "output_type": "stream",
     "text": [
      "             Data units type: COUNTS\n"
     ]
    },
    {
     "name": "stderr",
     "output_type": "stream",
     "text": [
      "2025-05-07 20:32:15,767 - stpipe - INFO -              EXPTIME: 507.0 [s]\n"
     ]
    },
    {
     "name": "stdout",
     "output_type": "stream",
     "text": [
      "             EXPTIME: 507.0 [s]\n"
     ]
    },
    {
     "name": "stderr",
     "output_type": "stream",
     "text": [
      "2025-05-07 20:32:15,768 - stpipe - INFO -              Conversion factor (data->brightness):  0.7889546351084812\n"
     ]
    },
    {
     "name": "stdout",
     "output_type": "stream",
     "text": [
      "             Conversion factor (data->brightness):  0.7889546351084812\n"
     ]
    },
    {
     "name": "stderr",
     "output_type": "stream",
     "text": [
      "2025-05-07 20:32:15,769 - stpipe - INFO - \n"
     ]
    },
    {
     "name": "stdout",
     "output_type": "stream",
     "text": [
      "\n"
     ]
    },
    {
     "name": "stderr",
     "output_type": "stream",
     "text": [
      "2025-05-07 20:32:15,769 - stpipe - INFO -    *   Image: j8pu42evq_flc_150d08m15.267s+2d09m52.304s_F475W_topsf.fits\n"
     ]
    },
    {
     "name": "stdout",
     "output_type": "stream",
     "text": [
      "   *   Image: j8pu42evq_flc_150d08m15.267s+2d09m52.304s_F475W_topsf.fits\n"
     ]
    },
    {
     "name": "stderr",
     "output_type": "stream",
     "text": [
      "2025-05-07 20:32:15,787 - stpipe - INFO -        EXT = 'SCI',1\n"
     ]
    },
    {
     "name": "stdout",
     "output_type": "stream",
     "text": [
      "       EXT = 'SCI',1\n"
     ]
    },
    {
     "name": "stderr",
     "output_type": "stream",
     "text": [
      "2025-05-07 20:32:15,788 - stpipe - INFO -              Data units type: COUNTS\n"
     ]
    },
    {
     "name": "stdout",
     "output_type": "stream",
     "text": [
      "             Data units type: COUNTS\n"
     ]
    },
    {
     "name": "stderr",
     "output_type": "stream",
     "text": [
      "2025-05-07 20:32:15,789 - stpipe - INFO -              EXPTIME: 507.0 [s]\n"
     ]
    },
    {
     "name": "stdout",
     "output_type": "stream",
     "text": [
      "             EXPTIME: 507.0 [s]\n"
     ]
    },
    {
     "name": "stderr",
     "output_type": "stream",
     "text": [
      "2025-05-07 20:32:15,790 - stpipe - INFO -              Conversion factor (data->brightness):  0.7889546351084812\n"
     ]
    },
    {
     "name": "stdout",
     "output_type": "stream",
     "text": [
      "             Conversion factor (data->brightness):  0.7889546351084812\n"
     ]
    },
    {
     "name": "stderr",
     "output_type": "stream",
     "text": [
      "2025-05-07 20:32:15,791 - stpipe - INFO - \n"
     ]
    },
    {
     "name": "stdout",
     "output_type": "stream",
     "text": [
      "\n"
     ]
    },
    {
     "name": "stderr",
     "output_type": "stream",
     "text": [
      "2025-05-07 20:32:15,792 - stpipe - INFO - \n"
     ]
    },
    {
     "name": "stdout",
     "output_type": "stream",
     "text": [
      "\n"
     ]
    },
    {
     "name": "stderr",
     "output_type": "stream",
     "text": [
      "2025-05-07 20:32:15,793 - stpipe - INFO - -----  Computing sky values requested image extensions (detector chips):  -----\n"
     ]
    },
    {
     "name": "stdout",
     "output_type": "stream",
     "text": [
      "-----  Computing sky values requested image extensions (detector chips):  -----\n"
     ]
    },
    {
     "name": "stderr",
     "output_type": "stream",
     "text": [
      "2025-05-07 20:32:15,794 - stpipe - INFO - \n"
     ]
    },
    {
     "name": "stdout",
     "output_type": "stream",
     "text": [
      "\n"
     ]
    },
    {
     "name": "stderr",
     "output_type": "stream",
     "text": [
      "2025-05-07 20:32:16,056 - stpipe - INFO -    *   Image:   'j8pu42ecq_flc_150d08m15.267s+2d09m52.304s_F475W_topsf.fits['SCI',1]'  --  SKY = 0.0 (brightness units)\n"
     ]
    },
    {
     "name": "stdout",
     "output_type": "stream",
     "text": [
      "   *   Image:   'j8pu42ecq_flc_150d08m15.267s+2d09m52.304s_F475W_topsf.fits['SCI',1]'  --  SKY = 0.0 (brightness units)\n"
     ]
    },
    {
     "name": "stderr",
     "output_type": "stream",
     "text": [
      "2025-05-07 20:32:16,057 - stpipe - INFO -        Sky change (data units):\n"
     ]
    },
    {
     "name": "stdout",
     "output_type": "stream",
     "text": [
      "       Sky change (data units):\n"
     ]
    },
    {
     "name": "stderr",
     "output_type": "stream",
     "text": [
      "2025-05-07 20:32:16,058 - stpipe - INFO -       - EXT = 'SCI',1   delta(MDRIZSKY) = 0   NEW MDRIZSKY = 0\n"
     ]
    },
    {
     "name": "stdout",
     "output_type": "stream",
     "text": [
      "      - EXT = 'SCI',1   delta(MDRIZSKY) = 0   NEW MDRIZSKY = 0\n"
     ]
    },
    {
     "name": "stderr",
     "output_type": "stream",
     "text": [
      "2025-05-07 20:32:16,306 - stpipe - INFO -    *   Image:   'j8pu42egq_flc_150d08m15.267s+2d09m52.304s_F475W_topsf.fits['SCI',1]'  --  SKY = 0.0 (brightness units)\n"
     ]
    },
    {
     "name": "stdout",
     "output_type": "stream",
     "text": [
      "   *   Image:   'j8pu42egq_flc_150d08m15.267s+2d09m52.304s_F475W_topsf.fits['SCI',1]'  --  SKY = 0.0 (brightness units)\n"
     ]
    },
    {
     "name": "stderr",
     "output_type": "stream",
     "text": [
      "2025-05-07 20:32:16,307 - stpipe - INFO -        Sky change (data units):\n"
     ]
    },
    {
     "name": "stdout",
     "output_type": "stream",
     "text": [
      "       Sky change (data units):\n"
     ]
    },
    {
     "name": "stderr",
     "output_type": "stream",
     "text": [
      "2025-05-07 20:32:16,308 - stpipe - INFO -       - EXT = 'SCI',1   delta(MDRIZSKY) = 0   NEW MDRIZSKY = 0\n"
     ]
    },
    {
     "name": "stdout",
     "output_type": "stream",
     "text": [
      "      - EXT = 'SCI',1   delta(MDRIZSKY) = 0   NEW MDRIZSKY = 0\n"
     ]
    },
    {
     "name": "stderr",
     "output_type": "stream",
     "text": [
      "2025-05-07 20:32:16,554 - stpipe - INFO -    *   Image:   'j8pu42esq_flc_150d08m15.267s+2d09m52.304s_F475W_topsf.fits['SCI',1]'  --  SKY = 0.0 (brightness units)\n"
     ]
    },
    {
     "name": "stdout",
     "output_type": "stream",
     "text": [
      "   *   Image:   'j8pu42esq_flc_150d08m15.267s+2d09m52.304s_F475W_topsf.fits['SCI',1]'  --  SKY = 0.0 (brightness units)\n"
     ]
    },
    {
     "name": "stderr",
     "output_type": "stream",
     "text": [
      "2025-05-07 20:32:16,555 - stpipe - INFO -        Sky change (data units):\n"
     ]
    },
    {
     "name": "stdout",
     "output_type": "stream",
     "text": [
      "       Sky change (data units):\n"
     ]
    },
    {
     "name": "stderr",
     "output_type": "stream",
     "text": [
      "2025-05-07 20:32:16,556 - stpipe - INFO -       - EXT = 'SCI',1   delta(MDRIZSKY) = 0   NEW MDRIZSKY = 0\n"
     ]
    },
    {
     "name": "stdout",
     "output_type": "stream",
     "text": [
      "      - EXT = 'SCI',1   delta(MDRIZSKY) = 0   NEW MDRIZSKY = 0\n"
     ]
    },
    {
     "name": "stderr",
     "output_type": "stream",
     "text": [
      "2025-05-07 20:32:16,798 - stpipe - INFO -    *   Image:   'j8pu42evq_flc_150d08m15.267s+2d09m52.304s_F475W_topsf.fits['SCI',1]'  --  SKY = 0.0 (brightness units)\n"
     ]
    },
    {
     "name": "stdout",
     "output_type": "stream",
     "text": [
      "   *   Image:   'j8pu42evq_flc_150d08m15.267s+2d09m52.304s_F475W_topsf.fits['SCI',1]'  --  SKY = 0.0 (brightness units)\n"
     ]
    },
    {
     "name": "stderr",
     "output_type": "stream",
     "text": [
      "2025-05-07 20:32:16,799 - stpipe - INFO -        Sky change (data units):\n"
     ]
    },
    {
     "name": "stdout",
     "output_type": "stream",
     "text": [
      "       Sky change (data units):\n"
     ]
    },
    {
     "name": "stderr",
     "output_type": "stream",
     "text": [
      "2025-05-07 20:32:16,800 - stpipe - INFO -       - EXT = 'SCI',1   delta(MDRIZSKY) = 0   NEW MDRIZSKY = 0\n"
     ]
    },
    {
     "name": "stdout",
     "output_type": "stream",
     "text": [
      "      - EXT = 'SCI',1   delta(MDRIZSKY) = 0   NEW MDRIZSKY = 0\n"
     ]
    },
    {
     "name": "stderr",
     "output_type": "stream",
     "text": [
      "2025-05-07 20:32:16,800 - stpipe - INFO - ***** skymatch ended on 2025-05-07 20:32:16.800815\n"
     ]
    },
    {
     "name": "stdout",
     "output_type": "stream",
     "text": [
      "***** skymatch ended on 2025-05-07 20:32:16.800815\n"
     ]
    },
    {
     "name": "stderr",
     "output_type": "stream",
     "text": [
      "2025-05-07 20:32:16,801 - stpipe - INFO - TOTAL RUN TIME: 0:00:01.146052\n"
     ]
    },
    {
     "name": "stdout",
     "output_type": "stream",
     "text": [
      "TOTAL RUN TIME: 0:00:01.146052\n"
     ]
    },
    {
     "name": "stderr",
     "output_type": "stream",
     "text": [
      "2025-05-07 20:32:16,865 - stpipe - INFO - ==== Processing Step Subtract Sky finished at 20:32:16.86 (07/05/2025)\n"
     ]
    },
    {
     "name": "stdout",
     "output_type": "stream",
     "text": [
      "==== Processing Step Subtract Sky finished at 20:32:16.86 (07/05/2025)\n"
     ]
    },
    {
     "name": "stderr",
     "output_type": "stream",
     "text": [
      "2025-05-07 20:32:16,866 - stpipe - INFO - ==== Processing Step  Separate Drizzle  started at  20:32:16.866 (07/05/2025)\n"
     ]
    },
    {
     "name": "stdout",
     "output_type": "stream",
     "text": [
      "==== Processing Step  Separate Drizzle  started at  20:32:16.866 (07/05/2025)\n"
     ]
    },
    {
     "name": "stderr",
     "output_type": "stream",
     "text": [
      "2025-05-07 20:32:16,867 - stpipe - INFO - \n"
     ]
    },
    {
     "name": "stdout",
     "output_type": "stream",
     "text": [
      "\n"
     ]
    },
    {
     "name": "stderr",
     "output_type": "stream",
     "text": [
      "2025-05-07 20:32:16,868 - stpipe - INFO - Interpreted paramDict with single=True as:\n",
      "{'build': True, 'stepsize': 10, 'coeffs': True, 'wcskey': '', 'kernel': 'turbo', 'wt_scl': 'exptime', 'pixfrac': 1.0, 'fillval': None, 'bits': 0, 'compress': False, 'units': 'cps'}\n",
      "2025-05-07 20:32:16,868 - stpipe - INFO - USER INPUT PARAMETERS for Separate Drizzle Step:\n",
      "2025-05-07 20:32:16,868 - stpipe - INFO - \tbits :\t0\n",
      "2025-05-07 20:32:16,869 - stpipe - INFO - \tbuild :\tFalse\n",
      "2025-05-07 20:32:16,869 - stpipe - INFO - \tclean :\tFalse\n",
      "2025-05-07 20:32:16,869 - stpipe - INFO - \tcoeffs :\tTrue\n",
      "2025-05-07 20:32:16,870 - stpipe - INFO - \tcompress :\tFalse\n",
      "2025-05-07 20:32:16,870 - stpipe - INFO - \tcrbit :\tNone\n",
      "2025-05-07 20:32:16,870 - stpipe - INFO - \tfillval :\tNone\n",
      "2025-05-07 20:32:16,871 - stpipe - INFO - \tkernel :\tturbo\n",
      "2025-05-07 20:32:16,871 - stpipe - INFO - \tnum_cores :\tNone\n",
      "2025-05-07 20:32:16,872 - stpipe - INFO - \tpixfrac :\t1.0\n",
      "2025-05-07 20:32:16,872 - stpipe - INFO - \tproc_unit :\telectrons\n",
      "2025-05-07 20:32:16,872 - stpipe - INFO - \trules_file :\tNone\n",
      "2025-05-07 20:32:16,873 - stpipe - INFO - \tstepsize :\t10\n",
      "2025-05-07 20:32:16,873 - stpipe - INFO - \tunits :\tcps\n",
      "2025-05-07 20:32:16,873 - stpipe - INFO - \twcskey :\t\n",
      "2025-05-07 20:32:16,874 - stpipe - INFO - \twht_type :\tNone\n",
      "2025-05-07 20:32:16,874 - stpipe - INFO - \twt_scl :\texptime\n",
      "2025-05-07 20:32:16,875 - stpipe - INFO -   **Using sub-sampling value of 10 for kernel turbo\n",
      "2025-05-07 20:32:16,876 - stpipe - INFO - Running Drizzle to create output frame with WCS of: \n",
      "2025-05-07 20:32:16,876 - stpipe - INFO - WCS Keywords\n"
     ]
    },
    {
     "name": "stdout",
     "output_type": "stream",
     "text": [
      "WCS Keywords\n"
     ]
    },
    {
     "name": "stderr",
     "output_type": "stream",
     "text": [
      "2025-05-07 20:32:16,877 - stpipe - INFO - \n"
     ]
    },
    {
     "name": "stdout",
     "output_type": "stream",
     "text": [
      "\n"
     ]
    },
    {
     "name": "stderr",
     "output_type": "stream",
     "text": [
      "2025-05-07 20:32:16,878 - stpipe - INFO - Number of WCS axes: 2\n"
     ]
    },
    {
     "name": "stdout",
     "output_type": "stream",
     "text": [
      "Number of WCS axes: 2\n"
     ]
    },
    {
     "name": "stderr",
     "output_type": "stream",
     "text": [
      "2025-05-07 20:32:16,879 - stpipe - INFO - CTYPE : 'RA---TAN' 'DEC--TAN' \n"
     ]
    },
    {
     "name": "stdout",
     "output_type": "stream",
     "text": [
      "CTYPE : 'RA---TAN' 'DEC--TAN' \n"
     ]
    },
    {
     "name": "stderr",
     "output_type": "stream",
     "text": [
      "2025-05-07 20:32:16,880 - stpipe - INFO - CRVAL : np.float64(150.1242636198465) np.float64(2.151761555110333) \n"
     ]
    },
    {
     "name": "stdout",
     "output_type": "stream",
     "text": [
      "CRVAL : np.float64(150.1242636198465) np.float64(2.151761555110333) \n"
     ]
    },
    {
     "name": "stderr",
     "output_type": "stream",
     "text": [
      "2025-05-07 20:32:16,881 - stpipe - INFO - CRPIX : np.float64(2081.0) np.float64(1179.5) \n"
     ]
    },
    {
     "name": "stdout",
     "output_type": "stream",
     "text": [
      "CRPIX : np.float64(2081.0) np.float64(1179.5) \n"
     ]
    },
    {
     "name": "stderr",
     "output_type": "stream",
     "text": [
      "2025-05-07 20:32:16,883 - stpipe - INFO - CD1_1 CD1_2  : np.float64(-2.4118726301966414e-06) np.float64(-1.3677869168244357e-05) \n"
     ]
    },
    {
     "name": "stdout",
     "output_type": "stream",
     "text": [
      "CD1_1 CD1_2  : np.float64(-2.4118726301966414e-06) np.float64(-1.3677869168244357e-05) \n"
     ]
    },
    {
     "name": "stderr",
     "output_type": "stream",
     "text": [
      "2025-05-07 20:32:16,884 - stpipe - INFO - CD2_1 CD2_2  : np.float64(-1.3677869168244357e-05) np.float64(2.4118726301966414e-06) \n"
     ]
    },
    {
     "name": "stdout",
     "output_type": "stream",
     "text": [
      "CD2_1 CD2_2  : np.float64(-1.3677869168244357e-05) np.float64(2.4118726301966414e-06) \n"
     ]
    },
    {
     "name": "stderr",
     "output_type": "stream",
     "text": [
      "2025-05-07 20:32:16,885 - stpipe - INFO - NAXIS : 4162  2359\n"
     ]
    },
    {
     "name": "stdout",
     "output_type": "stream",
     "text": [
      "NAXIS : 4162  2359\n"
     ]
    },
    {
     "name": "stderr",
     "output_type": "stream",
     "text": [
      "2025-05-07 20:32:16,886 - stpipe - INFO - Executing 4 parallel workers\n",
      "2025-05-07 20:32:16,924 - stpipe - INFO - -Drizzle input: /Users/avapolzin/Desktop/psf_testoutputs/acs/j8pu42ecq_flc_150d08m15.267s+2d09m52.304s_F475W_topsf.fits[sci,1]\n",
      "2025-05-07 20:32:16,936 - stpipe - INFO - -Drizzle input: /Users/avapolzin/Desktop/psf_testoutputs/acs/j8pu42egq_flc_150d08m15.267s+2d09m52.304s_F475W_topsf.fits[sci,1]\n",
      "2025-05-07 20:32:16,951 - stpipe - INFO - -Drizzle input: /Users/avapolzin/Desktop/psf_testoutputs/acs/j8pu42esq_flc_150d08m15.267s+2d09m52.304s_F475W_topsf.fits[sci,1]\n",
      "2025-05-07 20:32:16,959 - stpipe - INFO - Applying sky value of 0.000000 to /Users/avapolzin/Desktop/psf_testoutputs/acs/j8pu42ecq_flc_150d08m15.267s+2d09m52.304s_F475W_topsf.fits[sci,1]\n",
      "2025-05-07 20:32:16,962 - stpipe - INFO - Applying sky value of 0.000000 to /Users/avapolzin/Desktop/psf_testoutputs/acs/j8pu42egq_flc_150d08m15.267s+2d09m52.304s_F475W_topsf.fits[sci,1]\n",
      "2025-05-07 20:32:16,967 - stpipe - INFO - -Drizzle input: /Users/avapolzin/Desktop/psf_testoutputs/acs/j8pu42evq_flc_150d08m15.267s+2d09m52.304s_F475W_topsf.fits[sci,1]\n",
      "2025-05-07 20:32:16,979 - stpipe - INFO - Applying sky value of 0.000000 to /Users/avapolzin/Desktop/psf_testoutputs/acs/j8pu42esq_flc_150d08m15.267s+2d09m52.304s_F475W_topsf.fits[sci,1]\n",
      "2025-05-07 20:32:16,996 - stpipe - INFO - Applying sky value of 0.000000 to /Users/avapolzin/Desktop/psf_testoutputs/acs/j8pu42evq_flc_150d08m15.267s+2d09m52.304s_F475W_topsf.fits[sci,1]\n",
      "2025-05-07 20:32:17,122 - stpipe - INFO - Writing out mask file: /Users/avapolzin/Desktop/psf_testoutputs/acs/j8pu42egq_flc_150d08m15.267s+2d09m52.304s_F475W_topsf_sci1_single_mask.fits\n",
      "2025-05-07 20:32:17,122 - stpipe - INFO - Writing out mask file: /Users/avapolzin/Desktop/psf_testoutputs/acs/j8pu42ecq_flc_150d08m15.267s+2d09m52.304s_F475W_topsf_sci1_single_mask.fits\n",
      "2025-05-07 20:32:17,125 - stpipe - INFO - Using WCSLIB-based coordinate transformation...\n",
      "2025-05-07 20:32:17,125 - stpipe - INFO - Using WCSLIB-based coordinate transformation...\n",
      "2025-05-07 20:32:17,129 - stpipe - INFO - stepsize = 10\n",
      "2025-05-07 20:32:17,131 - stpipe - INFO - stepsize = 10\n",
      "2025-05-07 20:32:17,141 - stpipe - INFO - Writing out mask file: /Users/avapolzin/Desktop/psf_testoutputs/acs/j8pu42esq_flc_150d08m15.267s+2d09m52.304s_F475W_topsf_sci1_single_mask.fits\n",
      "2025-05-07 20:32:17,142 - stpipe - INFO - Using WCSLIB-based coordinate transformation...\n",
      "2025-05-07 20:32:17,144 - stpipe - INFO - stepsize = 10\n",
      "2025-05-07 20:32:17,159 - stpipe - INFO - Writing out mask file: /Users/avapolzin/Desktop/psf_testoutputs/acs/j8pu42evq_flc_150d08m15.267s+2d09m52.304s_F475W_topsf_sci1_single_mask.fits\n",
      "2025-05-07 20:32:17,163 - stpipe - INFO - Using WCSLIB-based coordinate transformation...\n",
      "2025-05-07 20:32:17,166 - stpipe - INFO - stepsize = 10\n",
      "2025-05-07 20:32:17,172 - stpipe - INFO - -Drizzling using kernel = turbo\n",
      "\n",
      "2025-05-07 20:32:17,173 - stpipe - INFO - -Drizzling using kernel = turbo\n",
      "\n",
      "2025-05-07 20:32:17,180 - stpipe - INFO - -Drizzling using kernel = turbo\n",
      "\n",
      "2025-05-07 20:32:17,200 - stpipe - INFO - -Drizzling using kernel = turbo\n",
      "\n",
      "2025-05-07 20:32:17,843 - stpipe - INFO - -Generating simple FITS output: /Users/avapolzin/Desktop/psf_testoutputs/acs/j8pu42egq_flc_150d08m15.267s+2d09m52.304s_F475W_topsf_single_sci.fits\n",
      "2025-05-07 20:32:17,843 - stpipe - INFO - -Generating simple FITS output: /Users/avapolzin/Desktop/psf_testoutputs/acs/j8pu42ecq_flc_150d08m15.267s+2d09m52.304s_F475W_topsf_single_sci.fits\n"
     ]
    },
    {
     "name": "stdout",
     "output_type": "stream",
     "text": [
      "-Generating simple FITS output: /Users/avapolzin/Desktop/psf_testoutputs/acs/j8pu42ecq_flc_150d08m15.267s+2d09m52.304s_F475W_topsf_single_sci.fits\n",
      "-Generating simple FITS output: /Users/avapolzin/Desktop/psf_testoutputs/acs/j8pu42egq_flc_150d08m15.267s+2d09m52.304s_F475W_topsf_single_sci.fits\n"
     ]
    },
    {
     "name": "stderr",
     "output_type": "stream",
     "text": [
      "2025-05-07 20:32:17,858 - stpipe - INFO - -Generating simple FITS output: /Users/avapolzin/Desktop/psf_testoutputs/acs/j8pu42esq_flc_150d08m15.267s+2d09m52.304s_F475W_topsf_single_sci.fits\n",
      "2025-05-07 20:32:17,859 - stpipe - INFO - -Generating simple FITS output: /Users/avapolzin/Desktop/psf_testoutputs/acs/j8pu42evq_flc_150d08m15.267s+2d09m52.304s_F475W_topsf_single_sci.fits\n"
     ]
    },
    {
     "name": "stdout",
     "output_type": "stream",
     "text": [
      "-Generating simple FITS output: /Users/avapolzin/Desktop/psf_testoutputs/acs/j8pu42esq_flc_150d08m15.267s+2d09m52.304s_F475W_topsf_single_sci.fits\n",
      "-Generating simple FITS output: /Users/avapolzin/Desktop/psf_testoutputs/acs/j8pu42evq_flc_150d08m15.267s+2d09m52.304s_F475W_topsf_single_sci.fits\n"
     ]
    },
    {
     "name": "stderr",
     "output_type": "stream",
     "text": [
      "2025-05-07 20:32:17,865 - stpipe - WARNING - /Users/avapolzin/opt/anaconda3/envs/spike/lib/python3.10/site-packages/astropy/io/fits/card.py:1036: VerifyWarning: Card is too long, comment will be truncated.\n",
      "\n",
      "2025-05-07 20:32:17,865 - stpipe - WARNING - /Users/avapolzin/opt/anaconda3/envs/spike/lib/python3.10/site-packages/astropy/io/fits/card.py:1036: VerifyWarning: Card is too long, comment will be truncated.\n",
      "\n",
      "2025-05-07 20:32:17,883 - stpipe - WARNING - /Users/avapolzin/opt/anaconda3/envs/spike/lib/python3.10/site-packages/astropy/io/fits/card.py:1036: VerifyWarning: Card is too long, comment will be truncated.\n",
      "\n",
      "2025-05-07 20:32:17,891 - stpipe - WARNING - /Users/avapolzin/opt/anaconda3/envs/spike/lib/python3.10/site-packages/astropy/io/fits/card.py:1036: VerifyWarning: Card is too long, comment will be truncated.\n",
      "\n",
      "2025-05-07 20:32:17,912 - stpipe - INFO - Writing out image to disk: /Users/avapolzin/Desktop/psf_testoutputs/acs/j8pu42egq_flc_150d08m15.267s+2d09m52.304s_F475W_topsf_single_sci.fits\n"
     ]
    },
    {
     "name": "stdout",
     "output_type": "stream",
     "text": [
      "Writing out image to disk: /Users/avapolzin/Desktop/psf_testoutputs/acs/j8pu42egq_flc_150d08m15.267s+2d09m52.304s_F475W_topsf_single_sci.fits\n"
     ]
    },
    {
     "name": "stderr",
     "output_type": "stream",
     "text": [
      "2025-05-07 20:32:17,914 - stpipe - INFO - Writing out image to disk: /Users/avapolzin/Desktop/psf_testoutputs/acs/j8pu42ecq_flc_150d08m15.267s+2d09m52.304s_F475W_topsf_single_sci.fits\n"
     ]
    },
    {
     "name": "stdout",
     "output_type": "stream",
     "text": [
      "Writing out image to disk: /Users/avapolzin/Desktop/psf_testoutputs/acs/j8pu42ecq_flc_150d08m15.267s+2d09m52.304s_F475W_topsf_single_sci.fits\n"
     ]
    },
    {
     "name": "stderr",
     "output_type": "stream",
     "text": [
      "2025-05-07 20:32:17,934 - stpipe - INFO - Writing out image to disk: /Users/avapolzin/Desktop/psf_testoutputs/acs/j8pu42evq_flc_150d08m15.267s+2d09m52.304s_F475W_topsf_single_sci.fits\n",
      "2025-05-07 20:32:17,934 - stpipe - INFO - Writing out image to disk: /Users/avapolzin/Desktop/psf_testoutputs/acs/j8pu42esq_flc_150d08m15.267s+2d09m52.304s_F475W_topsf_single_sci.fits\n"
     ]
    },
    {
     "name": "stdout",
     "output_type": "stream",
     "text": [
      "Writing out image to disk: /Users/avapolzin/Desktop/psf_testoutputs/acs/j8pu42esq_flc_150d08m15.267s+2d09m52.304s_F475W_topsf_single_sci.fits\n",
      "Writing out image to disk: /Users/avapolzin/Desktop/psf_testoutputs/acs/j8pu42evq_flc_150d08m15.267s+2d09m52.304s_F475W_topsf_single_sci.fits\n"
     ]
    },
    {
     "name": "stderr",
     "output_type": "stream",
     "text": [
      "2025-05-07 20:32:17,975 - stpipe - INFO - Writing out image to disk: /Users/avapolzin/Desktop/psf_testoutputs/acs/j8pu42egq_flc_150d08m15.267s+2d09m52.304s_F475W_topsf_single_wht.fits\n"
     ]
    },
    {
     "name": "stdout",
     "output_type": "stream",
     "text": [
      "Writing out image to disk: /Users/avapolzin/Desktop/psf_testoutputs/acs/j8pu42egq_flc_150d08m15.267s+2d09m52.304s_F475W_topsf_single_wht.fits\n"
     ]
    },
    {
     "name": "stderr",
     "output_type": "stream",
     "text": [
      "2025-05-07 20:32:17,977 - stpipe - INFO - Writing out image to disk: /Users/avapolzin/Desktop/psf_testoutputs/acs/j8pu42ecq_flc_150d08m15.267s+2d09m52.304s_F475W_topsf_single_wht.fits\n"
     ]
    },
    {
     "name": "stdout",
     "output_type": "stream",
     "text": [
      "Writing out image to disk: /Users/avapolzin/Desktop/psf_testoutputs/acs/j8pu42ecq_flc_150d08m15.267s+2d09m52.304s_F475W_topsf_single_wht.fits\n"
     ]
    },
    {
     "name": "stderr",
     "output_type": "stream",
     "text": [
      "2025-05-07 20:32:18,052 - stpipe - INFO - Writing out image to disk: /Users/avapolzin/Desktop/psf_testoutputs/acs/j8pu42esq_flc_150d08m15.267s+2d09m52.304s_F475W_topsf_single_wht.fits\n",
      "2025-05-07 20:32:18,052 - stpipe - INFO - Writing out image to disk: /Users/avapolzin/Desktop/psf_testoutputs/acs/j8pu42evq_flc_150d08m15.267s+2d09m52.304s_F475W_topsf_single_wht.fits\n"
     ]
    },
    {
     "name": "stdout",
     "output_type": "stream",
     "text": [
      "Writing out image to disk: /Users/avapolzin/Desktop/psf_testoutputs/acs/j8pu42evq_flc_150d08m15.267s+2d09m52.304s_F475W_topsf_single_wht.fits\n",
      "Writing out image to disk: /Users/avapolzin/Desktop/psf_testoutputs/acs/j8pu42esq_flc_150d08m15.267s+2d09m52.304s_F475W_topsf_single_wht.fits\n"
     ]
    },
    {
     "name": "stderr",
     "output_type": "stream",
     "text": [
      "2025-05-07 20:32:18,107 - stpipe - INFO - ==== Processing Step Separate Drizzle finished at 20:32:18.106 (07/05/2025)\n"
     ]
    },
    {
     "name": "stdout",
     "output_type": "stream",
     "text": [
      "==== Processing Step Separate Drizzle finished at 20:32:18.106 (07/05/2025)\n"
     ]
    },
    {
     "name": "stderr",
     "output_type": "stream",
     "text": [
      "2025-05-07 20:32:18,109 - stpipe - INFO - ==== Processing Step  Create Median  started at  20:32:18.109 (07/05/2025)\n"
     ]
    },
    {
     "name": "stdout",
     "output_type": "stream",
     "text": [
      "==== Processing Step  Create Median  started at  20:32:18.109 (07/05/2025)\n"
     ]
    },
    {
     "name": "stderr",
     "output_type": "stream",
     "text": [
      "2025-05-07 20:32:18,110 - stpipe - INFO - \n"
     ]
    },
    {
     "name": "stdout",
     "output_type": "stream",
     "text": [
      "\n"
     ]
    },
    {
     "name": "stderr",
     "output_type": "stream",
     "text": [
      "2025-05-07 20:32:18,111 - stpipe - INFO - USER INPUT PARAMETERS for Create Median Step:\n",
      "2025-05-07 20:32:18,111 - stpipe - INFO - \tcombine_bufsize :\tNone\n",
      "2025-05-07 20:32:18,112 - stpipe - INFO - \tcombine_grow :\t1\n",
      "2025-05-07 20:32:18,112 - stpipe - INFO - \tcombine_hthresh :\tNone\n",
      "2025-05-07 20:32:18,112 - stpipe - INFO - \tcombine_lthresh :\tNone\n",
      "2025-05-07 20:32:18,113 - stpipe - INFO - \tcombine_maskpt :\t0.3\n",
      "2025-05-07 20:32:18,113 - stpipe - INFO - \tcombine_nhigh :\t0\n",
      "2025-05-07 20:32:18,113 - stpipe - INFO - \tcombine_nlow :\t0\n",
      "2025-05-07 20:32:18,114 - stpipe - INFO - \tcombine_nsigma :\t4 3\n",
      "2025-05-07 20:32:18,114 - stpipe - INFO - \tcombine_type :\timedian\n",
      "2025-05-07 20:32:18,115 - stpipe - INFO - \tcompress :\tFalse\n",
      "2025-05-07 20:32:18,116 - stpipe - INFO - \tmedian :\tTrue\n",
      "2025-05-07 20:32:18,116 - stpipe - INFO - \tmedian_newmasks :\tTrue\n",
      "2025-05-07 20:32:18,117 - stpipe - INFO - \tproc_unit :\tnative\n",
      "2025-05-07 20:32:18,201 - stpipe - INFO - reference sky value for image '/Users/avapolzin/Desktop/psf_testoutputs/acs/j8pu42ecq_flc_150d08m15.267s+2d09m52.304s_F475W_topsf.fits' is 0.0\n"
     ]
    },
    {
     "name": "stdout",
     "output_type": "stream",
     "text": [
      "reference sky value for image '/Users/avapolzin/Desktop/psf_testoutputs/acs/j8pu42ecq_flc_150d08m15.267s+2d09m52.304s_F475W_topsf.fits' is 0.0\n"
     ]
    },
    {
     "name": "stderr",
     "output_type": "stream",
     "text": [
      "2025-05-07 20:32:18,261 - stpipe - INFO - reference sky value for image '/Users/avapolzin/Desktop/psf_testoutputs/acs/j8pu42egq_flc_150d08m15.267s+2d09m52.304s_F475W_topsf.fits' is 0.0\n"
     ]
    },
    {
     "name": "stdout",
     "output_type": "stream",
     "text": [
      "reference sky value for image '/Users/avapolzin/Desktop/psf_testoutputs/acs/j8pu42egq_flc_150d08m15.267s+2d09m52.304s_F475W_topsf.fits' is 0.0\n"
     ]
    },
    {
     "name": "stderr",
     "output_type": "stream",
     "text": [
      "2025-05-07 20:32:18,322 - stpipe - INFO - reference sky value for image '/Users/avapolzin/Desktop/psf_testoutputs/acs/j8pu42esq_flc_150d08m15.267s+2d09m52.304s_F475W_topsf.fits' is 0.0\n"
     ]
    },
    {
     "name": "stdout",
     "output_type": "stream",
     "text": [
      "reference sky value for image '/Users/avapolzin/Desktop/psf_testoutputs/acs/j8pu42esq_flc_150d08m15.267s+2d09m52.304s_F475W_topsf.fits' is 0.0\n"
     ]
    },
    {
     "name": "stderr",
     "output_type": "stream",
     "text": [
      "2025-05-07 20:32:18,380 - stpipe - INFO - reference sky value for image '/Users/avapolzin/Desktop/psf_testoutputs/acs/j8pu42evq_flc_150d08m15.267s+2d09m52.304s_F475W_topsf.fits' is 0.0\n"
     ]
    },
    {
     "name": "stdout",
     "output_type": "stream",
     "text": [
      "reference sky value for image '/Users/avapolzin/Desktop/psf_testoutputs/acs/j8pu42evq_flc_150d08m15.267s+2d09m52.304s_F475W_topsf.fits' is 0.0\n"
     ]
    },
    {
     "name": "stderr",
     "output_type": "stream",
     "text": [
      "2025-05-07 20:32:19,543 - stpipe - INFO - Saving output median image to: 'final_med.fits'\n"
     ]
    },
    {
     "name": "stdout",
     "output_type": "stream",
     "text": [
      "Saving output median image to: 'final_med.fits'\n"
     ]
    },
    {
     "name": "stderr",
     "output_type": "stream",
     "text": [
      "2025-05-07 20:32:19,578 - stpipe - INFO - ==== Processing Step Create Median finished at 20:32:19.578 (07/05/2025)\n"
     ]
    },
    {
     "name": "stdout",
     "output_type": "stream",
     "text": [
      "==== Processing Step Create Median finished at 20:32:19.578 (07/05/2025)\n"
     ]
    },
    {
     "name": "stderr",
     "output_type": "stream",
     "text": [
      "2025-05-07 20:32:19,580 - stpipe - INFO - ==== Processing Step  Blot  started at  20:32:19.580 (07/05/2025)\n"
     ]
    },
    {
     "name": "stdout",
     "output_type": "stream",
     "text": [
      "==== Processing Step  Blot  started at  20:32:19.580 (07/05/2025)\n"
     ]
    },
    {
     "name": "stderr",
     "output_type": "stream",
     "text": [
      "2025-05-07 20:32:19,580 - stpipe - INFO - \n"
     ]
    },
    {
     "name": "stdout",
     "output_type": "stream",
     "text": [
      "\n"
     ]
    },
    {
     "name": "stderr",
     "output_type": "stream",
     "text": [
      "2025-05-07 20:32:19,581 - stpipe - INFO - USER INPUT PARAMETERS for Blot Step:\n",
      "2025-05-07 20:32:19,582 - stpipe - INFO - \tblot_addsky :\tTrue\n",
      "2025-05-07 20:32:19,582 - stpipe - INFO - \tblot_interp :\tpoly5\n",
      "2025-05-07 20:32:19,582 - stpipe - INFO - \tblot_sinscl :\t1.0\n",
      "2025-05-07 20:32:19,583 - stpipe - INFO - \tblot_skyval :\t0.0\n",
      "2025-05-07 20:32:19,583 - stpipe - INFO - \tcoeffs :\tTrue\n",
      "2025-05-07 20:32:19,584 - stpipe - INFO -     Blot: creating blotted image:  /Users/avapolzin/Desktop/psf_testoutputs/acs/j8pu42ecq_flc_150d08m15.267s+2d09m52.304s_F475W_topsf.fits[sci,1]\n"
     ]
    },
    {
     "name": "stdout",
     "output_type": "stream",
     "text": [
      "    Blot: creating blotted image:  /Users/avapolzin/Desktop/psf_testoutputs/acs/j8pu42ecq_flc_150d08m15.267s+2d09m52.304s_F475W_topsf.fits[sci,1]\n"
     ]
    },
    {
     "name": "stderr",
     "output_type": "stream",
     "text": [
      "2025-05-07 20:32:19,614 - stpipe - INFO - Using default C-based coordinate transformation...\n"
     ]
    },
    {
     "name": "stdout",
     "output_type": "stream",
     "text": [
      "Using default C-based coordinate transformation...\n"
     ]
    },
    {
     "name": "stderr",
     "output_type": "stream",
     "text": [
      "2025-05-07 20:32:20,399 - stpipe - INFO - Applying sky value of 0.000000 to blotted image /Users/avapolzin/Desktop/psf_testoutputs/acs/j8pu42ecq_flc_150d08m15.267s+2d09m52.304s_F475W_topsf.fits[sci,1]\n",
      "2025-05-07 20:32:20,439 - stpipe - INFO - -Generating simple FITS output: /Users/avapolzin/Desktop/psf_testoutputs/acs/j8pu42ecq_flc_150d08m15.267s+2d09m52.304s_F475W_topsf_sci1_blt.fits\n"
     ]
    },
    {
     "name": "stdout",
     "output_type": "stream",
     "text": [
      "-Generating simple FITS output: /Users/avapolzin/Desktop/psf_testoutputs/acs/j8pu42ecq_flc_150d08m15.267s+2d09m52.304s_F475W_topsf_sci1_blt.fits\n"
     ]
    },
    {
     "name": "stderr",
     "output_type": "stream",
     "text": [
      "2025-05-07 20:32:20,454 - stpipe - INFO - Writing out image to disk: /Users/avapolzin/Desktop/psf_testoutputs/acs/j8pu42ecq_flc_150d08m15.267s+2d09m52.304s_F475W_topsf_sci1_blt.fits\n"
     ]
    },
    {
     "name": "stdout",
     "output_type": "stream",
     "text": [
      "Writing out image to disk: /Users/avapolzin/Desktop/psf_testoutputs/acs/j8pu42ecq_flc_150d08m15.267s+2d09m52.304s_F475W_topsf_sci1_blt.fits\n"
     ]
    },
    {
     "name": "stderr",
     "output_type": "stream",
     "text": [
      "2025-05-07 20:32:20,482 - stpipe - INFO -     Blot: creating blotted image:  /Users/avapolzin/Desktop/psf_testoutputs/acs/j8pu42egq_flc_150d08m15.267s+2d09m52.304s_F475W_topsf.fits[sci,1]\n"
     ]
    },
    {
     "name": "stdout",
     "output_type": "stream",
     "text": [
      "    Blot: creating blotted image:  /Users/avapolzin/Desktop/psf_testoutputs/acs/j8pu42egq_flc_150d08m15.267s+2d09m52.304s_F475W_topsf.fits[sci,1]\n"
     ]
    },
    {
     "name": "stderr",
     "output_type": "stream",
     "text": [
      "2025-05-07 20:32:20,524 - stpipe - INFO - Using default C-based coordinate transformation...\n"
     ]
    },
    {
     "name": "stdout",
     "output_type": "stream",
     "text": [
      "Using default C-based coordinate transformation...\n"
     ]
    },
    {
     "name": "stderr",
     "output_type": "stream",
     "text": [
      "2025-05-07 20:32:21,314 - stpipe - INFO - Applying sky value of 0.000000 to blotted image /Users/avapolzin/Desktop/psf_testoutputs/acs/j8pu42egq_flc_150d08m15.267s+2d09m52.304s_F475W_topsf.fits[sci,1]\n",
      "2025-05-07 20:32:21,354 - stpipe - INFO - -Generating simple FITS output: /Users/avapolzin/Desktop/psf_testoutputs/acs/j8pu42egq_flc_150d08m15.267s+2d09m52.304s_F475W_topsf_sci1_blt.fits\n"
     ]
    },
    {
     "name": "stdout",
     "output_type": "stream",
     "text": [
      "-Generating simple FITS output: /Users/avapolzin/Desktop/psf_testoutputs/acs/j8pu42egq_flc_150d08m15.267s+2d09m52.304s_F475W_topsf_sci1_blt.fits\n"
     ]
    },
    {
     "name": "stderr",
     "output_type": "stream",
     "text": [
      "2025-05-07 20:32:21,370 - stpipe - INFO - Writing out image to disk: /Users/avapolzin/Desktop/psf_testoutputs/acs/j8pu42egq_flc_150d08m15.267s+2d09m52.304s_F475W_topsf_sci1_blt.fits\n"
     ]
    },
    {
     "name": "stdout",
     "output_type": "stream",
     "text": [
      "Writing out image to disk: /Users/avapolzin/Desktop/psf_testoutputs/acs/j8pu42egq_flc_150d08m15.267s+2d09m52.304s_F475W_topsf_sci1_blt.fits\n"
     ]
    },
    {
     "name": "stderr",
     "output_type": "stream",
     "text": [
      "2025-05-07 20:32:21,401 - stpipe - INFO -     Blot: creating blotted image:  /Users/avapolzin/Desktop/psf_testoutputs/acs/j8pu42esq_flc_150d08m15.267s+2d09m52.304s_F475W_topsf.fits[sci,1]\n"
     ]
    },
    {
     "name": "stdout",
     "output_type": "stream",
     "text": [
      "    Blot: creating blotted image:  /Users/avapolzin/Desktop/psf_testoutputs/acs/j8pu42esq_flc_150d08m15.267s+2d09m52.304s_F475W_topsf.fits[sci,1]\n"
     ]
    },
    {
     "name": "stderr",
     "output_type": "stream",
     "text": [
      "2025-05-07 20:32:21,432 - stpipe - INFO - Using default C-based coordinate transformation...\n"
     ]
    },
    {
     "name": "stdout",
     "output_type": "stream",
     "text": [
      "Using default C-based coordinate transformation...\n"
     ]
    },
    {
     "name": "stderr",
     "output_type": "stream",
     "text": [
      "2025-05-07 20:32:22,216 - stpipe - INFO - Applying sky value of 0.000000 to blotted image /Users/avapolzin/Desktop/psf_testoutputs/acs/j8pu42esq_flc_150d08m15.267s+2d09m52.304s_F475W_topsf.fits[sci,1]\n",
      "2025-05-07 20:32:22,253 - stpipe - INFO - -Generating simple FITS output: /Users/avapolzin/Desktop/psf_testoutputs/acs/j8pu42esq_flc_150d08m15.267s+2d09m52.304s_F475W_topsf_sci1_blt.fits\n"
     ]
    },
    {
     "name": "stdout",
     "output_type": "stream",
     "text": [
      "-Generating simple FITS output: /Users/avapolzin/Desktop/psf_testoutputs/acs/j8pu42esq_flc_150d08m15.267s+2d09m52.304s_F475W_topsf_sci1_blt.fits\n"
     ]
    },
    {
     "name": "stderr",
     "output_type": "stream",
     "text": [
      "2025-05-07 20:32:22,267 - stpipe - INFO - Writing out image to disk: /Users/avapolzin/Desktop/psf_testoutputs/acs/j8pu42esq_flc_150d08m15.267s+2d09m52.304s_F475W_topsf_sci1_blt.fits\n"
     ]
    },
    {
     "name": "stdout",
     "output_type": "stream",
     "text": [
      "Writing out image to disk: /Users/avapolzin/Desktop/psf_testoutputs/acs/j8pu42esq_flc_150d08m15.267s+2d09m52.304s_F475W_topsf_sci1_blt.fits\n"
     ]
    },
    {
     "name": "stderr",
     "output_type": "stream",
     "text": [
      "2025-05-07 20:32:22,297 - stpipe - INFO -     Blot: creating blotted image:  /Users/avapolzin/Desktop/psf_testoutputs/acs/j8pu42evq_flc_150d08m15.267s+2d09m52.304s_F475W_topsf.fits[sci,1]\n"
     ]
    },
    {
     "name": "stdout",
     "output_type": "stream",
     "text": [
      "    Blot: creating blotted image:  /Users/avapolzin/Desktop/psf_testoutputs/acs/j8pu42evq_flc_150d08m15.267s+2d09m52.304s_F475W_topsf.fits[sci,1]\n"
     ]
    },
    {
     "name": "stderr",
     "output_type": "stream",
     "text": [
      "2025-05-07 20:32:22,319 - stpipe - INFO - Using default C-based coordinate transformation...\n"
     ]
    },
    {
     "name": "stdout",
     "output_type": "stream",
     "text": [
      "Using default C-based coordinate transformation...\n"
     ]
    },
    {
     "name": "stderr",
     "output_type": "stream",
     "text": [
      "2025-05-07 20:32:23,096 - stpipe - INFO - Applying sky value of 0.000000 to blotted image /Users/avapolzin/Desktop/psf_testoutputs/acs/j8pu42evq_flc_150d08m15.267s+2d09m52.304s_F475W_topsf.fits[sci,1]\n",
      "2025-05-07 20:32:23,134 - stpipe - INFO - -Generating simple FITS output: /Users/avapolzin/Desktop/psf_testoutputs/acs/j8pu42evq_flc_150d08m15.267s+2d09m52.304s_F475W_topsf_sci1_blt.fits\n"
     ]
    },
    {
     "name": "stdout",
     "output_type": "stream",
     "text": [
      "-Generating simple FITS output: /Users/avapolzin/Desktop/psf_testoutputs/acs/j8pu42evq_flc_150d08m15.267s+2d09m52.304s_F475W_topsf_sci1_blt.fits\n"
     ]
    },
    {
     "name": "stderr",
     "output_type": "stream",
     "text": [
      "2025-05-07 20:32:23,148 - stpipe - INFO - Writing out image to disk: /Users/avapolzin/Desktop/psf_testoutputs/acs/j8pu42evq_flc_150d08m15.267s+2d09m52.304s_F475W_topsf_sci1_blt.fits\n"
     ]
    },
    {
     "name": "stdout",
     "output_type": "stream",
     "text": [
      "Writing out image to disk: /Users/avapolzin/Desktop/psf_testoutputs/acs/j8pu42evq_flc_150d08m15.267s+2d09m52.304s_F475W_topsf_sci1_blt.fits\n"
     ]
    },
    {
     "name": "stderr",
     "output_type": "stream",
     "text": [
      "2025-05-07 20:32:23,175 - stpipe - INFO - ==== Processing Step Blot finished at 20:32:23.175 (07/05/2025)\n"
     ]
    },
    {
     "name": "stdout",
     "output_type": "stream",
     "text": [
      "==== Processing Step Blot finished at 20:32:23.175 (07/05/2025)\n"
     ]
    },
    {
     "name": "stderr",
     "output_type": "stream",
     "text": [
      "2025-05-07 20:32:23,176 - stpipe - INFO - ==== Processing Step  Driz_CR  started at  20:32:23.176 (07/05/2025)\n"
     ]
    },
    {
     "name": "stdout",
     "output_type": "stream",
     "text": [
      "==== Processing Step  Driz_CR  started at  20:32:23.176 (07/05/2025)\n"
     ]
    },
    {
     "name": "stderr",
     "output_type": "stream",
     "text": [
      "2025-05-07 20:32:23,177 - stpipe - INFO - \n"
     ]
    },
    {
     "name": "stdout",
     "output_type": "stream",
     "text": [
      "\n"
     ]
    },
    {
     "name": "stderr",
     "output_type": "stream",
     "text": [
      "2025-05-07 20:32:23,178 - stpipe - INFO - USER INPUT PARAMETERS for Driz_CR Step:\n",
      "2025-05-07 20:32:23,178 - stpipe - INFO - \tcrbit :\t4096\n",
      "2025-05-07 20:32:23,179 - stpipe - INFO - \tdriz_cr :\tTrue\n",
      "2025-05-07 20:32:23,179 - stpipe - INFO - \tdriz_cr_corr :\tFalse\n",
      "2025-05-07 20:32:23,179 - stpipe - INFO - \tdriz_cr_ctegrow :\t0\n",
      "2025-05-07 20:32:23,180 - stpipe - INFO - \tdriz_cr_grow :\t1\n",
      "2025-05-07 20:32:23,180 - stpipe - INFO - \tdriz_cr_scale :\t1.2 0.7\n",
      "2025-05-07 20:32:23,180 - stpipe - INFO - \tdriz_cr_snr :\t3.5 3.0\n",
      "2025-05-07 20:32:23,181 - stpipe - INFO - \tinmemory :\tFalse\n",
      "2025-05-07 20:32:23,181 - stpipe - INFO - Executing 4 parallel workers\n",
      "2025-05-07 20:32:24,567 - stpipe - INFO - Creating output: /Users/avapolzin/Desktop/psf_testoutputs/acs/j8pu42evq_flc_150d08m15.267s+2d09m52.304s_F475W_topsf_sci1_crmask.fits\n"
     ]
    },
    {
     "name": "stdout",
     "output_type": "stream",
     "text": [
      "Creating output: /Users/avapolzin/Desktop/psf_testoutputs/acs/j8pu42evq_flc_150d08m15.267s+2d09m52.304s_F475W_topsf_sci1_crmask.fits\n"
     ]
    },
    {
     "name": "stderr",
     "output_type": "stream",
     "text": [
      "2025-05-07 20:32:24,589 - stpipe - INFO - Creating output: /Users/avapolzin/Desktop/psf_testoutputs/acs/j8pu42egq_flc_150d08m15.267s+2d09m52.304s_F475W_topsf_sci1_crmask.fits\n",
      "2025-05-07 20:32:24,590 - stpipe - INFO - Creating output: /Users/avapolzin/Desktop/psf_testoutputs/acs/j8pu42ecq_flc_150d08m15.267s+2d09m52.304s_F475W_topsf_sci1_crmask.fits\n"
     ]
    },
    {
     "name": "stdout",
     "output_type": "stream",
     "text": [
      "Creating output: /Users/avapolzin/Desktop/psf_testoutputs/acs/j8pu42ecq_flc_150d08m15.267s+2d09m52.304s_F475W_topsf_sci1_crmask.fits\n",
      "Creating output: /Users/avapolzin/Desktop/psf_testoutputs/acs/j8pu42egq_flc_150d08m15.267s+2d09m52.304s_F475W_topsf_sci1_crmask.fits\n"
     ]
    },
    {
     "name": "stderr",
     "output_type": "stream",
     "text": [
      "2025-05-07 20:32:24,599 - stpipe - INFO - Creating output: /Users/avapolzin/Desktop/psf_testoutputs/acs/j8pu42esq_flc_150d08m15.267s+2d09m52.304s_F475W_topsf_sci1_crmask.fits\n"
     ]
    },
    {
     "name": "stdout",
     "output_type": "stream",
     "text": [
      "Creating output: /Users/avapolzin/Desktop/psf_testoutputs/acs/j8pu42esq_flc_150d08m15.267s+2d09m52.304s_F475W_topsf_sci1_crmask.fits\n"
     ]
    },
    {
     "name": "stderr",
     "output_type": "stream",
     "text": [
      "2025-05-07 20:32:24,642 - stpipe - INFO - ==== Processing Step Driz_CR finished at 20:32:24.641 (07/05/2025)\n"
     ]
    },
    {
     "name": "stdout",
     "output_type": "stream",
     "text": [
      "==== Processing Step Driz_CR finished at 20:32:24.641 (07/05/2025)\n"
     ]
    },
    {
     "name": "stderr",
     "output_type": "stream",
     "text": [
      "2025-05-07 20:32:24,650 - stpipe - INFO - ==== Processing Step  Final Drizzle  started at  20:32:24.650 (07/05/2025)\n"
     ]
    },
    {
     "name": "stdout",
     "output_type": "stream",
     "text": [
      "==== Processing Step  Final Drizzle  started at  20:32:24.650 (07/05/2025)\n"
     ]
    },
    {
     "name": "stderr",
     "output_type": "stream",
     "text": [
      "2025-05-07 20:32:24,651 - stpipe - INFO - \n"
     ]
    },
    {
     "name": "stdout",
     "output_type": "stream",
     "text": [
      "\n"
     ]
    },
    {
     "name": "stderr",
     "output_type": "stream",
     "text": [
      "2025-05-07 20:32:24,652 - stpipe - INFO - Interpreted paramDict with single=False as:\n",
      "{'build': True, 'stepsize': 10, 'coeffs': True, 'wcskey': '', 'wht_type': 'EXP', 'kernel': 'square', 'wt_scl': 'exptime', 'pixfrac': 0.8, 'fillval': None, 'maskval': None, 'bits': 0, 'units': 'cps'}\n",
      "2025-05-07 20:32:24,653 - stpipe - INFO - USER INPUT PARAMETERS for Final Drizzle Step:\n",
      "2025-05-07 20:32:24,653 - stpipe - INFO - \tbits :\t0\n",
      "2025-05-07 20:32:24,654 - stpipe - INFO - \tbuild :\tTrue\n",
      "2025-05-07 20:32:24,654 - stpipe - INFO - \tclean :\tFalse\n",
      "2025-05-07 20:32:24,655 - stpipe - INFO - \tcoeffs :\tTrue\n",
      "2025-05-07 20:32:24,655 - stpipe - INFO - \tcrbit :\t4096\n",
      "2025-05-07 20:32:24,656 - stpipe - INFO - \tfillval :\tNone\n",
      "2025-05-07 20:32:24,656 - stpipe - INFO - \tkernel :\tsquare\n",
      "2025-05-07 20:32:24,656 - stpipe - INFO - \tlogfile :\tastrodrizzle.log\n",
      "2025-05-07 20:32:24,656 - stpipe - INFO - \tmaskval :\tNone\n",
      "2025-05-07 20:32:24,657 - stpipe - INFO - \tpixfrac :\t0.8\n",
      "2025-05-07 20:32:24,657 - stpipe - INFO - \tproc_unit :\tnative\n",
      "2025-05-07 20:32:24,658 - stpipe - INFO - \trules_file :\tNone\n",
      "2025-05-07 20:32:24,658 - stpipe - INFO - \tstepsize :\t10\n",
      "2025-05-07 20:32:24,659 - stpipe - INFO - \tunits :\tcps\n",
      "2025-05-07 20:32:24,659 - stpipe - INFO - \twcskey :\t\n",
      "2025-05-07 20:32:24,660 - stpipe - INFO - \twht_type :\tEXP\n",
      "2025-05-07 20:32:24,660 - stpipe - INFO - \twt_scl :\texptime\n",
      "2025-05-07 20:32:24,661 - stpipe - INFO -   **Using sub-sampling value of 10 for kernel square\n",
      "2025-05-07 20:32:24,663 - stpipe - INFO - Running Drizzle to create output frame with WCS of: \n",
      "2025-05-07 20:32:24,663 - stpipe - INFO - WCS Keywords\n"
     ]
    },
    {
     "name": "stdout",
     "output_type": "stream",
     "text": [
      "WCS Keywords\n"
     ]
    },
    {
     "name": "stderr",
     "output_type": "stream",
     "text": [
      "2025-05-07 20:32:24,665 - stpipe - INFO - \n"
     ]
    },
    {
     "name": "stdout",
     "output_type": "stream",
     "text": [
      "\n"
     ]
    },
    {
     "name": "stderr",
     "output_type": "stream",
     "text": [
      "2025-05-07 20:32:24,666 - stpipe - INFO - Number of WCS axes: 2\n"
     ]
    },
    {
     "name": "stdout",
     "output_type": "stream",
     "text": [
      "Number of WCS axes: 2\n"
     ]
    },
    {
     "name": "stderr",
     "output_type": "stream",
     "text": [
      "2025-05-07 20:32:24,667 - stpipe - INFO - CTYPE : 'RA---TAN' 'DEC--TAN' \n"
     ]
    },
    {
     "name": "stdout",
     "output_type": "stream",
     "text": [
      "CTYPE : 'RA---TAN' 'DEC--TAN' \n"
     ]
    },
    {
     "name": "stderr",
     "output_type": "stream",
     "text": [
      "2025-05-07 20:32:24,668 - stpipe - INFO - CRVAL : np.float64(150.1242636198465) np.float64(2.151761555110333) \n"
     ]
    },
    {
     "name": "stdout",
     "output_type": "stream",
     "text": [
      "CRVAL : np.float64(150.1242636198465) np.float64(2.151761555110333) \n"
     ]
    },
    {
     "name": "stderr",
     "output_type": "stream",
     "text": [
      "2025-05-07 20:32:24,669 - stpipe - INFO - CRPIX : np.float64(2081.0) np.float64(1179.5) \n"
     ]
    },
    {
     "name": "stdout",
     "output_type": "stream",
     "text": [
      "CRPIX : np.float64(2081.0) np.float64(1179.5) \n"
     ]
    },
    {
     "name": "stderr",
     "output_type": "stream",
     "text": [
      "2025-05-07 20:32:24,670 - stpipe - INFO - CD1_1 CD1_2  : np.float64(-2.4118726301966414e-06) np.float64(-1.3677869168244357e-05) \n"
     ]
    },
    {
     "name": "stdout",
     "output_type": "stream",
     "text": [
      "CD1_1 CD1_2  : np.float64(-2.4118726301966414e-06) np.float64(-1.3677869168244357e-05) \n"
     ]
    },
    {
     "name": "stderr",
     "output_type": "stream",
     "text": [
      "2025-05-07 20:32:24,671 - stpipe - INFO - CD2_1 CD2_2  : np.float64(-1.3677869168244357e-05) np.float64(2.4118726301966414e-06) \n"
     ]
    },
    {
     "name": "stdout",
     "output_type": "stream",
     "text": [
      "CD2_1 CD2_2  : np.float64(-1.3677869168244357e-05) np.float64(2.4118726301966414e-06) \n"
     ]
    },
    {
     "name": "stderr",
     "output_type": "stream",
     "text": [
      "2025-05-07 20:32:24,672 - stpipe - INFO - NAXIS : 4162  2359\n"
     ]
    },
    {
     "name": "stdout",
     "output_type": "stream",
     "text": [
      "NAXIS : 4162  2359\n"
     ]
    },
    {
     "name": "stderr",
     "output_type": "stream",
     "text": [
      "2025-05-07 20:32:24,702 - stpipe - INFO - -Drizzle input: /Users/avapolzin/Desktop/psf_testoutputs/acs/j8pu42ecq_flc_150d08m15.267s+2d09m52.304s_F475W_topsf.fits[sci,1]\n",
      "2025-05-07 20:32:24,717 - stpipe - INFO - Applying sky value of 0.000000 to /Users/avapolzin/Desktop/psf_testoutputs/acs/j8pu42ecq_flc_150d08m15.267s+2d09m52.304s_F475W_topsf.fits[sci,1]\n",
      "2025-05-07 20:32:24,814 - stpipe - INFO - Applying EXPTIME weighting to DQ mask for chip 1\n",
      "2025-05-07 20:32:24,867 - stpipe - INFO - Writing out mask file: /Users/avapolzin/Desktop/psf_testoutputs/acs/j8pu42ecq_flc_150d08m15.267s+2d09m52.304s_F475W_topsf_sci1_final_mask.fits\n",
      "2025-05-07 20:32:24,867 - stpipe - INFO - Using WCSLIB-based coordinate transformation...\n",
      "2025-05-07 20:32:24,868 - stpipe - INFO - stepsize = 10\n",
      "2025-05-07 20:32:24,896 - stpipe - INFO - -Drizzling using kernel = square\n",
      "\n",
      "2025-05-07 20:32:26,057 - stpipe - INFO - -Drizzle input: /Users/avapolzin/Desktop/psf_testoutputs/acs/j8pu42egq_flc_150d08m15.267s+2d09m52.304s_F475W_topsf.fits[sci,1]\n",
      "2025-05-07 20:32:26,071 - stpipe - INFO - Applying sky value of 0.000000 to /Users/avapolzin/Desktop/psf_testoutputs/acs/j8pu42egq_flc_150d08m15.267s+2d09m52.304s_F475W_topsf.fits[sci,1]\n",
      "2025-05-07 20:32:26,131 - stpipe - INFO - Applying EXPTIME weighting to DQ mask for chip 1\n",
      "2025-05-07 20:32:26,159 - stpipe - INFO - Writing out mask file: /Users/avapolzin/Desktop/psf_testoutputs/acs/j8pu42egq_flc_150d08m15.267s+2d09m52.304s_F475W_topsf_sci1_final_mask.fits\n",
      "2025-05-07 20:32:26,160 - stpipe - INFO - Using WCSLIB-based coordinate transformation...\n",
      "2025-05-07 20:32:26,160 - stpipe - INFO - stepsize = 10\n",
      "2025-05-07 20:32:26,188 - stpipe - INFO - -Drizzling using kernel = square\n",
      "\n",
      "2025-05-07 20:32:27,323 - stpipe - INFO - -Drizzle input: /Users/avapolzin/Desktop/psf_testoutputs/acs/j8pu42esq_flc_150d08m15.267s+2d09m52.304s_F475W_topsf.fits[sci,1]\n",
      "2025-05-07 20:32:27,337 - stpipe - INFO - Applying sky value of 0.000000 to /Users/avapolzin/Desktop/psf_testoutputs/acs/j8pu42esq_flc_150d08m15.267s+2d09m52.304s_F475W_topsf.fits[sci,1]\n",
      "2025-05-07 20:32:27,404 - stpipe - INFO - Applying EXPTIME weighting to DQ mask for chip 1\n",
      "2025-05-07 20:32:27,434 - stpipe - INFO - Writing out mask file: /Users/avapolzin/Desktop/psf_testoutputs/acs/j8pu42esq_flc_150d08m15.267s+2d09m52.304s_F475W_topsf_sci1_final_mask.fits\n",
      "2025-05-07 20:32:27,434 - stpipe - INFO - Using WCSLIB-based coordinate transformation...\n",
      "2025-05-07 20:32:27,435 - stpipe - INFO - stepsize = 10\n",
      "2025-05-07 20:32:27,464 - stpipe - INFO - -Drizzling using kernel = square\n",
      "\n",
      "2025-05-07 20:32:28,569 - stpipe - INFO - -Drizzle input: /Users/avapolzin/Desktop/psf_testoutputs/acs/j8pu42evq_flc_150d08m15.267s+2d09m52.304s_F475W_topsf.fits[sci,1]\n",
      "2025-05-07 20:32:28,582 - stpipe - INFO - Applying sky value of 0.000000 to /Users/avapolzin/Desktop/psf_testoutputs/acs/j8pu42evq_flc_150d08m15.267s+2d09m52.304s_F475W_topsf.fits[sci,1]\n",
      "2025-05-07 20:32:28,639 - stpipe - INFO - Applying EXPTIME weighting to DQ mask for chip 1\n",
      "2025-05-07 20:32:28,668 - stpipe - INFO - Writing out mask file: /Users/avapolzin/Desktop/psf_testoutputs/acs/j8pu42evq_flc_150d08m15.267s+2d09m52.304s_F475W_topsf_sci1_final_mask.fits\n",
      "2025-05-07 20:32:28,669 - stpipe - INFO - Using WCSLIB-based coordinate transformation...\n",
      "2025-05-07 20:32:28,669 - stpipe - INFO - stepsize = 10\n",
      "2025-05-07 20:32:28,694 - stpipe - INFO - -Drizzling using kernel = square\n",
      "\n",
      "2025-05-07 20:32:30,242 - stpipe - INFO - -Generating multi-extension output file:  final_drz.fits\n"
     ]
    },
    {
     "name": "stdout",
     "output_type": "stream",
     "text": [
      "-Generating multi-extension output file:  final_drz.fits\n"
     ]
    },
    {
     "name": "stderr",
     "output_type": "stream",
     "text": [
      "2025-05-07 20:32:30,398 - stpipe - INFO - Deleted all instances of WCS with key A in extensions [1]\n"
     ]
    },
    {
     "name": "stdout",
     "output_type": "stream",
     "text": [
      "Deleted all instances of WCS with key A in extensions [1]\n"
     ]
    },
    {
     "name": "stderr",
     "output_type": "stream",
     "text": [
      "2025-05-07 20:32:30,403 - stpipe - INFO - Writing out to disk: final_drz.fits\n"
     ]
    },
    {
     "name": "stdout",
     "output_type": "stream",
     "text": [
      "Writing out to disk: final_drz.fits\n"
     ]
    },
    {
     "name": "stderr",
     "output_type": "stream",
     "text": [
      "2025-05-07 20:32:30,407 - stpipe - WARNING - /Users/avapolzin/opt/anaconda3/envs/spike/lib/python3.10/site-packages/astropy/io/fits/card.py:1036: VerifyWarning: Card is too long, comment will be truncated.\n",
      "\n",
      "2025-05-07 20:32:30,546 - stpipe - INFO - ==== Processing Step Final Drizzle finished at 20:32:30.546 (07/05/2025)\n"
     ]
    },
    {
     "name": "stdout",
     "output_type": "stream",
     "text": [
      "==== Processing Step Final Drizzle finished at 20:32:30.546 (07/05/2025)\n"
     ]
    },
    {
     "name": "stderr",
     "output_type": "stream",
     "text": [
      "2025-05-07 20:32:30,547 - stpipe - INFO - \n"
     ]
    },
    {
     "name": "stdout",
     "output_type": "stream",
     "text": [
      "\n"
     ]
    },
    {
     "name": "stderr",
     "output_type": "stream",
     "text": [
      "2025-05-07 20:32:30,548 - stpipe - INFO - AstroDrizzle Version 3.7.1rc1.dev56+g7951b66 is finished processing at 20:32:30.548 (07/05/2025).\n"
     ]
    },
    {
     "name": "stdout",
     "output_type": "stream",
     "text": [
      "AstroDrizzle Version 3.7.1rc1.dev56+g7951b66 is finished processing at 20:32:30.548 (07/05/2025).\n"
     ]
    },
    {
     "name": "stderr",
     "output_type": "stream",
     "text": [
      "2025-05-07 20:32:30,548 - stpipe - INFO - \n"
     ]
    },
    {
     "name": "stdout",
     "output_type": "stream",
     "text": [
      "\n"
     ]
    },
    {
     "name": "stderr",
     "output_type": "stream",
     "text": [
      "2025-05-07 20:32:30,549 - stpipe - INFO - \n"
     ]
    },
    {
     "name": "stdout",
     "output_type": "stream",
     "text": [
      "\n"
     ]
    },
    {
     "name": "stderr",
     "output_type": "stream",
     "text": [
      "2025-05-07 20:32:30,551 - stpipe - INFO - \n"
     ]
    },
    {
     "name": "stdout",
     "output_type": "stream",
     "text": [
      "\n"
     ]
    },
    {
     "name": "stderr",
     "output_type": "stream",
     "text": [
      "2025-05-07 20:32:30,552 - stpipe - INFO -    --------------------          --------------------\n"
     ]
    },
    {
     "name": "stdout",
     "output_type": "stream",
     "text": [
      "   --------------------          --------------------\n"
     ]
    },
    {
     "name": "stderr",
     "output_type": "stream",
     "text": [
      "2025-05-07 20:32:30,553 - stpipe - INFO -                    Step          Elapsed time\n"
     ]
    },
    {
     "name": "stdout",
     "output_type": "stream",
     "text": [
      "                   Step          Elapsed time\n"
     ]
    },
    {
     "name": "stderr",
     "output_type": "stream",
     "text": [
      "2025-05-07 20:32:30,553 - stpipe - INFO -    --------------------          --------------------\n"
     ]
    },
    {
     "name": "stdout",
     "output_type": "stream",
     "text": [
      "   --------------------          --------------------\n"
     ]
    },
    {
     "name": "stderr",
     "output_type": "stream",
     "text": [
      "2025-05-07 20:32:30,554 - stpipe - INFO - \n"
     ]
    },
    {
     "name": "stdout",
     "output_type": "stream",
     "text": [
      "\n"
     ]
    },
    {
     "name": "stderr",
     "output_type": "stream",
     "text": [
      "2025-05-07 20:32:30,555 - stpipe - INFO -          Initialization          0.7731 sec.\n"
     ]
    },
    {
     "name": "stdout",
     "output_type": "stream",
     "text": [
      "         Initialization          0.7731 sec.\n"
     ]
    },
    {
     "name": "stderr",
     "output_type": "stream",
     "text": [
      "2025-05-07 20:32:30,557 - stpipe - INFO -             Static Mask          0.0034 sec.\n"
     ]
    },
    {
     "name": "stdout",
     "output_type": "stream",
     "text": [
      "            Static Mask          0.0034 sec.\n"
     ]
    },
    {
     "name": "stderr",
     "output_type": "stream",
     "text": [
      "2025-05-07 20:32:30,558 - stpipe - INFO -            Subtract Sky          1.3242 sec.\n"
     ]
    },
    {
     "name": "stdout",
     "output_type": "stream",
     "text": [
      "           Subtract Sky          1.3242 sec.\n"
     ]
    },
    {
     "name": "stderr",
     "output_type": "stream",
     "text": [
      "2025-05-07 20:32:30,559 - stpipe - INFO -        Separate Drizzle          1.2404 sec.\n"
     ]
    },
    {
     "name": "stdout",
     "output_type": "stream",
     "text": [
      "       Separate Drizzle          1.2404 sec.\n"
     ]
    },
    {
     "name": "stderr",
     "output_type": "stream",
     "text": [
      "2025-05-07 20:32:30,560 - stpipe - INFO -           Create Median          1.4696 sec.\n"
     ]
    },
    {
     "name": "stdout",
     "output_type": "stream",
     "text": [
      "          Create Median          1.4696 sec.\n"
     ]
    },
    {
     "name": "stderr",
     "output_type": "stream",
     "text": [
      "2025-05-07 20:32:30,561 - stpipe - INFO -                    Blot          3.5956 sec.\n"
     ]
    },
    {
     "name": "stdout",
     "output_type": "stream",
     "text": [
      "                   Blot          3.5956 sec.\n"
     ]
    },
    {
     "name": "stderr",
     "output_type": "stream",
     "text": [
      "2025-05-07 20:32:30,562 - stpipe - INFO -                 Driz_CR          1.4643 sec.\n"
     ]
    },
    {
     "name": "stdout",
     "output_type": "stream",
     "text": [
      "                Driz_CR          1.4643 sec.\n"
     ]
    },
    {
     "name": "stderr",
     "output_type": "stream",
     "text": [
      "2025-05-07 20:32:30,563 - stpipe - INFO -           Final Drizzle          5.8954 sec.\n"
     ]
    },
    {
     "name": "stdout",
     "output_type": "stream",
     "text": [
      "          Final Drizzle          5.8954 sec.\n"
     ]
    },
    {
     "name": "stderr",
     "output_type": "stream",
     "text": [
      "2025-05-07 20:32:30,565 - stpipe - INFO -    ====================          ====================\n"
     ]
    },
    {
     "name": "stdout",
     "output_type": "stream",
     "text": [
      "   ====================          ====================\n"
     ]
    },
    {
     "name": "stderr",
     "output_type": "stream",
     "text": [
      "2025-05-07 20:32:30,565 - stpipe - INFO -                   Total          15.7660 sec.\n"
     ]
    },
    {
     "name": "stdout",
     "output_type": "stream",
     "text": [
      "                  Total          15.7660 sec.\n"
     ]
    },
    {
     "name": "stderr",
     "output_type": "stream",
     "text": [
      "2025-05-07 20:32:30,566 - stpipe - INFO - \n"
     ]
    },
    {
     "name": "stdout",
     "output_type": "stream",
     "text": [
      "\n"
     ]
    },
    {
     "name": "stderr",
     "output_type": "stream",
     "text": [
      "2025-05-07 20:32:30,576 - stpipe - INFO - Trailer file written to:  astrodrizzle.log\n"
     ]
    },
    {
     "name": "stdout",
     "output_type": "stream",
     "text": [
      "Trailer file written to:  astrodrizzle.log\n"
     ]
    },
    {
     "name": "stderr",
     "output_type": "stream",
     "text": [
      "2025-05-07 20:32:30,597 - stpipe - INFO - Setting up logfile :  astrodrizzle.log\n"
     ]
    },
    {
     "name": "stdout",
     "output_type": "stream",
     "text": [
      "Setting up logfile :  astrodrizzle.log\n"
     ]
    },
    {
     "name": "stderr",
     "output_type": "stream",
     "text": [
      "2025-05-07 20:32:30,597 - stpipe - INFO - AstroDrizzle log file: astrodrizzle.log\n"
     ]
    },
    {
     "name": "stdout",
     "output_type": "stream",
     "text": [
      "AstroDrizzle log file: astrodrizzle.log\n"
     ]
    },
    {
     "name": "stderr",
     "output_type": "stream",
     "text": [
      "2025-05-07 20:32:30,598 - stpipe - INFO - AstroDrizzle Version 3.7.1rc1.dev56+g7951b66 started at: 20:32:30.598 (07/05/2025)\n"
     ]
    },
    {
     "name": "stdout",
     "output_type": "stream",
     "text": [
      "AstroDrizzle Version 3.7.1rc1.dev56+g7951b66 started at: 20:32:30.598 (07/05/2025)\n"
     ]
    },
    {
     "name": "stderr",
     "output_type": "stream",
     "text": [
      "2025-05-07 20:32:30,599 - stpipe - INFO - \n"
     ]
    },
    {
     "name": "stdout",
     "output_type": "stream",
     "text": [
      "\n"
     ]
    },
    {
     "name": "stderr",
     "output_type": "stream",
     "text": [
      "2025-05-07 20:32:30,600 - stpipe - INFO - Version Information\n",
      "2025-05-07 20:32:30,600 - stpipe - INFO - --------------------\n",
      "2025-05-07 20:32:30,601 - stpipe - INFO - Python Version 3.10.16 (main, Dec 11 2024, 10:24:41) [Clang 14.0.6 ]\n",
      "2025-05-07 20:32:30,601 - stpipe - INFO - numpy Version -> 2.2.1 \n",
      "2025-05-07 20:32:30,601 - stpipe - INFO - astropy Version -> 6.1.7 \n",
      "2025-05-07 20:32:30,602 - stpipe - INFO - stwcs Version -> 1.7.3 \n",
      "2025-05-07 20:32:30,602 - stpipe - INFO - photutils Version -> 2.0.2 \n",
      "2025-05-07 20:32:30,603 - stpipe - INFO - ==== Processing Step  Initialization  started at  20:32:30.603 (07/05/2025)\n"
     ]
    },
    {
     "name": "stdout",
     "output_type": "stream",
     "text": [
      "==== Processing Step  Initialization  started at  20:32:30.603 (07/05/2025)\n"
     ]
    },
    {
     "name": "stderr",
     "output_type": "stream",
     "text": [
      "2025-05-07 20:32:30,604 - stpipe - INFO - \n"
     ]
    },
    {
     "name": "stdout",
     "output_type": "stream",
     "text": [
      "\n"
     ]
    },
    {
     "name": "stderr",
     "output_type": "stream",
     "text": [
      "2025-05-07 20:32:30,605 - stpipe - INFO - Preserving original of:  /Users/avapolzin/Desktop/psf_testoutputs/acs/j8pu42ecq_flc_150d07m02.697s+2d08m40.507s_F475W_topsf.fits as  OrIg_files/j8pu42ecq_flc_150d07m02.697s+2d08m40.507s_F475W_topsf.fits\n"
     ]
    },
    {
     "name": "stdout",
     "output_type": "stream",
     "text": [
      "Preserving original of:  /Users/avapolzin/Desktop/psf_testoutputs/acs/j8pu42ecq_flc_150d07m02.697s+2d08m40.507s_F475W_topsf.fits as  OrIg_files/j8pu42ecq_flc_150d07m02.697s+2d08m40.507s_F475W_topsf.fits\n"
     ]
    },
    {
     "name": "stderr",
     "output_type": "stream",
     "text": [
      "2025-05-07 20:32:30,657 - stpipe - INFO - Preserving original of:  /Users/avapolzin/Desktop/psf_testoutputs/acs/j8pu42egq_flc_150d07m02.697s+2d08m40.507s_F475W_topsf.fits as  OrIg_files/j8pu42egq_flc_150d07m02.697s+2d08m40.507s_F475W_topsf.fits\n"
     ]
    },
    {
     "name": "stdout",
     "output_type": "stream",
     "text": [
      "Preserving original of:  /Users/avapolzin/Desktop/psf_testoutputs/acs/j8pu42egq_flc_150d07m02.697s+2d08m40.507s_F475W_topsf.fits as  OrIg_files/j8pu42egq_flc_150d07m02.697s+2d08m40.507s_F475W_topsf.fits\n"
     ]
    },
    {
     "name": "stderr",
     "output_type": "stream",
     "text": [
      "2025-05-07 20:32:30,730 - stpipe - INFO - Preserving original of:  /Users/avapolzin/Desktop/psf_testoutputs/acs/j8pu42esq_flc_150d07m02.697s+2d08m40.507s_F475W_topsf.fits as  OrIg_files/j8pu42esq_flc_150d07m02.697s+2d08m40.507s_F475W_topsf.fits\n"
     ]
    },
    {
     "name": "stdout",
     "output_type": "stream",
     "text": [
      "Preserving original of:  /Users/avapolzin/Desktop/psf_testoutputs/acs/j8pu42esq_flc_150d07m02.697s+2d08m40.507s_F475W_topsf.fits as  OrIg_files/j8pu42esq_flc_150d07m02.697s+2d08m40.507s_F475W_topsf.fits\n"
     ]
    },
    {
     "name": "stderr",
     "output_type": "stream",
     "text": [
      "2025-05-07 20:32:30,820 - stpipe - INFO - Preserving original of:  /Users/avapolzin/Desktop/psf_testoutputs/acs/j8pu42evq_flc_150d07m02.697s+2d08m40.507s_F475W_topsf.fits as  OrIg_files/j8pu42evq_flc_150d07m02.697s+2d08m40.507s_F475W_topsf.fits\n"
     ]
    },
    {
     "name": "stdout",
     "output_type": "stream",
     "text": [
      "Preserving original of:  /Users/avapolzin/Desktop/psf_testoutputs/acs/j8pu42evq_flc_150d07m02.697s+2d08m40.507s_F475W_topsf.fits as  OrIg_files/j8pu42evq_flc_150d07m02.697s+2d08m40.507s_F475W_topsf.fits\n"
     ]
    },
    {
     "name": "stderr",
     "output_type": "stream",
     "text": [
      "2025-05-07 20:32:30,903 - stpipe - INFO - Executing serially\n",
      "2025-05-07 20:32:30,951 - stpipe - INFO - Setting up output name: final_drz.fits\n",
      "2025-05-07 20:32:30,956 - stpipe - INFO - -Creating imageObject List as input for processing steps.\n",
      "2025-05-07 20:32:31,019 - stpipe - INFO - Reading in MDRIZSKY of 69.92457580566406\n",
      "2025-05-07 20:32:31,089 - stpipe - INFO - Reading in MDRIZSKY of 75.761962890625\n",
      "2025-05-07 20:32:31,158 - stpipe - INFO - Reading in MDRIZSKY of 68.4947509765625\n",
      "2025-05-07 20:32:31,228 - stpipe - INFO - Reading in MDRIZSKY of 68.80198669433594\n",
      "2025-05-07 20:32:31,261 - stpipe - INFO - Reset bit values of 4096 to a value of 0 in /Users/avapolzin/Desktop/psf_testoutputs/acs/j8pu42ecq_flc_150d07m02.697s+2d08m40.507s_F475W_topsf.fits[DQ,1]\n",
      "2025-05-07 20:32:31,283 - stpipe - INFO - Reset bit values of 4096 to a value of 0 in /Users/avapolzin/Desktop/psf_testoutputs/acs/j8pu42egq_flc_150d07m02.697s+2d08m40.507s_F475W_topsf.fits[DQ,1]\n",
      "2025-05-07 20:32:31,305 - stpipe - INFO - Reset bit values of 4096 to a value of 0 in /Users/avapolzin/Desktop/psf_testoutputs/acs/j8pu42esq_flc_150d07m02.697s+2d08m40.507s_F475W_topsf.fits[DQ,1]\n",
      "2025-05-07 20:32:31,327 - stpipe - INFO - Reset bit values of 4096 to a value of 0 in /Users/avapolzin/Desktop/psf_testoutputs/acs/j8pu42evq_flc_150d07m02.697s+2d08m40.507s_F475W_topsf.fits[DQ,1]\n",
      "2025-05-07 20:32:31,340 - stpipe - INFO - -Creating output WCS.\n",
      "2025-05-07 20:32:31,343 - stpipe - INFO - WCS Keywords\n"
     ]
    },
    {
     "name": "stdout",
     "output_type": "stream",
     "text": [
      "WCS Keywords\n"
     ]
    },
    {
     "name": "stderr",
     "output_type": "stream",
     "text": [
      "2025-05-07 20:32:31,343 - stpipe - INFO - \n"
     ]
    },
    {
     "name": "stdout",
     "output_type": "stream",
     "text": [
      "\n"
     ]
    },
    {
     "name": "stderr",
     "output_type": "stream",
     "text": [
      "2025-05-07 20:32:31,344 - stpipe - INFO - Number of WCS axes: 2\n"
     ]
    },
    {
     "name": "stdout",
     "output_type": "stream",
     "text": [
      "Number of WCS axes: 2\n"
     ]
    },
    {
     "name": "stderr",
     "output_type": "stream",
     "text": [
      "2025-05-07 20:32:31,345 - stpipe - INFO - CTYPE : 'RA---TAN' 'DEC--TAN' \n"
     ]
    },
    {
     "name": "stdout",
     "output_type": "stream",
     "text": [
      "CTYPE : 'RA---TAN' 'DEC--TAN' \n"
     ]
    },
    {
     "name": "stderr",
     "output_type": "stream",
     "text": [
      "2025-05-07 20:32:31,345 - stpipe - INFO - CRVAL : np.float64(150.1242636198465) np.float64(2.151761555110333) \n"
     ]
    },
    {
     "name": "stdout",
     "output_type": "stream",
     "text": [
      "CRVAL : np.float64(150.1242636198465) np.float64(2.151761555110333) \n"
     ]
    },
    {
     "name": "stderr",
     "output_type": "stream",
     "text": [
      "2025-05-07 20:32:31,346 - stpipe - INFO - CRPIX : np.float64(2081.0) np.float64(1179.5) \n"
     ]
    },
    {
     "name": "stdout",
     "output_type": "stream",
     "text": [
      "CRPIX : np.float64(2081.0) np.float64(1179.5) \n"
     ]
    },
    {
     "name": "stderr",
     "output_type": "stream",
     "text": [
      "2025-05-07 20:32:31,347 - stpipe - INFO - CD1_1 CD1_2  : np.float64(-2.4118726301966414e-06) np.float64(-1.3677869168244357e-05) \n"
     ]
    },
    {
     "name": "stdout",
     "output_type": "stream",
     "text": [
      "CD1_1 CD1_2  : np.float64(-2.4118726301966414e-06) np.float64(-1.3677869168244357e-05) \n"
     ]
    },
    {
     "name": "stderr",
     "output_type": "stream",
     "text": [
      "2025-05-07 20:32:31,348 - stpipe - INFO - CD2_1 CD2_2  : np.float64(-1.3677869168244357e-05) np.float64(2.4118726301966414e-06) \n"
     ]
    },
    {
     "name": "stdout",
     "output_type": "stream",
     "text": [
      "CD2_1 CD2_2  : np.float64(-1.3677869168244357e-05) np.float64(2.4118726301966414e-06) \n"
     ]
    },
    {
     "name": "stderr",
     "output_type": "stream",
     "text": [
      "2025-05-07 20:32:31,349 - stpipe - INFO - NAXIS : 4162  2359\n"
     ]
    },
    {
     "name": "stdout",
     "output_type": "stream",
     "text": [
      "NAXIS : 4162  2359\n"
     ]
    },
    {
     "name": "stderr",
     "output_type": "stream",
     "text": [
      "2025-05-07 20:32:31,349 - stpipe - INFO - ********************************************************************************\n"
     ]
    },
    {
     "name": "stdout",
     "output_type": "stream",
     "text": [
      "********************************************************************************\n"
     ]
    },
    {
     "name": "stderr",
     "output_type": "stream",
     "text": [
      "2025-05-07 20:32:31,351 - stpipe - INFO - *\n"
     ]
    },
    {
     "name": "stdout",
     "output_type": "stream",
     "text": [
      "*\n"
     ]
    },
    {
     "name": "stderr",
     "output_type": "stream",
     "text": [
      "2025-05-07 20:32:31,351 - stpipe - INFO - *  Estimated memory usage:  up to 705 Mb.\n"
     ]
    },
    {
     "name": "stdout",
     "output_type": "stream",
     "text": [
      "*  Estimated memory usage:  up to 705 Mb.\n"
     ]
    },
    {
     "name": "stderr",
     "output_type": "stream",
     "text": [
      "2025-05-07 20:32:31,352 - stpipe - INFO - *  Output image size:       4162 X 2359 pixels. \n"
     ]
    },
    {
     "name": "stdout",
     "output_type": "stream",
     "text": [
      "*  Output image size:       4162 X 2359 pixels. \n"
     ]
    },
    {
     "name": "stderr",
     "output_type": "stream",
     "text": [
      "2025-05-07 20:32:31,353 - stpipe - INFO - *  Output image file:       ~ 112 Mb. \n"
     ]
    },
    {
     "name": "stdout",
     "output_type": "stream",
     "text": [
      "*  Output image file:       ~ 112 Mb. \n"
     ]
    },
    {
     "name": "stderr",
     "output_type": "stream",
     "text": [
      "2025-05-07 20:32:31,353 - stpipe - INFO - *  Cores available:         4\n"
     ]
    },
    {
     "name": "stdout",
     "output_type": "stream",
     "text": [
      "*  Cores available:         4\n"
     ]
    },
    {
     "name": "stderr",
     "output_type": "stream",
     "text": [
      "2025-05-07 20:32:31,354 - stpipe - INFO - *\n"
     ]
    },
    {
     "name": "stdout",
     "output_type": "stream",
     "text": [
      "*\n"
     ]
    },
    {
     "name": "stderr",
     "output_type": "stream",
     "text": [
      "2025-05-07 20:32:31,355 - stpipe - INFO - ********************************************************************************\n"
     ]
    },
    {
     "name": "stdout",
     "output_type": "stream",
     "text": [
      "********************************************************************************\n"
     ]
    },
    {
     "name": "stderr",
     "output_type": "stream",
     "text": [
      "2025-05-07 20:32:31,356 - stpipe - INFO - ==== Processing Step Initialization finished at 20:32:31.35 (07/05/2025)\n"
     ]
    },
    {
     "name": "stdout",
     "output_type": "stream",
     "text": [
      "==== Processing Step Initialization finished at 20:32:31.35 (07/05/2025)\n"
     ]
    },
    {
     "name": "stderr",
     "output_type": "stream",
     "text": [
      "2025-05-07 20:32:31,357 - stpipe - INFO - USER INPUT PARAMETERS common to all Processing Steps:\n",
      "2025-05-07 20:32:31,358 - stpipe - INFO - \tbuild :\tTrue\n",
      "2025-05-07 20:32:31,358 - stpipe - INFO - \tcoeffs :\tTrue\n",
      "2025-05-07 20:32:31,359 - stpipe - INFO - \tcontext :\tTrue\n",
      "2025-05-07 20:32:31,359 - stpipe - INFO - \tcrbit :\t4096\n",
      "2025-05-07 20:32:31,360 - stpipe - INFO - \tgroup :\t\n",
      "2025-05-07 20:32:31,360 - stpipe - INFO - \tin_memory :\tFalse\n",
      "2025-05-07 20:32:31,360 - stpipe - INFO - \tinput :\t['/Users/avapolzin/Desktop/psf_testoutputs/acs/j8pu42ecq_flc_150d07m02.697s+2d08m40.507s_F475W_topsf.fits', '/Users/avapolzin/Desktop/psf_testoutputs/acs/j8pu42egq_flc_150d07m02.697s+2d08m40.507s_F475W_topsf.fits', '/Users/avapolzin/Desktop/psf_testoutputs/acs/j8pu42esq_flc_150d07m02.697s+2d08m40.507s_F475W_topsf.fits', '/Users/avapolzin/Desktop/psf_testoutputs/acs/j8pu42evq_flc_150d07m02.697s+2d08m40.507s_F475W_topsf.fits']\n",
      "2025-05-07 20:32:31,361 - stpipe - INFO - \tmdriztab :\tFalse\n",
      "2025-05-07 20:32:31,361 - stpipe - INFO - \tnum_cores :\tNone\n",
      "2025-05-07 20:32:31,362 - stpipe - INFO - \toutput :\t\n",
      "2025-05-07 20:32:31,362 - stpipe - INFO - \tproc_unit :\tnative\n",
      "2025-05-07 20:32:31,363 - stpipe - INFO - \tresetbits :\t4096\n",
      "2025-05-07 20:32:31,363 - stpipe - INFO - \trules_file :\t\n",
      "2025-05-07 20:32:31,363 - stpipe - INFO - \trunfile :\tastrodrizzle.log\n",
      "2025-05-07 20:32:31,364 - stpipe - INFO - \tstepsize :\t10\n",
      "2025-05-07 20:32:31,364 - stpipe - INFO - \tupdatewcs :\tFalse\n",
      "2025-05-07 20:32:31,365 - stpipe - INFO - \twcskey :\t\n",
      "2025-05-07 20:32:31,366 - stpipe - INFO - ==== Processing Step  Static Mask  started at  20:32:31.365 (07/05/2025)\n"
     ]
    },
    {
     "name": "stdout",
     "output_type": "stream",
     "text": [
      "==== Processing Step  Static Mask  started at  20:32:31.365 (07/05/2025)\n"
     ]
    },
    {
     "name": "stderr",
     "output_type": "stream",
     "text": [
      "2025-05-07 20:32:31,367 - stpipe - INFO - \n"
     ]
    },
    {
     "name": "stdout",
     "output_type": "stream",
     "text": [
      "\n"
     ]
    },
    {
     "name": "stderr",
     "output_type": "stream",
     "text": [
      "2025-05-07 20:32:31,368 - stpipe - INFO - Static Mask step not performed.\n",
      "2025-05-07 20:32:31,368 - stpipe - INFO - ==== Processing Step Static Mask finished at 20:32:31.36 (07/05/2025)\n"
     ]
    },
    {
     "name": "stdout",
     "output_type": "stream",
     "text": [
      "==== Processing Step Static Mask finished at 20:32:31.36 (07/05/2025)\n"
     ]
    },
    {
     "name": "stderr",
     "output_type": "stream",
     "text": [
      "2025-05-07 20:32:31,369 - stpipe - INFO - ==== Processing Step  Subtract Sky  started at  20:32:31.369 (07/05/2025)\n"
     ]
    },
    {
     "name": "stdout",
     "output_type": "stream",
     "text": [
      "==== Processing Step  Subtract Sky  started at  20:32:31.369 (07/05/2025)\n"
     ]
    },
    {
     "name": "stderr",
     "output_type": "stream",
     "text": [
      "2025-05-07 20:32:31,370 - stpipe - INFO - \n"
     ]
    },
    {
     "name": "stdout",
     "output_type": "stream",
     "text": [
      "\n"
     ]
    },
    {
     "name": "stderr",
     "output_type": "stream",
     "text": [
      "2025-05-07 20:32:31,371 - stpipe - INFO - USER INPUT PARAMETERS for Sky Subtraction Step:\n",
      "2025-05-07 20:32:31,372 - stpipe - INFO - \tsky_bits :\t0\n",
      "2025-05-07 20:32:31,372 - stpipe - INFO - \tskyclip :\t5\n",
      "2025-05-07 20:32:31,373 - stpipe - INFO - \tskyfile :\t\n",
      "2025-05-07 20:32:31,373 - stpipe - INFO - \tskylower :\tNone\n",
      "2025-05-07 20:32:31,374 - stpipe - INFO - \tskylsigma :\t4.0\n",
      "2025-05-07 20:32:31,374 - stpipe - INFO - \tskymask_cat :\t\n",
      "2025-05-07 20:32:31,374 - stpipe - INFO - \tskymethod :\tlocalmin\n",
      "2025-05-07 20:32:31,375 - stpipe - INFO - \tskystat :\tmedian\n",
      "2025-05-07 20:32:31,375 - stpipe - INFO - \tskysub :\tTrue\n",
      "2025-05-07 20:32:31,376 - stpipe - INFO - \tskyupper :\tNone\n",
      "2025-05-07 20:32:31,376 - stpipe - INFO - \tskyuser :\t\n",
      "2025-05-07 20:32:31,377 - stpipe - INFO - \tskyusigma :\t4.0\n",
      "2025-05-07 20:32:31,377 - stpipe - INFO - \tskywidth :\t0.1\n",
      "2025-05-07 20:32:31,377 - stpipe - INFO - \tuse_static :\tTrue\n",
      "2025-05-07 20:32:31,390 - stpipe - WARNING - Static mask for file '/Users/avapolzin/Desktop/psf_testoutputs/acs/j8pu42ecq_flc_150d07m02.697s+2d08m40.507s_F475W_topsf.fits', ext=('SCI', 1) NOT FOUND.\n",
      "2025-05-07 20:32:31,410 - stpipe - WARNING - Static mask for file '/Users/avapolzin/Desktop/psf_testoutputs/acs/j8pu42egq_flc_150d07m02.697s+2d08m40.507s_F475W_topsf.fits', ext=('SCI', 1) NOT FOUND.\n",
      "2025-05-07 20:32:31,436 - stpipe - WARNING - Static mask for file '/Users/avapolzin/Desktop/psf_testoutputs/acs/j8pu42esq_flc_150d07m02.697s+2d08m40.507s_F475W_topsf.fits', ext=('SCI', 1) NOT FOUND.\n",
      "2025-05-07 20:32:31,461 - stpipe - WARNING - Static mask for file '/Users/avapolzin/Desktop/psf_testoutputs/acs/j8pu42evq_flc_150d07m02.697s+2d08m40.507s_F475W_topsf.fits', ext=('SCI', 1) NOT FOUND.\n",
      "2025-05-07 20:32:31,470 - stpipe - INFO - ***** skymatch started on 2025-05-07 20:32:31.470183\n"
     ]
    },
    {
     "name": "stdout",
     "output_type": "stream",
     "text": [
      "***** skymatch started on 2025-05-07 20:32:31.470183\n"
     ]
    },
    {
     "name": "stderr",
     "output_type": "stream",
     "text": [
      "2025-05-07 20:32:31,471 - stpipe - INFO -       Version 1.0.10\n"
     ]
    },
    {
     "name": "stdout",
     "output_type": "stream",
     "text": [
      "      Version 1.0.10\n"
     ]
    },
    {
     "name": "stderr",
     "output_type": "stream",
     "text": [
      "2025-05-07 20:32:31,471 - stpipe - INFO - \n"
     ]
    },
    {
     "name": "stdout",
     "output_type": "stream",
     "text": [
      "\n"
     ]
    },
    {
     "name": "stderr",
     "output_type": "stream",
     "text": [
      "2025-05-07 20:32:31,472 - stpipe - INFO - 'skymatch' task will apply computed sky differences to input image file(s).\n"
     ]
    },
    {
     "name": "stdout",
     "output_type": "stream",
     "text": [
      "'skymatch' task will apply computed sky differences to input image file(s).\n"
     ]
    },
    {
     "name": "stderr",
     "output_type": "stream",
     "text": [
      "2025-05-07 20:32:31,473 - stpipe - INFO - \n"
     ]
    },
    {
     "name": "stdout",
     "output_type": "stream",
     "text": [
      "\n"
     ]
    },
    {
     "name": "stderr",
     "output_type": "stream",
     "text": [
      "2025-05-07 20:32:31,474 - stpipe - INFO - NOTE: Computed sky values WILL NOT be subtracted from image data ('subtractsky'=False).\n"
     ]
    },
    {
     "name": "stdout",
     "output_type": "stream",
     "text": [
      "NOTE: Computed sky values WILL NOT be subtracted from image data ('subtractsky'=False).\n"
     ]
    },
    {
     "name": "stderr",
     "output_type": "stream",
     "text": [
      "2025-05-07 20:32:31,475 - stpipe - INFO - 'MDRIZSKY' header keyword will represent sky value *computed* from data.\n"
     ]
    },
    {
     "name": "stdout",
     "output_type": "stream",
     "text": [
      "'MDRIZSKY' header keyword will represent sky value *computed* from data.\n"
     ]
    },
    {
     "name": "stderr",
     "output_type": "stream",
     "text": [
      "2025-05-07 20:32:31,476 - stpipe - INFO - \n"
     ]
    },
    {
     "name": "stdout",
     "output_type": "stream",
     "text": [
      "\n"
     ]
    },
    {
     "name": "stderr",
     "output_type": "stream",
     "text": [
      "2025-05-07 20:32:31,476 - stpipe - INFO - -----  User specified keywords:  -----\n"
     ]
    },
    {
     "name": "stdout",
     "output_type": "stream",
     "text": [
      "-----  User specified keywords:  -----\n"
     ]
    },
    {
     "name": "stderr",
     "output_type": "stream",
     "text": [
      "2025-05-07 20:32:31,477 - stpipe - INFO -        Sky Value Keyword:  'MDRIZSKY'\n"
     ]
    },
    {
     "name": "stdout",
     "output_type": "stream",
     "text": [
      "       Sky Value Keyword:  'MDRIZSKY'\n"
     ]
    },
    {
     "name": "stderr",
     "output_type": "stream",
     "text": [
      "2025-05-07 20:32:31,479 - stpipe - INFO -        Data Units Keyword: 'BUNIT'\n"
     ]
    },
    {
     "name": "stdout",
     "output_type": "stream",
     "text": [
      "       Data Units Keyword: 'BUNIT'\n"
     ]
    },
    {
     "name": "stderr",
     "output_type": "stream",
     "text": [
      "2025-05-07 20:32:31,479 - stpipe - INFO - \n"
     ]
    },
    {
     "name": "stdout",
     "output_type": "stream",
     "text": [
      "\n"
     ]
    },
    {
     "name": "stderr",
     "output_type": "stream",
     "text": [
      "2025-05-07 20:32:31,481 - stpipe - INFO - \n"
     ]
    },
    {
     "name": "stdout",
     "output_type": "stream",
     "text": [
      "\n"
     ]
    },
    {
     "name": "stderr",
     "output_type": "stream",
     "text": [
      "2025-05-07 20:32:31,482 - stpipe - INFO - -----  Input file list:  -----\n"
     ]
    },
    {
     "name": "stdout",
     "output_type": "stream",
     "text": [
      "-----  Input file list:  -----\n"
     ]
    },
    {
     "name": "stderr",
     "output_type": "stream",
     "text": [
      "2025-05-07 20:32:31,483 - stpipe - INFO - \n"
     ]
    },
    {
     "name": "stdout",
     "output_type": "stream",
     "text": [
      "\n"
     ]
    },
    {
     "name": "stderr",
     "output_type": "stream",
     "text": [
      "2025-05-07 20:32:31,484 - stpipe - INFO -    **  Input image: 'j8pu42ecq_flc_150d07m02.697s+2d08m40.507s_F475W_topsf.fits'\n"
     ]
    },
    {
     "name": "stdout",
     "output_type": "stream",
     "text": [
      "   **  Input image: 'j8pu42ecq_flc_150d07m02.697s+2d08m40.507s_F475W_topsf.fits'\n"
     ]
    },
    {
     "name": "stderr",
     "output_type": "stream",
     "text": [
      "2025-05-07 20:32:31,485 - stpipe - INFO -        EXT: 'SCI',1;\tMASK: j8pu42ecq_flc_150d07m02.697s+2d08m40.507s_F475W_skymatch_mask_sci1.fits[0]\n"
     ]
    },
    {
     "name": "stdout",
     "output_type": "stream",
     "text": [
      "       EXT: 'SCI',1;\tMASK: j8pu42ecq_flc_150d07m02.697s+2d08m40.507s_F475W_skymatch_mask_sci1.fits[0]\n"
     ]
    },
    {
     "name": "stderr",
     "output_type": "stream",
     "text": [
      "2025-05-07 20:32:31,486 - stpipe - INFO - \n"
     ]
    },
    {
     "name": "stdout",
     "output_type": "stream",
     "text": [
      "\n"
     ]
    },
    {
     "name": "stderr",
     "output_type": "stream",
     "text": [
      "2025-05-07 20:32:31,487 - stpipe - INFO -    **  Input image: 'j8pu42egq_flc_150d07m02.697s+2d08m40.507s_F475W_topsf.fits'\n"
     ]
    },
    {
     "name": "stdout",
     "output_type": "stream",
     "text": [
      "   **  Input image: 'j8pu42egq_flc_150d07m02.697s+2d08m40.507s_F475W_topsf.fits'\n"
     ]
    },
    {
     "name": "stderr",
     "output_type": "stream",
     "text": [
      "2025-05-07 20:32:31,488 - stpipe - INFO -        EXT: 'SCI',1;\tMASK: j8pu42egq_flc_150d07m02.697s+2d08m40.507s_F475W_skymatch_mask_sci1.fits[0]\n"
     ]
    },
    {
     "name": "stdout",
     "output_type": "stream",
     "text": [
      "       EXT: 'SCI',1;\tMASK: j8pu42egq_flc_150d07m02.697s+2d08m40.507s_F475W_skymatch_mask_sci1.fits[0]\n"
     ]
    },
    {
     "name": "stderr",
     "output_type": "stream",
     "text": [
      "2025-05-07 20:32:31,489 - stpipe - INFO - \n"
     ]
    },
    {
     "name": "stdout",
     "output_type": "stream",
     "text": [
      "\n"
     ]
    },
    {
     "name": "stderr",
     "output_type": "stream",
     "text": [
      "2025-05-07 20:32:31,490 - stpipe - INFO -    **  Input image: 'j8pu42esq_flc_150d07m02.697s+2d08m40.507s_F475W_topsf.fits'\n"
     ]
    },
    {
     "name": "stdout",
     "output_type": "stream",
     "text": [
      "   **  Input image: 'j8pu42esq_flc_150d07m02.697s+2d08m40.507s_F475W_topsf.fits'\n"
     ]
    },
    {
     "name": "stderr",
     "output_type": "stream",
     "text": [
      "2025-05-07 20:32:31,491 - stpipe - INFO -        EXT: 'SCI',1;\tMASK: j8pu42esq_flc_150d07m02.697s+2d08m40.507s_F475W_skymatch_mask_sci1.fits[0]\n"
     ]
    },
    {
     "name": "stdout",
     "output_type": "stream",
     "text": [
      "       EXT: 'SCI',1;\tMASK: j8pu42esq_flc_150d07m02.697s+2d08m40.507s_F475W_skymatch_mask_sci1.fits[0]\n"
     ]
    },
    {
     "name": "stderr",
     "output_type": "stream",
     "text": [
      "2025-05-07 20:32:31,491 - stpipe - INFO - \n"
     ]
    },
    {
     "name": "stdout",
     "output_type": "stream",
     "text": [
      "\n"
     ]
    },
    {
     "name": "stderr",
     "output_type": "stream",
     "text": [
      "2025-05-07 20:32:31,492 - stpipe - INFO -    **  Input image: 'j8pu42evq_flc_150d07m02.697s+2d08m40.507s_F475W_topsf.fits'\n"
     ]
    },
    {
     "name": "stdout",
     "output_type": "stream",
     "text": [
      "   **  Input image: 'j8pu42evq_flc_150d07m02.697s+2d08m40.507s_F475W_topsf.fits'\n"
     ]
    },
    {
     "name": "stderr",
     "output_type": "stream",
     "text": [
      "2025-05-07 20:32:31,493 - stpipe - INFO -        EXT: 'SCI',1;\tMASK: j8pu42evq_flc_150d07m02.697s+2d08m40.507s_F475W_skymatch_mask_sci1.fits[0]\n"
     ]
    },
    {
     "name": "stdout",
     "output_type": "stream",
     "text": [
      "       EXT: 'SCI',1;\tMASK: j8pu42evq_flc_150d07m02.697s+2d08m40.507s_F475W_skymatch_mask_sci1.fits[0]\n"
     ]
    },
    {
     "name": "stderr",
     "output_type": "stream",
     "text": [
      "2025-05-07 20:32:31,493 - stpipe - INFO - \n"
     ]
    },
    {
     "name": "stdout",
     "output_type": "stream",
     "text": [
      "\n"
     ]
    },
    {
     "name": "stderr",
     "output_type": "stream",
     "text": [
      "2025-05-07 20:32:31,494 - stpipe - INFO - -----  Sky statistics parameters:  -----\n"
     ]
    },
    {
     "name": "stdout",
     "output_type": "stream",
     "text": [
      "-----  Sky statistics parameters:  -----\n"
     ]
    },
    {
     "name": "stderr",
     "output_type": "stream",
     "text": [
      "2025-05-07 20:32:31,495 - stpipe - INFO -        statistics function: 'median'\n"
     ]
    },
    {
     "name": "stdout",
     "output_type": "stream",
     "text": [
      "       statistics function: 'median'\n"
     ]
    },
    {
     "name": "stderr",
     "output_type": "stream",
     "text": [
      "2025-05-07 20:32:31,496 - stpipe - INFO -        lower = None\n"
     ]
    },
    {
     "name": "stdout",
     "output_type": "stream",
     "text": [
      "       lower = None\n"
     ]
    },
    {
     "name": "stderr",
     "output_type": "stream",
     "text": [
      "2025-05-07 20:32:31,497 - stpipe - INFO -        upper = None\n"
     ]
    },
    {
     "name": "stdout",
     "output_type": "stream",
     "text": [
      "       upper = None\n"
     ]
    },
    {
     "name": "stderr",
     "output_type": "stream",
     "text": [
      "2025-05-07 20:32:31,498 - stpipe - INFO -        nclip = 5\n"
     ]
    },
    {
     "name": "stdout",
     "output_type": "stream",
     "text": [
      "       nclip = 5\n"
     ]
    },
    {
     "name": "stderr",
     "output_type": "stream",
     "text": [
      "2025-05-07 20:32:31,499 - stpipe - INFO -        lsigma = 4.0\n"
     ]
    },
    {
     "name": "stdout",
     "output_type": "stream",
     "text": [
      "       lsigma = 4.0\n"
     ]
    },
    {
     "name": "stderr",
     "output_type": "stream",
     "text": [
      "2025-05-07 20:32:31,500 - stpipe - INFO -        usigma = 4.0\n"
     ]
    },
    {
     "name": "stdout",
     "output_type": "stream",
     "text": [
      "       usigma = 4.0\n"
     ]
    },
    {
     "name": "stderr",
     "output_type": "stream",
     "text": [
      "2025-05-07 20:32:31,501 - stpipe - INFO -        binwidth = 0.1\n"
     ]
    },
    {
     "name": "stdout",
     "output_type": "stream",
     "text": [
      "       binwidth = 0.1\n"
     ]
    },
    {
     "name": "stderr",
     "output_type": "stream",
     "text": [
      "2025-05-07 20:32:31,502 - stpipe - INFO - \n"
     ]
    },
    {
     "name": "stdout",
     "output_type": "stream",
     "text": [
      "\n"
     ]
    },
    {
     "name": "stderr",
     "output_type": "stream",
     "text": [
      "2025-05-07 20:32:31,503 - stpipe - INFO - -----  Data->Brightness conversion parameters for input files:  -----\n"
     ]
    },
    {
     "name": "stdout",
     "output_type": "stream",
     "text": [
      "-----  Data->Brightness conversion parameters for input files:  -----\n"
     ]
    },
    {
     "name": "stderr",
     "output_type": "stream",
     "text": [
      "2025-05-07 20:32:31,504 - stpipe - INFO - \n"
     ]
    },
    {
     "name": "stdout",
     "output_type": "stream",
     "text": [
      "\n"
     ]
    },
    {
     "name": "stderr",
     "output_type": "stream",
     "text": [
      "2025-05-07 20:32:31,504 - stpipe - INFO -    *   Image: j8pu42ecq_flc_150d07m02.697s+2d08m40.507s_F475W_topsf.fits\n"
     ]
    },
    {
     "name": "stdout",
     "output_type": "stream",
     "text": [
      "   *   Image: j8pu42ecq_flc_150d07m02.697s+2d08m40.507s_F475W_topsf.fits\n"
     ]
    },
    {
     "name": "stderr",
     "output_type": "stream",
     "text": [
      "2025-05-07 20:32:31,522 - stpipe - INFO -        EXT = 'SCI',1\n"
     ]
    },
    {
     "name": "stdout",
     "output_type": "stream",
     "text": [
      "       EXT = 'SCI',1\n"
     ]
    },
    {
     "name": "stderr",
     "output_type": "stream",
     "text": [
      "2025-05-07 20:32:31,523 - stpipe - INFO -              Data units type: COUNTS\n"
     ]
    },
    {
     "name": "stdout",
     "output_type": "stream",
     "text": [
      "             Data units type: COUNTS\n"
     ]
    },
    {
     "name": "stderr",
     "output_type": "stream",
     "text": [
      "2025-05-07 20:32:31,524 - stpipe - INFO -              EXPTIME: 507.0 [s]\n"
     ]
    },
    {
     "name": "stdout",
     "output_type": "stream",
     "text": [
      "             EXPTIME: 507.0 [s]\n"
     ]
    },
    {
     "name": "stderr",
     "output_type": "stream",
     "text": [
      "2025-05-07 20:32:31,524 - stpipe - INFO -              Conversion factor (data->brightness):  0.7889546351084812\n"
     ]
    },
    {
     "name": "stdout",
     "output_type": "stream",
     "text": [
      "             Conversion factor (data->brightness):  0.7889546351084812\n"
     ]
    },
    {
     "name": "stderr",
     "output_type": "stream",
     "text": [
      "2025-05-07 20:32:31,525 - stpipe - INFO - \n"
     ]
    },
    {
     "name": "stdout",
     "output_type": "stream",
     "text": [
      "\n"
     ]
    },
    {
     "name": "stderr",
     "output_type": "stream",
     "text": [
      "2025-05-07 20:32:31,526 - stpipe - INFO -    *   Image: j8pu42egq_flc_150d07m02.697s+2d08m40.507s_F475W_topsf.fits\n"
     ]
    },
    {
     "name": "stdout",
     "output_type": "stream",
     "text": [
      "   *   Image: j8pu42egq_flc_150d07m02.697s+2d08m40.507s_F475W_topsf.fits\n"
     ]
    },
    {
     "name": "stderr",
     "output_type": "stream",
     "text": [
      "2025-05-07 20:32:31,542 - stpipe - INFO -        EXT = 'SCI',1\n"
     ]
    },
    {
     "name": "stdout",
     "output_type": "stream",
     "text": [
      "       EXT = 'SCI',1\n"
     ]
    },
    {
     "name": "stderr",
     "output_type": "stream",
     "text": [
      "2025-05-07 20:32:31,543 - stpipe - INFO -              Data units type: COUNTS\n"
     ]
    },
    {
     "name": "stdout",
     "output_type": "stream",
     "text": [
      "             Data units type: COUNTS\n"
     ]
    },
    {
     "name": "stderr",
     "output_type": "stream",
     "text": [
      "2025-05-07 20:32:31,544 - stpipe - INFO -              EXPTIME: 507.0 [s]\n"
     ]
    },
    {
     "name": "stdout",
     "output_type": "stream",
     "text": [
      "             EXPTIME: 507.0 [s]\n"
     ]
    },
    {
     "name": "stderr",
     "output_type": "stream",
     "text": [
      "2025-05-07 20:32:31,545 - stpipe - INFO -              Conversion factor (data->brightness):  0.7889546351084812\n"
     ]
    },
    {
     "name": "stdout",
     "output_type": "stream",
     "text": [
      "             Conversion factor (data->brightness):  0.7889546351084812\n"
     ]
    },
    {
     "name": "stderr",
     "output_type": "stream",
     "text": [
      "2025-05-07 20:32:31,545 - stpipe - INFO - \n"
     ]
    },
    {
     "name": "stdout",
     "output_type": "stream",
     "text": [
      "\n"
     ]
    },
    {
     "name": "stderr",
     "output_type": "stream",
     "text": [
      "2025-05-07 20:32:31,546 - stpipe - INFO -    *   Image: j8pu42esq_flc_150d07m02.697s+2d08m40.507s_F475W_topsf.fits\n"
     ]
    },
    {
     "name": "stdout",
     "output_type": "stream",
     "text": [
      "   *   Image: j8pu42esq_flc_150d07m02.697s+2d08m40.507s_F475W_topsf.fits\n"
     ]
    },
    {
     "name": "stderr",
     "output_type": "stream",
     "text": [
      "2025-05-07 20:32:31,565 - stpipe - INFO -        EXT = 'SCI',1\n"
     ]
    },
    {
     "name": "stdout",
     "output_type": "stream",
     "text": [
      "       EXT = 'SCI',1\n"
     ]
    },
    {
     "name": "stderr",
     "output_type": "stream",
     "text": [
      "2025-05-07 20:32:31,567 - stpipe - INFO -              Data units type: COUNTS\n"
     ]
    },
    {
     "name": "stdout",
     "output_type": "stream",
     "text": [
      "             Data units type: COUNTS\n"
     ]
    },
    {
     "name": "stderr",
     "output_type": "stream",
     "text": [
      "2025-05-07 20:32:31,568 - stpipe - INFO -              EXPTIME: 507.0 [s]\n"
     ]
    },
    {
     "name": "stdout",
     "output_type": "stream",
     "text": [
      "             EXPTIME: 507.0 [s]\n"
     ]
    },
    {
     "name": "stderr",
     "output_type": "stream",
     "text": [
      "2025-05-07 20:32:31,569 - stpipe - INFO -              Conversion factor (data->brightness):  0.7889546351084812\n"
     ]
    },
    {
     "name": "stdout",
     "output_type": "stream",
     "text": [
      "             Conversion factor (data->brightness):  0.7889546351084812\n"
     ]
    },
    {
     "name": "stderr",
     "output_type": "stream",
     "text": [
      "2025-05-07 20:32:31,570 - stpipe - INFO - \n"
     ]
    },
    {
     "name": "stdout",
     "output_type": "stream",
     "text": [
      "\n"
     ]
    },
    {
     "name": "stderr",
     "output_type": "stream",
     "text": [
      "2025-05-07 20:32:31,571 - stpipe - INFO -    *   Image: j8pu42evq_flc_150d07m02.697s+2d08m40.507s_F475W_topsf.fits\n"
     ]
    },
    {
     "name": "stdout",
     "output_type": "stream",
     "text": [
      "   *   Image: j8pu42evq_flc_150d07m02.697s+2d08m40.507s_F475W_topsf.fits\n"
     ]
    },
    {
     "name": "stderr",
     "output_type": "stream",
     "text": [
      "2025-05-07 20:32:31,588 - stpipe - INFO -        EXT = 'SCI',1\n"
     ]
    },
    {
     "name": "stdout",
     "output_type": "stream",
     "text": [
      "       EXT = 'SCI',1\n"
     ]
    },
    {
     "name": "stderr",
     "output_type": "stream",
     "text": [
      "2025-05-07 20:32:31,589 - stpipe - INFO -              Data units type: COUNTS\n"
     ]
    },
    {
     "name": "stdout",
     "output_type": "stream",
     "text": [
      "             Data units type: COUNTS\n"
     ]
    },
    {
     "name": "stderr",
     "output_type": "stream",
     "text": [
      "2025-05-07 20:32:31,590 - stpipe - INFO -              EXPTIME: 507.0 [s]\n"
     ]
    },
    {
     "name": "stdout",
     "output_type": "stream",
     "text": [
      "             EXPTIME: 507.0 [s]\n"
     ]
    },
    {
     "name": "stderr",
     "output_type": "stream",
     "text": [
      "2025-05-07 20:32:31,591 - stpipe - INFO -              Conversion factor (data->brightness):  0.7889546351084812\n"
     ]
    },
    {
     "name": "stdout",
     "output_type": "stream",
     "text": [
      "             Conversion factor (data->brightness):  0.7889546351084812\n"
     ]
    },
    {
     "name": "stderr",
     "output_type": "stream",
     "text": [
      "2025-05-07 20:32:31,592 - stpipe - INFO - \n"
     ]
    },
    {
     "name": "stdout",
     "output_type": "stream",
     "text": [
      "\n"
     ]
    },
    {
     "name": "stderr",
     "output_type": "stream",
     "text": [
      "2025-05-07 20:32:31,593 - stpipe - INFO - \n"
     ]
    },
    {
     "name": "stdout",
     "output_type": "stream",
     "text": [
      "\n"
     ]
    },
    {
     "name": "stderr",
     "output_type": "stream",
     "text": [
      "2025-05-07 20:32:31,594 - stpipe - INFO - -----  Computing sky values requested image extensions (detector chips):  -----\n"
     ]
    },
    {
     "name": "stdout",
     "output_type": "stream",
     "text": [
      "-----  Computing sky values requested image extensions (detector chips):  -----\n"
     ]
    },
    {
     "name": "stderr",
     "output_type": "stream",
     "text": [
      "2025-05-07 20:32:31,594 - stpipe - INFO - \n"
     ]
    },
    {
     "name": "stdout",
     "output_type": "stream",
     "text": [
      "\n"
     ]
    },
    {
     "name": "stderr",
     "output_type": "stream",
     "text": [
      "2025-05-07 20:32:31,849 - stpipe - INFO -    *   Image:   'j8pu42ecq_flc_150d07m02.697s+2d08m40.507s_F475W_topsf.fits['SCI',1]'  --  SKY = 0.0 (brightness units)\n"
     ]
    },
    {
     "name": "stdout",
     "output_type": "stream",
     "text": [
      "   *   Image:   'j8pu42ecq_flc_150d07m02.697s+2d08m40.507s_F475W_topsf.fits['SCI',1]'  --  SKY = 0.0 (brightness units)\n"
     ]
    },
    {
     "name": "stderr",
     "output_type": "stream",
     "text": [
      "2025-05-07 20:32:31,850 - stpipe - INFO -        Sky change (data units):\n"
     ]
    },
    {
     "name": "stdout",
     "output_type": "stream",
     "text": [
      "       Sky change (data units):\n"
     ]
    },
    {
     "name": "stderr",
     "output_type": "stream",
     "text": [
      "2025-05-07 20:32:31,851 - stpipe - INFO -       - EXT = 'SCI',1   delta(MDRIZSKY) = 0   NEW MDRIZSKY = 0\n"
     ]
    },
    {
     "name": "stdout",
     "output_type": "stream",
     "text": [
      "      - EXT = 'SCI',1   delta(MDRIZSKY) = 0   NEW MDRIZSKY = 0\n"
     ]
    },
    {
     "name": "stderr",
     "output_type": "stream",
     "text": [
      "2025-05-07 20:32:32,099 - stpipe - INFO -    *   Image:   'j8pu42egq_flc_150d07m02.697s+2d08m40.507s_F475W_topsf.fits['SCI',1]'  --  SKY = 0.0 (brightness units)\n"
     ]
    },
    {
     "name": "stdout",
     "output_type": "stream",
     "text": [
      "   *   Image:   'j8pu42egq_flc_150d07m02.697s+2d08m40.507s_F475W_topsf.fits['SCI',1]'  --  SKY = 0.0 (brightness units)\n"
     ]
    },
    {
     "name": "stderr",
     "output_type": "stream",
     "text": [
      "2025-05-07 20:32:32,101 - stpipe - INFO -        Sky change (data units):\n"
     ]
    },
    {
     "name": "stdout",
     "output_type": "stream",
     "text": [
      "       Sky change (data units):\n"
     ]
    },
    {
     "name": "stderr",
     "output_type": "stream",
     "text": [
      "2025-05-07 20:32:32,102 - stpipe - INFO -       - EXT = 'SCI',1   delta(MDRIZSKY) = 0   NEW MDRIZSKY = 0\n"
     ]
    },
    {
     "name": "stdout",
     "output_type": "stream",
     "text": [
      "      - EXT = 'SCI',1   delta(MDRIZSKY) = 0   NEW MDRIZSKY = 0\n"
     ]
    },
    {
     "name": "stderr",
     "output_type": "stream",
     "text": [
      "2025-05-07 20:32:32,342 - stpipe - INFO -    *   Image:   'j8pu42esq_flc_150d07m02.697s+2d08m40.507s_F475W_topsf.fits['SCI',1]'  --  SKY = 0.0 (brightness units)\n"
     ]
    },
    {
     "name": "stdout",
     "output_type": "stream",
     "text": [
      "   *   Image:   'j8pu42esq_flc_150d07m02.697s+2d08m40.507s_F475W_topsf.fits['SCI',1]'  --  SKY = 0.0 (brightness units)\n"
     ]
    },
    {
     "name": "stderr",
     "output_type": "stream",
     "text": [
      "2025-05-07 20:32:32,343 - stpipe - INFO -        Sky change (data units):\n"
     ]
    },
    {
     "name": "stdout",
     "output_type": "stream",
     "text": [
      "       Sky change (data units):\n"
     ]
    },
    {
     "name": "stderr",
     "output_type": "stream",
     "text": [
      "2025-05-07 20:32:32,344 - stpipe - INFO -       - EXT = 'SCI',1   delta(MDRIZSKY) = 0   NEW MDRIZSKY = 0\n"
     ]
    },
    {
     "name": "stdout",
     "output_type": "stream",
     "text": [
      "      - EXT = 'SCI',1   delta(MDRIZSKY) = 0   NEW MDRIZSKY = 0\n"
     ]
    },
    {
     "name": "stderr",
     "output_type": "stream",
     "text": [
      "2025-05-07 20:32:32,583 - stpipe - INFO -    *   Image:   'j8pu42evq_flc_150d07m02.697s+2d08m40.507s_F475W_topsf.fits['SCI',1]'  --  SKY = 0.0 (brightness units)\n"
     ]
    },
    {
     "name": "stdout",
     "output_type": "stream",
     "text": [
      "   *   Image:   'j8pu42evq_flc_150d07m02.697s+2d08m40.507s_F475W_topsf.fits['SCI',1]'  --  SKY = 0.0 (brightness units)\n"
     ]
    },
    {
     "name": "stderr",
     "output_type": "stream",
     "text": [
      "2025-05-07 20:32:32,584 - stpipe - INFO -        Sky change (data units):\n"
     ]
    },
    {
     "name": "stdout",
     "output_type": "stream",
     "text": [
      "       Sky change (data units):\n"
     ]
    },
    {
     "name": "stderr",
     "output_type": "stream",
     "text": [
      "2025-05-07 20:32:32,584 - stpipe - INFO -       - EXT = 'SCI',1   delta(MDRIZSKY) = 0   NEW MDRIZSKY = 0\n"
     ]
    },
    {
     "name": "stdout",
     "output_type": "stream",
     "text": [
      "      - EXT = 'SCI',1   delta(MDRIZSKY) = 0   NEW MDRIZSKY = 0\n"
     ]
    },
    {
     "name": "stderr",
     "output_type": "stream",
     "text": [
      "2025-05-07 20:32:32,585 - stpipe - INFO - ***** skymatch ended on 2025-05-07 20:32:32.585602\n"
     ]
    },
    {
     "name": "stdout",
     "output_type": "stream",
     "text": [
      "***** skymatch ended on 2025-05-07 20:32:32.585602\n"
     ]
    },
    {
     "name": "stderr",
     "output_type": "stream",
     "text": [
      "2025-05-07 20:32:32,586 - stpipe - INFO - TOTAL RUN TIME: 0:00:01.115419\n"
     ]
    },
    {
     "name": "stdout",
     "output_type": "stream",
     "text": [
      "TOTAL RUN TIME: 0:00:01.115419\n"
     ]
    },
    {
     "name": "stderr",
     "output_type": "stream",
     "text": [
      "2025-05-07 20:32:32,651 - stpipe - INFO - ==== Processing Step Subtract Sky finished at 20:32:32.651 (07/05/2025)\n"
     ]
    },
    {
     "name": "stdout",
     "output_type": "stream",
     "text": [
      "==== Processing Step Subtract Sky finished at 20:32:32.651 (07/05/2025)\n"
     ]
    },
    {
     "name": "stderr",
     "output_type": "stream",
     "text": [
      "2025-05-07 20:32:32,652 - stpipe - INFO - ==== Processing Step  Separate Drizzle  started at  20:32:32.65 (07/05/2025)\n"
     ]
    },
    {
     "name": "stdout",
     "output_type": "stream",
     "text": [
      "==== Processing Step  Separate Drizzle  started at  20:32:32.65 (07/05/2025)\n"
     ]
    },
    {
     "name": "stderr",
     "output_type": "stream",
     "text": [
      "2025-05-07 20:32:32,653 - stpipe - INFO - \n"
     ]
    },
    {
     "name": "stdout",
     "output_type": "stream",
     "text": [
      "\n"
     ]
    },
    {
     "name": "stderr",
     "output_type": "stream",
     "text": [
      "2025-05-07 20:32:32,653 - stpipe - INFO - Interpreted paramDict with single=True as:\n",
      "{'build': True, 'stepsize': 10, 'coeffs': True, 'wcskey': '', 'kernel': 'turbo', 'wt_scl': 'exptime', 'pixfrac': 1.0, 'fillval': None, 'bits': 0, 'compress': False, 'units': 'cps'}\n",
      "2025-05-07 20:32:32,654 - stpipe - INFO - USER INPUT PARAMETERS for Separate Drizzle Step:\n",
      "2025-05-07 20:32:32,654 - stpipe - INFO - \tbits :\t0\n",
      "2025-05-07 20:32:32,654 - stpipe - INFO - \tbuild :\tFalse\n",
      "2025-05-07 20:32:32,655 - stpipe - INFO - \tclean :\tFalse\n",
      "2025-05-07 20:32:32,655 - stpipe - INFO - \tcoeffs :\tTrue\n",
      "2025-05-07 20:32:32,656 - stpipe - INFO - \tcompress :\tFalse\n",
      "2025-05-07 20:32:32,656 - stpipe - INFO - \tcrbit :\tNone\n",
      "2025-05-07 20:32:32,656 - stpipe - INFO - \tfillval :\tNone\n",
      "2025-05-07 20:32:32,657 - stpipe - INFO - \tkernel :\tturbo\n",
      "2025-05-07 20:32:32,657 - stpipe - INFO - \tnum_cores :\tNone\n",
      "2025-05-07 20:32:32,657 - stpipe - INFO - \tpixfrac :\t1.0\n",
      "2025-05-07 20:32:32,658 - stpipe - INFO - \tproc_unit :\telectrons\n",
      "2025-05-07 20:32:32,658 - stpipe - INFO - \trules_file :\tNone\n",
      "2025-05-07 20:32:32,658 - stpipe - INFO - \tstepsize :\t10\n",
      "2025-05-07 20:32:32,659 - stpipe - INFO - \tunits :\tcps\n",
      "2025-05-07 20:32:32,659 - stpipe - INFO - \twcskey :\t\n",
      "2025-05-07 20:32:32,660 - stpipe - INFO - \twht_type :\tNone\n",
      "2025-05-07 20:32:32,660 - stpipe - INFO - \twt_scl :\texptime\n",
      "2025-05-07 20:32:32,660 - stpipe - INFO -   **Using sub-sampling value of 10 for kernel turbo\n",
      "2025-05-07 20:32:32,661 - stpipe - INFO - Running Drizzle to create output frame with WCS of: \n",
      "2025-05-07 20:32:32,662 - stpipe - INFO - WCS Keywords\n"
     ]
    },
    {
     "name": "stdout",
     "output_type": "stream",
     "text": [
      "WCS Keywords\n"
     ]
    },
    {
     "name": "stderr",
     "output_type": "stream",
     "text": [
      "2025-05-07 20:32:32,663 - stpipe - INFO - \n"
     ]
    },
    {
     "name": "stdout",
     "output_type": "stream",
     "text": [
      "\n"
     ]
    },
    {
     "name": "stderr",
     "output_type": "stream",
     "text": [
      "2025-05-07 20:32:32,664 - stpipe - INFO - Number of WCS axes: 2\n"
     ]
    },
    {
     "name": "stdout",
     "output_type": "stream",
     "text": [
      "Number of WCS axes: 2\n"
     ]
    },
    {
     "name": "stderr",
     "output_type": "stream",
     "text": [
      "2025-05-07 20:32:32,665 - stpipe - INFO - CTYPE : 'RA---TAN' 'DEC--TAN' \n"
     ]
    },
    {
     "name": "stdout",
     "output_type": "stream",
     "text": [
      "CTYPE : 'RA---TAN' 'DEC--TAN' \n"
     ]
    },
    {
     "name": "stderr",
     "output_type": "stream",
     "text": [
      "2025-05-07 20:32:32,665 - stpipe - INFO - CRVAL : np.float64(150.1242636198465) np.float64(2.151761555110333) \n"
     ]
    },
    {
     "name": "stdout",
     "output_type": "stream",
     "text": [
      "CRVAL : np.float64(150.1242636198465) np.float64(2.151761555110333) \n"
     ]
    },
    {
     "name": "stderr",
     "output_type": "stream",
     "text": [
      "2025-05-07 20:32:32,666 - stpipe - INFO - CRPIX : np.float64(2081.0) np.float64(1179.5) \n"
     ]
    },
    {
     "name": "stdout",
     "output_type": "stream",
     "text": [
      "CRPIX : np.float64(2081.0) np.float64(1179.5) \n"
     ]
    },
    {
     "name": "stderr",
     "output_type": "stream",
     "text": [
      "2025-05-07 20:32:32,668 - stpipe - INFO - CD1_1 CD1_2  : np.float64(-2.4118726301966414e-06) np.float64(-1.3677869168244357e-05) \n"
     ]
    },
    {
     "name": "stdout",
     "output_type": "stream",
     "text": [
      "CD1_1 CD1_2  : np.float64(-2.4118726301966414e-06) np.float64(-1.3677869168244357e-05) \n"
     ]
    },
    {
     "name": "stderr",
     "output_type": "stream",
     "text": [
      "2025-05-07 20:32:32,668 - stpipe - INFO - CD2_1 CD2_2  : np.float64(-1.3677869168244357e-05) np.float64(2.4118726301966414e-06) \n"
     ]
    },
    {
     "name": "stdout",
     "output_type": "stream",
     "text": [
      "CD2_1 CD2_2  : np.float64(-1.3677869168244357e-05) np.float64(2.4118726301966414e-06) \n"
     ]
    },
    {
     "name": "stderr",
     "output_type": "stream",
     "text": [
      "2025-05-07 20:32:32,669 - stpipe - INFO - NAXIS : 4162  2359\n"
     ]
    },
    {
     "name": "stdout",
     "output_type": "stream",
     "text": [
      "NAXIS : 4162  2359\n"
     ]
    },
    {
     "name": "stderr",
     "output_type": "stream",
     "text": [
      "2025-05-07 20:32:32,670 - stpipe - INFO - Executing 4 parallel workers\n",
      "2025-05-07 20:32:32,742 - stpipe - INFO - -Drizzle input: /Users/avapolzin/Desktop/psf_testoutputs/acs/j8pu42ecq_flc_150d07m02.697s+2d08m40.507s_F475W_topsf.fits[sci,1]\n",
      "2025-05-07 20:32:32,747 - stpipe - INFO - -Drizzle input: /Users/avapolzin/Desktop/psf_testoutputs/acs/j8pu42egq_flc_150d07m02.697s+2d08m40.507s_F475W_topsf.fits[sci,1]\n",
      "2025-05-07 20:32:32,755 - stpipe - INFO - -Drizzle input: /Users/avapolzin/Desktop/psf_testoutputs/acs/j8pu42esq_flc_150d07m02.697s+2d08m40.507s_F475W_topsf.fits[sci,1]\n",
      "2025-05-07 20:32:32,765 - stpipe - INFO - Applying sky value of 0.000000 to /Users/avapolzin/Desktop/psf_testoutputs/acs/j8pu42ecq_flc_150d07m02.697s+2d08m40.507s_F475W_topsf.fits[sci,1]\n",
      "2025-05-07 20:32:32,765 - stpipe - INFO - -Drizzle input: /Users/avapolzin/Desktop/psf_testoutputs/acs/j8pu42evq_flc_150d07m02.697s+2d08m40.507s_F475W_topsf.fits[sci,1]\n",
      "2025-05-07 20:32:32,769 - stpipe - INFO - Applying sky value of 0.000000 to /Users/avapolzin/Desktop/psf_testoutputs/acs/j8pu42egq_flc_150d07m02.697s+2d08m40.507s_F475W_topsf.fits[sci,1]\n",
      "2025-05-07 20:32:32,777 - stpipe - INFO - Applying sky value of 0.000000 to /Users/avapolzin/Desktop/psf_testoutputs/acs/j8pu42esq_flc_150d07m02.697s+2d08m40.507s_F475W_topsf.fits[sci,1]\n",
      "2025-05-07 20:32:32,788 - stpipe - INFO - Applying sky value of 0.000000 to /Users/avapolzin/Desktop/psf_testoutputs/acs/j8pu42evq_flc_150d07m02.697s+2d08m40.507s_F475W_topsf.fits[sci,1]\n",
      "2025-05-07 20:32:32,893 - stpipe - INFO - Writing out mask file: /Users/avapolzin/Desktop/psf_testoutputs/acs/j8pu42ecq_flc_150d07m02.697s+2d08m40.507s_F475W_topsf_sci1_single_mask.fits\n",
      "2025-05-07 20:32:32,894 - stpipe - INFO - Writing out mask file: /Users/avapolzin/Desktop/psf_testoutputs/acs/j8pu42egq_flc_150d07m02.697s+2d08m40.507s_F475W_topsf_sci1_single_mask.fits\n",
      "2025-05-07 20:32:32,896 - stpipe - INFO - Using WCSLIB-based coordinate transformation...\n",
      "2025-05-07 20:32:32,896 - stpipe - INFO - Using WCSLIB-based coordinate transformation...\n",
      "2025-05-07 20:32:32,899 - stpipe - INFO - stepsize = 10\n",
      "2025-05-07 20:32:32,898 - stpipe - INFO - stepsize = 10\n",
      "2025-05-07 20:32:32,901 - stpipe - INFO - Writing out mask file: /Users/avapolzin/Desktop/psf_testoutputs/acs/j8pu42esq_flc_150d07m02.697s+2d08m40.507s_F475W_topsf_sci1_single_mask.fits\n",
      "2025-05-07 20:32:32,904 - stpipe - INFO - Using WCSLIB-based coordinate transformation...\n",
      "2025-05-07 20:32:32,906 - stpipe - INFO - stepsize = 10\n",
      "2025-05-07 20:32:32,918 - stpipe - INFO - Writing out mask file: /Users/avapolzin/Desktop/psf_testoutputs/acs/j8pu42evq_flc_150d07m02.697s+2d08m40.507s_F475W_topsf_sci1_single_mask.fits\n",
      "2025-05-07 20:32:32,920 - stpipe - INFO - Using WCSLIB-based coordinate transformation...\n",
      "2025-05-07 20:32:32,923 - stpipe - INFO - stepsize = 10\n",
      "2025-05-07 20:32:32,935 - stpipe - INFO - -Drizzling using kernel = turbo\n",
      "\n",
      "2025-05-07 20:32:32,947 - stpipe - INFO - -Drizzling using kernel = turbo\n",
      "\n",
      "2025-05-07 20:32:32,951 - stpipe - INFO - -Drizzling using kernel = turbo\n",
      "\n",
      "2025-05-07 20:32:32,960 - stpipe - INFO - -Drizzling using kernel = turbo\n",
      "\n",
      "2025-05-07 20:32:33,593 - stpipe - INFO - -Generating simple FITS output: /Users/avapolzin/Desktop/psf_testoutputs/acs/j8pu42ecq_flc_150d07m02.697s+2d08m40.507s_F475W_topsf_single_sci.fits\n",
      "2025-05-07 20:32:33,593 - stpipe - INFO - -Generating simple FITS output: /Users/avapolzin/Desktop/psf_testoutputs/acs/j8pu42esq_flc_150d07m02.697s+2d08m40.507s_F475W_topsf_single_sci.fits\n"
     ]
    },
    {
     "name": "stdout",
     "output_type": "stream",
     "text": [
      "-Generating simple FITS output: /Users/avapolzin/Desktop/psf_testoutputs/acs/j8pu42ecq_flc_150d07m02.697s+2d08m40.507s_F475W_topsf_single_sci.fits\n",
      "-Generating simple FITS output: /Users/avapolzin/Desktop/psf_testoutputs/acs/j8pu42esq_flc_150d07m02.697s+2d08m40.507s_F475W_topsf_single_sci.fits\n"
     ]
    },
    {
     "name": "stderr",
     "output_type": "stream",
     "text": [
      "2025-05-07 20:32:33,599 - stpipe - INFO - -Generating simple FITS output: /Users/avapolzin/Desktop/psf_testoutputs/acs/j8pu42evq_flc_150d07m02.697s+2d08m40.507s_F475W_topsf_single_sci.fits\n"
     ]
    },
    {
     "name": "stdout",
     "output_type": "stream",
     "text": [
      "-Generating simple FITS output: /Users/avapolzin/Desktop/psf_testoutputs/acs/j8pu42evq_flc_150d07m02.697s+2d08m40.507s_F475W_topsf_single_sci.fits\n"
     ]
    },
    {
     "name": "stderr",
     "output_type": "stream",
     "text": [
      "2025-05-07 20:32:33,605 - stpipe - INFO - -Generating simple FITS output: /Users/avapolzin/Desktop/psf_testoutputs/acs/j8pu42egq_flc_150d07m02.697s+2d08m40.507s_F475W_topsf_single_sci.fits\n"
     ]
    },
    {
     "name": "stdout",
     "output_type": "stream",
     "text": [
      "-Generating simple FITS output: /Users/avapolzin/Desktop/psf_testoutputs/acs/j8pu42egq_flc_150d07m02.697s+2d08m40.507s_F475W_topsf_single_sci.fits\n"
     ]
    },
    {
     "name": "stderr",
     "output_type": "stream",
     "text": [
      "2025-05-07 20:32:33,613 - stpipe - WARNING - /Users/avapolzin/opt/anaconda3/envs/spike/lib/python3.10/site-packages/astropy/io/fits/card.py:1036: VerifyWarning: Card is too long, comment will be truncated.\n",
      "\n",
      "2025-05-07 20:32:33,613 - stpipe - WARNING - /Users/avapolzin/opt/anaconda3/envs/spike/lib/python3.10/site-packages/astropy/io/fits/card.py:1036: VerifyWarning: Card is too long, comment will be truncated.\n",
      "\n",
      "2025-05-07 20:32:33,620 - stpipe - WARNING - /Users/avapolzin/opt/anaconda3/envs/spike/lib/python3.10/site-packages/astropy/io/fits/card.py:1036: VerifyWarning: Card is too long, comment will be truncated.\n",
      "\n",
      "2025-05-07 20:32:33,627 - stpipe - WARNING - /Users/avapolzin/opt/anaconda3/envs/spike/lib/python3.10/site-packages/astropy/io/fits/card.py:1036: VerifyWarning: Card is too long, comment will be truncated.\n",
      "\n",
      "2025-05-07 20:32:33,652 - stpipe - INFO - Writing out image to disk: /Users/avapolzin/Desktop/psf_testoutputs/acs/j8pu42ecq_flc_150d07m02.697s+2d08m40.507s_F475W_topsf_single_sci.fits\n"
     ]
    },
    {
     "name": "stdout",
     "output_type": "stream",
     "text": [
      "Writing out image to disk: /Users/avapolzin/Desktop/psf_testoutputs/acs/j8pu42ecq_flc_150d07m02.697s+2d08m40.507s_F475W_topsf_single_sci.fits\n"
     ]
    },
    {
     "name": "stderr",
     "output_type": "stream",
     "text": [
      "2025-05-07 20:32:33,657 - stpipe - INFO - Writing out image to disk: /Users/avapolzin/Desktop/psf_testoutputs/acs/j8pu42esq_flc_150d07m02.697s+2d08m40.507s_F475W_topsf_single_sci.fits\n"
     ]
    },
    {
     "name": "stdout",
     "output_type": "stream",
     "text": [
      "Writing out image to disk: /Users/avapolzin/Desktop/psf_testoutputs/acs/j8pu42esq_flc_150d07m02.697s+2d08m40.507s_F475W_topsf_single_sci.fits\n"
     ]
    },
    {
     "name": "stderr",
     "output_type": "stream",
     "text": [
      "2025-05-07 20:32:33,661 - stpipe - INFO - Writing out image to disk: /Users/avapolzin/Desktop/psf_testoutputs/acs/j8pu42evq_flc_150d07m02.697s+2d08m40.507s_F475W_topsf_single_sci.fits\n"
     ]
    },
    {
     "name": "stdout",
     "output_type": "stream",
     "text": [
      "Writing out image to disk: /Users/avapolzin/Desktop/psf_testoutputs/acs/j8pu42evq_flc_150d07m02.697s+2d08m40.507s_F475W_topsf_single_sci.fits\n"
     ]
    },
    {
     "name": "stderr",
     "output_type": "stream",
     "text": [
      "2025-05-07 20:32:33,668 - stpipe - INFO - Writing out image to disk: /Users/avapolzin/Desktop/psf_testoutputs/acs/j8pu42egq_flc_150d07m02.697s+2d08m40.507s_F475W_topsf_single_sci.fits\n"
     ]
    },
    {
     "name": "stdout",
     "output_type": "stream",
     "text": [
      "Writing out image to disk: /Users/avapolzin/Desktop/psf_testoutputs/acs/j8pu42egq_flc_150d07m02.697s+2d08m40.507s_F475W_topsf_single_sci.fits\n"
     ]
    },
    {
     "name": "stderr",
     "output_type": "stream",
     "text": [
      "2025-05-07 20:32:33,753 - stpipe - INFO - Writing out image to disk: /Users/avapolzin/Desktop/psf_testoutputs/acs/j8pu42ecq_flc_150d07m02.697s+2d08m40.507s_F475W_topsf_single_wht.fits\n"
     ]
    },
    {
     "name": "stdout",
     "output_type": "stream",
     "text": [
      "Writing out image to disk: /Users/avapolzin/Desktop/psf_testoutputs/acs/j8pu42ecq_flc_150d07m02.697s+2d08m40.507s_F475W_topsf_single_wht.fits\n"
     ]
    },
    {
     "name": "stderr",
     "output_type": "stream",
     "text": [
      "2025-05-07 20:32:33,760 - stpipe - INFO - Writing out image to disk: /Users/avapolzin/Desktop/psf_testoutputs/acs/j8pu42egq_flc_150d07m02.697s+2d08m40.507s_F475W_topsf_single_wht.fits\n"
     ]
    },
    {
     "name": "stdout",
     "output_type": "stream",
     "text": [
      "Writing out image to disk: /Users/avapolzin/Desktop/psf_testoutputs/acs/j8pu42egq_flc_150d07m02.697s+2d08m40.507s_F475W_topsf_single_wht.fits\n"
     ]
    },
    {
     "name": "stderr",
     "output_type": "stream",
     "text": [
      "2025-05-07 20:32:33,767 - stpipe - INFO - Writing out image to disk: /Users/avapolzin/Desktop/psf_testoutputs/acs/j8pu42esq_flc_150d07m02.697s+2d08m40.507s_F475W_topsf_single_wht.fits\n",
      "2025-05-07 20:32:33,767 - stpipe - INFO - Writing out image to disk: /Users/avapolzin/Desktop/psf_testoutputs/acs/j8pu42evq_flc_150d07m02.697s+2d08m40.507s_F475W_topsf_single_wht.fits\n"
     ]
    },
    {
     "name": "stdout",
     "output_type": "stream",
     "text": [
      "Writing out image to disk: /Users/avapolzin/Desktop/psf_testoutputs/acs/j8pu42esq_flc_150d07m02.697s+2d08m40.507s_F475W_topsf_single_wht.fits\n",
      "Writing out image to disk: /Users/avapolzin/Desktop/psf_testoutputs/acs/j8pu42evq_flc_150d07m02.697s+2d08m40.507s_F475W_topsf_single_wht.fits\n"
     ]
    },
    {
     "name": "stderr",
     "output_type": "stream",
     "text": [
      "2025-05-07 20:32:33,856 - stpipe - INFO - ==== Processing Step Separate Drizzle finished at 20:32:33.855 (07/05/2025)\n"
     ]
    },
    {
     "name": "stdout",
     "output_type": "stream",
     "text": [
      "==== Processing Step Separate Drizzle finished at 20:32:33.855 (07/05/2025)\n"
     ]
    },
    {
     "name": "stderr",
     "output_type": "stream",
     "text": [
      "2025-05-07 20:32:33,858 - stpipe - INFO - ==== Processing Step  Create Median  started at  20:32:33.858 (07/05/2025)\n"
     ]
    },
    {
     "name": "stdout",
     "output_type": "stream",
     "text": [
      "==== Processing Step  Create Median  started at  20:32:33.858 (07/05/2025)\n"
     ]
    },
    {
     "name": "stderr",
     "output_type": "stream",
     "text": [
      "2025-05-07 20:32:33,859 - stpipe - INFO - \n"
     ]
    },
    {
     "name": "stdout",
     "output_type": "stream",
     "text": [
      "\n"
     ]
    },
    {
     "name": "stderr",
     "output_type": "stream",
     "text": [
      "2025-05-07 20:32:33,860 - stpipe - INFO - USER INPUT PARAMETERS for Create Median Step:\n",
      "2025-05-07 20:32:33,860 - stpipe - INFO - \tcombine_bufsize :\tNone\n",
      "2025-05-07 20:32:33,861 - stpipe - INFO - \tcombine_grow :\t1\n",
      "2025-05-07 20:32:33,861 - stpipe - INFO - \tcombine_hthresh :\tNone\n",
      "2025-05-07 20:32:33,861 - stpipe - INFO - \tcombine_lthresh :\tNone\n",
      "2025-05-07 20:32:33,862 - stpipe - INFO - \tcombine_maskpt :\t0.3\n",
      "2025-05-07 20:32:33,862 - stpipe - INFO - \tcombine_nhigh :\t0\n",
      "2025-05-07 20:32:33,863 - stpipe - INFO - \tcombine_nlow :\t0\n",
      "2025-05-07 20:32:33,863 - stpipe - INFO - \tcombine_nsigma :\t4 3\n",
      "2025-05-07 20:32:33,864 - stpipe - INFO - \tcombine_type :\timedian\n",
      "2025-05-07 20:32:33,864 - stpipe - INFO - \tcompress :\tFalse\n",
      "2025-05-07 20:32:33,865 - stpipe - INFO - \tmedian :\tTrue\n",
      "2025-05-07 20:32:33,865 - stpipe - INFO - \tmedian_newmasks :\tTrue\n",
      "2025-05-07 20:32:33,865 - stpipe - INFO - \tproc_unit :\tnative\n",
      "2025-05-07 20:32:33,968 - stpipe - INFO - reference sky value for image '/Users/avapolzin/Desktop/psf_testoutputs/acs/j8pu42ecq_flc_150d07m02.697s+2d08m40.507s_F475W_topsf.fits' is 0.0\n"
     ]
    },
    {
     "name": "stdout",
     "output_type": "stream",
     "text": [
      "reference sky value for image '/Users/avapolzin/Desktop/psf_testoutputs/acs/j8pu42ecq_flc_150d07m02.697s+2d08m40.507s_F475W_topsf.fits' is 0.0\n"
     ]
    },
    {
     "name": "stderr",
     "output_type": "stream",
     "text": [
      "2025-05-07 20:32:34,028 - stpipe - INFO - reference sky value for image '/Users/avapolzin/Desktop/psf_testoutputs/acs/j8pu42egq_flc_150d07m02.697s+2d08m40.507s_F475W_topsf.fits' is 0.0\n"
     ]
    },
    {
     "name": "stdout",
     "output_type": "stream",
     "text": [
      "reference sky value for image '/Users/avapolzin/Desktop/psf_testoutputs/acs/j8pu42egq_flc_150d07m02.697s+2d08m40.507s_F475W_topsf.fits' is 0.0\n"
     ]
    },
    {
     "name": "stderr",
     "output_type": "stream",
     "text": [
      "2025-05-07 20:32:34,088 - stpipe - INFO - reference sky value for image '/Users/avapolzin/Desktop/psf_testoutputs/acs/j8pu42esq_flc_150d07m02.697s+2d08m40.507s_F475W_topsf.fits' is 0.0\n"
     ]
    },
    {
     "name": "stdout",
     "output_type": "stream",
     "text": [
      "reference sky value for image '/Users/avapolzin/Desktop/psf_testoutputs/acs/j8pu42esq_flc_150d07m02.697s+2d08m40.507s_F475W_topsf.fits' is 0.0\n"
     ]
    },
    {
     "name": "stderr",
     "output_type": "stream",
     "text": [
      "2025-05-07 20:32:34,164 - stpipe - INFO - reference sky value for image '/Users/avapolzin/Desktop/psf_testoutputs/acs/j8pu42evq_flc_150d07m02.697s+2d08m40.507s_F475W_topsf.fits' is 0.0\n"
     ]
    },
    {
     "name": "stdout",
     "output_type": "stream",
     "text": [
      "reference sky value for image '/Users/avapolzin/Desktop/psf_testoutputs/acs/j8pu42evq_flc_150d07m02.697s+2d08m40.507s_F475W_topsf.fits' is 0.0\n"
     ]
    },
    {
     "name": "stderr",
     "output_type": "stream",
     "text": [
      "2025-05-07 20:32:35,363 - stpipe - INFO - Saving output median image to: 'final_med.fits'\n"
     ]
    },
    {
     "name": "stdout",
     "output_type": "stream",
     "text": [
      "Saving output median image to: 'final_med.fits'\n"
     ]
    },
    {
     "name": "stderr",
     "output_type": "stream",
     "text": [
      "2025-05-07 20:32:35,381 - stpipe - INFO - ==== Processing Step Create Median finished at 20:32:35.380 (07/05/2025)\n"
     ]
    },
    {
     "name": "stdout",
     "output_type": "stream",
     "text": [
      "==== Processing Step Create Median finished at 20:32:35.380 (07/05/2025)\n"
     ]
    },
    {
     "name": "stderr",
     "output_type": "stream",
     "text": [
      "2025-05-07 20:32:35,382 - stpipe - INFO - ==== Processing Step  Blot  started at  20:32:35.382 (07/05/2025)\n"
     ]
    },
    {
     "name": "stdout",
     "output_type": "stream",
     "text": [
      "==== Processing Step  Blot  started at  20:32:35.382 (07/05/2025)\n"
     ]
    },
    {
     "name": "stderr",
     "output_type": "stream",
     "text": [
      "2025-05-07 20:32:35,383 - stpipe - INFO - \n"
     ]
    },
    {
     "name": "stdout",
     "output_type": "stream",
     "text": [
      "\n"
     ]
    },
    {
     "name": "stderr",
     "output_type": "stream",
     "text": [
      "2025-05-07 20:32:35,383 - stpipe - INFO - USER INPUT PARAMETERS for Blot Step:\n",
      "2025-05-07 20:32:35,384 - stpipe - INFO - \tblot_addsky :\tTrue\n",
      "2025-05-07 20:32:35,384 - stpipe - INFO - \tblot_interp :\tpoly5\n",
      "2025-05-07 20:32:35,384 - stpipe - INFO - \tblot_sinscl :\t1.0\n",
      "2025-05-07 20:32:35,385 - stpipe - INFO - \tblot_skyval :\t0.0\n",
      "2025-05-07 20:32:35,385 - stpipe - INFO - \tcoeffs :\tTrue\n",
      "2025-05-07 20:32:35,386 - stpipe - INFO -     Blot: creating blotted image:  /Users/avapolzin/Desktop/psf_testoutputs/acs/j8pu42ecq_flc_150d07m02.697s+2d08m40.507s_F475W_topsf.fits[sci,1]\n"
     ]
    },
    {
     "name": "stdout",
     "output_type": "stream",
     "text": [
      "    Blot: creating blotted image:  /Users/avapolzin/Desktop/psf_testoutputs/acs/j8pu42ecq_flc_150d07m02.697s+2d08m40.507s_F475W_topsf.fits[sci,1]\n"
     ]
    },
    {
     "name": "stderr",
     "output_type": "stream",
     "text": [
      "2025-05-07 20:32:35,415 - stpipe - INFO - Using default C-based coordinate transformation...\n"
     ]
    },
    {
     "name": "stdout",
     "output_type": "stream",
     "text": [
      "Using default C-based coordinate transformation...\n"
     ]
    },
    {
     "name": "stderr",
     "output_type": "stream",
     "text": [
      "2025-05-07 20:32:36,200 - stpipe - INFO - Applying sky value of 0.000000 to blotted image /Users/avapolzin/Desktop/psf_testoutputs/acs/j8pu42ecq_flc_150d07m02.697s+2d08m40.507s_F475W_topsf.fits[sci,1]\n",
      "2025-05-07 20:32:36,238 - stpipe - INFO - -Generating simple FITS output: /Users/avapolzin/Desktop/psf_testoutputs/acs/j8pu42ecq_flc_150d07m02.697s+2d08m40.507s_F475W_topsf_sci1_blt.fits\n"
     ]
    },
    {
     "name": "stdout",
     "output_type": "stream",
     "text": [
      "-Generating simple FITS output: /Users/avapolzin/Desktop/psf_testoutputs/acs/j8pu42ecq_flc_150d07m02.697s+2d08m40.507s_F475W_topsf_sci1_blt.fits\n"
     ]
    },
    {
     "name": "stderr",
     "output_type": "stream",
     "text": [
      "2025-05-07 20:32:36,253 - stpipe - INFO - Writing out image to disk: /Users/avapolzin/Desktop/psf_testoutputs/acs/j8pu42ecq_flc_150d07m02.697s+2d08m40.507s_F475W_topsf_sci1_blt.fits\n"
     ]
    },
    {
     "name": "stdout",
     "output_type": "stream",
     "text": [
      "Writing out image to disk: /Users/avapolzin/Desktop/psf_testoutputs/acs/j8pu42ecq_flc_150d07m02.697s+2d08m40.507s_F475W_topsf_sci1_blt.fits\n"
     ]
    },
    {
     "name": "stderr",
     "output_type": "stream",
     "text": [
      "2025-05-07 20:32:36,288 - stpipe - INFO -     Blot: creating blotted image:  /Users/avapolzin/Desktop/psf_testoutputs/acs/j8pu42egq_flc_150d07m02.697s+2d08m40.507s_F475W_topsf.fits[sci,1]\n"
     ]
    },
    {
     "name": "stdout",
     "output_type": "stream",
     "text": [
      "    Blot: creating blotted image:  /Users/avapolzin/Desktop/psf_testoutputs/acs/j8pu42egq_flc_150d07m02.697s+2d08m40.507s_F475W_topsf.fits[sci,1]\n"
     ]
    },
    {
     "name": "stderr",
     "output_type": "stream",
     "text": [
      "2025-05-07 20:32:36,320 - stpipe - INFO - Using default C-based coordinate transformation...\n"
     ]
    },
    {
     "name": "stdout",
     "output_type": "stream",
     "text": [
      "Using default C-based coordinate transformation...\n"
     ]
    },
    {
     "name": "stderr",
     "output_type": "stream",
     "text": [
      "2025-05-07 20:32:37,107 - stpipe - INFO - Applying sky value of 0.000000 to blotted image /Users/avapolzin/Desktop/psf_testoutputs/acs/j8pu42egq_flc_150d07m02.697s+2d08m40.507s_F475W_topsf.fits[sci,1]\n",
      "2025-05-07 20:32:37,146 - stpipe - INFO - -Generating simple FITS output: /Users/avapolzin/Desktop/psf_testoutputs/acs/j8pu42egq_flc_150d07m02.697s+2d08m40.507s_F475W_topsf_sci1_blt.fits\n"
     ]
    },
    {
     "name": "stdout",
     "output_type": "stream",
     "text": [
      "-Generating simple FITS output: /Users/avapolzin/Desktop/psf_testoutputs/acs/j8pu42egq_flc_150d07m02.697s+2d08m40.507s_F475W_topsf_sci1_blt.fits\n"
     ]
    },
    {
     "name": "stderr",
     "output_type": "stream",
     "text": [
      "2025-05-07 20:32:37,161 - stpipe - INFO - Writing out image to disk: /Users/avapolzin/Desktop/psf_testoutputs/acs/j8pu42egq_flc_150d07m02.697s+2d08m40.507s_F475W_topsf_sci1_blt.fits\n"
     ]
    },
    {
     "name": "stdout",
     "output_type": "stream",
     "text": [
      "Writing out image to disk: /Users/avapolzin/Desktop/psf_testoutputs/acs/j8pu42egq_flc_150d07m02.697s+2d08m40.507s_F475W_topsf_sci1_blt.fits\n"
     ]
    },
    {
     "name": "stderr",
     "output_type": "stream",
     "text": [
      "2025-05-07 20:32:37,208 - stpipe - INFO -     Blot: creating blotted image:  /Users/avapolzin/Desktop/psf_testoutputs/acs/j8pu42esq_flc_150d07m02.697s+2d08m40.507s_F475W_topsf.fits[sci,1]\n"
     ]
    },
    {
     "name": "stdout",
     "output_type": "stream",
     "text": [
      "    Blot: creating blotted image:  /Users/avapolzin/Desktop/psf_testoutputs/acs/j8pu42esq_flc_150d07m02.697s+2d08m40.507s_F475W_topsf.fits[sci,1]\n"
     ]
    },
    {
     "name": "stderr",
     "output_type": "stream",
     "text": [
      "2025-05-07 20:32:37,232 - stpipe - INFO - Using default C-based coordinate transformation...\n"
     ]
    },
    {
     "name": "stdout",
     "output_type": "stream",
     "text": [
      "Using default C-based coordinate transformation...\n"
     ]
    },
    {
     "name": "stderr",
     "output_type": "stream",
     "text": [
      "2025-05-07 20:32:38,010 - stpipe - INFO - Applying sky value of 0.000000 to blotted image /Users/avapolzin/Desktop/psf_testoutputs/acs/j8pu42esq_flc_150d07m02.697s+2d08m40.507s_F475W_topsf.fits[sci,1]\n",
      "2025-05-07 20:32:38,049 - stpipe - INFO - -Generating simple FITS output: /Users/avapolzin/Desktop/psf_testoutputs/acs/j8pu42esq_flc_150d07m02.697s+2d08m40.507s_F475W_topsf_sci1_blt.fits\n"
     ]
    },
    {
     "name": "stdout",
     "output_type": "stream",
     "text": [
      "-Generating simple FITS output: /Users/avapolzin/Desktop/psf_testoutputs/acs/j8pu42esq_flc_150d07m02.697s+2d08m40.507s_F475W_topsf_sci1_blt.fits\n"
     ]
    },
    {
     "name": "stderr",
     "output_type": "stream",
     "text": [
      "2025-05-07 20:32:38,063 - stpipe - INFO - Writing out image to disk: /Users/avapolzin/Desktop/psf_testoutputs/acs/j8pu42esq_flc_150d07m02.697s+2d08m40.507s_F475W_topsf_sci1_blt.fits\n"
     ]
    },
    {
     "name": "stdout",
     "output_type": "stream",
     "text": [
      "Writing out image to disk: /Users/avapolzin/Desktop/psf_testoutputs/acs/j8pu42esq_flc_150d07m02.697s+2d08m40.507s_F475W_topsf_sci1_blt.fits\n"
     ]
    },
    {
     "name": "stderr",
     "output_type": "stream",
     "text": [
      "2025-05-07 20:32:38,096 - stpipe - INFO -     Blot: creating blotted image:  /Users/avapolzin/Desktop/psf_testoutputs/acs/j8pu42evq_flc_150d07m02.697s+2d08m40.507s_F475W_topsf.fits[sci,1]\n"
     ]
    },
    {
     "name": "stdout",
     "output_type": "stream",
     "text": [
      "    Blot: creating blotted image:  /Users/avapolzin/Desktop/psf_testoutputs/acs/j8pu42evq_flc_150d07m02.697s+2d08m40.507s_F475W_topsf.fits[sci,1]\n"
     ]
    },
    {
     "name": "stderr",
     "output_type": "stream",
     "text": [
      "2025-05-07 20:32:38,120 - stpipe - INFO - Using default C-based coordinate transformation...\n"
     ]
    },
    {
     "name": "stdout",
     "output_type": "stream",
     "text": [
      "Using default C-based coordinate transformation...\n"
     ]
    },
    {
     "name": "stderr",
     "output_type": "stream",
     "text": [
      "2025-05-07 20:32:38,896 - stpipe - INFO - Applying sky value of 0.000000 to blotted image /Users/avapolzin/Desktop/psf_testoutputs/acs/j8pu42evq_flc_150d07m02.697s+2d08m40.507s_F475W_topsf.fits[sci,1]\n",
      "2025-05-07 20:32:38,933 - stpipe - INFO - -Generating simple FITS output: /Users/avapolzin/Desktop/psf_testoutputs/acs/j8pu42evq_flc_150d07m02.697s+2d08m40.507s_F475W_topsf_sci1_blt.fits\n"
     ]
    },
    {
     "name": "stdout",
     "output_type": "stream",
     "text": [
      "-Generating simple FITS output: /Users/avapolzin/Desktop/psf_testoutputs/acs/j8pu42evq_flc_150d07m02.697s+2d08m40.507s_F475W_topsf_sci1_blt.fits\n"
     ]
    },
    {
     "name": "stderr",
     "output_type": "stream",
     "text": [
      "2025-05-07 20:32:38,947 - stpipe - INFO - Writing out image to disk: /Users/avapolzin/Desktop/psf_testoutputs/acs/j8pu42evq_flc_150d07m02.697s+2d08m40.507s_F475W_topsf_sci1_blt.fits\n"
     ]
    },
    {
     "name": "stdout",
     "output_type": "stream",
     "text": [
      "Writing out image to disk: /Users/avapolzin/Desktop/psf_testoutputs/acs/j8pu42evq_flc_150d07m02.697s+2d08m40.507s_F475W_topsf_sci1_blt.fits\n"
     ]
    },
    {
     "name": "stderr",
     "output_type": "stream",
     "text": [
      "2025-05-07 20:32:38,981 - stpipe - INFO - ==== Processing Step Blot finished at 20:32:38.981 (07/05/2025)\n"
     ]
    },
    {
     "name": "stdout",
     "output_type": "stream",
     "text": [
      "==== Processing Step Blot finished at 20:32:38.981 (07/05/2025)\n"
     ]
    },
    {
     "name": "stderr",
     "output_type": "stream",
     "text": [
      "2025-05-07 20:32:38,982 - stpipe - INFO - ==== Processing Step  Driz_CR  started at  20:32:38.982 (07/05/2025)\n"
     ]
    },
    {
     "name": "stdout",
     "output_type": "stream",
     "text": [
      "==== Processing Step  Driz_CR  started at  20:32:38.982 (07/05/2025)\n"
     ]
    },
    {
     "name": "stderr",
     "output_type": "stream",
     "text": [
      "2025-05-07 20:32:38,983 - stpipe - INFO - \n"
     ]
    },
    {
     "name": "stdout",
     "output_type": "stream",
     "text": [
      "\n"
     ]
    },
    {
     "name": "stderr",
     "output_type": "stream",
     "text": [
      "2025-05-07 20:32:38,984 - stpipe - INFO - USER INPUT PARAMETERS for Driz_CR Step:\n",
      "2025-05-07 20:32:38,984 - stpipe - INFO - \tcrbit :\t4096\n",
      "2025-05-07 20:32:38,985 - stpipe - INFO - \tdriz_cr :\tTrue\n",
      "2025-05-07 20:32:38,985 - stpipe - INFO - \tdriz_cr_corr :\tFalse\n",
      "2025-05-07 20:32:38,985 - stpipe - INFO - \tdriz_cr_ctegrow :\t0\n",
      "2025-05-07 20:32:38,986 - stpipe - INFO - \tdriz_cr_grow :\t1\n",
      "2025-05-07 20:32:38,986 - stpipe - INFO - \tdriz_cr_scale :\t1.2 0.7\n",
      "2025-05-07 20:32:38,986 - stpipe - INFO - \tdriz_cr_snr :\t3.5 3.0\n",
      "2025-05-07 20:32:38,987 - stpipe - INFO - \tinmemory :\tFalse\n",
      "2025-05-07 20:32:38,987 - stpipe - INFO - Executing 4 parallel workers\n",
      "2025-05-07 20:32:40,245 - stpipe - INFO - Creating output: /Users/avapolzin/Desktop/psf_testoutputs/acs/j8pu42ecq_flc_150d07m02.697s+2d08m40.507s_F475W_topsf_sci1_crmask.fits\n"
     ]
    },
    {
     "name": "stdout",
     "output_type": "stream",
     "text": [
      "Creating output: /Users/avapolzin/Desktop/psf_testoutputs/acs/j8pu42ecq_flc_150d07m02.697s+2d08m40.507s_F475W_topsf_sci1_crmask.fits\n"
     ]
    },
    {
     "name": "stderr",
     "output_type": "stream",
     "text": [
      "2025-05-07 20:32:40,261 - stpipe - INFO - Creating output: /Users/avapolzin/Desktop/psf_testoutputs/acs/j8pu42egq_flc_150d07m02.697s+2d08m40.507s_F475W_topsf_sci1_crmask.fits\n"
     ]
    },
    {
     "name": "stdout",
     "output_type": "stream",
     "text": [
      "Creating output: /Users/avapolzin/Desktop/psf_testoutputs/acs/j8pu42egq_flc_150d07m02.697s+2d08m40.507s_F475W_topsf_sci1_crmask.fits\n"
     ]
    },
    {
     "name": "stderr",
     "output_type": "stream",
     "text": [
      "2025-05-07 20:32:40,306 - stpipe - INFO - Creating output: /Users/avapolzin/Desktop/psf_testoutputs/acs/j8pu42evq_flc_150d07m02.697s+2d08m40.507s_F475W_topsf_sci1_crmask.fits\n"
     ]
    },
    {
     "name": "stdout",
     "output_type": "stream",
     "text": [
      "Creating output: /Users/avapolzin/Desktop/psf_testoutputs/acs/j8pu42evq_flc_150d07m02.697s+2d08m40.507s_F475W_topsf_sci1_crmask.fits\n"
     ]
    },
    {
     "name": "stderr",
     "output_type": "stream",
     "text": [
      "2025-05-07 20:32:40,314 - stpipe - INFO - Creating output: /Users/avapolzin/Desktop/psf_testoutputs/acs/j8pu42esq_flc_150d07m02.697s+2d08m40.507s_F475W_topsf_sci1_crmask.fits\n"
     ]
    },
    {
     "name": "stdout",
     "output_type": "stream",
     "text": [
      "Creating output: /Users/avapolzin/Desktop/psf_testoutputs/acs/j8pu42esq_flc_150d07m02.697s+2d08m40.507s_F475W_topsf_sci1_crmask.fits\n"
     ]
    },
    {
     "name": "stderr",
     "output_type": "stream",
     "text": [
      "2025-05-07 20:32:40,361 - stpipe - INFO - ==== Processing Step Driz_CR finished at 20:32:40.359 (07/05/2025)\n"
     ]
    },
    {
     "name": "stdout",
     "output_type": "stream",
     "text": [
      "==== Processing Step Driz_CR finished at 20:32:40.359 (07/05/2025)\n"
     ]
    },
    {
     "name": "stderr",
     "output_type": "stream",
     "text": [
      "2025-05-07 20:32:40,371 - stpipe - INFO - ==== Processing Step  Final Drizzle  started at  20:32:40.371 (07/05/2025)\n"
     ]
    },
    {
     "name": "stdout",
     "output_type": "stream",
     "text": [
      "==== Processing Step  Final Drizzle  started at  20:32:40.371 (07/05/2025)\n"
     ]
    },
    {
     "name": "stderr",
     "output_type": "stream",
     "text": [
      "2025-05-07 20:32:40,372 - stpipe - INFO - \n"
     ]
    },
    {
     "name": "stdout",
     "output_type": "stream",
     "text": [
      "\n"
     ]
    },
    {
     "name": "stderr",
     "output_type": "stream",
     "text": [
      "2025-05-07 20:32:40,373 - stpipe - INFO - Interpreted paramDict with single=False as:\n",
      "{'build': True, 'stepsize': 10, 'coeffs': True, 'wcskey': '', 'wht_type': 'EXP', 'kernel': 'square', 'wt_scl': 'exptime', 'pixfrac': 0.8, 'fillval': None, 'maskval': None, 'bits': 0, 'units': 'cps'}\n",
      "2025-05-07 20:32:40,373 - stpipe - INFO - USER INPUT PARAMETERS for Final Drizzle Step:\n",
      "2025-05-07 20:32:40,374 - stpipe - INFO - \tbits :\t0\n",
      "2025-05-07 20:32:40,374 - stpipe - INFO - \tbuild :\tTrue\n",
      "2025-05-07 20:32:40,375 - stpipe - INFO - \tclean :\tFalse\n",
      "2025-05-07 20:32:40,375 - stpipe - INFO - \tcoeffs :\tTrue\n",
      "2025-05-07 20:32:40,375 - stpipe - INFO - \tcrbit :\t4096\n",
      "2025-05-07 20:32:40,376 - stpipe - INFO - \tfillval :\tNone\n",
      "2025-05-07 20:32:40,376 - stpipe - INFO - \tkernel :\tsquare\n",
      "2025-05-07 20:32:40,377 - stpipe - INFO - \tlogfile :\tastrodrizzle.log\n",
      "2025-05-07 20:32:40,377 - stpipe - INFO - \tmaskval :\tNone\n",
      "2025-05-07 20:32:40,378 - stpipe - INFO - \tpixfrac :\t0.8\n",
      "2025-05-07 20:32:40,378 - stpipe - INFO - \tproc_unit :\tnative\n",
      "2025-05-07 20:32:40,378 - stpipe - INFO - \trules_file :\tNone\n",
      "2025-05-07 20:32:40,379 - stpipe - INFO - \tstepsize :\t10\n",
      "2025-05-07 20:32:40,379 - stpipe - INFO - \tunits :\tcps\n",
      "2025-05-07 20:32:40,380 - stpipe - INFO - \twcskey :\t\n",
      "2025-05-07 20:32:40,380 - stpipe - INFO - \twht_type :\tEXP\n",
      "2025-05-07 20:32:40,381 - stpipe - INFO - \twt_scl :\texptime\n",
      "2025-05-07 20:32:40,381 - stpipe - INFO -   **Using sub-sampling value of 10 for kernel square\n",
      "2025-05-07 20:32:40,383 - stpipe - INFO - Removing previous output product...\n",
      "2025-05-07 20:32:40,396 - stpipe - INFO - Running Drizzle to create output frame with WCS of: \n",
      "2025-05-07 20:32:40,396 - stpipe - INFO - WCS Keywords\n"
     ]
    },
    {
     "name": "stdout",
     "output_type": "stream",
     "text": [
      "WCS Keywords\n"
     ]
    },
    {
     "name": "stderr",
     "output_type": "stream",
     "text": [
      "2025-05-07 20:32:40,397 - stpipe - INFO - \n"
     ]
    },
    {
     "name": "stdout",
     "output_type": "stream",
     "text": [
      "\n"
     ]
    },
    {
     "name": "stderr",
     "output_type": "stream",
     "text": [
      "2025-05-07 20:32:40,398 - stpipe - INFO - Number of WCS axes: 2\n"
     ]
    },
    {
     "name": "stdout",
     "output_type": "stream",
     "text": [
      "Number of WCS axes: 2\n"
     ]
    },
    {
     "name": "stderr",
     "output_type": "stream",
     "text": [
      "2025-05-07 20:32:40,399 - stpipe - INFO - CTYPE : 'RA---TAN' 'DEC--TAN' \n"
     ]
    },
    {
     "name": "stdout",
     "output_type": "stream",
     "text": [
      "CTYPE : 'RA---TAN' 'DEC--TAN' \n"
     ]
    },
    {
     "name": "stderr",
     "output_type": "stream",
     "text": [
      "2025-05-07 20:32:40,400 - stpipe - INFO - CRVAL : np.float64(150.1242636198465) np.float64(2.151761555110333) \n"
     ]
    },
    {
     "name": "stdout",
     "output_type": "stream",
     "text": [
      "CRVAL : np.float64(150.1242636198465) np.float64(2.151761555110333) \n"
     ]
    },
    {
     "name": "stderr",
     "output_type": "stream",
     "text": [
      "2025-05-07 20:32:40,400 - stpipe - INFO - CRPIX : np.float64(2081.0) np.float64(1179.5) \n"
     ]
    },
    {
     "name": "stdout",
     "output_type": "stream",
     "text": [
      "CRPIX : np.float64(2081.0) np.float64(1179.5) \n"
     ]
    },
    {
     "name": "stderr",
     "output_type": "stream",
     "text": [
      "2025-05-07 20:32:40,401 - stpipe - INFO - CD1_1 CD1_2  : np.float64(-2.4118726301966414e-06) np.float64(-1.3677869168244357e-05) \n"
     ]
    },
    {
     "name": "stdout",
     "output_type": "stream",
     "text": [
      "CD1_1 CD1_2  : np.float64(-2.4118726301966414e-06) np.float64(-1.3677869168244357e-05) \n"
     ]
    },
    {
     "name": "stderr",
     "output_type": "stream",
     "text": [
      "2025-05-07 20:32:40,402 - stpipe - INFO - CD2_1 CD2_2  : np.float64(-1.3677869168244357e-05) np.float64(2.4118726301966414e-06) \n"
     ]
    },
    {
     "name": "stdout",
     "output_type": "stream",
     "text": [
      "CD2_1 CD2_2  : np.float64(-1.3677869168244357e-05) np.float64(2.4118726301966414e-06) \n"
     ]
    },
    {
     "name": "stderr",
     "output_type": "stream",
     "text": [
      "2025-05-07 20:32:40,403 - stpipe - INFO - NAXIS : 4162  2359\n"
     ]
    },
    {
     "name": "stdout",
     "output_type": "stream",
     "text": [
      "NAXIS : 4162  2359\n"
     ]
    },
    {
     "name": "stderr",
     "output_type": "stream",
     "text": [
      "2025-05-07 20:32:40,437 - stpipe - INFO - -Drizzle input: /Users/avapolzin/Desktop/psf_testoutputs/acs/j8pu42ecq_flc_150d07m02.697s+2d08m40.507s_F475W_topsf.fits[sci,1]\n",
      "2025-05-07 20:32:40,453 - stpipe - INFO - Applying sky value of 0.000000 to /Users/avapolzin/Desktop/psf_testoutputs/acs/j8pu42ecq_flc_150d07m02.697s+2d08m40.507s_F475W_topsf.fits[sci,1]\n",
      "2025-05-07 20:32:40,554 - stpipe - INFO - Applying EXPTIME weighting to DQ mask for chip 1\n",
      "2025-05-07 20:32:40,616 - stpipe - INFO - Writing out mask file: /Users/avapolzin/Desktop/psf_testoutputs/acs/j8pu42ecq_flc_150d07m02.697s+2d08m40.507s_F475W_topsf_sci1_final_mask.fits\n",
      "2025-05-07 20:32:40,616 - stpipe - INFO - Using WCSLIB-based coordinate transformation...\n",
      "2025-05-07 20:32:40,617 - stpipe - INFO - stepsize = 10\n",
      "2025-05-07 20:32:40,645 - stpipe - INFO - -Drizzling using kernel = square\n",
      "\n",
      "2025-05-07 20:32:41,798 - stpipe - INFO - -Drizzle input: /Users/avapolzin/Desktop/psf_testoutputs/acs/j8pu42egq_flc_150d07m02.697s+2d08m40.507s_F475W_topsf.fits[sci,1]\n",
      "2025-05-07 20:32:41,813 - stpipe - INFO - Applying sky value of 0.000000 to /Users/avapolzin/Desktop/psf_testoutputs/acs/j8pu42egq_flc_150d07m02.697s+2d08m40.507s_F475W_topsf.fits[sci,1]\n",
      "2025-05-07 20:32:41,877 - stpipe - INFO - Applying EXPTIME weighting to DQ mask for chip 1\n",
      "2025-05-07 20:32:41,905 - stpipe - INFO - Writing out mask file: /Users/avapolzin/Desktop/psf_testoutputs/acs/j8pu42egq_flc_150d07m02.697s+2d08m40.507s_F475W_topsf_sci1_final_mask.fits\n",
      "2025-05-07 20:32:41,906 - stpipe - INFO - Using WCSLIB-based coordinate transformation...\n",
      "2025-05-07 20:32:41,906 - stpipe - INFO - stepsize = 10\n",
      "2025-05-07 20:32:41,935 - stpipe - INFO - -Drizzling using kernel = square\n",
      "\n",
      "2025-05-07 20:32:43,088 - stpipe - INFO - -Drizzle input: /Users/avapolzin/Desktop/psf_testoutputs/acs/j8pu42esq_flc_150d07m02.697s+2d08m40.507s_F475W_topsf.fits[sci,1]\n",
      "2025-05-07 20:32:43,103 - stpipe - INFO - Applying sky value of 0.000000 to /Users/avapolzin/Desktop/psf_testoutputs/acs/j8pu42esq_flc_150d07m02.697s+2d08m40.507s_F475W_topsf.fits[sci,1]\n",
      "2025-05-07 20:32:43,168 - stpipe - INFO - Applying EXPTIME weighting to DQ mask for chip 1\n",
      "2025-05-07 20:32:43,195 - stpipe - INFO - Writing out mask file: /Users/avapolzin/Desktop/psf_testoutputs/acs/j8pu42esq_flc_150d07m02.697s+2d08m40.507s_F475W_topsf_sci1_final_mask.fits\n",
      "2025-05-07 20:32:43,195 - stpipe - INFO - Using WCSLIB-based coordinate transformation...\n",
      "2025-05-07 20:32:43,196 - stpipe - INFO - stepsize = 10\n",
      "2025-05-07 20:32:43,222 - stpipe - INFO - -Drizzling using kernel = square\n",
      "\n",
      "2025-05-07 20:32:44,357 - stpipe - INFO - -Drizzle input: /Users/avapolzin/Desktop/psf_testoutputs/acs/j8pu42evq_flc_150d07m02.697s+2d08m40.507s_F475W_topsf.fits[sci,1]\n",
      "2025-05-07 20:32:44,371 - stpipe - INFO - Applying sky value of 0.000000 to /Users/avapolzin/Desktop/psf_testoutputs/acs/j8pu42evq_flc_150d07m02.697s+2d08m40.507s_F475W_topsf.fits[sci,1]\n",
      "2025-05-07 20:32:44,432 - stpipe - INFO - Applying EXPTIME weighting to DQ mask for chip 1\n",
      "2025-05-07 20:32:44,459 - stpipe - INFO - Writing out mask file: /Users/avapolzin/Desktop/psf_testoutputs/acs/j8pu42evq_flc_150d07m02.697s+2d08m40.507s_F475W_topsf_sci1_final_mask.fits\n",
      "2025-05-07 20:32:44,460 - stpipe - INFO - Using WCSLIB-based coordinate transformation...\n",
      "2025-05-07 20:32:44,460 - stpipe - INFO - stepsize = 10\n",
      "2025-05-07 20:32:44,485 - stpipe - INFO - -Drizzling using kernel = square\n",
      "\n",
      "2025-05-07 20:32:46,013 - stpipe - INFO - -Generating multi-extension output file:  final_drz.fits\n"
     ]
    },
    {
     "name": "stdout",
     "output_type": "stream",
     "text": [
      "-Generating multi-extension output file:  final_drz.fits\n"
     ]
    },
    {
     "name": "stderr",
     "output_type": "stream",
     "text": [
      "2025-05-07 20:32:46,027 - stpipe - INFO - Deleted all instances of WCS with key A in extensions [1]\n"
     ]
    },
    {
     "name": "stdout",
     "output_type": "stream",
     "text": [
      "Deleted all instances of WCS with key A in extensions [1]\n"
     ]
    },
    {
     "name": "stderr",
     "output_type": "stream",
     "text": [
      "2025-05-07 20:32:46,033 - stpipe - INFO - Writing out to disk: final_drz.fits\n"
     ]
    },
    {
     "name": "stdout",
     "output_type": "stream",
     "text": [
      "Writing out to disk: final_drz.fits\n"
     ]
    },
    {
     "name": "stderr",
     "output_type": "stream",
     "text": [
      "2025-05-07 20:32:46,036 - stpipe - WARNING - /Users/avapolzin/opt/anaconda3/envs/spike/lib/python3.10/site-packages/astropy/io/fits/card.py:1036: VerifyWarning: Card is too long, comment will be truncated.\n",
      "\n",
      "2025-05-07 20:32:46,191 - stpipe - INFO - ==== Processing Step Final Drizzle finished at 20:32:46.191 (07/05/2025)\n"
     ]
    },
    {
     "name": "stdout",
     "output_type": "stream",
     "text": [
      "==== Processing Step Final Drizzle finished at 20:32:46.191 (07/05/2025)\n"
     ]
    },
    {
     "name": "stderr",
     "output_type": "stream",
     "text": [
      "2025-05-07 20:32:46,192 - stpipe - INFO - \n"
     ]
    },
    {
     "name": "stdout",
     "output_type": "stream",
     "text": [
      "\n"
     ]
    },
    {
     "name": "stderr",
     "output_type": "stream",
     "text": [
      "2025-05-07 20:32:46,193 - stpipe - INFO - AstroDrizzle Version 3.7.1rc1.dev56+g7951b66 is finished processing at 20:32:46.193 (07/05/2025).\n"
     ]
    },
    {
     "name": "stdout",
     "output_type": "stream",
     "text": [
      "AstroDrizzle Version 3.7.1rc1.dev56+g7951b66 is finished processing at 20:32:46.193 (07/05/2025).\n"
     ]
    },
    {
     "name": "stderr",
     "output_type": "stream",
     "text": [
      "2025-05-07 20:32:46,194 - stpipe - INFO - \n"
     ]
    },
    {
     "name": "stdout",
     "output_type": "stream",
     "text": [
      "\n"
     ]
    },
    {
     "name": "stderr",
     "output_type": "stream",
     "text": [
      "2025-05-07 20:32:46,195 - stpipe - INFO - \n"
     ]
    },
    {
     "name": "stdout",
     "output_type": "stream",
     "text": [
      "\n"
     ]
    },
    {
     "name": "stderr",
     "output_type": "stream",
     "text": [
      "2025-05-07 20:32:46,196 - stpipe - INFO - \n"
     ]
    },
    {
     "name": "stdout",
     "output_type": "stream",
     "text": [
      "\n"
     ]
    },
    {
     "name": "stderr",
     "output_type": "stream",
     "text": [
      "2025-05-07 20:32:46,197 - stpipe - INFO -    --------------------          --------------------\n"
     ]
    },
    {
     "name": "stdout",
     "output_type": "stream",
     "text": [
      "   --------------------          --------------------\n"
     ]
    },
    {
     "name": "stderr",
     "output_type": "stream",
     "text": [
      "2025-05-07 20:32:46,198 - stpipe - INFO -                    Step          Elapsed time\n"
     ]
    },
    {
     "name": "stdout",
     "output_type": "stream",
     "text": [
      "                   Step          Elapsed time\n"
     ]
    },
    {
     "name": "stderr",
     "output_type": "stream",
     "text": [
      "2025-05-07 20:32:46,199 - stpipe - INFO -    --------------------          --------------------\n"
     ]
    },
    {
     "name": "stdout",
     "output_type": "stream",
     "text": [
      "   --------------------          --------------------\n"
     ]
    },
    {
     "name": "stderr",
     "output_type": "stream",
     "text": [
      "2025-05-07 20:32:46,200 - stpipe - INFO - \n"
     ]
    },
    {
     "name": "stdout",
     "output_type": "stream",
     "text": [
      "\n"
     ]
    },
    {
     "name": "stderr",
     "output_type": "stream",
     "text": [
      "2025-05-07 20:32:46,200 - stpipe - INFO -          Initialization          0.7534 sec.\n"
     ]
    },
    {
     "name": "stdout",
     "output_type": "stream",
     "text": [
      "         Initialization          0.7534 sec.\n"
     ]
    },
    {
     "name": "stderr",
     "output_type": "stream",
     "text": [
      "2025-05-07 20:32:46,201 - stpipe - INFO -             Static Mask          0.0029 sec.\n"
     ]
    },
    {
     "name": "stdout",
     "output_type": "stream",
     "text": [
      "            Static Mask          0.0029 sec.\n"
     ]
    },
    {
     "name": "stderr",
     "output_type": "stream",
     "text": [
      "2025-05-07 20:32:46,202 - stpipe - INFO -            Subtract Sky          1.2813 sec.\n"
     ]
    },
    {
     "name": "stdout",
     "output_type": "stream",
     "text": [
      "           Subtract Sky          1.2813 sec.\n"
     ]
    },
    {
     "name": "stderr",
     "output_type": "stream",
     "text": [
      "2025-05-07 20:32:46,203 - stpipe - INFO -        Separate Drizzle          1.2033 sec.\n"
     ]
    },
    {
     "name": "stdout",
     "output_type": "stream",
     "text": [
      "       Separate Drizzle          1.2033 sec.\n"
     ]
    },
    {
     "name": "stderr",
     "output_type": "stream",
     "text": [
      "2025-05-07 20:32:46,204 - stpipe - INFO -           Create Median          1.5226 sec.\n"
     ]
    },
    {
     "name": "stdout",
     "output_type": "stream",
     "text": [
      "          Create Median          1.5226 sec.\n"
     ]
    },
    {
     "name": "stderr",
     "output_type": "stream",
     "text": [
      "2025-05-07 20:32:46,205 - stpipe - INFO -                    Blot          3.5990 sec.\n"
     ]
    },
    {
     "name": "stdout",
     "output_type": "stream",
     "text": [
      "                   Blot          3.5990 sec.\n"
     ]
    },
    {
     "name": "stderr",
     "output_type": "stream",
     "text": [
      "2025-05-07 20:32:46,206 - stpipe - INFO -                 Driz_CR          1.3775 sec.\n"
     ]
    },
    {
     "name": "stdout",
     "output_type": "stream",
     "text": [
      "                Driz_CR          1.3775 sec.\n"
     ]
    },
    {
     "name": "stderr",
     "output_type": "stream",
     "text": [
      "2025-05-07 20:32:46,207 - stpipe - INFO -           Final Drizzle          5.8202 sec.\n"
     ]
    },
    {
     "name": "stdout",
     "output_type": "stream",
     "text": [
      "          Final Drizzle          5.8202 sec.\n"
     ]
    },
    {
     "name": "stderr",
     "output_type": "stream",
     "text": [
      "2025-05-07 20:32:46,208 - stpipe - INFO -    ====================          ====================\n"
     ]
    },
    {
     "name": "stdout",
     "output_type": "stream",
     "text": [
      "   ====================          ====================\n"
     ]
    },
    {
     "name": "stderr",
     "output_type": "stream",
     "text": [
      "2025-05-07 20:32:46,209 - stpipe - INFO -                   Total          15.5602 sec.\n"
     ]
    },
    {
     "name": "stdout",
     "output_type": "stream",
     "text": [
      "                  Total          15.5602 sec.\n"
     ]
    },
    {
     "name": "stderr",
     "output_type": "stream",
     "text": [
      "2025-05-07 20:32:46,210 - stpipe - INFO - \n"
     ]
    },
    {
     "name": "stdout",
     "output_type": "stream",
     "text": [
      "\n"
     ]
    },
    {
     "name": "stderr",
     "output_type": "stream",
     "text": [
      "2025-05-07 20:32:46,219 - stpipe - INFO - Trailer file written to:  astrodrizzle.log\n"
     ]
    },
    {
     "name": "stdout",
     "output_type": "stream",
     "text": [
      "Trailer file written to:  astrodrizzle.log\n"
     ]
    },
    {
     "ename": "Exception",
     "evalue": "No co-added/resampled output files created. Check your input path, coordinates and the output of the PSF generation steps.",
     "output_type": "error",
     "traceback": [
      "\u001b[0;31m---------------------------------------------------------------------------\u001b[0m",
      "\u001b[0;31mException\u001b[0m                                 Traceback (most recent call last)",
      "Cell \u001b[0;32mIn[4], line 3\u001b[0m\n\u001b[1;32m      1\u001b[0m obj \u001b[38;5;241m=\u001b[39m [\u001b[38;5;124m'\u001b[39m\u001b[38;5;124m10:00:33.0178 +02:09:52.304\u001b[39m\u001b[38;5;124m'\u001b[39m, \u001b[38;5;124m'\u001b[39m\u001b[38;5;124m10:00:28.1798 +02:08:40.507\u001b[39m\u001b[38;5;124m'\u001b[39m]\n\u001b[0;32m----> 3\u001b[0m dpsf \u001b[38;5;241m=\u001b[39m \u001b[43mhst\u001b[49m\u001b[43m(\u001b[49m\u001b[43mimg_dir\u001b[49m\u001b[43m \u001b[49m\u001b[38;5;241;43m=\u001b[39;49m\u001b[43m \u001b[49m\u001b[43mdatapath\u001b[49m\u001b[43m,\u001b[49m\u001b[43m \u001b[49m\u001b[43mobj\u001b[49m\u001b[43m \u001b[49m\u001b[38;5;241;43m=\u001b[39;49m\u001b[43m \u001b[49m\u001b[43mobj\u001b[49m\u001b[43m,\u001b[49m\u001b[43m \u001b[49m\u001b[43mimg_type\u001b[49m\u001b[43m \u001b[49m\u001b[38;5;241;43m=\u001b[39;49m\u001b[43m \u001b[49m\u001b[38;5;124;43m'\u001b[39;49m\u001b[38;5;124;43mflc\u001b[39;49m\u001b[38;5;124;43m'\u001b[39;49m\u001b[43m,\u001b[49m\u001b[43m \u001b[49m\u001b[43minst\u001b[49m\u001b[43m \u001b[49m\u001b[38;5;241;43m=\u001b[39;49m\u001b[43m \u001b[49m\u001b[38;5;124;43m'\u001b[39;49m\u001b[38;5;124;43mACS\u001b[39;49m\u001b[38;5;124;43m'\u001b[39;49m\u001b[43m,\u001b[49m\u001b[43m \u001b[49m\u001b[43mcamera\u001b[49m\u001b[43m \u001b[49m\u001b[38;5;241;43m=\u001b[39;49m\u001b[43m \u001b[49m\u001b[38;5;124;43m'\u001b[39;49m\u001b[38;5;124;43mWFC\u001b[39;49m\u001b[38;5;124;43m'\u001b[39;49m\u001b[43m,\u001b[49m\u001b[43m \u001b[49m\u001b[43msavedir\u001b[49m\u001b[43m \u001b[49m\u001b[38;5;241;43m=\u001b[39;49m\u001b[43m \u001b[49m\u001b[43moutputpath\u001b[49m\u001b[43m,\u001b[49m\u001b[43m \u001b[49m\u001b[43mpretweaked\u001b[49m\u001b[43m \u001b[49m\u001b[38;5;241;43m=\u001b[39;49m\u001b[43m \u001b[49m\u001b[38;5;28;43;01mTrue\u001b[39;49;00m\u001b[43m)\u001b[49m\n",
      "File \u001b[0;32m~/opt/anaconda3/envs/spike/lib/python3.10/site-packages/spike/psf/psf.py:268\u001b[0m, in \u001b[0;36mhst\u001b[0;34m(img_dir, obj, img_type, inst, camera, method, usermethod, savedir, drizzleimgs, pretweaked, keeporig, plot, verbose, parallel, out, tweakparams, drizzleparams, returnpsf, cutout_fov, savecutout, **kwargs)\u001b[0m\n\u001b[1;32m    264\u001b[0m drzs \u001b[38;5;241m=\u001b[39m np\u001b[38;5;241m.\u001b[39mconcatenate((\u001b[38;5;28msorted\u001b[39m(glob\u001b[38;5;241m.\u001b[39mglob(\u001b[38;5;124m'\u001b[39m\u001b[38;5;132;01m%s\u001b[39;00m\u001b[38;5;124m*_drc.fits\u001b[39m\u001b[38;5;124m'\u001b[39m\u001b[38;5;241m%\u001b[39mimg_dir)), \n\u001b[1;32m    265\u001b[0m \t\u001b[38;5;28msorted\u001b[39m(glob\u001b[38;5;241m.\u001b[39mglob(\u001b[38;5;124m'\u001b[39m\u001b[38;5;132;01m%s\u001b[39;00m\u001b[38;5;124m*_drz.fits\u001b[39m\u001b[38;5;124m'\u001b[39m\u001b[38;5;241m%\u001b[39mimg_dir)), \u001b[38;5;28msorted\u001b[39m(glob\u001b[38;5;241m.\u001b[39mglob(\u001b[38;5;124m'\u001b[39m\u001b[38;5;132;01m%s\u001b[39;00m\u001b[38;5;124m*_mos.fits\u001b[39m\u001b[38;5;124m'\u001b[39m\u001b[38;5;241m%\u001b[39mimg_dir))))\n\u001b[1;32m    267\u001b[0m \u001b[38;5;28;01mif\u001b[39;00m \u001b[38;5;28mlen\u001b[39m(drzs) \u001b[38;5;241m==\u001b[39m \u001b[38;5;241m0\u001b[39m:\n\u001b[0;32m--> 268\u001b[0m \t\u001b[38;5;28;01mraise\u001b[39;00m \u001b[38;5;167;01mException\u001b[39;00m(\u001b[38;5;124m'\u001b[39m\u001b[38;5;124mNo co-added/resampled output files created. Check your input path, coordinates and the output of the PSF generation steps.\u001b[39m\u001b[38;5;124m'\u001b[39m)\n\u001b[1;32m    270\u001b[0m \u001b[38;5;28;01mfor\u001b[39;00m dr \u001b[38;5;129;01min\u001b[39;00m drzs: \u001b[38;5;66;03m#rename drizzled outputs to something more manageable\u001b[39;00m\n\u001b[1;32m    271\u001b[0m \tflist \u001b[38;5;241m=\u001b[39m dr\u001b[38;5;241m.\u001b[39msplit(\u001b[38;5;124m'\u001b[39m\u001b[38;5;124m_\u001b[39m\u001b[38;5;124m'\u001b[39m)\n",
      "\u001b[0;31mException\u001b[0m: No co-added/resampled output files created. Check your input path, coordinates and the output of the PSF generation steps."
     ]
    }
   ],
   "source": [
    "obj = ['10:00:33.0178 +02:09:52.304', '10:00:28.1798 +02:08:40.507']\n",
    "\n",
    "dpsf = hst(img_dir = datapath, obj = obj, img_type = 'flc', inst = 'ACS', camera = 'WFC', savedir = outputpath, pretweaked = True)"
   ]
  },
  {
   "cell_type": "code",
   "execution_count": 5,
   "id": "1b4543e1-1228-493c-bb6e-8678cd6e59bc",
   "metadata": {},
   "outputs": [
    {
     "ename": "NameError",
     "evalue": "name 'dpsf' is not defined",
     "output_type": "error",
     "traceback": [
      "\u001b[0;31m---------------------------------------------------------------------------\u001b[0m",
      "\u001b[0;31mNameError\u001b[0m                                 Traceback (most recent call last)",
      "Cell \u001b[0;32mIn[5], line 1\u001b[0m\n\u001b[0;32m----> 1\u001b[0m \u001b[43mdpsf\u001b[49m\n",
      "\u001b[0;31mNameError\u001b[0m: name 'dpsf' is not defined"
     ]
    }
   ],
   "source": [
    "dpsf"
   ]
  },
  {
   "cell_type": "markdown",
   "id": "36ea0019-54c5-4ced-9544-cc10e20a36e6",
   "metadata": {},
   "source": [
    "One advantage of `spike` is that it can be used flexibly with a variety of different PSF generation methods -- to change which one is used, simply use the 'method' argument. Built-in options are:\n",
    "- 'TinyTim’\n",
    "- ‘TinyTim_Gillis’\n",
    "- ‘STDPSF’\n",
    "- ‘epsf’\n",
    "- ‘PSFEx’\n",
    "\n",
    "If `method = 'USER'`, then the keyword argument 'usermethod' must also be specified, pointing to either a function or a directory that houses model PSFs that follow the \\[imgprefix]\\_\\[coords]\\_\\[band]\\_psf.fits, e.g., imgprefix_23.31+30.12_F814W_psf.fits or imgprefix_195.78-46.52_F555W_psf.fits naming scheme.\n",
    "\n",
    "We'll use STDPSFs below and have `spike` output cutouts around the PSFs."
   ]
  },
  {
   "cell_type": "code",
   "execution_count": null,
   "id": "f34f3665-39e6-490e-b111-baa637f9e7f5",
   "metadata": {},
   "outputs": [],
   "source": []
  },
  {
   "cell_type": "code",
   "execution_count": null,
   "id": "f712962c-7d1a-4ffe-8cb4-9f47cfc9383c",
   "metadata": {},
   "outputs": [],
   "source": []
  },
  {
   "cell_type": "markdown",
   "id": "cd2df098-9285-498f-b429-b9a3d90a21d6",
   "metadata": {},
   "source": [
    "`spike` can handle most plotting automatically and generates PSFs regardless of whether they are plotted. In most cases, `spike` is the only package you'll actually need to both create and visualize your PSFs."
   ]
  }
 ],
 "metadata": {
  "kernelspec": {
   "display_name": "Python 3 (ipykernel)",
   "language": "python",
   "name": "python3"
  },
  "language_info": {
   "codemirror_mode": {
    "name": "ipython",
    "version": 3
   },
   "file_extension": ".py",
   "mimetype": "text/x-python",
   "name": "python",
   "nbconvert_exporter": "python",
   "pygments_lexer": "ipython3",
   "version": "3.10.16"
  }
 },
 "nbformat": 4,
 "nbformat_minor": 5
}
