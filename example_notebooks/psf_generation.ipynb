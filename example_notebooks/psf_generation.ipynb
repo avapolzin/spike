{
 "cells": [
  {
   "cell_type": "markdown",
   "id": "9110cd39-2216-4d42-bc56-e9ae4bcb39d6",
   "metadata": {},
   "source": [
    "# Generating Generic PSFs with `spike`\n",
    "\n",
    "Some of the utility of `spike` is baked into the fact that it creates PSFs for individual images/coordinates using the consistent syntax across a variety of different PSF generation methods. Even outside of cases where a drizzled/resampled PSF would be useful, these image-specific PSFs can be generated quickly and easily.\n",
    "\n",
    "This example notebook assumes that you have all of the optional PSF generation dependencies installed -- i.e., `TinyTim`, `PSFEx` (and `SExtractor`), and `WebbPSF`. It uses the following _HST_ and _JWST_ files (also used in generating the Polzin 2025 figures and in the other example notebooks):\n",
    "- j8pu42ecq_flc.fits (_HST_/ACS; observation ID j8pu42010)\n",
    "- jw02514162001_03201_00001_nrca2_cal.fits (_JWST_/NIRCam; observation ID jw02514162001_03201_00001_nrca2)\n",
    "\n",
    "Other than using paths for these data, the syntax is generic and servers as a guide for use with other data."
   ]
  },
  {
   "cell_type": "code",
   "execution_count": 1,
   "id": "37291a09-fb94-4454-a61b-dc1fc29084dc",
   "metadata": {},
   "outputs": [],
   "source": [
    "from spike import psfgen\n",
    "from spike.tools import objloc, checkpixloc"
   ]
  },
  {
   "cell_type": "code",
   "execution_count": null,
   "id": "86ef8b10-e2e2-45dd-bae4-a93e089b2103",
   "metadata": {},
   "outputs": [],
   "source": []
  }
 ],
 "metadata": {
  "kernelspec": {
   "display_name": "spike",
   "language": "python",
   "name": "spike"
  },
  "language_info": {
   "codemirror_mode": {
    "name": "ipython",
    "version": 3
   },
   "file_extension": ".py",
   "mimetype": "text/x-python",
   "name": "python",
   "nbconvert_exporter": "python",
   "pygments_lexer": "ipython3",
   "version": "3.10.16"
  }
 },
 "nbformat": 4,
 "nbformat_minor": 5
}
