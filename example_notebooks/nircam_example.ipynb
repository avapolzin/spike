{
 "cells": [
  {
   "cell_type": "markdown",
   "id": "1050e161-d898-4982-8761-89af229f7512",
   "metadata": {},
   "source": [
    "# Resampled PSFs from _JWST_/NIRCam Imaging\n",
    "\n",
    "This example notebook shows how `spike` interacts with _JWST_/NIRCam imaging to generate a resampled PSF. This notebook uses observations the following files:\n",
    "- jw02514162001_03201_00001_nrca2_cal.fits\n",
    "- jw02514162001_03201_00002_nrca2_cal.fits\n",
    "- jw02514162001_03201_00003_nrca2_cal.fits\n",
    "\n",
    "The easiest way to find these data in the MAST archive is by searching for observation IDs jw02514162001_03201_00001_nrca2, jw02514162001_03201_00002_nrca2, jw02514162001_03201_00003_nrca2. `spike` uses calibrated, but not-yet co-added images (i.e., \"Level 2\" data products), so be sure that your download includes 'cal' files."
   ]
  },
  {
   "cell_type": "code",
   "execution_count": 1,
   "id": "f5194ab3-0d15-4cb5-9fc7-d04443b26d4e",
   "metadata": {},
   "outputs": [],
   "source": [
    "from spike.psf import jwst # import the relevant top-level module from spike\n",
    "\n",
    "datapath = '' #'/path/to/nircam/data'"
   ]
  },
  {
   "cell_type": "markdown",
   "id": "ee7c4956-17aa-4bba-b5c5-3eabcd0f2760",
   "metadata": {},
   "source": [
    "\n",
    "The outputs are very long due to all of the print statements from the tweak, PSF generation, and drizzling steps. Outputs have been cleared for cells where `spike.psf.jwst` was run."
   ]
  }
 ],
 "metadata": {
  "kernelspec": {
   "display_name": "spike",
   "language": "python",
   "name": "spike"
  },
  "language_info": {
   "codemirror_mode": {
    "name": "ipython",
    "version": 3
   },
   "file_extension": ".py",
   "mimetype": "text/x-python",
   "name": "python",
   "nbconvert_exporter": "python",
   "pygments_lexer": "ipython3",
   "version": "3.10.16"
  }
 },
 "nbformat": 4,
 "nbformat_minor": 5
}
